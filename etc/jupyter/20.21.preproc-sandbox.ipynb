{
 "cells": [
  {
   "cell_type": "code",
   "execution_count": 1,
   "metadata": {},
   "outputs": [],
   "source": [
    "%load_ext autoreload\n",
    "%autoreload 2"
   ]
  },
  {
   "cell_type": "code",
   "execution_count": 2,
   "metadata": {},
   "outputs": [],
   "source": [
    "from import_casa import casa"
   ]
  },
  {
   "cell_type": "code",
   "execution_count": 3,
   "metadata": {},
   "outputs": [],
   "source": [
    "import pickle\n",
    "with (casa.get_data_path()/\"eda/spaCy_pipeline/raw-data-cht-2020-ppline.pkl\").open(\"rb\") as fin:\n",
    "    threads = pickle.load(fin)"
   ]
  },
  {
   "cell_type": "code",
   "execution_count": 4,
   "metadata": {},
   "outputs": [],
   "source": [
    "op = threads[0].main"
   ]
  },
  {
   "cell_type": "code",
   "execution_count": 5,
   "metadata": {},
   "outputs": [
    {
     "data": {
      "text/plain": [
       "[]"
      ]
     },
     "execution_count": 5,
     "metadata": {},
     "output_type": "execute_result"
    }
   ],
   "source": [
    "import re\n",
    "re.findall(r\"\\[(\\w+)=(.*?)\\]\", \"asd\")"
   ]
  },
  {
   "cell_type": "code",
   "execution_count": null,
   "metadata": {},
   "outputs": [],
   "source": []
  },
  {
   "cell_type": "code",
   "execution_count": 6,
   "metadata": {},
   "outputs": [
    {
     "data": {
      "text/plain": [
       "[<PatToken: {'word': '可以'}>,\n",
       " <PatToken: {'word': '再'}>,\n",
       " <PatToken: {'pos': 'V.'}>,\n",
       " <PatToken: {'word': '一點'}>]"
      ]
     },
     "execution_count": 6,
     "metadata": {},
     "output_type": "execute_result"
    }
   ],
   "source": [
    "casa.make_pat_tokens(\"可以/再/[pos=V.]/一點\")"
   ]
  },
  {
   "cell_type": "code",
   "execution_count": 9,
   "metadata": {},
   "outputs": [],
   "source": [
    "class MatchPatternMapper:\n",
    "    def __init__(self, pattern):\n",
    "        self.pat_tokens = casa.make_pat_tokens(pattern)\n",
    "        \n",
    "    \n",
    "    def map(self, opinion):\n",
    "        tree = opinion.title_tree or opinion.text_tree\n",
    "        if not tree:\n",
    "            return None\n",
    "        \n",
    "        tree_cursor = 0\n",
    "        matched_list = []\n",
    "        while tree_cursor < len(tree):\n",
    "            matched = []\n",
    "            full_matched = True\n",
    "            for pat in self.pat_tokens:\n",
    "                if tree_cursor >= len(tree):\n",
    "                    full_matched = False\n",
    "                    break\n",
    "                \n",
    "                tok = tree[tree_cursor]\n",
    "                if not pat.match(tok):\n",
    "                    tree_cursor += 1\n",
    "                    full_matched = False\n",
    "                    break\n",
    "                else:\n",
    "                    matched.append(tok)\n",
    "                    tree_cursor += 1\n",
    "                # match the full pattern\n",
    "            if full_matched:\n",
    "                matched_list.append(matched)\n",
    "                \n",
    "        return matched_list                "
   ]
  },
  {
   "cell_type": "code",
   "execution_count": 15,
   "metadata": {},
   "outputs": [
    {
     "data": {
      "application/vnd.jupyter.widget-view+json": {
       "model_id": "a35e4d2330fc4c0693be350ba4de37ce",
       "version_major": 2,
       "version_minor": 0
      },
      "text/plain": [
       "HBox(children=(HTML(value=''), FloatProgress(value=1.0, bar_style='info', layout=Layout(width='20px'), max=1.0…"
      ]
     },
     "metadata": {},
     "output_type": "display_data"
    },
    {
     "name": "stdout",
     "output_type": "stream",
     "text": [
      "\n"
     ]
    }
   ],
   "source": [
    "from tqdm.auto import tqdm\n",
    "proc = MatchPatternMapper(\"可以/再/[pos=VERB]/一點\")\n",
    "matched_list = []\n",
    "for thread_i, thread_x in tqdm(enumerate(threads)):\n",
    "    res = thread_x.map(proc)\n",
    "    if res:\n",
    "        matched_list.append((thread_i, res))"
   ]
  },
  {
   "cell_type": "code",
   "execution_count": 16,
   "metadata": {},
   "outputs": [
    {
     "data": {
      "text/plain": [
       "[(4296,\n",
       "  {'replies': {1: [[('可以', 'VERB', 'aux:modal', '出低', 3),\n",
       "      ('再', 'ADV', 'advmod', '出低', 3),\n",
       "      ('出低', 'VERB', 'ROOT', '出低', 3),\n",
       "      ('一點', 'NOUN', 'dep', '的', 5)]]}})]"
      ]
     },
     "execution_count": 16,
     "metadata": {},
     "output_type": "execute_result"
    }
   ],
   "source": [
    "matched_list"
   ]
  },
  {
   "cell_type": "code",
   "execution_count": 17,
   "metadata": {},
   "outputs": [
    {
     "data": {
      "text/plain": [
       "'費率可以再出低一點的嗎 599-799的 跪求～～好想換手機'"
      ]
     },
     "execution_count": 17,
     "metadata": {},
     "output_type": "execute_result"
    }
   ],
   "source": [
    "threads[4296].replies[1].text"
   ]
  },
  {
   "cell_type": "code",
   "execution_count": 18,
   "metadata": {},
   "outputs": [
    {
     "data": {
      "application/vnd.jupyter.widget-view+json": {
       "model_id": "544f291ce8c542afaed8fe778ac3495f",
       "version_major": 2,
       "version_minor": 0
      },
      "text/plain": [
       "HBox(children=(HTML(value=''), FloatProgress(value=1.0, bar_style='info', layout=Layout(width='20px'), max=1.0…"
      ]
     },
     "metadata": {},
     "output_type": "display_data"
    },
    {
     "name": "stdout",
     "output_type": "stream",
     "text": [
      "\n"
     ]
    }
   ],
   "source": [
    "proc = MatchPatternMapper(\"有夠/[pos=VERB]/的\")\n",
    "matched_list = []\n",
    "for thread_i, thread_x in tqdm(enumerate(threads)):\n",
    "    res = thread_x.map(proc)\n",
    "    if res:\n",
    "        matched_list.append((thread_i, res))"
   ]
  },
  {
   "cell_type": "code",
   "execution_count": 20,
   "metadata": {},
   "outputs": [
    {
     "data": {
      "text/plain": [
       "[(0,\n",
       "  {'main': [[('有夠', 'ADV', 'advmod', '煩', 13),\n",
       "     ('煩', 'VERB', 'dep', '合約', 17),\n",
       "     ('的', 'PART', 'mark', '煩', 13)]]}),\n",
       " (1756,\n",
       "  {'replies': {1: [[('有夠', 'VERB', 'advmod', '可笑', 30),\n",
       "      ('可笑', 'VERB', 'amod', ' 媽的', 32),\n",
       "      ('的', 'PART', 'mark', '可笑', 30)]]}}),\n",
       " (2731,\n",
       "  {'replies': {8: [[('有夠', 'ADV', 'advmod', '混', 4),\n",
       "      ('混', 'VERB', 'dep', '要', 8),\n",
       "      ('的', 'PART', 'mark', '混', 4)]]}}),\n",
       " (3904,\n",
       "  {'replies': {2: [[('有夠', 'ADV', 'amod', '爛', 7),\n",
       "      ('爛', 'VERB', 'dobj', '用', 0),\n",
       "      ('的', 'PART', 'mark', '爛', 7)]]}}),\n",
       " (3926,\n",
       "  {'replies': {2: [[('有夠', 'ADV', 'advmod', '伸手', 1),\n",
       "      ('伸手', 'VERB', 'acl', '想法', 6),\n",
       "      ('的', 'PART', 'mark', '伸手', 1)]]}}),\n",
       " (5230,\n",
       "  {'replies': {12: [[('有夠', 'ADV', 'advmod', '吹', 2),\n",
       "      ('吹', 'VERB', 'ROOT', '吹', 2),\n",
       "      ('的', 'PART', 'mark', '吹', 2)]]}}),\n",
       " (5370,\n",
       "  {'main': [[('有夠', 'VERB', 'advmod', '爛', 36),\n",
       "     ('爛', 'VERB', 'nmod:assmod', '爛', 38),\n",
       "     ('的', 'PART', 'case', '爛', 36)]]}),\n",
       " (6003,\n",
       "  {'replies': {12: [[('有夠', 'ADV', 'advmod', '吹', 2),\n",
       "      ('吹', 'VERB', 'ROOT', '吹', 2),\n",
       "      ('的', 'PART', 'mark', '吹', 2)]]}}),\n",
       " (6596,\n",
       "  {'replies': {12: [[('有夠', 'ADV', 'advmod', '吹', 2),\n",
       "      ('吹', 'VERB', 'ROOT', '吹', 2),\n",
       "      ('的', 'PART', 'mark', '吹', 2)]]}}),\n",
       " (7095,\n",
       "  {'main': [[('有夠', 'ADV', 'advmod', '杜濫', 878),\n",
       "     ('杜濫', 'VERB', 'dep', '就', 876),\n",
       "     ('的', 'PART', 'mark', '杜濫', 878)]]})]"
      ]
     },
     "execution_count": 20,
     "metadata": {},
     "output_type": "execute_result"
    }
   ],
   "source": [
    "matched_list"
   ]
  },
  {
   "cell_type": "code",
   "execution_count": null,
   "metadata": {},
   "outputs": [],
   "source": []
  }
 ],
 "metadata": {
  "kernelspec": {
   "display_name": "Python 3",
   "language": "python",
   "name": "python3"
  },
  "language_info": {
   "codemirror_mode": {
    "name": "ipython",
    "version": 3
   },
   "file_extension": ".py",
   "mimetype": "text/x-python",
   "name": "python",
   "nbconvert_exporter": "python",
   "pygments_lexer": "ipython3",
   "version": "3.7.4"
  }
 },
 "nbformat": 4,
 "nbformat_minor": 4
}

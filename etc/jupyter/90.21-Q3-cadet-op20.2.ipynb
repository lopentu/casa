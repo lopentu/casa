{
 "cells": [
  {
   "cell_type": "code",
   "execution_count": 1,
   "metadata": {},
   "outputs": [],
   "source": [
    "%load_ext autoreload\n",
    "%autoreload 2"
   ]
  },
  {
   "cell_type": "code",
   "execution_count": 2,
   "metadata": {},
   "outputs": [],
   "source": [
    "from import_casa import casa\n",
    "from casa import Cadet"
   ]
  },
  {
   "cell_type": "code",
   "execution_count": 3,
   "metadata": {},
   "outputs": [
    {
     "name": "stderr",
     "output_type": "stream",
     "text": [
      "[INFO] 2021-07-19 11:27:51,386 gensim.utils: loading KeyedVectors object from E:\\LangOn\\casa\\data\\cadet\\op20.2\\ft-2020.kv\n",
      "[INFO] 2021-07-19 11:27:52,370 gensim.utils: setting ignored attribute vectors_norm to None\n",
      "[INFO] 2021-07-19 11:27:52,371 gensim.utils: setting ignored attribute vectors_vocab_norm to None\n",
      "[INFO] 2021-07-19 11:27:52,372 gensim.utils: setting ignored attribute vectors_ngrams_norm to None\n",
      "[INFO] 2021-07-19 11:27:52,372 gensim.utils: setting ignored attribute buckets_word to None\n",
      "[INFO] 2021-07-19 11:27:52,491 gensim.utils: FastTextKeyedVectors lifecycle event {'fname': 'E:\\\\LangOn\\\\casa\\\\data\\\\cadet\\\\op20.2\\\\ft-2020.kv', 'datetime': '2021-07-19T11:27:52.491415', 'gensim': '4.0.0', 'python': '3.8.2 (tags/v3.8.2:7b3ab59, Feb 25 2020, 23:03:10) [MSC v.1916 64 bit (AMD64)]', 'platform': 'Windows-10-10.0.18362-SP0', 'event': 'loaded'}\n"
     ]
    }
   ],
   "source": [
    "cadet = Cadet.load(casa.get_data_path()/\"cadet/op20.2\")"
   ]
  },
  {
   "cell_type": "code",
   "execution_count": 5,
   "metadata": {},
   "outputs": [
    {
     "data": {
      "text/plain": [
       "{'entity': ['遠傳電信', '台灣大哥大', '中華電信', '台灣之星', '亞太電信', '無框行動'],\n",
       " 'entity_probs': array([0.94334998, 0.01229201, 0.01200604, 0.01117066, 0.01109916,\n",
       "        0.01008215]),\n",
       " 'service': [('通訊品質', '網速'),\n",
       "  ('通訊品質', '涵蓋'),\n",
       "  ('通訊品質', '國內電信漫遊'),\n",
       "  ('資費方案', '方案活動'),\n",
       "  ('資費方案', '低資費方案')],\n",
       " 'service_probs': array([0.81107204, 0.0115223 , 0.00994375, 0.00942436, 0.00842961]),\n",
       " 'seeds': ['訊號', '滿格', '覆蓋率', '山區', '郊區'],\n",
       " 'seed_probs': array([0.37371267, 0.37371267, 0.00530906, 0.00465875, 0.00465875])}"
      ]
     },
     "execution_count": 5,
     "metadata": {},
     "output_type": "execute_result"
    }
   ],
   "source": [
    "# set summary flag to True would return an ordered list of most probable entites/servies\n",
    "# the probabilities of each candidates are shown in \"entity_probs\", \"service_probs\" entity\", \"service\"; \n",
    "# the labels of which can be found in `entity` and `service`\n",
    "cadet.detect(\"只有遠傳沒有訊號\", summary=True)"
   ]
  },
  {
   "cell_type": "code",
   "execution_count": 7,
   "metadata": {},
   "outputs": [
    {
     "data": {
      "text/plain": [
       "{'entity': ['中華電信', '台灣大哥大', '遠傳電信', '台灣之星', '亞太電信', '無框行動'],\n",
       " 'entity_probs': array([0.01200604, 0.01229201, 0.94334998, 0.01117066, 0.01109916,\n",
       "        0.01008215]),\n",
       " 'service': [('資費方案', '低資費方案'),\n",
       "  ('資費方案', '月租費'),\n",
       "  ('資費方案', '方案活動'),\n",
       "  ('資費方案', '續約攜碼'),\n",
       "  ('通訊品質', '網速'),\n",
       "  ('通訊品質', '限速'),\n",
       "  ('通訊品質', '涵蓋'),\n",
       "  ('通訊品質', '頻段'),\n",
       "  ('通訊品質', '國內電信漫遊'),\n",
       "  ('加值服務', '行動支付'),\n",
       "  ('加值服務', '小額付款'),\n",
       "  ('加值服務', '影音娛樂'),\n",
       "  ('加值服務', '智慧音箱'),\n",
       "  ('加值服務', '物聯網'),\n",
       "  ('加值服務', 'esim'),\n",
       "  ('加值服務', '國際漫遊'),\n",
       "  ('加值服務', 'vowifi'),\n",
       "  ('加值服務', '手機保險'),\n",
       "  ('加值服務', '電信APP'),\n",
       "  ('加值服務', '來電答鈴'),\n",
       "  ('其他', '手機'),\n",
       "  ('其他', '固網'),\n",
       "  ('其他', '客服'),\n",
       "  ('其他', '資安'),\n",
       "  ('其他', '帳單繳費')],\n",
       " 'service_probs': array([6.99223905e-05, 6.09139022e-05, 7.81736858e-05, 6.34227250e-05,\n",
       "        9.98482737e-01, 6.34777748e-05, 8.19378601e-05, 5.82763960e-05,\n",
       "        8.24819841e-05, 6.20544916e-05, 6.08922577e-05, 6.08182453e-05,\n",
       "        5.95580516e-05, 5.26874295e-05, 6.06640665e-05, 5.57870531e-05,\n",
       "        6.39283570e-05, 6.92479257e-05, 6.88557374e-05, 4.91326607e-05,\n",
       "        6.05559150e-05, 5.76664578e-05, 5.57055264e-05, 5.96056842e-05,\n",
       "        6.14960783e-05]),\n",
       " 'seeds': ['0月租',\n",
       "  '免月租',\n",
       "  '預付卡',\n",
       "  '儲值',\n",
       "  '月租費',\n",
       "  '通話費',\n",
       "  '通信費',\n",
       "  '網內',\n",
       "  '網外',\n",
       "  '合約',\n",
       "  '吃到飽',\n",
       "  '優惠',\n",
       "  '方案',\n",
       "  '市話',\n",
       "  '促銷',\n",
       "  '綁約',\n",
       "  '購機',\n",
       "  '電銷',\n",
       "  '企客',\n",
       "  '學生',\n",
       "  '老客戶',\n",
       "  '大4G',\n",
       "  '匯流方案',\n",
       "  '續約',\n",
       "  '攜碼',\n",
       "  '退費',\n",
       "  '測速',\n",
       "  '網速',\n",
       "  'mbps',\n",
       "  'PING',\n",
       "  '上傳',\n",
       "  '尖峰',\n",
       "  '卡頓',\n",
       "  '玩遊戲',\n",
       "  '滿格',\n",
       "  '訊號',\n",
       "  '100G限速',\n",
       "  '覆蓋率',\n",
       "  '基地台',\n",
       "  '拆台',\n",
       "  '山區',\n",
       "  '郊區',\n",
       "  '山郊',\n",
       "  '離島',\n",
       "  '位置',\n",
       "  '5g頻段',\n",
       "  '國內電信漫遊',\n",
       "  '支付',\n",
       "  '支付APP',\n",
       "  '聯名卡',\n",
       "  'NFC-SIM',\n",
       "  '票證',\n",
       "  '繳費',\n",
       "  '電信帳單支付',\n",
       "  'hamivideo',\n",
       "  'video',\n",
       "  '雲端遊戲',\n",
       "  'book',\n",
       "  '音箱',\n",
       "  '聯網',\n",
       "  'esim',\n",
       "  '漫遊方案',\n",
       "  '遊學',\n",
       "  '出國',\n",
       "  'VoLTE',\n",
       "  '保險',\n",
       "  'CARPLAY',\n",
       "  '達鈴',\n",
       "  '手機',\n",
       "  '光世代',\n",
       "  '客服',\n",
       "  '資安',\n",
       "  '帳單繳費'],\n",
       " 'seed_probs': array([6.45910991e-05, 6.20117478e-05, 6.97185758e-05, 6.97185758e-05,\n",
       "        5.76598491e-05, 5.88914567e-05, 5.14602821e-05, 6.07363461e-05,\n",
       "        5.84477775e-05, 6.07223069e-05, 7.36459741e-05, 6.17143950e-05,\n",
       "        6.32378560e-05, 6.07363461e-05, 6.03724336e-05, 6.21911926e-05,\n",
       "        6.43234671e-05, 7.79458196e-05, 7.36459741e-05, 6.69591864e-05,\n",
       "        6.05164542e-05, 6.69591864e-05, 5.80469807e-05, 6.13285033e-05,\n",
       "        6.32378560e-05, 5.43285025e-05, 9.95572290e-01, 7.30568650e-05,\n",
       "        6.77615669e-05, 6.13229893e-05, 6.80930685e-05, 6.09482667e-05,\n",
       "        5.55401585e-05, 5.58645115e-05, 5.87154711e-05, 7.29338379e-05,\n",
       "        6.32927453e-05, 6.29656126e-05, 5.72660605e-05, 8.16990219e-05,\n",
       "        6.05298018e-05, 6.10117157e-05, 5.91080387e-05, 5.54257374e-05,\n",
       "        6.05298018e-05, 5.81065279e-05, 8.22415598e-05, 5.47788326e-05,\n",
       "        5.81976318e-05, 5.25554102e-05, 5.88673202e-05, 6.18736109e-05,\n",
       "        4.86000141e-05, 6.07147647e-05, 5.78127138e-05, 5.92334429e-05,\n",
       "        6.06409681e-05, 5.46325855e-05, 5.93844477e-05, 5.25338525e-05,\n",
       "        6.04872387e-05, 5.29707456e-05, 5.56244411e-05, 5.46379726e-05,\n",
       "        6.37420142e-05, 6.90460770e-05, 6.86550319e-05, 4.89894454e-05,\n",
       "        6.03794024e-05, 5.74983676e-05, 5.55431521e-05, 5.94319414e-05,\n",
       "        6.13168252e-05])}"
      ]
     },
     "execution_count": 7,
     "metadata": {},
     "output_type": "execute_result"
    }
   ],
   "source": [
    "# set summary flag to False would return full probability distribution\n",
    "# 'entity_probs' field is the prob. distribution of 6 entities, \n",
    "#  the corresponding entity labels can be found in `entity`.\n",
    "# The prob. distribution of services and their labels are also found in `service_probs` and `service` fields.\n",
    "cadet.detect(\"遠傳測速是在測心酸的\", summary=False)"
   ]
  },
  {
   "cell_type": "code",
   "execution_count": null,
   "metadata": {},
   "outputs": [],
   "source": []
  }
 ],
 "metadata": {
  "kernelspec": {
   "display_name": "Python 3",
   "language": "python",
   "name": "python3"
  },
  "language_info": {
   "codemirror_mode": {
    "name": "ipython",
    "version": 3
   },
   "file_extension": ".py",
   "mimetype": "text/x-python",
   "name": "python",
   "nbconvert_exporter": "python",
   "pygments_lexer": "ipython3",
   "version": "3.8.2"
  }
 },
 "nbformat": 4,
 "nbformat_minor": 4
}

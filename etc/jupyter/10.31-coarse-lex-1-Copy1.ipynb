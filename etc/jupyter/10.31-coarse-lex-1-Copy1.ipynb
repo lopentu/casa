{
 "cells": [
  {
   "cell_type": "code",
   "execution_count": 1,
   "metadata": {},
   "outputs": [],
   "source": [
    "%load_ext autoreload\n",
    "%autoreload 2"
   ]
  },
  {
   "cell_type": "code",
   "execution_count": 3,
   "metadata": {},
   "outputs": [],
   "source": [
    "from import_casa import casa"
   ]
  },
  {
   "cell_type": "code",
   "execution_count": 4,
   "metadata": {},
   "outputs": [],
   "source": [
    "import pandas as pd\n",
    "import pickle\n",
    "from gensim.models import FastText"
   ]
  },
  {
   "cell_type": "code",
   "execution_count": 5,
   "metadata": {},
   "outputs": [],
   "source": [
    "spm_centroids = pd.read_csv(casa.get_data_path() / \"eda/spm/spm_centroids.csv\", index_col=None)\n",
    "with open(casa.get_data_path()/\"eda/spaCy_pipeline/raw-data-cht-2020-ppline.pkl\", \"rb\") as fin:\n",
    "    data = pickle.load(fin)"
   ]
  },
  {
   "cell_type": "code",
   "execution_count": 61,
   "metadata": {},
   "outputs": [
    {
     "data": {
      "text/html": [
       "<div>\n",
       "<style scoped>\n",
       "    .dataframe tbody tr th:only-of-type {\n",
       "        vertical-align: middle;\n",
       "    }\n",
       "\n",
       "    .dataframe tbody tr th {\n",
       "        vertical-align: top;\n",
       "    }\n",
       "\n",
       "    .dataframe thead th {\n",
       "        text-align: right;\n",
       "    }\n",
       "</style>\n",
       "<table border=\"1\" class=\"dataframe\">\n",
       "  <thead>\n",
       "    <tr style=\"text-align: right;\">\n",
       "      <th></th>\n",
       "      <th>Unnamed: 0</th>\n",
       "      <th>cluster_idx</th>\n",
       "      <th>cluster_size</th>\n",
       "      <th>centroid</th>\n",
       "      <th>words</th>\n",
       "    </tr>\n",
       "  </thead>\n",
       "  <tbody>\n",
       "    <tr>\n",
       "      <th>0</th>\n",
       "      <td>0</td>\n",
       "      <td>274</td>\n",
       "      <td>19</td>\n",
       "      <td>bile</td>\n",
       "      <td>ay my line Line LINE Mobile riDay mobile Hami ...</td>\n",
       "    </tr>\n",
       "    <tr>\n",
       "      <th>1</th>\n",
       "      <td>1</td>\n",
       "      <td>118</td>\n",
       "      <td>21</td>\n",
       "      <td>中華電信</td>\n",
       "      <td>遠傳 中華電信 亞太 台灣之星 台灣大哥大 亞太電信 台灣大 中華電 遠傳的 遠傳電信 跟遠...</td>\n",
       "    </tr>\n",
       "    <tr>\n",
       "      <th>2</th>\n",
       "      <td>2</td>\n",
       "      <td>182</td>\n",
       "      <td>19</td>\n",
       "      <td>12pro</td>\n",
       "      <td>Pro 11 25 iphone pro 128 128G iphone12 12Pro a...</td>\n",
       "    </tr>\n",
       "    <tr>\n",
       "      <th>3</th>\n",
       "      <td>3</td>\n",
       "      <td>270</td>\n",
       "      <td>17</td>\n",
       "      <td>Pixel</td>\n",
       "      <td>支援 Pixel Google 顯示 心得 三星 google 小米 版本 pixel 4a...</td>\n",
       "    </tr>\n",
       "    <tr>\n",
       "      <th>4</th>\n",
       "      <td>4</td>\n",
       "      <td>192</td>\n",
       "      <td>31</td>\n",
       "      <td>12、iPhone</td>\n",
       "      <td>12 iPhone 預購 iPhone12 預約 新機 推出 開放 各 、遠傳 各家 的iP...</td>\n",
       "    </tr>\n",
       "    <tr>\n",
       "      <th>...</th>\n",
       "      <td>...</td>\n",
       "      <td>...</td>\n",
       "      <td>...</td>\n",
       "      <td>...</td>\n",
       "      <td>...</td>\n",
       "    </tr>\n",
       "    <tr>\n",
       "      <th>153</th>\n",
       "      <td>153</td>\n",
       "      <td>228</td>\n",
       "      <td>15</td>\n",
       "      <td>久</td>\n",
       "      <td>快 滿 久 多了 好用 後悔 鮮 夯 迅 豔 嚐 譜 挾 巔 冗</td>\n",
       "    </tr>\n",
       "    <tr>\n",
       "      <th>154</th>\n",
       "      <td>154</td>\n",
       "      <td>98</td>\n",
       "      <td>15</td>\n",
       "      <td>爭</td>\n",
       "      <td>代 取 利 屬 便 超商 爭 全家 索 宅配 暖 礙 潤 擷 侷</td>\n",
       "    </tr>\n",
       "    <tr>\n",
       "      <th>155</th>\n",
       "      <td>155</td>\n",
       "      <td>27</td>\n",
       "      <td>46</td>\n",
       "      <td>車站</td>\n",
       "      <td>區 台北 山 北 南 隔 離 島 車站 嘉 台南 高雄 台北市 湖 壁 蘭 桃園 橋 宜蘭 ...</td>\n",
       "    </tr>\n",
       "    <tr>\n",
       "      <th>156</th>\n",
       "      <td>156</td>\n",
       "      <td>303</td>\n",
       "      <td>36</td>\n",
       "      <td>樵</td>\n",
       "      <td>XD DD XDD 瞎 ㄌ 吹 辣 削 ㄛ ㄅ 賊 樁 😃 爹 奸 抹 拎 甩 賤 尛 錒 ...</td>\n",
       "    </tr>\n",
       "    <tr>\n",
       "      <th>157</th>\n",
       "      <td>157</td>\n",
       "      <td>46</td>\n",
       "      <td>550</td>\n",
       "      <td>驛</td>\n",
       "      <td>恩 🙂 ' 粗 😘 邱 嘆 俐 稿 😊 婷 諸 █ 蝶 逸 刑 翰 莉 芯 芙 涵 饗 宴 ...</td>\n",
       "    </tr>\n",
       "  </tbody>\n",
       "</table>\n",
       "<p>158 rows × 5 columns</p>\n",
       "</div>"
      ],
      "text/plain": [
       "     Unnamed: 0  cluster_idx  cluster_size   centroid  \\\n",
       "0             0          274            19       bile   \n",
       "1             1          118            21       中華電信   \n",
       "2             2          182            19      12pro   \n",
       "3             3          270            17      Pixel   \n",
       "4             4          192            31  12、iPhone   \n",
       "..          ...          ...           ...        ...   \n",
       "153         153          228            15          久   \n",
       "154         154           98            15          爭   \n",
       "155         155           27            46         車站   \n",
       "156         156          303            36          樵   \n",
       "157         157           46           550          驛   \n",
       "\n",
       "                                                 words  \n",
       "0    ay my line Line LINE Mobile riDay mobile Hami ...  \n",
       "1    遠傳 中華電信 亞太 台灣之星 台灣大哥大 亞太電信 台灣大 中華電 遠傳的 遠傳電信 跟遠...  \n",
       "2    Pro 11 25 iphone pro 128 128G iphone12 12Pro a...  \n",
       "3    支援 Pixel Google 顯示 心得 三星 google 小米 版本 pixel 4a...  \n",
       "4    12 iPhone 預購 iPhone12 預約 新機 推出 開放 各 、遠傳 各家 的iP...  \n",
       "..                                                 ...  \n",
       "153                   快 滿 久 多了 好用 後悔 鮮 夯 迅 豔 嚐 譜 挾 巔 冗  \n",
       "154                   代 取 利 屬 便 超商 爭 全家 索 宅配 暖 礙 潤 擷 侷  \n",
       "155  區 台北 山 北 南 隔 離 島 車站 嘉 台南 高雄 台北市 湖 壁 蘭 桃園 橋 宜蘭 ...  \n",
       "156  XD DD XDD 瞎 ㄌ 吹 辣 削 ㄛ ㄅ 賊 樁 😃 爹 奸 抹 拎 甩 賤 尛 錒 ...  \n",
       "157  恩 🙂 ' 粗 😘 邱 嘆 俐 稿 😊 婷 諸 █ 蝶 逸 刑 翰 莉 芯 芙 涵 饗 宴 ...  \n",
       "\n",
       "[158 rows x 5 columns]"
      ]
     },
     "execution_count": 61,
     "metadata": {},
     "output_type": "execute_result"
    }
   ],
   "source": [
    "spm_centroids"
   ]
  },
  {
   "cell_type": "code",
   "execution_count": 62,
   "metadata": {},
   "outputs": [],
   "source": [
    "centroid_lists = \"中華電信,12pro,Pixel,1399元,24個月,199,LTE,3000,方案,5G,划算,電信業者,用中華,21M,攜碼\".split(\",\")"
   ]
  },
  {
   "cell_type": "code",
   "execution_count": 8,
   "metadata": {},
   "outputs": [
    {
     "name": "stderr",
     "output_type": "stream",
     "text": [
      "[INFO] 2020-12-22 21:42:33,403 gensim.utils: loading FastText object from E:\\LangOn\\casa\\data\\eda\\spm\\sp_vectors.model\n",
      "[INFO] 2020-12-22 21:42:33,568 gensim.utils: loading wv recursively from E:\\LangOn\\casa\\data\\eda\\spm\\sp_vectors.model.wv.* with mmap=None\n",
      "[INFO] 2020-12-22 21:42:33,568 gensim.utils: loading vectors_ngrams from E:\\LangOn\\casa\\data\\eda\\spm\\sp_vectors.model.wv.vectors_ngrams.npy with mmap=None\n",
      "[INFO] 2020-12-22 21:42:36,875 gensim.utils: setting ignored attribute vectors_ngrams_norm to None\n",
      "[INFO] 2020-12-22 21:42:36,875 gensim.utils: setting ignored attribute vectors_norm to None\n",
      "[INFO] 2020-12-22 21:42:36,876 gensim.utils: setting ignored attribute vectors_vocab_norm to None\n",
      "[INFO] 2020-12-22 21:42:36,876 gensim.utils: setting ignored attribute buckets_word to None\n",
      "[INFO] 2020-12-22 21:42:36,877 gensim.utils: loading vocabulary recursively from E:\\LangOn\\casa\\data\\eda\\spm\\sp_vectors.model.vocabulary.* with mmap=None\n",
      "[INFO] 2020-12-22 21:42:36,877 gensim.utils: loading trainables recursively from E:\\LangOn\\casa\\data\\eda\\spm\\sp_vectors.model.trainables.* with mmap=None\n",
      "[INFO] 2020-12-22 21:42:36,878 gensim.utils: loading vectors_ngrams_lockf from E:\\LangOn\\casa\\data\\eda\\spm\\sp_vectors.model.trainables.vectors_ngrams_lockf.npy with mmap=None\n",
      "[INFO] 2020-12-22 21:42:37,322 gensim.utils: loaded E:\\LangOn\\casa\\data\\eda\\spm\\sp_vectors.model\n"
     ]
    },
    {
     "data": {
      "text/plain": [
       "(5885, 100)"
      ]
     },
     "execution_count": 8,
     "metadata": {},
     "output_type": "execute_result"
    }
   ],
   "source": [
    "path = casa.get_data_path() / \"eda/spm/sp_vectors.model\"\n",
    "model = FastText.load(str(path))\n",
    "model.wv.vectors.shape"
   ]
  },
  {
   "cell_type": "code",
   "execution_count": 48,
   "metadata": {},
   "outputs": [],
   "source": []
  },
  {
   "cell_type": "code",
   "execution_count": 84,
   "metadata": {},
   "outputs": [],
   "source": [
    "from collections import Counter\n",
    "from tqdm.auto import tqdm\n",
    "\n",
    "\n",
    "def find_targets(dep_data, seeds, wv):\n",
    "    try:\n",
    "        words = [x[0] for x in dep_data]    \n",
    "        pots = casa.compute_potentials(words, seeds, wv)\n",
    "        targets, targ_indices = casa.extract_with_potentials(words, pots)        \n",
    "    except Exception as ex:\n",
    "        print(ex)\n",
    "        targets = []\n",
    "    return targets\n",
    "\n",
    "def extract_targets(data, seeds, centroid):\n",
    "    target_list = []\n",
    "\n",
    "    for data_item in tqdm(data, desc=centroid):    \n",
    "        # titles\n",
    "        if data_item.main and data_item.main.title_tree:\n",
    "            target_list.extend(find_targets(data_item.main.title_tree, seeds, model.wv))\n",
    "\n",
    "        # replies\n",
    "        for reply_x in data_item.replies:\n",
    "            if not reply_x.text_tree: continue\n",
    "            target_list.extend(find_targets(reply_x.text_tree, seeds, model.wv))\n",
    "    return Counter(target_list)"
   ]
  },
  {
   "cell_type": "code",
   "execution_count": 83,
   "metadata": {},
   "outputs": [],
   "source": [
    "seeds = spm_centroids.loc[spm_centroids.centroid==centroid_lists[0]].iloc[0].words.split()"
   ]
  },
  {
   "cell_type": "code",
   "execution_count": 91,
   "metadata": {},
   "outputs": [
    {
     "data": {
      "application/vnd.jupyter.widget-view+json": {
       "model_id": "88ad203b3e0e45a69d559b9d1dc08459",
       "version_major": 2,
       "version_minor": 0
      },
      "text/plain": [
       "HBox(children=(FloatProgress(value=0.0, description='中華電信', max=7772.0, style=ProgressStyle(description_width=…"
      ]
     },
     "metadata": {},
     "output_type": "display_data"
    },
    {
     "name": "stdout",
     "output_type": "stream",
     "text": [
      "\n"
     ]
    },
    {
     "data": {
      "application/vnd.jupyter.widget-view+json": {
       "model_id": "403e09d9f3cd4ee09dc5fd69623c58d0",
       "version_major": 2,
       "version_minor": 0
      },
      "text/plain": [
       "HBox(children=(FloatProgress(value=0.0, description='12pro', max=7772.0, style=ProgressStyle(description_width…"
      ]
     },
     "metadata": {},
     "output_type": "display_data"
    },
    {
     "name": "stdout",
     "output_type": "stream",
     "text": [
      "\n"
     ]
    },
    {
     "data": {
      "application/vnd.jupyter.widget-view+json": {
       "model_id": "eee151c163674bbd9c09ec26feba518f",
       "version_major": 2,
       "version_minor": 0
      },
      "text/plain": [
       "HBox(children=(FloatProgress(value=0.0, description='Pixel', max=7772.0, style=ProgressStyle(description_width…"
      ]
     },
     "metadata": {},
     "output_type": "display_data"
    },
    {
     "name": "stdout",
     "output_type": "stream",
     "text": [
      "\n"
     ]
    },
    {
     "data": {
      "application/vnd.jupyter.widget-view+json": {
       "model_id": "77f4e3f964ce440687fd5fee9151d9c2",
       "version_major": 2,
       "version_minor": 0
      },
      "text/plain": [
       "HBox(children=(FloatProgress(value=0.0, description='1399元', max=7772.0, style=ProgressStyle(description_width…"
      ]
     },
     "metadata": {},
     "output_type": "display_data"
    },
    {
     "name": "stdout",
     "output_type": "stream",
     "text": [
      "\n"
     ]
    },
    {
     "data": {
      "application/vnd.jupyter.widget-view+json": {
       "model_id": "21940ea5541149a69a2cef3f0acdcad3",
       "version_major": 2,
       "version_minor": 0
      },
      "text/plain": [
       "HBox(children=(FloatProgress(value=0.0, description='24個月', max=7772.0, style=ProgressStyle(description_width=…"
      ]
     },
     "metadata": {},
     "output_type": "display_data"
    },
    {
     "name": "stdout",
     "output_type": "stream",
     "text": [
      "\n"
     ]
    },
    {
     "data": {
      "application/vnd.jupyter.widget-view+json": {
       "model_id": "62ea60fa1afb4847830af397df1f3ff9",
       "version_major": 2,
       "version_minor": 0
      },
      "text/plain": [
       "HBox(children=(FloatProgress(value=0.0, description='199', max=7772.0, style=ProgressStyle(description_width='…"
      ]
     },
     "metadata": {},
     "output_type": "display_data"
    },
    {
     "name": "stdout",
     "output_type": "stream",
     "text": [
      "\n"
     ]
    },
    {
     "data": {
      "application/vnd.jupyter.widget-view+json": {
       "model_id": "52dd93a2b9ad49698076738ab338ad2e",
       "version_major": 2,
       "version_minor": 0
      },
      "text/plain": [
       "HBox(children=(FloatProgress(value=0.0, description='LTE', max=7772.0, style=ProgressStyle(description_width='…"
      ]
     },
     "metadata": {},
     "output_type": "display_data"
    },
    {
     "name": "stdout",
     "output_type": "stream",
     "text": [
      "\n"
     ]
    },
    {
     "data": {
      "application/vnd.jupyter.widget-view+json": {
       "model_id": "1d8ff8e23dbb442594a188ab98fc3456",
       "version_major": 2,
       "version_minor": 0
      },
      "text/plain": [
       "HBox(children=(FloatProgress(value=0.0, description='3000', max=7772.0, style=ProgressStyle(description_width=…"
      ]
     },
     "metadata": {},
     "output_type": "display_data"
    },
    {
     "name": "stdout",
     "output_type": "stream",
     "text": [
      "\n"
     ]
    },
    {
     "data": {
      "application/vnd.jupyter.widget-view+json": {
       "model_id": "b19124248807408e9d41ddb8bcf702c1",
       "version_major": 2,
       "version_minor": 0
      },
      "text/plain": [
       "HBox(children=(FloatProgress(value=0.0, description='方案', max=7772.0, style=ProgressStyle(description_width='i…"
      ]
     },
     "metadata": {},
     "output_type": "display_data"
    },
    {
     "name": "stdout",
     "output_type": "stream",
     "text": [
      "\n"
     ]
    },
    {
     "data": {
      "application/vnd.jupyter.widget-view+json": {
       "model_id": "64524a132aa54c8fb38dcabb9390222b",
       "version_major": 2,
       "version_minor": 0
      },
      "text/plain": [
       "HBox(children=(FloatProgress(value=0.0, description='5G', max=7772.0, style=ProgressStyle(description_width='i…"
      ]
     },
     "metadata": {},
     "output_type": "display_data"
    },
    {
     "name": "stdout",
     "output_type": "stream",
     "text": [
      "\n"
     ]
    },
    {
     "data": {
      "application/vnd.jupyter.widget-view+json": {
       "model_id": "1b95b19c3eab4b6588fee8815826e2ed",
       "version_major": 2,
       "version_minor": 0
      },
      "text/plain": [
       "HBox(children=(FloatProgress(value=0.0, description='划算', max=7772.0, style=ProgressStyle(description_width='i…"
      ]
     },
     "metadata": {},
     "output_type": "display_data"
    },
    {
     "name": "stdout",
     "output_type": "stream",
     "text": [
      "\n"
     ]
    },
    {
     "data": {
      "application/vnd.jupyter.widget-view+json": {
       "model_id": "dbb1d244900644008f523cc657f7754a",
       "version_major": 2,
       "version_minor": 0
      },
      "text/plain": [
       "HBox(children=(FloatProgress(value=0.0, description='電信業者', max=7772.0, style=ProgressStyle(description_width=…"
      ]
     },
     "metadata": {},
     "output_type": "display_data"
    },
    {
     "name": "stdout",
     "output_type": "stream",
     "text": [
      "\n"
     ]
    },
    {
     "data": {
      "application/vnd.jupyter.widget-view+json": {
       "model_id": "4b153373b8e14ae882621e023f9375ba",
       "version_major": 2,
       "version_minor": 0
      },
      "text/plain": [
       "HBox(children=(FloatProgress(value=0.0, description='用中華', max=7772.0, style=ProgressStyle(description_width='…"
      ]
     },
     "metadata": {},
     "output_type": "display_data"
    },
    {
     "name": "stdout",
     "output_type": "stream",
     "text": [
      "\n"
     ]
    },
    {
     "data": {
      "application/vnd.jupyter.widget-view+json": {
       "model_id": "be92903120234aa58b9d4cfe6ac82f77",
       "version_major": 2,
       "version_minor": 0
      },
      "text/plain": [
       "HBox(children=(FloatProgress(value=0.0, description='21M', max=7772.0, style=ProgressStyle(description_width='…"
      ]
     },
     "metadata": {},
     "output_type": "display_data"
    },
    {
     "name": "stdout",
     "output_type": "stream",
     "text": [
      "\n"
     ]
    },
    {
     "data": {
      "application/vnd.jupyter.widget-view+json": {
       "model_id": "db1ab4f529974c3ca1cba6edea07d647",
       "version_major": 2,
       "version_minor": 0
      },
      "text/plain": [
       "HBox(children=(FloatProgress(value=0.0, description='攜碼', max=7772.0, style=ProgressStyle(description_width='i…"
      ]
     },
     "metadata": {},
     "output_type": "display_data"
    },
    {
     "name": "stdout",
     "output_type": "stream",
     "text": [
      "\n"
     ]
    }
   ],
   "source": [
    "lexicon = {}\n",
    "for centroid in centroid_lists:\n",
    "    sub_df = spm_centroids.loc[spm_centroids.centroid==centroid]\n",
    "    seeds = sub_df.iloc[0].words.split()\n",
    "    lexicon[centroid] = extract_targets(data, seeds, centroid)"
   ]
  },
  {
   "cell_type": "code",
   "execution_count": 90,
   "metadata": {},
   "outputs": [],
   "source": [
    "with open(casa.get_data_path() / \"eda/spm/spm_lexicon_1.pkl\", \"wb\") as fout:\n",
    "    pickle.dump(lexicon, fout)"
   ]
  },
  {
   "cell_type": "code",
   "execution_count": 94,
   "metadata": {},
   "outputs": [],
   "source": [
    "fout = open(casa.get_data_path() / \"eda/spm/spm_lexicon_1.md\", \"w\", encoding=\"UTF-8\")\n",
    "fout.write(\"# CHT-ABSA Coarsed-lexicion [Iteration I]\\n\")\n",
    "for centroid, counter in lexicon.items():\n",
    "    fout.write(f\"## {centroid}\\n\")\n",
    "    fout.write(\"\\u3000\".join(f\"{x[0]}({x[1]})\" \n",
    "                             for x in counter.most_common(100)))\n",
    "    fout.write(\"\\n\")\n",
    "    fout.write(\"\\n\")\n",
    "fout.close()"
   ]
  },
  {
   "cell_type": "markdown",
   "metadata": {},
   "source": [
    "## visualizing"
   ]
  },
  {
   "cell_type": "code",
   "execution_count": null,
   "metadata": {},
   "outputs": [],
   "source": [
    "from matplotlib import pyplot as plt\n",
    "from matplotlib.font_manager import FontProperties"
   ]
  },
  {
   "cell_type": "code",
   "execution_count": 57,
   "metadata": {},
   "outputs": [],
   "source": [
    "words = [x[0] for x in data[1].main.title_tree]    \n",
    "seeds = spm_centroids.iloc[1].words.split()\n",
    "pots = casa.compute_potentials(words, seeds, model.wv)\n",
    "targets, targ_indices = casa.extract_with_potentials(words, pots)  "
   ]
  },
  {
   "cell_type": "code",
   "execution_count": 58,
   "metadata": {},
   "outputs": [
    {
     "data": {
      "image/png": "[encoded data removed]",
      "text/plain": [
       "<Figure size 1080x288 with 1 Axes>"
      ]
     },
     "metadata": {
      "needs_background": "light"
     },
     "output_type": "display_data"
    }
   ],
   "source": [
    "import numpy as np\n",
    "font = FontProperties(fname=casa.get_data_path() / \"NotoSansCJK-Regular.ttc\", size=14)\n",
    "from itertools import chain\n",
    "s = 60\n",
    "win = slice(s, s+30)\n",
    "words_sub = words[win]\n",
    "counter = 0\n",
    "pots_xs = []\n",
    "base_y = np.mean(pots[win])\n",
    "for word in words_sub:\n",
    "    pots_xs.append(counter)\n",
    "    for char in word:\n",
    "        plt.text(counter, base_y, char, fontproperties=font)\n",
    "        counter += 1\n",
    "plt.plot(pots_xs, pots[win], 'o-')\n",
    "plt.ylim(-0.2,.5)\n",
    "plt.axhline(0.3, color=\"gray\", linestyle='--', linewidth=1)\n",
    "plt.gcf().set_figwidth(15)"
   ]
  },
  {
   "cell_type": "code",
   "execution_count": null,
   "metadata": {},
   "outputs": [],
   "source": []
  }
 ],
 "metadata": {
  "kernelspec": {
   "display_name": "Python 3",
   "language": "python",
   "name": "python3"
  },
  "language_info": {
   "codemirror_mode": {
    "name": "ipython",
    "version": 3
   },
   "file_extension": ".py",
   "mimetype": "text/x-python",
   "name": "python",
   "nbconvert_exporter": "python",
   "pygments_lexer": "ipython3",
   "version": "3.8.2"
  }
 },
 "nbformat": 4,
 "nbformat_minor": 4
}

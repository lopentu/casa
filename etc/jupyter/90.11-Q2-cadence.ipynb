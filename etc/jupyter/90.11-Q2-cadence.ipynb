{
 "cells": [
  {
   "cell_type": "code",
   "execution_count": 1,
   "metadata": {},
   "outputs": [],
   "source": [
    "%load_ext autoreload\n",
    "%autoreload 2"
   ]
  },
  {
   "cell_type": "code",
   "execution_count": 2,
   "metadata": {},
   "outputs": [],
   "source": [
    "from import_casa import casa\n",
    "from casa import Cadet, Cadence\n",
    "import re\n",
    "import pandas as pd\n",
    "import numpy as np\n",
    "from transformers import BertForSequenceClassification, BertTokenizer\n",
    "import torch"
   ]
  },
  {
   "cell_type": "code",
   "execution_count": 3,
   "metadata": {},
   "outputs": [
    {
     "name": "stderr",
     "output_type": "stream",
     "text": [
      "[INFO] 2021-04-26 17:25:48,563 gensim.utils: loading KeyedVectors object from E:\\LangOn\\casa\\data\\cadet\\op20\\ft-2020.kv\n",
      "[INFO] 2021-04-26 17:25:48,900 gensim.utils: setting ignored attribute vectors_norm to None\n",
      "[INFO] 2021-04-26 17:25:48,901 gensim.utils: setting ignored attribute vectors_vocab_norm to None\n",
      "[INFO] 2021-04-26 17:25:48,901 gensim.utils: setting ignored attribute vectors_ngrams_norm to None\n",
      "[INFO] 2021-04-26 17:25:48,902 gensim.utils: setting ignored attribute buckets_word to None\n",
      "[INFO] 2021-04-26 17:25:49,012 gensim.utils: FastTextKeyedVectors lifecycle event {'fname': 'E:\\\\LangOn\\\\casa\\\\data\\\\cadet\\\\op20\\\\ft-2020.kv', 'datetime': '2021-04-26T17:25:49.012564', 'gensim': '4.0.0', 'python': '3.8.2 (tags/v3.8.2:7b3ab59, Feb 25 2020, 23:03:10) [MSC v.1916 64 bit (AMD64)]', 'platform': 'Windows-10-10.0.18362-SP0', 'event': 'loaded'}\n",
      "[WARNING] 2021-04-26 17:25:49,019 gensim.models.keyedvectors: destructive init_sims(replace=True) deprecated & no longer required for space-efficiency\n"
     ]
    }
   ],
   "source": [
    "cadet = Cadet.load(casa.get_data_path()/\"cadet/op20\")"
   ]
  },
  {
   "cell_type": "code",
   "execution_count": 4,
   "metadata": {},
   "outputs": [
    {
     "name": "stderr",
     "output_type": "stream",
     "text": [
      "Some weights of the model checkpoint at bert-base-chinese were not used when initializing BertForSequenceClassification: ['cls.predictions.bias', 'cls.predictions.transform.dense.weight', 'cls.predictions.transform.dense.bias', 'cls.predictions.decoder.weight', 'cls.seq_relationship.weight', 'cls.seq_relationship.bias', 'cls.predictions.transform.LayerNorm.weight', 'cls.predictions.transform.LayerNorm.bias']\n",
      "- This IS expected if you are initializing BertForSequenceClassification from the checkpoint of a model trained on another task or with another architecture (e.g. initializing a BertForSequenceClassification model from a BertForPreTraining model).\n",
      "- This IS NOT expected if you are initializing BertForSequenceClassification from the checkpoint of a model that you expect to be exactly identical (initializing a BertForSequenceClassification model from a BertForSequenceClassification model).\n",
      "Some weights of BertForSequenceClassification were not initialized from the model checkpoint at bert-base-chinese and are newly initialized: ['classifier.weight', 'classifier.bias']\n",
      "You should probably TRAIN this model on a down-stream task to be able to use it for predictions and inference.\n"
     ]
    }
   ],
   "source": [
    "ckpt_path = casa.get_data_path() / \"cadence/bert-sentiment-50.02.1/model.ckpt\"\n",
    "model = BertForSequenceClassification.from_pretrained(\"bert-base-chinese\", num_labels = 3)\n",
    "model.load_state_dict(torch.load(ckpt_path))\n",
    "tokenizer = BertTokenizer.from_pretrained(\"bert-base-chinese\")"
   ]
  },
  {
   "cell_type": "code",
   "execution_count": 5,
   "metadata": {},
   "outputs": [],
   "source": [
    "import pandas as pd\n",
    "cx_path = casa.get_data_path() / \"constructicon/sentiment-constructicon.csv\"\n",
    "cx_df = pd.read_csv(cx_path, index_col=None).dropna()\n",
    "cx_list = cx_df.to_dict(orient='list')\n",
    "cx_list = [(cx, score) for cx, score in zip(*cx_list.values())]"
   ]
  },
  {
   "cell_type": "markdown",
   "metadata": {},
   "source": [
    "## Cadence: **C**ht **A**bsa **DE**teciton with **N**eural network and **C**onstructicon **E**nsemble\n"
   ]
  },
  {
   "cell_type": "markdown",
   "metadata": {},
   "source": [
    "## Samples"
   ]
  },
  {
   "cell_type": "code",
   "execution_count": 6,
   "metadata": {},
   "outputs": [],
   "source": [
    "cadence = Cadence.build_Q2(cadet, model, tokenizer, cx_list)"
   ]
  },
  {
   "cell_type": "code",
   "execution_count": 7,
   "metadata": {},
   "outputs": [
    {
     "data": {
      "text/plain": [
       "'中華電信(0.94)/通訊品質(0.49)/Positive(0.91, Bert)'"
      ]
     },
     "execution_count": 7,
     "metadata": {},
     "output_type": "execute_result"
    }
   ],
   "source": [
    "cadence.analyze(\"中華在山上的訊號還不錯\", summary=True)"
   ]
  },
  {
   "cell_type": "code",
   "execution_count": 8,
   "metadata": {},
   "outputs": [
    {
     "data": {
      "text/plain": [
       "'遠傳電信(0.49)/通訊品質(0.96)/Negative(1.00, CxG)'"
      ]
     },
     "execution_count": 8,
     "metadata": {},
     "output_type": "execute_result"
    }
   ],
   "source": [
    "cadence.analyze(\"只有遠傳沒有訊號\", summary=True)"
   ]
  },
  {
   "cell_type": "code",
   "execution_count": 9,
   "metadata": {},
   "outputs": [
    {
     "data": {
      "text/plain": [
       "{'entity': ['中華電信', '台灣大哥大', '遠傳電信', '台灣之星', '亞太電信', '其他電信'],\n",
       " 'entity_probs': array([0.01198956, 0.01227514, 0.94205485, 0.01115532, 0.01108392,\n",
       "        0.01144121]),\n",
       " 'service': ['資費方案', '通訊品質', '加值服務', '其他'],\n",
       " 'service_probs': array([7.82737379e-05, 9.99760666e-01, 8.33699990e-05, 7.76904188e-05]),\n",
       " 'seeds': ['測試', 'Speed', '測速', '上傳', '下載'],\n",
       " 'seed_probs': array([0.95608653, 0.00644206, 0.00644206, 0.00644206, 0.00644206]),\n",
       " 'sentiment': ['Neutral', 'Positive', 'Negative'],\n",
       " 'sentiment_src': 'CxG',\n",
       " 'sentiment_probs': array([0., 0., 1.], dtype=float32)}"
      ]
     },
     "execution_count": 9,
     "metadata": {},
     "output_type": "execute_result"
    }
   ],
   "source": [
    "cadence.analyze(\"遠傳測速是在測心酸的\", summary=False)"
   ]
  },
  {
   "cell_type": "code",
   "execution_count": 13,
   "metadata": {},
   "outputs": [
    {
     "data": {
      "text/plain": [
       "'中華電信(0.94)/資費方案(0.44)/Positive(0.51, Bert)'"
      ]
     },
     "execution_count": 13,
     "metadata": {},
     "output_type": "execute_result"
    }
   ],
   "source": [
    "cadence.analyze(\"中華撿到槍\", summary=True)"
   ]
  },
  {
   "cell_type": "code",
   "execution_count": null,
   "metadata": {},
   "outputs": [],
   "source": []
  }
 ],
 "metadata": {
  "kernelspec": {
   "display_name": "Python 3",
   "language": "python",
   "name": "python3"
  },
  "language_info": {
   "codemirror_mode": {
    "name": "ipython",
    "version": 3
   },
   "file_extension": ".py",
   "mimetype": "text/x-python",
   "name": "python",
   "nbconvert_exporter": "python",
   "pygments_lexer": "ipython3",
   "version": "3.8.2"
  }
 },
 "nbformat": 4,
 "nbformat_minor": 4
}

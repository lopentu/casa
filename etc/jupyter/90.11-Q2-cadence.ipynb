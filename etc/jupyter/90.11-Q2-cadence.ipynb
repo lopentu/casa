{
 "cells": [
  {
   "cell_type": "code",
   "execution_count": 1,
   "metadata": {},
   "outputs": [],
   "source": [
    "%load_ext autoreload\n",
    "%autoreload 2"
   ]
  },
  {
   "cell_type": "code",
   "execution_count": 2,
   "metadata": {},
   "outputs": [
    {
     "name": "stderr",
     "output_type": "stream",
     "text": [
      "/Users/seantyh/anaconda3/lib/python3.7/site-packages/gensim/similarities/__init__.py:15: UserWarning: The gensim.similarities.levenshtein submodule is disabled, because the optional Levenshtein package <https://pypi.org/project/python-Levenshtein/> is unavailable. Install Levenhstein (e.g. `pip install python-Levenshtein`) to suppress this warning.\n",
      "  warnings.warn(msg)\n"
     ]
    }
   ],
   "source": [
    "from import_casa import casa\n",
    "from casa import Cadet, Cadence\n",
    "import re\n",
    "import pandas as pd\n",
    "import numpy as np\n",
    "from transformers import BertForSequenceClassification, BertTokenizer\n",
    "import torch"
   ]
  },
  {
   "cell_type": "code",
   "execution_count": 3,
   "metadata": {},
   "outputs": [
    {
     "name": "stderr",
     "output_type": "stream",
     "text": [
      "[INFO] 2021-04-28 13:45:05,034 gensim.utils: loading KeyedVectors object from /Users/seantyh/langon/casa/data/cadet/op20/ft-2020.kv\n",
      "[INFO] 2021-04-28 13:45:05,322 gensim.utils: setting ignored attribute vectors_norm to None\n",
      "[INFO] 2021-04-28 13:45:05,323 gensim.utils: setting ignored attribute vectors_vocab_norm to None\n",
      "[INFO] 2021-04-28 13:45:05,324 gensim.utils: setting ignored attribute vectors_ngrams_norm to None\n",
      "[INFO] 2021-04-28 13:45:05,324 gensim.utils: setting ignored attribute buckets_word to None\n",
      "[INFO] 2021-04-28 13:45:05,463 gensim.utils: FastTextKeyedVectors lifecycle event {'fname': '/Users/seantyh/langon/casa/data/cadet/op20/ft-2020.kv', 'datetime': '2021-04-28T13:45:05.442896', 'gensim': '4.0.0', 'python': '3.7.4 (default, Aug 13 2019, 15:17:50) \\n[Clang 4.0.1 (tags/RELEASE_401/final)]', 'platform': 'Darwin-20.3.0-x86_64-i386-64bit', 'event': 'loaded'}\n",
      "[WARNING] 2021-04-28 13:45:05,470 gensim.models.keyedvectors: destructive init_sims(replace=True) deprecated & no longer required for space-efficiency\n"
     ]
    }
   ],
   "source": [
    "cadet = Cadet.load(casa.get_data_path()/\"cadet/op20\")"
   ]
  },
  {
   "cell_type": "code",
   "execution_count": null,
   "metadata": {},
   "outputs": [],
   "source": [
    "ckpt_path = casa.get_data_path() / \"cadence/bert-sentiment-50.02.1/model.ckpt\"\n",
    "model = BertForSequenceClassification.from_pretrained(\"bert-base-chinese\", num_labels = 3)\n",
    "model.load_state_dict(torch.load(ckpt_path, map_location=\"cpu\"))\n",
    "tokenizer = BertTokenizer.from_pretrained(\"bert-base-chinese\")"
   ]
  },
  {
   "cell_type": "code",
   "execution_count": 6,
   "metadata": {},
   "outputs": [
    {
     "name": "stderr",
     "output_type": "stream",
     "text": [
      "[INFO] 2021-04-28 13:47:29,718 numexpr.utils: Note: NumExpr detected 12 cores but \"NUMEXPR_MAX_THREADS\" not set, so enforcing safe limit of 8.\n",
      "[INFO] 2021-04-28 13:47:29,719 numexpr.utils: NumExpr defaulting to 8 threads.\n"
     ]
    }
   ],
   "source": [
    "import pandas as pd\n",
    "cx_path = casa.get_data_path() / \"cadence/sentiment-constructicon.csv\"\n",
    "cx_df = pd.read_csv(cx_path, index_col=None).dropna()\n",
    "cx_list = cx_df.to_dict(orient='list')\n",
    "cx_list = [(cx, score) for cx, score in zip(*cx_list.values())]"
   ]
  },
  {
   "cell_type": "markdown",
   "metadata": {},
   "source": [
    "## Cadence: **C**ht **A**bsa **DE**teciton with **N**eural network and **C**onstructicon **E**nsemble\n"
   ]
  },
  {
   "cell_type": "markdown",
   "metadata": {},
   "source": [
    "## Samples"
   ]
  },
  {
   "cell_type": "code",
   "execution_count": 7,
   "metadata": {},
   "outputs": [],
   "source": [
    "cadence = Cadence.build_Q2(cadet, model, tokenizer, cx_list)"
   ]
  },
  {
   "cell_type": "code",
   "execution_count": 8,
   "metadata": {},
   "outputs": [
    {
     "data": {
      "text/plain": [
       "'中華電信(0.94)/通訊品質(0.49)/Positive(0.91, Bert)'"
      ]
     },
     "execution_count": 8,
     "metadata": {},
     "output_type": "execute_result"
    }
   ],
   "source": [
    "cadence.analyze(\"中華在山上的訊號還不錯\", summary=True)"
   ]
  },
  {
   "cell_type": "code",
   "execution_count": 9,
   "metadata": {},
   "outputs": [
    {
     "data": {
      "text/plain": [
       "'遠傳電信(0.49)/通訊品質(0.96)/Negative(1.00, CxG)'"
      ]
     },
     "execution_count": 9,
     "metadata": {},
     "output_type": "execute_result"
    }
   ],
   "source": [
    "cadence.analyze(\"只有遠傳沒有訊號\", summary=True)"
   ]
  },
  {
   "cell_type": "code",
   "execution_count": 10,
   "metadata": {},
   "outputs": [
    {
     "data": {
      "text/plain": [
       "{'entity': ['中華電信', '台灣大哥大', '遠傳電信', '台灣之星', '亞太電信', '其他電信'],\n",
       " 'entity_probs': array([0.01198956, 0.01227514, 0.94205485, 0.01115532, 0.01108392,\n",
       "        0.01144121]),\n",
       " 'service': ['資費方案', '通訊品質', '加值服務', '其他'],\n",
       " 'service_probs': array([7.82737379e-05, 9.99760666e-01, 8.33699990e-05, 7.76904188e-05]),\n",
       " 'seeds': ['測試', 'Speed', '測速', '上傳', '下載'],\n",
       " 'seed_probs': array([0.95608653, 0.00644206, 0.00644206, 0.00644206, 0.00644206]),\n",
       " 'sentiment': ['Neutral', 'Positive', 'Negative'],\n",
       " 'sentiment_src': 'CxG',\n",
       " 'sentiment_probs': array([0., 0., 1.], dtype=float32)}"
      ]
     },
     "execution_count": 10,
     "metadata": {},
     "output_type": "execute_result"
    }
   ],
   "source": [
    "cadence.analyze(\"遠傳測速是在測心酸的\", summary=False)"
   ]
  },
  {
   "cell_type": "code",
   "execution_count": 11,
   "metadata": {},
   "outputs": [
    {
     "data": {
      "text/plain": [
       "'中華電信(0.94)/資費方案(0.44)/Positive(0.51, Bert)'"
      ]
     },
     "execution_count": 11,
     "metadata": {},
     "output_type": "execute_result"
    }
   ],
   "source": [
    "cadence.analyze(\"中華撿到槍\", summary=True)"
   ]
  },
  {
   "cell_type": "code",
   "execution_count": null,
   "metadata": {},
   "outputs": [],
   "source": []
  }
 ],
 "metadata": {
  "kernelspec": {
   "display_name": "Python 3",
   "language": "python",
   "name": "python3"
  },
  "language_info": {
   "codemirror_mode": {
    "name": "ipython",
    "version": 3
   },
   "file_extension": ".py",
   "mimetype": "text/x-python",
   "name": "python",
   "nbconvert_exporter": "python",
   "pygments_lexer": "ipython3",
   "version": "3.7.4"
  }
 },
 "nbformat": 4,
 "nbformat_minor": 4
}

{
 "cells": [
  {
   "cell_type": "code",
   "execution_count": 1,
   "metadata": {},
   "outputs": [],
   "source": [
    "%load_ext autoreload\n",
    "%autoreload 2"
   ]
  },
  {
   "cell_type": "code",
   "execution_count": 2,
   "metadata": {},
   "outputs": [],
   "source": [
    "import pickle\n",
    "import json\n",
    "import random\n",
    "import numpy as np\n",
    "import pandas as pd\n",
    "from tqdm.auto import tqdm\n",
    "from icecream import ic\n",
    "from import_casa import casa\n",
    "from matplotlib import pyplot as plt\n",
    "from casa import Cadence, Cadet, Crystal, MTBert\n",
    "from sklearn.metrics import classification_report, accuracy_score"
   ]
  },
  {
   "cell_type": "code",
   "execution_count": 3,
   "metadata": {},
   "outputs": [
    {
     "name": "stderr",
     "output_type": "stream",
     "text": [
      "[INFO] 2021-09-01 13:36:39,181 casa.Cadence: Loading Cadet\n",
      "[INFO] 2021-09-01 13:36:39,196 gensim.utils: loading KeyedVectors object from ..\\..\\data\\cadence\\..\\cadet\\op20.3\\ft-2020.kv\n",
      "[INFO] 2021-09-01 13:36:39,496 gensim.utils: setting ignored attribute vectors_norm to None\n",
      "[INFO] 2021-09-01 13:36:39,497 gensim.utils: setting ignored attribute vectors_vocab_norm to None\n",
      "[INFO] 2021-09-01 13:36:39,498 gensim.utils: setting ignored attribute vectors_ngrams_norm to None\n",
      "[INFO] 2021-09-01 13:36:39,498 gensim.utils: setting ignored attribute buckets_word to None\n",
      "[INFO] 2021-09-01 13:36:39,612 gensim.utils: FastTextKeyedVectors lifecycle event {'fname': '..\\\\..\\\\data\\\\cadence\\\\..\\\\cadet\\\\op20.3\\\\ft-2020.kv', 'datetime': '2021-09-01T13:36:39.612075', 'gensim': '4.0.0', 'python': '3.8.2 (tags/v3.8.2:7b3ab59, Feb 25 2020, 23:03:10) [MSC v.1916 64 bit (AMD64)]', 'platform': 'Windows-10-10.0.18362-SP0', 'event': 'loaded'}\n",
      "[INFO] 2021-09-01 13:36:39,638 casa.Cadence: Loading Crystal\n",
      "[INFO] 2021-09-01 13:36:39,647 casa.Cadence: Loading MTBert\n"
     ]
    }
   ],
   "source": [
    "cadence = Cadence.load(\"../../data/cadence/config.json\")"
   ]
  },
  {
   "cell_type": "code",
   "execution_count": 4,
   "metadata": {},
   "outputs": [],
   "source": [
    "from casa.cadence.resolvers import CadenceBertOnlyResolver, CadenceSimpleResolver, CadenceMultiResolver\n",
    "from casa.cadence import visualize_tokens"
   ]
  },
  {
   "cell_type": "markdown",
   "metadata": {},
   "source": [
    "## Sample 1"
   ]
  },
  {
   "cell_type": "code",
   "execution_count": 60,
   "metadata": {},
   "outputs": [
    {
     "data": {
      "text/plain": [
       "[['中華電信', '[通訊]網速', 'Positive', 'crystal', 'crystal']]"
      ]
     },
     "execution_count": 60,
     "metadata": {},
     "output_type": "execute_result"
    }
   ],
   "source": [
    "out = cadence.analyze(\"中華超划算，而且最快\", strategy=\"simple\")\n",
    "out.aspects"
   ]
  },
  {
   "cell_type": "code",
   "execution_count": 31,
   "metadata": {},
   "outputs": [
    {
     "data": {
      "text/plain": [
       "[('中華電信', '[資費]續約攜碼', 'Positive'), ('中華電信', '[通訊]網速', 'Positive')]"
      ]
     },
     "execution_count": 31,
     "metadata": {},
     "output_type": "execute_result"
    }
   ],
   "source": [
    "out = cadence.analyze(\"中華超划算，而且最快\", strategy=\"multiple\")\n",
    "out.aspects"
   ]
  },
  {
   "cell_type": "code",
   "execution_count": 32,
   "metadata": {},
   "outputs": [
    {
     "name": "stdout",
     "output_type": "stream",
     "text": [
      "中華\u001b[32m超\u001b[0m\u001b[32m划\u001b[0m\u001b[32m算\u001b[0m，而\u001b[32m且\u001b[0m\u001b[32m最\u001b[0m\u001b[32m快\u001b[0m\n"
     ]
    },
    {
     "data": {
      "text/plain": [
       "{'pn_prob': array([2.2194027e-03, 6.2370958e-04, 9.9951661e-01, 9.9337065e-01,\n",
       "        9.4366127e-01, 1.6342182e-01, 7.2830623e-01, 8.4772754e-01,\n",
       "        9.9723649e-01, 8.9129704e-01], dtype=float32),\n",
       " 'pn_idx': array([-1, -1,  0,  0,  0, -1, -1,  0,  0,  0], dtype=int64)}"
      ]
     },
     "execution_count": 32,
     "metadata": {},
     "output_type": "execute_result"
    }
   ],
   "source": [
    "visualize_tokens(out, 0.8)"
   ]
  },
  {
   "cell_type": "code",
   "execution_count": 39,
   "metadata": {},
   "outputs": [
    {
     "data": {
      "text/plain": [
       "['中華電信']"
      ]
     },
     "execution_count": 39,
     "metadata": {},
     "output_type": "execute_result"
    }
   ],
   "source": [
    "out.entities"
   ]
  },
  {
   "cell_type": "markdown",
   "metadata": {},
   "source": [
    "## Sample 2"
   ]
  },
  {
   "cell_type": "code",
   "execution_count": 70,
   "metadata": {},
   "outputs": [
    {
     "data": {
      "text/plain": [
       "[['遠傳電信', None, 'Negative', 'cadet', 'crystal']]"
      ]
     },
     "execution_count": 70,
     "metadata": {},
     "output_type": "execute_result"
    }
   ],
   "source": [
    "out = cadence.analyze(\"遠傳最近是在哈囉\", strategy=\"simple\")\n",
    "out.aspects"
   ]
  },
  {
   "cell_type": "code",
   "execution_count": 71,
   "metadata": {},
   "outputs": [
    {
     "data": {
      "text/plain": [
       "[('遠傳電信', None, 'Negative')]"
      ]
     },
     "execution_count": 71,
     "metadata": {},
     "output_type": "execute_result"
    }
   ],
   "source": [
    "out = cadence.analyze(\"遠傳最近是在哈囉\", strategy=\"multiple\")\n",
    "out.aspects"
   ]
  },
  {
   "cell_type": "markdown",
   "metadata": {},
   "source": [
    "## Sample 3"
   ]
  },
  {
   "cell_type": "code",
   "execution_count": 119,
   "metadata": {},
   "outputs": [
    {
     "data": {
      "text/plain": [
       "[['中華電信', '[通訊]網速', 'Negative', 'crystal', 'crystal']]"
      ]
     },
     "execution_count": 119,
     "metadata": {},
     "output_type": "execute_result"
    }
   ],
   "source": [
    "out = cadence.analyze(\"亞太網路超差，中華收訊就很好\", \n",
    "                      strategy=\"simple\")\n",
    "out.aspects"
   ]
  },
  {
   "cell_type": "code",
   "execution_count": 120,
   "metadata": {},
   "outputs": [
    {
     "data": {
      "text/plain": [
       "[('亞太電信', '[通訊]網速', 'Negative'), ('中華電信', '[通訊]涵蓋', 'Positive')]"
      ]
     },
     "execution_count": 120,
     "metadata": {},
     "output_type": "execute_result"
    }
   ],
   "source": [
    "out = cadence.analyze(\"亞太網路超差，中華收訊就很好\", \n",
    "                      strategy=\"multiple\")\n",
    "out.aspects"
   ]
  },
  {
   "cell_type": "code",
   "execution_count": 117,
   "metadata": {},
   "outputs": [
    {
     "data": {
      "text/plain": [
       "['亞太電信', '中華電信']"
      ]
     },
     "execution_count": 117,
     "metadata": {},
     "output_type": "execute_result"
    }
   ],
   "source": [
    "out.entities"
   ]
  },
  {
   "cell_type": "code",
   "execution_count": 123,
   "metadata": {},
   "outputs": [
    {
     "data": {
      "text/plain": [
       "{'entity': ['中華電信', '亞太電信', '台灣大哥大', '遠傳電信', '台灣之星', '無框行動'],\n",
       " 'entity_probs': array([0.48782193, 0.48782193, 0.00635621, 0.00620852, 0.00619568,\n",
       "        0.00559573]),\n",
       " 'service': [('通訊品質', '網速'),\n",
       "  ('通訊品質', '涵蓋'),\n",
       "  ('資費方案', '低資費方案'),\n",
       "  ('加值服務', 'vowifi'),\n",
       "  ('加值服務', '電信APP')],\n",
       " 'service_probs': array([0.44906384, 0.44906384, 0.00546045, 0.00518785, 0.0051812 ]),\n",
       " 'seeds': ['網速', '覆蓋率', '訊號', '0月租', '免月租'],\n",
       " 'seed_probs': array([0.3714933 , 0.3714933 , 0.00598352, 0.00451722, 0.00451722]),\n",
       " 'tokens': ['亞太', '網路', '超', '差,', '中華', '收訊', '就', '很好'],\n",
       " 'tokens_attrib': {'亞太電信': [0], '網速': [1], '中華電信': [4], '覆蓋率': [5]}}"
      ]
     },
     "execution_count": 123,
     "metadata": {},
     "output_type": "execute_result"
    }
   ],
   "source": [
    "out.cadet"
   ]
  },
  {
   "cell_type": "code",
   "execution_count": 125,
   "metadata": {},
   "outputs": [
    {
     "data": {
      "text/plain": [
       "{'text': '亞太網路超差，中華收訊就很好',\n",
       " 'seq_polarity': 'Negative',\n",
       " 'seq_probs': array([0.00368624, 0.00232451, 0.9939892 ], dtype=float32),\n",
       " 'spans': ['超差'],\n",
       " 'span_idxs': [[4, 5]],\n",
       " 'span_pols': ['N'],\n",
       " 'token_probs': tensor([[9.9958e-01, 1.0760e-04, 3.1391e-04],\n",
       "         [9.9992e-01, 3.4762e-05, 4.5604e-05],\n",
       "         [9.9666e-01, 1.3611e-04, 3.2047e-03],\n",
       "         [9.9577e-01, 2.2931e-04, 3.9974e-03],\n",
       "         [5.7096e-03, 1.4068e-05, 9.9428e-01],\n",
       "         [2.1420e-02, 7.8692e-05, 9.7850e-01],\n",
       "         [9.9966e-01, 8.1200e-06, 3.3352e-04],\n",
       "         [9.9994e-01, 2.8090e-05, 2.7910e-05],\n",
       "         [9.9996e-01, 1.0898e-05, 2.4490e-05],\n",
       "         [9.9429e-01, 1.0880e-04, 5.6001e-03],\n",
       "         [9.9923e-01, 9.7623e-05, 6.7131e-04],\n",
       "         [7.6497e-01, 1.6180e-03, 2.3341e-01],\n",
       "         [7.4420e-01, 2.9050e-04, 2.5551e-01],\n",
       "         [8.3516e-01, 1.2149e-03, 1.6363e-01]])}"
      ]
     },
     "execution_count": 125,
     "metadata": {},
     "output_type": "execute_result"
    }
   ],
   "source": [
    "out.mt_bert"
   ]
  },
  {
   "cell_type": "code",
   "execution_count": 124,
   "metadata": {},
   "outputs": [
    {
     "data": {
      "text/plain": [
       "{'result': ('[通訊]網速', 1.0),\n",
       " 'word_attr_map': {'超差': ('[通訊]網速', 1, 0.5), '很好': ('[通訊]涵蓋', 5, 0.3)},\n",
       " 'CxG': [],\n",
       " 'onto': [('超差', [('[通訊]網速', 1, 0.5), ('[通訊]涵蓋', 1, 0.5)]),\n",
       "  ('很好',\n",
       "   [('[其他]手機', 4, 0.3),\n",
       "    ('[通訊]網速', 4, 0.3),\n",
       "    ('[通訊]涵蓋', 5, 0.3),\n",
       "    ('[通訊]涵蓋', 4, 0.1)])]}"
      ]
     },
     "execution_count": 124,
     "metadata": {},
     "output_type": "execute_result"
    }
   ],
   "source": [
    "out.crystal"
   ]
  },
  {
   "cell_type": "code",
   "execution_count": 110,
   "metadata": {},
   "outputs": [
    {
     "data": {
      "text/plain": [
       "<CadenceOutput: [('中華電信', '[資費]方案活動', 'Positive')]>"
      ]
     },
     "execution_count": 110,
     "metadata": {},
     "output_type": "execute_result"
    }
   ],
   "source": [
    "# why this doesn't work??\n",
    "out = cadence.analyze(\"亞太很划算，但中華網速很快\", strategy=\"simple\")\n",
    "out"
   ]
  },
  {
   "cell_type": "code",
   "execution_count": 113,
   "metadata": {},
   "outputs": [
    {
     "data": {
      "text/plain": [
       "<CadenceOutput: [('中華電信', '[通訊]網速', 'Positive')]>"
      ]
     },
     "execution_count": 113,
     "metadata": {},
     "output_type": "execute_result"
    }
   ],
   "source": [
    "out = cadence.analyze(\"亞太很划算，但中華很順暢\", strategy=\"multiple\")\n",
    "out"
   ]
  },
  {
   "cell_type": "code",
   "execution_count": 114,
   "metadata": {},
   "outputs": [
    {
     "data": {
      "text/plain": [
       "{'result': ('[通訊]網速', 5.0),\n",
       " 'word_attr_map': {'很順暢': ('[通訊]網速', 5, 1.0)},\n",
       " 'CxG': [],\n",
       " 'onto': [('很順暢', [('[通訊]網速', 5, 1.0)]),\n",
       "  ('很划算',\n",
       "   [('[資費]低資費方案', 5, 0.16666666666666666),\n",
       "    ('[資費]續約攜碼', 5, 0.16666666666666666),\n",
       "    ('[加值]電信APP', 5, 0.16666666666666666),\n",
       "    ('[其他]手機', 4, 0.16666666666666666),\n",
       "    ('[資費]方案活動', 4, 0.16666666666666666),\n",
       "    ('[加值]國際漫遊', 5, 0.16666666666666666)])]}"
      ]
     },
     "execution_count": 114,
     "metadata": {},
     "output_type": "execute_result"
    }
   ],
   "source": [
    "out.crystal"
   ]
  },
  {
   "cell_type": "code",
   "execution_count": 41,
   "metadata": {},
   "outputs": [
    {
     "name": "stdout",
     "output_type": "stream",
     "text": [
      "亞太網路\u001b[31m超\u001b[0m\u001b[31m差\u001b[0m，中華\u001b[31m收\u001b[0m訊\u001b[31m就\u001b[0m\u001b[31m很\u001b[0m\u001b[31m好\u001b[0m\n"
     ]
    },
    {
     "data": {
      "text/plain": [
       "{'pn_prob': array([3.1391025e-04, 4.5604211e-05, 3.2047320e-03, 3.9974255e-03,\n",
       "        9.9427634e-01, 9.7850168e-01, 3.3351569e-04, 2.8090037e-05,\n",
       "        2.4490140e-05, 5.6001269e-03, 6.7131169e-04, 2.3341034e-01,\n",
       "        2.5550574e-01, 1.6362540e-01], dtype=float32),\n",
       " 'pn_idx': array([-1, -1, -1, -1,  1,  1, -1, -1, -1,  1, -1,  1,  1,  1],\n",
       "       dtype=int64)}"
      ]
     },
     "execution_count": 41,
     "metadata": {},
     "output_type": "execute_result"
    }
   ],
   "source": [
    "visualize_tokens(out, 0.005)"
   ]
  },
  {
   "cell_type": "code",
   "execution_count": 42,
   "metadata": {},
   "outputs": [
    {
     "data": {
      "text/plain": [
       "{'result': ('[通訊]網速', 1.0),\n",
       " 'word_attr_map': {'超差': ('[通訊]網速', 1, 0.5), '很好': ('[通訊]涵蓋', 5, 0.3)},\n",
       " 'CxG': [],\n",
       " 'onto': [('超差', [('[通訊]網速', 1, 0.5), ('[通訊]涵蓋', 1, 0.5)]),\n",
       "  ('很好',\n",
       "   [('[其他]手機', 4, 0.3),\n",
       "    ('[通訊]網速', 4, 0.3),\n",
       "    ('[通訊]涵蓋', 5, 0.3),\n",
       "    ('[通訊]涵蓋', 4, 0.1)])]}"
      ]
     },
     "execution_count": 42,
     "metadata": {},
     "output_type": "execute_result"
    }
   ],
   "source": [
    "out.crystal"
   ]
  },
  {
   "cell_type": "code",
   "execution_count": 118,
   "metadata": {},
   "outputs": [
    {
     "data": {
      "text/plain": [
       "{'entity': ['中華電信', '亞太電信', '台灣大哥大', '遠傳電信', '台灣之星', '無框行動'],\n",
       " 'entity_probs': array([0.48782193, 0.48782193, 0.00635621, 0.00620852, 0.00619568,\n",
       "        0.00559573]),\n",
       " 'service': [('通訊品質', '網速'),\n",
       "  ('通訊品質', '涵蓋'),\n",
       "  ('資費方案', '低資費方案'),\n",
       "  ('加值服務', 'vowifi'),\n",
       "  ('加值服務', '電信APP')],\n",
       " 'service_probs': array([0.44906384, 0.44906384, 0.00546045, 0.00518785, 0.0051812 ]),\n",
       " 'seeds': ['網速', '覆蓋率', '訊號', '0月租', '免月租'],\n",
       " 'seed_probs': array([0.3714933 , 0.3714933 , 0.00598352, 0.00451722, 0.00451722]),\n",
       " 'tokens': ['亞太', '網路', '超', '差,', '中華', '收訊', '就', '很好'],\n",
       " 'tokens_attrib': {'亞太電信': [0], '網速': [1], '中華電信': [4], '覆蓋率': [5]}}"
      ]
     },
     "execution_count": 118,
     "metadata": {},
     "output_type": "execute_result"
    }
   ],
   "source": [
    "out.cadet"
   ]
  },
  {
   "cell_type": "code",
   "execution_count": 44,
   "metadata": {},
   "outputs": [
    {
     "data": {
      "text/plain": [
       "['亞太電信', '中華電信']"
      ]
     },
     "execution_count": 44,
     "metadata": {},
     "output_type": "execute_result"
    }
   ],
   "source": [
    "out.entities"
   ]
  },
  {
   "cell_type": "markdown",
   "metadata": {},
   "source": [
    "## Sample 4"
   ]
  },
  {
   "cell_type": "code",
   "execution_count": 103,
   "metadata": {},
   "outputs": [
    {
     "data": {
      "text/plain": [
       "[[None, '[通訊]網速', 'Negative', 'crystal', 'crystal']]"
      ]
     },
     "execution_count": 103,
     "metadata": {},
     "output_type": "execute_result"
    }
   ],
   "source": [
    "out = cadence.analyze(\"他為什麼怪怪的阿\", strategy=\"simple\")\n",
    "out.aspects"
   ]
  },
  {
   "cell_type": "code",
   "execution_count": 104,
   "metadata": {},
   "outputs": [
    {
     "data": {
      "text/plain": [
       "{'text': '他為什麼怪怪的阿',\n",
       " 'seq_polarity': 'Neutral',\n",
       " 'seq_probs': array([9.9883884e-01, 1.3758482e-04, 1.0236134e-03], dtype=float32),\n",
       " 'spans': [],\n",
       " 'span_idxs': [],\n",
       " 'span_pols': [],\n",
       " 'token_probs': tensor([[9.9030e-01, 4.4528e-04, 9.2553e-03],\n",
       "         [9.9771e-01, 9.3668e-06, 2.2854e-03],\n",
       "         [9.9631e-01, 1.4438e-05, 3.6719e-03],\n",
       "         [9.9797e-01, 1.2793e-05, 2.0210e-03],\n",
       "         [9.8008e-01, 1.3504e-05, 1.9907e-02],\n",
       "         [9.9730e-01, 1.4293e-05, 2.6883e-03],\n",
       "         [9.9830e-01, 2.0094e-05, 1.6798e-03],\n",
       "         [9.9836e-01, 4.0464e-05, 1.6040e-03]])}"
      ]
     },
     "execution_count": 104,
     "metadata": {},
     "output_type": "execute_result"
    }
   ],
   "source": [
    "out.mt_bert"
   ]
  },
  {
   "cell_type": "code",
   "execution_count": null,
   "metadata": {},
   "outputs": [],
   "source": []
  }
 ],
 "metadata": {
  "kernelspec": {
   "display_name": "Python 3",
   "language": "python",
   "name": "python3"
  },
  "language_info": {
   "codemirror_mode": {
    "name": "ipython",
    "version": 3
   },
   "file_extension": ".py",
   "mimetype": "text/x-python",
   "name": "python",
   "nbconvert_exporter": "python",
   "pygments_lexer": "ipython3",
   "version": "3.8.2"
  }
 },
 "nbformat": 4,
 "nbformat_minor": 4
}

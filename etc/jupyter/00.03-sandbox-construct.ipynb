{
 "cells": [
  {
   "cell_type": "code",
   "execution_count": 1,
   "id": "dynamic-florist",
   "metadata": {},
   "outputs": [],
   "source": [
    "%load_ext autoreload\n",
    "%autoreload 2"
   ]
  },
  {
   "cell_type": "code",
   "execution_count": 2,
   "id": "opposite-classics",
   "metadata": {},
   "outputs": [],
   "source": [
    "import pandas as pd\n",
    "import glob\n",
    "from import_casa import casa"
   ]
  },
  {
   "cell_type": "code",
   "execution_count": 3,
   "id": "local-flavor",
   "metadata": {},
   "outputs": [],
   "source": [
    "import pickle"
   ]
  },
  {
   "cell_type": "code",
   "execution_count": 4,
   "id": "seasonal-bouquet",
   "metadata": {},
   "outputs": [],
   "source": [
    "with (casa.get_data_path()/\"threads/cht-2020-merged.pkl\").open(\"rb\") as fin:\n",
    "    threads = pickle.load(fin)\n"
   ]
  },
  {
   "cell_type": "code",
   "execution_count": 5,
   "id": "medical-scoop",
   "metadata": {},
   "outputs": [
    {
     "data": {
      "text/plain": [
       "['5G競標等於是台灣政府做莊坑殺台灣民眾 (第5頁)\\u3000該不會是業者出來代風向球吧給你看看業者自己說的話喔5G標金破800億 中華電謝繼茂：千億價格值得！請不要搗亂市場供需原則真懷疑你真是否消費哲']"
      ]
     },
     "execution_count": 5,
     "metadata": {},
     "output_type": "execute_result"
    }
   ],
   "source": [
    "list(threads[100].opinion_texts())"
   ]
  },
  {
   "cell_type": "code",
   "execution_count": 6,
   "id": "alternate-portland",
   "metadata": {},
   "outputs": [
    {
     "name": "stdout",
     "output_type": "stream",
     "text": [
      "Main: <Opinion [mobile01] 威廉BBQ: 在晚上9點多才擠進市政府要打給同事打不通...>\n",
      "-- <Opinion [mobile01] nicholas820: 這理所當然吧電信業龍頭欸!!!要不然這幾...>\n",
      "-- <Opinion [mobile01] wingth: 中華很給力說,新年快樂~~~>\n",
      "-- <Opinion [mobile01] 阿嘍嘍: 中華一直很強 也很貴>\n",
      "-- <Opinion [mobile01] max-tw: 基地台後面接的固網降價升速每家電信都不塞...>\n",
      "-- <Opinion [mobile01] YOLOS: 本想稱讚一下中華的但看了樓主的發文紀錄覺...>\n",
      "-- <Opinion [mobile01] AL921er: 200M應該是10點多中華到巔峰時刻我猜...>\n",
      "-- <Opinion [mobile01] HermesParis: 哇塞!中華基地台車很強?既然電磁波這麼強...>\n",
      "-- <Opinion [mobile01] lzx: 刁民們抗議的是沒分到錢，沒錢當然會頭暈想...>\n",
      "-- <Opinion [mobile01] Tiengap: 覺得都差不多，昨天跨年也跟朋友在101附...>\n"
     ]
    }
   ],
   "source": [
    "t0 = threads[107]\n",
    "t0.print_thread()"
   ]
  },
  {
   "cell_type": "code",
   "execution_count": null,
   "id": "static-state",
   "metadata": {},
   "outputs": [],
   "source": []
  },
  {
   "cell_type": "code",
   "execution_count": 1,
   "id": "alternative-timer",
   "metadata": {},
   "outputs": [],
   "source": [
    "%load_ext autoreload\n",
    "%autoreload 2"
   ]
  },
  {
   "cell_type": "code",
   "execution_count": 10,
   "id": "standard-consent",
   "metadata": {},
   "outputs": [],
   "source": [
    "from import_casa import casa\n",
    "import pickle\n",
    "import re\n",
    "from itertools import chain\n",
    "from tqdm.auto import tqdm"
   ]
  },
  {
   "cell_type": "code",
   "execution_count": 6,
   "id": "seasonal-teens",
   "metadata": {},
   "outputs": [],
   "source": [
    "with (casa.get_data_path()/\"threads/cht-2020-merged.pkl\").open(\"rb\") as fin:\n",
    "    threads = pickle.load(fin)"
   ]
  },
  {
   "cell_type": "code",
   "execution_count": 23,
   "id": "nearby-theme",
   "metadata": {},
   "outputs": [
    {
     "data": {
      "application/vnd.jupyter.widget-view+json": {
       "model_id": "3b28738e1adf4282bba079a5b3ffcde5",
       "version_major": 2,
       "version_minor": 0
      },
      "text/plain": [
       "HBox(children=(HTML(value=''), FloatProgress(value=0.0, max=56064.0), HTML(value='')))"
      ]
     },
     "metadata": {},
     "output_type": "display_data"
    },
    {
     "name": "stdout",
     "output_type": "stream",
     "text": [
      "對民眾一點都不好。\n",
      "對老客戶一點都不照顧, 只有新客戶\n",
      "對老客戶根本一點都不友善\n",
      "對用戶來說.老客戶一點都不值錢(因為會一直虧\n",
      "對用戶來說.老客戶一點都不值錢(因為會一直虧\n",
      "對用戶來說.老客戶一點都不值錢(因為會一直虧\n",
      "對老客戶一點都不好\n",
      "對中華來說一點都不浪費，因為最後出錢\n",
      "對自家老客戶待遇真心一點都不好 支持那麼多年卻\n",
      "對老客戶一點都不友善... 這樣相\n",
      "對老客戶一點都不友善... 這樣相\n",
      "對他一點都沒好處)2.你要蓋的\n",
      "對他一點都沒好處)2.你要蓋的\n",
      "對，不然完全一點都沒競爭力\n",
      "對老客戶一點都不好，還是NP吧\n",
      "\n"
     ]
    }
   ],
   "source": [
    "pat = re.compile(r\"對.{,10}一點都.{,10}\")\n",
    "for thread_x in tqdm(threads):\n",
    "    for optext in thread_x.opinion_texts():\n",
    "        mat = pat.search(optext)\n",
    "        if mat:\n",
    "            print(mat.group(0))\n",
    "            "
   ]
  },
  {
   "cell_type": "code",
   "execution_count": 28,
   "id": "varying-compatibility",
   "metadata": {},
   "outputs": [],
   "source": [
    "def find_pattern(pat):\n",
    "    pat = re.compile(pat)\n",
    "    for thread_x in tqdm(threads):\n",
    "        for optext in thread_x.opinion_texts():\n",
    "            mat = pat.search(optext)\n",
    "            if mat:\n",
    "                print(mat.group(0))\n",
    "            "
   ]
  },
  {
   "cell_type": "code",
   "execution_count": 31,
   "id": "adult-pleasure",
   "metadata": {},
   "outputs": [
    {
     "data": {
      "application/vnd.jupyter.widget-view+json": {
       "model_id": "66ad93503a4c43f9b7ce5ea84eff46c7",
       "version_major": 2,
       "version_minor": 0
      },
      "text/plain": [
       "HBox(children=(HTML(value=''), FloatProgress(value=0.0, max=56064.0), HTML(value='')))"
      ]
     },
     "metadata": {},
     "output_type": "display_data"
    },
    {
     "name": "stdout",
     "output_type": "stream",
     "text": [
      "對民眾一點都不好。\n",
      "對老客戶一點都不照顧,\n",
      "對老客戶根本一點都不友善\n",
      "對老客戶一點都不好\n",
      "對中華來說一點都不浪費，\n",
      "對老客戶一點都不友善.\n",
      "對老客戶一點都不友善.\n",
      "對老客戶一點都不好，還\n",
      "\n"
     ]
    }
   ],
   "source": [
    "find_pattern(\"對.{,5}一點都不.{,3}\")"
   ]
  },
  {
   "cell_type": "code",
   "execution_count": null,
   "id": "frozen-perfume",
   "metadata": {},
   "outputs": [],
   "source": []
  }
 ],
 "metadata": {
  "kernelspec": {
   "display_name": "Python 3",
   "language": "python",
   "name": "python3"
  },
  "language_info": {
   "codemirror_mode": {
    "name": "ipython",
    "version": 3
   },
   "file_extension": ".py",
   "mimetype": "text/x-python",
   "name": "python",
   "nbconvert_exporter": "python",
   "pygments_lexer": "ipython3",
   "version": "3.7.4"
  }
 },
 "nbformat": 4,
 "nbformat_minor": 5
}

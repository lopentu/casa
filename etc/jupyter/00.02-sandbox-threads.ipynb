{
 "cells": [
  {
   "cell_type": "code",
   "execution_count": 1,
   "id": "known-central",
   "metadata": {},
   "outputs": [],
   "source": [
    "%load_ext autoreload\n",
    "%autoreload 2"
   ]
  },
  {
   "cell_type": "code",
   "execution_count": 2,
   "id": "voluntary-worst",
   "metadata": {},
   "outputs": [],
   "source": [
    "import pandas as pd\n",
    "import glob\n",
    "from import_casa import casa"
   ]
  },
  {
   "cell_type": "code",
   "execution_count": 3,
   "id": "constitutional-pharmacy",
   "metadata": {},
   "outputs": [],
   "source": [
    "import pickle"
   ]
  },
  {
   "cell_type": "code",
   "execution_count": 4,
   "id": "compressed-university",
   "metadata": {},
   "outputs": [],
   "source": [
    "with (casa.get_data_path()/\"threads/cht-2020-merged.pkl\").open(\"rb\") as fin:\n",
    "    threads = pickle.load(fin)\n"
   ]
  },
  {
   "cell_type": "code",
   "execution_count": 5,
   "id": "universal-original",
   "metadata": {},
   "outputs": [
    {
     "data": {
      "text/plain": [
       "['5G競標等於是台灣政府做莊坑殺台灣民眾 (第5頁)\\u3000該不會是業者出來代風向球吧給你看看業者自己說的話喔5G標金破800億 中華電謝繼茂：千億價格值得！請不要搗亂市場供需原則真懷疑你真是否消費哲']"
      ]
     },
     "execution_count": 5,
     "metadata": {},
     "output_type": "execute_result"
    }
   ],
   "source": [
    "list(threads[100].opinion_texts())"
   ]
  },
  {
   "cell_type": "code",
   "execution_count": 6,
   "id": "empirical-barcelona",
   "metadata": {},
   "outputs": [
    {
     "name": "stdout",
     "output_type": "stream",
     "text": [
      "Main: <Opinion [mobile01] 威廉BBQ: 在晚上9點多才擠進市政府要打給同事打不通...>\n",
      "-- <Opinion [mobile01] nicholas820: 這理所當然吧電信業龍頭欸!!!要不然這幾...>\n",
      "-- <Opinion [mobile01] wingth: 中華很給力說,新年快樂~~~>\n",
      "-- <Opinion [mobile01] 阿嘍嘍: 中華一直很強 也很貴>\n",
      "-- <Opinion [mobile01] max-tw: 基地台後面接的固網降價升速每家電信都不塞...>\n",
      "-- <Opinion [mobile01] YOLOS: 本想稱讚一下中華的但看了樓主的發文紀錄覺...>\n",
      "-- <Opinion [mobile01] AL921er: 200M應該是10點多中華到巔峰時刻我猜...>\n",
      "-- <Opinion [mobile01] HermesParis: 哇塞!中華基地台車很強?既然電磁波這麼強...>\n",
      "-- <Opinion [mobile01] lzx: 刁民們抗議的是沒分到錢，沒錢當然會頭暈想...>\n",
      "-- <Opinion [mobile01] Tiengap: 覺得都差不多，昨天跨年也跟朋友在101附...>\n"
     ]
    }
   ],
   "source": [
    "t0 = threads[107]\n",
    "t0.print_thread()"
   ]
  },
  {
   "cell_type": "code",
   "execution_count": 7,
   "id": "straight-burke",
   "metadata": {},
   "outputs": [],
   "source": [
    "from io import StringIO\n",
    "from textwrap import indent, wrap\n",
    "from datetime import datetime\n",
    "def format_text(text, textwidth=60, __indent=2, __indent0=0):\n",
    "    return \"\\n\".join(\n",
    "        indent(ln, ' '*(__indent0 if ln_i==0 else __indent))\n",
    "        for ln_i, ln in enumerate(wrap(text, textwidth))\n",
    "    )\n",
    "def format_thread(thread):\n",
    "    sio = StringIO()\n",
    "    timestamp = datetime.strptime(t0.main.id[1:15], \n",
    "                                  \"%Y%m%d%H%M%S\").strftime(\"%c\")\n",
    "    sio.write(f\"[{thread.source}] \")\n",
    "    sio.write(timestamp + \"\\n\")\n",
    "    if thread.main:\n",
    "        sio.write(format_text(thread.main.title, __indent=0))\n",
    "        sio.write(\"\\n\")\n",
    "        sio.write(format_text(\"----\", __indent=0))\n",
    "        sio.write(\"\\n\")\n",
    "        sio.write(format_text(thread.main.text, __indent=0))\n",
    "        sio.write(\"\\n\\n\")\n",
    "    for reply_x in thread.replies:\n",
    "        sio.write(format_text(\">> \" + reply_x.text, __indent=3, __indent0=0))\n",
    "        sio.write(\"\\n\")\n",
    "    return sio.getvalue()"
   ]
  },
  {
   "cell_type": "code",
   "execution_count": 72,
   "id": "exceptional-iceland",
   "metadata": {},
   "outputs": [],
   "source": [
    "from io import StringIO\n",
    "from textwrap import indent, wrap\n",
    "from datetime import datetime\n",
    "\n",
    "def format_thread_html(thread, idx=-1):\n",
    "    sio = StringIO()\n",
    "    op0 = thread.get_opinion()\n",
    "    timestamp = datetime.strptime(op0.id[1:15], \n",
    "                                  \"%Y%m%d%H%M%S\").strftime(\"%c\")\n",
    "    sio.write(f\"<div class='thread-wrapper' id='{op0.id}''>\\n\")\n",
    "    sio.write(f\"<span class='source'>{idx}. [{thread.source}] </span>\")\n",
    "    sio.write(\"<span class='timestamp'>\" + timestamp + \"</span>\\n\")\n",
    "    if thread.main:\n",
    "        sio.write(\"<div class='title'>\")\n",
    "        sio.write(format_text(thread.main.title, __indent=0))\n",
    "        sio.write(\"</div>\\n<div class='main-text'>\\n\")\n",
    "        sio.write(format_text(thread.main.text, __indent=0))\n",
    "        sio.write(\"</div>\\n\\n\")\n",
    "    else:\n",
    "        sio.write(\"<div class='title'>(無主文)</div>\")\n",
    "    sio.write(\"<ol class='reply-wrap'>\\n\")\n",
    "    for reply_x in thread.replies:\n",
    "        sio.write(format_text(\"  <li class='reply-text'> \" + reply_x.text, __indent=3, __indent0=0))\n",
    "        sio.write(\"  </li>\\n\")\n",
    "    sio.write(\"</ol>\\n\")\n",
    "    sio.write(\"</div>\")\n",
    "    return sio.getvalue()"
   ]
  },
  {
   "cell_type": "code",
   "execution_count": 79,
   "id": "blessed-product",
   "metadata": {},
   "outputs": [
    {
     "name": "stdout",
     "output_type": "stream",
     "text": [
      "<div class='thread-wrapper' id='D2020010109440642954493560274790208575497087793916''>\n",
      "<span class='source'>-1. [mobile01] </span><span class='timestamp'>Wed Jan  1 09:44:06 2020</span>\n",
      "<div class='title'>(無主文)</div><ol class='reply-wrap'>\n",
      "  <li class='reply-text'> 該不會是業者出來代風向球吧給你看看業者自己說的話喔5G標金破800億\n",
      "   中華電謝繼茂：千億價格值得！請不要搗亂市場供需原則真懷疑你真是否消費哲  </li>\n",
      "</ol>\n",
      "</div>\n"
     ]
    }
   ],
   "source": [
    "print(format_thread_html(threads[100]))"
   ]
  },
  {
   "cell_type": "code",
   "execution_count": 74,
   "id": "historical-mistress",
   "metadata": {},
   "outputs": [
    {
     "data": {
      "text/plain": [
       "56064"
      ]
     },
     "execution_count": 74,
     "metadata": {},
     "output_type": "execute_result"
    }
   ],
   "source": [
    "len(threads)"
   ]
  },
  {
   "cell_type": "code",
   "execution_count": 75,
   "id": "compressed-emergency",
   "metadata": {},
   "outputs": [],
   "source": [
    "style_text = \"\"\"\n",
    ".wrapper {margin: auto; width: 50%; line-height: 150%}\n",
    ".thread-wrapper {margin: 5% 0%; padding: 2% 2%; border-bottom: 1px solid gray}\n",
    ".title {font-weight: bolder}\n",
    "\"\"\""
   ]
  },
  {
   "cell_type": "code",
   "execution_count": 80,
   "id": "subjective-roller",
   "metadata": {},
   "outputs": [],
   "source": [
    "fout = (casa.get_data_path() / \"threads/threads-sample-every50.html\").open(\"w\", encoding=\"UTF-8\")\n",
    "fout.write(\"<!doctype html><html>\\n\")\n",
    "fout.write(\"<head><style>\")\n",
    "fout.write(style_text)\n",
    "fout.write(\"</style></head>\\n\")\n",
    "fout.write(\"<body><div class='wrapper'>\")\n",
    "for counter, idx in enumerate(range(0, len(threads), 50)):\n",
    "    try:\n",
    "        html = format_thread_html(threads[idx], counter)\n",
    "        fout.write(html)\n",
    "    except Exception:\n",
    "        pass\n",
    "fout.write(\"</div></body>\\n</html>\")\n",
    "fout.close()"
   ]
  },
  {
   "cell_type": "code",
   "execution_count": null,
   "id": "returning-perfume",
   "metadata": {},
   "outputs": [],
   "source": []
  },
  {
   "cell_type": "code",
   "execution_count": null,
   "id": "conscious-sister",
   "metadata": {},
   "outputs": [],
   "source": []
  }
 ],
 "metadata": {
  "kernelspec": {
   "display_name": "Python 3",
   "language": "python",
   "name": "python3"
  },
  "language_info": {
   "codemirror_mode": {
    "name": "ipython",
    "version": 3
   },
   "file_extension": ".py",
   "mimetype": "text/x-python",
   "name": "python",
   "nbconvert_exporter": "python",
   "pygments_lexer": "ipython3",
   "version": "3.7.4"
  }
 },
 "nbformat": 4,
 "nbformat_minor": 5
}

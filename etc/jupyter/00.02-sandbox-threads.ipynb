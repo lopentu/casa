{
 "cells": [
  {
   "cell_type": "code",
   "execution_count": 2,
   "id": "cleared-uzbekistan",
   "metadata": {},
   "outputs": [],
   "source": [
    "%load_ext autoreload\n",
    "%autoreload 2"
   ]
  },
  {
   "cell_type": "code",
   "execution_count": 3,
   "id": "brave-marine",
   "metadata": {},
   "outputs": [],
   "source": [
    "import pandas as pd\n",
    "import glob\n",
    "from import_casa import casa"
   ]
  },
  {
   "cell_type": "code",
   "execution_count": 5,
   "id": "cognitive-deadline",
   "metadata": {},
   "outputs": [],
   "source": [
    "import pickle"
   ]
  },
  {
   "cell_type": "code",
   "execution_count": 8,
   "id": "aging-extension",
   "metadata": {},
   "outputs": [],
   "source": [
    "with (casa.get_data_path()/\"threads/cht-2020-merged.pkl\").open(\"rb\") as fin:\n",
    "    threads = pickle.load(fin)\n"
   ]
  },
  {
   "cell_type": "code",
   "execution_count": 16,
   "id": "outside-palestinian",
   "metadata": {},
   "outputs": [
    {
     "data": {
      "text/plain": [
       "['5G競標等於是台灣政府做莊坑殺台灣民眾 (第5頁)\\u3000該不會是業者出來代風向球吧給你看看業者自己說的話喔5G標金破800億 中華電謝繼茂：千億價格值得！請不要搗亂市場供需原則真懷疑你真是否消費哲']"
      ]
     },
     "execution_count": 16,
     "metadata": {},
     "output_type": "execute_result"
    }
   ],
   "source": [
    "list(threads[100].opinion_texts())"
   ]
  },
  {
   "cell_type": "code",
   "execution_count": 22,
   "id": "accompanied-bones",
   "metadata": {},
   "outputs": [
    {
     "name": "stdout",
     "output_type": "stream",
     "text": [
      "Main: <Opinion [mobile01] 威廉BBQ: 在晚上9點多才擠進市政府要打給同事打不通...>\n",
      "-- <Opinion [mobile01] nicholas820: 這理所當然吧電信業龍頭欸!!!要不然這幾...>\n",
      "-- <Opinion [mobile01] wingth: 中華很給力說,新年快樂~~~>\n",
      "-- <Opinion [mobile01] 阿嘍嘍: 中華一直很強 也很貴>\n",
      "-- <Opinion [mobile01] max-tw: 基地台後面接的固網降價升速每家電信都不塞...>\n",
      "-- <Opinion [mobile01] YOLOS: 本想稱讚一下中華的但看了樓主的發文紀錄覺...>\n",
      "-- <Opinion [mobile01] AL921er: 200M應該是10點多中華到巔峰時刻我猜...>\n",
      "-- <Opinion [mobile01] HermesParis: 哇塞!中華基地台車很強?既然電磁波這麼強...>\n",
      "-- <Opinion [mobile01] lzx: 刁民們抗議的是沒分到錢，沒錢當然會頭暈想...>\n",
      "-- <Opinion [mobile01] Tiengap: 覺得都差不多，昨天跨年也跟朋友在101附...>\n"
     ]
    }
   ],
   "source": [
    "t0 = threads[107]\n",
    "t0.print_thread()"
   ]
  },
  {
   "cell_type": "code",
   "execution_count": 98,
   "id": "bizarre-green",
   "metadata": {},
   "outputs": [],
   "source": [
    "from io import StringIO\n",
    "from textwrap import indent, wrap\n",
    "from datetime import datetime\n",
    "def format_text(text, textwidth=60, __indent=2, __indent0=0):\n",
    "    return \"\\n\".join(\n",
    "        indent(ln, ' '*(__indent0 if ln_i==0 else __indent))\n",
    "        for ln_i, ln in enumerate(wrap(text, textwidth))\n",
    "    )\n",
    "def format_thread(thread):\n",
    "    sio = StringIO()\n",
    "    timestamp = datetime.strptime(t0.main.id[1:15], \n",
    "                                  \"%Y%m%d%H%M%S\").strftime(\"%c\")\n",
    "    sio.write(f\"[{thread.source}] \")\n",
    "    sio.write(timestamp + \"\\n\")\n",
    "    if thread.main:\n",
    "        sio.write(format_text(thread.main.title, __indent=0))\n",
    "        sio.write(\"\\n\")\n",
    "        sio.write(format_text(\"----\", __indent=0))\n",
    "        sio.write(\"\\n\")\n",
    "        sio.write(format_text(thread.main.text, __indent=0))\n",
    "        sio.write(\"\\n\\n\")\n",
    "    for reply_x in thread.replies:\n",
    "        sio.write(format_text(\">> \" + reply_x.text, __indent=3, __indent0=0))\n",
    "        sio.write(\"\\n\")\n",
    "    return sio.getvalue()"
   ]
  },
  {
   "cell_type": "code",
   "execution_count": 99,
   "id": "proprietary-sussex",
   "metadata": {},
   "outputs": [
    {
     "name": "stdout",
     "output_type": "stream",
     "text": [
      "[mobile01] Wed Jan  1 00:43:42 2020\n",
      "中華這次基地台車好像很強...\n",
      "----\n",
      "在晚上9點多才擠進市政府要打給同事打不通但中華網路還是很順所以判斷應該是同事台哥的問題因為打回家給中華的家人就通了XD附\n",
      "上中華測速圖今年真的蠻給力的不過我在現場沒有拍到基地台車有其他人拍到嗎？最後祝大家新年快樂～\n",
      "\n",
      ">> 這理所當然吧電信業龍頭欸!!!要不然這幾天幾百億在競標的5G你以為他哪來的實力XD\n",
      ">> 中華很給力說,新年快樂~~~\n",
      ">> 中華一直很強 也很貴\n",
      ">> 基地台後面接的固網降價升速每家電信都不塞車看到有人感謝中華電信真的滿搞笑的\n",
      ">> 本想稱讚一下中華的但看了樓主的發文紀錄覺得不太單純\n",
      ">> 200M應該是10點多中華到巔峰時刻我猜是50M左右不過還是順用就是了～\n",
      ">> 哇塞!中華基地台車很強?既然電磁波這麼強你有沒有覺得頭暈暈的?有沒有想吐?有沒有不孕?有沒有流產?有沒有心悸?有沒\n",
      "   有失眠?有沒有罹患癌症腫瘤?有沒有夫妻失和?有沒有諸事不順?中華基地台車電磁波這麼強竟然沒有人抗議?!\n",
      ">> 刁民們抗議的是沒分到錢，沒錢當然會頭暈想吐會生病。\n",
      ">> 覺得都差不多，昨天跨年也跟朋友在101附近，台哥打電話都能通，附近也有看到臨時駐點的行動基地台\n",
      "\n"
     ]
    }
   ],
   "source": [
    "print(format_thread(t0))"
   ]
  },
  {
   "cell_type": "code",
   "execution_count": null,
   "id": "floating-israeli",
   "metadata": {},
   "outputs": [],
   "source": []
  }
 ],
 "metadata": {
  "kernelspec": {
   "display_name": "Python 3",
   "language": "python",
   "name": "python3"
  },
  "language_info": {
   "codemirror_mode": {
    "name": "ipython",
    "version": 3
   },
   "file_extension": ".py",
   "mimetype": "text/x-python",
   "name": "python",
   "nbconvert_exporter": "python",
   "pygments_lexer": "ipython3",
   "version": "3.7.4"
  }
 },
 "nbformat": 4,
 "nbformat_minor": 5
}

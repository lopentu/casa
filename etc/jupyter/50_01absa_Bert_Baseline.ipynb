{
  "nbformat": 4,
  "nbformat_minor": 0,
  "metadata": {
    "colab": {
      "name": "50.01absa_Bert_Baseline.ipynb",
      "provenance": []
    },
    "kernelspec": {
      "name": "python3",
      "display_name": "Python 3"
    },
    "language_info": {
      "name": "python"
    },
    "accelerator": "GPU"
  },
  "cells": [
    {
      "cell_type": "markdown",
      "metadata": {
        "id": "rOvr7Cs55Ygv"
      },
      "source": [
        "##**Absa 50.01** Bert as Baseline model\n",
        "Baseline model for absa annotated data sentiment classification\n",
        "> Model used: (Pretrained) Bert For Sequence Classification('bert-base-chinese')\n",
        "\n",
        "> Dataset: (4/1 updated) 993 annotated tasks - dropna -> 892 \n",
        "\n",
        "> Splitting: Training: 802 for training, 90 for validation and testing. \n",
        "\n",
        "> Model Performance:\n",
        "\n",
        "[8/20]\n",
        "Training acc:0.949, Training Loss: 0.137\n",
        "Validation acc:0.922, Validation Loss: 0.337\n",
        "\n"
      ]
    },
    {
      "cell_type": "markdown",
      "metadata": {
        "id": "tJB8hjLl067d"
      },
      "source": [
        "##Data Extraction & Preprocessing"
      ]
    },
    {
      "cell_type": "code",
      "metadata": {
        "id": "chPZKjVmzDbx"
      },
      "source": [
        "import pandas as pd\n",
        "import csv"
      ],
      "execution_count": 1,
      "outputs": []
    },
    {
      "cell_type": "code",
      "metadata": {
        "id": "2fmT8yNOzF9f"
      },
      "source": [
        "# from google.colab import files\n",
        "# uploaded = files.upload()"
      ],
      "execution_count": 2,
      "outputs": []
    },
    {
      "cell_type": "code",
      "metadata": {
        "id": "zxX4CqpuzP9Y"
      },
      "source": [
        "# filename = 'merged_frame_20210401.csv'\n",
        "# df = pd.read_csv(filename)\n",
        "# df = df[(df['from_name'] == 'sentiment')]\n",
        "# df = df.reset_index()\n",
        "# df = df.drop(columns = ['index'])"
      ],
      "execution_count": 3,
      "outputs": []
    },
    {
      "cell_type": "code",
      "metadata": {
        "id": "xNVMNDvF02lY"
      },
      "source": [
        "# ratings = list(df['ent_choice'])\n",
        "# new_ratings = []\n",
        "# #  0:黃燈 1:綠燈 2:紅燈\n",
        "# for rating in ratings:\n",
        "#   rating = int(rating)\n",
        "#   if rating > 3:\n",
        "#     label = 1 # positive \n",
        "#   elif rating == 3:\n",
        "#     label = 0 # neutral\n",
        "#   else:\n",
        "#     label = 2 # negative \n",
        "#   new_ratings.append(label)\n",
        "# # print(new_ratings)\n",
        "# print(len(new_ratings))\n",
        "# # a.to_frame().join(b)\n",
        "# # s1 = pd.Series([1, 2], index=['A', 'B'], name='s1')\n",
        "# labels = pd.Series(new_ratings, name = 'labels')\n",
        "# data = df['ent_text']\n",
        "# concat_df = data.to_frame().join(labels)\n",
        "# concat_df.to_csv('absa_annotsents_data.csv')\n",
        "# df = concat_df"
      ],
      "execution_count": 4,
      "outputs": []
    },
    {
      "cell_type": "markdown",
      "metadata": {
        "id": "OoZj4vq_C7_q"
      },
      "source": [
        "## Loading data"
      ]
    },
    {
      "cell_type": "code",
      "metadata": {
        "colab": {
          "base_uri": "https://localhost:8080/",
          "height": 436
        },
        "id": "QQCNQu8s2AYJ",
        "outputId": "53754ec0-1385-46d2-bcb3-a0c48061428b"
      },
      "source": [
        "import pandas as pd\n",
        "import csv\n",
        "from google.colab import drive\n",
        "drive.mount('/content/drive') # Warrior29\n",
        "datas = '/content/drive/MyDrive/指向情緒案/data/absa_annotsents_data.csv'\n",
        "df = pd.read_csv(datas)\n",
        "df"
      ],
      "execution_count": 5,
      "outputs": [
        {
          "output_type": "stream",
          "text": [
            "Drive already mounted at /content/drive; to attempt to forcibly remount, call drive.mount(\"/content/drive\", force_remount=True).\n"
          ],
          "name": "stdout"
        },
        {
          "output_type": "execute_result",
          "data": {
            "text/html": [
              "<div>\n",
              "<style scoped>\n",
              "    .dataframe tbody tr th:only-of-type {\n",
              "        vertical-align: middle;\n",
              "    }\n",
              "\n",
              "    .dataframe tbody tr th {\n",
              "        vertical-align: top;\n",
              "    }\n",
              "\n",
              "    .dataframe thead th {\n",
              "        text-align: right;\n",
              "    }\n",
              "</style>\n",
              "<table border=\"1\" class=\"dataframe\">\n",
              "  <thead>\n",
              "    <tr style=\"text-align: right;\">\n",
              "      <th></th>\n",
              "      <th>Unnamed: 0</th>\n",
              "      <th>ent_text</th>\n",
              "      <th>labels</th>\n",
              "    </tr>\n",
              "  </thead>\n",
              "  <tbody>\n",
              "    <tr>\n",
              "      <th>0</th>\n",
              "      <td>0</td>\n",
              "      <td>很可以</td>\n",
              "      <td>1</td>\n",
              "    </tr>\n",
              "    <tr>\n",
              "      <th>1</th>\n",
              "      <td>1</td>\n",
              "      <td>不錯</td>\n",
              "      <td>1</td>\n",
              "    </tr>\n",
              "    <tr>\n",
              "      <th>2</th>\n",
              "      <td>2</td>\n",
              "      <td>不限速卡上傳可</td>\n",
              "      <td>0</td>\n",
              "    </tr>\n",
              "    <tr>\n",
              "      <th>3</th>\n",
              "      <td>3</td>\n",
              "      <td>越來越爛</td>\n",
              "      <td>2</td>\n",
              "    </tr>\n",
              "    <tr>\n",
              "      <th>4</th>\n",
              "      <td>4</td>\n",
              "      <td>蠻順的</td>\n",
              "      <td>1</td>\n",
              "    </tr>\n",
              "    <tr>\n",
              "      <th>...</th>\n",
              "      <td>...</td>\n",
              "      <td>...</td>\n",
              "      <td>...</td>\n",
              "    </tr>\n",
              "    <tr>\n",
              "      <th>934</th>\n",
              "      <td>934</td>\n",
              "      <td>很好用</td>\n",
              "      <td>1</td>\n",
              "    </tr>\n",
              "    <tr>\n",
              "      <th>935</th>\n",
              "      <td>935</td>\n",
              "      <td>最好</td>\n",
              "      <td>1</td>\n",
              "    </tr>\n",
              "    <tr>\n",
              "      <th>936</th>\n",
              "      <td>936</td>\n",
              "      <td>真的算慢</td>\n",
              "      <td>2</td>\n",
              "    </tr>\n",
              "    <tr>\n",
              "      <th>937</th>\n",
              "      <td>937</td>\n",
              "      <td>這麼差</td>\n",
              "      <td>2</td>\n",
              "    </tr>\n",
              "    <tr>\n",
              "      <th>938</th>\n",
              "      <td>938</td>\n",
              "      <td>就是爛</td>\n",
              "      <td>2</td>\n",
              "    </tr>\n",
              "  </tbody>\n",
              "</table>\n",
              "<p>939 rows × 3 columns</p>\n",
              "</div>"
            ],
            "text/plain": [
              "     Unnamed: 0 ent_text  labels\n",
              "0             0      很可以       1\n",
              "1             1       不錯       1\n",
              "2             2  不限速卡上傳可       0\n",
              "3             3     越來越爛       2\n",
              "4             4      蠻順的       1\n",
              "..          ...      ...     ...\n",
              "934         934      很好用       1\n",
              "935         935       最好       1\n",
              "936         936     真的算慢       2\n",
              "937         937      這麼差       2\n",
              "938         938      就是爛       2\n",
              "\n",
              "[939 rows x 3 columns]"
            ]
          },
          "metadata": {
            "tags": []
          },
          "execution_count": 5
        }
      ]
    },
    {
      "cell_type": "code",
      "metadata": {
        "colab": {
          "base_uri": "https://localhost:8080/",
          "height": 302
        },
        "id": "Hbqv1ZQK6hfn",
        "outputId": "1a8b31d9-9d20-4631-987a-69a092d9931a"
      },
      "source": [
        "fig = pd.value_counts(df['labels']).plot.bar()\n",
        "fig.set_xticklabels(['Positive', 'Negative', 'Neutral'])\n",
        "counts = list(pd.value_counts(df['labels']))\n",
        "for i, v in enumerate(counts):\n",
        "    fig.text(i-0.1, v, str(v), fontsize= 15)"
      ],
      "execution_count": 6,
      "outputs": [
        {
          "output_type": "display_data",
          "data": {
            "image/png": "[encoded data removed]",
            "text/plain": [
              "<Figure size 432x288 with 1 Axes>"
            ]
          },
          "metadata": {
            "tags": [],
            "needs_background": "light"
          }
        }
      ]
    },
    {
      "cell_type": "markdown",
      "metadata": {
        "id": "yA2XMWPz6B84"
      },
      "source": [
        "## Preparing datasets & Loading pretrained Bert, tokenizer"
      ]
    },
    {
      "cell_type": "code",
      "metadata": {
        "id": "FzhTXTb-34ql",
        "colab": {
          "base_uri": "https://localhost:8080/"
        },
        "outputId": "d02cb1a3-2fd0-48ef-e758-fe4993e378fb"
      },
      "source": [
        "!pip install transformers"
      ],
      "execution_count": 7,
      "outputs": [
        {
          "output_type": "stream",
          "text": [
            "Requirement already satisfied: transformers in /usr/local/lib/python3.7/dist-packages (4.4.2)\n",
            "Requirement already satisfied: regex!=2019.12.17 in /usr/local/lib/python3.7/dist-packages (from transformers) (2019.12.20)\n",
            "Requirement already satisfied: tokenizers<0.11,>=0.10.1 in /usr/local/lib/python3.7/dist-packages (from transformers) (0.10.1)\n",
            "Requirement already satisfied: tqdm>=4.27 in /usr/local/lib/python3.7/dist-packages (from transformers) (4.41.1)\n",
            "Requirement already satisfied: packaging in /usr/local/lib/python3.7/dist-packages (from transformers) (20.9)\n",
            "Requirement already satisfied: filelock in /usr/local/lib/python3.7/dist-packages (from transformers) (3.0.12)\n",
            "Requirement already satisfied: requests in /usr/local/lib/python3.7/dist-packages (from transformers) (2.23.0)\n",
            "Requirement already satisfied: importlib-metadata; python_version < \"3.8\" in /usr/local/lib/python3.7/dist-packages (from transformers) (3.8.1)\n",
            "Requirement already satisfied: sacremoses in /usr/local/lib/python3.7/dist-packages (from transformers) (0.0.43)\n",
            "Requirement already satisfied: numpy>=1.17 in /usr/local/lib/python3.7/dist-packages (from transformers) (1.19.5)\n",
            "Requirement already satisfied: pyparsing>=2.0.2 in /usr/local/lib/python3.7/dist-packages (from packaging->transformers) (2.4.7)\n",
            "Requirement already satisfied: certifi>=2017.4.17 in /usr/local/lib/python3.7/dist-packages (from requests->transformers) (2020.12.5)\n",
            "Requirement already satisfied: urllib3!=1.25.0,!=1.25.1,<1.26,>=1.21.1 in /usr/local/lib/python3.7/dist-packages (from requests->transformers) (1.24.3)\n",
            "Requirement already satisfied: chardet<4,>=3.0.2 in /usr/local/lib/python3.7/dist-packages (from requests->transformers) (3.0.4)\n",
            "Requirement already satisfied: idna<3,>=2.5 in /usr/local/lib/python3.7/dist-packages (from requests->transformers) (2.10)\n",
            "Requirement already satisfied: typing-extensions>=3.6.4; python_version < \"3.8\" in /usr/local/lib/python3.7/dist-packages (from importlib-metadata; python_version < \"3.8\"->transformers) (3.7.4.3)\n",
            "Requirement already satisfied: zipp>=0.5 in /usr/local/lib/python3.7/dist-packages (from importlib-metadata; python_version < \"3.8\"->transformers) (3.4.1)\n",
            "Requirement already satisfied: six in /usr/local/lib/python3.7/dist-packages (from sacremoses->transformers) (1.15.0)\n",
            "Requirement already satisfied: click in /usr/local/lib/python3.7/dist-packages (from sacremoses->transformers) (7.1.2)\n",
            "Requirement already satisfied: joblib in /usr/local/lib/python3.7/dist-packages (from sacremoses->transformers) (1.0.1)\n"
          ],
          "name": "stdout"
        }
      ]
    },
    {
      "cell_type": "code",
      "metadata": {
        "id": "ZuhJgQAw4AIS",
        "colab": {
          "base_uri": "https://localhost:8080/"
        },
        "outputId": "709a5713-5cb5-496c-dcd7-1a5c34bb2ecb"
      },
      "source": [
        "import numpy as np\n",
        "import torch\n",
        "import torch.nn as nn\n",
        "from sklearn.model_selection import train_test_split\n",
        "from sklearn.metrics import classification_report\n",
        "import transformers\n",
        "from transformers import AutoModel, BertTokenizer, BertForSequenceClassification, BertConfig\n",
        "\n",
        "device = torch.device(\"cuda\")  \n",
        "tokenizer = BertTokenizer.from_pretrained('bert-base-chinese', aux_logits = False)\n",
        "model = BertForSequenceClassification.from_pretrained('bert-base-chinese', output_hidden_states=True, num_labels = 3)"
      ],
      "execution_count": 8,
      "outputs": [
        {
          "output_type": "stream",
          "text": [
            "Some weights of the model checkpoint at bert-base-chinese were not used when initializing BertForSequenceClassification: ['cls.predictions.bias', 'cls.predictions.transform.dense.weight', 'cls.predictions.transform.dense.bias', 'cls.predictions.decoder.weight', 'cls.seq_relationship.weight', 'cls.seq_relationship.bias', 'cls.predictions.transform.LayerNorm.weight', 'cls.predictions.transform.LayerNorm.bias']\n",
            "- This IS expected if you are initializing BertForSequenceClassification from the checkpoint of a model trained on another task or with another architecture (e.g. initializing a BertForSequenceClassification model from a BertForPreTraining model).\n",
            "- This IS NOT expected if you are initializing BertForSequenceClassification from the checkpoint of a model that you expect to be exactly identical (initializing a BertForSequenceClassification model from a BertForSequenceClassification model).\n",
            "Some weights of BertForSequenceClassification were not initialized from the model checkpoint at bert-base-chinese and are newly initialized: ['classifier.weight', 'classifier.bias']\n",
            "You should probably TRAIN this model on a down-stream task to be able to use it for predictions and inference.\n"
          ],
          "name": "stderr"
        }
      ]
    },
    {
      "cell_type": "code",
      "metadata": {
        "id": "6ayuvx7E4EeR",
        "colab": {
          "base_uri": "https://localhost:8080/"
        },
        "outputId": "fcfba380-46cc-44c1-afa2-8423db89c251"
      },
      "source": [
        "from sklearn.model_selection import train_test_split\n",
        "Max_len = 30\n",
        "# df.info(verbose=True)\n",
        "df = df.dropna()\n",
        "df['ent_text'] = df['ent_text'].apply(lambda x: x[:Max_len])\n",
        "X = df['ent_text']\n",
        "y = df['labels']\n",
        "\n",
        "# Stratification \n",
        "# testing set is also used for validation due to the limit size of dataset \n",
        "X_train, X_test, y_train, y_test = train_test_split(X, y, test_size=0.1, stratify=y)\n",
        "print('Training data size:', len(X_train))\n",
        "print('Testing data size:', len(X_test))\n",
        "X_size = len(X_train)\n",
        "y_size = len(X_test)"
      ],
      "execution_count": 9,
      "outputs": [
        {
          "output_type": "stream",
          "text": [
            "Training data size: 802\n",
            "Testing data size: 90\n"
          ],
          "name": "stdout"
        },
        {
          "output_type": "stream",
          "text": [
            "/usr/local/lib/python3.7/dist-packages/ipykernel_launcher.py:5: SettingWithCopyWarning: \n",
            "A value is trying to be set on a copy of a slice from a DataFrame.\n",
            "Try using .loc[row_indexer,col_indexer] = value instead\n",
            "\n",
            "See the caveats in the documentation: https://pandas.pydata.org/pandas-docs/stable/user_guide/indexing.html#returning-a-view-versus-a-copy\n",
            "  \"\"\"\n"
          ],
          "name": "stderr"
        }
      ]
    },
    {
      "cell_type": "code",
      "metadata": {
        "id": "a733BwLK6E6z"
      },
      "source": [
        "X_train = tokenizer.batch_encode_plus(\n",
        "    X_train.tolist(),\n",
        "    max_length = Max_len,\n",
        "    padding=True,\n",
        "    truncation=True\n",
        ")\n",
        "X_test = tokenizer.batch_encode_plus(\n",
        "    X_test.tolist(),\n",
        "    max_length = Max_len,\n",
        "    padding=True,\n",
        "    truncation=True\n",
        ")\n"
      ],
      "execution_count": 10,
      "outputs": []
    },
    {
      "cell_type": "code",
      "metadata": {
        "id": "NFyeNL8t5adE"
      },
      "source": [
        "train_seq = torch.tensor(X_train['input_ids'])\n",
        "train_mask = torch.tensor(X_train['attention_mask'])\n",
        "train_y = torch.tensor(y_train.tolist(), dtype=torch.int64)\n",
        "\n",
        "test_seq = torch.tensor(X_test['input_ids'])\n",
        "test_mask = torch.tensor(X_test['attention_mask'])\n",
        "test_y = torch.tensor(y_test.tolist())"
      ],
      "execution_count": 11,
      "outputs": []
    },
    {
      "cell_type": "code",
      "metadata": {
        "id": "nZG05Is855xR",
        "colab": {
          "base_uri": "https://localhost:8080/"
        },
        "outputId": "9fdef9b2-bfb9-41a3-a43a-ec859d4fa38b"
      },
      "source": [
        "from torch.utils.data import TensorDataset, DataLoader\n",
        "\n",
        "batch_size = 32\n",
        "train_data = TensorDataset(train_seq, train_mask, train_y)\n",
        "test_data = TensorDataset(test_seq, test_mask, test_y)\n",
        "train_loader = DataLoader(train_data, batch_size=batch_size)\n",
        "test_loader = DataLoader(test_data, batch_size=batch_size)\n",
        "print(type(train_loader))"
      ],
      "execution_count": 12,
      "outputs": [
        {
          "output_type": "stream",
          "text": [
            "<class 'torch.utils.data.dataloader.DataLoader'>\n"
          ],
          "name": "stdout"
        }
      ]
    },
    {
      "cell_type": "markdown",
      "metadata": {
        "id": "8RXz3fqN34b4"
      },
      "source": [
        "## Setting seed"
      ]
    },
    {
      "cell_type": "code",
      "metadata": {
        "id": "Kf8qsAEq4I8S"
      },
      "source": [
        "# fix random seed for reproducibility\n",
        "def same_seeds(seed):\n",
        "    torch.manual_seed(seed)\n",
        "    if torch.cuda.is_available():\n",
        "        torch.cuda.manual_seed(seed)\n",
        "        torch.cuda.manual_seed_all(seed)  \n",
        "    np.random.seed(seed)  \n",
        "    torch.backends.cudnn.benchmark = False\n",
        "    torch.backends.cudnn.deterministic = True\n",
        "same_seeds(0)"
      ],
      "execution_count": 13,
      "outputs": []
    },
    {
      "cell_type": "markdown",
      "metadata": {
        "id": "WD3OqDiP7tUC"
      },
      "source": [
        "## Training/Fine-tuning Bert\n",
        "#### Source code reference:\n",
        "https://www.analyticsvidhya.com/blog/2020/07/transfer-learning-for-nlp-fine-tuning-bert-for-text-classification/"
      ]
    },
    {
      "cell_type": "code",
      "metadata": {
        "id": "SIxijVpa5lF5"
      },
      "source": [
        "# Config\n",
        "from transformers import AdamW\n",
        "device = torch.device(\"cuda\") if torch.cuda.is_available() else torch.device(\"cpu\")\n",
        "model = model.to(device)\n",
        "# put model (and batch) into device(device ='cuda' if gpu is available)\n",
        "optimizer = AdamW(model.parameters(), lr = 1e-5, weight_decay = 0.05)\n",
        "epochs = 20\n",
        "loss_fn = nn.CrossEntropyLoss()\n",
        "def cal_loss(pred, y): \n",
        "  '''L2 regularization'''\n",
        "  # l2_lambda = 0.001\n",
        "  # l2_reg = 0\n",
        "  # for param in model.parameters():\n",
        "  #   l2_reg += 0.5*(param**2).sum()\n",
        "  # loss_fn = loss_fn(pred, y) + l2_lambda * l2_reg\n",
        "  # return loss_fn\n",
        "  return loss_fn(pred, y)"
      ],
      "execution_count": 14,
      "outputs": []
    },
    {
      "cell_type": "code",
      "metadata": {
        "id": "bp3DyEQd7lK-"
      },
      "source": [
        "def train(dataloader = train_loader):\n",
        "  model.train()\n",
        "  losses, acc = 0, 0\n",
        "  # iterate over batches\n",
        "  for step, batch in enumerate(dataloader):\n",
        "    # set to train mode\n",
        "    model.train()\n",
        "    batch = [r.to(device) for r in batch]\n",
        "    sent_id, mask, label = batch\n",
        "\n",
        "    # clear previously calculated gradients \n",
        "    model.zero_grad()        \n",
        "    pred = model(sent_id, mask).logits\n",
        "\n",
        "    _, pred2 = torch.max(pred, 1)\n",
        "    loss = cal_loss(pred, label)\n",
        "    loss.backward()\n",
        "    acc += (pred2.cpu() == label.cpu()).sum().item()\n",
        "    losses += loss.item()  \n",
        "    \n",
        "    # clip the the gradients to 1.0. It helps in preventing the exploding gradient problem\n",
        "    torch.nn.utils.clip_grad_norm_(model.parameters(), 1.0)\n",
        "    optimizer.step()\n",
        "  \n",
        "  avg_acc = acc / X_size \n",
        "  avg_loss = losses / len(dataloader)\n",
        "\n",
        "  return avg_loss, avg_acc"
      ],
      "execution_count": 15,
      "outputs": []
    },
    {
      "cell_type": "code",
      "metadata": {
        "id": "wYaFrgz_7Vf5"
      },
      "source": [
        "def validate(dataloader = test_loader):\n",
        "  model.eval()\n",
        "  val_losses, val_acc = 0, 0\n",
        "  for step, batch in enumerate(dataloader):\n",
        "\n",
        "    # push the batch to gpu\n",
        "    batch = [t.to(device) for t in batch]\n",
        "    sent_id, mask, label = batch\n",
        "\n",
        "    with torch.no_grad():\n",
        "      pred = model(sent_id, mask).logits\n",
        "      loss = cal_loss(pred,label)\n",
        "      _, pred2 = torch.max(pred, 1)\n",
        "      val_acc += (pred2.cpu() == label.cpu()).sum().item()\n",
        "      \n",
        "      val_losses += loss.item()\n",
        "  avg_acc = val_acc / y_size \n",
        "  avg_loss = val_losses / len(dataloader)\n",
        "  \n",
        "  return avg_loss, avg_acc"
      ],
      "execution_count": 16,
      "outputs": []
    },
    {
      "cell_type": "code",
      "metadata": {
        "id": "GPv4SF_x19-Y"
      },
      "source": [
        "from os import path\n",
        "# Saving checkpoint model\n",
        "ckpt_path = '/content/drive/MyDrive/指向情緒案/50.01BERT_baseline_model/model.ckpt'\n",
        "!mkdir -p /content/drive/MyDrive/指向情緒案/50.01BERT_baseline_model"
      ],
      "execution_count": 17,
      "outputs": []
    },
    {
      "cell_type": "code",
      "metadata": {
        "id": "PYtCDvR0CscU",
        "colab": {
          "base_uri": "https://localhost:8080/"
        },
        "outputId": "ff4b18d7-65f3-449d-d82e-6e00c92c3231"
      },
      "source": [
        "import time\n",
        "best_acc = 0.\n",
        "loss_dict = {'train': [], 'val': []}\n",
        "acc_dict = {'train': [], 'val': []}\n",
        "start = time.time()\n",
        "for epoch in range(epochs):\n",
        "    print(f'[{epoch+1}/{epochs}]')\n",
        "   \n",
        "    train_loss, train_acc = train()\n",
        "    val_loss, val_acc = validate()\n",
        "    \n",
        "    # append training and validation loss\n",
        "    loss_dict['train'].append(train_loss)\n",
        "    loss_dict['val'].append(val_loss)\n",
        "    acc_dict['train'].append(train_acc)\n",
        "    acc_dict['val'].append(val_acc)\n",
        "    print(f'Training acc:{train_acc:.3f}, Training Loss: {train_loss:.3f}')\n",
        "    print(f'Validation acc:{val_acc:.3f}, Validation Loss: {val_loss:.3f}')\n",
        "    if val_acc > best_acc:\n",
        "        best_acc = val_acc\n",
        "        print(f'Saving model to {ckpt_path}.')\n",
        "        torch.save(model.state_dict(), ckpt_path)\n",
        "end = time.time()\n",
        "print(f'Running {(end - start):.2f} seconds.')"
      ],
      "execution_count": 18,
      "outputs": [
        {
          "output_type": "stream",
          "text": [
            "[1/20]\n",
            "Training acc:0.506, Training Loss: 1.093\n",
            "Validation acc:0.700, Validation Loss: 0.765\n",
            "Saving model to /content/drive/MyDrive/指向情緒案/50.01BERT_baseline_model/model.ckpt.\n",
            "[2/20]\n",
            "Training acc:0.802, Training Loss: 0.614\n",
            "Validation acc:0.844, Validation Loss: 0.480\n",
            "Saving model to /content/drive/MyDrive/指向情緒案/50.01BERT_baseline_model/model.ckpt.\n",
            "[3/20]\n",
            "Training acc:0.900, Training Loss: 0.375\n",
            "Validation acc:0.889, Validation Loss: 0.410\n",
            "Saving model to /content/drive/MyDrive/指向情緒案/50.01BERT_baseline_model/model.ckpt.\n",
            "[4/20]\n",
            "Training acc:0.928, Training Loss: 0.276\n",
            "Validation acc:0.900, Validation Loss: 0.337\n",
            "Saving model to /content/drive/MyDrive/指向情緒案/50.01BERT_baseline_model/model.ckpt.\n",
            "[5/20]\n",
            "Training acc:0.943, Training Loss: 0.225\n",
            "Validation acc:0.878, Validation Loss: 0.396\n",
            "[6/20]\n",
            "Training acc:0.943, Training Loss: 0.191\n",
            "Validation acc:0.889, Validation Loss: 0.398\n",
            "[7/20]\n",
            "Training acc:0.945, Training Loss: 0.162\n",
            "Validation acc:0.867, Validation Loss: 0.411\n",
            "[8/20]\n",
            "Training acc:0.949, Training Loss: 0.137\n",
            "Validation acc:0.922, Validation Loss: 0.337\n",
            "Saving model to /content/drive/MyDrive/指向情緒案/50.01BERT_baseline_model/model.ckpt.\n",
            "[9/20]\n",
            "Training acc:0.958, Training Loss: 0.119\n",
            "Validation acc:0.911, Validation Loss: 0.387\n",
            "[10/20]\n",
            "Training acc:0.970, Training Loss: 0.091\n",
            "Validation acc:0.900, Validation Loss: 0.382\n",
            "[11/20]\n",
            "Training acc:0.976, Training Loss: 0.078\n",
            "Validation acc:0.889, Validation Loss: 0.443\n",
            "[12/20]\n",
            "Training acc:0.980, Training Loss: 0.065\n",
            "Validation acc:0.889, Validation Loss: 0.423\n",
            "[13/20]\n",
            "Training acc:0.975, Training Loss: 0.060\n",
            "Validation acc:0.889, Validation Loss: 0.438\n",
            "[14/20]\n",
            "Training acc:0.984, Training Loss: 0.055\n",
            "Validation acc:0.867, Validation Loss: 0.475\n",
            "[15/20]\n",
            "Training acc:0.988, Training Loss: 0.041\n",
            "Validation acc:0.867, Validation Loss: 0.490\n",
            "[16/20]\n",
            "Training acc:0.990, Training Loss: 0.038\n",
            "Validation acc:0.867, Validation Loss: 0.529\n",
            "[17/20]\n",
            "Training acc:0.988, Training Loss: 0.038\n",
            "Validation acc:0.900, Validation Loss: 0.514\n",
            "[18/20]\n",
            "Training acc:0.985, Training Loss: 0.045\n",
            "Validation acc:0.856, Validation Loss: 0.610\n",
            "[19/20]\n",
            "Training acc:0.988, Training Loss: 0.029\n",
            "Validation acc:0.856, Validation Loss: 0.620\n",
            "[20/20]\n",
            "Training acc:0.988, Training Loss: 0.033\n",
            "Validation acc:0.878, Validation Loss: 0.567\n",
            "Running 108.12 seconds.\n"
          ],
          "name": "stdout"
        }
      ]
    },
    {
      "cell_type": "markdown",
      "metadata": {
        "id": "67heLx1g-AsW"
      },
      "source": [
        "Utils' source code: by Heng-Jui Chang @ NTUEE in 2021 ML Spring 1."
      ]
    },
    {
      "cell_type": "code",
      "metadata": {
        "id": "X4ACgm-WCjOQ"
      },
      "source": [
        "from matplotlib.pyplot import figure\n",
        "import matplotlib.pyplot as plt\n",
        "def plot_learning_curve(record, title ='', is_loss = True):\n",
        "    total_steps = len(record['train'])\n",
        "    x_1 = range(total_steps)\n",
        "    x_2 = x_1[::len(record['train']) // len(record['val'])]\n",
        "    figure(figsize=(6, 4))\n",
        "    plt.plot(x_1, record['train'], c='tab:cyan', label='train')\n",
        "    plt.plot(x_2, record['val'], c='tab:green', label='val')\n",
        "    \n",
        "    plt.xlabel('Training steps')\n",
        "    if is_loss:\n",
        "      plt.ylim(0.0, 5.)\n",
        "      plt.ylabel('Cross Entropy Loss')\n",
        "    else:\n",
        "      plt.ylim(0.0, 1.)\n",
        "      plt.ylabel('Accuracy')\n",
        "    plt.title('Learning curve of {}'.format(title))\n",
        "    plt.legend()\n",
        "    plt.show()"
      ],
      "execution_count": 29,
      "outputs": []
    },
    {
      "cell_type": "code",
      "metadata": {
        "colab": {
          "base_uri": "https://localhost:8080/",
          "height": 295
        },
        "id": "XBVIc5IE-txR",
        "outputId": "fc155c6a-a3bf-4529-d39c-aa9aa331cff1"
      },
      "source": [
        "plot_learning_curve(acc_dict, title= 'Pretrained Bert', is_loss = True)"
      ],
      "execution_count": 33,
      "outputs": [
        {
          "output_type": "display_data",
          "data": {
            "image/png": "[encoded data removed]",
            "text/plain": [
              "<Figure size 432x288 with 1 Axes>"
            ]
          },
          "metadata": {
            "tags": [],
            "needs_background": "light"
          }
        }
      ]
    },
    {
      "cell_type": "code",
      "metadata": {
        "id": "Go1O8MkdBYQB",
        "colab": {
          "base_uri": "https://localhost:8080/",
          "height": 295
        },
        "outputId": "8512ff43-10bb-4421-8304-ca3e8483ab83"
      },
      "source": [
        "plot_learning_curve(acc_dict,  title= 'Pretrained Bert', is_loss = False)"
      ],
      "execution_count": 32,
      "outputs": [
        {
          "output_type": "display_data",
          "data": {
            "image/png": "[encoded data removed]",
            "text/plain": [
              "<Figure size 432x288 with 1 Axes>"
            ]
          },
          "metadata": {
            "tags": [],
            "needs_background": "light"
          }
        }
      ]
    },
    {
      "cell_type": "markdown",
      "metadata": {
        "id": "sb3Q0_rc_qRp"
      },
      "source": [
        "## Loading model for testing "
      ]
    },
    {
      "cell_type": "code",
      "metadata": {
        "id": "alobCJIc_ocS",
        "colab": {
          "base_uri": "https://localhost:8080/"
        },
        "outputId": "04a3357c-d33c-414e-d60e-0d3011c6ec59"
      },
      "source": [
        "model.load_state_dict(torch.load(ckpt_path))\n",
        "with torch.no_grad():\n",
        "  preds = model(test_seq.to(device), test_mask.to(device)).logits\n",
        "  preds = preds.detach().cpu().numpy()\n",
        "preds = np.argmax(preds, axis = 1)\n",
        "print(classification_report(test_y, preds, zero_division=0))"
      ],
      "execution_count": 36,
      "outputs": [
        {
          "output_type": "stream",
          "text": [
            "              precision    recall  f1-score   support\n",
            "\n",
            "           0       0.00      0.00      0.00         4\n",
            "           1       0.92      0.98      0.95        48\n",
            "           2       0.92      0.95      0.94        38\n",
            "\n",
            "    accuracy                           0.92        90\n",
            "   macro avg       0.61      0.64      0.63        90\n",
            "weighted avg       0.88      0.92      0.90        90\n",
            "\n"
          ],
          "name": "stdout"
        }
      ]
    }
  ]
}
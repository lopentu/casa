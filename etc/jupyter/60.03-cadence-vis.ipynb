{
 "cells": [
  {
   "cell_type": "code",
   "execution_count": 1,
   "metadata": {},
   "outputs": [],
   "source": [
    "%load_ext autoreload\n",
    "%autoreload 2"
   ]
  },
  {
   "cell_type": "code",
   "execution_count": 2,
   "metadata": {},
   "outputs": [],
   "source": [
    "import pickle\n",
    "import json\n",
    "import random\n",
    "import numpy as np\n",
    "import pandas as pd\n",
    "from tqdm.auto import tqdm\n",
    "from icecream import ic\n",
    "from import_casa import casa\n",
    "from matplotlib import pyplot as plt\n",
    "from sklearn.metrics import classification_report, accuracy_score"
   ]
  },
  {
   "cell_type": "code",
   "execution_count": 14,
   "metadata": {},
   "outputs": [],
   "source": [
    "data_dir = casa.get_data_path() / \"\"\n",
    "with open(data_dir / f\"threads/cht2021-JanMay-op-every20-attr.pkl\", \"rb\") as fin:\n",
    "    op_sample = pickle.load(fin)"
   ]
  },
  {
   "cell_type": "code",
   "execution_count": 15,
   "metadata": {},
   "outputs": [],
   "source": [
    "label_list = ['B-VN', 'B-VP', 'I-VN', 'I-VP', 'O']"
   ]
  },
  {
   "cell_type": "markdown",
   "metadata": {},
   "source": [
    "## Finding a threshold"
   ]
  },
  {
   "cell_type": "code",
   "execution_count": null,
   "metadata": {},
   "outputs": [],
   "source": []
  },
  {
   "cell_type": "code",
   "execution_count": 31,
   "metadata": {},
   "outputs": [
    {
     "data": {
      "application/vnd.jupyter.widget-view+json": {
       "model_id": "4b5e555a550f4848b112f6433536a075",
       "version_major": 2,
       "version_minor": 0
      },
      "text/plain": [
       "HBox(children=(FloatProgress(value=0.0, max=5405.0), HTML(value='')))"
      ]
     },
     "metadata": {},
     "output_type": "display_data"
    },
    {
     "name": "stdout",
     "output_type": "stream",
     "text": [
      "\n"
     ]
    }
   ],
   "source": [
    "norm_vec = []\n",
    "prob_vec = []\n",
    "data = []\n",
    "ratings = []\n",
    "preds = []\n",
    "rating_map = {\"Y\": \"Neutral\", \"G\": \"Positive\", \"R\": \"Negative\"}\n",
    "polarity_map = {0: \"Neutral\", 1: \"Positive\", 2: \"Negative\"}\n",
    "\n",
    "rng = np.random.RandomState(1234)\n",
    "for op_x in tqdm(op_sample):\n",
    "    logits = getattr(op_x, \"tok_logits\", None)\n",
    "    if logits is None:\n",
    "        continue\n",
    "    \n",
    "    logits_n = logits[:, [0, 2]].sum(axis=-1)\n",
    "    logits_p = logits[:, [1, 3]].sum(axis=-1)\n",
    "    \n",
    "    T = 4    \n",
    "    norm = np.log(np.linalg.norm(np.vstack(np.exp([logits_p, logits_n])), axis=0))\n",
    "    prob_pn = np.exp(logits_p/T) / (np.exp(logits_p/T)+np.exp(logits_n/T))\n",
    "    norm_vec.extend(norm.tolist())\n",
    "    prob_vec.extend(prob_pn.tolist())\n",
    "    \n",
    "    op_id = op_x.id\n",
    "    entity = getattr(op_x, \"cadet_entity\", None)\n",
    "    attr = getattr(op_x, \"cadet_service\", None)\n",
    "    rating = rating_map.get(getattr(op_x, \"sentence_sentiment\", None))        \n",
    "    polarity = getattr(op_x, \"pred_polarity\", None)\n",
    "           \n",
    "    if rating is not None and polarity is not None:\n",
    "        ratings.append(rating)\n",
    "        preds.append(polarity)\n",
    "    \n",
    "    entity = entity or \"無特定業者\"\n",
    "    attr = attr or (\"無特定類別\", \"\")\n",
    "    \n",
    "    seq = []\n",
    "    for ch_i, ch in enumerate(op_x.text):\n",
    "        if ch_i >= 500: continue\n",
    "        seq.append((ch, prob_pn[ch_i], norm[ch_i]))\n",
    "    data.append((op_id, entity, attr, rating, polarity, seq))"
   ]
  },
  {
   "cell_type": "code",
   "execution_count": 32,
   "metadata": {},
   "outputs": [
    {
     "name": "stdout",
     "output_type": "stream",
     "text": [
      "              precision    recall  f1-score   support\n",
      "\n",
      "    Negative       0.18      0.24      0.20       698\n",
      "     Neutral       0.79      0.70      0.74      4166\n",
      "    Positive       0.13      0.20      0.16       463\n",
      "\n",
      "    accuracy                           0.60      5327\n",
      "   macro avg       0.37      0.38      0.37      5327\n",
      "weighted avg       0.66      0.60      0.62      5327\n",
      "\n"
     ]
    }
   ],
   "source": [
    "print(classification_report(ratings, preds))"
   ]
  },
  {
   "cell_type": "code",
   "execution_count": 33,
   "metadata": {},
   "outputs": [
    {
     "data": {
      "text/plain": [
       "(5405, 5327)"
      ]
     },
     "execution_count": 33,
     "metadata": {},
     "output_type": "execute_result"
    }
   ],
   "source": [
    "len(op_sample), len(ratings)"
   ]
  },
  {
   "cell_type": "markdown",
   "metadata": {},
   "source": [
    "## find threshold"
   ]
  },
  {
   "cell_type": "code",
   "execution_count": 34,
   "metadata": {},
   "outputs": [
    {
     "data": {
      "application/vnd.jupyter.widget-view+json": {
       "model_id": "7235c79a11944430b5c8b21403364e8c",
       "version_major": 2,
       "version_minor": 0
      },
      "text/plain": [
       "HBox(children=(FloatProgress(value=0.0, max=5383.0), HTML(value='')))"
      ]
     },
     "metadata": {},
     "output_type": "display_data"
    },
    {
     "name": "stdout",
     "output_type": "stream",
     "text": [
      "\n"
     ]
    }
   ],
   "source": [
    "from io import StringIO\n",
    "\n",
    "predictions = []\n",
    "ratings = []\n",
    "suffix = \"sample-every20\"\n",
    "thres = np.quantile(norm_vec, [.9])[0]\n",
    "hot_cm = plt.get_cmap(\"coolwarm\")\n",
    "def rgb2css(rgba, a=None):\n",
    "    r, g, b, aval = rgba\n",
    "    if not a:\n",
    "        a = 0.5\n",
    "    return f\"rgba({int(r*255)}, {int(g*255)}, {int(b*255)}, {a})\"\n",
    "\n",
    "sio = StringIO()\n",
    "sio.write(\"<!DOCTYPE HTML>\\n\")\n",
    "sio.write(\"<html>\\n\")\n",
    "sio.write(\"<head>\\n\")\n",
    "sio.write(\"<title>cadence visualization</title>\\n\")\n",
    "sio.write(f\"\"\"<style>\n",
    ".seq-wrap {{\n",
    "    margin: 1% 1%; padding: 1% 1%;\n",
    "    display:block;\n",
    "    border-left: 10px solid black;\n",
    "}}\n",
    ".text{{max-width: 80%; font-size: 16pt; line-height:125%}}\n",
    ".supp{{margin-left: 1%; font-size: 12pt; align-self: flex-end}}\n",
    ".pos {{border-color: {rgb2css(hot_cm(0.8), 1)}}}\n",
    ".neg {{border-color: {rgb2css(hot_cm(0.2), 1)}}}\n",
    ".unk {{border-color: {rgb2css(hot_cm(0.5), 1)}}}\n",
    ".entity {{margin: 1% 6pt 1% 0pt; background-color: #AAA;\n",
    "    color: white; display: inline-block; padding: 2pt;\n",
    "    font-size: 12pt; }}\n",
    ".attribute {{margin: 1% 0%; background-color: #AAA;\n",
    "    color: white; display: inline-block; padding: 2pt;\n",
    "    font-size: 12pt; }}\n",
    "</style>\\n\"\"\")\n",
    "sio.write(\"</head>\\n\")\n",
    "sio.write(\"<body>\\n\")\n",
    "sio.write(\"<div style='width: 90%; margin:auto'>\")\n",
    "\n",
    "counter = 0\n",
    "for op_id, ent, attr, rating, pred, seq in tqdm(data):\n",
    "\n",
    "        \n",
    "    seq_iter = filter(lambda tok: tok[2] > thres, seq)\n",
    "    prob_pn = np.array(list(map(lambda tok: tok[1], seq_iter)))\n",
    "    pred_polarity = \"Neutral\"\n",
    "    if len(prob_pn) > 4 and not ent.startswith(\"無特定\") and \\\n",
    "        not attr[0].startswith(\"無特定\"):\n",
    "        p_score = prob_pn[prob_pn > 0.5].sum()\n",
    "        n_score = prob_pn[prob_pn < 0.5].sum()\n",
    "        if p_score > n_score * 1.1:\n",
    "            pred_polarity = \"Positive\"\n",
    "        elif n_score > p_score * 1.1:\n",
    "            pred_polarity = \"Negative\"\n",
    "    if rating:\n",
    "        predictions.append(pred_polarity)\n",
    "        ratings.append(rating)\n",
    "    \n",
    "    if counter > 1000:\n",
    "        continue\n",
    "        \n",
    "    if rating == \"Positive\":\n",
    "        sio.write(\"<div class='seq-wrap pos'>\\n\")\n",
    "    elif rating == \"Negative\":\n",
    "        sio.write(\"<div class='seq-wrap neg'>\\n\")\n",
    "    else:\n",
    "        sio.write(\"<div class='seq-wrap unk'>\\n\")\n",
    "        \n",
    "    mark = \"*\" if rating != pred_polarity else \"\"\n",
    "    sio.write(\"<div class='header'>\")\n",
    "    sio.write(f\"<div class='title'>{mark}{op_id}</div>\")\n",
    "    sio.write(f\"<div class='entity'>{ent}</div>\")\n",
    "    sio.write(f\"<div class='attribute'>{attr[0]} &nbsp; {attr[1]}</div>\")    \n",
    "    sio.write(\"</div>\")\n",
    "    sio.write(\"<div class='text'>\")\n",
    "    scores = [0, 0]\n",
    "    for tok in seq:\n",
    "        if tok[2] > thres:            \n",
    "            sio.write(f\"<span style='background-color:\")\n",
    "            sio.write(f\"{rgb2css(hot_cm(tok[1]))}'>\")\n",
    "        else:\n",
    "            hval = 0\n",
    "            sio.write(f\"<span style=''>\")\n",
    "        sio.write(f\"{tok[0]}</span>\")\n",
    "    sio.write(\"</div>\")    \n",
    "    sio.write(\"</div>\\n\")\n",
    "    counter += 1\n",
    "    \n",
    "sio.write(\"<div> <!-- div.wrapper -->\")\n",
    "sio.write(\"</body>\\n</html>\\n\")\n",
    "with open(f\"h:/cadence_visualization_{suffix}.html\", \"w\", encoding=\"utf-8\") as fout:\n",
    "    fout.write(sio.getvalue())"
   ]
  },
  {
   "cell_type": "code",
   "execution_count": 35,
   "metadata": {},
   "outputs": [
    {
     "name": "stdout",
     "output_type": "stream",
     "text": [
      "              precision    recall  f1-score   support\n",
      "\n",
      "    Negative       0.11      0.04      0.06       698\n",
      "     Neutral       0.78      0.91      0.84      4166\n",
      "    Positive       0.16      0.06      0.09       463\n",
      "\n",
      "    accuracy                           0.73      5327\n",
      "   macro avg       0.35      0.34      0.33      5327\n",
      "weighted avg       0.64      0.73      0.68      5327\n",
      "\n"
     ]
    }
   ],
   "source": [
    "print(classification_report(ratings, predictions))"
   ]
  },
  {
   "cell_type": "code",
   "execution_count": null,
   "metadata": {},
   "outputs": [],
   "source": []
  }
 ],
 "metadata": {
  "kernelspec": {
   "display_name": "Python 3",
   "language": "python",
   "name": "python3"
  },
  "language_info": {
   "codemirror_mode": {
    "name": "ipython",
    "version": 3
   },
   "file_extension": ".py",
   "mimetype": "text/x-python",
   "name": "python",
   "nbconvert_exporter": "python",
   "pygments_lexer": "ipython3",
   "version": "3.8.2"
  }
 },
 "nbformat": 4,
 "nbformat_minor": 4
}

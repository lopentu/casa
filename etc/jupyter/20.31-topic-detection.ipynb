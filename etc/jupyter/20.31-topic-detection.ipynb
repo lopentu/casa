{
 "cells": [
  {
   "cell_type": "code",
   "execution_count": 1,
   "metadata": {},
   "outputs": [],
   "source": [
    "%load_ext autoreload\n",
    "%autoreload 2"
   ]
  },
  {
   "cell_type": "code",
   "execution_count": 2,
   "metadata": {},
   "outputs": [],
   "source": [
    "from import_casa import casa"
   ]
  },
  {
   "cell_type": "code",
   "execution_count": 3,
   "metadata": {},
   "outputs": [
    {
     "name": "stderr",
     "output_type": "stream",
     "text": [
      "[INFO] 2021-01-19 13:08:27,301 gensim.utils: loading FastText object from E:\\LangOn\\casa\\data\\eda\\spm\\sp_vectors.model\n",
      "[INFO] 2021-01-19 13:08:28,134 gensim.utils: loading wv recursively from E:\\LangOn\\casa\\data\\eda\\spm\\sp_vectors.model.wv.* with mmap=None\n",
      "[INFO] 2021-01-19 13:08:28,135 gensim.utils: loading vectors_ngrams from E:\\LangOn\\casa\\data\\eda\\spm\\sp_vectors.model.wv.vectors_ngrams.npy with mmap=None\n",
      "[INFO] 2021-01-19 13:08:36,130 gensim.utils: setting ignored attribute vectors_ngrams_norm to None\n",
      "[INFO] 2021-01-19 13:08:36,131 gensim.utils: setting ignored attribute vectors_norm to None\n",
      "[INFO] 2021-01-19 13:08:36,132 gensim.utils: setting ignored attribute vectors_vocab_norm to None\n",
      "[INFO] 2021-01-19 13:08:36,132 gensim.utils: setting ignored attribute buckets_word to None\n",
      "[INFO] 2021-01-19 13:08:36,133 gensim.utils: loading vocabulary recursively from E:\\LangOn\\casa\\data\\eda\\spm\\sp_vectors.model.vocabulary.* with mmap=None\n",
      "[INFO] 2021-01-19 13:08:36,133 gensim.utils: loading trainables recursively from E:\\LangOn\\casa\\data\\eda\\spm\\sp_vectors.model.trainables.* with mmap=None\n",
      "[INFO] 2021-01-19 13:08:36,134 gensim.utils: loading vectors_ngrams_lockf from E:\\LangOn\\casa\\data\\eda\\spm\\sp_vectors.model.trainables.vectors_ngrams_lockf.npy with mmap=None\n",
      "[INFO] 2021-01-19 13:08:45,400 gensim.utils: loaded E:\\LangOn\\casa\\data\\eda\\spm\\sp_vectors.model\n"
     ]
    },
    {
     "data": {
      "text/plain": [
       "(5885, 100)"
      ]
     },
     "execution_count": 3,
     "metadata": {},
     "output_type": "execute_result"
    }
   ],
   "source": [
    "import pandas as pd\n",
    "import pickle\n",
    "from gensim.models import FastText\n",
    "path = casa.get_data_path() / \"eda/spm/sp_vectors.model\"\n",
    "model = FastText.load(str(path))\n",
    "model.wv.vectors.shape"
   ]
  },
  {
   "cell_type": "code",
   "execution_count": 5,
   "metadata": {},
   "outputs": [],
   "source": [
    "seeds = pd.read_excel(casa.get_data_path()/\"seeded_spm_edited.xlsx\")"
   ]
  },
  {
   "cell_type": "code",
   "execution_count": 24,
   "metadata": {},
   "outputs": [],
   "source": [
    "from casa.topics import SeedEntry, SeedDistribution\n",
    "seed_entries = []\n",
    "for _, row in seeds.iterrows():\n",
    "    candidates = [str(x) for x in row[2:].dropna()]\n",
    "    entry = SeedEntry(row.Category, row.Seed, candidates)\n",
    "    seed_entries.append(entry)    "
   ]
  },
  {
   "cell_type": "code",
   "execution_count": null,
   "metadata": {},
   "outputs": [],
   "source": [
    "## collective nouns is ignored: 三雄, 三大電信, 電信三雄\n",
    "entities_seeds = [\n",
    "    SeedEntry(\"電信業者\", \"中華電信\", \"中華電信 中華電 中華 種花\"),\n",
    "    SeedEntry(\"電信業者\", \"遠傳電信\", \"遠傳電信 遠傳 遠傳5G\"),\n",
    "    SeedEntry(\"電信業者\", \"台灣大哥大\", \"台灣大哥大 台灣大 台哥大 台哥\"),\n",
    "    SeedEntry(\"電信業者\", \"台灣之星\", \"台灣之星\"),\n",
    "    SeedEntry(\"電信業者\", \"亞太\", \"亞太 亞太電信 亞太電 亞太5G\"),    \n",
    "]"
   ]
  },
  {
   "cell_type": "code",
   "execution_count": 27,
   "metadata": {},
   "outputs": [],
   "source": [
    "seed_distr = SeedDistribution(model.wv, seed_entries)"
   ]
  },
  {
   "cell_type": "code",
   "execution_count": 35,
   "metadata": {},
   "outputs": [
    {
     "data": {
      "text/plain": [
       "(880, 4)"
      ]
     },
     "execution_count": 35,
     "metadata": {},
     "output_type": "execute_result"
    }
   ],
   "source": [
    "seed_distr.get_distribution(\"中華電信好爛\").shape"
   ]
  },
  {
   "cell_type": "code",
   "execution_count": null,
   "metadata": {},
   "outputs": [],
   "source": []
  }
 ],
 "metadata": {
  "kernelspec": {
   "display_name": "Python 3",
   "language": "python",
   "name": "python3"
  },
  "language_info": {
   "codemirror_mode": {
    "name": "ipython",
    "version": 3
   },
   "file_extension": ".py",
   "mimetype": "text/x-python",
   "name": "python",
   "nbconvert_exporter": "python",
   "pygments_lexer": "ipython3",
   "version": "3.8.2"
  }
 },
 "nbformat": 4,
 "nbformat_minor": 4
}

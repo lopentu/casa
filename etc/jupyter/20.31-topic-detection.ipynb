{
 "cells": [
  {
   "cell_type": "code",
   "execution_count": 1,
   "metadata": {},
   "outputs": [],
   "source": [
    "%load_ext autoreload\n",
    "%autoreload 2"
   ]
  },
  {
   "cell_type": "code",
   "execution_count": 2,
   "metadata": {},
   "outputs": [],
   "source": [
    "from import_casa import casa"
   ]
  },
  {
   "cell_type": "code",
   "execution_count": 12,
   "metadata": {},
   "outputs": [
    {
     "name": "stderr",
     "output_type": "stream",
     "text": [
      "[INFO] 2021-01-26 18:50:50,610 gensim.utils: loading Word2VecKeyedVectors object from E:\\LangOn\\casa\\data\\cadet\\op20\\ft-2020.kv\n",
      "[INFO] 2021-01-26 18:50:50,896 gensim.utils: setting ignored attribute vectors_norm to None\n",
      "[INFO] 2021-01-26 18:50:50,897 gensim.utils: setting ignored attribute vectors_vocab_norm to None\n",
      "[INFO] 2021-01-26 18:50:50,898 gensim.utils: setting ignored attribute vectors_ngrams_norm to None\n",
      "[INFO] 2021-01-26 18:50:50,899 gensim.utils: setting ignored attribute buckets_word to None\n",
      "[INFO] 2021-01-26 18:50:50,899 gensim.utils: loaded E:\\LangOn\\casa\\data\\cadet\\op20\\ft-2020.kv\n"
     ]
    },
    {
     "data": {
      "text/plain": [
       "<gensim.models.keyedvectors.FastTextKeyedVectors at 0x1ba1bcd2520>"
      ]
     },
     "execution_count": 12,
     "metadata": {},
     "output_type": "execute_result"
    }
   ],
   "source": [
    "import pandas as pd\n",
    "import pickle\n",
    "from gensim.models.keyedvectors import KeyedVectors\n",
    "path = casa.get_data_path() / \"cadet/op20/ft-2020.kv\"\n",
    "ft = KeyedVectors.load(str(path))\n",
    "ft"
   ]
  },
  {
   "cell_type": "code",
   "execution_count": 13,
   "metadata": {},
   "outputs": [
    {
     "data": {
      "text/plain": [
       "(30000, 200)"
      ]
     },
     "execution_count": 13,
     "metadata": {},
     "output_type": "execute_result"
    }
   ],
   "source": [
    "ft.vectors_ngrams.shape"
   ]
  },
  {
   "cell_type": "code",
   "execution_count": 38,
   "metadata": {},
   "outputs": [
    {
     "data": {
      "text/plain": [
       "True"
      ]
     },
     "execution_count": 38,
     "metadata": {},
     "output_type": "execute_result"
    }
   ],
   "source": [
    "\"esim\" in ft.vocab"
   ]
  },
  {
   "cell_type": "code",
   "execution_count": 37,
   "metadata": {},
   "outputs": [
    {
     "data": {
      "text/plain": [
       "[('的4g', 0.7653027772903442),\n",
       " ('4g的', 0.7631452083587646),\n",
       " ('是4g', 0.7176839113235474),\n",
       " ('在4g', 0.6869112253189087),\n",
       " ('4g網路', 0.6786275506019592),\n",
       " ('4g網速', 0.6701086163520813),\n",
       " ('4g吃到飽', 0.6615954637527466),\n",
       " ('/4g', 0.6571164727210999),\n",
       " ('4g+', 0.6448955535888672),\n",
       " ('4g速度', 0.6426206231117249),\n",
       " ('4g手機', 0.6417348384857178),\n",
       " ('用4g', 0.6400904655456543),\n",
       " ('4g方案', 0.6369199156761169),\n",
       " ('中華4g', 0.6171366572380066),\n",
       " ('3g', 0.6161083579063416),\n",
       " ('4g資費', 0.6143298745155334),\n",
       " ('4g都', 0.6138687133789062),\n",
       " ('跟4g', 0.6111692786216736),\n",
       " ('4g訊號', 0.6053209900856018),\n",
       " ('止', 0.59618079662323)]"
      ]
     },
     "execution_count": 37,
     "metadata": {},
     "output_type": "execute_result"
    }
   ],
   "source": [
    "ft.most_similar(\"4g\", topn=20)"
   ]
  },
  {
   "cell_type": "code",
   "execution_count": 5,
   "metadata": {},
   "outputs": [],
   "source": [
    "seeds = pd.read_excel(casa.get_data_path()/\"seeded_spm_edited.xlsx\")"
   ]
  },
  {
   "cell_type": "code",
   "execution_count": 24,
   "metadata": {},
   "outputs": [],
   "source": [
    "from casa.topics import SeedEntry, SeedDistribution\n",
    "seed_entries = []\n",
    "for _, row in seeds.iterrows():\n",
    "    candidates = [str(x) for x in row[2:].dropna()]\n",
    "    entry = SeedEntry(row.Category, row.Seed, candidates)\n",
    "    seed_entries.append(entry)    "
   ]
  },
  {
   "cell_type": "code",
   "execution_count": null,
   "metadata": {},
   "outputs": [],
   "source": [
    "## collective nouns is ignored: 三雄, 三大電信, 電信三雄\n",
    "entities_seeds = [\n",
    "    SeedEntry(\"電信業者\", \"中華電信\", \"中華電信 中華電 中華 種花\"),\n",
    "    SeedEntry(\"電信業者\", \"遠傳電信\", \"遠傳電信 遠傳 遠傳5G\"),\n",
    "    SeedEntry(\"電信業者\", \"台灣大哥大\", \"台灣大哥大 台灣大 台哥大 台哥\"),\n",
    "    SeedEntry(\"電信業者\", \"台灣之星\", \"台灣之星\"),\n",
    "    SeedEntry(\"電信業者\", \"亞太\", \"亞太 亞太電信 亞太電 亞太5G\"),    \n",
    "]"
   ]
  },
  {
   "cell_type": "code",
   "execution_count": 27,
   "metadata": {},
   "outputs": [],
   "source": [
    "seed_distr = SeedDistribution(model.wv, seed_entries)"
   ]
  },
  {
   "cell_type": "code",
   "execution_count": 35,
   "metadata": {},
   "outputs": [
    {
     "data": {
      "text/plain": [
       "(880, 4)"
      ]
     },
     "execution_count": 35,
     "metadata": {},
     "output_type": "execute_result"
    }
   ],
   "source": [
    "seed_distr.get_distribution(\"中華電信好爛\").shape"
   ]
  },
  {
   "cell_type": "markdown",
   "metadata": {},
   "source": [
    "## Topic Seeds"
   ]
  },
  {
   "cell_type": "code",
   "execution_count": 106,
   "metadata": {},
   "outputs": [],
   "source": [
    "from casa import Cadet\n",
    "import numpy as np"
   ]
  },
  {
   "cell_type": "code",
   "execution_count": 107,
   "metadata": {},
   "outputs": [
    {
     "name": "stderr",
     "output_type": "stream",
     "text": [
      "[INFO] 2021-01-27 00:20:19,695 gensim.utils: loading Word2VecKeyedVectors object from E:\\LangOn\\casa\\data\\cadet\\op20\\ft-2020.kv\n",
      "[INFO] 2021-01-27 00:20:19,996 gensim.utils: setting ignored attribute vectors_norm to None\n",
      "[INFO] 2021-01-27 00:20:19,997 gensim.utils: setting ignored attribute vectors_vocab_norm to None\n",
      "[INFO] 2021-01-27 00:20:19,998 gensim.utils: setting ignored attribute vectors_ngrams_norm to None\n",
      "[INFO] 2021-01-27 00:20:19,998 gensim.utils: setting ignored attribute buckets_word to None\n",
      "[INFO] 2021-01-27 00:20:19,999 gensim.utils: loaded E:\\LangOn\\casa\\data\\cadet\\op20\\ft-2020.kv\n",
      "[INFO] 2021-01-27 00:20:20,000 gensim.models.keyedvectors: precomputing L2-norms of word weight vectors\n",
      "[INFO] 2021-01-27 00:20:20,009 gensim.models.keyedvectors: precomputing L2-norms of ngram weight vectors\n"
     ]
    },
    {
     "data": {
      "text/plain": [
       "<Cadet: FastText(9851, 200), Seeds(100)>"
      ]
     },
     "execution_count": 107,
     "metadata": {},
     "output_type": "execute_result"
    }
   ],
   "source": [
    "cadet = Cadet.load(casa.get_data_path()/\"cadet/op20\")\n",
    "cadet"
   ]
  },
  {
   "cell_type": "code",
   "execution_count": 108,
   "metadata": {},
   "outputs": [
    {
     "name": "stdout",
     "output_type": "stream",
     "text": [
      "tokens:  ['中華電信', '的4g', '很便宜']\n"
     ]
    }
   ],
   "source": [
    "vec = cadet.build_seedsims_matrix(\"中華電信的4g很便宜\").max(axis=0)"
   ]
  },
  {
   "cell_type": "code",
   "execution_count": 112,
   "metadata": {},
   "outputs": [
    {
     "name": "stdout",
     "output_type": "stream",
     "text": [
      "tokens:  ['果然', '打電話', '客訴', '有用', '▁昨天', '晚上', '網路', '▁', '測速', '比', '之前', '還', '快', '▁晚上', '還能', '穩定', '15', 'mb', '▁=', '▁=']\n"
     ]
    },
    {
     "data": {
      "text/plain": [
       "{'entity': ['中華電信', '台灣大哥大', '遠傳電信', '台灣之星', '亞太電信', '其他電信'],\n",
       " 'entity_probs': array([0.1672673 , 0.17283326, 0.16449066, 0.16464284, 0.16505646,\n",
       "        0.16570949]),\n",
       " 'service': ['資費方案', '通訊品質', '加值服務'],\n",
       " 'service_probs': array([9.16078501e-05, 9.99814418e-01, 9.39741130e-05]),\n",
       " 'seeds': ['速度', '測速', '測試', '上傳', '下載'],\n",
       " 'seed_probs': array([0.1249125, 0.1249125, 0.1249125, 0.1249125, 0.1249125])}"
      ]
     },
     "execution_count": 112,
     "metadata": {},
     "output_type": "execute_result"
    }
   ],
   "source": [
    "cadet.detect(\"果然打電話客訴有用 昨天晚上網路 測速比之前還快 晚上還能穩定15MB = =\")"
   ]
  },
  {
   "cell_type": "code",
   "execution_count": 93,
   "metadata": {},
   "outputs": [
    {
     "data": {
      "text/plain": [
       "array([0, 2, 1], dtype=int64)"
      ]
     },
     "execution_count": 93,
     "metadata": {},
     "output_type": "execute_result"
    }
   ],
   "source": [
    "np.argsort([1,3,2])"
   ]
  },
  {
   "cell_type": "code",
   "execution_count": 102,
   "metadata": {},
   "outputs": [
    {
     "data": {
      "text/plain": [
       "[('、遠傳電信', 0.8342025279998779),\n",
       " ('中華電信、遠傳電信', 0.8040480613708496),\n",
       " ('。遠傳電信', 0.7685631513595581),\n",
       " ('亞太電信', 0.7522163391113281),\n",
       " ('中華電信、台灣大哥大', 0.731809139251709),\n",
       " ('台灣大哥大', 0.7297022938728333),\n",
       " ('、台灣大哥大', 0.697385311126709),\n",
       " ('、亞太電信', 0.6964842081069946),\n",
       " ('與台灣大哥大', 0.6867240071296692),\n",
       " ('。台灣大哥大', 0.6790187358856201),\n",
       " ('中華電信', 0.6725145578384399),\n",
       " ('揀', 0.6520723104476929),\n",
       " ('、台灣之星', 0.6196701526641846),\n",
       " ('台灣大哥大的', 0.5919278860092163),\n",
       " ('瞥', 0.5867152810096741),\n",
       " ('。中華電信', 0.5778483748435974),\n",
       " ('。亞太電信', 0.577357292175293),\n",
       " ('氯錠', 0.5697625875473022),\n",
       " ('、遠傳', 0.5667248964309692),\n",
       " ('、台灣大', 0.5474036931991577)]"
      ]
     },
     "execution_count": 102,
     "metadata": {},
     "output_type": "execute_result"
    }
   ],
   "source": [
    "cadet.kv.most_similar(\"遠傳電信\", topn=20)"
   ]
  },
  {
   "cell_type": "code",
   "execution_count": null,
   "metadata": {},
   "outputs": [],
   "source": []
  }
 ],
 "metadata": {
  "kernelspec": {
   "display_name": "Python 3",
   "language": "python",
   "name": "python3"
  },
  "language_info": {
   "codemirror_mode": {
    "name": "ipython",
    "version": 3
   },
   "file_extension": ".py",
   "mimetype": "text/x-python",
   "name": "python",
   "nbconvert_exporter": "python",
   "pygments_lexer": "ipython3",
   "version": "3.8.2"
  }
 },
 "nbformat": 4,
 "nbformat_minor": 4
}

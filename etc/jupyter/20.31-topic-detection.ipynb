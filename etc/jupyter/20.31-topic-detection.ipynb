{
 "cells": [
  {
   "cell_type": "code",
   "execution_count": 1,
   "metadata": {},
   "outputs": [],
   "source": [
    "%load_ext autoreload\n",
    "%autoreload 2"
   ]
  },
  {
   "cell_type": "code",
   "execution_count": 2,
   "metadata": {},
   "outputs": [],
   "source": [
    "from import_casa import casa"
   ]
  },
  {
   "cell_type": "markdown",
   "metadata": {},
   "source": [
    "## Topic Seeds"
   ]
  },
  {
   "cell_type": "code",
   "execution_count": 3,
   "metadata": {},
   "outputs": [],
   "source": [
    "from casa import Cadet\n",
    "import numpy as np"
   ]
  },
  {
   "cell_type": "code",
   "execution_count": 50,
   "metadata": {},
   "outputs": [
    {
     "name": "stderr",
     "output_type": "stream",
     "text": [
      "[INFO] 2021-01-27 23:00:32,986 gensim.utils: loading Word2VecKeyedVectors object from E:\\LangOn\\casa\\data\\cadet\\op20\\ft-2020.kv\n",
      "[INFO] 2021-01-27 23:00:33,956 gensim.utils: setting ignored attribute vectors_norm to None\n",
      "[INFO] 2021-01-27 23:00:33,956 gensim.utils: setting ignored attribute vectors_vocab_norm to None\n",
      "[INFO] 2021-01-27 23:00:33,957 gensim.utils: setting ignored attribute vectors_ngrams_norm to None\n",
      "[INFO] 2021-01-27 23:00:33,957 gensim.utils: setting ignored attribute buckets_word to None\n",
      "[INFO] 2021-01-27 23:00:33,958 gensim.utils: loaded E:\\LangOn\\casa\\data\\cadet\\op20\\ft-2020.kv\n",
      "[INFO] 2021-01-27 23:00:33,958 gensim.models.keyedvectors: precomputing L2-norms of word weight vectors\n",
      "[INFO] 2021-01-27 23:00:33,968 gensim.models.keyedvectors: precomputing L2-norms of ngram weight vectors\n"
     ]
    },
    {
     "data": {
      "text/plain": [
       "<Cadet: FastText(9851, 200), Seeds(103)>"
      ]
     },
     "execution_count": 50,
     "metadata": {},
     "output_type": "execute_result"
    }
   ],
   "source": [
    "cadet = Cadet.load(casa.get_data_path()/\"cadet/op20\")\n",
    "cadet"
   ]
  },
  {
   "cell_type": "code",
   "execution_count": 5,
   "metadata": {},
   "outputs": [
    {
     "name": "stdout",
     "output_type": "stream",
     "text": [
      "tokens:  ['我', '昨天', '遠傳', '分', '手', '了', '他', '送', 'iphone', '該', '還', '回去', '嗎']\n",
      "ent_scores [0.6359725  0.6595124  1.         0.56385303 0.55743235 0.43274459]\n",
      "srv_scores [0.58001447 0.47847968 0.48819646 1.        ]\n",
      "seed_scores(topn) [1.         0.58001447 0.56701541 0.54494095 0.53985411]\n"
     ]
    },
    {
     "data": {
      "text/plain": [
       "{'entity': ['中華電信', '台灣大哥大', '遠傳電信', '台灣之星', '亞太電信', '其他電信'],\n",
       " 'entity_probs': array([0.01200945, 0.01229551, 0.94361807, 0.01117383, 0.01110232,\n",
       "        0.00980082]),\n",
       " 'service': ['資費方案', '通訊品質', '加值服務', '其他'],\n",
       " 'service_probs': array([0.01163998, 0.01051614, 0.01061882, 0.96722507]),\n",
       " 'seeds': ['手機', '通話費', '轉4G', '電銷', '方案'],\n",
       " 'seed_probs': array([0.52720503, 0.0063446 , 0.00626266, 0.00612593, 0.00609485])}"
      ]
     },
     "execution_count": 5,
     "metadata": {},
     "output_type": "execute_result"
    }
   ],
   "source": [
    "text = \"我昨天跟遠傳分手了，他送的iphone該還回去嗎\"\n",
    "cadet.detect(text, verbose=True)"
   ]
  },
  {
   "cell_type": "markdown",
   "metadata": {},
   "source": [
    "## Thread-level"
   ]
  },
  {
   "cell_type": "code",
   "execution_count": 52,
   "metadata": {},
   "outputs": [],
   "source": [
    "import pickle\n",
    "with open(casa.get_data_path() / \"threads/cht-2020-merged.pkl\", \"rb\") as fin:\n",
    "    threads = pickle.load(fin)"
   ]
  },
  {
   "cell_type": "code",
   "execution_count": 53,
   "metadata": {},
   "outputs": [],
   "source": [
    "from casa.cadet import CadetProcessor\n",
    "from tqdm.auto import tqdm"
   ]
  },
  {
   "cell_type": "code",
   "execution_count": 54,
   "metadata": {},
   "outputs": [
    {
     "data": {
      "text/plain": [
       "'主文'"
      ]
     },
     "execution_count": 54,
     "metadata": {},
     "output_type": "execute_result"
    }
   ],
   "source": [
    "threads[0].main.post_type"
   ]
  },
  {
   "cell_type": "code",
   "execution_count": 55,
   "metadata": {},
   "outputs": [
    {
     "data": {
      "application/vnd.jupyter.widget-view+json": {
       "model_id": "0004d677f75e446984a8fc7d98e84c2d",
       "version_major": 2,
       "version_minor": 0
      },
      "text/plain": [
       "HBox(children=(FloatProgress(value=0.0, max=56064.0), HTML(value='')))"
      ]
     },
     "metadata": {},
     "output_type": "display_data"
    },
    {
     "name": "stdout",
     "output_type": "stream",
     "text": [
      "\n"
     ]
    }
   ],
   "source": [
    "cadet_proc = CadetProcessor(cadet)\n",
    "for thread_x in tqdm(threads):\n",
    "    thread_x.process(cadet_proc)"
   ]
  },
  {
   "cell_type": "code",
   "execution_count": 56,
   "metadata": {},
   "outputs": [],
   "source": [
    "with open(casa.get_data_path() / \"threads/cht-2020-merged-cadet-op20.pkl\", \"wb\") as fout:\n",
    "    pickle.dump(threads, fout)"
   ]
  },
  {
   "cell_type": "markdown",
   "metadata": {},
   "source": [
    "## Prioritize threads"
   ]
  },
  {
   "cell_type": "code",
   "execution_count": 59,
   "metadata": {},
   "outputs": [],
   "source": [
    "with open(casa.get_data_path() / \"threads/cht-2020-merged-cadet-op20.pkl\", \"rb\") as fin:\n",
    "    threads = pickle.load(fin)"
   ]
  },
  {
   "cell_type": "code",
   "execution_count": 70,
   "metadata": {},
   "outputs": [],
   "source": [
    "def get_aspect(result):    \n",
    "    if not result:\n",
    "        return (None, None, None, None)\n",
    "    \n",
    "    entity_probs = result[\"entity_probs\"]    \n",
    "    if entity_probs.max() < 0.4:\n",
    "        entity = None        \n",
    "        ent_prob = None\n",
    "    else:\n",
    "        entity = result[\"entity\"][np.argmax(entity_probs)]\n",
    "        ent_prob = entity_probs[np.argmax(entity_probs)]\n",
    "        \n",
    "    service_probs = result[\"service_probs\"]\n",
    "    if service_probs.max() < 0.4:\n",
    "        service = None        \n",
    "        srv_prob = None\n",
    "    else:\n",
    "        service = result[\"service\"][np.argmax(service_probs)]\n",
    "        srv_prob = service_probs[np.argmax(service_probs)]\n",
    "    return (entity, service, ent_prob, srv_prob)"
   ]
  },
  {
   "cell_type": "code",
   "execution_count": 62,
   "metadata": {},
   "outputs": [
    {
     "name": "stdout",
     "output_type": "stream",
     "text": [
      "#請益 種花續約vs台灣之星購機方案\n",
      "Main: <OpinionProc [Dcard] 國立中山大學: 從有手機開始全家都是種花的忠實客戶但最近... ()>\n",
      "-- <OpinionProc [Dcard] 烤鴨王: 上網查雙NP ()>\n",
      "-- <OpinionProc [Dcard] 長榮大學: 每一家對老客戶的優惠都....唉 ()>\n",
      "-- <OpinionProc [Dcard] 國立高雄師範大學: 直接看雙NP+1 ()>\n",
      "-- <OpinionProc [Dcard] 南臺科技大學: 買11 pro空機準備從台星跳種花給你參... ()>\n",
      "-- <OpinionProc [Dcard] 國立虎尾科技大學: 你先辦試用卡在決定吧！！不然你有可能網路... ()>\n",
      "-- <OpinionProc [Dcard] 國立臺北教育大學: 推薦先試用再說，興高采烈換了中華的苦主在... ()>\n",
      "-- <OpinionProc [Dcard] 國立臺北大學: 真的～夜間拍攝很重要 推樓上先試用！常去... ()>\n",
      "-- <OpinionProc [Dcard] 國立臺北大學: 我朋友每到一段時間就會換電信才能夠把各家... ()>\n",
      "-- <OpinionProc [Dcard] 中國醫藥大學: 真的推薦先去辦試用如果你常活動的地區離都... ()>\n",
      "-- <OpinionProc [Dcard] 華威大學: 換11吧 先換起來 之後用不順再跳槽 現... ()>\n"
     ]
    },
    {
     "data": {
      "text/plain": [
       "{'entity': ['中華電信', '台灣大哥大', '遠傳電信', '台灣之星', '亞太電信', '其他電信'],\n",
       " 'entity_probs': array([0.48837139, 0.0062503 , 0.00578304, 0.48837139, 0.00578089,\n",
       "        0.005443  ]),\n",
       " 'service': ['資費方案', '通訊品質', '加值服務', '其他'],\n",
       " 'service_probs': array([0.96726538, 0.01036411, 0.01098799, 0.01138252]),\n",
       " 'seeds': ['方案', '資費', '綁約', '購機', '優惠'],\n",
       " 'seed_probs': array([0.11303094, 0.11303094, 0.11303094, 0.11303094, 0.11303094])}"
      ]
     },
     "execution_count": 62,
     "metadata": {},
     "output_type": "execute_result"
    }
   ],
   "source": [
    "print(threads[1].main.title)\n",
    "threads[1].print_thread()\n",
    "threads[1].main.cadet_title"
   ]
  },
  {
   "cell_type": "code",
   "execution_count": 71,
   "metadata": {},
   "outputs": [],
   "source": [
    "thread_x = threads[1]\n",
    "def get_thread_aspect(thread_x):\n",
    "    entity = None\n",
    "    service = None\n",
    "    entity_prob = None\n",
    "    service_prob = None\n",
    "\n",
    "    if thread_x.main:\n",
    "        cadet_result = getattr(thread_x.main, \"cadet_title\", None)\n",
    "        title_entity, title_service, title_ep, title_sp = get_aspect(cadet_result)    \n",
    "        cadet_result = getattr(thread_x.main, \"cadet_result\", None)\n",
    "        main_entity, main_service, main_ep, main_sp = get_aspect(cadet_result)\n",
    "        # print(\"title: \", title_entity, title_service)\n",
    "        # print(\"main: \", main_entity, main_service)\n",
    "        entity = title_entity or main_entity\n",
    "        service = title_service or main_service\n",
    "        entity_prob = title_ep or main_ep\n",
    "        service_prob = title_sp or main_sp\n",
    "\n",
    "    for reply_x in thread_x.replies:\n",
    "        cadet_result = getattr(reply_x, \"cadet_result\", None)\n",
    "        reply_entity, reply_service, reply_ep, reply_sp = get_aspect(cadet_result)\n",
    "        entity = entity or reply_entity\n",
    "        service = service or reply_service\n",
    "        entity_prob = entity_prob or reply_ep\n",
    "        service_prob = service_prob or reply_sp\n",
    "        # print(\"reply: \", reply_entity, reply_service)\n",
    "        if entity and service:\n",
    "            break\n",
    "    return (entity, service, entity_prob, service_prob)"
   ]
  },
  {
   "cell_type": "code",
   "execution_count": 72,
   "metadata": {},
   "outputs": [
    {
     "data": {
      "text/plain": [
       "('中華電信', '其他', 0.9999971555176705, 0.9999092083704556)"
      ]
     },
     "execution_count": 72,
     "metadata": {},
     "output_type": "execute_result"
    }
   ],
   "source": [
    "get_thread_aspect(threads[0])"
   ]
  },
  {
   "cell_type": "code",
   "execution_count": 74,
   "metadata": {},
   "outputs": [
    {
     "data": {
      "text/plain": [
       "'D2020010117152852985906707873691962663605748902362'"
      ]
     },
     "execution_count": 74,
     "metadata": {},
     "output_type": "execute_result"
    }
   ],
   "source": [
    "\n"
   ]
  },
  {
   "cell_type": "code",
   "execution_count": 75,
   "metadata": {},
   "outputs": [
    {
     "data": {
      "application/vnd.jupyter.widget-view+json": {
       "model_id": "c5927f4c4ba040fa955a3707077a2ae7",
       "version_major": 2,
       "version_minor": 0
      },
      "text/plain": [
       "HBox(children=(FloatProgress(value=0.0, max=56064.0), HTML(value='')))"
      ]
     },
     "metadata": {},
     "output_type": "display_data"
    },
    {
     "name": "stdout",
     "output_type": "stream",
     "text": [
      "\n"
     ]
    }
   ],
   "source": [
    "data = []\n",
    "for thread_x in tqdm(threads):\n",
    "    tid = threads[0].get_opinion().id    \n",
    "    entity, service, ep, sp = get_thread_aspect(thread_x)\n",
    "    data.append((tid, entity, service, ep, sp))\n"
   ]
  },
  {
   "cell_type": "code",
   "execution_count": 78,
   "metadata": {},
   "outputs": [],
   "source": [
    "import pandas as pd\n",
    "thread_frame = pd.DataFrame(data, columns=[\"thread_id\", \"entity\", \"service\", \"ent_prob\", \"srv_prob\"])"
   ]
  },
  {
   "cell_type": "code",
   "execution_count": 37,
   "metadata": {},
   "outputs": [
    {
     "data": {
      "text/plain": [
       "('中華電信', '其他')"
      ]
     },
     "execution_count": 37,
     "metadata": {},
     "output_type": "execute_result"
    }
   ],
   "source": [
    "get_aspect([getattr(x, \"cadet_result\") for x in threads[0].opinions()][0])"
   ]
  },
  {
   "cell_type": "code",
   "execution_count": 87,
   "metadata": {},
   "outputs": [
    {
     "data": {
      "text/html": [
       "<div>\n",
       "<style scoped>\n",
       "    .dataframe tbody tr th:only-of-type {\n",
       "        vertical-align: middle;\n",
       "    }\n",
       "\n",
       "    .dataframe tbody tr th {\n",
       "        vertical-align: top;\n",
       "    }\n",
       "\n",
       "    .dataframe thead th {\n",
       "        text-align: right;\n",
       "    }\n",
       "</style>\n",
       "<table border=\"1\" class=\"dataframe\">\n",
       "  <thead>\n",
       "    <tr style=\"text-align: right;\">\n",
       "      <th></th>\n",
       "      <th>n</th>\n",
       "      <th>avg</th>\n",
       "      <th>sd</th>\n",
       "    </tr>\n",
       "    <tr>\n",
       "      <th>entity</th>\n",
       "      <th></th>\n",
       "      <th></th>\n",
       "      <th></th>\n",
       "    </tr>\n",
       "  </thead>\n",
       "  <tbody>\n",
       "    <tr>\n",
       "      <th>中華電信</th>\n",
       "      <td>16123</td>\n",
       "      <td>0.815552</td>\n",
       "      <td>0.217922</td>\n",
       "    </tr>\n",
       "    <tr>\n",
       "      <th>台灣之星</th>\n",
       "      <td>8921</td>\n",
       "      <td>0.877564</td>\n",
       "      <td>0.176779</td>\n",
       "    </tr>\n",
       "    <tr>\n",
       "      <th>遠傳電信</th>\n",
       "      <td>7529</td>\n",
       "      <td>0.885528</td>\n",
       "      <td>0.170036</td>\n",
       "    </tr>\n",
       "    <tr>\n",
       "      <th>台灣大哥大</th>\n",
       "      <td>7481</td>\n",
       "      <td>0.848777</td>\n",
       "      <td>0.194544</td>\n",
       "    </tr>\n",
       "    <tr>\n",
       "      <th>亞太電信</th>\n",
       "      <td>4744</td>\n",
       "      <td>0.949130</td>\n",
       "      <td>0.059831</td>\n",
       "    </tr>\n",
       "    <tr>\n",
       "      <th>其他電信</th>\n",
       "      <td>721</td>\n",
       "      <td>0.603363</td>\n",
       "      <td>0.158857</td>\n",
       "    </tr>\n",
       "  </tbody>\n",
       "</table>\n",
       "</div>"
      ],
      "text/plain": [
       "            n       avg        sd\n",
       "entity                           \n",
       "中華電信    16123  0.815552  0.217922\n",
       "台灣之星     8921  0.877564  0.176779\n",
       "遠傳電信     7529  0.885528  0.170036\n",
       "台灣大哥大    7481  0.848777  0.194544\n",
       "亞太電信     4744  0.949130  0.059831\n",
       "其他電信      721  0.603363  0.158857"
      ]
     },
     "execution_count": 87,
     "metadata": {},
     "output_type": "execute_result"
    }
   ],
   "source": [
    "thread_frame.groupby(\"entity\") \\\n",
    "    .aggregate(n=(\"entity\", len), avg=(\"ent_prob\", \"mean\"), sd=(\"ent_prob\", \"std\"))\\\n",
    "    .sort_values(\"n\", ascending=False)"
   ]
  },
  {
   "cell_type": "code",
   "execution_count": 88,
   "metadata": {},
   "outputs": [
    {
     "data": {
      "text/html": [
       "<div>\n",
       "<style scoped>\n",
       "    .dataframe tbody tr th:only-of-type {\n",
       "        vertical-align: middle;\n",
       "    }\n",
       "\n",
       "    .dataframe tbody tr th {\n",
       "        vertical-align: top;\n",
       "    }\n",
       "\n",
       "    .dataframe thead th {\n",
       "        text-align: right;\n",
       "    }\n",
       "</style>\n",
       "<table border=\"1\" class=\"dataframe\">\n",
       "  <thead>\n",
       "    <tr style=\"text-align: right;\">\n",
       "      <th></th>\n",
       "      <th>n</th>\n",
       "      <th>avg</th>\n",
       "      <th>sd</th>\n",
       "    </tr>\n",
       "    <tr>\n",
       "      <th>service</th>\n",
       "      <th></th>\n",
       "      <th></th>\n",
       "      <th></th>\n",
       "    </tr>\n",
       "  </thead>\n",
       "  <tbody>\n",
       "    <tr>\n",
       "      <th>資費方案</th>\n",
       "      <td>27362</td>\n",
       "      <td>0.806484</td>\n",
       "      <td>0.234768</td>\n",
       "    </tr>\n",
       "    <tr>\n",
       "      <th>通訊品質</th>\n",
       "      <td>14322</td>\n",
       "      <td>0.819098</td>\n",
       "      <td>0.229374</td>\n",
       "    </tr>\n",
       "    <tr>\n",
       "      <th>加值服務</th>\n",
       "      <td>7514</td>\n",
       "      <td>0.899231</td>\n",
       "      <td>0.186313</td>\n",
       "    </tr>\n",
       "    <tr>\n",
       "      <th>其他</th>\n",
       "      <td>2776</td>\n",
       "      <td>0.908723</td>\n",
       "      <td>0.163626</td>\n",
       "    </tr>\n",
       "  </tbody>\n",
       "</table>\n",
       "</div>"
      ],
      "text/plain": [
       "             n       avg        sd\n",
       "service                           \n",
       "資費方案     27362  0.806484  0.234768\n",
       "通訊品質     14322  0.819098  0.229374\n",
       "加值服務      7514  0.899231  0.186313\n",
       "其他        2776  0.908723  0.163626"
      ]
     },
     "execution_count": 88,
     "metadata": {},
     "output_type": "execute_result"
    }
   ],
   "source": [
    "thread_frame.groupby(\"service\") \\\n",
    "    .aggregate(n=(\"service\", len), avg=(\"srv_prob\", \"mean\"), sd=(\"srv_prob\", \"std\"))\\\n",
    "    .sort_values(\"n\", ascending=False)"
   ]
  },
  {
   "cell_type": "code",
   "execution_count": 95,
   "metadata": {},
   "outputs": [
    {
     "data": {
      "text/html": [
       "<div>\n",
       "<style scoped>\n",
       "    .dataframe tbody tr th:only-of-type {\n",
       "        vertical-align: middle;\n",
       "    }\n",
       "\n",
       "    .dataframe tbody tr th {\n",
       "        vertical-align: top;\n",
       "    }\n",
       "\n",
       "    .dataframe thead th {\n",
       "        text-align: right;\n",
       "    }\n",
       "</style>\n",
       "<table border=\"1\" class=\"dataframe\">\n",
       "  <thead>\n",
       "    <tr style=\"text-align: right;\">\n",
       "      <th></th>\n",
       "      <th></th>\n",
       "      <th>n</th>\n",
       "    </tr>\n",
       "    <tr>\n",
       "      <th>entity</th>\n",
       "      <th>service</th>\n",
       "      <th></th>\n",
       "    </tr>\n",
       "  </thead>\n",
       "  <tbody>\n",
       "    <tr>\n",
       "      <th rowspan=\"4\" valign=\"top\">遠傳電信</th>\n",
       "      <th>資費方案</th>\n",
       "      <td>3500</td>\n",
       "    </tr>\n",
       "    <tr>\n",
       "      <th>通訊品質</th>\n",
       "      <td>2206</td>\n",
       "    </tr>\n",
       "    <tr>\n",
       "      <th>加值服務</th>\n",
       "      <td>831</td>\n",
       "    </tr>\n",
       "    <tr>\n",
       "      <th>其他</th>\n",
       "      <td>392</td>\n",
       "    </tr>\n",
       "    <tr>\n",
       "      <th rowspan=\"4\" valign=\"top\">台灣大哥大</th>\n",
       "      <th>資費方案</th>\n",
       "      <td>3963</td>\n",
       "    </tr>\n",
       "    <tr>\n",
       "      <th>通訊品質</th>\n",
       "      <td>1664</td>\n",
       "    </tr>\n",
       "    <tr>\n",
       "      <th>加值服務</th>\n",
       "      <td>872</td>\n",
       "    </tr>\n",
       "    <tr>\n",
       "      <th>其他</th>\n",
       "      <td>448</td>\n",
       "    </tr>\n",
       "    <tr>\n",
       "      <th rowspan=\"4\" valign=\"top\">台灣之星</th>\n",
       "      <th>資費方案</th>\n",
       "      <td>5595</td>\n",
       "    </tr>\n",
       "    <tr>\n",
       "      <th>通訊品質</th>\n",
       "      <td>1979</td>\n",
       "    </tr>\n",
       "    <tr>\n",
       "      <th>加值服務</th>\n",
       "      <td>599</td>\n",
       "    </tr>\n",
       "    <tr>\n",
       "      <th>其他</th>\n",
       "      <td>331</td>\n",
       "    </tr>\n",
       "    <tr>\n",
       "      <th rowspan=\"4\" valign=\"top\">其他電信</th>\n",
       "      <th>資費方案</th>\n",
       "      <td>454</td>\n",
       "    </tr>\n",
       "    <tr>\n",
       "      <th>加值服務</th>\n",
       "      <td>105</td>\n",
       "    </tr>\n",
       "    <tr>\n",
       "      <th>通訊品質</th>\n",
       "      <td>98</td>\n",
       "    </tr>\n",
       "    <tr>\n",
       "      <th>其他</th>\n",
       "      <td>44</td>\n",
       "    </tr>\n",
       "    <tr>\n",
       "      <th rowspan=\"4\" valign=\"top\">亞太電信</th>\n",
       "      <th>資費方案</th>\n",
       "      <td>2592</td>\n",
       "    </tr>\n",
       "    <tr>\n",
       "      <th>通訊品質</th>\n",
       "      <td>1155</td>\n",
       "    </tr>\n",
       "    <tr>\n",
       "      <th>加值服務</th>\n",
       "      <td>515</td>\n",
       "    </tr>\n",
       "    <tr>\n",
       "      <th>其他</th>\n",
       "      <td>146</td>\n",
       "    </tr>\n",
       "    <tr>\n",
       "      <th rowspan=\"4\" valign=\"top\">中華電信</th>\n",
       "      <th>資費方案</th>\n",
       "      <td>7090</td>\n",
       "    </tr>\n",
       "    <tr>\n",
       "      <th>通訊品質</th>\n",
       "      <td>4329</td>\n",
       "    </tr>\n",
       "    <tr>\n",
       "      <th>加值服務</th>\n",
       "      <td>3031</td>\n",
       "    </tr>\n",
       "    <tr>\n",
       "      <th>其他</th>\n",
       "      <td>818</td>\n",
       "    </tr>\n",
       "  </tbody>\n",
       "</table>\n",
       "</div>"
      ],
      "text/plain": [
       "                   n\n",
       "entity service      \n",
       "遠傳電信   資費方案     3500\n",
       "       通訊品質     2206\n",
       "       加值服務      831\n",
       "       其他        392\n",
       "台灣大哥大  資費方案     3963\n",
       "       通訊品質     1664\n",
       "       加值服務      872\n",
       "       其他        448\n",
       "台灣之星   資費方案     5595\n",
       "       通訊品質     1979\n",
       "       加值服務      599\n",
       "       其他        331\n",
       "其他電信   資費方案      454\n",
       "       加值服務      105\n",
       "       通訊品質       98\n",
       "       其他         44\n",
       "亞太電信   資費方案     2592\n",
       "       通訊品質     1155\n",
       "       加值服務      515\n",
       "       其他        146\n",
       "中華電信   資費方案     7090\n",
       "       通訊品質     4329\n",
       "       加值服務     3031\n",
       "       其他        818"
      ]
     },
     "execution_count": 95,
     "metadata": {},
     "output_type": "execute_result"
    }
   ],
   "source": [
    "thread_frame.groupby([\"entity\", \"service\"]).aggregate(n=(\"thread_id\", len)).sort_values([\"entity\", \"n\"], ascending=False)"
   ]
  },
  {
   "cell_type": "code",
   "execution_count": null,
   "metadata": {},
   "outputs": [],
   "source": []
  }
 ],
 "metadata": {
  "kernelspec": {
   "display_name": "Python 3",
   "language": "python",
   "name": "python3"
  },
  "language_info": {
   "codemirror_mode": {
    "name": "ipython",
    "version": 3
   },
   "file_extension": ".py",
   "mimetype": "text/x-python",
   "name": "python",
   "nbconvert_exporter": "python",
   "pygments_lexer": "ipython3",
   "version": "3.8.2"
  }
 },
 "nbformat": 4,
 "nbformat_minor": 4
}

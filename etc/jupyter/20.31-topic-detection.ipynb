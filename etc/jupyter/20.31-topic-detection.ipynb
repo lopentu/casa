{
 "cells": [
  {
   "cell_type": "code",
   "execution_count": 5,
   "metadata": {},
   "outputs": [],
   "source": [
    "%load_ext autoreload\n",
    "%autoreload 2"
   ]
  },
  {
   "cell_type": "code",
   "execution_count": 6,
   "metadata": {},
   "outputs": [],
   "source": [
    "from import_casa import casa"
   ]
  },
  {
   "cell_type": "code",
   "execution_count": 9,
   "metadata": {},
   "outputs": [
    {
     "name": "stderr",
     "output_type": "stream",
     "text": [
      "[INFO] 2021-01-26 15:17:13,113 gensim.utils: loading Word2VecKeyedVectors object from E:\\LangOn\\casa\\data\\cadet\\op20\\ft-2020.kv\n",
      "[INFO] 2021-01-26 15:17:13,257 gensim.utils: loading vectors_ngrams from E:\\LangOn\\casa\\data\\cadet\\op20\\ft-2020.kv.vectors_ngrams.npy with mmap=None\n",
      "[INFO] 2021-01-26 15:17:14,335 gensim.utils: setting ignored attribute vectors_norm to None\n",
      "[INFO] 2021-01-26 15:17:14,336 gensim.utils: setting ignored attribute vectors_vocab_norm to None\n",
      "[INFO] 2021-01-26 15:17:14,336 gensim.utils: setting ignored attribute vectors_ngrams_norm to None\n",
      "[INFO] 2021-01-26 15:17:14,337 gensim.utils: setting ignored attribute buckets_word to None\n",
      "[INFO] 2021-01-26 15:17:14,337 gensim.utils: loaded E:\\LangOn\\casa\\data\\cadet\\op20\\ft-2020.kv\n"
     ]
    },
    {
     "data": {
      "text/plain": [
       "<gensim.models.keyedvectors.FastTextKeyedVectors at 0x1aa5bf0eb50>"
      ]
     },
     "execution_count": 9,
     "metadata": {},
     "output_type": "execute_result"
    }
   ],
   "source": [
    "import pandas as pd\n",
    "import pickle\n",
    "from gensim.models.keyedvectors import KeyedVectors\n",
    "path = casa.get_data_path() / \"cadet/op20/ft-2020.kv\"\n",
    "ft = KeyedVectors.load(str(path))\n",
    "ft"
   ]
  },
  {
   "cell_type": "code",
   "execution_count": 62,
   "metadata": {},
   "outputs": [
    {
     "data": {
      "text/plain": [
       "[('訊號', 0.8730462193489075),\n",
       " ('的收訊', 0.805201530456543),\n",
       " ('的訊號', 0.8023468255996704),\n",
       " ('亞太訊號', 0.7773821353912354),\n",
       " ('網路訊號', 0.7763644456863403),\n",
       " ('信號', 0.7473142743110657),\n",
       " ('訊號都', 0.7347889542579651),\n",
       " ('遠傳訊號', 0.715144157409668),\n",
       " ('4g訊號', 0.692558765411377),\n",
       " ('無訊號', 0.6519330739974976)]"
      ]
     },
     "execution_count": 62,
     "metadata": {},
     "output_type": "execute_result"
    }
   ],
   "source": [
    "ft.most_similar(\"收訊\")"
   ]
  },
  {
   "cell_type": "code",
   "execution_count": 5,
   "metadata": {},
   "outputs": [],
   "source": [
    "seeds = pd.read_excel(casa.get_data_path()/\"seeded_spm_edited.xlsx\")"
   ]
  },
  {
   "cell_type": "code",
   "execution_count": 24,
   "metadata": {},
   "outputs": [],
   "source": [
    "from casa.topics import SeedEntry, SeedDistribution\n",
    "seed_entries = []\n",
    "for _, row in seeds.iterrows():\n",
    "    candidates = [str(x) for x in row[2:].dropna()]\n",
    "    entry = SeedEntry(row.Category, row.Seed, candidates)\n",
    "    seed_entries.append(entry)    "
   ]
  },
  {
   "cell_type": "code",
   "execution_count": null,
   "metadata": {},
   "outputs": [],
   "source": [
    "## collective nouns is ignored: 三雄, 三大電信, 電信三雄\n",
    "entities_seeds = [\n",
    "    SeedEntry(\"電信業者\", \"中華電信\", \"中華電信 中華電 中華 種花\"),\n",
    "    SeedEntry(\"電信業者\", \"遠傳電信\", \"遠傳電信 遠傳 遠傳5G\"),\n",
    "    SeedEntry(\"電信業者\", \"台灣大哥大\", \"台灣大哥大 台灣大 台哥大 台哥\"),\n",
    "    SeedEntry(\"電信業者\", \"台灣之星\", \"台灣之星\"),\n",
    "    SeedEntry(\"電信業者\", \"亞太\", \"亞太 亞太電信 亞太電 亞太5G\"),    \n",
    "]"
   ]
  },
  {
   "cell_type": "code",
   "execution_count": 27,
   "metadata": {},
   "outputs": [],
   "source": [
    "seed_distr = SeedDistribution(model.wv, seed_entries)"
   ]
  },
  {
   "cell_type": "code",
   "execution_count": 35,
   "metadata": {},
   "outputs": [
    {
     "data": {
      "text/plain": [
       "(880, 4)"
      ]
     },
     "execution_count": 35,
     "metadata": {},
     "output_type": "execute_result"
    }
   ],
   "source": [
    "seed_distr.get_distribution(\"中華電信好爛\").shape"
   ]
  },
  {
   "cell_type": "code",
   "execution_count": null,
   "metadata": {},
   "outputs": [],
   "source": []
  }
 ],
 "metadata": {
  "kernelspec": {
   "display_name": "Python 3",
   "language": "python",
   "name": "python3"
  },
  "language_info": {
   "codemirror_mode": {
    "name": "ipython",
    "version": 3
   },
   "file_extension": ".py",
   "mimetype": "text/x-python",
   "name": "python",
   "nbconvert_exporter": "python",
   "pygments_lexer": "ipython3",
   "version": "3.8.2"
  }
 },
 "nbformat": 4,
 "nbformat_minor": 4
}

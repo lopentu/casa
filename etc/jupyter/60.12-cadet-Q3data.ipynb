{
 "cells": [
  {
   "cell_type": "code",
   "execution_count": 1,
   "metadata": {},
   "outputs": [],
   "source": [
    "%load_ext autoreload\n",
    "%autoreload 2"
   ]
  },
  {
   "cell_type": "code",
   "execution_count": 2,
   "metadata": {},
   "outputs": [],
   "source": [
    "import numpy as np\n",
    "import pandas as pd\n",
    "import pickle\n",
    "from tqdm.auto import tqdm\n",
    "import json\n",
    "from sklearn.metrics import classification_report, accuracy_score, confusion_matrix"
   ]
  },
  {
   "cell_type": "code",
   "execution_count": 3,
   "metadata": {},
   "outputs": [],
   "source": [
    "from import_casa import casa\n",
    "from casa import Cadet"
   ]
  },
  {
   "cell_type": "code",
   "execution_count": 4,
   "metadata": {},
   "outputs": [
    {
     "name": "stderr",
     "output_type": "stream",
     "text": [
      "[INFO] 2021-07-06 17:36:12,636 gensim.utils: loading KeyedVectors object from E:\\LangOn\\casa\\data\\cadet\\op20.2\\ft-2020.kv\n",
      "[INFO] 2021-07-06 17:36:12,962 gensim.utils: setting ignored attribute vectors_norm to None\n",
      "[INFO] 2021-07-06 17:36:12,964 gensim.utils: setting ignored attribute vectors_vocab_norm to None\n",
      "[INFO] 2021-07-06 17:36:12,965 gensim.utils: setting ignored attribute vectors_ngrams_norm to None\n",
      "[INFO] 2021-07-06 17:36:12,966 gensim.utils: setting ignored attribute buckets_word to None\n",
      "[INFO] 2021-07-06 17:36:13,087 gensim.utils: FastTextKeyedVectors lifecycle event {'fname': 'E:\\\\LangOn\\\\casa\\\\data\\\\cadet\\\\op20.2\\\\ft-2020.kv', 'datetime': '2021-07-06T17:36:13.087609', 'gensim': '4.0.0', 'python': '3.8.2 (tags/v3.8.2:7b3ab59, Feb 25 2020, 23:03:10) [MSC v.1916 64 bit (AMD64)]', 'platform': 'Windows-10-10.0.18362-SP0', 'event': 'loaded'}\n"
     ]
    },
    {
     "data": {
      "text/plain": [
       "<Cadet: FastText(9851, 200), Seeds(79)>"
      ]
     },
     "execution_count": 4,
     "metadata": {},
     "output_type": "execute_result"
    }
   ],
   "source": [
    "cadet = Cadet.load(casa.get_data_path()/\"cadet/op20.2\")\n",
    "cadet"
   ]
  },
  {
   "cell_type": "code",
   "execution_count": 5,
   "metadata": {},
   "outputs": [],
   "source": [
    "with (casa.get_data_path() / f\"threads/cht2021-JanMay.pkl\").open(\"rb\") as fin:\n",
    "    opdata = pickle.load(fin)"
   ]
  },
  {
   "cell_type": "code",
   "execution_count": 6,
   "metadata": {},
   "outputs": [
    {
     "data": {
      "text/plain": [
       "{'entity': ['中華電信', '台灣大哥大', '遠傳電信', '台灣之星', '亞太電信', '無框行動'],\n",
       " 'entity_probs': array([0.16666667, 0.16666667, 0.16666667, 0.16666667, 0.16666667,\n",
       "        0.16666667]),\n",
       " 'service': [('通訊品質', '涵蓋'),\n",
       "  ('資費方案', '方案活動'),\n",
       "  ('加值服務', '影音娛樂'),\n",
       "  ('通訊品質', '網速'),\n",
       "  ('其他', '手機')],\n",
       " 'service_probs': array([0.05548318, 0.05088445, 0.05004898, 0.04945965, 0.04545599]),\n",
       " 'seeds': ['離島', '大4G', 'book', 'mbps', '綁約'],\n",
       " 'seed_probs': array([0.01991876, 0.01826779, 0.01796786, 0.01775628, 0.01768285])}"
      ]
     },
     "execution_count": 6,
     "metadata": {},
     "output_type": "execute_result"
    }
   ],
   "source": [
    "cadet.detect(\"!@3\")"
   ]
  },
  {
   "cell_type": "code",
   "execution_count": 7,
   "metadata": {},
   "outputs": [
    {
     "data": {
      "text/plain": [
       "'20210105'"
      ]
     },
     "execution_count": 7,
     "metadata": {},
     "output_type": "execute_result"
    }
   ],
   "source": [
    "opdata[0].get_opinion().id[1:9]"
   ]
  },
  {
   "cell_type": "code",
   "execution_count": 8,
   "metadata": {},
   "outputs": [
    {
     "data": {
      "text/plain": [
       "(2020, 53, 5)"
      ]
     },
     "execution_count": 8,
     "metadata": {},
     "output_type": "execute_result"
    }
   ],
   "source": [
    "from datetime import datetime\n",
    "datetime.strptime(opdata[0].get_opinion().id[1:9], \"%Y%m%d\").isocalendar()\n",
    "datetime.strptime(\"20210101\", \"%Y%m%d\").isocalendar()"
   ]
  },
  {
   "cell_type": "code",
   "execution_count": 9,
   "metadata": {},
   "outputs": [
    {
     "data": {
      "application/vnd.jupyter.widget-view+json": {
       "model_id": "2af6b15aa4cb4c9c8d108b4830a3e997",
       "version_major": 2,
       "version_minor": 0
      },
      "text/plain": [
       "HBox(children=(FloatProgress(value=0.0, max=23886.0), HTML(value='')))"
      ]
     },
     "metadata": {},
     "output_type": "display_data"
    },
    {
     "name": "stdout",
     "output_type": "stream",
     "text": [
      "\n"
     ]
    }
   ],
   "source": [
    "det_data = []\n",
    "for thread_x in tqdm(opdata):\n",
    "    for op in thread_x.opinions():\n",
    "        if not (isinstance(op.id, str) and len(op.id)>=9): continue\n",
    "        if not op.text.strip(): continue\n",
    "        det = cadet.detect(op.text)        \n",
    "        ent = det[\"entity\"][0] if det[\"entity_probs\"][0] > 0.3 else \"無\"\n",
    "        srv = det[\"service\"][0] if det[\"service_probs\"][0] > 0.1 else (\"無\", \"無\")\n",
    "        src = op.source\n",
    "        rating = {\"R\": -1, \"Y\": 0, \"G\": 1}.get(op.sentence_sentiment, 0)\n",
    "        date = datetime.strptime(op.id[1:9], \"%Y%m%d\") \n",
    "        year = date.isocalendar()[0]\n",
    "        woy = date.isocalendar()[1]\n",
    "        det_data.append((\n",
    "            op.id, year, woy, src, ent, srv[0], srv[1], rating, op.text\n",
    "        ))    "
   ]
  },
  {
   "cell_type": "code",
   "execution_count": 10,
   "metadata": {},
   "outputs": [],
   "source": [
    "det_dfr = pd.DataFrame.from_records(det_data, columns=\"opid,year,woy,source,entity,category,attribute,rating,text\".split(\",\"))\n",
    "det_dfr.to_csv(casa.get_data_path() / \"casper/cadet_JanMay.csv\", index=None)"
   ]
  },
  {
   "cell_type": "code",
   "execution_count": 13,
   "metadata": {},
   "outputs": [
    {
     "data": {
      "text/html": [
       "<div>\n",
       "<style scoped>\n",
       "    .dataframe tbody tr th:only-of-type {\n",
       "        vertical-align: middle;\n",
       "    }\n",
       "\n",
       "    .dataframe tbody tr th {\n",
       "        vertical-align: top;\n",
       "    }\n",
       "\n",
       "    .dataframe thead th {\n",
       "        text-align: right;\n",
       "    }\n",
       "</style>\n",
       "<table border=\"1\" class=\"dataframe\">\n",
       "  <thead>\n",
       "    <tr style=\"text-align: right;\">\n",
       "      <th></th>\n",
       "      <th>opid</th>\n",
       "      <th>year</th>\n",
       "      <th>woy</th>\n",
       "      <th>source</th>\n",
       "      <th>entity</th>\n",
       "      <th>category</th>\n",
       "      <th>attribute</th>\n",
       "      <th>rating</th>\n",
       "      <th>text</th>\n",
       "    </tr>\n",
       "  </thead>\n",
       "  <tbody>\n",
       "    <tr>\n",
       "      <th>85732</th>\n",
       "      <td>D202105150647574030073719504472067</td>\n",
       "      <td>2021</td>\n",
       "      <td>19</td>\n",
       "      <td>facebook粉絲團</td>\n",
       "      <td>遠傳電信</td>\n",
       "      <td>通訊品質</td>\n",
       "      <td>網速</td>\n",
       "      <td>1</td>\n",
       "      <td>我以前就是用遠傳的，結果常常收不到訊號，跑去問遠傳，它們卻說是我的手機太老，我馬上跑去中華電...</td>\n",
       "    </tr>\n",
       "    <tr>\n",
       "      <th>86264</th>\n",
       "      <td>D202105132356403069831755787168030</td>\n",
       "      <td>2021</td>\n",
       "      <td>19</td>\n",
       "      <td>facebook粉絲團</td>\n",
       "      <td>遠傳電信</td>\n",
       "      <td>資費方案</td>\n",
       "      <td>方案活動</td>\n",
       "      <td>1</td>\n",
       "      <td>用了近10幾年 只有一個感想 越來越爛 訊號超級差 收費還比人家貴 要不是合約還要一年 不然...</td>\n",
       "    </tr>\n",
       "    <tr>\n",
       "      <th>86411</th>\n",
       "      <td>D20210512031221739243217593029</td>\n",
       "      <td>2021</td>\n",
       "      <td>19</td>\n",
       "      <td>mobile01</td>\n",
       "      <td>遠傳電信</td>\n",
       "      <td>其他</td>\n",
       "      <td>客服</td>\n",
       "      <td>-1</td>\n",
       "      <td>遠傳真是欺負人 透過樓主分享的文現在才知道真相 之前我內人一直跟我抱怨遠傳晚上就是不順 三不...</td>\n",
       "    </tr>\n",
       "    <tr>\n",
       "      <th>87094</th>\n",
       "      <td>D20210513143917548377788058379</td>\n",
       "      <td>2021</td>\n",
       "      <td>19</td>\n",
       "      <td>BabyHome 寶貝家庭親子網</td>\n",
       "      <td>遠傳電信</td>\n",
       "      <td>加值服務</td>\n",
       "      <td>影音娛樂</td>\n",
       "      <td>1</td>\n",
       "      <td>我用了遠傳兩年多最近看別人分享才知道遠傳有心生活app換購東西或是直接兌換一些生活相關的用品...</td>\n",
       "    </tr>\n",
       "    <tr>\n",
       "      <th>87101</th>\n",
       "      <td>D20210513203858474222753353585</td>\n",
       "      <td>2021</td>\n",
       "      <td>19</td>\n",
       "      <td>BabyHome 寶貝家庭親子網</td>\n",
       "      <td>遠傳電信</td>\n",
       "      <td>加值服務</td>\n",
       "      <td>電信APP</td>\n",
       "      <td>1</td>\n",
       "      <td>我們全家都是遠傳，心生活的設計，對用戶真的很便利也很多元</td>\n",
       "    </tr>\n",
       "    <tr>\n",
       "      <th>...</th>\n",
       "      <td>...</td>\n",
       "      <td>...</td>\n",
       "      <td>...</td>\n",
       "      <td>...</td>\n",
       "      <td>...</td>\n",
       "      <td>...</td>\n",
       "      <td>...</td>\n",
       "      <td>...</td>\n",
       "      <td>...</td>\n",
       "    </tr>\n",
       "    <tr>\n",
       "      <th>96467</th>\n",
       "      <td>D202105151050499802906141902428149207759211391...</td>\n",
       "      <td>2021</td>\n",
       "      <td>19</td>\n",
       "      <td>TWitter搜尋</td>\n",
       "      <td>遠傳電信</td>\n",
       "      <td>通訊品質</td>\n",
       "      <td>涵蓋</td>\n",
       "      <td>-1</td>\n",
       "      <td>@IN0_0325_ 遠傳也會⋯收訊也很爛🥲</td>\n",
       "    </tr>\n",
       "    <tr>\n",
       "      <th>96472</th>\n",
       "      <td>D202105161050283637828432944063658495646058546...</td>\n",
       "      <td>2021</td>\n",
       "      <td>19</td>\n",
       "      <td>TWitter搜尋</td>\n",
       "      <td>遠傳電信</td>\n",
       "      <td>無</td>\n",
       "      <td>無</td>\n",
       "      <td>-1</td>\n",
       "      <td>我成功擺脫爛遠傳了！</td>\n",
       "    </tr>\n",
       "    <tr>\n",
       "      <th>96908</th>\n",
       "      <td>D20210515024130690300213287431</td>\n",
       "      <td>2021</td>\n",
       "      <td>19</td>\n",
       "      <td>mobile01</td>\n",
       "      <td>遠傳電信</td>\n",
       "      <td>資費方案</td>\n",
       "      <td>續約攜碼</td>\n",
       "      <td>1</td>\n",
       "      <td>遠傳到約想攜碼 可配機也能單轉門號 來信告知攜碼月租 獲配機可折多可折多少</td>\n",
       "    </tr>\n",
       "    <tr>\n",
       "      <th>97881</th>\n",
       "      <td>D202105151033370617044055406227938556228344487...</td>\n",
       "      <td>2021</td>\n",
       "      <td>19</td>\n",
       "      <td>TWitter搜尋</td>\n",
       "      <td>遠傳電信</td>\n",
       "      <td>加值服務</td>\n",
       "      <td>智慧音箱</td>\n",
       "      <td>-1</td>\n",
       "      <td>@IN0_0325_ @maimaimjj 我們這幾次的spaces民調下來最容易斷線的是台...</td>\n",
       "    </tr>\n",
       "    <tr>\n",
       "      <th>98314</th>\n",
       "      <td>D20210516023243399349804758994</td>\n",
       "      <td>2021</td>\n",
       "      <td>19</td>\n",
       "      <td>Ptt</td>\n",
       "      <td>遠傳電信</td>\n",
       "      <td>通訊品質</td>\n",
       "      <td>涵蓋</td>\n",
       "      <td>1</td>\n",
       "      <td>亞太最近高雄都勝遠傳供你參考 大概60vs40</td>\n",
       "    </tr>\n",
       "  </tbody>\n",
       "</table>\n",
       "<p>1089 rows × 9 columns</p>\n",
       "</div>"
      ],
      "text/plain": [
       "                                                    opid  year  woy  \\\n",
       "85732                 D202105150647574030073719504472067  2021   19   \n",
       "86264                 D202105132356403069831755787168030  2021   19   \n",
       "86411                     D20210512031221739243217593029  2021   19   \n",
       "87094                     D20210513143917548377788058379  2021   19   \n",
       "87101                     D20210513203858474222753353585  2021   19   \n",
       "...                                                  ...   ...  ...   \n",
       "96467  D202105151050499802906141902428149207759211391...  2021   19   \n",
       "96472  D202105161050283637828432944063658495646058546...  2021   19   \n",
       "96908                     D20210515024130690300213287431  2021   19   \n",
       "97881  D202105151033370617044055406227938556228344487...  2021   19   \n",
       "98314                     D20210516023243399349804758994  2021   19   \n",
       "\n",
       "                 source entity category attribute  rating  \\\n",
       "85732       facebook粉絲團   遠傳電信     通訊品質        網速       1   \n",
       "86264       facebook粉絲團   遠傳電信     資費方案      方案活動       1   \n",
       "86411          mobile01   遠傳電信       其他        客服      -1   \n",
       "87094  BabyHome 寶貝家庭親子網   遠傳電信     加值服務      影音娛樂       1   \n",
       "87101  BabyHome 寶貝家庭親子網   遠傳電信     加值服務     電信APP       1   \n",
       "...                 ...    ...      ...       ...     ...   \n",
       "96467         TWitter搜尋   遠傳電信     通訊品質        涵蓋      -1   \n",
       "96472         TWitter搜尋   遠傳電信        無         無      -1   \n",
       "96908          mobile01   遠傳電信     資費方案      續約攜碼       1   \n",
       "97881         TWitter搜尋   遠傳電信     加值服務      智慧音箱      -1   \n",
       "98314               Ptt   遠傳電信     通訊品質        涵蓋       1   \n",
       "\n",
       "                                                    text  \n",
       "85732  我以前就是用遠傳的，結果常常收不到訊號，跑去問遠傳，它們卻說是我的手機太老，我馬上跑去中華電...  \n",
       "86264  用了近10幾年 只有一個感想 越來越爛 訊號超級差 收費還比人家貴 要不是合約還要一年 不然...  \n",
       "86411  遠傳真是欺負人 透過樓主分享的文現在才知道真相 之前我內人一直跟我抱怨遠傳晚上就是不順 三不...  \n",
       "87094  我用了遠傳兩年多最近看別人分享才知道遠傳有心生活app換購東西或是直接兌換一些生活相關的用品...  \n",
       "87101                       我們全家都是遠傳，心生活的設計，對用戶真的很便利也很多元  \n",
       "...                                                  ...  \n",
       "96467                             @IN0_0325_ 遠傳也會⋯收訊也很爛🥲  \n",
       "96472                                         我成功擺脫爛遠傳了！  \n",
       "96908              遠傳到約想攜碼 可配機也能單轉門號 來信告知攜碼月租 獲配機可折多可折多少  \n",
       "97881  @IN0_0325_ @maimaimjj 我們這幾次的spaces民調下來最容易斷線的是台...  \n",
       "98314                            亞太最近高雄都勝遠傳供你參考 大概60vs40  \n",
       "\n",
       "[1089 rows x 9 columns]"
      ]
     },
     "execution_count": 13,
     "metadata": {},
     "output_type": "execute_result"
    }
   ],
   "source": [
    "det_dfr.loc[(det_dfr.entity==\"遠傳電信\") & (det_dfr.woy==19) & (det_dfr.rating!=0), :]"
   ]
  },
  {
   "cell_type": "code",
   "execution_count": null,
   "metadata": {},
   "outputs": [],
   "source": [
    "det_dfr.loc[(det_dfr.entity==\"中華電信\") & (det_dfr.category==\"加值服務\") & (det_dfr.attribute==\"影音娛樂\") & (det_dfr.rating!=0), :]"
   ]
  },
  {
   "cell_type": "code",
   "execution_count": 4,
   "metadata": {},
   "outputs": [
    {
     "ename": "NameError",
     "evalue": "name 'opdata' is not defined",
     "output_type": "error",
     "traceback": [
      "\u001b[1;31m---------------------------------------------------------------------------\u001b[0m",
      "\u001b[1;31mNameError\u001b[0m                                 Traceback (most recent call last)",
      "\u001b[1;32m<ipython-input-4-6879a46cf58e>\u001b[0m in \u001b[0;36m<module>\u001b[1;34m\u001b[0m\n\u001b[1;32m----> 1\u001b[1;33m \u001b[0mcadet\u001b[0m\u001b[1;33m.\u001b[0m\u001b[0mdetect\u001b[0m\u001b[1;33m(\u001b[0m\u001b[0mopdata\u001b[0m\u001b[1;33m[\u001b[0m\u001b[1;36m0\u001b[0m\u001b[1;33m]\u001b[0m\u001b[1;33m.\u001b[0m\u001b[0mget_opinion\u001b[0m\u001b[1;33m(\u001b[0m\u001b[1;33m)\u001b[0m\u001b[1;33m.\u001b[0m\u001b[0mtext\u001b[0m\u001b[1;33m)\u001b[0m\u001b[1;33m\u001b[0m\u001b[1;33m\u001b[0m\u001b[0m\n\u001b[0m",
      "\u001b[1;31mNameError\u001b[0m: name 'opdata' is not defined"
     ]
    }
   ],
   "source": [
    "cadet.detect(opdata[0].get_opinion().text)"
   ]
  },
  {
   "cell_type": "code",
   "execution_count": 34,
   "metadata": {},
   "outputs": [
    {
     "data": {
      "text/plain": [
       "'不知道各位馬麻有沒有人跟我一樣手機不是用吃到飽然後有時候流量又會剛好不夠用的情況～我自己是雖然平常大部分時間都在家，在家有Wifi可以用但偶爾還是會有比較常出門的時候，結果流量就被會我提早用光..今天去問家裡附近門市比較熟的店員，有沒有什麼解決方法他跟我說現在中華有一個加購上網量買一送一的活動，聽起來很適合我後來我回家又上網研究了一下還真的蠻划算的像他加購5GB上網量690元，買一送一會多給你5GB這樣算起來1GB也才69元超便宜的！重點是他是送流量兌換卷，就算你不用也可以轉送給家人朋友我是覺得用加購的方式比較有彈性很不錯，來跟各位馬麻分享一下'"
      ]
     },
     "execution_count": 34,
     "metadata": {},
     "output_type": "execute_result"
    }
   ],
   "source": [
    "opdata[0].get_opinion().text"
   ]
  },
  {
   "cell_type": "code",
   "execution_count": null,
   "metadata": {},
   "outputs": [],
   "source": []
  }
 ],
 "metadata": {
  "kernelspec": {
   "display_name": "Python 3",
   "language": "python",
   "name": "python3"
  },
  "language_info": {
   "codemirror_mode": {
    "name": "ipython",
    "version": 3
   },
   "file_extension": ".py",
   "mimetype": "text/x-python",
   "name": "python",
   "nbconvert_exporter": "python",
   "pygments_lexer": "ipython3",
   "version": "3.8.2"
  }
 },
 "nbformat": 4,
 "nbformat_minor": 4
}

{
 "cells": [
  {
   "cell_type": "code",
   "execution_count": 3,
   "metadata": {},
   "outputs": [],
   "source": [
    "%load_ext autoreload\n",
    "%autoreload 2"
   ]
  },
  {
   "cell_type": "code",
   "execution_count": 4,
   "metadata": {},
   "outputs": [],
   "source": [
    "import pickle\n",
    "import json\n",
    "import random\n",
    "import numpy as np\n",
    "import pandas as pd\n",
    "from import_casa import casa\n",
    "# http://140.112.147.132:9093/api/project/export?format=JSON"
   ]
  },
  {
   "cell_type": "code",
   "execution_count": 5,
   "metadata": {},
   "outputs": [],
   "source": [
    "from datetime import date\n",
    "today = date.today()\n",
    "dir_name = today.strftime(\"%Y%m%d\")\n",
    "port_dict = {\n",
    "    9091:'Andrea',\n",
    "    9092: '品而',\n",
    "    9093: 'Amy',\n",
    "    9094: 'Nana'}"
   ]
  },
  {
   "cell_type": "code",
   "execution_count": 6,
   "metadata": {},
   "outputs": [],
   "source": [
    "TARGET_DIR = dir_name\n",
    "annots = []\n",
    "# curl http://localhost:8080/api/export?format=JSON > exported_results.tar.gz\n",
    "for port in range(9091, 9094+1):\n",
    "    annot_path = str(casa.get_data_path() / f\"annot_data/annotated_data_bkup/{TARGET_DIR}/result_{{}}.json\")\n",
    "    with open(annot_path.format(port), \"r\", encoding=\"UTF-8\") as fin:\n",
    "        annots.append(json.load(fin))"
   ]
  },
  {
   "cell_type": "code",
   "execution_count": 18,
   "metadata": {},
   "outputs": [
    {
     "data": {
      "text/plain": [
       "[WindowsPath('E:/LangOn/casa/data/annot_data/annotated_data_bkup/20210320/result_9091.json'),\n",
       " WindowsPath('E:/LangOn/casa/data/annot_data/annotated_data_bkup/20210320/result_9092.json'),\n",
       " WindowsPath('E:/LangOn/casa/data/annot_data/annotated_data_bkup/20210320/result_9093.json'),\n",
       " WindowsPath('E:/LangOn/casa/data/annot_data/annotated_data_bkup/20210320/result_9094.json')]"
      ]
     },
     "execution_count": 18,
     "metadata": {},
     "output_type": "execute_result"
    }
   ],
   "source": [
    "aa = casa.get_data_path() / f\"annot_data/annotated_data_bkup/{TARGET_DIR}\"\n",
    "[x for x in aa.iterdir() if x.suffix==\".json\"]"
   ]
  },
  {
   "cell_type": "code",
   "execution_count": 20,
   "metadata": {},
   "outputs": [],
   "source": [
    "dir_path = casa.get_data_path() / \"annot_data/annotated_data_bkup\"\n",
    "chdirs = sorted([x for x in dir_path.iterdir() if x.is_dir])"
   ]
  },
  {
   "cell_type": "code",
   "execution_count": 22,
   "metadata": {},
   "outputs": [
    {
     "data": {
      "text/plain": [
       "'20210320'"
      ]
     },
     "execution_count": 22,
     "metadata": {},
     "output_type": "execute_result"
    }
   ],
   "source": [
    "chdirs[-1].name"
   ]
  },
  {
   "cell_type": "code",
   "execution_count": 78,
   "metadata": {},
   "outputs": [],
   "source": [
    "annot = annots[0]"
   ]
  },
  {
   "cell_type": "code",
   "execution_count": 79,
   "metadata": {},
   "outputs": [
    {
     "data": {
      "text/plain": [
       "['completions', 'data', 'id']"
      ]
     },
     "execution_count": 79,
     "metadata": {},
     "output_type": "execute_result"
    }
   ],
   "source": [
    "list(annot[0].keys())"
   ]
  },
  {
   "cell_type": "code",
   "execution_count": 86,
   "metadata": {},
   "outputs": [
    {
     "data": {
      "text/plain": [
       "50"
      ]
     },
     "execution_count": 86,
     "metadata": {},
     "output_type": "execute_result"
    }
   ],
   "source": [
    "len(annots[0])"
   ]
  },
  {
   "cell_type": "code",
   "execution_count": 87,
   "metadata": {},
   "outputs": [
    {
     "data": {
      "text/plain": [
       "[{'created_at': 1616117562,\n",
       "  'id': 43001,\n",
       "  'lead_time': 41.751,\n",
       "  'result': [{'from_name': 'aspect-label',\n",
       "    'id': '4lW7__ykGD',\n",
       "    'to_name': 'text',\n",
       "    'type': 'hypertextlabels',\n",
       "    'value': {'end': '/div[1]/ol[1]/li[1]/text()[1]',\n",
       "     'endOffset': 28,\n",
       "     'htmllabels': ['Context'],\n",
       "     'start': '/div[1]/ol[1]/li[1]/text()[1]',\n",
       "     'startOffset': 4,\n",
       "     'text': '台星的態度就是在等宿主台哥，逸以待勞，準備寄生。'}},\n",
       "   {'from_name': 'ctx-Entity',\n",
       "    'id': '4lW7__ykGD',\n",
       "    'to_name': 'text',\n",
       "    'type': 'choices',\n",
       "    'value': {'choices': ['臺灣之星'],\n",
       "     'end': '/div[1]/ol[1]/li[1]/text()[1]',\n",
       "     'endOffset': 28,\n",
       "     'start': '/div[1]/ol[1]/li[1]/text()[1]',\n",
       "     'startOffset': 4,\n",
       "     'text': '台星的態度就是在等宿主台哥，逸以待勞，準備寄生。'}},\n",
       "   {'from_name': 'ctx-Attribute',\n",
       "    'id': '4lW7__ykGD',\n",
       "    'to_name': 'text',\n",
       "    'type': 'choices',\n",
       "    'value': {'choices': ['[通訊]頻段'],\n",
       "     'end': '/div[1]/ol[1]/li[1]/text()[1]',\n",
       "     'endOffset': 28,\n",
       "     'start': '/div[1]/ol[1]/li[1]/text()[1]',\n",
       "     'startOffset': 4,\n",
       "     'text': '台星的態度就是在等宿主台哥，逸以待勞，準備寄生。'}},\n",
       "   {'from_name': 'ctx-sentiment',\n",
       "    'id': '4lW7__ykGD',\n",
       "    'to_name': 'text',\n",
       "    'type': 'rating',\n",
       "    'value': {'end': '/div[1]/ol[1]/li[1]/text()[1]',\n",
       "     'endOffset': 28,\n",
       "     'rating': 1,\n",
       "     'start': '/div[1]/ol[1]/li[1]/text()[1]',\n",
       "     'startOffset': 4,\n",
       "     'text': '台星的態度就是在等宿主台哥，逸以待勞，準備寄生。'}},\n",
       "   {'from_name': 'ctx-note',\n",
       "    'id': '4lW7__ykGD',\n",
       "    'to_name': 'text',\n",
       "    'type': 'textarea',\n",
       "    'value': {'end': '/div[1]/ol[1]/li[1]/text()[1]',\n",
       "     'endOffset': 28,\n",
       "     'start': '/div[1]/ol[1]/li[1]/text()[1]',\n",
       "     'startOffset': 4,\n",
       "     'text': ['缺 attribute']}},\n",
       "   {'from_name': 'Relevance',\n",
       "    'id': 'Swx6U1wDFL',\n",
       "    'to_name': 'text',\n",
       "    'type': 'choices',\n",
       "    'value': {'choices': ['主文包含評價性敘述']}}]}]"
      ]
     },
     "execution_count": 87,
     "metadata": {},
     "output_type": "execute_result"
    }
   ],
   "source": [
    "annot[0][\"completions\"]"
   ]
  },
  {
   "cell_type": "code",
   "execution_count": 46,
   "metadata": {},
   "outputs": [
    {
     "data": {
      "text/plain": [
       "43"
      ]
     },
     "execution_count": 46,
     "metadata": {},
     "output_type": "execute_result"
    }
   ],
   "source": [
    "annot[0][\"id\"]"
   ]
  },
  {
   "cell_type": "code",
   "execution_count": 59,
   "metadata": {},
   "outputs": [],
   "source": [
    "def extract_result(annot_item, port):\n",
    "    serial = annot_item[\"data\"][\"serial\"]\n",
    "    thread_idx = annot_item[\"data\"][\"thread_idx\"]\n",
    "    result = annot_item[\"completions\"][0][\"result\"]\n",
    "    \n",
    "    entries = []\n",
    "    for x in result:\n",
    "        from_name = x.get(\"from_name\", \"\")\n",
    "        ent_type = x[\"type\"]\n",
    "        value_dict = x.get(\"value\", {})\n",
    "        ent_choice = value_dict.get(\"choices\", [\"\"])[0]\n",
    "        ent_rating = value_dict.get(\"rating\", -1)\n",
    "        ent_text = value_dict.get(\"text\", \"\")\n",
    "        ent_value = ent_rating if ent_type == \"rating\" else ent_choice\n",
    "        if isinstance(ent_text, list):\n",
    "            ent_text = \"\".join(ent_text)\n",
    "        entries.append((\n",
    "            port,\n",
    "            thread_idx, serial,\n",
    "            from_name, ent_type, ent_value, ent_text\n",
    "        ))\n",
    "        \n",
    "    return entries"
   ]
  },
  {
   "cell_type": "code",
   "execution_count": 60,
   "metadata": {},
   "outputs": [
    {
     "data": {
      "text/plain": [
       "[(9091,\n",
       "  3260,\n",
       "  43,\n",
       "  'aspect-label',\n",
       "  'hypertextlabels',\n",
       "  '',\n",
       "  '台星的態度就是在等宿主台哥，逸以待勞，準備寄生。'),\n",
       " (9091, 3260, 43, 'ctx-Entity', 'choices', '臺灣之星', '台星的態度就是在等宿主台哥，逸以待勞，準備寄生。'),\n",
       " (9091,\n",
       "  3260,\n",
       "  43,\n",
       "  'ctx-Attribute',\n",
       "  'choices',\n",
       "  '[通訊]頻段',\n",
       "  '台星的態度就是在等宿主台哥，逸以待勞，準備寄生。'),\n",
       " (9091, 3260, 43, 'ctx-sentiment', 'rating', '', '台星的態度就是在等宿主台哥，逸以待勞，準備寄生。'),\n",
       " (9091, 3260, 43, 'ctx-note', 'textarea', '', '缺 attribute'),\n",
       " (9091, 3260, 43, 'Relevance', 'choices', '主文包含評價性敘述', '')]"
      ]
     },
     "execution_count": 60,
     "metadata": {},
     "output_type": "execute_result"
    }
   ],
   "source": [
    "extract_result(annot[0], 9091)"
   ]
  },
  {
   "cell_type": "code",
   "execution_count": 92,
   "metadata": {},
   "outputs": [],
   "source": [
    "colnames = \"port,thread_idx,serial,from_name,ent_type,ent_choice,ent_text\".split(\",\")\n",
    "def convert_annot_result(annot_obj, port):\n",
    "    entries = []\n",
    "    for annot_x in annot_obj:\n",
    "        entries.extend(extract_result(annot_x, port))\n",
    "    return pd.DataFrame(entries, columns=colnames)"
   ]
  },
  {
   "cell_type": "code",
   "execution_count": 93,
   "metadata": {},
   "outputs": [
    {
     "data": {
      "text/html": [
       "<div>\n",
       "<style scoped>\n",
       "    .dataframe tbody tr th:only-of-type {\n",
       "        vertical-align: middle;\n",
       "    }\n",
       "\n",
       "    .dataframe tbody tr th {\n",
       "        vertical-align: top;\n",
       "    }\n",
       "\n",
       "    .dataframe thead th {\n",
       "        text-align: right;\n",
       "    }\n",
       "</style>\n",
       "<table border=\"1\" class=\"dataframe\">\n",
       "  <thead>\n",
       "    <tr style=\"text-align: right;\">\n",
       "      <th></th>\n",
       "      <th>port</th>\n",
       "      <th>thread_idx</th>\n",
       "      <th>serial</th>\n",
       "      <th>from_name</th>\n",
       "      <th>ent_type</th>\n",
       "      <th>ent_choice</th>\n",
       "      <th>ent_text</th>\n",
       "    </tr>\n",
       "  </thead>\n",
       "  <tbody>\n",
       "    <tr>\n",
       "      <td>0</td>\n",
       "      <td>9094</td>\n",
       "      <td>3260</td>\n",
       "      <td>43</td>\n",
       "      <td>aspect-label</td>\n",
       "      <td>hypertextlabels</td>\n",
       "      <td></td>\n",
       "      <td>台星的態度就是在等宿主台哥，逸以待勞，準備寄生。</td>\n",
       "    </tr>\n",
       "    <tr>\n",
       "      <td>1</td>\n",
       "      <td>9094</td>\n",
       "      <td>3260</td>\n",
       "      <td>43</td>\n",
       "      <td>ctx-Entity</td>\n",
       "      <td>choices</td>\n",
       "      <td>臺灣之星</td>\n",
       "      <td>台星的態度就是在等宿主台哥，逸以待勞，準備寄生。</td>\n",
       "    </tr>\n",
       "    <tr>\n",
       "      <td>2</td>\n",
       "      <td>9094</td>\n",
       "      <td>3260</td>\n",
       "      <td>43</td>\n",
       "      <td>ctx-Attribute</td>\n",
       "      <td>choices</td>\n",
       "      <td>[通訊]頻段</td>\n",
       "      <td>台星的態度就是在等宿主台哥，逸以待勞，準備寄生。</td>\n",
       "    </tr>\n",
       "    <tr>\n",
       "      <td>3</td>\n",
       "      <td>9094</td>\n",
       "      <td>3260</td>\n",
       "      <td>43</td>\n",
       "      <td>ctx-sentiment</td>\n",
       "      <td>rating</td>\n",
       "      <td></td>\n",
       "      <td>台星的態度就是在等宿主台哥，逸以待勞，準備寄生。</td>\n",
       "    </tr>\n",
       "    <tr>\n",
       "      <td>4</td>\n",
       "      <td>9094</td>\n",
       "      <td>3260</td>\n",
       "      <td>43</td>\n",
       "      <td>ctx-note</td>\n",
       "      <td>textarea</td>\n",
       "      <td></td>\n",
       "      <td>缺 attribute</td>\n",
       "    </tr>\n",
       "    <tr>\n",
       "      <td>...</td>\n",
       "      <td>...</td>\n",
       "      <td>...</td>\n",
       "      <td>...</td>\n",
       "      <td>...</td>\n",
       "      <td>...</td>\n",
       "      <td>...</td>\n",
       "      <td>...</td>\n",
       "    </tr>\n",
       "    <tr>\n",
       "      <td>358</td>\n",
       "      <td>9094</td>\n",
       "      <td>315</td>\n",
       "      <td>8</td>\n",
       "      <td>attr-norm</td>\n",
       "      <td>choices</td>\n",
       "      <td>[通訊]頻段</td>\n",
       "      <td>5G</td>\n",
       "    </tr>\n",
       "    <tr>\n",
       "      <td>359</td>\n",
       "      <td>9094</td>\n",
       "      <td>315</td>\n",
       "      <td>8</td>\n",
       "      <td>aspect-label</td>\n",
       "      <td>hypertextlabels</td>\n",
       "      <td></td>\n",
       "      <td>不靠譜</td>\n",
       "    </tr>\n",
       "    <tr>\n",
       "      <td>360</td>\n",
       "      <td>9094</td>\n",
       "      <td>315</td>\n",
       "      <td>8</td>\n",
       "      <td>sentiment</td>\n",
       "      <td>rating</td>\n",
       "      <td></td>\n",
       "      <td>不靠譜</td>\n",
       "    </tr>\n",
       "    <tr>\n",
       "      <td>361</td>\n",
       "      <td>9094</td>\n",
       "      <td>315</td>\n",
       "      <td>8</td>\n",
       "      <td></td>\n",
       "      <td>relation</td>\n",
       "      <td></td>\n",
       "      <td></td>\n",
       "    </tr>\n",
       "    <tr>\n",
       "      <td>362</td>\n",
       "      <td>9094</td>\n",
       "      <td>315</td>\n",
       "      <td>8</td>\n",
       "      <td></td>\n",
       "      <td>relation</td>\n",
       "      <td></td>\n",
       "      <td></td>\n",
       "    </tr>\n",
       "  </tbody>\n",
       "</table>\n",
       "<p>363 rows × 7 columns</p>\n",
       "</div>"
      ],
      "text/plain": [
       "     port  thread_idx  serial      from_name         ent_type ent_choice  \\\n",
       "0    9094        3260      43   aspect-label  hypertextlabels              \n",
       "1    9094        3260      43     ctx-Entity          choices       臺灣之星   \n",
       "2    9094        3260      43  ctx-Attribute          choices     [通訊]頻段   \n",
       "3    9094        3260      43  ctx-sentiment           rating              \n",
       "4    9094        3260      43       ctx-note         textarea              \n",
       "..    ...         ...     ...            ...              ...        ...   \n",
       "358  9094         315       8      attr-norm          choices     [通訊]頻段   \n",
       "359  9094         315       8   aspect-label  hypertextlabels              \n",
       "360  9094         315       8      sentiment           rating              \n",
       "361  9094         315       8                        relation              \n",
       "362  9094         315       8                        relation              \n",
       "\n",
       "                     ent_text  \n",
       "0    台星的態度就是在等宿主台哥，逸以待勞，準備寄生。  \n",
       "1    台星的態度就是在等宿主台哥，逸以待勞，準備寄生。  \n",
       "2    台星的態度就是在等宿主台哥，逸以待勞，準備寄生。  \n",
       "3    台星的態度就是在等宿主台哥，逸以待勞，準備寄生。  \n",
       "4                 缺 attribute  \n",
       "..                        ...  \n",
       "358                        5G  \n",
       "359                       不靠譜  \n",
       "360                       不靠譜  \n",
       "361                            \n",
       "362                            \n",
       "\n",
       "[363 rows x 7 columns]"
      ]
     },
     "execution_count": 93,
     "metadata": {},
     "output_type": "execute_result"
    }
   ],
   "source": [
    "dframe"
   ]
  },
  {
   "cell_type": "code",
   "execution_count": 94,
   "metadata": {},
   "outputs": [],
   "source": [
    "for idx, port in enumerate(range(9091, 9094+1)):\n",
    "    dframe = convert_annot_result(annots[idx], port)\n",
    "    dframe.to_csv(casa.get_data_path() / f\"annot_lstudio/{TARGET_DIR}/annot_frame_{port}.csv\")"
   ]
  },
  {
   "cell_type": "code",
   "execution_count": 97,
   "metadata": {},
   "outputs": [],
   "source": [
    "text = \"\"\"\n",
    "&lt;div class='thread-wrapper' id='D2020010117472095448797207654410081352349840177968''&gt;\n",
    "&lt;span class='source'&gt;3. [Ptt] &lt;/span&gt;&lt;span class='timestamp'&gt;Wed Jan  1 17:47:20 2020&lt;/span&gt;\n",
    "&lt;div class='title'&gt;Fw: [情報] HamiPay x中華電信聯名卡 超商10%感應3%&lt;/div&gt;\n",
    "&lt;div class='main-text'&gt;\n",
    "作者: tzunghan () 看板: MobilePay標題: [情報] HamiPay x中華電信聯名卡\n",
    "超商10%感應3%時間: Wed Jan  1 14:50:04\n",
    "2020有新增一些限制條款喔然後要登錄2020/1/1-2020/03/31超商使用HAMIPAY 10%\n",
    "(2000名)使用HAMIPAY感應支付 3%限時加碼活動注意事項\n",
    "活動一「超商10%」：四大超商包含7-ELEVEN、全家便利商店、萊爾富與OK超商，限以Hami\n",
    "Pay感應支付消費，且該卡，活動期間活動二「Hami Pay 3%」：需以Hami\n",
    "Pay感應支付消費始符合回饋資格，其中1%為限時活動加碼回饋，；其餘2%為中華電信聯名卡Hami\n",
    "Point回饋計畫中之1%基本回饋+1%指定通路加碼回饋，回饋時間請參照Hami Point回饋計畫說明。\n",
    "活動三「一般消費2%」：始符合回饋資格，；其餘1%為中華電信聯名卡Hami\n",
    "Point回饋計畫中之基本回饋，回饋時間請參照Hami Point回饋計畫說明。    上述限時活動加碼回饋之Hami\n",
    "Point將於活動結束後統一結算並回饋至持卡人的中華電信Hami Point會員帳戶，預計於2020/6/30前完成回饋\n",
    "，限量回饋將依成功登錄且優先符合活動消費門檻之優先順序作為回饋依據，如額滿將不再回饋，且不另行通知。    上述活動皆需\n",
    "以中華電信聯名卡刷卡消費，消費期間須介於2020/1/1~2020/3/31，並於2020/4/20前入帳，且持卡人歸戶\n",
    "之回饋方案須於活動期間起選擇為Hami\n",
    "Point回饋計畫才符合回饋資格，且排除中國信託共同不回饋項目(活動一之超商消費除外)。--&lt;/div&gt;\n",
    "\n",
    "&lt;ol class='reply-wrap'&gt;\n",
    "  &lt;li class='reply-text' id='reply-0'&gt; 新增消費5000門檻就bye了  &lt;/li&gt;\n",
    "  &lt;li class='reply-text' id='reply-1'&gt; 中華電信KOKO卡？  &lt;/li&gt;\n",
    "  &lt;li class='reply-text' id='reply-2'&gt; 5千，還限2千名 pass  &lt;/li&gt;\n",
    "  &lt;li class='reply-text' id='reply-3'&gt; pass  &lt;/li&gt;\n",
    "  &lt;li class='reply-text' id='reply-4'&gt; 5000 超有事\n",
    "   廢牡蠣真的對自己很有信心 XDDDD  &lt;/li&gt;\n",
    "  &lt;li class='reply-text' id='reply-5'&gt; 留著墊桌腳  &lt;/li&gt;\n",
    "  &lt;li class='reply-text' id='reply-6'&gt; 活動二沒有門檻，3%還不錯啊！  &lt;/li&gt;\n",
    "  &lt;li class='reply-text' id='reply-7'&gt; 活動二有個 1%指定通路加碼回饋,\n",
    "   沒在指定通路消費的話就 沒那 1% 了吧 不過直接用 Hami Pay感應支付就可以了  &lt;/li&gt;\n",
    "  &lt;li class='reply-text' id='reply-8'&gt; 電信費還有3%嗎？ 現在還有誰3% QQ  &lt;/li&gt;\n",
    "  &lt;li class='reply-text' id='reply-9'&gt; 限量2000名  &lt;/li&gt;\n",
    "  &lt;li class='reply-text' id='reply-10'&gt;\n",
    "   有點複雜。一般消費不知道有沒有算中華電信自扣0.0？  &lt;/li&gt;\n",
    "  &lt;li class='reply-text' id='reply-11'&gt;\n",
    "   1呵呵，2新光10%玉山8%繳費用完就輪到了，3呵呵  &lt;/li&gt;\n",
    "  &lt;li class='reply-text' id='reply-12'&gt; 下去嗎，今年還是玉山獨秀  &lt;/li&gt;\n",
    "&lt;/ol&gt;\n",
    "&lt;/div&gt;\n",
    "\"\"\""
   ]
  },
  {
   "cell_type": "code",
   "execution_count": 100,
   "metadata": {},
   "outputs": [
    {
     "name": "stdout",
     "output_type": "stream",
     "text": [
      "\n",
      "<div class='thread-wrapper' id='D2020010117472095448797207654410081352349840177968''>\n",
      "<span class='source'>3. [Ptt] </span><span class='timestamp'>Wed Jan  1 17:47:20 2020</span>\n",
      "<div class='title'>Fw: [情報] HamiPay x中華電信聯名卡 超商10%感應3%</div>\n",
      "<div class='main-text'>\n",
      "作者: tzunghan () 看板: MobilePay標題: [情報] HamiPay x中華電信聯名卡\n",
      "超商10%感應3%時間: Wed Jan  1 14:50:04\n",
      "2020有新增一些限制條款喔然後要登錄2020/1/1-2020/03/31超商使用HAMIPAY 10%\n",
      "(2000名)使用HAMIPAY感應支付 3%限時加碼活動注意事項\n",
      "活動一「超商10%」：四大超商包含7-ELEVEN、全家便利商店、萊爾富與OK超商，限以Hami\n",
      "Pay感應支付消費，且該卡，活動期間活動二「Hami Pay 3%」：需以Hami\n",
      "Pay感應支付消費始符合回饋資格，其中1%為限時活動加碼回饋，；其餘2%為中華電信聯名卡Hami\n",
      "Point回饋計畫中之1%基本回饋+1%指定通路加碼回饋，回饋時間請參照Hami Point回饋計畫說明。\n",
      "活動三「一般消費2%」：始符合回饋資格，；其餘1%為中華電信聯名卡Hami\n",
      "Point回饋計畫中之基本回饋，回饋時間請參照Hami Point回饋計畫說明。    上述限時活動加碼回饋之Hami\n",
      "Point將於活動結束後統一結算並回饋至持卡人的中華電信Hami Point會員帳戶，預計於2020/6/30前完成回饋\n",
      "，限量回饋將依成功登錄且優先符合活動消費門檻之優先順序作為回饋依據，如額滿將不再回饋，且不另行通知。    上述活動皆需\n",
      "以中華電信聯名卡刷卡消費，消費期間須介於2020/1/1~2020/3/31，並於2020/4/20前入帳，且持卡人歸戶\n",
      "之回饋方案須於活動期間起選擇為Hami\n",
      "Point回饋計畫才符合回饋資格，且排除中國信託共同不回饋項目(活動一之超商消費除外)。--</div>\n",
      "\n",
      "<ol class='reply-wrap'>\n",
      "  <li class='reply-text' id='reply-0'> 新增消費5000門檻就bye了  </li>\n",
      "  <li class='reply-text' id='reply-1'> 中華電信KOKO卡？  </li>\n",
      "  <li class='reply-text' id='reply-2'> 5千，還限2千名 pass  </li>\n",
      "  <li class='reply-text' id='reply-3'> pass  </li>\n",
      "  <li class='reply-text' id='reply-4'> 5000 超有事\n",
      "   廢牡蠣真的對自己很有信心 XDDDD  </li>\n",
      "  <li class='reply-text' id='reply-5'> 留著墊桌腳  </li>\n",
      "  <li class='reply-text' id='reply-6'> 活動二沒有門檻，3%還不錯啊！  </li>\n",
      "  <li class='reply-text' id='reply-7'> 活動二有個 1%指定通路加碼回饋,\n",
      "   沒在指定通路消費的話就 沒那 1% 了吧 不過直接用 Hami Pay感應支付就可以了  </li>\n",
      "  <li class='reply-text' id='reply-8'> 電信費還有3%嗎？ 現在還有誰3% QQ  </li>\n",
      "  <li class='reply-text' id='reply-9'> 限量2000名  </li>\n",
      "  <li class='reply-text' id='reply-10'>\n",
      "   有點複雜。一般消費不知道有沒有算中華電信自扣0.0？  </li>\n",
      "  <li class='reply-text' id='reply-11'>\n",
      "   1呵呵，2新光10%玉山8%繳費用完就輪到了，3呵呵  </li>\n",
      "  <li class='reply-text' id='reply-12'> 下去嗎，今年還是玉山獨秀  </li>\n",
      "</ol>\n",
      "</div>\n",
      "\n"
     ]
    }
   ],
   "source": [
    "import html\n",
    "print(html.unescape(text))"
   ]
  },
  {
   "cell_type": "code",
   "execution_count": null,
   "metadata": {},
   "outputs": [],
   "source": []
  }
 ],
 "metadata": {
  "kernelspec": {
   "display_name": "Python 3",
   "language": "python",
   "name": "python3"
  },
  "language_info": {
   "codemirror_mode": {
    "name": "ipython",
    "version": 3
   },
   "file_extension": ".py",
   "mimetype": "text/x-python",
   "name": "python",
   "nbconvert_exporter": "python",
   "pygments_lexer": "ipython3",
   "version": "3.8.2"
  }
 },
 "nbformat": 4,
 "nbformat_minor": 5
}

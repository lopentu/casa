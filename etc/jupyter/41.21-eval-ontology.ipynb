{
 "cells": [
  {
   "cell_type": "code",
   "execution_count": 1,
   "metadata": {},
   "outputs": [],
   "source": [
    "%load_ext autoreload\n",
    "%autoreload 2"
   ]
  },
  {
   "cell_type": "code",
   "execution_count": 60,
   "metadata": {},
   "outputs": [],
   "source": [
    "import pickle\n",
    "import json\n",
    "import random\n",
    "import numpy as np\n",
    "import pandas as pd\n",
    "from itertools import chain\n",
    "from tqdm.auto import tqdm\n",
    "from icecream import ic\n",
    "from import_casa import casa"
   ]
  },
  {
   "cell_type": "code",
   "execution_count": 4,
   "metadata": {},
   "outputs": [],
   "source": [
    "data_dir = casa.get_data_path()"
   ]
  },
  {
   "cell_type": "code",
   "execution_count": 6,
   "metadata": {},
   "outputs": [],
   "source": [
    "aspects = pd.read_csv(data_dir/r\"annot_data\\annotated_data_bkup\\20210605\\aspect_tuples_20210605.csv\")"
   ]
  },
  {
   "cell_type": "code",
   "execution_count": 31,
   "metadata": {},
   "outputs": [],
   "source": [
    "from DistilTag import DistilTag\n",
    "tagger = DistilTag()"
   ]
  },
  {
   "cell_type": "code",
   "execution_count": 34,
   "metadata": {},
   "outputs": [
    {
     "data": {
      "text/plain": [
       "[0, 1, 2, 3, 4, 5, 6, 7, 8, 9]"
      ]
     },
     "execution_count": 34,
     "metadata": {},
     "output_type": "execute_result"
    }
   ],
   "source": [
    "a = list(range(10))\n",
    "a[slice(0, None)]"
   ]
  },
  {
   "cell_type": "code",
   "execution_count": 65,
   "metadata": {},
   "outputs": [],
   "source": [
    "from collections import Counter\n",
    "def ngrams(text, ng_map, wsize=(2, 4)):    \n",
    "    for w in range(wsize[0], wsize[1]+1):\n",
    "        seqs = [text[slice(c, None)] for c in range(w)]\n",
    "        w_iter = (\"\".join(toks) for toks in zip(*seqs))\n",
    "        ng_map.setdefault(w, Counter()).update(w_iter)\n",
    "    return ng_map"
   ]
  },
  {
   "cell_type": "code",
   "execution_count": 66,
   "metadata": {},
   "outputs": [
    {
     "data": {
      "text/plain": [
       "{2: Counter({'刷牙': 2, '牙刷': 1, '牙齒': 1}),\n",
       " 3: Counter({'刷牙刷': 1, '牙刷牙': 1, '刷牙齒': 1}),\n",
       " 4: Counter({'刷牙刷牙': 1, '牙刷牙齒': 1})}"
      ]
     },
     "execution_count": 66,
     "metadata": {},
     "output_type": "execute_result"
    }
   ],
   "source": [
    "ng_map = {}\n",
    "ngrams(\"刷牙刷牙齒\", ng_map)"
   ]
  },
  {
   "cell_type": "markdown",
   "metadata": {},
   "source": [
    "## Reweight ngram frequency\n",
    "The reweighted score of ngram, $n$, is recursively defined as,\n",
    "$$\n",
    "score(n) = \\begin{cases}\n",
    "0, & f(n) = 1 \\\\\n",
    "\\max\\left(0, f(n) - \\sum_{m\\in H(n)} score(m)\\right), & \\textrm{otherwise}\n",
    "\\end{cases}\n",
    "$$\n",
    "where $f(n)$ is raw ngram frequency of $n$, and H(n) denotes all other ngrams containing $n$"
   ]
  },
  {
   "cell_type": "code",
   "execution_count": 158,
   "metadata": {},
   "outputs": [],
   "source": [
    "def compute_score(ng, ngfreq, scores, r=0):        \n",
    "    f_ng = ngfreq[ng] \n",
    "    # if r == 0: ic(r, ng, f_ng)\n",
    "    if f_ng == 1:\n",
    "        scores[ng] = 0                \n",
    "    else:\n",
    "        H = [x for x in ngfreq \n",
    "             if (ng in x) and (ng != x)]\n",
    "        scores[ng] = f_ng\n",
    "        for m in H:\n",
    "            scores[ng] -= compute_score(m, ngfreq, scores, r+1)    \n",
    "            # if r== 0: ic(m, scores[m])\n",
    "    scores[ng] = max(scores[ng], 0)\n",
    "    #if r==0: ic(r, ng, scores[ng])\n",
    "    return scores[ng]\n",
    "\n",
    "def compute_ngram_scores(ng_dict):\n",
    "    wsize = sorted(ng_dict.keys())\n",
    "    ngfreq = {k: freq for k, freq \n",
    "              in chain((*(ng_dict[w].items() for w in wsize)))}\n",
    "    buf = list(ngfreq.keys())\n",
    "    scores = {}\n",
    "    while buf:\n",
    "        ng = buf.pop()    \n",
    "        if ng in scores:\n",
    "            continue\n",
    "        else:        \n",
    "            scores[ng] = compute_score(ng, ngfreq, scores)\n",
    "    scores = {k: v for k, v in scores.items() if v>0}\n",
    "    return scores"
   ]
  },
  {
   "cell_type": "code",
   "execution_count": 159,
   "metadata": {},
   "outputs": [
    {
     "name": "stdout",
     "output_type": "stream",
     "text": [
      "[資費]方案活動\n",
      "2\n"
     ]
    }
   ],
   "source": [
    "# debug use\n",
    "scores = {}\n",
    "attr, ng_dict = list(islice(A_ngrams.items(), 2, 3))[0]\n",
    "print(attr)\n",
    "ngfreq = {k: freq for k, freq \n",
    "          in chain((*(ng_dict[w].items() for w in wsize)))}\n",
    "print(compute_score(\"麼優\", ngfreq, scores))\n",
    "del attr, ng_dict, scores, ngfreq"
   ]
  },
  {
   "cell_type": "markdown",
   "metadata": {},
   "source": [
    "## Main loop"
   ]
  },
  {
   "cell_type": "code",
   "execution_count": 160,
   "metadata": {},
   "outputs": [
    {
     "data": {
      "application/vnd.jupyter.widget-view+json": {
       "model_id": "dc625d6fc97b4cc8b80737788ae5c6e6",
       "version_major": 2,
       "version_minor": 0
      },
      "text/plain": [
       "HBox(children=(FloatProgress(value=0.0, max=2355.0), HTML(value='')))"
      ]
     },
     "metadata": {},
     "output_type": "display_data"
    },
    {
     "name": "stdout",
     "output_type": "stream",
     "text": [
      "tagging error: ？\n",
      "tagging error: ！？\n",
      "tagging error: ？？？\n",
      "tagging error: ？？！？！\n",
      "\n"
     ]
    }
   ],
   "source": [
    "asp_subdfr = aspects.loc[aspects.is_context==False, :]\n",
    "A_evals = {}\n",
    "A_words = {}\n",
    "A_ngrams = {}\n",
    "for A, V in tqdm(zip(asp_subdfr.attr_norm, asp_subdfr.evaltext), total=asp_subdfr.shape[0]):\n",
    "    if isinstance(A, float) or isinstance(V, float): continue\n",
    "    V = V.strip()\n",
    "    try:\n",
    "        words = chain(*(tuple(w) for w in tagger.tag(V)))\n",
    "    except:\n",
    "        print(\"tagging error: \", end='')\n",
    "        print(V)\n",
    "        continue\n",
    "    A_words.setdefault(A, Counter()).update(words)\n",
    "    A_evals.setdefault(A, []).append(V)\n",
    "    ng_dict = A_ngrams.setdefault(A, {})\n",
    "    ngrams(V, ng_dict)\n"
   ]
  },
  {
   "cell_type": "code",
   "execution_count": 161,
   "metadata": {},
   "outputs": [
    {
     "data": {
      "application/vnd.jupyter.widget-view+json": {
       "model_id": "13198f26c8d643f98153b47eaf3c0fd8",
       "version_major": 2,
       "version_minor": 0
      },
      "text/plain": [
       "HBox(children=(FloatProgress(value=0.0, max=23.0), HTML(value='')))"
      ]
     },
     "metadata": {},
     "output_type": "display_data"
    },
    {
     "name": "stdout",
     "output_type": "stream",
     "text": [
      "\n"
     ]
    }
   ],
   "source": [
    "A_ngrams = {k: compute_ngram_scores(ng_dict) \n",
    "            for k, ng_dict \n",
    "            in tqdm(A_ngrams.items())}"
   ]
  },
  {
   "cell_type": "markdown",
   "metadata": {},
   "source": [
    "## Export data"
   ]
  },
  {
   "cell_type": "code",
   "execution_count": 162,
   "metadata": {},
   "outputs": [],
   "source": [
    "data = {}\n",
    "for A in A_evals:    \n",
    "    data[A] = {\n",
    "        \"evals\": A_evals[A],\n",
    "        \"words\": sorted(A_words[A].items(), key=lambda x: -x[1]),\n",
    "        \"ngrams\": sorted(A_ngrams[A].items(), key=lambda x: (-x[1], -len(x[0])))\n",
    "    }    \n"
   ]
  },
  {
   "cell_type": "code",
   "execution_count": 163,
   "metadata": {},
   "outputs": [
    {
     "data": {
      "text/plain": [
       "{'evals': ['很可以',\n",
       "  '越來越爛',\n",
       "  '滿格',\n",
       "  '用過速度不快穩定也不高',\n",
       "  '優惠比較少',\n",
       "  '死活就是收 不到',\n",
       "  '收不到',\n",
       "  '用一用突然很頓',\n",
       "  '還是比較好。',\n",
       "  '超便宜'],\n",
       " 'words': [(('不', 'D'), 4),\n",
       "  (('很', 'Dfa'), 2),\n",
       "  (('用', 'VC'), 2),\n",
       "  (('比較', 'Dfa'), 2),\n",
       "  (('收', 'VC'), 2),\n",
       "  (('到', 'VC'), 2),\n",
       "  (('可以', 'D'), 1),\n",
       "  (('越來越', 'Dfa'), 1),\n",
       "  (('爛', 'VH'), 1),\n",
       "  (('滿格', 'Nb'), 1),\n",
       "  (('過', 'Di'), 1),\n",
       "  (('速度', 'Na'), 1),\n",
       "  (('快', 'VH'), 1),\n",
       "  (('穩定', 'VHC'), 1),\n",
       "  (('也', 'D'), 1),\n",
       "  (('高', 'VH'), 1),\n",
       "  (('優惠', 'VJ'), 1),\n",
       "  (('少', 'VH'), 1),\n",
       "  (('死活', 'Na'), 1),\n",
       "  (('就', 'D'), 1),\n",
       "  (('是', 'SHI'), 1),\n",
       "  (('一', 'Neu'), 1),\n",
       "  (('用', 'Na'), 1),\n",
       "  (('突然', 'D'), 1),\n",
       "  (('頓', 'VH'), 1),\n",
       "  (('還是', 'D'), 1),\n",
       "  (('好', 'VH'), 1),\n",
       "  (('。', 'PERIODCATEGORY'), 1),\n",
       "  (('超便宜', 'VH'), 1)],\n",
       " 'ngrams': [('不到', 2), ('比較', 2)]}"
      ]
     },
     "execution_count": 163,
     "metadata": {},
     "output_type": "execute_result"
    }
   ],
   "source": [
    "data[\"[通訊]國內電信漫遊\"]"
   ]
  },
  {
   "cell_type": "code",
   "execution_count": 165,
   "metadata": {},
   "outputs": [],
   "source": [
    "out_path = data_dir/r\"annot_data\\annotated_data_bkup\\20210605\\eval_ontology_raw.json\"\n",
    "with open(out_path, \"w\", encoding=\"UTF-8\") as fout:\n",
    "    json.dump(data, fout, indent=2, ensure_ascii=False)"
   ]
  },
  {
   "cell_type": "code",
   "execution_count": null,
   "metadata": {},
   "outputs": [],
   "source": []
  }
 ],
 "metadata": {
  "kernelspec": {
   "display_name": "Python 3",
   "language": "python",
   "name": "python3"
  },
  "language_info": {
   "codemirror_mode": {
    "name": "ipython",
    "version": 3
   },
   "file_extension": ".py",
   "mimetype": "text/x-python",
   "name": "python",
   "nbconvert_exporter": "python",
   "pygments_lexer": "ipython3",
   "version": "3.8.2"
  }
 },
 "nbformat": 4,
 "nbformat_minor": 4
}

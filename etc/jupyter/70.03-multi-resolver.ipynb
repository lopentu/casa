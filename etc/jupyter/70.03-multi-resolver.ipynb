{
 "cells": [
  {
   "cell_type": "code",
   "execution_count": 1,
   "metadata": {},
   "outputs": [],
   "source": [
    "%load_ext autoreload\n",
    "%autoreload 2"
   ]
  },
  {
   "cell_type": "code",
   "execution_count": 2,
   "metadata": {},
   "outputs": [],
   "source": [
    "import pickle\n",
    "import json\n",
    "import random\n",
    "import numpy as np\n",
    "import pandas as pd\n",
    "from tqdm.auto import tqdm\n",
    "from icecream import ic\n",
    "from import_casa import casa\n",
    "from matplotlib import pyplot as plt\n",
    "from casa import Cadence, Cadet, Crystal, MTBert\n",
    "from sklearn.metrics import classification_report, accuracy_score"
   ]
  },
  {
   "cell_type": "code",
   "execution_count": 3,
   "metadata": {},
   "outputs": [
    {
     "name": "stderr",
     "output_type": "stream",
     "text": [
      "[INFO] 2021-09-01 12:29:57,434 casa.Cadence: Loading Cadet\n",
      "[INFO] 2021-09-01 12:29:57,447 gensim.utils: loading KeyedVectors object from ..\\..\\data\\cadence\\..\\cadet\\op20.3\\ft-2020.kv\n",
      "[INFO] 2021-09-01 12:29:57,729 gensim.utils: setting ignored attribute vectors_norm to None\n",
      "[INFO] 2021-09-01 12:29:57,730 gensim.utils: setting ignored attribute vectors_vocab_norm to None\n",
      "[INFO] 2021-09-01 12:29:57,731 gensim.utils: setting ignored attribute vectors_ngrams_norm to None\n",
      "[INFO] 2021-09-01 12:29:57,731 gensim.utils: setting ignored attribute buckets_word to None\n",
      "[INFO] 2021-09-01 12:29:57,846 gensim.utils: FastTextKeyedVectors lifecycle event {'fname': '..\\\\..\\\\data\\\\cadence\\\\..\\\\cadet\\\\op20.3\\\\ft-2020.kv', 'datetime': '2021-09-01T12:29:57.846572', 'gensim': '4.0.0', 'python': '3.8.2 (tags/v3.8.2:7b3ab59, Feb 25 2020, 23:03:10) [MSC v.1916 64 bit (AMD64)]', 'platform': 'Windows-10-10.0.18362-SP0', 'event': 'loaded'}\n",
      "[INFO] 2021-09-01 12:29:57,872 casa.Cadence: Loading Crystal\n",
      "[INFO] 2021-09-01 12:29:57,881 casa.Cadence: Loading MTBert\n"
     ]
    }
   ],
   "source": [
    "cadence = Cadence.load(\"../../data/cadence/config.json\")"
   ]
  },
  {
   "cell_type": "code",
   "execution_count": 4,
   "metadata": {},
   "outputs": [],
   "source": [
    "from casa.cadence.resolvers import CadenceBertOnlyResolver, CadenceSimpleResolver, CadenceMultiResolver\n",
    "from casa.cadence import visualize_tokens"
   ]
  },
  {
   "cell_type": "code",
   "execution_count": 94,
   "metadata": {},
   "outputs": [],
   "source": [
    "out = cadence.analyze(\"亞太網路超差，中華收訊就很好\", strategy=\"simple\")"
   ]
  },
  {
   "cell_type": "code",
   "execution_count": 95,
   "metadata": {},
   "outputs": [
    {
     "name": "stdout",
     "output_type": "stream",
     "text": [
      "亞太網路\u001b[31m超\u001b[0m\u001b[31m差\u001b[0m，中華\u001b[31m收\u001b[0m訊\u001b[31m就\u001b[0m\u001b[31m很\u001b[0m\u001b[31m好\u001b[0m\n"
     ]
    },
    {
     "data": {
      "text/plain": [
       "{'pn_prob': array([3.1391025e-04, 4.5604211e-05, 3.2047320e-03, 3.9974255e-03,\n",
       "        9.9427634e-01, 9.7850168e-01, 3.3351569e-04, 2.8090037e-05,\n",
       "        2.4490140e-05, 5.6001269e-03, 6.7131169e-04, 2.3341034e-01,\n",
       "        2.5550574e-01, 1.6362540e-01], dtype=float32),\n",
       " 'pn_idx': array([-1, -1, -1, -1,  1,  1, -1, -1, -1,  1, -1,  1,  1,  1],\n",
       "       dtype=int64)}"
      ]
     },
     "execution_count": 95,
     "metadata": {},
     "output_type": "execute_result"
    }
   ],
   "source": [
    "visualize_tokens(out, 0.005)"
   ]
  },
  {
   "cell_type": "code",
   "execution_count": 96,
   "metadata": {},
   "outputs": [
    {
     "data": {
      "text/plain": [
       "{'result': ('[通訊]網速', 1.0),\n",
       " 'word_attr_map': {'超差': ('[通訊]網速', 1, 0.5), '很好': ('[通訊]涵蓋', 5, 0.3)},\n",
       " 'CxG': [],\n",
       " 'onto': [('超差', [('[通訊]網速', 1, 0.5), ('[通訊]涵蓋', 1, 0.5)]),\n",
       "  ('很好',\n",
       "   [('[其他]手機', 4, 0.3),\n",
       "    ('[通訊]網速', 4, 0.3),\n",
       "    ('[通訊]涵蓋', 5, 0.3),\n",
       "    ('[通訊]涵蓋', 4, 0.1)])]}"
      ]
     },
     "execution_count": 96,
     "metadata": {},
     "output_type": "execute_result"
    }
   ],
   "source": [
    "out.crystal"
   ]
  },
  {
   "cell_type": "code",
   "execution_count": 97,
   "metadata": {},
   "outputs": [
    {
     "data": {
      "text/plain": [
       "{'entity': ['中華電信', '亞太電信', '台灣大哥大', '遠傳電信', '台灣之星', '無框行動'],\n",
       " 'entity_probs': array([0.48782193, 0.48782193, 0.00635621, 0.00620852, 0.00619568,\n",
       "        0.00559573]),\n",
       " 'service': [('通訊品質', '網速'),\n",
       "  ('通訊品質', '涵蓋'),\n",
       "  ('資費方案', '低資費方案'),\n",
       "  ('加值服務', 'vowifi'),\n",
       "  ('加值服務', '電信APP')],\n",
       " 'service_probs': array([0.44906384, 0.44906384, 0.00546045, 0.00518785, 0.0051812 ]),\n",
       " 'seeds': ['網速', '覆蓋率', '訊號', '0月租', '免月租'],\n",
       " 'seed_probs': array([0.3714933 , 0.3714933 , 0.00598352, 0.00451722, 0.00451722]),\n",
       " 'tokens': ['亞太', '網路', '超', '差,', '中華', '收訊', '就', '很好'],\n",
       " 'tokens_attrib': {'亞太電信': [0], '網速': [1], '中華電信': [4], '覆蓋率': [5]}}"
      ]
     },
     "execution_count": 97,
     "metadata": {},
     "output_type": "execute_result"
    }
   ],
   "source": [
    "out.cadet"
   ]
  },
  {
   "cell_type": "code",
   "execution_count": 98,
   "metadata": {},
   "outputs": [],
   "source": [
    "def find_all_pos(text, target, start=0):\n",
    "    try:\n",
    "        pos = text.index(target, start)\n",
    "        return [pos] + find_all_pos(text, target, start=pos+1)\n",
    "    except ValueError:\n",
    "        return []"
   ]
  },
  {
   "cell_type": "code",
   "execution_count": 101,
   "metadata": {},
   "outputs": [],
   "source": [
    "from itertools import groupby\n",
    "ent_tokens = {}\n",
    "srv_tokens = {}\n",
    "pol_tokens = {}\n",
    "cadet_res = out.cadet\n",
    "crystal_res = out.crystal\n",
    "mtbert_res = out.mt_bert\n",
    "\n",
    "raw_text = mtbert_res.get(\"text\", \"\")\n",
    "cadet_tokens = cadet_res.get(\"tokens\", [])\n",
    "\n",
    "# get entity tokens\n",
    "for attrib, tok_idxs in cadet_res.get(\"tokens_attrib\", {}).items():\n",
    "    if attrib not in cadet_res.get(\"entity\", []):\n",
    "        # not an entity attribute\n",
    "        continue\n",
    "    for tok_idx in tok_idxs:\n",
    "        tok = cadet_tokens[tok_idx]\n",
    "        pos_list = find_all_pos(raw_text, tok)\n",
    "        ent_tokens.setdefault(attrib, []).extend(pos_list)\n",
    "\n",
    "# get service tokens\n",
    "# use crystal if available\n",
    "word_attr_map = crystal_res[\"word_attr_map\"]\n",
    "for word, attr in word_attr_map.items():\n",
    "    indices = find_all_pos(raw_text, word)\n",
    "    srv_tokens.setdefault(attr[0], []).extend(indices)\n",
    "    pol_score = attr[1]\n",
    "    if pol_score > 3:\n",
    "        pol_tokens.setdefault(\"Positive\", []).extend(indices)\n",
    "    elif pol_score < 3:\n",
    "        pol_tokens.setdefault(\"Negative\", []).extend(indices)\n",
    "        \n",
    "# if crystal is abstained, use cadet service tokens\n",
    "if not srv_tokens:\n",
    "    for attrib, tok_idxs in cadet_res.get(\"tokens_attrib\", {}).items():\n",
    "        if attrib in cadet_res.get(\"entity\", []):\n",
    "            # skip entity attribute\n",
    "            continue\n",
    "        for tok_idx in tok_idxs:\n",
    "            tok = cadet_tokens[tok_idx]\n",
    "            pos_list = find_all_pos(raw_text, tok)\n",
    "            srv_tokens.setdefault(attrib, []).extend(pos_list)\n",
    "\n",
    "if not pol_tokens:\n",
    "    pn = visualize_tokens(out, pn_thres=0.2, quiet=True)\n",
    "    pn_idx = pn[\"pn_idx\"]    \n",
    "    grp_iter = groupby(enumerate(pn_idx), key=lambda x: x[1])\n",
    "    groups = [(gk, [idx for idx, _ in gv]) for gk, gv in grp_iter]    \n",
    "    for pn_code, idx_list in groups:\n",
    "        if pn_code < 0: continue\n",
    "        pn = \"Positive\" if pn_code == 0 else \"Negative\"\n",
    "        first_idx = idx_list[0]\n",
    "        if pn not in pol_tokens or pol_tokens[pn][-1] < idx-1:\n",
    "            pol_tokens.setdefault(pn, []).append(first_idx)"
   ]
  },
  {
   "cell_type": "code",
   "execution_count": 102,
   "metadata": {},
   "outputs": [
    {
     "name": "stdout",
     "output_type": "stream",
     "text": [
      "raw_text:  亞太網路超差，中華收訊就很好\n",
      "entity:  {'亞太電信': [0], '中華電信': [7]}\n",
      "services:  {'[通訊]網速': [4], '[通訊]涵蓋': [12]}\n",
      "polarities:  {'Negative': [4], 'Positive': [12]}\n"
     ]
    }
   ],
   "source": [
    "print(\"raw_text: \", raw_text)\n",
    "print(\"entity: \", ent_tokens)\n",
    "print(\"services: \", srv_tokens)\n",
    "print(\"polarities: \", pol_tokens)"
   ]
  },
  {
   "cell_type": "code",
   "execution_count": 103,
   "metadata": {},
   "outputs": [],
   "source": [
    "ch_labels = {}\n",
    "def update_ch_labels(new_dict):\n",
    "    for k, v in new_dict.items():\n",
    "        ch_labels.setdefault(k, []).append(v)\n",
    "\n",
    "def index_positions(labtype, label_map):\n",
    "    return {v:(labtype, k) \n",
    "            for k, vs in label_map.items() \n",
    "            for v in vs}\n",
    "\n",
    "update_ch_labels(index_positions(\"ent\", ent_tokens))\n",
    "update_ch_labels(index_positions(\"srv\", srv_tokens))\n",
    "update_ch_labels(index_positions(\"pol\", pol_tokens))"
   ]
  },
  {
   "cell_type": "code",
   "execution_count": 104,
   "metadata": {},
   "outputs": [
    {
     "data": {
      "text/plain": [
       "{0: [('ent', '亞太電信')],\n",
       " 7: [('ent', '中華電信')],\n",
       " 4: [('srv', '[通訊]網速'), ('pol', 'Negative')],\n",
       " 12: [('srv', '[通訊]涵蓋'), ('pol', 'Positive')]}"
      ]
     },
     "execution_count": 104,
     "metadata": {},
     "output_type": "execute_result"
    }
   ],
   "source": [
    "ch_labels"
   ]
  },
  {
   "cell_type": "code",
   "execution_count": 107,
   "metadata": {},
   "outputs": [],
   "source": [
    "buf = {}\n",
    "aspects = []\n",
    "for ch_i, ch_x in enumerate(raw_text):\n",
    "    if ch_i not in ch_labels:\n",
    "        continue\n",
    "    for label, data in ch_labels[ch_i]:\n",
    "        buf[label] = data\n",
    "    if \"ent\" in buf and \"srv\" in buf and \"pol\" in buf:\n",
    "        aspects.append((buf[\"ent\"], buf[\"srv\"], buf[\"pol\"]))\n",
    "        del buf[\"pol\"]\n"
   ]
  },
  {
   "cell_type": "code",
   "execution_count": 108,
   "metadata": {},
   "outputs": [
    {
     "data": {
      "text/plain": [
       "[('亞太電信', '[通訊]網速', 'Negative'), ('中華電信', '[通訊]涵蓋', 'Positive')]"
      ]
     },
     "execution_count": 108,
     "metadata": {},
     "output_type": "execute_result"
    }
   ],
   "source": [
    "aspects"
   ]
  },
  {
   "cell_type": "code",
   "execution_count": null,
   "metadata": {},
   "outputs": [],
   "source": []
  }
 ],
 "metadata": {
  "kernelspec": {
   "display_name": "Python 3",
   "language": "python",
   "name": "python3"
  },
  "language_info": {
   "codemirror_mode": {
    "name": "ipython",
    "version": 3
   },
   "file_extension": ".py",
   "mimetype": "text/x-python",
   "name": "python",
   "nbconvert_exporter": "python",
   "pygments_lexer": "ipython3",
   "version": "3.8.2"
  }
 },
 "nbformat": 4,
 "nbformat_minor": 4
}

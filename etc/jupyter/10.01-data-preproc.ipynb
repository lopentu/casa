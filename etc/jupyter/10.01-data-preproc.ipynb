{
 "cells": [
  {
   "cell_type": "code",
   "execution_count": 45,
   "metadata": {},
   "outputs": [],
   "source": [
    "import pandas as pd"
   ]
  },
  {
   "cell_type": "code",
   "execution_count": 46,
   "metadata": {},
   "outputs": [],
   "source": [
    "data = pd.read_csv(\"../../data/委託案標註資料_10.csv\")"
   ]
  },
  {
   "cell_type": "code",
   "execution_count": 47,
   "metadata": {},
   "outputs": [
    {
     "data": {
      "text/html": [
       "<div>\n",
       "<style scoped>\n",
       "    .dataframe tbody tr th:only-of-type {\n",
       "        vertical-align: middle;\n",
       "    }\n",
       "\n",
       "    .dataframe tbody tr th {\n",
       "        vertical-align: top;\n",
       "    }\n",
       "\n",
       "    .dataframe thead th {\n",
       "        text-align: right;\n",
       "    }\n",
       "</style>\n",
       "<table border=\"1\" class=\"dataframe\">\n",
       "  <thead>\n",
       "    <tr style=\"text-align: right;\">\n",
       "      <th></th>\n",
       "      <th>輿情ID</th>\n",
       "      <th>輿情標題</th>\n",
       "      <th>輿情來源</th>\n",
       "      <th>輿情頻道</th>\n",
       "      <th>輿情作者</th>\n",
       "      <th>輿情內文</th>\n",
       "      <th>主文/回文</th>\n",
       "      <th>原始網址</th>\n",
       "      <th>議題類別</th>\n",
       "    </tr>\n",
       "  </thead>\n",
       "  <tbody>\n",
       "    <tr>\n",
       "      <td>0</td>\n",
       "      <td>D20201001172636646552346909573</td>\n",
       "      <td>#問題 499母親節方案要續約嗎</td>\n",
       "      <td>Dcard</td>\n",
       "      <td>3C</td>\n",
       "      <td>東吳大學</td>\n",
       "      <td>最近各家電信一直打電話傳簡訊詢問要不要續約 有夠煩的但畢竟合約有30個月 而5G未來會普及也...</td>\n",
       "      <td>主文</td>\n",
       "      <td>https://www.dcard.tw/f/3c/p/234533866</td>\n",
       "      <td>資費方案</td>\n",
       "    </tr>\n",
       "    <tr>\n",
       "      <td>1</td>\n",
       "      <td>D20201001221149753418014167255</td>\n",
       "      <td>#問題 499母親節方案要續約嗎</td>\n",
       "      <td>Dcard</td>\n",
       "      <td>3C</td>\n",
       "      <td>吳鳳科技大學</td>\n",
       "      <td>續</td>\n",
       "      <td>回文</td>\n",
       "      <td>https://www.dcard.tw/f/3c/p/234533866</td>\n",
       "      <td>資費方案</td>\n",
       "    </tr>\n",
       "    <tr>\n",
       "      <td>2</td>\n",
       "      <td>D20201001221149428782339093897</td>\n",
       "      <td>#問題 499母親節方案要續約嗎</td>\n",
       "      <td>Dcard</td>\n",
       "      <td>3C</td>\n",
       "      <td>東吳大學</td>\n",
       "      <td>B1 怎麼說</td>\n",
       "      <td>回文</td>\n",
       "      <td>https://www.dcard.tw/f/3c/p/234533866</td>\n",
       "      <td>資費方案</td>\n",
       "    </tr>\n",
       "    <tr>\n",
       "      <td>3</td>\n",
       "      <td>D20201001221149873923455388540</td>\n",
       "      <td>#問題 499母親節方案要續約嗎</td>\n",
       "      <td>Dcard</td>\n",
       "      <td>3C</td>\n",
       "      <td>吳鳳科技大學</td>\n",
       "      <td>5g現在還不穩定 現在辦5g繳5g的錢只能享受4g ，5g全台基地台只有某些地方比較穩 甚至...</td>\n",
       "      <td>回文</td>\n",
       "      <td>https://www.dcard.tw/f/3c/p/234533866</td>\n",
       "      <td>資費方案</td>\n",
       "    </tr>\n",
       "    <tr>\n",
       "      <td>4</td>\n",
       "      <td>D20201001221149847469355856035</td>\n",
       "      <td>#問題 499母親節方案要續約嗎</td>\n",
       "      <td>Dcard</td>\n",
       "      <td>3C</td>\n",
       "      <td>東吳大學</td>\n",
       "      <td>B3 所以也不建議現在就換5g手機囉？</td>\n",
       "      <td>回文</td>\n",
       "      <td>https://www.dcard.tw/f/3c/p/234533866</td>\n",
       "      <td>資費方案</td>\n",
       "    </tr>\n",
       "  </tbody>\n",
       "</table>\n",
       "</div>"
      ],
      "text/plain": [
       "                             輿情ID              輿情標題   輿情來源 輿情頻道    輿情作者  \\\n",
       "0  D20201001172636646552346909573  #問題 499母親節方案要續約嗎  Dcard   3C    東吳大學   \n",
       "1  D20201001221149753418014167255  #問題 499母親節方案要續約嗎  Dcard   3C  吳鳳科技大學   \n",
       "2  D20201001221149428782339093897  #問題 499母親節方案要續約嗎  Dcard   3C    東吳大學   \n",
       "3  D20201001221149873923455388540  #問題 499母親節方案要續約嗎  Dcard   3C  吳鳳科技大學   \n",
       "4  D20201001221149847469355856035  #問題 499母親節方案要續約嗎  Dcard   3C    東吳大學   \n",
       "\n",
       "                                                輿情內文 主文/回文  \\\n",
       "0  最近各家電信一直打電話傳簡訊詢問要不要續約 有夠煩的但畢竟合約有30個月 而5G未來會普及也...    主文   \n",
       "1                                                  續    回文   \n",
       "2                                             B1 怎麼說    回文   \n",
       "3  5g現在還不穩定 現在辦5g繳5g的錢只能享受4g ，5g全台基地台只有某些地方比較穩 甚至...    回文   \n",
       "4                                B3 所以也不建議現在就換5g手機囉？    回文   \n",
       "\n",
       "                                    原始網址  議題類別  \n",
       "0  https://www.dcard.tw/f/3c/p/234533866  資費方案  \n",
       "1  https://www.dcard.tw/f/3c/p/234533866  資費方案  \n",
       "2  https://www.dcard.tw/f/3c/p/234533866  資費方案  \n",
       "3  https://www.dcard.tw/f/3c/p/234533866  資費方案  \n",
       "4  https://www.dcard.tw/f/3c/p/234533866  資費方案  "
      ]
     },
     "execution_count": 47,
     "metadata": {},
     "output_type": "execute_result"
    }
   ],
   "source": [
    "data.head()"
   ]
  },
  {
   "cell_type": "code",
   "execution_count": 48,
   "metadata": {},
   "outputs": [
    {
     "data": {
      "text/plain": [
       "(0, 輿情ID                        D20201001172636646552346909573\n",
       " 輿情標題                                      #問題 499母親節方案要續約嗎\n",
       " 輿情來源                                                 Dcard\n",
       " 輿情頻道                                                    3C\n",
       " 輿情作者                                                  東吳大學\n",
       " 輿情內文     最近各家電信一直打電話傳簡訊詢問要不要續約 有夠煩的但畢竟合約有30個月 而5G未來會普及也...\n",
       " 主文/回文                                                   主文\n",
       " 原始網址                 https://www.dcard.tw/f/3c/p/234533866\n",
       " 議題類別                                                  資費方案\n",
       " Name: 0, dtype: object)"
      ]
     },
     "execution_count": 48,
     "metadata": {},
     "output_type": "execute_result"
    }
   ],
   "source": [
    "next(iter(data.iterrows()))"
   ]
  },
  {
   "cell_type": "code",
   "execution_count": null,
   "metadata": {},
   "outputs": [],
   "source": []
  },
  {
   "cell_type": "code",
   "execution_count": 51,
   "metadata": {},
   "outputs": [],
   "source": [
    "def group_rows(grp_item):\n",
    "    grp_id, grp = grp_item\n",
    "    rows = list(grp)\n",
    "    ret_row = rows[0].copy()\n",
    "    ret_row[\"輿情內文\"] = \"\\n\".join([str(x[\"輿情內文\"]) for x in rows])\n",
    "    return ret_row"
   ]
  },
  {
   "cell_type": "code",
   "execution_count": 52,
   "metadata": {},
   "outputs": [],
   "source": [
    "from itertools import groupby\n",
    "row_iter = map(lambda x: x[1], data.iterrows())\n",
    "grp_iter = groupby(row_iter, key=lambda x: (x[\"輿情標題\"], x[\"輿情作者\"]))\n",
    "grp_data = list(map(group_rows, grp_iter))"
   ]
  },
  {
   "cell_type": "code",
   "execution_count": 53,
   "metadata": {},
   "outputs": [],
   "source": [
    "grp_frame = pd.DataFrame(grp_data)"
   ]
  },
  {
   "cell_type": "code",
   "execution_count": 54,
   "metadata": {},
   "outputs": [
    {
     "data": {
      "text/plain": [
       "(29811, 9)"
      ]
     },
     "execution_count": 54,
     "metadata": {},
     "output_type": "execute_result"
    }
   ],
   "source": [
    "grp_frame.shape"
   ]
  },
  {
   "cell_type": "code",
   "execution_count": 55,
   "metadata": {},
   "outputs": [
    {
     "data": {
      "text/plain": [
       "(44745, 9)"
      ]
     },
     "execution_count": 55,
     "metadata": {},
     "output_type": "execute_result"
    }
   ],
   "source": []
  },
  {
   "cell_type": "code",
   "execution_count": null,
   "metadata": {},
   "outputs": [],
   "source": []
  }
 ],
 "metadata": {
  "kernelspec": {
   "display_name": "Python 3",
   "language": "python",
   "name": "python3"
  },
  "language_info": {
   "codemirror_mode": {
    "name": "ipython",
    "version": 3
   },
   "file_extension": ".py",
   "mimetype": "text/x-python",
   "name": "python",
   "nbconvert_exporter": "python",
   "pygments_lexer": "ipython3",
   "version": "3.7.4"
  }
 },
 "nbformat": 4,
 "nbformat_minor": 4
}

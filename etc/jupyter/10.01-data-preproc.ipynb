{
 "cells": [
  {
   "cell_type": "code",
   "execution_count": 1,
   "metadata": {},
   "outputs": [],
   "source": [
    "%load_ext autoreload\n",
    "%autoreload 2"
   ]
  },
  {
   "cell_type": "code",
   "execution_count": 6,
   "metadata": {},
   "outputs": [],
   "source": [
    "import sys\n",
    "sys.path.append(\"../../src\")"
   ]
  },
  {
   "cell_type": "code",
   "execution_count": 2,
   "metadata": {},
   "outputs": [],
   "source": [
    "from casa.opinion_types import Opinion, make_opinion_threads\n",
    "import pandas as pd"
   ]
  },
  {
   "cell_type": "code",
   "execution_count": 3,
   "metadata": {},
   "outputs": [],
   "source": [
    "data = pd.read_csv(\"../../data/委託案標註資料_10.csv\")"
   ]
  },
  {
   "cell_type": "code",
   "execution_count": 4,
   "metadata": {},
   "outputs": [
    {
     "data": {
      "text/html": [
       "<div>\n",
       "<style scoped>\n",
       "    .dataframe tbody tr th:only-of-type {\n",
       "        vertical-align: middle;\n",
       "    }\n",
       "\n",
       "    .dataframe tbody tr th {\n",
       "        vertical-align: top;\n",
       "    }\n",
       "\n",
       "    .dataframe thead th {\n",
       "        text-align: right;\n",
       "    }\n",
       "</style>\n",
       "<table border=\"1\" class=\"dataframe\">\n",
       "  <thead>\n",
       "    <tr style=\"text-align: right;\">\n",
       "      <th></th>\n",
       "      <th>輿情ID</th>\n",
       "      <th>輿情標題</th>\n",
       "      <th>輿情來源</th>\n",
       "      <th>輿情頻道</th>\n",
       "      <th>輿情作者</th>\n",
       "      <th>輿情內文</th>\n",
       "      <th>主文/回文</th>\n",
       "      <th>原始網址</th>\n",
       "      <th>議題類別</th>\n",
       "    </tr>\n",
       "  </thead>\n",
       "  <tbody>\n",
       "    <tr>\n",
       "      <th>0</th>\n",
       "      <td>D20201001172636646552346909573</td>\n",
       "      <td>#問題 499母親節方案要續約嗎</td>\n",
       "      <td>Dcard</td>\n",
       "      <td>3C</td>\n",
       "      <td>東吳大學</td>\n",
       "      <td>最近各家電信一直打電話傳簡訊詢問要不要續約 有夠煩的但畢竟合約有30個月 而5G未來會普及也...</td>\n",
       "      <td>主文</td>\n",
       "      <td>https://www.dcard.tw/f/3c/p/234533866</td>\n",
       "      <td>資費方案</td>\n",
       "    </tr>\n",
       "    <tr>\n",
       "      <th>1</th>\n",
       "      <td>D20201001221149753418014167255</td>\n",
       "      <td>#問題 499母親節方案要續約嗎</td>\n",
       "      <td>Dcard</td>\n",
       "      <td>3C</td>\n",
       "      <td>吳鳳科技大學</td>\n",
       "      <td>續</td>\n",
       "      <td>回文</td>\n",
       "      <td>https://www.dcard.tw/f/3c/p/234533866</td>\n",
       "      <td>資費方案</td>\n",
       "    </tr>\n",
       "    <tr>\n",
       "      <th>2</th>\n",
       "      <td>D20201001221149428782339093897</td>\n",
       "      <td>#問題 499母親節方案要續約嗎</td>\n",
       "      <td>Dcard</td>\n",
       "      <td>3C</td>\n",
       "      <td>東吳大學</td>\n",
       "      <td>B1 怎麼說</td>\n",
       "      <td>回文</td>\n",
       "      <td>https://www.dcard.tw/f/3c/p/234533866</td>\n",
       "      <td>資費方案</td>\n",
       "    </tr>\n",
       "    <tr>\n",
       "      <th>3</th>\n",
       "      <td>D20201001221149873923455388540</td>\n",
       "      <td>#問題 499母親節方案要續約嗎</td>\n",
       "      <td>Dcard</td>\n",
       "      <td>3C</td>\n",
       "      <td>吳鳳科技大學</td>\n",
       "      <td>5g現在還不穩定 現在辦5g繳5g的錢只能享受4g ，5g全台基地台只有某些地方比較穩 甚至...</td>\n",
       "      <td>回文</td>\n",
       "      <td>https://www.dcard.tw/f/3c/p/234533866</td>\n",
       "      <td>資費方案</td>\n",
       "    </tr>\n",
       "    <tr>\n",
       "      <th>4</th>\n",
       "      <td>D20201001221149847469355856035</td>\n",
       "      <td>#問題 499母親節方案要續約嗎</td>\n",
       "      <td>Dcard</td>\n",
       "      <td>3C</td>\n",
       "      <td>東吳大學</td>\n",
       "      <td>B3 所以也不建議現在就換5g手機囉？</td>\n",
       "      <td>回文</td>\n",
       "      <td>https://www.dcard.tw/f/3c/p/234533866</td>\n",
       "      <td>資費方案</td>\n",
       "    </tr>\n",
       "  </tbody>\n",
       "</table>\n",
       "</div>"
      ],
      "text/plain": [
       "                             輿情ID              輿情標題   輿情來源 輿情頻道    輿情作者  \\\n",
       "0  D20201001172636646552346909573  #問題 499母親節方案要續約嗎  Dcard   3C    東吳大學   \n",
       "1  D20201001221149753418014167255  #問題 499母親節方案要續約嗎  Dcard   3C  吳鳳科技大學   \n",
       "2  D20201001221149428782339093897  #問題 499母親節方案要續約嗎  Dcard   3C    東吳大學   \n",
       "3  D20201001221149873923455388540  #問題 499母親節方案要續約嗎  Dcard   3C  吳鳳科技大學   \n",
       "4  D20201001221149847469355856035  #問題 499母親節方案要續約嗎  Dcard   3C    東吳大學   \n",
       "\n",
       "                                                輿情內文 主文/回文  \\\n",
       "0  最近各家電信一直打電話傳簡訊詢問要不要續約 有夠煩的但畢竟合約有30個月 而5G未來會普及也...    主文   \n",
       "1                                                  續    回文   \n",
       "2                                             B1 怎麼說    回文   \n",
       "3  5g現在還不穩定 現在辦5g繳5g的錢只能享受4g ，5g全台基地台只有某些地方比較穩 甚至...    回文   \n",
       "4                                B3 所以也不建議現在就換5g手機囉？    回文   \n",
       "\n",
       "                                    原始網址  議題類別  \n",
       "0  https://www.dcard.tw/f/3c/p/234533866  資費方案  \n",
       "1  https://www.dcard.tw/f/3c/p/234533866  資費方案  \n",
       "2  https://www.dcard.tw/f/3c/p/234533866  資費方案  \n",
       "3  https://www.dcard.tw/f/3c/p/234533866  資費方案  \n",
       "4  https://www.dcard.tw/f/3c/p/234533866  資費方案  "
      ]
     },
     "execution_count": 4,
     "metadata": {},
     "output_type": "execute_result"
    }
   ],
   "source": [
    "data.head()"
   ]
  },
  {
   "cell_type": "code",
   "execution_count": 114,
   "metadata": {},
   "outputs": [],
   "source": [
    "threads = make_opinion_threads((row.to_dict() for _, row in data.iterrows()))"
   ]
  },
  {
   "cell_type": "code",
   "execution_count": 120,
   "metadata": {},
   "outputs": [
    {
     "data": {
      "text/plain": [
       "8020"
      ]
     },
     "execution_count": 120,
     "metadata": {},
     "output_type": "execute_result"
    }
   ],
   "source": [
    "len(threads)"
   ]
  },
  {
   "cell_type": "code",
   "execution_count": 115,
   "metadata": {},
   "outputs": [
    {
     "data": {
      "text/plain": [
       "40146"
      ]
     },
     "execution_count": 115,
     "metadata": {},
     "output_type": "execute_result"
    }
   ],
   "source": [
    "sum([len(x) for x in threads])"
   ]
  },
  {
   "cell_type": "code",
   "execution_count": 116,
   "metadata": {},
   "outputs": [
    {
     "name": "stdout",
     "output_type": "stream",
     "text": [
      "Main: <Opinion [Dcard] 東吳大學: 最近各家電信一直打電話傳簡訊詢問要不要續...>\n",
      "-- <Opinion [Dcard] 吳鳳科技大學: 續>\n",
      "-- <Opinion [Dcard] 東吳大學: B1 怎麼說>\n",
      "-- <Opinion [Dcard] 吳鳳科技大學: 5g現在還不穩定 現在辦5g繳5g的錢只...>\n",
      "-- <Opinion [Dcard] 東吳大學: B3 所以也不建議現在就換5g手機囉？>\n",
      "-- <Opinion [Dcard] 吳鳳科技大學: 換5g手機可以 但是5g網路可以再等等 ...>\n",
      "-- <Opinion [Dcard] 東吳大學: B5 好的~>\n",
      "-- <Opinion [Dcard] 吳鳳科技大學: 我自己 還有家人和同學 都是續30個月 ...>\n",
      "-- <Opinion [Dcard] 國立東華大學: 等1111>\n",
      "-- <Opinion [Dcard] 東吳大學: B8 1111是手機方案到期日嗎😂>\n",
      "-- <Opinion [Dcard] 國立東華大學: B9各大電信優惠日>\n",
      "Main: <Opinion [Dcard] 逢甲大學: 如題最近手機因為二段式左轉手機摔壞了，我...>\n",
      "Main: <Opinion [Dcard] 落葉殘傷: 馬的送修有夠垃圾，等了快兩個禮拜，客服人...>\n",
      "-- <Opinion [Dcard] 國立澎湖科技大學: 我知道你很氣，但不要以偏概全，機車的人很...>\n",
      "Main: (No main post)\n",
      "-- <Opinion [Dcard] 國立虎尾科技大學: 中華電信只要進學校室內就死了以前都不會>\n",
      "-- <Opinion [Dcard] 國立虎尾科技大學: 中華電信這學期真的差非常多 幾乎跑不動>\n",
      "-- <Opinion [Dcard] 國立虎尾科技大學: 在系館內中華電信的網路真的慢的可以，慢到...>\n",
      "-- <Opinion [Dcard] 國立虎尾科技大學: 中華電信這學期真的很不行速度直接爛到一個...>\n",
      "Main: (No main post)\n",
      "-- <Opinion [Dcard] 國立臺灣海洋大學: 手上兩門中華、台星都很慘，男二下載平均不...>\n",
      "Main: (No main post)\n",
      "-- <Opinion [Dcard] 國立臺南大學: J306啦>\n",
      "-- <Opinion [Dcard] 國立臺南大學: B8 三樓我還沒去過😎>\n",
      "-- <Opinion [Dcard] 國立臺南大學: B9 電腦教室的訊號不靠近窗根本沒有>\n",
      "-- <Opinion [Dcard] 國立臺南大學: 我也中華欸 為什麼沒這感覺>\n",
      "Main: (No main post)\n",
      "-- <Opinion [ePrice比價王] fangi7i8i7: 這也算是給老人家的一個福利吧，中華電信都...>\n",
      "Main: (No main post)\n",
      "-- <Opinion [facebook粉絲團] FOX體育台: 為何FOX+ Hami Video內突然...>\n",
      "Main: (No main post)\n",
      "-- <Opinion [facebook粉絲團] FOX體育台: Hami 不能看Fox了喔？  哭哭>\n",
      "Main: (No main post)\n",
      "-- <Opinion [facebook粉絲團] FOX體育台: 從hami video進去Fox+館無法...>\n"
     ]
    },
    {
     "data": {
      "text/plain": [
       "[None, None, None, None, None, None, None, None, None, None]"
      ]
     },
     "execution_count": 116,
     "metadata": {},
     "output_type": "execute_result"
    }
   ],
   "source": [
    "[x.print_thread() for x in threads[0:10]]"
   ]
  },
  {
   "cell_type": "code",
   "execution_count": 117,
   "metadata": {},
   "outputs": [],
   "source": [
    "import pickle\n",
    "with open(\"../../data/batch1_data.pkl\", \"wb\") as fout:\n",
    "    pickle.dump(threads, fout)"
   ]
  },
  {
   "cell_type": "code",
   "execution_count": null,
   "metadata": {},
   "outputs": [],
   "source": []
  }
 ],
 "metadata": {
  "kernelspec": {
   "display_name": "Python 3",
   "language": "python",
   "name": "python3"
  },
  "language_info": {
   "codemirror_mode": {
    "name": "ipython",
    "version": 3
   },
   "file_extension": ".py",
   "mimetype": "text/x-python",
   "name": "python",
   "nbconvert_exporter": "python",
   "pygments_lexer": "ipython3",
   "version": "3.8.2"
  }
 },
 "nbformat": 4,
 "nbformat_minor": 4
}

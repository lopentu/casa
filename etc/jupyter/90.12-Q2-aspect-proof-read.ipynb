{
 "cells": [
  {
   "cell_type": "code",
   "execution_count": 1,
   "id": "another-taiwan",
   "metadata": {},
   "outputs": [],
   "source": [
    "%load_ext autoreload\n",
    "%autoreload 2"
   ]
  },
  {
   "cell_type": "code",
   "execution_count": 2,
   "id": "inappropriate-remove",
   "metadata": {},
   "outputs": [
    {
     "name": "stderr",
     "output_type": "stream",
     "text": [
      "/Users/seantyh/anaconda3/lib/python3.7/site-packages/gensim/similarities/__init__.py:15: UserWarning: The gensim.similarities.levenshtein submodule is disabled, because the optional Levenshtein package <https://pypi.org/project/python-Levenshtein/> is unavailable. Install Levenhstein (e.g. `pip install python-Levenshtein`) to suppress this warning.\n",
      "  warnings.warn(msg)\n"
     ]
    }
   ],
   "source": [
    "import pickle\n",
    "import json\n",
    "import random\n",
    "import numpy as np\n",
    "import pandas as pd\n",
    "import io\n",
    "from tqdm import tqdm\n",
    "from icecream import ic\n",
    "from import_casa import casa, cano\n",
    "from casa.annot import AspectEnum"
   ]
  },
  {
   "cell_type": "code",
   "execution_count": 3,
   "id": "armed-guinea",
   "metadata": {},
   "outputs": [],
   "source": [
    "TARGET_DIR = \"20210412\"\n",
    "result_dir = casa.get_data_path() / f\"annot_data/annotated_data_bkup/{TARGET_DIR}\"\n",
    "json_paths = [x for x in result_dir.iterdir() if x.suffix==\".json\"]\n",
    "json_paths.sort()"
   ]
  },
  {
   "cell_type": "code",
   "execution_count": 4,
   "id": "sharp-transition",
   "metadata": {},
   "outputs": [],
   "source": [
    "with json_paths[1].open(\"r\", encoding=\"UTF-8\") as fin:\n",
    "    annots = json.load(fin)"
   ]
  },
  {
   "cell_type": "code",
   "execution_count": 5,
   "id": "reserved-radar",
   "metadata": {},
   "outputs": [
    {
     "data": {
      "text/plain": [
       "['completions', 'data', 'id']"
      ]
     },
     "execution_count": 5,
     "metadata": {},
     "output_type": "execute_result"
    }
   ],
   "source": [
    "list(annots[0].keys())"
   ]
  },
  {
   "cell_type": "code",
   "execution_count": 6,
   "id": "documented-alpha",
   "metadata": {},
   "outputs": [],
   "source": [
    "annot_x = annots[200]\n",
    "aspects = cano.process_thread_annotations(annot_x)"
   ]
  },
  {
   "cell_type": "code",
   "execution_count": 7,
   "id": "impaired-literature",
   "metadata": {},
   "outputs": [
    {
     "data": {
      "text/plain": [
       "[<AnnotAspect (std), 1-256, Thread 14887 :中華電信/[通訊]網速/完全正常/4>,\n",
       " <AnnotAspect (std), 1-256, Thread 14887 :中華電信/[其他]手機/完全正常/4>]"
      ]
     },
     "execution_count": 7,
     "metadata": {},
     "output_type": "execute_result"
    }
   ],
   "source": [
    "aspects"
   ]
  },
  {
   "cell_type": "code",
   "execution_count": 9,
   "id": "plastic-liquid",
   "metadata": {},
   "outputs": [
    {
     "data": {
      "text/plain": [
       "[{'annot_type': 'Entity',\n",
       "  'norm_val': '中華電信',\n",
       "  'spantext': '中華',\n",
       "  'rawtext': '完全正常,手機跟固網都中華的',\n",
       "  'batch_idx': 1,\n",
       "  'thread_idx': 14887,\n",
       "  'serial': 256,\n",
       "  'cursor': 'ol[1]/li[1]/text()',\n",
       "  'span_id': 'heHUbAdeiU'},\n",
       " {'annot_type': 'Attribute',\n",
       "  'norm_val': '[通訊]網速',\n",
       "  'spantext': '固網',\n",
       "  'rawtext': '完全正常,手機跟固網都中華的',\n",
       "  'batch_idx': 1,\n",
       "  'thread_idx': 14887,\n",
       "  'serial': 256,\n",
       "  'cursor': 'ol[1]/li[1]/text()',\n",
       "  'span_id': 'ZF9mVmL8mj'},\n",
       " {'annot_type': 'Attribute',\n",
       "  'norm_val': '[其他]手機',\n",
       "  'spantext': '手機',\n",
       "  'rawtext': '完全正常,手機跟固網都中華的',\n",
       "  'batch_idx': 1,\n",
       "  'thread_idx': 14887,\n",
       "  'serial': 256,\n",
       "  'cursor': 'ol[1]/li[1]/text()',\n",
       "  'span_id': 'OSnxZqPvUZ'}]"
      ]
     },
     "execution_count": 9,
     "metadata": {},
     "output_type": "execute_result"
    }
   ],
   "source": [
    "cano.make_proofread(aspects, annot_x[\"data\"][\"html\"])"
   ]
  },
  {
   "cell_type": "markdown",
   "id": "australian-mineral",
   "metadata": {},
   "source": [
    "## Main conversion loop"
   ]
  },
  {
   "cell_type": "code",
   "execution_count": 10,
   "id": "adequate-trainer",
   "metadata": {},
   "outputs": [
    {
     "name": "stderr",
     "output_type": "stream",
     "text": [
      " 20%|██        | 2/10 [00:00<00:03,  2.48it/s]"
     ]
    },
    {
     "name": "stdout",
     "output_type": "stream",
     "text": [
      "約翰是哪裡?\n",
      "不確定是什麼\n",
      "多tag\n"
     ]
    },
    {
     "name": "stderr",
     "output_type": "stream",
     "text": [
      " 30%|███       | 3/10 [00:01<00:02,  2.45it/s]"
     ]
    },
    {
     "name": "stdout",
     "output_type": "stream",
     "text": [
      "可以算涵蓋嗎...?\n",
      "地區+時段\n",
      "metaphorical?\n",
      "不確定指哪裡\n",
      "安平區\n",
      "台北市區\n",
      "499之亂後\n",
      "NP\n",
      "日本國際漫遊\n",
      "成功嶺\n"
     ]
    },
    {
     "name": "stderr",
     "output_type": "stream",
     "text": [
      " 40%|████      | 4/10 [00:01<00:02,  2.63it/s]"
     ]
    },
    {
     "name": "stdout",
     "output_type": "stream",
     "text": [
      "海景\n",
      "sarcasm\n"
     ]
    },
    {
     "name": "stderr",
     "output_type": "stream",
     "text": [
      "100%|██████████| 10/10 [00:02<00:00,  4.19it/s]"
     ]
    },
    {
     "name": "stdout",
     "output_type": "stream",
     "text": [
      "test\n",
      "test\n"
     ]
    },
    {
     "name": "stderr",
     "output_type": "stream",
     "text": [
      "\n"
     ]
    }
   ],
   "source": [
    "rec_list = []\n",
    "ex_log = io.StringIO()\n",
    "for json_path in tqdm(json_paths):\n",
    "    with json_path.open(\"r\", encoding=\"UTF-8\") as fin:\n",
    "        annots = json.load(fin)\n",
    "    for annot_i, annot_x in enumerate(annots): \n",
    "        try:\n",
    "            aspects = cano.process_thread_annotations(annot_x)\n",
    "            records = cano.make_proofread(aspects, annot_x[\"data\"][\"html\"])\n",
    "            rec_list.extend(records)\n",
    "        except:\n",
    "            pass"
   ]
  },
  {
   "cell_type": "code",
   "execution_count": 11,
   "id": "sorted-framing",
   "metadata": {},
   "outputs": [
    {
     "data": {
      "text/plain": [
       "3175"
      ]
     },
     "execution_count": 11,
     "metadata": {},
     "output_type": "execute_result"
    }
   ],
   "source": [
    "len(rec_list)"
   ]
  },
  {
   "cell_type": "code",
   "execution_count": 13,
   "id": "exotic-tolerance",
   "metadata": {},
   "outputs": [],
   "source": [
    "proof_df = pd.DataFrame.from_dict(rec_list)"
   ]
  },
  {
   "cell_type": "code",
   "execution_count": 18,
   "id": "suburban-wheat",
   "metadata": {},
   "outputs": [],
   "source": [
    "proof_df = proof_df.loc[proof_df.norm_val.str.len() > 0, :]\n",
    "proof_df.reset_index(inplace=True)\n",
    "out_path = result_dir / f\"aspects_proof_read_{TARGET_DIR}.csv\"\n",
    "proof_df.to_csv(out_path)"
   ]
  },
  {
   "cell_type": "code",
   "execution_count": 19,
   "id": "rapid-simulation",
   "metadata": {},
   "outputs": [
    {
     "data": {
      "text/plain": [
       "PosixPath('/Users/seantyh/langon/casa/data/annot_data/annotated_data_bkup/20210412/aspects_proof_read_20210412.csv')"
      ]
     },
     "execution_count": 19,
     "metadata": {},
     "output_type": "execute_result"
    }
   ],
   "source": [
    "out_path"
   ]
  },
  {
   "cell_type": "code",
   "execution_count": null,
   "id": "intellectual-saudi",
   "metadata": {},
   "outputs": [],
   "source": []
  }
 ],
 "metadata": {
  "kernelspec": {
   "display_name": "Python 3",
   "language": "python",
   "name": "python3"
  },
  "language_info": {
   "codemirror_mode": {
    "name": "ipython",
    "version": 3
   },
   "file_extension": ".py",
   "mimetype": "text/x-python",
   "name": "python",
   "nbconvert_exporter": "python",
   "pygments_lexer": "ipython3",
   "version": "3.7.4"
  }
 },
 "nbformat": 4,
 "nbformat_minor": 5
}

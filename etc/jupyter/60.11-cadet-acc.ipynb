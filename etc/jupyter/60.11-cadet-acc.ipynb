{
 "cells": [
  {
   "cell_type": "code",
   "execution_count": 1,
   "metadata": {},
   "outputs": [],
   "source": [
    "%load_ext autoreload\n",
    "%autoreload 2"
   ]
  },
  {
   "cell_type": "code",
   "execution_count": 2,
   "metadata": {},
   "outputs": [],
   "source": [
    "import numpy as np\n",
    "import pandas as pd\n",
    "from tqdm.auto import tqdm\n",
    "import json\n",
    "from sklearn.metrics import classification_report, accuracy_score, confusion_matrix"
   ]
  },
  {
   "cell_type": "code",
   "execution_count": 3,
   "metadata": {},
   "outputs": [],
   "source": [
    "from import_casa import casa\n",
    "from casa import Cadet"
   ]
  },
  {
   "cell_type": "code",
   "execution_count": 4,
   "metadata": {},
   "outputs": [
    {
     "name": "stderr",
     "output_type": "stream",
     "text": [
      "[INFO] 2021-07-08 11:29:24,448 gensim.utils: loading KeyedVectors object from E:\\LangOn\\casa\\data\\cadet\\op20.2\\ft-2020.kv\n",
      "[INFO] 2021-07-08 11:29:25,338 gensim.utils: setting ignored attribute vectors_norm to None\n",
      "[INFO] 2021-07-08 11:29:25,339 gensim.utils: setting ignored attribute vectors_vocab_norm to None\n",
      "[INFO] 2021-07-08 11:29:25,340 gensim.utils: setting ignored attribute vectors_ngrams_norm to None\n",
      "[INFO] 2021-07-08 11:29:25,341 gensim.utils: setting ignored attribute buckets_word to None\n",
      "[INFO] 2021-07-08 11:29:25,466 gensim.utils: FastTextKeyedVectors lifecycle event {'fname': 'E:\\\\LangOn\\\\casa\\\\data\\\\cadet\\\\op20.2\\\\ft-2020.kv', 'datetime': '2021-07-08T11:29:25.466865', 'gensim': '4.0.0', 'python': '3.8.2 (tags/v3.8.2:7b3ab59, Feb 25 2020, 23:03:10) [MSC v.1916 64 bit (AMD64)]', 'platform': 'Windows-10-10.0.18362-SP0', 'event': 'loaded'}\n"
     ]
    },
    {
     "data": {
      "text/plain": [
       "<Cadet: FastText(9851, 200), Seeds(79)>"
      ]
     },
     "execution_count": 4,
     "metadata": {},
     "output_type": "execute_result"
    }
   ],
   "source": [
    "cadet = Cadet.load(casa.get_data_path()/\"cadet/op20.2\")\n",
    "cadet"
   ]
  },
  {
   "cell_type": "code",
   "execution_count": 5,
   "metadata": {},
   "outputs": [],
   "source": [
    "ss = cadet.detect(\"12345\", summary=False)"
   ]
  },
  {
   "cell_type": "code",
   "execution_count": 8,
   "metadata": {},
   "outputs": [
    {
     "data": {
      "text/plain": [
       "25"
      ]
     },
     "execution_count": 8,
     "metadata": {},
     "output_type": "execute_result"
    }
   ],
   "source": [
    "len(ss[\"service\"])"
   ]
  },
  {
   "cell_type": "markdown",
   "metadata": {},
   "source": [
    "## Use aspect tuples"
   ]
  },
  {
   "cell_type": "code",
   "execution_count": 5,
   "metadata": {},
   "outputs": [],
   "source": [
    "tuples = pd.read_csv(casa.get_data_path() / \"annot_data/annotated_data_bkup/20210628/aspect_tuples_20210628.csv\", index_col=None)"
   ]
  },
  {
   "cell_type": "code",
   "execution_count": 6,
   "metadata": {},
   "outputs": [
    {
     "data": {
      "application/vnd.jupyter.widget-view+json": {
       "model_id": "a82eea6220594ba88e175ba00dfaf35e",
       "version_major": 2,
       "version_minor": 0
      },
      "text/plain": [
       "HBox(children=(FloatProgress(value=0.0, max=3592.0), HTML(value='')))"
      ]
     },
     "metadata": {},
     "output_type": "display_data"
    },
    {
     "name": "stdout",
     "output_type": "stream",
     "text": [
      "\n"
     ]
    }
   ],
   "source": [
    "aspect_ans = []\n",
    "aspect_pred = []\n",
    "pred_items = []\n",
    "for row in tqdm(tuples.itertuples(), total=tuples.shape[0]):\n",
    "    if row.is_context:\n",
    "        continue\n",
    "    ent, attr = row.ent_norm, row.attr_norm\n",
    "    ent_text, attr_text = row.ent_rawtext, row.attr_rawtext\n",
    "    \n",
    "    if not all([isinstance(x, str) for x in (ent, attr, ent_text, attr_text)]):\n",
    "        continue\n",
    "    ent = ent.replace(\"臺\", \"台\")\n",
    "    det = cadet.detect(ent_text + \" \" + attr_text)\n",
    "    ent_pred = det[\"entity\"][0]\n",
    "    attr_pred = det[\"service\"][0]\n",
    "    attr_pred = f\"[{attr_pred[0][:2]}]{attr_pred[1]}\"\n",
    "    aspect_ans.append((ent, attr))\n",
    "    aspect_pred.append((ent_pred, attr_pred))\n",
    "    pred_items.append((ent, ent_pred, ent_text, attr, attr_pred, attr_text))"
   ]
  },
  {
   "cell_type": "code",
   "execution_count": 7,
   "metadata": {},
   "outputs": [],
   "source": [
    "preds = pd.DataFrame.from_records(pred_items, columns=\"ent,ent_pred,ent_text,attr,attr_pred,attr_text\".split(\",\"))"
   ]
  },
  {
   "cell_type": "code",
   "execution_count": 8,
   "metadata": {},
   "outputs": [
    {
     "name": "stderr",
     "output_type": "stream",
     "text": [
      "[INFO] 2021-07-06 17:26:18,272 numexpr.utils: NumExpr defaulting to 8 threads.\n"
     ]
    },
    {
     "data": {
      "text/html": [
       "<div>\n",
       "<style scoped>\n",
       "    .dataframe tbody tr th:only-of-type {\n",
       "        vertical-align: middle;\n",
       "    }\n",
       "\n",
       "    .dataframe tbody tr th {\n",
       "        vertical-align: top;\n",
       "    }\n",
       "\n",
       "    .dataframe thead th {\n",
       "        text-align: right;\n",
       "    }\n",
       "</style>\n",
       "<table border=\"1\" class=\"dataframe\">\n",
       "  <thead>\n",
       "    <tr style=\"text-align: right;\">\n",
       "      <th>attr_pred</th>\n",
       "      <th>[通訊]網速</th>\n",
       "    </tr>\n",
       "    <tr>\n",
       "      <th>attr</th>\n",
       "      <th></th>\n",
       "    </tr>\n",
       "  </thead>\n",
       "  <tbody>\n",
       "    <tr>\n",
       "      <th>[通訊]國內電信漫遊</th>\n",
       "      <td>3</td>\n",
       "    </tr>\n",
       "    <tr>\n",
       "      <th>[通訊]涵蓋</th>\n",
       "      <td>101</td>\n",
       "    </tr>\n",
       "    <tr>\n",
       "      <th>[通訊]網速</th>\n",
       "      <td>69</td>\n",
       "    </tr>\n",
       "    <tr>\n",
       "      <th>[通訊]頻段</th>\n",
       "      <td>3</td>\n",
       "    </tr>\n",
       "  </tbody>\n",
       "</table>\n",
       "</div>"
      ],
      "text/plain": [
       "attr_pred   [通訊]網速\n",
       "attr              \n",
       "[通訊]國內電信漫遊       3\n",
       "[通訊]涵蓋         101\n",
       "[通訊]網速          69\n",
       "[通訊]頻段           3"
      ]
     },
     "execution_count": 8,
     "metadata": {},
     "output_type": "execute_result"
    }
   ],
   "source": [
    "data5g = preds.loc[preds.attr_text == \"訊號\"]\n",
    "pd.crosstab(data5g.attr, data5g.attr_pred)"
   ]
  },
  {
   "cell_type": "code",
   "execution_count": 9,
   "metadata": {},
   "outputs": [
    {
     "data": {
      "text/html": [
       "<div>\n",
       "<style scoped>\n",
       "    .dataframe tbody tr th:only-of-type {\n",
       "        vertical-align: middle;\n",
       "    }\n",
       "\n",
       "    .dataframe tbody tr th {\n",
       "        vertical-align: top;\n",
       "    }\n",
       "\n",
       "    .dataframe thead th {\n",
       "        text-align: right;\n",
       "    }\n",
       "</style>\n",
       "<table border=\"1\" class=\"dataframe\">\n",
       "  <thead>\n",
       "    <tr style=\"text-align: right;\">\n",
       "      <th></th>\n",
       "      <th>ent</th>\n",
       "      <th>ent_pred</th>\n",
       "      <th>ent_text</th>\n",
       "      <th>attr</th>\n",
       "      <th>attr_pred</th>\n",
       "      <th>attr_text</th>\n",
       "    </tr>\n",
       "  </thead>\n",
       "  <tbody>\n",
       "    <tr>\n",
       "      <th>74</th>\n",
       "      <td>遠傳電信</td>\n",
       "      <td>遠傳電信</td>\n",
       "      <td>遠傳</td>\n",
       "      <td>[資費]續約攜碼</td>\n",
       "      <td>[資費]低資費方案</td>\n",
       "      <td>月租999</td>\n",
       "    </tr>\n",
       "    <tr>\n",
       "      <th>213</th>\n",
       "      <td>遠傳電信</td>\n",
       "      <td>遠傳電信</td>\n",
       "      <td>遠傳</td>\n",
       "      <td>[資費]續約攜碼</td>\n",
       "      <td>[資費]方案活動</td>\n",
       "      <td>資費</td>\n",
       "    </tr>\n",
       "    <tr>\n",
       "      <th>214</th>\n",
       "      <td>遠傳電信</td>\n",
       "      <td>遠傳電信</td>\n",
       "      <td>遠傳</td>\n",
       "      <td>[資費]續約攜碼</td>\n",
       "      <td>[資費]方案活動</td>\n",
       "      <td>588退傭</td>\n",
       "    </tr>\n",
       "    <tr>\n",
       "      <th>281</th>\n",
       "      <td>台灣之星</td>\n",
       "      <td>台灣之星</td>\n",
       "      <td>台星</td>\n",
       "      <td>[資費]續約攜碼</td>\n",
       "      <td>[資費]方案活動</td>\n",
       "      <td>188續約</td>\n",
       "    </tr>\n",
       "    <tr>\n",
       "      <th>329</th>\n",
       "      <td>中華電信</td>\n",
       "      <td>中華電信</td>\n",
       "      <td>中華</td>\n",
       "      <td>[資費]續約攜碼</td>\n",
       "      <td>[通訊]網速</td>\n",
       "      <td>可連接性</td>\n",
       "    </tr>\n",
       "    <tr>\n",
       "      <th>511</th>\n",
       "      <td>中華電信</td>\n",
       "      <td>中華電信</td>\n",
       "      <td>中華</td>\n",
       "      <td>[資費]續約攜碼</td>\n",
       "      <td>[資費]方案活動</td>\n",
       "      <td>488或588</td>\n",
       "    </tr>\n",
       "    <tr>\n",
       "      <th>512</th>\n",
       "      <td>中華電信</td>\n",
       "      <td>中華電信</td>\n",
       "      <td>中華</td>\n",
       "      <td>[資費]續約攜碼</td>\n",
       "      <td>[資費]方案活動</td>\n",
       "      <td>488</td>\n",
       "    </tr>\n",
       "    <tr>\n",
       "      <th>513</th>\n",
       "      <td>中華電信</td>\n",
       "      <td>中華電信</td>\n",
       "      <td>中華</td>\n",
       "      <td>[資費]續約攜碼</td>\n",
       "      <td>[資費]方案活動</td>\n",
       "      <td>488</td>\n",
       "    </tr>\n",
       "    <tr>\n",
       "      <th>515</th>\n",
       "      <td>中華電信</td>\n",
       "      <td>中華電信</td>\n",
       "      <td>中華</td>\n",
       "      <td>[資費]續約攜碼</td>\n",
       "      <td>[資費]方案活動</td>\n",
       "      <td>588</td>\n",
       "    </tr>\n",
       "    <tr>\n",
       "      <th>932</th>\n",
       "      <td>台灣之星</td>\n",
       "      <td>台灣之星</td>\n",
       "      <td>台星</td>\n",
       "      <td>[資費]續約攜碼</td>\n",
       "      <td>[資費]方案活動</td>\n",
       "      <td>續約iphone之類的方案</td>\n",
       "    </tr>\n",
       "    <tr>\n",
       "      <th>1289</th>\n",
       "      <td>中華電信</td>\n",
       "      <td>中華電信</td>\n",
       "      <td>中華</td>\n",
       "      <td>[資費]續約攜碼</td>\n",
       "      <td>[資費]方案活動</td>\n",
       "      <td>-50</td>\n",
       "    </tr>\n",
       "    <tr>\n",
       "      <th>1332</th>\n",
       "      <td>遠傳電信</td>\n",
       "      <td>遠傳電信</td>\n",
       "      <td>遠傳</td>\n",
       "      <td>[資費]續約攜碼</td>\n",
       "      <td>[通訊]國內電信漫遊</td>\n",
       "      <td>跳來跳去</td>\n",
       "    </tr>\n",
       "  </tbody>\n",
       "</table>\n",
       "</div>"
      ],
      "text/plain": [
       "       ent ent_pred ent_text      attr   attr_pred      attr_text\n",
       "74    遠傳電信     遠傳電信       遠傳  [資費]續約攜碼   [資費]低資費方案          月租999\n",
       "213   遠傳電信     遠傳電信       遠傳  [資費]續約攜碼    [資費]方案活動             資費\n",
       "214   遠傳電信     遠傳電信       遠傳  [資費]續約攜碼    [資費]方案活動          588退傭\n",
       "281   台灣之星     台灣之星       台星  [資費]續約攜碼    [資費]方案活動          188續約\n",
       "329   中華電信     中華電信       中華  [資費]續約攜碼      [通訊]網速           可連接性\n",
       "511   中華電信     中華電信       中華  [資費]續約攜碼    [資費]方案活動        488或588\n",
       "512   中華電信     中華電信       中華  [資費]續約攜碼    [資費]方案活動            488\n",
       "513   中華電信     中華電信       中華  [資費]續約攜碼    [資費]方案活動            488\n",
       "515   中華電信     中華電信       中華  [資費]續約攜碼    [資費]方案活動            588\n",
       "932   台灣之星     台灣之星       台星  [資費]續約攜碼    [資費]方案活動  續約iphone之類的方案\n",
       "1289  中華電信     中華電信       中華  [資費]續約攜碼    [資費]方案活動            -50\n",
       "1332  遠傳電信     遠傳電信       遠傳  [資費]續約攜碼  [通訊]國內電信漫遊           跳來跳去"
      ]
     },
     "execution_count": 9,
     "metadata": {},
     "output_type": "execute_result"
    }
   ],
   "source": [
    "preds.loc[(preds.attr==\"[資費]續約攜碼\") & (preds.attr!=preds.attr_pred), :]"
   ]
  },
  {
   "cell_type": "code",
   "execution_count": 10,
   "metadata": {},
   "outputs": [
    {
     "name": "stdout",
     "output_type": "stream",
     "text": [
      "              precision    recall  f1-score   support\n",
      "\n",
      "        中華電信       0.96      1.00      0.98      1060\n",
      "        亞太電信       1.00      0.97      0.99       105\n",
      "        台灣之星       0.99      0.97      0.98       154\n",
      "       台灣大哥大       1.00      0.94      0.97       216\n",
      "        遠傳電信       1.00      0.89      0.94       236\n",
      "\n",
      "    accuracy                           0.97      1771\n",
      "   macro avg       0.99      0.95      0.97      1771\n",
      "weighted avg       0.97      0.97      0.97      1771\n",
      "\n"
     ]
    }
   ],
   "source": [
    "print(classification_report([x[0] for x in aspect_ans], [x[0] for x in aspect_pred]))"
   ]
  },
  {
   "cell_type": "code",
   "execution_count": 11,
   "metadata": {},
   "outputs": [
    {
     "name": "stdout",
     "output_type": "stream",
     "text": [
      "              precision    recall  f1-score   support\n",
      "\n",
      "        [其他]       0.79      0.57      0.66       102\n",
      "        [加值]       0.52      0.84      0.64       118\n",
      "        [資費]       0.83      0.85      0.84       482\n",
      "        [通訊]       0.94      0.89      0.91      1069\n",
      "\n",
      "    accuracy                           0.86      1771\n",
      "   macro avg       0.77      0.79      0.77      1771\n",
      "weighted avg       0.87      0.86      0.86      1771\n",
      "\n"
     ]
    }
   ],
   "source": [
    "print(classification_report([x[1][:4] for x in aspect_ans], [x[1][:4] for x in aspect_pred]))"
   ]
  },
  {
   "cell_type": "code",
   "execution_count": 12,
   "metadata": {},
   "outputs": [
    {
     "name": "stdout",
     "output_type": "stream",
     "text": [
      "              precision    recall  f1-score   support\n",
      "\n",
      "      [其他]固網       0.57      0.80      0.67        10\n",
      "      [其他]客服       0.93      0.59      0.72        44\n",
      "    [其他]帳單繳費       1.00      0.08      0.14        13\n",
      "      [其他]手機       0.73      0.69      0.71        32\n",
      "      [其他]資安       0.00      0.00      0.00         3\n",
      "    [加值]esim       0.17      0.20      0.18         5\n",
      "  [加值]vowifi       0.47      0.54      0.50        13\n",
      "    [加值]來電答鈴       1.00      0.67      0.80         3\n",
      "    [加值]國際漫遊       0.52      0.78      0.62        18\n",
      "    [加值]影音娛樂       0.63      0.65      0.64        48\n",
      "    [加值]手機保險       0.00      0.00      0.00         2\n",
      "    [加值]智慧音箱       0.00      0.00      0.00         0\n",
      "     [加值]物聯網       0.00      0.00      0.00         0\n",
      "    [加值]行動支付       0.23      0.33      0.27        18\n",
      "   [加值]電信APP       0.04      0.18      0.06        11\n",
      "   [資費]低資費方案       0.28      0.57      0.37        42\n",
      "      [資費]升級       0.00      0.00      0.00        10\n",
      "    [資費]方案活動       0.72      0.75      0.73       337\n",
      "     [資費]月租費       0.41      0.17      0.24        64\n",
      "    [資費]續約攜碼       0.61      0.59      0.60        29\n",
      "  [通訊]國內電信漫遊       0.00      0.00      0.00         9\n",
      "      [通訊]涵蓋       0.73      0.49      0.58       387\n",
      "      [通訊]網速       0.65      0.82      0.72       565\n",
      "      [通訊]限速       1.00      0.32      0.48        25\n",
      "      [通訊]頻段       0.76      0.16      0.26        83\n",
      "\n",
      "    accuracy                           0.62      1771\n",
      "   macro avg       0.46      0.37      0.37      1771\n",
      "weighted avg       0.66      0.62      0.61      1771\n",
      "\n"
     ]
    }
   ],
   "source": [
    "srv_ans = [x[1] for x in aspect_ans]\n",
    "srv_pred = [x[1] for x in aspect_pred]\n",
    "print(classification_report(srv_ans, srv_pred, zero_division=0))"
   ]
  },
  {
   "cell_type": "code",
   "execution_count": 13,
   "metadata": {},
   "outputs": [
    {
     "name": "stdout",
     "output_type": "stream",
     "text": [
      "              precision    recall  f1-score   support\n",
      "\n",
      "      [其他]固網       0.57      0.80      0.67        10\n",
      "      [其他]客服       0.93      0.59      0.72        44\n",
      "    [其他]帳單繳費       1.00      0.08      0.14        13\n",
      "      [其他]手機       0.73      0.69      0.71        32\n",
      "      [其他]資安       0.00      0.00      0.00         3\n",
      "    [加值]esim       0.17      0.20      0.18         5\n",
      "  [加值]vowifi       0.47      0.54      0.50        13\n",
      "    [加值]來電答鈴       1.00      0.67      0.80         3\n",
      "    [加值]國際漫遊       0.52      0.78      0.62        18\n",
      "    [加值]影音娛樂       0.63      0.65      0.64        48\n",
      "    [加值]手機保險       0.00      0.00      0.00         2\n",
      "    [加值]智慧音箱       0.00      0.00      0.00         0\n",
      "     [加值]物聯網       0.00      0.00      0.00         0\n",
      "    [加值]行動支付       0.23      0.33      0.27        18\n",
      "   [加值]電信APP       0.04      0.18      0.06        11\n",
      "      [資費]升級       0.00      0.00      0.00        10\n",
      "    [資費]方案活動       0.71      0.83      0.76       379\n",
      "     [資費]月租費       0.41      0.17      0.24        64\n",
      "    [資費]續約攜碼       0.61      0.59      0.60        29\n",
      "  [通訊]國內電信漫遊       0.00      0.00      0.00         9\n",
      "      [通訊]網速       0.88      0.89      0.88       952\n",
      "      [通訊]限速       1.00      0.32      0.48        25\n",
      "      [通訊]頻段       0.76      0.16      0.26        83\n",
      "\n",
      "    accuracy                           0.75      1771\n",
      "   macro avg       0.46      0.37      0.37      1771\n",
      "weighted avg       0.77      0.75      0.74      1771\n",
      "\n"
     ]
    }
   ],
   "source": [
    "srv_mapper = {\"[通訊]涵蓋\": \"[通訊]網速\", \"[資費]低資費方案\": \"[資費]方案活動\"}\n",
    "srv_ans_2 = [srv_mapper.get(x, x) for x in srv_ans]\n",
    "srv_pred_2 = [srv_mapper.get(x, x) for x in srv_pred]\n",
    "print(classification_report(srv_ans_2, srv_pred_2, zero_division=0))"
   ]
  },
  {
   "cell_type": "code",
   "execution_count": 14,
   "metadata": {},
   "outputs": [],
   "source": [
    "with open(casa.get_data_path() / \n",
    "          \"models/bert_aspect_extraction/benchmark_predictions.json\", 'r', encoding=\"UTF-8\") as fin:\n",
    "    bdata = json.load(fin)"
   ]
  },
  {
   "cell_type": "code",
   "execution_count": 30,
   "metadata": {},
   "outputs": [
    {
     "data": {
      "text/plain": [
       "{'entity': ['中華電信', '無框行動', '台灣大哥大', '遠傳電信', '亞太電信', '台灣之星'],\n",
       " 'entity_probs': array([0.93761204, 0.01317898, 0.01302011, 0.01284649, 0.01182457,\n",
       "        0.01151781]),\n",
       " 'service': [('通訊品質', '限速'),\n",
       "  ('加值服務', '電信APP'),\n",
       "  ('資費方案', '月租費'),\n",
       "  ('資費方案', '方案活動'),\n",
       "  ('通訊品質', '網速')],\n",
       " 'service_probs': array([0.06958488, 0.05686023, 0.05511549, 0.05511549, 0.05157847]),\n",
       " 'seeds': ['100G限速', 'CARPLAY', '月租費', '綁約', '尖峰'],\n",
       " 'seed_probs': array([0.0253839 , 0.02074207, 0.0201056 , 0.0201056 , 0.01881533])}"
      ]
     },
     "execution_count": 30,
     "metadata": {},
     "output_type": "execute_result"
    }
   ],
   "source": [
    "cadet.detect(\"瑞普·特爾傑 - 我是不是這個月載太多遊戲包被中華電信限速了\")"
   ]
  },
  {
   "cell_type": "code",
   "execution_count": null,
   "metadata": {},
   "outputs": [],
   "source": []
  }
 ],
 "metadata": {
  "kernelspec": {
   "display_name": "Python 3",
   "language": "python",
   "name": "python3"
  },
  "language_info": {
   "codemirror_mode": {
    "name": "ipython",
    "version": 3
   },
   "file_extension": ".py",
   "mimetype": "text/x-python",
   "name": "python",
   "nbconvert_exporter": "python",
   "pygments_lexer": "ipython3",
   "version": "3.8.2"
  }
 },
 "nbformat": 4,
 "nbformat_minor": 4
}

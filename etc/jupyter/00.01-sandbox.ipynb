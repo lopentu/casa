{
 "cells": [
  {
   "cell_type": "code",
   "execution_count": 3,
   "metadata": {},
   "outputs": [],
   "source": [
    "import pandas as pd\n",
    "import glob\n",
    "from import_casa import casa"
   ]
  },
  {
   "cell_type": "code",
   "execution_count": 7,
   "metadata": {},
   "outputs": [],
   "source": [
    "xlsx_list = glob.glob(str(casa.get_data_path() / \"cht-raw-data/*.xlsx\"))"
   ]
  },
  {
   "cell_type": "code",
   "execution_count": 8,
   "metadata": {},
   "outputs": [
    {
     "name": "stdout",
     "output_type": "stream",
     "text": [
      "processing E:\\LangOn\\casa\\data\\cht-raw-data\\10901.xlsx\n",
      "processing E:\\LangOn\\casa\\data\\cht-raw-data\\10902.xlsx\n",
      "processing E:\\LangOn\\casa\\data\\cht-raw-data\\10903.xlsx\n",
      "processing E:\\LangOn\\casa\\data\\cht-raw-data\\10904.xlsx\n",
      "processing E:\\LangOn\\casa\\data\\cht-raw-data\\10906.xlsx\n",
      "processing E:\\LangOn\\casa\\data\\cht-raw-data\\10907.xlsx\n",
      "processing E:\\LangOn\\casa\\data\\cht-raw-data\\10908.xlsx\n",
      "processing E:\\LangOn\\casa\\data\\cht-raw-data\\10910.xlsx\n",
      "processing E:\\LangOn\\casa\\data\\cht-raw-data\\10911_1.xlsx\n",
      "processing E:\\LangOn\\casa\\data\\cht-raw-data\\10911_2.xlsx\n",
      "processing E:\\LangOn\\casa\\data\\cht-raw-data\\10912.xlsx\n"
     ]
    }
   ],
   "source": [
    "for f in xlsx_list:\n",
    "    print(\"processing\", f)\n",
    "    data = pd.read_excel(f, sheet_name=0)\n",
    "    data.to_csv(f.replace(\".xlsx\", \".csv\"), index=False)"
   ]
  },
  {
   "cell_type": "code",
   "execution_count": 12,
   "metadata": {},
   "outputs": [
    {
     "name": "stdout",
     "output_type": "stream",
     "text": [
      "processing E:\\LangOn\\casa\\data\\threads\\10901.pkl\n",
      "processing E:\\LangOn\\casa\\data\\threads\\10902.pkl\n",
      "processing E:\\LangOn\\casa\\data\\threads\\10903.pkl\n",
      "processing E:\\LangOn\\casa\\data\\threads\\10904.pkl\n",
      "processing E:\\LangOn\\casa\\data\\threads\\10906.pkl\n",
      "processing E:\\LangOn\\casa\\data\\threads\\10907.pkl\n",
      "processing E:\\LangOn\\casa\\data\\threads\\10908.pkl\n",
      "processing E:\\LangOn\\casa\\data\\threads\\10910.pkl\n",
      "processing E:\\LangOn\\casa\\data\\threads\\10911_1.pkl\n",
      "processing E:\\LangOn\\casa\\data\\threads\\10911_2.pkl\n",
      "processing E:\\LangOn\\casa\\data\\threads\\10912.pkl\n"
     ]
    }
   ],
   "source": [
    "import pickle\n",
    "threads = []\n",
    "for f in glob.glob(str(casa.get_data_path() / \"threads/*.pkl\")):\n",
    "    print(\"processing\", f)\n",
    "    fin = open(f, \"rb\")\n",
    "    threads.extend(pickle.load(fin))\n",
    "    fin.close()"
   ]
  },
  {
   "cell_type": "code",
   "execution_count": 20,
   "metadata": {},
   "outputs": [],
   "source": [
    "with open(casa.get_data_path() / \"threads/cht-2020-merged.pkl\", \"wb\") as fout:\n",
    "    pickle.dump(threads, fout)\n"
   ]
  },
  {
   "cell_type": "code",
   "execution_count": null,
   "metadata": {},
   "outputs": [],
   "source": []
  }
 ],
 "metadata": {
  "kernelspec": {
   "display_name": "Python 3",
   "language": "python",
   "name": "python3"
  },
  "language_info": {
   "codemirror_mode": {
    "name": "ipython",
    "version": 3
   },
   "file_extension": ".py",
   "mimetype": "text/x-python",
   "name": "python",
   "nbconvert_exporter": "python",
   "pygments_lexer": "ipython3",
   "version": "3.8.2"
  }
 },
 "nbformat": 4,
 "nbformat_minor": 4
}

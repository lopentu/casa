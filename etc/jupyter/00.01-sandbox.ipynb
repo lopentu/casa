{
 "cells": [
  {
   "cell_type": "code",
   "execution_count": 2,
   "metadata": {},
   "outputs": [],
   "source": [
    "import pandas as pd\n",
    "import glob\n",
    "from import_casa import casa"
   ]
  },
  {
   "cell_type": "code",
   "execution_count": 7,
   "metadata": {},
   "outputs": [],
   "source": [
    "xlsx_list = glob.glob(str(casa.get_data_path() / \"cht-raw-data/*.xlsx\"))"
   ]
  },
  {
   "cell_type": "code",
   "execution_count": 8,
   "metadata": {},
   "outputs": [
    {
     "name": "stdout",
     "output_type": "stream",
     "text": [
      "processing E:\\LangOn\\casa\\data\\cht-raw-data\\10901.xlsx\n",
      "processing E:\\LangOn\\casa\\data\\cht-raw-data\\10902.xlsx\n",
      "processing E:\\LangOn\\casa\\data\\cht-raw-data\\10903.xlsx\n",
      "processing E:\\LangOn\\casa\\data\\cht-raw-data\\10904.xlsx\n",
      "processing E:\\LangOn\\casa\\data\\cht-raw-data\\10906.xlsx\n",
      "processing E:\\LangOn\\casa\\data\\cht-raw-data\\10907.xlsx\n",
      "processing E:\\LangOn\\casa\\data\\cht-raw-data\\10908.xlsx\n",
      "processing E:\\LangOn\\casa\\data\\cht-raw-data\\10910.xlsx\n",
      "processing E:\\LangOn\\casa\\data\\cht-raw-data\\10911_1.xlsx\n",
      "processing E:\\LangOn\\casa\\data\\cht-raw-data\\10911_2.xlsx\n",
      "processing E:\\LangOn\\casa\\data\\cht-raw-data\\10912.xlsx\n"
     ]
    }
   ],
   "source": [
    "for f in xlsx_list:\n",
    "    print(\"processing\", f)\n",
    "    data = pd.read_excel(f, sheet_name=0)\n",
    "    data.to_csv(f.replace(\".xlsx\", \".csv\"), index=False)"
   ]
  },
  {
   "cell_type": "code",
   "execution_count": 12,
   "metadata": {},
   "outputs": [
    {
     "name": "stdout",
     "output_type": "stream",
     "text": [
      "processing E:\\LangOn\\casa\\data\\threads\\10901.pkl\n",
      "processing E:\\LangOn\\casa\\data\\threads\\10902.pkl\n",
      "processing E:\\LangOn\\casa\\data\\threads\\10903.pkl\n",
      "processing E:\\LangOn\\casa\\data\\threads\\10904.pkl\n",
      "processing E:\\LangOn\\casa\\data\\threads\\10906.pkl\n",
      "processing E:\\LangOn\\casa\\data\\threads\\10907.pkl\n",
      "processing E:\\LangOn\\casa\\data\\threads\\10908.pkl\n",
      "processing E:\\LangOn\\casa\\data\\threads\\10910.pkl\n",
      "processing E:\\LangOn\\casa\\data\\threads\\10911_1.pkl\n",
      "processing E:\\LangOn\\casa\\data\\threads\\10911_2.pkl\n",
      "processing E:\\LangOn\\casa\\data\\threads\\10912.pkl\n"
     ]
    }
   ],
   "source": [
    "import pickle\n",
    "threads = []\n",
    "for f in glob.glob(str(casa.get_data_path() / \"threads/*.pkl\")):\n",
    "    print(\"processing\", f)\n",
    "    fin = open(f, \"rb\")\n",
    "    threads.extend(pickle.load(fin))\n",
    "    fin.close()"
   ]
  },
  {
   "cell_type": "code",
   "execution_count": 20,
   "metadata": {},
   "outputs": [],
   "source": [
    "with open(casa.get_data_path() / \"threads/cht-2020-merged.pkl\", \"wb\") as fout:\n",
    "    pickle.dump(threads, fout)\n"
   ]
  },
  {
   "cell_type": "code",
   "execution_count": 59,
   "metadata": {},
   "outputs": [],
   "source": [
    "import pickle\n",
    "with open(casa.get_data_path() / \"raw-data-cht-202010.pkl\", \"rb\") as fin:\n",
    "# with open(casa.get_data_path() / \"threads/cht-2020-merged.pkl\", \"rb\") as fin:    \n",
    "    threads = pickle.load(fin)\n"
   ]
  },
  {
   "cell_type": "code",
   "execution_count": 60,
   "metadata": {},
   "outputs": [
    {
     "name": "stdout",
     "output_type": "stream",
     "text": [
      "Number of threads:  7772\n",
      "Number of opinions:  40135\n",
      "Number of characters:  2852841\n"
     ]
    }
   ],
   "source": [
    "from itertools import chain\n",
    "print(\"Number of threads: \", len(threads))\n",
    "print(\"Number of opinions: \", sum((len(x.replies) + bool(x.main)) for x in threads))\n",
    "print(\"Number of characters: \", sum(len(y) for x in threads for y in chain.from_iterable(x.opinion_texts())))"
   ]
  },
  {
   "cell_type": "code",
   "execution_count": 61,
   "metadata": {},
   "outputs": [
    {
     "data": {
      "text/plain": [
       "[('mobile01', 2416),\n",
       " ('Ptt', 1947),\n",
       " ('facebook粉絲團', 1045),\n",
       " ('Dcard', 679),\n",
       " ('ePrice比價王', 386),\n",
       " ('Plurk搜尋', 284),\n",
       " ('伊莉討論區', 249),\n",
       " ('巴哈姆特哈拉區', 162),\n",
       " ('TWitter搜尋', 124),\n",
       " ('Google Play App 評價', 68)]"
      ]
     },
     "execution_count": 61,
     "metadata": {},
     "output_type": "execute_result"
    }
   ],
   "source": [
    "from collections import Counter\n",
    "Counter(x.source for x in threads).most_common(10)"
   ]
  },
  {
   "cell_type": "code",
   "execution_count": 30,
   "metadata": {},
   "outputs": [
    {
     "data": {
      "text/plain": [
       "[['買通',\n",
       "  '訊行',\n",
       "  'NOTE ',\n",
       "  '20',\n",
       "  ' ',\n",
       "  '可',\n",
       "  '登錄',\n",
       "  '送',\n",
       "  '耳機',\n",
       "  '嗎',\n",
       "  '？',\n",
       "  '不能',\n",
       "  ' ',\n",
       "  '要',\n",
       "  '在',\n",
       "  '三星',\n",
       "  '合作',\n",
       "  '通路',\n",
       "  '買',\n",
       "  '才',\n",
       "  '能',\n",
       "  '登錄',\n",
       "  '購機禮',\n",
       "  ' ',\n",
       "  '合作',\n",
       "  '通路',\n",
       "  '(',\n",
       "  '實體店',\n",
       "  ')',\n",
       "  '：',\n",
       "  '三星',\n",
       "  '智慧館',\n",
       "  '，',\n",
       "  '中華',\n",
       "  '電信',\n",
       "  '，',\n",
       "  '台灣',\n",
       "  '大哥大',\n",
       "  '，',\n",
       "  '遠傳',\n",
       "  '電信',\n",
       "  '，',\n",
       "  '亞太',\n",
       "  '電信',\n",
       "  '，',\n",
       "  '台灣',\n",
       "  '之',\n",
       "  '星',\n",
       "  '合作',\n",
       "  '通路',\n",
       "  '(',\n",
       "  '線上',\n",
       "  ')',\n",
       "  '：',\n",
       "  '三星',\n",
       "  '商城',\n",
       "  '，',\n",
       "  'pchome',\n",
       "  '24',\n",
       "  '購物',\n",
       "  '，',\n",
       "  'Yahoo',\n",
       "  '購物',\n",
       "  '中心',\n",
       "  '，',\n",
       "  'momo',\n",
       "  '購物網',\n",
       "  '，',\n",
       "  '東森',\n",
       "  '購物',\n",
       "  '，',\n",
       "  '蝦皮',\n",
       "  '商城',\n",
       "  '(',\n",
       "  '注意',\n",
       "  '是',\n",
       "  '官方',\n",
       "  '的',\n",
       "  '蝦皮',\n",
       "  '商城',\n",
       "  '跟',\n",
       "  '一般',\n",
       "  '的',\n",
       "  '賣家',\n",
       "  '買',\n",
       "  '的',\n",
       "  '不行',\n",
       "  '喔',\n",
       "  ')',\n",
       "  '，',\n",
       "  '全國',\n",
       "  '電子',\n",
       "  '，',\n",
       "  '順發',\n",
       "  '購物網',\n",
       "  '，',\n",
       "  '神腦',\n",
       "  '生活',\n",
       "  '，',\n",
       "  'myfone',\n",
       "  '購物',\n",
       "  '，',\n",
       "  'friday',\n",
       "  '購物',\n",
       "  ' ',\n",
       "  '其他',\n",
       "  '地方',\n",
       "  '購買',\n",
       "  '的',\n",
       "  '就算',\n",
       "  '有',\n",
       "  '購買',\n",
       "  '証明',\n",
       "  ' ',\n",
       "  '也',\n",
       "  '會',\n",
       "  '審核',\n",
       "  '失敗',\n",
       "  '喔',\n",
       "  ' ',\n",
       "  '給',\n",
       "  '樓主',\n",
       "  '參考']]"
      ]
     },
     "execution_count": 30,
     "metadata": {},
     "output_type": "execute_result"
    }
   ],
   "source": [
    "list(threads[545].opinion_tokens())"
   ]
  },
  {
   "cell_type": "code",
   "execution_count": 16,
   "metadata": {},
   "outputs": [
    {
     "data": {
      "text/plain": [
       "['#問題 499母親節方案要續約嗎\\u3000最近各家電信一直打電話傳簡訊詢問要不要續約 有夠煩的但畢竟合約有30個月 而5G未來會普及也是不變事實(?想問板上大大覺得要續約嗎？還是等合約到期 直接續488學生方案呢？',\n",
       " '續',\n",
       " 'B1 怎麼說',\n",
       " '5g現在還不穩定 現在辦5g繳5g的錢只能享受4g ，5g全台基地台只有某些地方比較穩 甚至有些地方連4g都有問題 可能還要1.2年才會普及 個人看法',\n",
       " 'B3 所以也不建議現在就換5g手機囉？',\n",
       " '換5g手機可以 但是5g網路可以再等等 如果1.2年內不會申辦5g網路 覺得拿4g手機就夠用了 B4',\n",
       " 'B5 好的~',\n",
       " '我自己 還有家人和同學 都是續30個月 B6',\n",
       " '等1111',\n",
       " 'B8 1111是手機方案到期日嗎😂',\n",
       " 'B9各大電信優惠日']"
      ]
     },
     "execution_count": 16,
     "metadata": {},
     "output_type": "execute_result"
    }
   ],
   "source": [
    "list(threads[0].opinion_texts())"
   ]
  },
  {
   "cell_type": "code",
   "execution_count": null,
   "metadata": {},
   "outputs": [],
   "source": []
  }
 ],
 "metadata": {
  "kernelspec": {
   "display_name": "Python 3",
   "language": "python",
   "name": "python3"
  },
  "language_info": {
   "codemirror_mode": {
    "name": "ipython",
    "version": 3
   },
   "file_extension": ".py",
   "mimetype": "text/x-python",
   "name": "python",
   "nbconvert_exporter": "python",
   "pygments_lexer": "ipython3",
   "version": "3.8.2"
  }
 },
 "nbformat": 4,
 "nbformat_minor": 4
}

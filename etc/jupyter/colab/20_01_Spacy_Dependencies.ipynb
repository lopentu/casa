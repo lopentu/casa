{
  "nbformat": 4,
  "nbformat_minor": 0,
  "metadata": {
    "colab": {
      "name": "20.01-Spacy Dependencies",
      "provenance": []
    },
    "kernelspec": {
      "name": "python3",
      "display_name": "Python 3"
    },
    "accelerator": "GPU"
  },
  "cells": [
    {
      "cell_type": "markdown",
      "metadata": {
        "id": "--4JQOnHJmFp"
      },
      "source": [
        "\n",
        "*   Preproc\n",
        "1. Mounting drive\n",
        "2. Git clone casa dir \n",
        "3. restart runtime after installing new spaCy\n",
        "*   Proc\n",
        "1. Get segs\n",
        "2. feed segs into SpaCy model   \n",
        "3. Pickle the token.infos needed"
      ]
    },
    {
      "cell_type": "code",
      "metadata": {
        "id": "ha6J68sssEdH"
      },
      "source": [
        "# colab default spaCy needs to be upgraded before using zh_core_web_sm\n",
        "!pip install --upgrade spacy\n",
        "!python -m spacy download zh_core_web_sm\n",
        "### Restart runtime after downloading else loading model will throw error"
      ],
      "execution_count": null,
      "outputs": []
    },
    {
      "cell_type": "code",
      "metadata": {
        "colab": {
          "base_uri": "https://localhost:8080/"
        },
        "id": "MiWu70XYoFWB",
        "outputId": "34eb5521-e17e-4c45-ba33-1dfb3fc2f2d2"
      },
      "source": [
        "# https://drive.google.com/drive/u/0/folders/1hJQy62ZarJnrF5UTzR_tKN452my-8n2t\n",
        "from google.colab import drive\n",
        "drive.mount('/content/drive')"
      ],
      "execution_count": 1,
      "outputs": [
        {
          "output_type": "stream",
          "text": [
            "Drive already mounted at /content/drive; to attempt to forcibly remount, call drive.mount(\"/content/drive\", force_remount=True).\n"
          ],
          "name": "stdout"
        }
      ]
    },
    {
      "cell_type": "code",
      "metadata": {
        "id": "VRJs_6JcwsaA"
      },
      "source": [
        "import getpass, os\n",
        "username = getpass.getpass(\"Github username: \")\n",
        "password = getpass.getpass(\"Github password: \")\n",
        "os.environ[\"CRED\"] = f\"{username}:{password}\"\n",
        "!git clone https://${CRED}@github.com/lopentu/casa\n",
        "del username, password\n",
        "!pip install -r /content/casa/requirements.txt"
      ],
      "execution_count": null,
      "outputs": []
    },
    {
      "cell_type": "code",
      "metadata": {
        "id": "p3dOcNQILeIZ"
      },
      "source": [
        "%load_ext autoreload\n",
        "%autoreload 2\n",
        "import pickle \n",
        "import sys\n",
        "sys.path = [\"/content/casa/src\"] + sys.path\n",
        "import casa"
      ],
      "execution_count": 2,
      "outputs": []
    },
    {
      "cell_type": "code",
      "metadata": {
        "colab": {
          "base_uri": "https://localhost:8080/"
        },
        "id": "UcOXlh8Eoj7F",
        "outputId": "4ff6c208-dd2b-4e15-c51d-ab6a3ad3a885"
      },
      "source": [
        "###!! Change the path if needed\n",
        "#path = '/content/drive/MyDrive/指向情緒案/data/raw-data-cht-202010.pkl'\n",
        "path = '/content/drive/MyDrive/指向情緒案/data/eda/ckip/raw-data-cht-202010.ckip.pkl'\n",
        "with open (path, 'rb') as File:\n",
        "  seg_threads = pickle.load(File)\n",
        "print(type(seg_threads))\n",
        "print(type(seg_threads[0]))"
      ],
      "execution_count": 3,
      "outputs": [
        {
          "output_type": "stream",
          "text": [
            "<class 'list'>\n",
            "<class 'casa.opinion_thread.OpinionThread'>\n"
          ],
          "name": "stdout"
        }
      ]
    },
    {
      "cell_type": "code",
      "metadata": {
        "id": "oLWv_DJRCeeb"
      },
      "source": [
        "import copy \n",
        "def make_tokens(temp):   \n",
        "    ''''input: list of seg tokens; return a list of tokens in one reply/title'''\n",
        "    # token.head.i: the index of the token in temp (token list), starting from 0\n",
        "    # print(token, token.pos_, token.dep_, token.head, token.head.i)\n",
        "    temp2 = ' '.join(temp)\n",
        "    doc = nlp({\"raw\": ''.join(temp2), \"words\": temp})\n",
        "    res = []\n",
        "    for token in doc:\n",
        "        tok = token.text\n",
        "        pos = str(token.pos_)\n",
        "        dep = str(token.dep_)\n",
        "        head = str(token.head)\n",
        "        head_ind = int(str(token.head.i))\n",
        "        res.append((tok, pos, dep, head, head_ind))\n",
        "    return res "
      ],
      "execution_count": 4,
      "outputs": []
    },
    {
      "cell_type": "code",
      "metadata": {
        "colab": {
          "base_uri": "https://localhost:8080/"
        },
        "id": "povfmurFplC5",
        "outputId": "665534f4-a9e0-4dba-cd4f-aee3c748c843"
      },
      "source": [
        "import spacy\n",
        "from spacy.lang.zh import Chinese\n",
        "from casa.custom_zh_defaults import CustomChineseDefaults\n",
        "Chinese.Defaults = CustomChineseDefaults\n",
        "nlp = spacy.load('zh_core_web_sm')\n",
        "# 斷詞後\n",
        "# https://stackoverflow.com/questions/50742516/how-to-get-the-index-of-a-token-in-a-sentence-in-spacy\n",
        "import time\n",
        "start_time = time.time()\n",
        "for thread in seg_threads: # len: 7772\n",
        "  if thread.main != None:\n",
        "    # doc = nlp({\"raw\": \"\".join(words), \"words\": words.split()})\n",
        "    temp = thread.main.text_tokens\n",
        "    if temp != None:\n",
        "      feed_to_title_tree = make_tokens(temp)\n",
        "      thread.main.title_tree = feed_to_title_tree\n",
        "      # .title_tree = [{token1, token1.dep_, token1.head, token1.head.i}, {token2, ...}]\n",
        "    else:\n",
        "      thread.main.title_tree = None\n",
        "  if thread.replies != None:\n",
        "      seg_replies = thread.replies\n",
        "      for i, reply in enumerate(seg_replies):\n",
        "        temp = reply.text_tokens # if temp is not []\n",
        "        if temp != None:\n",
        "          feed_to_text_tree = make_tokens(temp)\n",
        "        #print(make_tokens(temp))\n",
        "          thread.replies[i].text_tree = feed_to_text_tree\n",
        "        else:\n",
        "          thread.replies[i].text_tree = None\n",
        "print(\"--- %s seconds ---\" % (time.time() - start_time))\n",
        "    #for reply in thread.replies:"
      ],
      "execution_count": 8,
      "outputs": [
        {
          "output_type": "stream",
          "text": [
            "nlp <spacy.lang.zh.Chinese object at 0x7f0715339550>\n",
            "--- 400.2727336883545 seconds ---\n"
          ],
          "name": "stdout"
        }
      ]
    },
    {
      "cell_type": "code",
      "metadata": {
        "colab": {
          "base_uri": "https://localhost:8080/"
        },
        "id": "LrySa1mVL1i0",
        "outputId": "78d6b963-6fc6-47cc-8ad9-b30990c1f9c0"
      },
      "source": [
        "tree = seg_threads[9].replies[-1].text_tree\n",
        "print(type(tree[1][1]))\n",
        "print(tree)"
      ],
      "execution_count": 10,
      "outputs": [
        {
          "output_type": "stream",
          "text": [
            "<class 'str'>\n",
            "[('從', 'VERB', 'amod', 'hami video', 1), ('hami video', 'PROPN', 'nsubj', '進去', 2), ('進去', 'NOUN', 'ROOT', '進去', 2), ('Fox+', 'PROPN', 'compound:nn', '無法', 5), ('館', 'ADV', 'amod', '無法', 5), ('無法', 'NOUN', 'dobj', '進去', 2), ('看', 'VERB', 'conj', '進去', 2), ('直播', 'NOUN', 'dobj', '看', 6), ('，', 'PUNCT', 'punct', '進去', 2), ('要不要', 'ADV', 'nsubj', '趕快', 10), ('趕快', 'VERB', 'conj', '進去', 2), ('檢查', 'PROPN', 'dobj', '趕快', 10), ('哪', 'PRON', 'advmod', '對', 16), ('邊', 'VERB', 'mark:clf', '哪', 12), ('設定', 'VERB', 'dep', '哪', 12), ('不', 'ADV', 'neg', '對', 16), ('對', 'VERB', 'conj', '趕快', 10), ('？', 'PUNCT', 'punct', '進去', 2), ('看', 'VERB', 'dep', '～', 26), ('不', 'ADV', 'dep', '看', 18), ('到', 'VERB', 'dep', '看', 18), ('好', 'VERB', 'amod', '著急', 22), ('著急', 'NOUN', 'dobj', '看', 18), ('啊', 'PART', 'discourse', '看', 18), ('啊', 'PART', 'dep', '看', 18), ('啊', 'INTJ', 'discourse', '～', 26), ('～', 'PUNCT', 'ROOT', '～', 26)]\n"
          ],
          "name": "stdout"
        }
      ]
    },
    {
      "cell_type": "code",
      "metadata": {
        "id": "fOhkL7nrHrKq"
      },
      "source": [
        "# (怎麼說, 'VERB', 'advmod', B1 , 0)\n",
        "# head 是 B1"
      ],
      "execution_count": null,
      "outputs": []
    },
    {
      "cell_type": "markdown",
      "metadata": {
        "id": "A4u46_lLJdq1"
      },
      "source": [
        "##Saving outputs with pickle"
      ]
    },
    {
      "cell_type": "code",
      "metadata": {
        "id": "nhBh7jJVpWTd"
      },
      "source": [
        "import pickle\n",
        "\n",
        "!mkdir -p /content/drive/MyDrive/指向情緒案/data/eda/spaCy_pipeline # -p check if this dir not already exist \n",
        "filename = 'raw-data-cht-2020-ppline.pkl'\n",
        "with open(f\"/content/drive/MyDrive/指向情緒案/data/eda/spaCy_pipeline/{filename}\", \"wb\") as fout:\n",
        "    pickle.dump(seg_threads, fout)"
      ],
      "execution_count": 13,
      "outputs": []
    },
    {
      "cell_type": "code",
      "metadata": {
        "colab": {
          "base_uri": "https://localhost:8080/"
        },
        "id": "ckvuHn52Yf86",
        "outputId": "3c6662b1-2181-487d-c961-33e73597a7d2"
      },
      "source": [
        "# test pickling\n",
        "with open(f\"/content/drive/MyDrive/指向情緒案/data/eda/spaCy_pipeline/{filename}\", \"rb\") as fin:\n",
        "  new_threads = pickle.load(fin)\n",
        "print(new_threads[0].main.title_tree)\n",
        "print(new_threads[0].replies[2].text_tree)"
      ],
      "execution_count": 15,
      "outputs": [
        {
          "output_type": "stream",
          "text": [
            "[('最近', 'NOUN', 'nmod:tmod', '打電話', 5), ('各', 'DET', 'det', '電信', 3), ('家', 'NOUN', 'mark:clf', '各', 1), ('電信', 'ADV', 'nsubj', '打電話', 5), ('一直', 'ADV', 'advmod', '打電話', 5), ('打電話', 'VERB', 'nsubj', '傳', 6), ('傳', 'NOUN', 'ROOT', '傳', 6), ('簡訊', 'VERB', 'compound:nn', '詢問', 8), ('詢問', 'NOUN', 'dep', '續約', 10), ('要不要', 'NOUN', 'nsubj', '續約', 10), ('續約', 'VERB', 'ROOT', '續約', 10), ('  ', 'SPACE', '', '續約', 10), ('有夠', 'ADV', 'advmod', '煩', 13), ('煩', 'VERB', 'dep', '合約', 17), ('的', 'PART', 'mark', '煩', 13), ('但', 'ADV', 'advmod', '合約', 17), ('畢竟', 'VERB', 'advmod', '合約', 17), ('合約', 'NOUN', 'dep', '有', 18), ('有', 'VERB', 'ROOT', '有', 18), ('30', 'NUM', 'nummod', '月', 21), ('個', 'NOUN', 'mark:clf', '30', 19), ('月', 'NOUN', 'compound:nn', ' 而', 22), (' 而', 'PROPN', 'dep', '普及', 26), ('5G', 'PUNCT', 'punct', '普及', 26), ('未來', 'VERB', 'nmod:tmod', '普及', 26), ('會', 'NOUN', 'advmod', '普及', 26), ('普及', 'VERB', 'ccomp', '有', 18), ('也', 'ADV', 'advmod', '不變', 29), ('是', 'VERB', 'cop', '不變', 29), ('不變', 'VERB', 'amod', '事實', 30), ('事實', 'NOUN', 'compound:nn', '(', 31), ('(', 'NOUN', 'dobj', '普及', 26), ('?', 'PUNCT', 'punct', '有', 18), ('想', 'VERB', 'ROOT', '想', 33), ('問板', 'NOUN', 'advmod:loc', '覺得', 37), ('上', 'PART', 'case', '問板', 34), ('大大', 'ADV', 'advmod', '覺得', 37), ('覺得', 'VERB', 'ccomp', '想', 33), ('要', 'VERB', 'xcomp', '續約', 39), ('續約', 'VERB', 'ccomp', '覺得', 37), ('嗎', 'NOUN', 'dobj', '續約', 39), ('？', 'PUNCT', 'punct', '想', 33), ('還是', 'VERB', 'compound:nn', '合約', 44), ('等', 'PART', 'etc', '還是', 42), ('合約', 'NOUN', 'nsubj', '到期', 45), ('到期', 'VERB', 'dep', '？', 52), ('  ', 'SPACE', '', '到期', 45), ('直接續', 'NOUN', 'det', '方案', 50), ('488', 'NUM', 'dep', '方案', 50), ('學生', 'NOUN', 'compound:nn', '方案', 50), ('方案', 'NOUN', 'dobj', '到期', 45), ('呢', 'PART', 'discourse', '？', 52), ('？', 'PUNCT', 'ROOT', '？', 52)]\n",
            "[('5g', 'NOUN', 'nmod:tmod', '還', 2), ('現在', 'NOUN', 'nsubj', '還', 2), ('還', 'VERB', 'ROOT', '還', 2), ('不', 'ADV', 'dep', '還', 2), ('穩定', 'VERB', 'dep', '還', 2), ('  ', 'SPACE', '', '穩定', 4), ('現在', 'NOUN', 'compound:nn', '辦', 7), ('辦', 'NOUN', 'nsubj', '繳', 9), ('5g', 'NOUN', 'dep', '繳', 9), ('繳', 'VERB', 'ROOT', '繳', 9), ('5', 'NUM', 'nummod', '錢', 13), ('g', 'NOUN', 'mark:clf', '5', 10), ('的', 'PART', 'case', '5', 10), ('錢', 'NOUN', 'dobj', '繳', 9), ('只', 'ADV', 'advmod', '享受', 16), ('能', 'VERB', 'aux:modal', '享受', 16), ('享受', 'VERB', 'conj', '繳', 9), ('4', 'NUM', 'nmod:range', '享受', 16), ('g ', 'NOUN', 'mark:clf', '4', 17), ('，', 'PUNCT', 'punct', '繳', 9), ('5', 'NUM', 'nummod', '台', 23), ('g', 'NOUN', 'mark:clf', '5', 20), ('全', 'DET', 'det', '台', 23), ('台', 'PROPN', 'compound:nn', '基地台', 24), ('基地台', 'NOUN', 'dep', '只有', 25), ('只有', 'ADV', 'advmod', '某些', 26), ('某些', 'DET', 'det', '地方', 27), ('地方', 'NOUN', 'nsubj', '有', 38), ('比較', 'NOUN', 'advmod', '穩', 29), ('穩', 'VERB', 'nmod:prep', '有', 38), ('  ', 'SPACE', '', '穩', 29), ('甚至', 'ADV', 'advmod', '連', 34), ('有些', 'DET', 'det', '地方', 33), ('地方', 'NOUN', 'nsubj', '連', 34), ('連', 'VERB', 'advmod', '有', 38), ('4', 'NUM', 'nmod:range', '連', 34), ('g', 'NOUN', 'mark:clf', '4', 35), ('都', 'ADV', 'advmod', '有', 38), ('有', 'VERB', 'ROOT', '有', 38), ('問題', 'VERB', 'dobj', '有', 38), ('  ', 'SPACE', '', '問題', 39), ('可能', 'VERB', 'aux:modal', '還', 42), ('還', 'VERB', 'conj', '有', 38), ('要', 'VERB', 'advmod:rcomp', '還', 42), ('1.2', 'VERB', 'nmod:range', '還', 42), ('年', 'NUM', 'mark:clf', '1.2', 44), ('才', 'ADV', 'advmod', '普及', 48), ('會', 'VERB', 'advmod', '普及', 48), ('普及', 'VERB', 'conj', '還', 42), ('  ', 'SPACE', '', '普及', 48), ('個人', 'NUM', 'ccomp', '普及', 48), ('看法', 'NOUN', 'dobj', '個人', 50)]\n"
          ],
          "name": "stdout"
        }
      ]
    }
  ]
}
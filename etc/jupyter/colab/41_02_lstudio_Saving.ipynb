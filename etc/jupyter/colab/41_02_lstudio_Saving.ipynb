{
  "nbformat": 4,
  "nbformat_minor": 5,
  "metadata": {
    "kernelspec": {
      "display_name": "Python 3",
      "language": "python",
      "name": "python3"
    },
    "language_info": {
      "codemirror_mode": {
        "name": "ipython",
        "version": 3
      },
      "file_extension": ".py",
      "mimetype": "text/x-python",
      "name": "python",
      "nbconvert_exporter": "python",
      "pygments_lexer": "ipython3",
      "version": "3.8.5"
    },
    "colab": {
      "name": "41.01-lstudio-preproc.ipynb",
      "provenance": [],
      "toc_visible": true
    }
  },
  "cells": [
    {
      "cell_type": "markdown",
      "metadata": {
        "id": "9RHoe2sxY_86"
      },
      "source": [
        "##Auto backing up absa ansotations\n",
        "\n",
        "1.   absa anotation: label studio  from 9091-9100 ports \n",
        "2.   Saved at https://drive.google.com/drive/folders/1REUAhPUY8NzOXaj3OtPosOIZsxC8k00l\n",
        "\n"
      ],
      "id": "9RHoe2sxY_86"
    },
    {
      "cell_type": "code",
      "metadata": {
        "colab": {
          "base_uri": "https://localhost:8080/"
        },
        "id": "f7mbVEgiXLHK",
        "outputId": "00fea5ce-0306-4614-cb22-8a7dcb1476b3"
      },
      "source": [
        "%load_ext autoreload\n",
        "%autoreload 2"
      ],
      "id": "f7mbVEgiXLHK",
      "execution_count": 48,
      "outputs": [
        {
          "output_type": "stream",
          "text": [
            "The autoreload extension is already loaded. To reload it, use:\n",
            "  %reload_ext autoreload\n"
          ],
          "name": "stdout"
        }
      ]
    },
    {
      "cell_type": "code",
      "metadata": {
        "colab": {
          "base_uri": "https://localhost:8080/",
          "height": 35
        },
        "id": "yQeVwLWeXLHQ",
        "outputId": "d8f0a52f-9c8f-4566-8172-862db6c9dfb4"
      },
      "source": [
        "import pickle\n",
        "import json\n",
        "import random\n",
        "import numpy as np\n",
        "import pandas as pd\n",
        "import getpass, os\n",
        "import sys\n",
        "''' if using casa'''\n",
        "# username = getpass.getpass(\"Github username: \")\n",
        "# password = getpass.getpass(\"Github password: \")\n",
        "# os.environ[\"CRED\"] = f\"{username}:{password}\"\n",
        "# !git clone https://${CRED}@github.com/lopentu/casa\n",
        "# del username, password\n",
        "# !pip install -r /content/casa/requirements.txt"
      ],
      "id": "yQeVwLWeXLHQ",
      "execution_count": 49,
      "outputs": [
        {
          "output_type": "execute_result",
          "data": {
            "application/vnd.google.colaboratory.intrinsic+json": {
              "type": "string"
            },
            "text/plain": [
              "' if using casa'"
            ]
          },
          "metadata": {
            "tags": []
          },
          "execution_count": 49
        }
      ]
    },
    {
      "cell_type": "code",
      "metadata": {
        "id": "rUenJ_QFYy7r"
      },
      "source": [
        "# from import_casa import casa\n",
        "# sys.path = [\"/content/casa/src\"] + sys.path\n",
        "# import casa"
      ],
      "id": "rUenJ_QFYy7r",
      "execution_count": 50,
      "outputs": []
    },
    {
      "cell_type": "markdown",
      "metadata": {
        "id": "PM6gcj1phImq"
      },
      "source": [
        "##Config \n",
        "Waiting for other annotators to be listed\n"
      ],
      "id": "PM6gcj1phImq"
    },
    {
      "cell_type": "code",
      "metadata": {
        "id": "Qo48FZH6XLHR"
      },
      "source": [
        "# request url = 'http://140.112.147.132:{port}/api/project/export?format=JSON'\n",
        "config = {\n",
        "    'port dict': {\n",
        "    9091:'Andrea',\n",
        "    9092:'品而',\n",
        "    9093:'Amy',\n",
        "    9094:'Nana',\n",
        "    9095: '子茹',\n",
        "    9096: '聯輝',\n",
        "    9097: '子娟'}, # if no tasks are done, no files will be saved for the port\n",
        "    'port range':range(9091, 9100+1),   \n",
        "    # range(9091, 9100+1)\n",
        "}"
      ],
      "id": "Qo48FZH6XLHR",
      "execution_count": 51,
      "outputs": []
    },
    {
      "cell_type": "code",
      "metadata": {
        "colab": {
          "base_uri": "https://localhost:8080/"
        },
        "id": "2cAo3aptTi33",
        "outputId": "f4719ad5-d35f-48bc-8fb6-e307228c09c2"
      },
      "source": [
        "from google.colab import drive\n",
        "drive.mount('/content/drive')"
      ],
      "id": "2cAo3aptTi33",
      "execution_count": 52,
      "outputs": [
        {
          "output_type": "stream",
          "text": [
            "Drive already mounted at /content/drive; to attempt to forcibly remount, call drive.mount(\"/content/drive\", force_remount=True).\n"
          ],
          "name": "stdout"
        }
      ]
    },
    {
      "cell_type": "code",
      "metadata": {
        "id": "9x7lsZhiXLHT"
      },
      "source": [
        "import requests, zipfile, io\n",
        "from datetime import date\n",
        "\n",
        "PATH = '/content/drive/MyDrive/指向情緒案/data/annot_data'\n",
        "BKUP_DIR = os.path.join(PATH, 'annotated_data_bkup')\n",
        "os.makedirs(BKUP_DIR, exist_ok = True)\n",
        "PATH = os.path.join(PATH, BKUP_DIR)\n",
        "\n",
        "def CreateTodayDir(PATH):\n",
        "  today = date.today()\n",
        "  TARGET_DIR = today.strftime(\"%Y%m%d\")\n",
        "  os.makedirs(TARGET_DIR, exist_ok = True)\n",
        "  new_dir = os.path.join(BKUP_DIR, TARGET_DIR)\n",
        "  return new_dir\n",
        "\n",
        "def SaveJSON(config, PATH):\n",
        "  annots = []\n",
        "  new_dir = CreateTodayDir(PATH)\n",
        "  print('Today\\'s dir:', new_dir)\n",
        "  for port in config['port range']:\n",
        "    url = f'http://140.112.147.132:{port}/api/project/export?format=JSON'\n",
        "    r = requests.get(url, allow_redirects=True)\n",
        "    z = zipfile.ZipFile(io.BytesIO(r.content))\n",
        "    z.filelist[0].filename = f'result_{port}.json'\n",
        "    z.extract(z.filelist[0], new_dir)\n",
        "    JSON_PATH = os.path.join(new_dir, f'result_{port}.json')\n",
        "    with open(JSON_PATH, \"r\", encoding=\"UTF-8\") as fin:\n",
        "      jsonfile = json.load(fin)\n",
        "      if len(jsonfile) != 0: \n",
        "        annots.append(jsonfile)\n",
        "  return annots"
      ],
      "id": "9x7lsZhiXLHT",
      "execution_count": 53,
      "outputs": []
    },
    {
      "cell_type": "code",
      "metadata": {
        "colab": {
          "base_uri": "https://localhost:8080/"
        },
        "id": "dMscEJ2wbrVz",
        "outputId": "43530296-4fdf-4098-fed6-0173de77e032"
      },
      "source": [
        "annots = SaveJSON(config, PATH)\n",
        "print(\"Saved {} json files.\".format(len(annots)))\n",
        "# print(\"Progress:\")\n",
        "Table = list()\n",
        "for i, annot in enumerate(annots, start = 1):\n",
        "  idx = 9090 + i\n",
        "  annotator = config['port dict'][idx]\n",
        "  # print(f'{annotator}: {len(annot)}')\n",
        "  annotatorDict = dict()\n",
        "  annotatorDict['Annotator'] = annotator\n",
        "  annotatorDict['Tasks submitted'] = len(annot)\n",
        "  Table.append(annotatorDict)"
      ],
      "id": "dMscEJ2wbrVz",
      "execution_count": 54,
      "outputs": [
        {
          "output_type": "stream",
          "text": [
            "Today's dir: /content/drive/MyDrive/指向情緒案/data/annot_data/annotated_data_bkup/20210320\n",
            "Saved 4 json files.\n"
          ],
          "name": "stdout"
        }
      ]
    },
    {
      "cell_type": "code",
      "metadata": {
        "id": "IuJK-x_7XLHa"
      },
      "source": [
        "def extract_result(annot_item, port):\n",
        "    serial = annot_item[\"data\"][\"serial\"]\n",
        "    thread_idx = annot_item[\"data\"][\"thread_idx\"]\n",
        "    result = annot_item[\"completions\"][0][\"result\"]\n",
        "    entries = []\n",
        "    for x in result:\n",
        "        from_name = x.get(\"from_name\", \"\")\n",
        "        ent_type = x[\"type\"]\n",
        "        value_dict = x.get(\"value\", {})\n",
        "        ent_choice = value_dict.get(\"choices\", [\"\"])[0]\n",
        "        ent_text = value_dict.get(\"text\", \"\")\n",
        "        if isinstance(ent_text, list):\n",
        "            ent_text = \"\".join(ent_text)\n",
        "        entries.append((\n",
        "            port,\n",
        "            thread_idx, serial,\n",
        "            from_name, ent_type, ent_choice, ent_text\n",
        "        ))   \n",
        "    return entries"
      ],
      "id": "IuJK-x_7XLHa",
      "execution_count": 55,
      "outputs": []
    },
    {
      "cell_type": "code",
      "metadata": {
        "id": "Rap2flCTXLHn"
      },
      "source": [
        "colnames = \"port,thread_idx,serial,from_name,ent_type,ent_choice,ent_text\".split(\",\")\n",
        "def convert_annot_result(annot_obj, port):\n",
        "    entries = []\n",
        "    for annot_x in annot_obj:\n",
        "        entries.extend(extract_result(annot_x, port))\n",
        "    return pd.DataFrame(entries, columns=colnames)"
      ],
      "id": "Rap2flCTXLHn",
      "execution_count": 56,
      "outputs": []
    },
    {
      "cell_type": "code",
      "metadata": {
        "colab": {
          "base_uri": "https://localhost:8080/"
        },
        "id": "gzgPaIloXLHU",
        "outputId": "6182ded9-a6dc-4446-a716-99c200e34714"
      },
      "source": [
        "list(annot[0].keys())"
      ],
      "id": "gzgPaIloXLHU",
      "execution_count": 57,
      "outputs": [
        {
          "output_type": "execute_result",
          "data": {
            "text/plain": [
              "['completions', 'data', 'id']"
            ]
          },
          "metadata": {
            "tags": []
          },
          "execution_count": 57
        }
      ]
    },
    {
      "cell_type": "code",
      "metadata": {
        "id": "yEVMipuRXLHT"
      },
      "source": [
        "def SaveCSV(config = config, annots = annots, PATH = PATH):\n",
        "  port_list = list(config['port range'])\n",
        "  # start = port_list[0]\n",
        "  dframes = []\n",
        "  for idx, annot in enumerate(annots): \n",
        "    '''\n",
        "    annots: everyone's annotations\n",
        "    annot: one annotator's annotations\n",
        "    annot[0]: one task in annot\n",
        "    '''\n",
        "    port = port_list[idx]\n",
        "    df = convert_annot_result(annot, port)\n",
        "    PATH = CreateTodayDir(PATH)\n",
        "    dframes.append(df)\n",
        "    df.to_csv(f\"{PATH}/annot_frame_{port}.csv\")\n",
        "  return dframes "
      ],
      "id": "yEVMipuRXLHT",
      "execution_count": 58,
      "outputs": []
    },
    {
      "cell_type": "code",
      "metadata": {
        "colab": {
          "base_uri": "https://localhost:8080/"
        },
        "id": "xte1Dc3DZf8T",
        "outputId": "f37b5e9e-961a-4337-832f-5f62c1799ae9"
      },
      "source": [
        "print(\"Saving csv...\")\n",
        "dframes = SaveCSV(config, annots, PATH)\n",
        "print(\"Saved {} csv files.\".format(len(annots)))\n",
        "for i, df in enumerate(dframes, start = 1): \n",
        "  idx = 9090 + i\n",
        "  annotator = config['port dict'][idx]\n",
        "  # print(f'{annotator}:{len(df)}')\n",
        "  AnnotatorDict = next((Dict for Dict in Table if Dict['Annotator'] == annotator), None)\n",
        "  AnnotatorDict['Tags Annotated'] = len(df)"
      ],
      "id": "xte1Dc3DZf8T",
      "execution_count": 59,
      "outputs": [
        {
          "output_type": "stream",
          "text": [
            "Saving csv...\n",
            "Saved 4 csv files.\n"
          ],
          "name": "stdout"
        }
      ]
    },
    {
      "cell_type": "code",
      "metadata": {
        "colab": {
          "base_uri": "https://localhost:8080/",
          "height": 173
        },
        "id": "Klp5RpF0XLHU",
        "outputId": "dff05c66-fc51-478b-ee91-4afb12832169"
      },
      "source": [
        "# ShowTable\n",
        "df = pd.DataFrame(Table)\n",
        "df"
      ],
      "id": "Klp5RpF0XLHU",
      "execution_count": 60,
      "outputs": [
        {
          "output_type": "execute_result",
          "data": {
            "text/html": [
              "<div>\n",
              "<style scoped>\n",
              "    .dataframe tbody tr th:only-of-type {\n",
              "        vertical-align: middle;\n",
              "    }\n",
              "\n",
              "    .dataframe tbody tr th {\n",
              "        vertical-align: top;\n",
              "    }\n",
              "\n",
              "    .dataframe thead th {\n",
              "        text-align: right;\n",
              "    }\n",
              "</style>\n",
              "<table border=\"1\" class=\"dataframe\">\n",
              "  <thead>\n",
              "    <tr style=\"text-align: right;\">\n",
              "      <th></th>\n",
              "      <th>Annotator</th>\n",
              "      <th>Tasks submitted</th>\n",
              "      <th>Tags Annotated</th>\n",
              "    </tr>\n",
              "  </thead>\n",
              "  <tbody>\n",
              "    <tr>\n",
              "      <th>0</th>\n",
              "      <td>Andrea</td>\n",
              "      <td>50</td>\n",
              "      <td>363</td>\n",
              "    </tr>\n",
              "    <tr>\n",
              "      <th>1</th>\n",
              "      <td>品而</td>\n",
              "      <td>63</td>\n",
              "      <td>843</td>\n",
              "    </tr>\n",
              "    <tr>\n",
              "      <th>2</th>\n",
              "      <td>Amy</td>\n",
              "      <td>32</td>\n",
              "      <td>157</td>\n",
              "    </tr>\n",
              "    <tr>\n",
              "      <th>3</th>\n",
              "      <td>Nana</td>\n",
              "      <td>52</td>\n",
              "      <td>365</td>\n",
              "    </tr>\n",
              "  </tbody>\n",
              "</table>\n",
              "</div>"
            ],
            "text/plain": [
              "  Annotator  Tasks submitted  Tags Annotated\n",
              "0    Andrea               50             363\n",
              "1        品而               63             843\n",
              "2       Amy               32             157\n",
              "3      Nana               52             365"
            ]
          },
          "metadata": {
            "tags": []
          },
          "execution_count": 60
        }
      ]
    },
    {
      "cell_type": "code",
      "metadata": {
        "colab": {
          "base_uri": "https://localhost:8080/"
        },
        "id": "6ZHhnHosXLHW",
        "outputId": "c8938bca-5b6b-40b3-e370-d6aef95a6402"
      },
      "source": [
        "annot[0][\"completions\"]"
      ],
      "id": "6ZHhnHosXLHW",
      "execution_count": 61,
      "outputs": [
        {
          "output_type": "execute_result",
          "data": {
            "text/plain": [
              "[{'created_at': 1615984403,\n",
              "  'id': 51001,\n",
              "  'lead_time': 59.42,\n",
              "  'result': [{'from_name': 'aspect-label',\n",
              "    'id': 'nslgQu9cZ9',\n",
              "    'to_name': 'text',\n",
              "    'type': 'hypertextlabels',\n",
              "    'value': {'end': '/div[1]/ol[1]/li[1]/text()[1]',\n",
              "     'endOffset': 8,\n",
              "     'htmllabels': ['Entity'],\n",
              "     'start': '/div[1]/ol[1]/li[1]/text()[1]',\n",
              "     'startOffset': 6,\n",
              "     'text': '中華'}},\n",
              "   {'from_name': 'ent-norm',\n",
              "    'id': 'nslgQu9cZ9',\n",
              "    'to_name': 'text',\n",
              "    'type': 'choices',\n",
              "    'value': {'choices': ['中華電信'],\n",
              "     'end': '/div[1]/ol[1]/li[1]/text()[1]',\n",
              "     'endOffset': 8,\n",
              "     'start': '/div[1]/ol[1]/li[1]/text()[1]',\n",
              "     'startOffset': 6,\n",
              "     'text': '中華'}},\n",
              "   {'from_name': 'aspect-label',\n",
              "    'id': 'OvqNYiPZYv',\n",
              "    'to_name': 'text',\n",
              "    'type': 'hypertextlabels',\n",
              "    'value': {'end': '/div[1]/ol[1]/li[1]/text()[2]',\n",
              "     'endOffset': 5,\n",
              "     'htmllabels': ['Attribute'],\n",
              "     'start': '/div[1]/ol[1]/li[1]/text()[2]',\n",
              "     'startOffset': 2,\n",
              "     'text': '469'}},\n",
              "   {'from_name': 'attr-norm',\n",
              "    'id': 'OvqNYiPZYv',\n",
              "    'to_name': 'text',\n",
              "    'type': 'choices',\n",
              "    'value': {'choices': ['[資費]低資費方案'],\n",
              "     'end': '/div[1]/ol[1]/li[1]/text()[2]',\n",
              "     'endOffset': 5,\n",
              "     'start': '/div[1]/ol[1]/li[1]/text()[2]',\n",
              "     'startOffset': 2,\n",
              "     'text': '469'}},\n",
              "   {'from_name': 'aspect-label',\n",
              "    'id': 'j0NJ1rJOpu',\n",
              "    'to_name': 'text',\n",
              "    'type': 'hypertextlabels',\n",
              "    'value': {'end': '/div[1]/ol[1]/li[1]/text()[3]',\n",
              "     'endOffset': 5,\n",
              "     'htmllabels': ['Evaluation'],\n",
              "     'start': '/div[1]/ol[1]/li[1]/text()[3]',\n",
              "     'startOffset': 1,\n",
              "     'text': '蠻划算，'}},\n",
              "   {'from_name': 'sentiment',\n",
              "    'id': 'j0NJ1rJOpu',\n",
              "    'to_name': 'text',\n",
              "    'type': 'rating',\n",
              "    'value': {'end': '/div[1]/ol[1]/li[1]/text()[3]',\n",
              "     'endOffset': 5,\n",
              "     'rating': 5,\n",
              "     'start': '/div[1]/ol[1]/li[1]/text()[3]',\n",
              "     'startOffset': 1,\n",
              "     'text': '蠻划算，'}},\n",
              "   {'from_name': 'aspect-label',\n",
              "    'id': 'vrHhuQUIeT',\n",
              "    'to_name': 'text',\n",
              "    'type': 'hypertextlabels',\n",
              "    'value': {'end': '/div[1]/ol[1]/li[1]/text()[4]',\n",
              "     'endOffset': 11,\n",
              "     'htmllabels': ['Evaluation'],\n",
              "     'start': '/div[1]/ol[1]/li[1]/text()[4]',\n",
              "     'startOffset': 2,\n",
              "     'text': '21M日常使用很夠'}},\n",
              "   {'from_name': 'sentiment',\n",
              "    'id': 'vrHhuQUIeT',\n",
              "    'to_name': 'text',\n",
              "    'type': 'rating',\n",
              "    'value': {'end': '/div[1]/ol[1]/li[1]/text()[4]',\n",
              "     'endOffset': 11,\n",
              "     'rating': 5,\n",
              "     'start': '/div[1]/ol[1]/li[1]/text()[4]',\n",
              "     'startOffset': 2,\n",
              "     'text': '21M日常使用很夠'}},\n",
              "   {'from_name': 'aspect-label',\n",
              "    'id': 'BWILlyRAmC',\n",
              "    'to_name': 'text',\n",
              "    'type': 'hypertextlabels',\n",
              "    'value': {'end': '/div[1]/ol[1]/li[1]/text()[5]',\n",
              "     'endOffset': 20,\n",
              "     'htmllabels': ['Evaluation'],\n",
              "     'start': '/div[1]/ol[1]/li[1]/text()[5]',\n",
              "     'startOffset': 14,\n",
              "     'text': '速度也穩穩的'}},\n",
              "   {'from_name': 'sentiment',\n",
              "    'id': 'BWILlyRAmC',\n",
              "    'to_name': 'text',\n",
              "    'type': 'rating',\n",
              "    'value': {'end': '/div[1]/ol[1]/li[1]/text()[5]',\n",
              "     'endOffset': 20,\n",
              "     'rating': 5,\n",
              "     'start': '/div[1]/ol[1]/li[1]/text()[5]',\n",
              "     'startOffset': 14,\n",
              "     'text': '速度也穩穩的'}},\n",
              "   {'from_name': 'aspect-label',\n",
              "    'id': 'aqlqXmnknZ',\n",
              "    'to_name': 'text',\n",
              "    'type': 'hypertextlabels',\n",
              "    'value': {'end': '/div[1]/ol[1]/li[4]/text()[1]',\n",
              "     'endOffset': 7,\n",
              "     'htmllabels': ['Evaluation'],\n",
              "     'start': '/div[1]/ol[1]/li[4]/text()[1]',\n",
              "     'startOffset': 4,\n",
              "     'text': '基本上'}},\n",
              "   {'from_name': 'Relevance',\n",
              "    'id': '9EchNpHYCm',\n",
              "    'to_name': 'text',\n",
              "    'type': 'choices',\n",
              "    'value': {'choices': ['主文無評價性敘述']}},\n",
              "   {'direction': 'right',\n",
              "    'from_id': 'nslgQu9cZ9',\n",
              "    'labels': [],\n",
              "    'to_id': 'OvqNYiPZYv',\n",
              "    'type': 'relation'},\n",
              "   {'direction': 'right',\n",
              "    'from_id': 'nslgQu9cZ9',\n",
              "    'labels': [],\n",
              "    'to_id': 'j0NJ1rJOpu',\n",
              "    'type': 'relation'},\n",
              "   {'direction': 'right',\n",
              "    'from_id': 'nslgQu9cZ9',\n",
              "    'labels': [],\n",
              "    'to_id': 'vrHhuQUIeT',\n",
              "    'type': 'relation'},\n",
              "   {'direction': 'right',\n",
              "    'from_id': 'nslgQu9cZ9',\n",
              "    'labels': [],\n",
              "    'to_id': 'BWILlyRAmC',\n",
              "    'type': 'relation'}]}]"
            ]
          },
          "metadata": {
            "tags": []
          },
          "execution_count": 61
        }
      ]
    },
    {
      "cell_type": "code",
      "metadata": {
        "id": "VjF1kjQdXLHq"
      },
      "source": [
        "# import html\n",
        "# print(html.unescape(text))"
      ],
      "id": "VjF1kjQdXLHq",
      "execution_count": 62,
      "outputs": []
    }
  ]
}
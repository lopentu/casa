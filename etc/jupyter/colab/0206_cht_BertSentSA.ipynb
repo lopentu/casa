{
  "nbformat": 4,
  "nbformat_minor": 0,
  "metadata": {
    "colab": {
      "name": "中華電信輿情_BertSA_2.ipynb ",
      "provenance": [],
      "collapsed_sections": [],
      "toc_visible": true
    },
    "kernelspec": {
      "name": "python3",
      "display_name": "Python 3"
    },
    "accelerator": "GPU"
  },
  "cells": [
    {
      "cell_type": "markdown",
      "metadata": {
        "id": "o_BMYcK-ABCh"
      },
      "source": [
        "# Bert Practice with cht_public opinions\n",
        "#### 'bert-base-chinese', with fine-tuning \n",
        "#### code architecture: https://www.analyticsvidhya.com/blog/2020/07/transfer-learning-for-nlp-fine-tuning-bert-for-text-classification/"
      ]
    },
    {
      "cell_type": "markdown",
      "metadata": {
        "id": "f8FHmfWDAmjI"
      },
      "source": [
        "####Loading data"
      ]
    },
    {
      "cell_type": "code",
      "metadata": {
        "colab": {
          "base_uri": "https://localhost:8080/"
        },
        "id": "2ZhLnKSFcSiB",
        "outputId": "f9560234-db06-462f-dca6-cb14af0a5f82"
      },
      "source": [
        "from google.colab import drive\n",
        "drive.mount('/content/drive')"
      ],
      "execution_count": null,
      "outputs": []
    },
    {
      "cell_type": "code",
      "metadata": {
        "id": "hUBAqmMrdSJr"
      },
      "source": [
        "import pandas as pd\n",
        "filepath= '/content/drive/MyDrive/ABSA(首批data).csv'"
      ],
      "execution_count": null,
      "outputs": []
    },
    {
      "cell_type": "code",
      "metadata": {
        "colab": {
          "base_uri": "https://localhost:8080/",
          "height": 419
        },
        "id": "bN4edxzQfz64",
        "outputId": "02cae402-f72e-422c-a976-b52679d6feea"
      },
      "source": [
        "df = pd.read_csv(filepath).fillna('NaN')\n",
        "Max_len = 30\n",
        "df = df.drop(df.columns[4], axis=1)\n",
        "df.head()\n",
        "df.columns = ['title', 'content', 'label', 'past-pred', 'dummy']\n",
        "# 截資料長度=30\n",
        "df['content'] = df['content'].apply(lambda x: x[:Max_len])\n",
        "df = df[df.content != 'NaN']\n",
        "# age_sex = titanic[[\"Age\", \"Sex\"]]\n",
        "df = df[['content', 'label']]\n",
        "# df[\"column1\"].replace({\"a\": \"x\", \"b\": \"y\"}, inplace=True)\n",
        "df['label'] = df['label'].replace({\"Y\": 0, \"G\": 1, \"R\": 2, \"y\":0})  # 0:黃燈 1:綠燈 2:紅燈\n",
        "df"
      ],
      "execution_count": null,
      "outputs": []
    },
    {
      "cell_type": "code",
      "metadata": {
        "colab": {
          "base_uri": "https://localhost:8080/"
        },
        "id": "TPFidVJaFiiP",
        "outputId": "86be2ca3-38b7-4650-d4a0-05bfc7da099f"
      },
      "source": [
        "df\n",
        "type(df['label'][8])"
      ],
      "execution_count": null,
      "outputs": []
    },
    {
      "cell_type": "code",
      "metadata": {
        "id": "hZTtm4x5ewra",
        "colab": {
          "base_uri": "https://localhost:8080/"
        },
        "outputId": "ed344e8f-4e1b-46bd-d87a-6cc923129766"
      },
      "source": [
        "!pip install transformers\n",
        "# https://pytorch.org/hub/huggingface_pytorch-transformers/\n",
        "# https://www.analyticsvidhya.com/blog/2020/07/transfer-learning-for-nlp-fine-tuning-bert-for-text-classification/"
      ],
      "execution_count": null,
      "outputs": []
    },
    {
      "cell_type": "markdown",
      "metadata": {
        "id": "AXRRjYqGAua-"
      },
      "source": [
        "####Loading pretrained model\n",
        "####Preparing train, test, vali sets"
      ]
    },
    {
      "cell_type": "code",
      "metadata": {
        "colab": {
          "base_uri": "https://localhost:8080/",
          "height": 157
        },
        "id": "EVaR_nZhd62S",
        "outputId": "4128ecff-cee1-4c05-b173-a21508b0951a"
      },
      "source": [
        "import numpy as np\n",
        "import torch\n",
        "import torch.nn as nn\n",
        "from sklearn.model_selection import train_test_split\n",
        "from sklearn.metrics import classification_report\n",
        "import transformers\n",
        "from transformers import AutoModel, BertTokenizer, BertForSequenceClassification, BertConfig\n",
        "\n",
        "device = torch.device(\"cuda\")  \n",
        "tokenizer = BertTokenizer.from_pretrained('bert-base-chinese', aux_logits = False)\n",
        "bert = BertForSequenceClassification.from_pretrained('bert-base-chinese', output_hidden_states=True, num_labels = 3)\n",
        "X = df['content']\n",
        "y = df['label']\n",
        "X_train, X_test, y_train, y_test = train_test_split(X, y, test_size=0.1, random_state=42, stratify = y) \n",
        "X_train = tokenizer.batch_encode_plus(\n",
        "    X_train.tolist(),\n",
        "    max_length = Max_len,\n",
        "    padding=True,\n",
        "    truncation=True\n",
        ")\n",
        "\n",
        "X_test = tokenizer.batch_encode_plus(\n",
        "    X_test.tolist(),\n",
        "    max_length = Max_len,\n",
        "    padding=True,\n",
        "    truncation=True\n",
        ")\n",
        "# Output\n",
        "'''\n",
        "{‘input_ids’: [[101, 2023, 2003, 1037, 14324, 2944, 14924, 4818, 102, 0],\n",
        "[101, 2057, 2097, 2986, 1011, 8694, 1037, 14324, 2944, 102]],\n",
        "‘attention_mask’: [[1, 1, 1, 1, 1, 1, 1, 1, 1, 0], [1, 1, 1, 1, 1, 1, 1, 1, 1, 1]]}\n",
        "'''"
      ],
      "execution_count": null,
      "outputs": []
    },
    {
      "cell_type": "code",
      "metadata": {
        "id": "7-l9lp5r9brg",
        "colab": {
          "base_uri": "https://localhost:8080/"
        },
        "outputId": "280ea852-be47-4d92-eef9-d7f422108d0e"
      },
      "source": [
        "# print(y_train.tolist())\n",
        "# print(X_train['input_ids'][:5])\n",
        "print(y_train)\n",
        "print(y_train.to_list())\n",
        "# y_train = [[i] for i in y_train.tolist()]\n",
        "print(X_train['input_ids'])\n",
        "print(y_train)"
      ],
      "execution_count": null,
      "outputs": []
    },
    {
      "cell_type": "code",
      "metadata": {
        "colab": {
          "base_uri": "https://localhost:8080/"
        },
        "id": "qoxrCcuS43sS",
        "outputId": "dfe7fbbe-9512-4bdd-f7b2-602b89303721"
      },
      "source": [
        "# convert to tensors\n",
        "print(y_train.tolist())\n",
        "train_seq = torch.tensor(X_train['input_ids'])\n",
        "train_mask = torch.tensor(X_train['attention_mask'])\n",
        "train_y = torch.tensor(y_train.tolist(), dtype=torch.int64)\n",
        "\n",
        "test_seq = torch.tensor(X_test['input_ids'])\n",
        "test_mask = torch.tensor(X_test['attention_mask'])\n",
        "test_y = torch.tensor(y_test.tolist())"
      ],
      "execution_count": null,
      "outputs": []
    },
    {
      "cell_type": "code",
      "metadata": {
        "id": "zvX4EvBB0RoA"
      },
      "source": [],
      "execution_count": null,
      "outputs": []
    },
    {
      "cell_type": "markdown",
      "metadata": {
        "id": "wFen18PXOAfS"
      },
      "source": [
        "## Bert Model, optimizer = Adam"
      ]
    },
    {
      "cell_type": "code",
      "metadata": {
        "id": "gH8VlR0V6YoT"
      },
      "source": [
        "from transformers import AdamW\n",
        "model = bert.to(device)\n",
        "# model = model.to(device) #put model (and batch) into device(device ='cuda' if gpu is available)\n",
        "optimizer = AdamW(bert.parameters(),\n",
        "                  lr = 1e-5)\n",
        "device = torch.device(\"cuda\")     "
      ],
      "execution_count": null,
      "outputs": []
    },
    {
      "cell_type": "code",
      "metadata": {
        "id": "-70ltMsfMG8K"
      },
      "source": [
        "from torch.utils.data import TensorDataset, DataLoader, RandomSampler, SequentialSampler\n",
        "\n",
        "#define a batch size\n",
        "batch_size = 32\n",
        "# wrap tensors\n",
        "train_data = TensorDataset(train_seq, train_mask, train_y)\n",
        "# sampler for sampling the data during training\n",
        "train_sampler = RandomSampler(train_data)\n",
        "# dataLoader for train set\n",
        "train_dataloader = DataLoader(train_data, sampler=train_sampler, batch_size=batch_size)\n",
        "# wrap tensors\n",
        "test_data = TensorDataset(test_seq, test_mask, test_y)\n",
        "# sampler for sampling the data during training\n",
        "test_sampler = SequentialSampler(test_data)\n",
        "# dataLoader for validation set\n",
        "test_dataloader = DataLoader(test_data, sampler = test_sampler, batch_size=batch_size)"
      ],
      "execution_count": null,
      "outputs": []
    },
    {
      "cell_type": "code",
      "metadata": {
        "colab": {
          "base_uri": "https://localhost:8080/"
        },
        "id": "LSJEjhEjMY_t",
        "outputId": "e47461d6-b0e3-4bae-a23b-3756929e47ab"
      },
      "source": [
        "from sklearn.utils.class_weight import compute_class_weight\n",
        "#compute the class weights\n",
        "class_weights = compute_class_weight('balanced', np.unique(y_train), y_train)\n",
        "print(\"Class Weights:\",class_weights)\n",
        "weights= torch.tensor(class_weights,dtype=torch.float)\n",
        "weights = weights.to(device)\n",
        "cross_entropy = nn.CrossEntropyLoss(weight=weights)  # check nllLoss vs. CrossEntropy differences \n",
        "# number of training epochs\n",
        "epochs = 15"
      ],
      "execution_count": null,
      "outputs": []
    },
    {
      "cell_type": "markdown",
      "metadata": {
        "id": "Ckm3oV2wN83s"
      },
      "source": [
        "##Fine Tuning\n",
        "\n",
        "1.   With .to('cuda') specifying gpu(default is cpu)\n",
        "2.   Alteration: (1) model = bert (2) preds = preds.logits to access the right info\n",
        "3.   Save the model param into \"/content/drive/MyDrive/ABSA: notes/cht_bert.param\"\n",
        "\n"
      ]
    },
    {
      "cell_type": "code",
      "metadata": {
        "id": "U0DLqAD4Msow"
      },
      "source": [
        "def train():\n",
        "  \n",
        "  model.train()\n",
        "\n",
        "  total_loss, total_accuracy = 0, 0\n",
        "  \n",
        "  # empty list to save model predictions\n",
        "  total_preds=[]\n",
        "  \n",
        "  # iterate over batches\n",
        "  for step,batch in enumerate(train_dataloader):\n",
        "    \n",
        "    # progress update after every 50 batches.\n",
        "    if step % 50 == 0 and not step == 0:\n",
        "      print('  Batch {:>5,}  of  {:>5,}.'.format(step, len(train_dataloader)))\n",
        "\n",
        "    # push the batch to gpu\n",
        "    batch = [r.to(device) for r in batch]\n",
        " \n",
        "    sent_id, mask, labels = batch\n",
        "\n",
        "    # clear previously calculated gradients \n",
        "    model.zero_grad()        \n",
        "\n",
        "    # get model predictions for the current batch\n",
        "    preds = model(sent_id, mask).logits\n",
        "    # print(\"check preds size:\", preds.size())\n",
        "    # compute the loss between actual and predicted values\n",
        "    loss = cross_entropy(preds, labels)\n",
        "    # loss.requires_grad = True\n",
        "\n",
        "    # add on to the total loss\n",
        "    total_loss = total_loss + loss.item()\n",
        "\n",
        "    # backward pass to calculate the gradients\n",
        "    loss.backward()\n",
        "\n",
        "    # clip the the gradients to 1.0. It helps in preventing the exploding gradient problem\n",
        "    torch.nn.utils.clip_grad_norm_(model.parameters(), 1.0)\n",
        "\n",
        "    # update parameters\n",
        "    optimizer.step()\n",
        "\n",
        "    # model predictions are stored on GPU. So, push it to CPU\n",
        "    preds=preds.detach().cpu().numpy()\n",
        "\n",
        "    # append the model predictions\n",
        "    total_preds.append(preds)\n",
        "\n",
        "  # compute the training loss of the epoch\n",
        "  avg_loss = total_loss / len(train_dataloader)\n",
        "  \n",
        "  # predictions are in the form of (no. of batches, size of batch, no. of classes).\n",
        "  # reshape the predictions in form of (number of samples, no. of classes)\n",
        "  total_preds  = np.concatenate(total_preds, axis=0)\n",
        "\n",
        "  #returns the loss and predictions\n",
        "  return avg_loss, total_preds\n",
        "# function for evaluating the model\n",
        "def evaluate():\n",
        "  t0 = time.time()\n",
        "  print(\"\\nEvaluating...\")\n",
        "  \n",
        "  # deactivate dropout layers\n",
        "  model.eval()\n",
        "\n",
        "  total_loss, total_accuracy = 0, 0\n",
        "  \n",
        "  # empty list to save the model predictions\n",
        "  total_preds = []\n",
        "\n",
        "  # iterate over batches\n",
        "  for step,batch in enumerate(test_dataloader):\n",
        "    \n",
        "    # Progress update every 50 batches.\n",
        "    if step % 50 == 0 and not step == 0:\n",
        "      \n",
        "      # Calculate elapsed time in minutes.\n",
        "      # elapsed = format_time(time.time() - t0)\n",
        "            \n",
        "      # Report progress.\n",
        "      print('  Batch {:>5,}  of  {:>5,}.'.format(step, len(test_dataloader)))\n",
        "\n",
        "    # push the batch to gpu\n",
        "    batch = [t.to(device) for t in batch]\n",
        "\n",
        "    sent_id, mask, labels = batch\n",
        "\n",
        "    # deactivate autograd\n",
        "    with torch.no_grad():\n",
        "      \n",
        "      # model predictions\n",
        "      preds = model(sent_id, mask).logits\n",
        "      \n",
        "      # compute the validation loss between actual and predicted values\n",
        "      loss = cross_entropy(preds,labels)\n",
        "      total_loss = total_loss + loss.item()\n",
        "\n",
        "      preds = preds.detach().cpu().numpy()\n",
        "\n",
        "      total_preds.append(preds)\n",
        "\n",
        "  # compute the validation loss of the epoch\n",
        "  avg_loss = total_loss / len(test_dataloader) \n",
        "\n",
        "  # reshape the predictions in form of (number of samples, no. of classes)\n",
        "  total_preds  = np.concatenate(total_preds, axis=0)\n",
        "\n",
        "  return avg_loss, total_preds"
      ],
      "execution_count": null,
      "outputs": []
    },
    {
      "cell_type": "code",
      "metadata": {
        "id": "eu3Iy13POKJI",
        "colab": {
          "base_uri": "https://localhost:8080/"
        },
        "outputId": "3bb728d6-836b-4008-c9d4-5545afbc5815"
      },
      "source": [
        "import time\n",
        "best_loss = float('inf')\n",
        "# empty lists to store training and validation loss of each epoch\n",
        "train_losses=[]\n",
        "_losses=[]\n",
        "start = time.time()\n",
        "#for each epoch\n",
        "for epoch in range(epochs):\n",
        "    print('\\n Epoch {:} / {:}'.format(epoch + 1, epochs))\n",
        "    #train model\n",
        "    train_loss, _ = train()\n",
        "    #evaluate model\n",
        "    _loss, _ = evaluate()\n",
        "    \n",
        "    #save the best model\n",
        "    if _loss < best_loss:\n",
        "        best_loss = _loss\n",
        "        torch.save(model.state_dict(), 'saved_weights.pt')\n",
        "    \n",
        "    # append training and validation loss\n",
        "    train_losses.append(train_loss)\n",
        "    _losses.append(_loss)\n",
        "    \n",
        "    print(f'\\nTraining Loss: {train_loss:.3f}')\n",
        "    print(f'_Loss: {_loss:.3f}')\n",
        "end = time.time()\n",
        "print(\"Running {:.2f} seconds.\".format(end - start)) "
      ],
      "execution_count": null,
      "outputs": []
    },
    {
      "cell_type": "markdown",
      "metadata": {
        "id": "jmNQ_xnFA9yJ"
      },
      "source": [
        "####Evaluation"
      ]
    },
    {
      "cell_type": "code",
      "metadata": {
        "id": "SfPw5s-e83ov"
      },
      "source": [
        "!cp \"/content/saved_weights.pt\" -r \"/content/drive/MyDrive/ABSA: notes/stratified_best_params.pt\""
      ],
      "execution_count": null,
      "outputs": []
    },
    {
      "cell_type": "code",
      "metadata": {
        "colab": {
          "base_uri": "https://localhost:8080/"
        },
        "id": "jxhdUcB8yoFY",
        "outputId": "7efe356d-d234-41cc-895d-8513acd340dd"
      },
      "source": [
        "# classifier_model.save(saved_model_path, include_optimizer=False)\n",
        "PATH = \"/content/drive/MyDrive/ABSA: notes/stratified_best_params.pt\"\n",
        "model.load_state_dict(torch.load(PATH))\n",
        "# PATH = '/content/drive/MyDrive/{}_bert.param'.format('cht_SeqClas')\n",
        "# torch.save({\n",
        "#             'epoch': epoch,\n",
        "#             'model_state_dict': model.state_dict(),\n",
        "#             'optimizer_state_dict': optimizer.state_dict(),\n",
        "#             'loss': loss,\n",
        "#             }, PATH)"
      ],
      "execution_count": null,
      "outputs": []
    },
    {
      "cell_type": "code",
      "metadata": {
        "colab": {
          "base_uri": "https://localhost:8080/"
        },
        "id": "uOPeR98Sud-b",
        "outputId": "84b8cae7-4f82-4241-bb85-cb2a37bdaf02"
      },
      "source": [
        "'''\n",
        "test_seq = torch.tensor(X_test['input_ids']) # test data\n",
        "test_mask = torch.tensor(X_test['attention_mask']) # masking/padding info of test data, to be passed along with it \n",
        "test_y = torch.tensor(y_test.tolist()) # answers \n",
        "'''\n",
        "model.load_state_dict(torch.load(PATH))\n",
        "# get predictions for test data\n",
        "with torch.no_grad():\n",
        "  preds = model(test_seq.to(device), test_mask.to(device)).logits\n",
        "  preds = preds.detach().cpu().numpy()\n",
        "preds = np.argmax(preds, axis = 1)\n",
        "print(classification_report(test_y, preds))"
      ],
      "execution_count": null,
      "outputs": []
    },
    {
      "cell_type": "code",
      "metadata": {
        "colab": {
          "base_uri": "https://localhost:8080/",
          "height": 573
        },
        "id": "GwD4IeTj4dP9",
        "outputId": "885ca44c-f54c-41db-ab6b-b8eb76a7af59"
      },
      "source": [
        "# draw plots\n",
        "import matplotlib.pyplot as plt\n",
        "epochs = range(1, 16) # 1~15 epochs\n",
        "test_losses = _losses  \n",
        "plt.plot(epochs, test_losses)\n",
        "plt.title('Test losses/epochs line chart') \n",
        "plt.xlabel('epoch')\n",
        "plt.ylabel('test loss')\n",
        "plt.ylim([1, 2]) # Cross Entropy: summation [log(-(機率)＊布林值)]\n",
        "plt.show()\n",
        "##########\n",
        "epochs = range(1, 16) # 1~15 epochs\n",
        "train_losses = train_losses  \n",
        "plt.plot(epochs, train_losses)\n",
        "plt.title('Train losses/epochs line chart') \n",
        "plt.xlabel('epoch')\n",
        "plt.ylabel('train loss')\n",
        "# plt.ylim([1, 2]) # Cross Entropy: summation [log(-(機率)＊布林值)]\n",
        "plt.show()"
      ],
      "execution_count": null,
      "outputs": []
    }
  ]
}
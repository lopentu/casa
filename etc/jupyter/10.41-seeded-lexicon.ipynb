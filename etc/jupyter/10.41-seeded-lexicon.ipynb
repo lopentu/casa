{
 "cells": [
  {
   "cell_type": "code",
   "execution_count": 1,
   "metadata": {},
   "outputs": [],
   "source": [
    "%load_ext autoreload\n",
    "%autoreload 2"
   ]
  },
  {
   "cell_type": "code",
   "execution_count": 2,
   "metadata": {},
   "outputs": [],
   "source": [
    "from import_casa import casa"
   ]
  },
  {
   "cell_type": "code",
   "execution_count": 3,
   "metadata": {},
   "outputs": [],
   "source": [
    "import pandas as pd\n",
    "import pickle\n",
    "from gensim.models import FastText"
   ]
  },
  {
   "cell_type": "code",
   "execution_count": 4,
   "metadata": {},
   "outputs": [
    {
     "name": "stderr",
     "output_type": "stream",
     "text": [
      "[INFO] 2021-01-06 14:50:26,613 gensim.utils: loading FastText object from E:\\LangOn\\casa\\data\\eda\\spm\\sp_vectors.model\n",
      "[INFO] 2021-01-06 14:50:26,877 gensim.utils: loading wv recursively from E:\\LangOn\\casa\\data\\eda\\spm\\sp_vectors.model.wv.* with mmap=None\n",
      "[INFO] 2021-01-06 14:50:26,878 gensim.utils: loading vectors_ngrams from E:\\LangOn\\casa\\data\\eda\\spm\\sp_vectors.model.wv.vectors_ngrams.npy with mmap=None\n",
      "[INFO] 2021-01-06 14:50:34,896 gensim.utils: setting ignored attribute vectors_ngrams_norm to None\n",
      "[INFO] 2021-01-06 14:50:34,896 gensim.utils: setting ignored attribute vectors_norm to None\n",
      "[INFO] 2021-01-06 14:50:34,897 gensim.utils: setting ignored attribute vectors_vocab_norm to None\n",
      "[INFO] 2021-01-06 14:50:34,897 gensim.utils: setting ignored attribute buckets_word to None\n",
      "[INFO] 2021-01-06 14:50:34,898 gensim.utils: loading vocabulary recursively from E:\\LangOn\\casa\\data\\eda\\spm\\sp_vectors.model.vocabulary.* with mmap=None\n",
      "[INFO] 2021-01-06 14:50:34,899 gensim.utils: loading trainables recursively from E:\\LangOn\\casa\\data\\eda\\spm\\sp_vectors.model.trainables.* with mmap=None\n",
      "[INFO] 2021-01-06 14:50:34,899 gensim.utils: loading vectors_ngrams_lockf from E:\\LangOn\\casa\\data\\eda\\spm\\sp_vectors.model.trainables.vectors_ngrams_lockf.npy with mmap=None\n",
      "[INFO] 2021-01-06 14:50:44,201 gensim.utils: loaded E:\\LangOn\\casa\\data\\eda\\spm\\sp_vectors.model\n"
     ]
    },
    {
     "data": {
      "text/plain": [
       "(5885, 100)"
      ]
     },
     "execution_count": 4,
     "metadata": {},
     "output_type": "execute_result"
    }
   ],
   "source": [
    "path = casa.get_data_path() / \"eda/spm/sp_vectors.model\"\n",
    "model = FastText.load(str(path))\n",
    "model.wv.vectors.shape"
   ]
  },
  {
   "cell_type": "markdown",
   "metadata": {},
   "source": [
    "## Seed list"
   ]
  },
  {
   "cell_type": "code",
   "execution_count": 24,
   "metadata": {},
   "outputs": [
    {
     "data": {
      "text/html": [
       "<div>\n",
       "<style scoped>\n",
       "    .dataframe tbody tr th:only-of-type {\n",
       "        vertical-align: middle;\n",
       "    }\n",
       "\n",
       "    .dataframe tbody tr th {\n",
       "        vertical-align: top;\n",
       "    }\n",
       "\n",
       "    .dataframe thead th {\n",
       "        text-align: right;\n",
       "    }\n",
       "</style>\n",
       "<table border=\"1\" class=\"dataframe\">\n",
       "  <thead>\n",
       "    <tr style=\"text-align: right;\">\n",
       "      <th></th>\n",
       "      <th>Category</th>\n",
       "      <th>Seed</th>\n",
       "    </tr>\n",
       "  </thead>\n",
       "  <tbody>\n",
       "    <tr>\n",
       "      <th>0</th>\n",
       "      <td>資費方案</td>\n",
       "      <td>99</td>\n",
       "    </tr>\n",
       "    <tr>\n",
       "      <th>1</th>\n",
       "      <td>資費方案</td>\n",
       "      <td>88</td>\n",
       "    </tr>\n",
       "    <tr>\n",
       "      <th>2</th>\n",
       "      <td>資費方案</td>\n",
       "      <td>月租費</td>\n",
       "    </tr>\n",
       "    <tr>\n",
       "      <th>3</th>\n",
       "      <td>資費方案</td>\n",
       "      <td>合約</td>\n",
       "    </tr>\n",
       "    <tr>\n",
       "      <th>4</th>\n",
       "      <td>資費方案</td>\n",
       "      <td>大4G</td>\n",
       "    </tr>\n",
       "    <tr>\n",
       "      <th>...</th>\n",
       "      <td>...</td>\n",
       "      <td>...</td>\n",
       "    </tr>\n",
       "    <tr>\n",
       "      <th>96</th>\n",
       "      <td>加值服務</td>\n",
       "      <td>vowifi</td>\n",
       "    </tr>\n",
       "    <tr>\n",
       "      <th>97</th>\n",
       "      <td>加值服務</td>\n",
       "      <td>停車費</td>\n",
       "    </tr>\n",
       "    <tr>\n",
       "      <th>98</th>\n",
       "      <td>加值服務</td>\n",
       "      <td>達鈴</td>\n",
       "    </tr>\n",
       "    <tr>\n",
       "      <th>99</th>\n",
       "      <td>加值服務</td>\n",
       "      <td>答鈴</td>\n",
       "    </tr>\n",
       "    <tr>\n",
       "      <th>100</th>\n",
       "      <td>加值服務</td>\n",
       "      <td>轉接</td>\n",
       "    </tr>\n",
       "  </tbody>\n",
       "</table>\n",
       "<p>94 rows × 2 columns</p>\n",
       "</div>"
      ],
      "text/plain": [
       "    Category    Seed\n",
       "0       資費方案      99\n",
       "1       資費方案      88\n",
       "2       資費方案     月租費\n",
       "3       資費方案      合約\n",
       "4       資費方案     大4G\n",
       "..       ...     ...\n",
       "96      加值服務  vowifi\n",
       "97      加值服務     停車費\n",
       "98      加值服務      達鈴\n",
       "99      加值服務      答鈴\n",
       "100     加值服務      轉接\n",
       "\n",
       "[94 rows x 2 columns]"
      ]
     },
     "execution_count": 24,
     "metadata": {},
     "output_type": "execute_result"
    }
   ],
   "source": [
    "seed_list = pd.read_excel(casa.get_data_path() / \"10809.xlsx\")\n",
    "seed_list = seed_list.iloc[:,:3].melt().dropna()\n",
    "seed_list.columns = [\"Category\", \"Seed\"]\n",
    "seed_list"
   ]
  },
  {
   "cell_type": "code",
   "execution_count": 32,
   "metadata": {},
   "outputs": [
    {
     "data": {
      "text/plain": [
       "<bound method WordEmbeddingsKeyedVectors.most_similar of <gensim.models.keyedvectors.FastTextKeyedVectors object at 0x000001A76F91C7C0>>"
      ]
     },
     "execution_count": 32,
     "metadata": {},
     "output_type": "execute_result"
    }
   ],
   "source": [
    "model.wv.most_similar"
   ]
  },
  {
   "cell_type": "code",
   "execution_count": 42,
   "metadata": {},
   "outputs": [],
   "source": [
    "candidates = []\n",
    "for row in seed_list.itertuples():\n",
    "    seed = row.Seed\n",
    "    rets = model.wv.most_similar(str(seed), topn=20)\n",
    "    candidates.append([x[0] for x in rets])\n",
    "seed_list[\"candidates\"] = [\",\".join(candid_x) for candid_x in candidates]"
   ]
  },
  {
   "cell_type": "code",
   "execution_count": 49,
   "metadata": {},
   "outputs": [],
   "source": [
    "seed_list.to_csv(casa.get_data_path() / \"seeded_spm.csv\", encoding=\"big5\", errors='ignore')"
   ]
  },
  {
   "cell_type": "code",
   "execution_count": null,
   "metadata": {},
   "outputs": [],
   "source": []
  }
 ],
 "metadata": {
  "kernelspec": {
   "display_name": "Python 3",
   "language": "python",
   "name": "python3"
  },
  "language_info": {
   "codemirror_mode": {
    "name": "ipython",
    "version": 3
   },
   "file_extension": ".py",
   "mimetype": "text/x-python",
   "name": "python",
   "nbconvert_exporter": "python",
   "pygments_lexer": "ipython3",
   "version": "3.8.2"
  }
 },
 "nbformat": 4,
 "nbformat_minor": 4
}

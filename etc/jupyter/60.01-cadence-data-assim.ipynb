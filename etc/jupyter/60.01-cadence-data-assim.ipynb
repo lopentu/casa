{
 "cells": [
  {
   "cell_type": "code",
   "execution_count": 2,
   "metadata": {},
   "outputs": [],
   "source": [
    "%load_ext autoreload\n",
    "%autoreload 2"
   ]
  },
  {
   "cell_type": "code",
   "execution_count": 3,
   "metadata": {},
   "outputs": [],
   "source": [
    "from import_casa import casa"
   ]
  },
  {
   "cell_type": "markdown",
   "metadata": {},
   "source": [
    "## New data assimilation"
   ]
  },
  {
   "cell_type": "code",
   "execution_count": 4,
   "metadata": {},
   "outputs": [],
   "source": [
    "import numpy as np\n",
    "import pandas as pd"
   ]
  },
  {
   "cell_type": "code",
   "execution_count": null,
   "metadata": {},
   "outputs": [],
   "source": [
    "threads = []\n",
    "filenames = \"11001,11002,11003,11004,11005\".split(\",\")\n",
    "for file_x in filenames:\n",
    "    data_path = casa.get_data_path() / f\"cht-raw-data/2021/{file_x}.xlsx\"    \n",
    "    data = pd.read_excel(data_path)\n",
    "    data = data.replace(np.nan, '')    \n",
    "    print(file_x, data.shape)\n",
    "    data_iter = (row.to_dict() for _, row in data.iterrows())\n",
    "    threads_x = casa.make_opinion_threads(data_iter)\n",
    "    threads.extend(threads_x)"
   ]
  },
  {
   "cell_type": "code",
   "execution_count": 5,
   "metadata": {},
   "outputs": [],
   "source": [
    "import pickle\n",
    "with (casa.get_data_path() / f\"threads/cht2021-JanMay.pkl\").open(\"wb\") as fout:\n",
    "    pickle.dump(threads, fout)"
   ]
  },
  {
   "cell_type": "code",
   "execution_count": 17,
   "metadata": {},
   "outputs": [
    {
     "data": {
      "text/plain": [
       "'mobile01'"
      ]
     },
     "execution_count": 17,
     "metadata": {},
     "output_type": "execute_result"
    }
   ],
   "source": [
    "threads[200].source"
   ]
  },
  {
   "cell_type": "code",
   "execution_count": 22,
   "metadata": {},
   "outputs": [
    {
     "data": {
      "text/plain": [
       "[<Opinion [mobile01] 雷門Attila: (中央社訊息服務2021010109:2...>,\n",
       " <Opinion [mobile01] 阿嘍嘍: 真有臉 你怎不試試中華的hamivide...>,\n",
       " <Opinion [mobile01] 40255: 我也覺得 三大裡面遠傳對5G很積極 中華...>,\n",
       " <Opinion [mobile01] kwg16: 多視角轉播在4G時代中華和台哥大就玩爛了...>,\n",
       " <Opinion [mobile01] lastjocker: 收看平台及來源是否有支持多視角轉播才是關...>]"
      ]
     },
     "execution_count": 22,
     "metadata": {},
     "output_type": "execute_result"
    }
   ],
   "source": [
    "list(threads[200].opinions())"
   ]
  },
  {
   "cell_type": "code",
   "execution_count": 24,
   "metadata": {},
   "outputs": [
    {
     "data": {
      "text/plain": [
       "'Y'"
      ]
     },
     "execution_count": 24,
     "metadata": {},
     "output_type": "execute_result"
    }
   ],
   "source": [
    "threads[200].main.sentence_sentiment"
   ]
  },
  {
   "cell_type": "markdown",
   "metadata": {},
   "source": [
    "## Sample opinions (every 20)"
   ]
  },
  {
   "cell_type": "code",
   "execution_count": 5,
   "metadata": {},
   "outputs": [],
   "source": [
    "import pickle\n",
    "with (casa.get_data_path() / f\"threads/cht2021-JanMay.pkl\").open(\"rb\") as fin:\n",
    "    threads = pickle.load(fin)"
   ]
  },
  {
   "cell_type": "code",
   "execution_count": 6,
   "metadata": {},
   "outputs": [],
   "source": [
    "from itertools import chain, islice\n",
    "op_list = map(lambda x: x.opinions(), threads)\n",
    "op_sample = []\n",
    "for op_x in islice(chain.from_iterable(op_list), 0, None, 20):\n",
    "    op_sample.append(op_x)"
   ]
  },
  {
   "cell_type": "code",
   "execution_count": 7,
   "metadata": {},
   "outputs": [
    {
     "data": {
      "text/plain": [
       "5405"
      ]
     },
     "execution_count": 7,
     "metadata": {},
     "output_type": "execute_result"
    }
   ],
   "source": [
    "len(op_sample)"
   ]
  },
  {
   "cell_type": "code",
   "execution_count": 8,
   "metadata": {},
   "outputs": [],
   "source": [
    "import pickle\n",
    "with (casa.get_data_path() / f\"threads/cht2021-JanMay-op-every20.pkl\").open(\"wb\") as fout:\n",
    "    pickle.dump(op_sample, fout)"
   ]
  },
  {
   "cell_type": "code",
   "execution_count": 13,
   "metadata": {},
   "outputs": [
    {
     "data": {
      "text/plain": [
       "'D20210105203915560337744645705'"
      ]
     },
     "execution_count": 13,
     "metadata": {},
     "output_type": "execute_result"
    }
   ],
   "source": [
    "op_sample[0].id"
   ]
  },
  {
   "cell_type": "code",
   "execution_count": 14,
   "metadata": {},
   "outputs": [],
   "source": [
    "op_items = []\n",
    "for op_x in op_sample:\n",
    "    op_items.append((op_x.id, op_x.text, op_x.sentence_sentiment))\n"
   ]
  },
  {
   "cell_type": "code",
   "execution_count": 17,
   "metadata": {},
   "outputs": [],
   "source": [
    "op_csv = pd.DataFrame.from_records(op_items, columns=\"id,text,sentence_sentiment\".split(\",\"))\n",
    "op_csv.to_csv(casa.get_data_path() / f\"threads/cht2021-JanMay-op-every20-text.csv\", index=None)"
   ]
  },
  {
   "cell_type": "code",
   "execution_count": null,
   "metadata": {},
   "outputs": [],
   "source": []
  }
 ],
 "metadata": {
  "kernelspec": {
   "display_name": "Python 3",
   "language": "python",
   "name": "python3"
  },
  "language_info": {
   "codemirror_mode": {
    "name": "ipython",
    "version": 3
   },
   "file_extension": ".py",
   "mimetype": "text/x-python",
   "name": "python",
   "nbconvert_exporter": "python",
   "pygments_lexer": "ipython3",
   "version": "3.8.2"
  }
 },
 "nbformat": 4,
 "nbformat_minor": 4
}

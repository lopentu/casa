{
 "cells": [
  {
   "cell_type": "code",
   "execution_count": 1,
   "metadata": {},
   "outputs": [],
   "source": [
    "from gensim.models import FastText"
   ]
  },
  {
   "cell_type": "code",
   "execution_count": 3,
   "metadata": {},
   "outputs": [],
   "source": [
    "model = FastText.load(\"../../data/eda/spm/sp_vectors.model\")"
   ]
  },
  {
   "cell_type": "code",
   "execution_count": 4,
   "metadata": {},
   "outputs": [
    {
     "data": {
      "text/plain": [
       "[('台灣大', 0.7099623680114746),\n",
       " ('中華電', 0.6874696016311646),\n",
       " ('台灣之星的', 0.6767827272415161),\n",
       " ('亞太電', 0.6112518310546875),\n",
       " ('。遠傳', 0.6010882258415222),\n",
       " ('中華電信的', 0.5904132723808289),\n",
       " ('遠傳', 0.5849370956420898),\n",
       " ('今日', 0.5521818399429321),\n",
       " ('#iPhone', 0.5488035678863525),\n",
       " ('實體門市', 0.546295702457428),\n",
       " ('網路門市', 0.5450388789176941),\n",
       " ('iPhone', 0.5425416231155396),\n",
       " ('。中華電信', 0.5404197573661804),\n",
       " ('亞太5G', 0.5296310782432556),\n",
       " ('台哥大', 0.5261499881744385),\n",
       " ('12、iPhone', 0.525742769241333),\n",
       " ('亞太的', 0.5132642984390259),\n",
       " ('電信三雄', 0.501976728439331),\n",
       " ('iPhone12', 0.5016946792602539),\n",
       " ('和遠傳', 0.500913679599762)]"
      ]
     },
     "execution_count": 4,
     "metadata": {},
     "output_type": "execute_result"
    }
   ],
   "source": [
    "model.wv.most_similar([\"中華電信\", \"遠傳電信\", \"台灣大哥大\", \"台灣之星\", \"亞太電信\"], topn=20)"
   ]
  },
  {
   "cell_type": "code",
   "execution_count": 6,
   "metadata": {},
   "outputs": [
    {
     "data": {
      "text/plain": [
       "[('不限速吃到飽', 0.8155321478843689),\n",
       " ('吃到飽的', 0.7923474907875061),\n",
       " ('4G吃到飽', 0.7642474174499512),\n",
       " ('5G吃到飽', 0.74726802110672),\n",
       " ('上網吃到飽', 0.7461356520652771),\n",
       " ('499吃到飽', 0.686318039894104),\n",
       " ('吃到', 0.6686857342720032),\n",
       " ('不限速', 0.645523190498352),\n",
       " ('月租', 0.6200054883956909),\n",
       " ('不降速', 0.5731196403503418)]"
      ]
     },
     "execution_count": 6,
     "metadata": {},
     "output_type": "execute_result"
    }
   ],
   "source": [
    "model.wv.most_similar(\"吃到飽\")"
   ]
  },
  {
   "cell_type": "code",
   "execution_count": null,
   "metadata": {},
   "outputs": [],
   "source": []
  }
 ],
 "metadata": {
  "kernelspec": {
   "display_name": "Python 3",
   "language": "python",
   "name": "python3"
  },
  "language_info": {
   "codemirror_mode": {
    "name": "ipython",
    "version": 3
   },
   "file_extension": ".py",
   "mimetype": "text/x-python",
   "name": "python",
   "nbconvert_exporter": "python",
   "pygments_lexer": "ipython3",
   "version": "3.8.2"
  }
 },
 "nbformat": 4,
 "nbformat_minor": 4
}

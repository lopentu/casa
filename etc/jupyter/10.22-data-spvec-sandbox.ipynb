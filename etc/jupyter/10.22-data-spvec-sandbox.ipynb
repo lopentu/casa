{
 "cells": [
  {
   "cell_type": "code",
   "execution_count": 1,
   "metadata": {},
   "outputs": [],
   "source": [
    "from gensim.models import FastText"
   ]
  },
  {
   "cell_type": "markdown",
   "metadata": {},
   "source": [
    "![arch](../../doc/arch1.png)"
   ]
  },
  {
   "cell_type": "code",
   "execution_count": 2,
   "metadata": {},
   "outputs": [],
   "source": [
    "model = FastText.load(\"../../data/eda/spm/sp_vectors.model\")"
   ]
  },
  {
   "cell_type": "code",
   "execution_count": 3,
   "metadata": {},
   "outputs": [
    {
     "data": {
      "text/plain": [
       "[('台灣大', 0.7099623680114746),\n",
       " ('中華電', 0.6874696016311646),\n",
       " ('台灣之星的', 0.6767826676368713),\n",
       " ('亞太電', 0.6112518310546875),\n",
       " ('。遠傳', 0.6010881662368774),\n",
       " ('中華電信的', 0.5904132723808289),\n",
       " ('遠傳', 0.5849370360374451),\n",
       " ('今日', 0.5521818399429321),\n",
       " ('#iPhone', 0.5488035678863525),\n",
       " ('實體門市', 0.546295702457428),\n",
       " ('網路門市', 0.5450389385223389),\n",
       " ('iPhone', 0.5425416231155396),\n",
       " ('。中華電信', 0.5404197573661804),\n",
       " ('亞太5G', 0.5296311378479004),\n",
       " ('台哥大', 0.5261500477790833),\n",
       " ('12、iPhone', 0.5257427096366882),\n",
       " ('亞太的', 0.5132642984390259),\n",
       " ('電信三雄', 0.501976728439331),\n",
       " ('iPhone12', 0.5016946196556091),\n",
       " ('和遠傳', 0.5009137392044067)]"
      ]
     },
     "execution_count": 3,
     "metadata": {},
     "output_type": "execute_result"
    }
   ],
   "source": [
    "model.wv.most_similar([\"中華電信\", \"遠傳電信\", \"台灣大哥大\", \"台灣之星\", \"亞太電信\"], topn=20)"
   ]
  },
  {
   "cell_type": "code",
   "execution_count": 4,
   "metadata": {},
   "outputs": [
    {
     "data": {
      "text/plain": [
       "True"
      ]
     },
     "execution_count": 4,
     "metadata": {},
     "output_type": "execute_result"
    }
   ],
   "source": [
    "\"吃到飽\" in model.wv.vocab"
   ]
  },
  {
   "cell_type": "code",
   "execution_count": 7,
   "metadata": {},
   "outputs": [
    {
     "data": {
      "text/plain": [
       "5885"
      ]
     },
     "execution_count": 7,
     "metadata": {},
     "output_type": "execute_result"
    }
   ],
   "source": [
    "len(model.wv.vocab)"
   ]
  },
  {
   "cell_type": "code",
   "execution_count": 14,
   "metadata": {},
   "outputs": [
    {
     "data": {
      "text/plain": [
       "array([[ 1.2887255 ,  0.64887524, -1.6026728 , ..., -1.5047371 ,\n",
       "        -0.72498655,  2.7571714 ],\n",
       "       [ 1.0274014 , -1.4266653 , -0.91416836, ..., -0.8089467 ,\n",
       "        -0.940001  ,  2.7081943 ],\n",
       "       [ 0.9021812 , -0.50004554, -1.9488792 , ..., -1.2025967 ,\n",
       "        -0.40323955,  1.1419854 ],\n",
       "       ...,\n",
       "       [-0.02193561,  0.01475072,  0.00370934, ...,  0.04832106,\n",
       "         0.03509166,  0.01739158],\n",
       "       [ 0.02915834,  0.06929599, -0.01342872, ..., -0.03222711,\n",
       "        -0.03420887,  0.01708047],\n",
       "       [-0.02153915, -0.0270241 , -0.0930367 , ..., -0.03510037,\n",
       "         0.09077886,  0.01960335]], dtype=float32)"
      ]
     },
     "execution_count": 14,
     "metadata": {},
     "output_type": "execute_result"
    }
   ],
   "source": [
    "model.wv.vectors"
   ]
  },
  {
   "cell_type": "code",
   "execution_count": 6,
   "metadata": {},
   "outputs": [
    {
     "data": {
      "text/plain": [
       "[('不限速吃到飽', 0.8155321478843689),\n",
       " ('吃到飽的', 0.7923474311828613),\n",
       " ('4G吃到飽', 0.7642474174499512),\n",
       " ('5G吃到飽', 0.7472679615020752),\n",
       " ('上網吃到飽', 0.7461356520652771),\n",
       " ('499吃到飽', 0.6863180994987488),\n",
       " ('吃到', 0.668685793876648),\n",
       " ('不限速', 0.645523190498352),\n",
       " ('月租', 0.6200054883956909),\n",
       " ('不降速', 0.5731196403503418)]"
      ]
     },
     "execution_count": 6,
     "metadata": {},
     "output_type": "execute_result"
    }
   ],
   "source": [
    "model.wv.most_similar(\"吃到飽\")"
   ]
  },
  {
   "cell_type": "code",
   "execution_count": 5,
   "metadata": {},
   "outputs": [
    {
     "data": {
      "text/plain": [
       "[('電信', 0.7819846272468567),\n",
       " ('的電信', 0.7471333742141724),\n",
       " ('家電信', 0.7299942970275879),\n",
       " ('中華電信', 0.7017066478729248),\n",
       " ('大電信', 0.6756302118301392),\n",
       " ('三大電信', 0.6480193138122559),\n",
       " ('遠傳電信', 0.6340689063072205),\n",
       " ('亞太電信', 0.5948659181594849),\n",
       " ('電信業者', 0.5879279375076294),\n",
       " ('台灣之星', 0.5570327043533325)]"
      ]
     },
     "execution_count": 5,
     "metadata": {},
     "output_type": "execute_result"
    }
   ],
   "source": [
    "model.wv.most_similar(\"種花電信\")"
   ]
  },
  {
   "cell_type": "code",
   "execution_count": 7,
   "metadata": {},
   "outputs": [
    {
     "data": {
      "text/plain": [
       "[('588', 0.7021204233169556),\n",
       " ('NP', 0.6930183172225952),\n",
       " ('488', 0.6650664806365967),\n",
       " ('np', 0.6543096303939819),\n",
       " ('新辦', 0.6496073007583618),\n",
       " ('單門號', 0.6135229468345642),\n",
       " ('續約', 0.5896435379981995),\n",
       " ('319', 0.574337363243103),\n",
       " ('直營門市', 0.5706929564476013),\n",
       " ('合約到期', 0.5589689016342163)]"
      ]
     },
     "execution_count": 7,
     "metadata": {},
     "output_type": "execute_result"
    }
   ],
   "source": [
    "model.wv.most_similar(\"攜碼\")"
   ]
  },
  {
   "cell_type": "code",
   "execution_count": null,
   "metadata": {},
   "outputs": [],
   "source": []
  }
 ],
 "metadata": {
  "kernelspec": {
   "display_name": "Python 3",
   "language": "python",
   "name": "python3"
  },
  "language_info": {
   "codemirror_mode": {
    "name": "ipython",
    "version": 3
   },
   "file_extension": ".py",
   "mimetype": "text/x-python",
   "name": "python",
   "nbconvert_exporter": "python",
   "pygments_lexer": "ipython3",
   "version": "3.7.4"
  }
 },
 "nbformat": 4,
 "nbformat_minor": 4
}

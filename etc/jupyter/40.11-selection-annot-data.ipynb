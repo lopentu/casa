{
 "cells": [
  {
   "cell_type": "code",
   "execution_count": 1,
   "metadata": {},
   "outputs": [],
   "source": [
    "%load_ext autoreload\n",
    "%autoreload 2"
   ]
  },
  {
   "cell_type": "code",
   "execution_count": 2,
   "metadata": {},
   "outputs": [],
   "source": [
    "import pickle\n",
    "import random\n",
    "import numpy as np\n",
    "from import_casa import casa\n",
    "from casa.cadet import get_thread_aspect\n"
   ]
  },
  {
   "cell_type": "code",
   "execution_count": 3,
   "metadata": {},
   "outputs": [],
   "source": [
    "with (casa.get_data_path()/\"threads/cht-2020-merged-cadet-op20.pkl\").open(\"rb\") as fin:\n",
    "    threads = pickle.load(fin)"
   ]
  },
  {
   "cell_type": "code",
   "execution_count": 4,
   "metadata": {},
   "outputs": [
    {
     "data": {
      "text/plain": [
       "56064"
      ]
     },
     "execution_count": 4,
     "metadata": {},
     "output_type": "execute_result"
    }
   ],
   "source": [
    "len(threads)"
   ]
  },
  {
   "cell_type": "code",
   "execution_count": 5,
   "metadata": {},
   "outputs": [],
   "source": [
    "threads_aspects = []\n",
    "for idx, thread_x in enumerate(threads):\n",
    "    aspect_x = (idx,\n",
    "        *get_thread_aspect(thread_x))\n",
    "    threads_aspects.append(aspect_x)"
   ]
  },
  {
   "cell_type": "code",
   "execution_count": 6,
   "metadata": {},
   "outputs": [
    {
     "data": {
      "text/plain": [
       "56064"
      ]
     },
     "execution_count": 6,
     "metadata": {},
     "output_type": "execute_result"
    }
   ],
   "source": [
    "len(threads_aspects)"
   ]
  },
  {
   "cell_type": "code",
   "execution_count": 7,
   "metadata": {},
   "outputs": [
    {
     "name": "stdout",
     "output_type": "stream",
     "text": [
      "{'中華電信': 0.29, '台灣大哥大': 0.13, None: 0.19, '遠傳電信': 0.13, '其他電信': 0.01, '台灣之星': 0.16, '亞太電信': 0.08}\n",
      "{'其他': 0.05, '資費方案': 0.49, '通訊品質': 0.26, None: 0.07, '加值服務': 0.13}\n"
     ]
    }
   ],
   "source": [
    "from collections import Counter\n",
    "ent_probs = Counter(x[1] for x in threads_aspects)\n",
    "ent_probs = {k: round(v/sum(ent_probs.values()), 2) for k, v in ent_probs.items()}\n",
    "aspect_probs = Counter(x[2] for x in threads_aspects)\n",
    "aspect_probs = {k: round(v/sum(aspect_probs.values()), 2) for k, v in aspect_probs.items()}\n",
    "print(ent_probs)\n",
    "print(aspect_probs)"
   ]
  },
  {
   "cell_type": "markdown",
   "metadata": {},
   "source": [
    "電信：中華電信(80%)、其他電信等比例 (20%)\n",
    "屬性：等比例抽取 (資費)"
   ]
  },
  {
   "cell_type": "code",
   "execution_count": 8,
   "metadata": {},
   "outputs": [
    {
     "data": {
      "text/plain": [
       "{'中華電信': 0.8,\n",
       " '台灣大哥大': 0.037142857142857144,\n",
       " None: 0.0542857142857143,\n",
       " '遠傳電信': 0.037142857142857144,\n",
       " '其他電信': 0.0028571428571428576,\n",
       " '台灣之星': 0.04571428571428572,\n",
       " '亞太電信': 0.02285714285714286}"
      ]
     },
     "execution_count": 8,
     "metadata": {},
     "output_type": "execute_result"
    }
   ],
   "source": [
    "ent_sample_probs = ent_probs\n",
    "ent_sample_probs[\"中華電信\"] = 0.8\n",
    "Z_ent_chtx = sum(ent_probs.values()) - ent_probs[\"中華電信\"]\n",
    "for ent_x in ent_probs.keys():\n",
    "    if ent_x == \"中華電信\": continue\n",
    "    ent_sample_probs[ent_x] = (ent_probs[ent_x]/Z_ent_chtx) * .2\n",
    "ent_sample_probs"
   ]
  },
  {
   "cell_type": "markdown",
   "metadata": {},
   "source": [
    "## Build Samples"
   ]
  },
  {
   "cell_type": "code",
   "execution_count": 9,
   "metadata": {},
   "outputs": [],
   "source": [
    "import random\n",
    "rng = random.Random(12345)"
   ]
  },
  {
   "cell_type": "code",
   "execution_count": 10,
   "metadata": {},
   "outputs": [],
   "source": [
    "n_batch, batch_size = 20, 1000\n",
    "N = batch_size * n_batch\n",
    "thread_idxs = list(range(len(threads)))\n",
    "rng.shuffle(thread_idxs)"
   ]
  },
  {
   "cell_type": "code",
   "execution_count": 11,
   "metadata": {},
   "outputs": [
    {
     "name": "stdout",
     "output_type": "stream",
     "text": [
      "('中華電信', '資費方案') cannot be fully sampled. Expected/Actual:  7841 7090\n",
      "('中華電信', None) cannot be fully sampled. Expected/Actual:  1121 855\n"
     ]
    }
   ],
   "source": [
    "sample_ents = np.repeat(list(ent_probs.keys()), [int(x*N+1) for x in ent_probs.values()])\n",
    "sample_ents = sample_ents[:N]\n",
    "sample_ents_freq = Counter(sample_ents)\n",
    "sample_attrs = []\n",
    "for ent_x, ent_freq in sample_ents_freq.items():\n",
    "    attrs = np.repeat(list(aspect_probs.keys()), [int(x*ent_freq+1) for x in aspect_probs.values()])\n",
    "    sample_attrs.extend(attrs[:ent_freq])\n",
    "\n",
    "thread_sample = []\n",
    "sample_scheme = Counter(zip(sample_ents, sample_attrs))\n",
    "sample_scheme_ori = sample_scheme.copy()\n",
    "for tidx in thread_idxs:\n",
    "    _, tent, tattr, _, _ = threads_aspects[tidx]\n",
    "    if sample_scheme[(tent,tattr)] > 0:\n",
    "        thread_sample.append((tent, tattr, tidx))\n",
    "        sample_scheme[(tent,tattr)] -= 1\n",
    "\n",
    "if sum(sample_scheme.values()) > 0:\n",
    "    for (ent, att), freq in sample_scheme.items():\n",
    "        if freq == 0: continue\n",
    "        ori_freq = sample_scheme_ori[(ent, att)]\n",
    "        print((ent, att), \"cannot be fully sampled. Expected/Actual: \", \n",
    "              ori_freq, ori_freq-freq)\n",
    "\n",
    "\n",
    "    "
   ]
  },
  {
   "cell_type": "code",
   "execution_count": 12,
   "metadata": {},
   "outputs": [],
   "source": [
    "import pandas as pd"
   ]
  },
  {
   "cell_type": "code",
   "execution_count": 13,
   "metadata": {},
   "outputs": [
    {
     "data": {
      "text/plain": [
       "18983"
      ]
     },
     "execution_count": 13,
     "metadata": {},
     "output_type": "execute_result"
    }
   ],
   "source": [
    "sample_table = pd.DataFrame(thread_sample, columns=[\"entity\", \"attribute\", \"thread_idx\"])\\\n",
    "                .sort_values([\"entity\", \"attribute\"])\n",
    "sample_table[\"batch\"] = np.tile(np.arange(n_batch), batch_size)[:sample_table.shape[0]]\n",
    "sample_table.fillna(\"[NA]\", inplace=True)\n",
    "sample_table.shape[0]"
   ]
  },
  {
   "cell_type": "code",
   "execution_count": 14,
   "metadata": {},
   "outputs": [
    {
     "data": {
      "text/html": [
       "<div>\n",
       "<style scoped>\n",
       "    .dataframe tbody tr th:only-of-type {\n",
       "        vertical-align: middle;\n",
       "    }\n",
       "\n",
       "    .dataframe tbody tr th {\n",
       "        vertical-align: top;\n",
       "    }\n",
       "\n",
       "    .dataframe thead th {\n",
       "        text-align: right;\n",
       "    }\n",
       "</style>\n",
       "<table border=\"1\" class=\"dataframe\">\n",
       "  <thead>\n",
       "    <tr style=\"text-align: right;\">\n",
       "      <th></th>\n",
       "      <th>entity</th>\n",
       "      <th>attribute</th>\n",
       "      <th>thread_idx</th>\n",
       "      <th>batch</th>\n",
       "    </tr>\n",
       "  </thead>\n",
       "  <tbody>\n",
       "    <tr>\n",
       "      <th>23</th>\n",
       "      <td>中華電信</td>\n",
       "      <td>其他</td>\n",
       "      <td>10317</td>\n",
       "      <td>0</td>\n",
       "    </tr>\n",
       "    <tr>\n",
       "      <th>43</th>\n",
       "      <td>中華電信</td>\n",
       "      <td>其他</td>\n",
       "      <td>45195</td>\n",
       "      <td>1</td>\n",
       "    </tr>\n",
       "    <tr>\n",
       "      <th>55</th>\n",
       "      <td>中華電信</td>\n",
       "      <td>其他</td>\n",
       "      <td>38134</td>\n",
       "      <td>2</td>\n",
       "    </tr>\n",
       "    <tr>\n",
       "      <th>119</th>\n",
       "      <td>中華電信</td>\n",
       "      <td>其他</td>\n",
       "      <td>22896</td>\n",
       "      <td>3</td>\n",
       "    </tr>\n",
       "    <tr>\n",
       "      <th>298</th>\n",
       "      <td>中華電信</td>\n",
       "      <td>其他</td>\n",
       "      <td>44469</td>\n",
       "      <td>4</td>\n",
       "    </tr>\n",
       "    <tr>\n",
       "      <th>...</th>\n",
       "      <td>...</td>\n",
       "      <td>...</td>\n",
       "      <td>...</td>\n",
       "      <td>...</td>\n",
       "    </tr>\n",
       "    <tr>\n",
       "      <th>2629</th>\n",
       "      <td>[NA]</td>\n",
       "      <td>[NA]</td>\n",
       "      <td>54274</td>\n",
       "      <td>18</td>\n",
       "    </tr>\n",
       "    <tr>\n",
       "      <th>2631</th>\n",
       "      <td>[NA]</td>\n",
       "      <td>[NA]</td>\n",
       "      <td>42001</td>\n",
       "      <td>19</td>\n",
       "    </tr>\n",
       "    <tr>\n",
       "      <th>2667</th>\n",
       "      <td>[NA]</td>\n",
       "      <td>[NA]</td>\n",
       "      <td>5505</td>\n",
       "      <td>0</td>\n",
       "    </tr>\n",
       "    <tr>\n",
       "      <th>2680</th>\n",
       "      <td>[NA]</td>\n",
       "      <td>[NA]</td>\n",
       "      <td>7652</td>\n",
       "      <td>1</td>\n",
       "    </tr>\n",
       "    <tr>\n",
       "      <th>2782</th>\n",
       "      <td>[NA]</td>\n",
       "      <td>[NA]</td>\n",
       "      <td>43256</td>\n",
       "      <td>2</td>\n",
       "    </tr>\n",
       "  </tbody>\n",
       "</table>\n",
       "<p>18983 rows × 4 columns</p>\n",
       "</div>"
      ],
      "text/plain": [
       "     entity attribute  thread_idx  batch\n",
       "23     中華電信        其他       10317      0\n",
       "43     中華電信        其他       45195      1\n",
       "55     中華電信        其他       38134      2\n",
       "119    中華電信        其他       22896      3\n",
       "298    中華電信        其他       44469      4\n",
       "...     ...       ...         ...    ...\n",
       "2629   [NA]      [NA]       54274     18\n",
       "2631   [NA]      [NA]       42001     19\n",
       "2667   [NA]      [NA]        5505      0\n",
       "2680   [NA]      [NA]        7652      1\n",
       "2782   [NA]      [NA]       43256      2\n",
       "\n",
       "[18983 rows x 4 columns]"
      ]
     },
     "execution_count": 14,
     "metadata": {},
     "output_type": "execute_result"
    }
   ],
   "source": [
    "sample_table"
   ]
  },
  {
   "cell_type": "code",
   "execution_count": 15,
   "metadata": {},
   "outputs": [
    {
     "data": {
      "text/html": [
       "<div>\n",
       "<style scoped>\n",
       "    .dataframe tbody tr th:only-of-type {\n",
       "        vertical-align: middle;\n",
       "    }\n",
       "\n",
       "    .dataframe tbody tr th {\n",
       "        vertical-align: top;\n",
       "    }\n",
       "\n",
       "    .dataframe thead th {\n",
       "        text-align: right;\n",
       "    }\n",
       "</style>\n",
       "<table border=\"1\" class=\"dataframe\">\n",
       "  <thead>\n",
       "    <tr style=\"text-align: right;\">\n",
       "      <th>attribute</th>\n",
       "      <th>[NA]</th>\n",
       "      <th>其他</th>\n",
       "      <th>加值服務</th>\n",
       "      <th>資費方案</th>\n",
       "      <th>通訊品質</th>\n",
       "      <th>All</th>\n",
       "    </tr>\n",
       "    <tr>\n",
       "      <th>entity</th>\n",
       "      <th></th>\n",
       "      <th></th>\n",
       "      <th></th>\n",
       "      <th></th>\n",
       "      <th></th>\n",
       "      <th></th>\n",
       "    </tr>\n",
       "  </thead>\n",
       "  <tbody>\n",
       "    <tr>\n",
       "      <th>[NA]</th>\n",
       "      <td>77</td>\n",
       "      <td>55</td>\n",
       "      <td>138</td>\n",
       "      <td>533</td>\n",
       "      <td>283</td>\n",
       "      <td>1086</td>\n",
       "    </tr>\n",
       "    <tr>\n",
       "      <th>中華電信</th>\n",
       "      <td>855</td>\n",
       "      <td>801</td>\n",
       "      <td>2077</td>\n",
       "      <td>7090</td>\n",
       "      <td>4161</td>\n",
       "      <td>14984</td>\n",
       "    </tr>\n",
       "    <tr>\n",
       "      <th>亞太電信</th>\n",
       "      <td>32</td>\n",
       "      <td>23</td>\n",
       "      <td>57</td>\n",
       "      <td>223</td>\n",
       "      <td>119</td>\n",
       "      <td>454</td>\n",
       "    </tr>\n",
       "    <tr>\n",
       "      <th>其他電信</th>\n",
       "      <td>5</td>\n",
       "      <td>3</td>\n",
       "      <td>5</td>\n",
       "      <td>29</td>\n",
       "      <td>16</td>\n",
       "      <td>58</td>\n",
       "    </tr>\n",
       "    <tr>\n",
       "      <th>台灣之星</th>\n",
       "      <td>65</td>\n",
       "      <td>46</td>\n",
       "      <td>117</td>\n",
       "      <td>449</td>\n",
       "      <td>238</td>\n",
       "      <td>915</td>\n",
       "    </tr>\n",
       "    <tr>\n",
       "      <th>台灣大哥大</th>\n",
       "      <td>53</td>\n",
       "      <td>38</td>\n",
       "      <td>93</td>\n",
       "      <td>365</td>\n",
       "      <td>194</td>\n",
       "      <td>743</td>\n",
       "    </tr>\n",
       "    <tr>\n",
       "      <th>遠傳電信</th>\n",
       "      <td>53</td>\n",
       "      <td>38</td>\n",
       "      <td>93</td>\n",
       "      <td>365</td>\n",
       "      <td>194</td>\n",
       "      <td>743</td>\n",
       "    </tr>\n",
       "    <tr>\n",
       "      <th>All</th>\n",
       "      <td>1140</td>\n",
       "      <td>1004</td>\n",
       "      <td>2580</td>\n",
       "      <td>9054</td>\n",
       "      <td>5205</td>\n",
       "      <td>18983</td>\n",
       "    </tr>\n",
       "  </tbody>\n",
       "</table>\n",
       "</div>"
      ],
      "text/plain": [
       "attribute  [NA]    其他  加值服務  資費方案  通訊品質    All\n",
       "entity                                        \n",
       "[NA]         77    55   138   533   283   1086\n",
       "中華電信        855   801  2077  7090  4161  14984\n",
       "亞太電信         32    23    57   223   119    454\n",
       "其他電信          5     3     5    29    16     58\n",
       "台灣之星         65    46   117   449   238    915\n",
       "台灣大哥大        53    38    93   365   194    743\n",
       "遠傳電信         53    38    93   365   194    743\n",
       "All        1140  1004  2580  9054  5205  18983"
      ]
     },
     "execution_count": 15,
     "metadata": {},
     "output_type": "execute_result"
    }
   ],
   "source": [
    "sample_table\\\n",
    "    .pivot_table(values=\"thread_idx\", index=[\"entity\"], columns=[\"attribute\"], \n",
    "                 aggfunc=\"count\", margins=True)"
   ]
  },
  {
   "cell_type": "code",
   "execution_count": 16,
   "metadata": {},
   "outputs": [
    {
     "data": {
      "text/html": [
       "<div>\n",
       "<style scoped>\n",
       "    .dataframe tbody tr th:only-of-type {\n",
       "        vertical-align: middle;\n",
       "    }\n",
       "\n",
       "    .dataframe tbody tr th {\n",
       "        vertical-align: top;\n",
       "    }\n",
       "\n",
       "    .dataframe thead th {\n",
       "        text-align: right;\n",
       "    }\n",
       "</style>\n",
       "<table border=\"1\" class=\"dataframe\">\n",
       "  <thead>\n",
       "    <tr style=\"text-align: right;\">\n",
       "      <th>attribute</th>\n",
       "      <th>[NA]</th>\n",
       "      <th>其他</th>\n",
       "      <th>加值服務</th>\n",
       "      <th>資費方案</th>\n",
       "      <th>通訊品質</th>\n",
       "      <th>All</th>\n",
       "    </tr>\n",
       "    <tr>\n",
       "      <th>entity</th>\n",
       "      <th></th>\n",
       "      <th></th>\n",
       "      <th></th>\n",
       "      <th></th>\n",
       "      <th></th>\n",
       "      <th></th>\n",
       "    </tr>\n",
       "  </thead>\n",
       "  <tbody>\n",
       "    <tr>\n",
       "      <th>[NA]</th>\n",
       "      <td>4.0</td>\n",
       "      <td>3.0</td>\n",
       "      <td>7.0</td>\n",
       "      <td>27.0</td>\n",
       "      <td>14.0</td>\n",
       "      <td>55</td>\n",
       "    </tr>\n",
       "    <tr>\n",
       "      <th>中華電信</th>\n",
       "      <td>43.0</td>\n",
       "      <td>41.0</td>\n",
       "      <td>103.0</td>\n",
       "      <td>355.0</td>\n",
       "      <td>208.0</td>\n",
       "      <td>750</td>\n",
       "    </tr>\n",
       "    <tr>\n",
       "      <th>亞太電信</th>\n",
       "      <td>1.0</td>\n",
       "      <td>1.0</td>\n",
       "      <td>3.0</td>\n",
       "      <td>11.0</td>\n",
       "      <td>6.0</td>\n",
       "      <td>22</td>\n",
       "    </tr>\n",
       "    <tr>\n",
       "      <th>其他電信</th>\n",
       "      <td>NaN</td>\n",
       "      <td>1.0</td>\n",
       "      <td>NaN</td>\n",
       "      <td>1.0</td>\n",
       "      <td>1.0</td>\n",
       "      <td>3</td>\n",
       "    </tr>\n",
       "    <tr>\n",
       "      <th>台灣之星</th>\n",
       "      <td>3.0</td>\n",
       "      <td>3.0</td>\n",
       "      <td>5.0</td>\n",
       "      <td>23.0</td>\n",
       "      <td>12.0</td>\n",
       "      <td>46</td>\n",
       "    </tr>\n",
       "    <tr>\n",
       "      <th>台灣大哥大</th>\n",
       "      <td>2.0</td>\n",
       "      <td>2.0</td>\n",
       "      <td>5.0</td>\n",
       "      <td>18.0</td>\n",
       "      <td>10.0</td>\n",
       "      <td>37</td>\n",
       "    </tr>\n",
       "    <tr>\n",
       "      <th>遠傳電信</th>\n",
       "      <td>2.0</td>\n",
       "      <td>2.0</td>\n",
       "      <td>5.0</td>\n",
       "      <td>18.0</td>\n",
       "      <td>10.0</td>\n",
       "      <td>37</td>\n",
       "    </tr>\n",
       "    <tr>\n",
       "      <th>All</th>\n",
       "      <td>55.0</td>\n",
       "      <td>53.0</td>\n",
       "      <td>128.0</td>\n",
       "      <td>453.0</td>\n",
       "      <td>261.0</td>\n",
       "      <td>950</td>\n",
       "    </tr>\n",
       "  </tbody>\n",
       "</table>\n",
       "</div>"
      ],
      "text/plain": [
       "attribute  [NA]    其他   加值服務   資費方案   通訊品質  All\n",
       "entity                                         \n",
       "[NA]        4.0   3.0    7.0   27.0   14.0   55\n",
       "中華電信       43.0  41.0  103.0  355.0  208.0  750\n",
       "亞太電信        1.0   1.0    3.0   11.0    6.0   22\n",
       "其他電信        NaN   1.0    NaN    1.0    1.0    3\n",
       "台灣之星        3.0   3.0    5.0   23.0   12.0   46\n",
       "台灣大哥大       2.0   2.0    5.0   18.0   10.0   37\n",
       "遠傳電信        2.0   2.0    5.0   18.0   10.0   37\n",
       "All        55.0  53.0  128.0  453.0  261.0  950"
      ]
     },
     "execution_count": 16,
     "metadata": {},
     "output_type": "execute_result"
    }
   ],
   "source": [
    "sample_table.loc[sample_table.batch==0, :]\\\n",
    "    .pivot_table(values=\"thread_idx\", index=[\"entity\"], columns=[\"attribute\"], aggfunc=\"count\", margins=True)"
   ]
  },
  {
   "cell_type": "code",
   "execution_count": 17,
   "metadata": {},
   "outputs": [
    {
     "data": {
      "text/html": [
       "<div>\n",
       "<style scoped>\n",
       "    .dataframe tbody tr th:only-of-type {\n",
       "        vertical-align: middle;\n",
       "    }\n",
       "\n",
       "    .dataframe tbody tr th {\n",
       "        vertical-align: top;\n",
       "    }\n",
       "\n",
       "    .dataframe thead th {\n",
       "        text-align: right;\n",
       "    }\n",
       "</style>\n",
       "<table border=\"1\" class=\"dataframe\">\n",
       "  <thead>\n",
       "    <tr style=\"text-align: right;\">\n",
       "      <th>attribute</th>\n",
       "      <th>[NA]</th>\n",
       "      <th>其他</th>\n",
       "      <th>加值服務</th>\n",
       "      <th>資費方案</th>\n",
       "      <th>通訊品質</th>\n",
       "      <th>All</th>\n",
       "    </tr>\n",
       "    <tr>\n",
       "      <th>entity</th>\n",
       "      <th></th>\n",
       "      <th></th>\n",
       "      <th></th>\n",
       "      <th></th>\n",
       "      <th></th>\n",
       "      <th></th>\n",
       "    </tr>\n",
       "  </thead>\n",
       "  <tbody>\n",
       "    <tr>\n",
       "      <th>[NA]</th>\n",
       "      <td>3.0</td>\n",
       "      <td>3.0</td>\n",
       "      <td>7.0</td>\n",
       "      <td>26.0</td>\n",
       "      <td>15.0</td>\n",
       "      <td>54</td>\n",
       "    </tr>\n",
       "    <tr>\n",
       "      <th>中華電信</th>\n",
       "      <td>42.0</td>\n",
       "      <td>40.0</td>\n",
       "      <td>104.0</td>\n",
       "      <td>355.0</td>\n",
       "      <td>208.0</td>\n",
       "      <td>749</td>\n",
       "    </tr>\n",
       "    <tr>\n",
       "      <th>亞太電信</th>\n",
       "      <td>1.0</td>\n",
       "      <td>2.0</td>\n",
       "      <td>2.0</td>\n",
       "      <td>12.0</td>\n",
       "      <td>6.0</td>\n",
       "      <td>23</td>\n",
       "    </tr>\n",
       "    <tr>\n",
       "      <th>其他電信</th>\n",
       "      <td>NaN</td>\n",
       "      <td>NaN</td>\n",
       "      <td>1.0</td>\n",
       "      <td>1.0</td>\n",
       "      <td>1.0</td>\n",
       "      <td>3</td>\n",
       "    </tr>\n",
       "    <tr>\n",
       "      <th>台灣之星</th>\n",
       "      <td>3.0</td>\n",
       "      <td>2.0</td>\n",
       "      <td>6.0</td>\n",
       "      <td>23.0</td>\n",
       "      <td>12.0</td>\n",
       "      <td>46</td>\n",
       "    </tr>\n",
       "    <tr>\n",
       "      <th>台灣大哥大</th>\n",
       "      <td>3.0</td>\n",
       "      <td>2.0</td>\n",
       "      <td>4.0</td>\n",
       "      <td>19.0</td>\n",
       "      <td>9.0</td>\n",
       "      <td>37</td>\n",
       "    </tr>\n",
       "    <tr>\n",
       "      <th>遠傳電信</th>\n",
       "      <td>3.0</td>\n",
       "      <td>2.0</td>\n",
       "      <td>4.0</td>\n",
       "      <td>19.0</td>\n",
       "      <td>9.0</td>\n",
       "      <td>37</td>\n",
       "    </tr>\n",
       "    <tr>\n",
       "      <th>All</th>\n",
       "      <td>55.0</td>\n",
       "      <td>51.0</td>\n",
       "      <td>128.0</td>\n",
       "      <td>455.0</td>\n",
       "      <td>260.0</td>\n",
       "      <td>949</td>\n",
       "    </tr>\n",
       "  </tbody>\n",
       "</table>\n",
       "</div>"
      ],
      "text/plain": [
       "attribute  [NA]    其他   加值服務   資費方案   通訊品質  All\n",
       "entity                                         \n",
       "[NA]        3.0   3.0    7.0   26.0   15.0   54\n",
       "中華電信       42.0  40.0  104.0  355.0  208.0  749\n",
       "亞太電信        1.0   2.0    2.0   12.0    6.0   23\n",
       "其他電信        NaN   NaN    1.0    1.0    1.0    3\n",
       "台灣之星        3.0   2.0    6.0   23.0   12.0   46\n",
       "台灣大哥大       3.0   2.0    4.0   19.0    9.0   37\n",
       "遠傳電信        3.0   2.0    4.0   19.0    9.0   37\n",
       "All        55.0  51.0  128.0  455.0  260.0  949"
      ]
     },
     "execution_count": 17,
     "metadata": {},
     "output_type": "execute_result"
    }
   ],
   "source": [
    "sample_table.loc[sample_table.batch==5, :]\\\n",
    "    .pivot_table(values=\"thread_idx\", index=[\"entity\"], columns=[\"attribute\"], aggfunc=\"count\", margins=True)"
   ]
  },
  {
   "cell_type": "markdown",
   "metadata": {},
   "source": [
    "## Output JSON"
   ]
  },
  {
   "cell_type": "code",
   "execution_count": 18,
   "metadata": {},
   "outputs": [],
   "source": [
    "import json\n",
    "def write_to_json(batch_idx):\n",
    "    sub_df = sample_table.loc[sample_table.batch==batch_idx, :].copy() \n",
    "    sub_df.sort_values(\"thread_idx\", inplace=True)\n",
    "    json_data = []\n",
    "    for serial, row in enumerate(sub_df.itertuples()):\n",
    "        thread_x = threads[row.thread_idx]\n",
    "        html = casa.format_thread_html(thread_x, serial)\n",
    "        json_data.append({\n",
    "            \"batch_idx\": batch_idx, \n",
    "            \"serial\": serial,\n",
    "            \"thread_idx\": row.thread_idx,\n",
    "            \"cadet_ent\": threads_aspects[row.thread_idx][1],\n",
    "            \"cadet_attr\": threads_aspects[row.thread_idx][2],\n",
    "            \"html\": html\n",
    "        })\n",
    "    json_path = casa.get_data_path()/f\"annot_data/thread_batch_{batch_idx}.json\"\n",
    "    with open(json_path, \"w\", encoding=\"UTF-8\") as fout:\n",
    "        json.dump(json_data, fout, ensure_ascii=False, indent=2)"
   ]
  },
  {
   "cell_type": "code",
   "execution_count": 19,
   "metadata": {},
   "outputs": [],
   "source": [
    "for batch_idx in range(n_batch):\n",
    "    write_to_json(batch_idx)"
   ]
  },
  {
   "cell_type": "code",
   "execution_count": null,
   "metadata": {},
   "outputs": [],
   "source": []
  }
 ],
 "metadata": {
  "kernelspec": {
   "display_name": "Python 3",
   "language": "python",
   "name": "python3"
  },
  "language_info": {
   "codemirror_mode": {
    "name": "ipython",
    "version": 3
   },
   "file_extension": ".py",
   "mimetype": "text/x-python",
   "name": "python",
   "nbconvert_exporter": "python",
   "pygments_lexer": "ipython3",
   "version": "3.8.2"
  }
 },
 "nbformat": 4,
 "nbformat_minor": 4
}

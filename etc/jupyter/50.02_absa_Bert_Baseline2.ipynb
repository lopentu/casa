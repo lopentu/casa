{
  "nbformat": 4,
  "nbformat_minor": 0,
  "metadata": {
    "colab": {
      "name": "50.02_absa_Bert_Baseline2.ipynb",
      "provenance": []
    },
    "kernelspec": {
      "name": "python3",
      "display_name": "Python 3"
    },
    "language_info": {
      "name": "python"
    },
    "accelerator": "GPU",
    "widgets": {
      "application/vnd.jupyter.widget-state+json": {
        "34c225a281de49a7aa271bc38d061ea4": {
          "model_module": "@jupyter-widgets/controls",
          "model_name": "HBoxModel",
          "state": {
            "_view_name": "HBoxView",
            "_dom_classes": [],
            "_model_name": "HBoxModel",
            "_view_module": "@jupyter-widgets/controls",
            "_model_module_version": "1.5.0",
            "_view_count": null,
            "_view_module_version": "1.5.0",
            "box_style": "",
            "layout": "IPY_MODEL_bf682a43d18e4e72bd9396fd0dbc4c86",
            "_model_module": "@jupyter-widgets/controls",
            "children": [
              "IPY_MODEL_72735f1c541a4f75b3992592b5445d4b",
              "IPY_MODEL_a09a605763d0481aad9c8a4861b97009"
            ]
          }
        },
        "bf682a43d18e4e72bd9396fd0dbc4c86": {
          "model_module": "@jupyter-widgets/base",
          "model_name": "LayoutModel",
          "state": {
            "_view_name": "LayoutView",
            "grid_template_rows": null,
            "right": null,
            "justify_content": null,
            "_view_module": "@jupyter-widgets/base",
            "overflow": null,
            "_model_module_version": "1.2.0",
            "_view_count": null,
            "flex_flow": null,
            "width": null,
            "min_width": null,
            "border": null,
            "align_items": null,
            "bottom": null,
            "_model_module": "@jupyter-widgets/base",
            "top": null,
            "grid_column": null,
            "overflow_y": null,
            "overflow_x": null,
            "grid_auto_flow": null,
            "grid_area": null,
            "grid_template_columns": null,
            "flex": null,
            "_model_name": "LayoutModel",
            "justify_items": null,
            "grid_row": null,
            "max_height": null,
            "align_content": null,
            "visibility": null,
            "align_self": null,
            "height": null,
            "min_height": null,
            "padding": null,
            "grid_auto_rows": null,
            "grid_gap": null,
            "max_width": null,
            "order": null,
            "_view_module_version": "1.2.0",
            "grid_template_areas": null,
            "object_position": null,
            "object_fit": null,
            "grid_auto_columns": null,
            "margin": null,
            "display": null,
            "left": null
          }
        },
        "72735f1c541a4f75b3992592b5445d4b": {
          "model_module": "@jupyter-widgets/controls",
          "model_name": "FloatProgressModel",
          "state": {
            "_view_name": "ProgressView",
            "style": "IPY_MODEL_2feccf63f4bf4f418c82a2fc68d72131",
            "_dom_classes": [],
            "description": "Downloading: 100%",
            "_model_name": "FloatProgressModel",
            "bar_style": "success",
            "max": 109540,
            "_view_module": "@jupyter-widgets/controls",
            "_model_module_version": "1.5.0",
            "value": 109540,
            "_view_count": null,
            "_view_module_version": "1.5.0",
            "orientation": "horizontal",
            "min": 0,
            "description_tooltip": null,
            "_model_module": "@jupyter-widgets/controls",
            "layout": "IPY_MODEL_f27b171613394ff28bf035134ce47e5e"
          }
        },
        "a09a605763d0481aad9c8a4861b97009": {
          "model_module": "@jupyter-widgets/controls",
          "model_name": "HTMLModel",
          "state": {
            "_view_name": "HTMLView",
            "style": "IPY_MODEL_767db864460e486ebdb1879199ea1662",
            "_dom_classes": [],
            "description": "",
            "_model_name": "HTMLModel",
            "placeholder": "​",
            "_view_module": "@jupyter-widgets/controls",
            "_model_module_version": "1.5.0",
            "value": " 110k/110k [00:13&lt;00:00, 7.84kB/s]",
            "_view_count": null,
            "_view_module_version": "1.5.0",
            "description_tooltip": null,
            "_model_module": "@jupyter-widgets/controls",
            "layout": "IPY_MODEL_c0faf98c6c1a468490d03e317b2d6139"
          }
        },
        "2feccf63f4bf4f418c82a2fc68d72131": {
          "model_module": "@jupyter-widgets/controls",
          "model_name": "ProgressStyleModel",
          "state": {
            "_view_name": "StyleView",
            "_model_name": "ProgressStyleModel",
            "description_width": "initial",
            "_view_module": "@jupyter-widgets/base",
            "_model_module_version": "1.5.0",
            "_view_count": null,
            "_view_module_version": "1.2.0",
            "bar_color": null,
            "_model_module": "@jupyter-widgets/controls"
          }
        },
        "f27b171613394ff28bf035134ce47e5e": {
          "model_module": "@jupyter-widgets/base",
          "model_name": "LayoutModel",
          "state": {
            "_view_name": "LayoutView",
            "grid_template_rows": null,
            "right": null,
            "justify_content": null,
            "_view_module": "@jupyter-widgets/base",
            "overflow": null,
            "_model_module_version": "1.2.0",
            "_view_count": null,
            "flex_flow": null,
            "width": null,
            "min_width": null,
            "border": null,
            "align_items": null,
            "bottom": null,
            "_model_module": "@jupyter-widgets/base",
            "top": null,
            "grid_column": null,
            "overflow_y": null,
            "overflow_x": null,
            "grid_auto_flow": null,
            "grid_area": null,
            "grid_template_columns": null,
            "flex": null,
            "_model_name": "LayoutModel",
            "justify_items": null,
            "grid_row": null,
            "max_height": null,
            "align_content": null,
            "visibility": null,
            "align_self": null,
            "height": null,
            "min_height": null,
            "padding": null,
            "grid_auto_rows": null,
            "grid_gap": null,
            "max_width": null,
            "order": null,
            "_view_module_version": "1.2.0",
            "grid_template_areas": null,
            "object_position": null,
            "object_fit": null,
            "grid_auto_columns": null,
            "margin": null,
            "display": null,
            "left": null
          }
        },
        "767db864460e486ebdb1879199ea1662": {
          "model_module": "@jupyter-widgets/controls",
          "model_name": "DescriptionStyleModel",
          "state": {
            "_view_name": "StyleView",
            "_model_name": "DescriptionStyleModel",
            "description_width": "",
            "_view_module": "@jupyter-widgets/base",
            "_model_module_version": "1.5.0",
            "_view_count": null,
            "_view_module_version": "1.2.0",
            "_model_module": "@jupyter-widgets/controls"
          }
        },
        "c0faf98c6c1a468490d03e317b2d6139": {
          "model_module": "@jupyter-widgets/base",
          "model_name": "LayoutModel",
          "state": {
            "_view_name": "LayoutView",
            "grid_template_rows": null,
            "right": null,
            "justify_content": null,
            "_view_module": "@jupyter-widgets/base",
            "overflow": null,
            "_model_module_version": "1.2.0",
            "_view_count": null,
            "flex_flow": null,
            "width": null,
            "min_width": null,
            "border": null,
            "align_items": null,
            "bottom": null,
            "_model_module": "@jupyter-widgets/base",
            "top": null,
            "grid_column": null,
            "overflow_y": null,
            "overflow_x": null,
            "grid_auto_flow": null,
            "grid_area": null,
            "grid_template_columns": null,
            "flex": null,
            "_model_name": "LayoutModel",
            "justify_items": null,
            "grid_row": null,
            "max_height": null,
            "align_content": null,
            "visibility": null,
            "align_self": null,
            "height": null,
            "min_height": null,
            "padding": null,
            "grid_auto_rows": null,
            "grid_gap": null,
            "max_width": null,
            "order": null,
            "_view_module_version": "1.2.0",
            "grid_template_areas": null,
            "object_position": null,
            "object_fit": null,
            "grid_auto_columns": null,
            "margin": null,
            "display": null,
            "left": null
          }
        },
        "546da42f07854cbd874122467e9a01e6": {
          "model_module": "@jupyter-widgets/controls",
          "model_name": "HBoxModel",
          "state": {
            "_view_name": "HBoxView",
            "_dom_classes": [],
            "_model_name": "HBoxModel",
            "_view_module": "@jupyter-widgets/controls",
            "_model_module_version": "1.5.0",
            "_view_count": null,
            "_view_module_version": "1.5.0",
            "box_style": "",
            "layout": "IPY_MODEL_bd9a6e5cc94a49d284dfa4386dcec03d",
            "_model_module": "@jupyter-widgets/controls",
            "children": [
              "IPY_MODEL_f5b590cfbbaa488fad48bfe8f560fbce",
              "IPY_MODEL_90929e870b614b57a18c396d51e0b8b5"
            ]
          }
        },
        "bd9a6e5cc94a49d284dfa4386dcec03d": {
          "model_module": "@jupyter-widgets/base",
          "model_name": "LayoutModel",
          "state": {
            "_view_name": "LayoutView",
            "grid_template_rows": null,
            "right": null,
            "justify_content": null,
            "_view_module": "@jupyter-widgets/base",
            "overflow": null,
            "_model_module_version": "1.2.0",
            "_view_count": null,
            "flex_flow": null,
            "width": null,
            "min_width": null,
            "border": null,
            "align_items": null,
            "bottom": null,
            "_model_module": "@jupyter-widgets/base",
            "top": null,
            "grid_column": null,
            "overflow_y": null,
            "overflow_x": null,
            "grid_auto_flow": null,
            "grid_area": null,
            "grid_template_columns": null,
            "flex": null,
            "_model_name": "LayoutModel",
            "justify_items": null,
            "grid_row": null,
            "max_height": null,
            "align_content": null,
            "visibility": null,
            "align_self": null,
            "height": null,
            "min_height": null,
            "padding": null,
            "grid_auto_rows": null,
            "grid_gap": null,
            "max_width": null,
            "order": null,
            "_view_module_version": "1.2.0",
            "grid_template_areas": null,
            "object_position": null,
            "object_fit": null,
            "grid_auto_columns": null,
            "margin": null,
            "display": null,
            "left": null
          }
        },
        "f5b590cfbbaa488fad48bfe8f560fbce": {
          "model_module": "@jupyter-widgets/controls",
          "model_name": "FloatProgressModel",
          "state": {
            "_view_name": "ProgressView",
            "style": "IPY_MODEL_45f25f4a678d44f88dfbf63e23279f8c",
            "_dom_classes": [],
            "description": "Downloading: 100%",
            "_model_name": "FloatProgressModel",
            "bar_style": "success",
            "max": 29,
            "_view_module": "@jupyter-widgets/controls",
            "_model_module_version": "1.5.0",
            "value": 29,
            "_view_count": null,
            "_view_module_version": "1.5.0",
            "orientation": "horizontal",
            "min": 0,
            "description_tooltip": null,
            "_model_module": "@jupyter-widgets/controls",
            "layout": "IPY_MODEL_1624681713524c96949fc2ec93e9e2f6"
          }
        },
        "90929e870b614b57a18c396d51e0b8b5": {
          "model_module": "@jupyter-widgets/controls",
          "model_name": "HTMLModel",
          "state": {
            "_view_name": "HTMLView",
            "style": "IPY_MODEL_1e71fc33a3164bfc984c68e5d7e69cba",
            "_dom_classes": [],
            "description": "",
            "_model_name": "HTMLModel",
            "placeholder": "​",
            "_view_module": "@jupyter-widgets/controls",
            "_model_module_version": "1.5.0",
            "value": " 29.0/29.0 [00:00&lt;00:00, 100B/s]",
            "_view_count": null,
            "_view_module_version": "1.5.0",
            "description_tooltip": null,
            "_model_module": "@jupyter-widgets/controls",
            "layout": "IPY_MODEL_929cd2d86f7947f0bee14d0a0fba7e34"
          }
        },
        "45f25f4a678d44f88dfbf63e23279f8c": {
          "model_module": "@jupyter-widgets/controls",
          "model_name": "ProgressStyleModel",
          "state": {
            "_view_name": "StyleView",
            "_model_name": "ProgressStyleModel",
            "description_width": "initial",
            "_view_module": "@jupyter-widgets/base",
            "_model_module_version": "1.5.0",
            "_view_count": null,
            "_view_module_version": "1.2.0",
            "bar_color": null,
            "_model_module": "@jupyter-widgets/controls"
          }
        },
        "1624681713524c96949fc2ec93e9e2f6": {
          "model_module": "@jupyter-widgets/base",
          "model_name": "LayoutModel",
          "state": {
            "_view_name": "LayoutView",
            "grid_template_rows": null,
            "right": null,
            "justify_content": null,
            "_view_module": "@jupyter-widgets/base",
            "overflow": null,
            "_model_module_version": "1.2.0",
            "_view_count": null,
            "flex_flow": null,
            "width": null,
            "min_width": null,
            "border": null,
            "align_items": null,
            "bottom": null,
            "_model_module": "@jupyter-widgets/base",
            "top": null,
            "grid_column": null,
            "overflow_y": null,
            "overflow_x": null,
            "grid_auto_flow": null,
            "grid_area": null,
            "grid_template_columns": null,
            "flex": null,
            "_model_name": "LayoutModel",
            "justify_items": null,
            "grid_row": null,
            "max_height": null,
            "align_content": null,
            "visibility": null,
            "align_self": null,
            "height": null,
            "min_height": null,
            "padding": null,
            "grid_auto_rows": null,
            "grid_gap": null,
            "max_width": null,
            "order": null,
            "_view_module_version": "1.2.0",
            "grid_template_areas": null,
            "object_position": null,
            "object_fit": null,
            "grid_auto_columns": null,
            "margin": null,
            "display": null,
            "left": null
          }
        },
        "1e71fc33a3164bfc984c68e5d7e69cba": {
          "model_module": "@jupyter-widgets/controls",
          "model_name": "DescriptionStyleModel",
          "state": {
            "_view_name": "StyleView",
            "_model_name": "DescriptionStyleModel",
            "description_width": "",
            "_view_module": "@jupyter-widgets/base",
            "_model_module_version": "1.5.0",
            "_view_count": null,
            "_view_module_version": "1.2.0",
            "_model_module": "@jupyter-widgets/controls"
          }
        },
        "929cd2d86f7947f0bee14d0a0fba7e34": {
          "model_module": "@jupyter-widgets/base",
          "model_name": "LayoutModel",
          "state": {
            "_view_name": "LayoutView",
            "grid_template_rows": null,
            "right": null,
            "justify_content": null,
            "_view_module": "@jupyter-widgets/base",
            "overflow": null,
            "_model_module_version": "1.2.0",
            "_view_count": null,
            "flex_flow": null,
            "width": null,
            "min_width": null,
            "border": null,
            "align_items": null,
            "bottom": null,
            "_model_module": "@jupyter-widgets/base",
            "top": null,
            "grid_column": null,
            "overflow_y": null,
            "overflow_x": null,
            "grid_auto_flow": null,
            "grid_area": null,
            "grid_template_columns": null,
            "flex": null,
            "_model_name": "LayoutModel",
            "justify_items": null,
            "grid_row": null,
            "max_height": null,
            "align_content": null,
            "visibility": null,
            "align_self": null,
            "height": null,
            "min_height": null,
            "padding": null,
            "grid_auto_rows": null,
            "grid_gap": null,
            "max_width": null,
            "order": null,
            "_view_module_version": "1.2.0",
            "grid_template_areas": null,
            "object_position": null,
            "object_fit": null,
            "grid_auto_columns": null,
            "margin": null,
            "display": null,
            "left": null
          }
        },
        "1f56cef3363d473794bec50d2eecca1e": {
          "model_module": "@jupyter-widgets/controls",
          "model_name": "HBoxModel",
          "state": {
            "_view_name": "HBoxView",
            "_dom_classes": [],
            "_model_name": "HBoxModel",
            "_view_module": "@jupyter-widgets/controls",
            "_model_module_version": "1.5.0",
            "_view_count": null,
            "_view_module_version": "1.5.0",
            "box_style": "",
            "layout": "IPY_MODEL_cf5a4494529a49178f81f88f8e3c6930",
            "_model_module": "@jupyter-widgets/controls",
            "children": [
              "IPY_MODEL_48a552731a904647ad7645cf70faedf5",
              "IPY_MODEL_76e2d20192b4428e86d2b3ff2f471cae"
            ]
          }
        },
        "cf5a4494529a49178f81f88f8e3c6930": {
          "model_module": "@jupyter-widgets/base",
          "model_name": "LayoutModel",
          "state": {
            "_view_name": "LayoutView",
            "grid_template_rows": null,
            "right": null,
            "justify_content": null,
            "_view_module": "@jupyter-widgets/base",
            "overflow": null,
            "_model_module_version": "1.2.0",
            "_view_count": null,
            "flex_flow": null,
            "width": null,
            "min_width": null,
            "border": null,
            "align_items": null,
            "bottom": null,
            "_model_module": "@jupyter-widgets/base",
            "top": null,
            "grid_column": null,
            "overflow_y": null,
            "overflow_x": null,
            "grid_auto_flow": null,
            "grid_area": null,
            "grid_template_columns": null,
            "flex": null,
            "_model_name": "LayoutModel",
            "justify_items": null,
            "grid_row": null,
            "max_height": null,
            "align_content": null,
            "visibility": null,
            "align_self": null,
            "height": null,
            "min_height": null,
            "padding": null,
            "grid_auto_rows": null,
            "grid_gap": null,
            "max_width": null,
            "order": null,
            "_view_module_version": "1.2.0",
            "grid_template_areas": null,
            "object_position": null,
            "object_fit": null,
            "grid_auto_columns": null,
            "margin": null,
            "display": null,
            "left": null
          }
        },
        "48a552731a904647ad7645cf70faedf5": {
          "model_module": "@jupyter-widgets/controls",
          "model_name": "FloatProgressModel",
          "state": {
            "_view_name": "ProgressView",
            "style": "IPY_MODEL_41e7651dfd5848cd92331cd4c0ba101d",
            "_dom_classes": [],
            "description": "Downloading: 100%",
            "_model_name": "FloatProgressModel",
            "bar_style": "success",
            "max": 268943,
            "_view_module": "@jupyter-widgets/controls",
            "_model_module_version": "1.5.0",
            "value": 268943,
            "_view_count": null,
            "_view_module_version": "1.5.0",
            "orientation": "horizontal",
            "min": 0,
            "description_tooltip": null,
            "_model_module": "@jupyter-widgets/controls",
            "layout": "IPY_MODEL_70170c5a91a04dff87ea3227ac142ae3"
          }
        },
        "76e2d20192b4428e86d2b3ff2f471cae": {
          "model_module": "@jupyter-widgets/controls",
          "model_name": "HTMLModel",
          "state": {
            "_view_name": "HTMLView",
            "style": "IPY_MODEL_3bc16ca9e62742d99efdeee1a925e824",
            "_dom_classes": [],
            "description": "",
            "_model_name": "HTMLModel",
            "placeholder": "​",
            "_view_module": "@jupyter-widgets/controls",
            "_model_module_version": "1.5.0",
            "value": " 269k/269k [00:00&lt;00:00, 912kB/s]",
            "_view_count": null,
            "_view_module_version": "1.5.0",
            "description_tooltip": null,
            "_model_module": "@jupyter-widgets/controls",
            "layout": "IPY_MODEL_962879c8021043aa957e89a4b4a2568a"
          }
        },
        "41e7651dfd5848cd92331cd4c0ba101d": {
          "model_module": "@jupyter-widgets/controls",
          "model_name": "ProgressStyleModel",
          "state": {
            "_view_name": "StyleView",
            "_model_name": "ProgressStyleModel",
            "description_width": "initial",
            "_view_module": "@jupyter-widgets/base",
            "_model_module_version": "1.5.0",
            "_view_count": null,
            "_view_module_version": "1.2.0",
            "bar_color": null,
            "_model_module": "@jupyter-widgets/controls"
          }
        },
        "70170c5a91a04dff87ea3227ac142ae3": {
          "model_module": "@jupyter-widgets/base",
          "model_name": "LayoutModel",
          "state": {
            "_view_name": "LayoutView",
            "grid_template_rows": null,
            "right": null,
            "justify_content": null,
            "_view_module": "@jupyter-widgets/base",
            "overflow": null,
            "_model_module_version": "1.2.0",
            "_view_count": null,
            "flex_flow": null,
            "width": null,
            "min_width": null,
            "border": null,
            "align_items": null,
            "bottom": null,
            "_model_module": "@jupyter-widgets/base",
            "top": null,
            "grid_column": null,
            "overflow_y": null,
            "overflow_x": null,
            "grid_auto_flow": null,
            "grid_area": null,
            "grid_template_columns": null,
            "flex": null,
            "_model_name": "LayoutModel",
            "justify_items": null,
            "grid_row": null,
            "max_height": null,
            "align_content": null,
            "visibility": null,
            "align_self": null,
            "height": null,
            "min_height": null,
            "padding": null,
            "grid_auto_rows": null,
            "grid_gap": null,
            "max_width": null,
            "order": null,
            "_view_module_version": "1.2.0",
            "grid_template_areas": null,
            "object_position": null,
            "object_fit": null,
            "grid_auto_columns": null,
            "margin": null,
            "display": null,
            "left": null
          }
        },
        "3bc16ca9e62742d99efdeee1a925e824": {
          "model_module": "@jupyter-widgets/controls",
          "model_name": "DescriptionStyleModel",
          "state": {
            "_view_name": "StyleView",
            "_model_name": "DescriptionStyleModel",
            "description_width": "",
            "_view_module": "@jupyter-widgets/base",
            "_model_module_version": "1.5.0",
            "_view_count": null,
            "_view_module_version": "1.2.0",
            "_model_module": "@jupyter-widgets/controls"
          }
        },
        "962879c8021043aa957e89a4b4a2568a": {
          "model_module": "@jupyter-widgets/base",
          "model_name": "LayoutModel",
          "state": {
            "_view_name": "LayoutView",
            "grid_template_rows": null,
            "right": null,
            "justify_content": null,
            "_view_module": "@jupyter-widgets/base",
            "overflow": null,
            "_model_module_version": "1.2.0",
            "_view_count": null,
            "flex_flow": null,
            "width": null,
            "min_width": null,
            "border": null,
            "align_items": null,
            "bottom": null,
            "_model_module": "@jupyter-widgets/base",
            "top": null,
            "grid_column": null,
            "overflow_y": null,
            "overflow_x": null,
            "grid_auto_flow": null,
            "grid_area": null,
            "grid_template_columns": null,
            "flex": null,
            "_model_name": "LayoutModel",
            "justify_items": null,
            "grid_row": null,
            "max_height": null,
            "align_content": null,
            "visibility": null,
            "align_self": null,
            "height": null,
            "min_height": null,
            "padding": null,
            "grid_auto_rows": null,
            "grid_gap": null,
            "max_width": null,
            "order": null,
            "_view_module_version": "1.2.0",
            "grid_template_areas": null,
            "object_position": null,
            "object_fit": null,
            "grid_auto_columns": null,
            "margin": null,
            "display": null,
            "left": null
          }
        },
        "a82b652cf7e14868ae30afa266a78bb4": {
          "model_module": "@jupyter-widgets/controls",
          "model_name": "HBoxModel",
          "state": {
            "_view_name": "HBoxView",
            "_dom_classes": [],
            "_model_name": "HBoxModel",
            "_view_module": "@jupyter-widgets/controls",
            "_model_module_version": "1.5.0",
            "_view_count": null,
            "_view_module_version": "1.5.0",
            "box_style": "",
            "layout": "IPY_MODEL_c02845f24da042e281969e21e2f42445",
            "_model_module": "@jupyter-widgets/controls",
            "children": [
              "IPY_MODEL_4ff34be299834a4a95916fb75deac28c",
              "IPY_MODEL_9ed276c8e1614c049d364da72afa39e8"
            ]
          }
        },
        "c02845f24da042e281969e21e2f42445": {
          "model_module": "@jupyter-widgets/base",
          "model_name": "LayoutModel",
          "state": {
            "_view_name": "LayoutView",
            "grid_template_rows": null,
            "right": null,
            "justify_content": null,
            "_view_module": "@jupyter-widgets/base",
            "overflow": null,
            "_model_module_version": "1.2.0",
            "_view_count": null,
            "flex_flow": null,
            "width": null,
            "min_width": null,
            "border": null,
            "align_items": null,
            "bottom": null,
            "_model_module": "@jupyter-widgets/base",
            "top": null,
            "grid_column": null,
            "overflow_y": null,
            "overflow_x": null,
            "grid_auto_flow": null,
            "grid_area": null,
            "grid_template_columns": null,
            "flex": null,
            "_model_name": "LayoutModel",
            "justify_items": null,
            "grid_row": null,
            "max_height": null,
            "align_content": null,
            "visibility": null,
            "align_self": null,
            "height": null,
            "min_height": null,
            "padding": null,
            "grid_auto_rows": null,
            "grid_gap": null,
            "max_width": null,
            "order": null,
            "_view_module_version": "1.2.0",
            "grid_template_areas": null,
            "object_position": null,
            "object_fit": null,
            "grid_auto_columns": null,
            "margin": null,
            "display": null,
            "left": null
          }
        },
        "4ff34be299834a4a95916fb75deac28c": {
          "model_module": "@jupyter-widgets/controls",
          "model_name": "FloatProgressModel",
          "state": {
            "_view_name": "ProgressView",
            "style": "IPY_MODEL_8f863de767824eb1a6e201b9a4e29715",
            "_dom_classes": [],
            "description": "Downloading: 100%",
            "_model_name": "FloatProgressModel",
            "bar_style": "success",
            "max": 624,
            "_view_module": "@jupyter-widgets/controls",
            "_model_module_version": "1.5.0",
            "value": 624,
            "_view_count": null,
            "_view_module_version": "1.5.0",
            "orientation": "horizontal",
            "min": 0,
            "description_tooltip": null,
            "_model_module": "@jupyter-widgets/controls",
            "layout": "IPY_MODEL_9371d07ae14b44acbb03e79a5e5632c1"
          }
        },
        "9ed276c8e1614c049d364da72afa39e8": {
          "model_module": "@jupyter-widgets/controls",
          "model_name": "HTMLModel",
          "state": {
            "_view_name": "HTMLView",
            "style": "IPY_MODEL_e9d3b654d7de49aeb9be8dc78062ca79",
            "_dom_classes": [],
            "description": "",
            "_model_name": "HTMLModel",
            "placeholder": "​",
            "_view_module": "@jupyter-widgets/controls",
            "_model_module_version": "1.5.0",
            "value": " 624/624 [00:00&lt;00:00, 2.00kB/s]",
            "_view_count": null,
            "_view_module_version": "1.5.0",
            "description_tooltip": null,
            "_model_module": "@jupyter-widgets/controls",
            "layout": "IPY_MODEL_9f08815bfa4a41fc80da2f22057d73d0"
          }
        },
        "8f863de767824eb1a6e201b9a4e29715": {
          "model_module": "@jupyter-widgets/controls",
          "model_name": "ProgressStyleModel",
          "state": {
            "_view_name": "StyleView",
            "_model_name": "ProgressStyleModel",
            "description_width": "initial",
            "_view_module": "@jupyter-widgets/base",
            "_model_module_version": "1.5.0",
            "_view_count": null,
            "_view_module_version": "1.2.0",
            "bar_color": null,
            "_model_module": "@jupyter-widgets/controls"
          }
        },
        "9371d07ae14b44acbb03e79a5e5632c1": {
          "model_module": "@jupyter-widgets/base",
          "model_name": "LayoutModel",
          "state": {
            "_view_name": "LayoutView",
            "grid_template_rows": null,
            "right": null,
            "justify_content": null,
            "_view_module": "@jupyter-widgets/base",
            "overflow": null,
            "_model_module_version": "1.2.0",
            "_view_count": null,
            "flex_flow": null,
            "width": null,
            "min_width": null,
            "border": null,
            "align_items": null,
            "bottom": null,
            "_model_module": "@jupyter-widgets/base",
            "top": null,
            "grid_column": null,
            "overflow_y": null,
            "overflow_x": null,
            "grid_auto_flow": null,
            "grid_area": null,
            "grid_template_columns": null,
            "flex": null,
            "_model_name": "LayoutModel",
            "justify_items": null,
            "grid_row": null,
            "max_height": null,
            "align_content": null,
            "visibility": null,
            "align_self": null,
            "height": null,
            "min_height": null,
            "padding": null,
            "grid_auto_rows": null,
            "grid_gap": null,
            "max_width": null,
            "order": null,
            "_view_module_version": "1.2.0",
            "grid_template_areas": null,
            "object_position": null,
            "object_fit": null,
            "grid_auto_columns": null,
            "margin": null,
            "display": null,
            "left": null
          }
        },
        "e9d3b654d7de49aeb9be8dc78062ca79": {
          "model_module": "@jupyter-widgets/controls",
          "model_name": "DescriptionStyleModel",
          "state": {
            "_view_name": "StyleView",
            "_model_name": "DescriptionStyleModel",
            "description_width": "",
            "_view_module": "@jupyter-widgets/base",
            "_model_module_version": "1.5.0",
            "_view_count": null,
            "_view_module_version": "1.2.0",
            "_model_module": "@jupyter-widgets/controls"
          }
        },
        "9f08815bfa4a41fc80da2f22057d73d0": {
          "model_module": "@jupyter-widgets/base",
          "model_name": "LayoutModel",
          "state": {
            "_view_name": "LayoutView",
            "grid_template_rows": null,
            "right": null,
            "justify_content": null,
            "_view_module": "@jupyter-widgets/base",
            "overflow": null,
            "_model_module_version": "1.2.0",
            "_view_count": null,
            "flex_flow": null,
            "width": null,
            "min_width": null,
            "border": null,
            "align_items": null,
            "bottom": null,
            "_model_module": "@jupyter-widgets/base",
            "top": null,
            "grid_column": null,
            "overflow_y": null,
            "overflow_x": null,
            "grid_auto_flow": null,
            "grid_area": null,
            "grid_template_columns": null,
            "flex": null,
            "_model_name": "LayoutModel",
            "justify_items": null,
            "grid_row": null,
            "max_height": null,
            "align_content": null,
            "visibility": null,
            "align_self": null,
            "height": null,
            "min_height": null,
            "padding": null,
            "grid_auto_rows": null,
            "grid_gap": null,
            "max_width": null,
            "order": null,
            "_view_module_version": "1.2.0",
            "grid_template_areas": null,
            "object_position": null,
            "object_fit": null,
            "grid_auto_columns": null,
            "margin": null,
            "display": null,
            "left": null
          }
        },
        "acfde400440348308040e221bd44f2b9": {
          "model_module": "@jupyter-widgets/controls",
          "model_name": "HBoxModel",
          "state": {
            "_view_name": "HBoxView",
            "_dom_classes": [],
            "_model_name": "HBoxModel",
            "_view_module": "@jupyter-widgets/controls",
            "_model_module_version": "1.5.0",
            "_view_count": null,
            "_view_module_version": "1.5.0",
            "box_style": "",
            "layout": "IPY_MODEL_4261c81795294d4a8715afebf572c64f",
            "_model_module": "@jupyter-widgets/controls",
            "children": [
              "IPY_MODEL_655bb889daa8474797068c098b9aabd8",
              "IPY_MODEL_bc5557d8bc164455ac3715dfd36c59ac"
            ]
          }
        },
        "4261c81795294d4a8715afebf572c64f": {
          "model_module": "@jupyter-widgets/base",
          "model_name": "LayoutModel",
          "state": {
            "_view_name": "LayoutView",
            "grid_template_rows": null,
            "right": null,
            "justify_content": null,
            "_view_module": "@jupyter-widgets/base",
            "overflow": null,
            "_model_module_version": "1.2.0",
            "_view_count": null,
            "flex_flow": null,
            "width": null,
            "min_width": null,
            "border": null,
            "align_items": null,
            "bottom": null,
            "_model_module": "@jupyter-widgets/base",
            "top": null,
            "grid_column": null,
            "overflow_y": null,
            "overflow_x": null,
            "grid_auto_flow": null,
            "grid_area": null,
            "grid_template_columns": null,
            "flex": null,
            "_model_name": "LayoutModel",
            "justify_items": null,
            "grid_row": null,
            "max_height": null,
            "align_content": null,
            "visibility": null,
            "align_self": null,
            "height": null,
            "min_height": null,
            "padding": null,
            "grid_auto_rows": null,
            "grid_gap": null,
            "max_width": null,
            "order": null,
            "_view_module_version": "1.2.0",
            "grid_template_areas": null,
            "object_position": null,
            "object_fit": null,
            "grid_auto_columns": null,
            "margin": null,
            "display": null,
            "left": null
          }
        },
        "655bb889daa8474797068c098b9aabd8": {
          "model_module": "@jupyter-widgets/controls",
          "model_name": "FloatProgressModel",
          "state": {
            "_view_name": "ProgressView",
            "style": "IPY_MODEL_bdf95e46fed9470aa1bccfee32e5c4ef",
            "_dom_classes": [],
            "description": "Downloading: 100%",
            "_model_name": "FloatProgressModel",
            "bar_style": "success",
            "max": 411577189,
            "_view_module": "@jupyter-widgets/controls",
            "_model_module_version": "1.5.0",
            "value": 411577189,
            "_view_count": null,
            "_view_module_version": "1.5.0",
            "orientation": "horizontal",
            "min": 0,
            "description_tooltip": null,
            "_model_module": "@jupyter-widgets/controls",
            "layout": "IPY_MODEL_f44ca0e5b5394a8490cc988320b10e03"
          }
        },
        "bc5557d8bc164455ac3715dfd36c59ac": {
          "model_module": "@jupyter-widgets/controls",
          "model_name": "HTMLModel",
          "state": {
            "_view_name": "HTMLView",
            "style": "IPY_MODEL_4d40d7f37ae44e39a5764e488b5a779a",
            "_dom_classes": [],
            "description": "",
            "_model_name": "HTMLModel",
            "placeholder": "​",
            "_view_module": "@jupyter-widgets/controls",
            "_model_module_version": "1.5.0",
            "value": " 412M/412M [00:10&lt;00:00, 40.8MB/s]",
            "_view_count": null,
            "_view_module_version": "1.5.0",
            "description_tooltip": null,
            "_model_module": "@jupyter-widgets/controls",
            "layout": "IPY_MODEL_0db9cb8a7752451284e3c9eedb44ec2f"
          }
        },
        "bdf95e46fed9470aa1bccfee32e5c4ef": {
          "model_module": "@jupyter-widgets/controls",
          "model_name": "ProgressStyleModel",
          "state": {
            "_view_name": "StyleView",
            "_model_name": "ProgressStyleModel",
            "description_width": "initial",
            "_view_module": "@jupyter-widgets/base",
            "_model_module_version": "1.5.0",
            "_view_count": null,
            "_view_module_version": "1.2.0",
            "bar_color": null,
            "_model_module": "@jupyter-widgets/controls"
          }
        },
        "f44ca0e5b5394a8490cc988320b10e03": {
          "model_module": "@jupyter-widgets/base",
          "model_name": "LayoutModel",
          "state": {
            "_view_name": "LayoutView",
            "grid_template_rows": null,
            "right": null,
            "justify_content": null,
            "_view_module": "@jupyter-widgets/base",
            "overflow": null,
            "_model_module_version": "1.2.0",
            "_view_count": null,
            "flex_flow": null,
            "width": null,
            "min_width": null,
            "border": null,
            "align_items": null,
            "bottom": null,
            "_model_module": "@jupyter-widgets/base",
            "top": null,
            "grid_column": null,
            "overflow_y": null,
            "overflow_x": null,
            "grid_auto_flow": null,
            "grid_area": null,
            "grid_template_columns": null,
            "flex": null,
            "_model_name": "LayoutModel",
            "justify_items": null,
            "grid_row": null,
            "max_height": null,
            "align_content": null,
            "visibility": null,
            "align_self": null,
            "height": null,
            "min_height": null,
            "padding": null,
            "grid_auto_rows": null,
            "grid_gap": null,
            "max_width": null,
            "order": null,
            "_view_module_version": "1.2.0",
            "grid_template_areas": null,
            "object_position": null,
            "object_fit": null,
            "grid_auto_columns": null,
            "margin": null,
            "display": null,
            "left": null
          }
        },
        "4d40d7f37ae44e39a5764e488b5a779a": {
          "model_module": "@jupyter-widgets/controls",
          "model_name": "DescriptionStyleModel",
          "state": {
            "_view_name": "StyleView",
            "_model_name": "DescriptionStyleModel",
            "description_width": "",
            "_view_module": "@jupyter-widgets/base",
            "_model_module_version": "1.5.0",
            "_view_count": null,
            "_view_module_version": "1.2.0",
            "_model_module": "@jupyter-widgets/controls"
          }
        },
        "0db9cb8a7752451284e3c9eedb44ec2f": {
          "model_module": "@jupyter-widgets/base",
          "model_name": "LayoutModel",
          "state": {
            "_view_name": "LayoutView",
            "grid_template_rows": null,
            "right": null,
            "justify_content": null,
            "_view_module": "@jupyter-widgets/base",
            "overflow": null,
            "_model_module_version": "1.2.0",
            "_view_count": null,
            "flex_flow": null,
            "width": null,
            "min_width": null,
            "border": null,
            "align_items": null,
            "bottom": null,
            "_model_module": "@jupyter-widgets/base",
            "top": null,
            "grid_column": null,
            "overflow_y": null,
            "overflow_x": null,
            "grid_auto_flow": null,
            "grid_area": null,
            "grid_template_columns": null,
            "flex": null,
            "_model_name": "LayoutModel",
            "justify_items": null,
            "grid_row": null,
            "max_height": null,
            "align_content": null,
            "visibility": null,
            "align_self": null,
            "height": null,
            "min_height": null,
            "padding": null,
            "grid_auto_rows": null,
            "grid_gap": null,
            "max_width": null,
            "order": null,
            "_view_module_version": "1.2.0",
            "grid_template_areas": null,
            "object_position": null,
            "object_fit": null,
            "grid_auto_columns": null,
            "margin": null,
            "display": null,
            "left": null
          }
        }
      }
    }
  },
  "cells": [
    {
      "cell_type": "markdown",
      "metadata": {
        "id": "rOvr7Cs55Ygv"
      },
      "source": [
        "##**Absa 50.02** Bert as Baseline model + Ctx-sentiment\n",
        "Baseline model for absa annotated data sentiment classification\n",
        "> Model used: (Pretrained) Bert For Sequence Classification('bert-base-chinese')\n",
        "\n",
        "> Dataset: (4/1 updated) \n",
        "\n",
        "> Splitting: Training: 802 for training, 90 for validation and testing. \n",
        "\n",
        "> Model Performance:\n",
        "\n",
        "[8/20]\n",
        "Training acc:0.949, Training Loss: 0.137\n",
        "Validation acc:0.922, Validation Loss: 0.337\n",
        "\n"
      ]
    },
    {
      "cell_type": "markdown",
      "metadata": {
        "id": "tJB8hjLl067d"
      },
      "source": [
        "##Data Extraction & Preprocessing"
      ]
    },
    {
      "cell_type": "code",
      "metadata": {
        "id": "chPZKjVmzDbx"
      },
      "source": [
        "import pandas as pd\n",
        "import csv"
      ],
      "execution_count": 1,
      "outputs": []
    },
    {
      "cell_type": "code",
      "metadata": {
        "id": "2fmT8yNOzF9f"
      },
      "source": [
        "# from google.colab import files\n",
        "# uploaded = files.upload()"
      ],
      "execution_count": 2,
      "outputs": []
    },
    {
      "cell_type": "code",
      "metadata": {
        "id": "zxX4CqpuzP9Y"
      },
      "source": [
        "# filename = 'merged_frame_20210401.csv'\n",
        "# df = pd.read_csv(filename)\n",
        "# df = df[(df['from_name'].isin(['sentiment','ctx-sentiment']))]\n",
        "# # df[df['A'].isin([3, 6])]\n",
        "# df = df.dropna()\n",
        "# df = df.reset_index()"
      ],
      "execution_count": 3,
      "outputs": []
    },
    {
      "cell_type": "code",
      "metadata": {
        "id": "xNVMNDvF02lY"
      },
      "source": [
        "# ratings = list(df['ent_choice'])\n",
        "# new_ratings = []\n",
        "# #  0:黃燈 1:綠燈 2:紅燈\n",
        "# for rating in ratings:\n",
        "#   rating = int(rating)\n",
        "#   if rating > 3:\n",
        "#     label = 1 # positive \n",
        "#   elif rating == 3:\n",
        "#     label = 0 # neutral\n",
        "#   else:\n",
        "#     label = 2 # negative \n",
        "#   new_ratings.append(label)\n",
        "# print(len(new_ratings))\n",
        "# # a.to_frame().join(b)"
      ],
      "execution_count": 4,
      "outputs": []
    },
    {
      "cell_type": "code",
      "metadata": {
        "id": "97HXUv2HwYZ9"
      },
      "source": [
        "# labels = pd.Series(new_ratings, name = 'labels')\n",
        "# categories = df['from_name']\n",
        "# data = df['ent_text']\n",
        "# concat_df = data.to_frame().join(labels).join(categories)\n",
        "# concat_df.to_csv('absa_annotsents_data_ctx.csv')\n",
        "# df = concat_df\n",
        "# df"
      ],
      "execution_count": 5,
      "outputs": []
    },
    {
      "cell_type": "code",
      "metadata": {
        "id": "8QJBVUzlumFV"
      },
      "source": [
        "# df['from_name'].value_counts()"
      ],
      "execution_count": 6,
      "outputs": []
    },
    {
      "cell_type": "markdown",
      "metadata": {
        "id": "OoZj4vq_C7_q"
      },
      "source": [
        "## Loading data"
      ]
    },
    {
      "cell_type": "code",
      "metadata": {
        "colab": {
          "base_uri": "https://localhost:8080/"
        },
        "id": "QQCNQu8s2AYJ",
        "outputId": "7a320d13-af2f-4aa9-ef38-064d5060c5eb"
      },
      "source": [
        "import pandas as pd\n",
        "import csv\n",
        "from google.colab import drive\n",
        "drive.mount('/content/drive') # Warrior29"
      ],
      "execution_count": 7,
      "outputs": [
        {
          "output_type": "stream",
          "text": [
            "Mounted at /content/drive\n"
          ],
          "name": "stdout"
        }
      ]
    },
    {
      "cell_type": "code",
      "metadata": {
        "id": "_zo8odwMvA0E"
      },
      "source": [
        "filepath = '//content/drive/MyDrive/指向情緒案/data/absa_bert_ctx_data.csv'\n",
        "# df.to_csv(filepath, index = False)\n",
        "df = pd.read_csv(filepath)"
      ],
      "execution_count": 9,
      "outputs": []
    },
    {
      "cell_type": "code",
      "metadata": {
        "colab": {
          "base_uri": "https://localhost:8080/"
        },
        "id": "63TV96YK6Wrw",
        "outputId": "2c5fa174-0f9c-4ac5-ac99-cfa2d2a3464f"
      },
      "source": [
        "vc = df['from_name'].value_counts() \n",
        "# \n",
        "vc = list(vc)\n",
        "print(f'Ctx sent ratio:{(vc[1]/sum(vc)):.3f}')"
      ],
      "execution_count": 30,
      "outputs": [
        {
          "output_type": "stream",
          "text": [
            "Ctx sent ratio:0.228\n"
          ],
          "name": "stdout"
        }
      ]
    },
    {
      "cell_type": "code",
      "metadata": {
        "colab": {
          "base_uri": "https://localhost:8080/",
          "height": 300
        },
        "id": "Hbqv1ZQK6hfn",
        "outputId": "0a88f108-e4fb-4958-b7ac-8f2d73d3504f"
      },
      "source": [
        "# Plotting\n",
        "sent_df = df[df['from_name'] == 'sentiment']\n",
        "ctx_sent_df = df[df['from_name'] == 'ctx-sentiment']\n",
        "sent_count = pd.value_counts(sent_df['labels'])\n",
        "ctx_sent_count =pd.value_counts(ctx_sent_df['labels'])\n",
        "counts = pd.DataFrame({'sent': list(sent_count),\n",
        "                   'ctx-sent': list(ctx_sent_count)})\n",
        "fig = counts.plot.bar(stacked = True)\n",
        "fig.set_xticklabels(['Positive', 'Negative', 'Neutral'])\n",
        "sc = list(sent_count)\n",
        "csc = list(ctx_sent_count)\n",
        "# sum_counts = [x + y for x, y in zip(sc, csc)]\n",
        "for i, (k,v) in enumerate(zip(csc, sc)):\n",
        "    fig.text(i-0.1, v, str(k), fontsize= 15, va = 'bottom')\n",
        "    fig.text(i-0.1, k, str(v), fontsize= 15, va = 'bottom')"
      ],
      "execution_count": 10,
      "outputs": [
        {
          "output_type": "display_data",
          "data": {
            "image/png": "[encoded data removed]",
            "text/plain": [
              "<Figure size 432x288 with 1 Axes>"
            ]
          },
          "metadata": {
            "tags": [],
            "needs_background": "light"
          }
        }
      ]
    },
    {
      "cell_type": "markdown",
      "metadata": {
        "id": "yA2XMWPz6B84"
      },
      "source": [
        "## Preparing datasets & Loading pretrained Bert, tokenizer"
      ]
    },
    {
      "cell_type": "code",
      "metadata": {
        "id": "FzhTXTb-34ql"
      },
      "source": [
        "!pip install transformers"
      ],
      "execution_count": null,
      "outputs": []
    },
    {
      "cell_type": "code",
      "metadata": {
        "id": "ZuhJgQAw4AIS",
        "colab": {
          "base_uri": "https://localhost:8080/",
          "height": 367,
          "referenced_widgets": [
            "34c225a281de49a7aa271bc38d061ea4",
            "bf682a43d18e4e72bd9396fd0dbc4c86",
            "72735f1c541a4f75b3992592b5445d4b",
            "a09a605763d0481aad9c8a4861b97009",
            "2feccf63f4bf4f418c82a2fc68d72131",
            "f27b171613394ff28bf035134ce47e5e",
            "767db864460e486ebdb1879199ea1662",
            "c0faf98c6c1a468490d03e317b2d6139",
            "546da42f07854cbd874122467e9a01e6",
            "bd9a6e5cc94a49d284dfa4386dcec03d",
            "f5b590cfbbaa488fad48bfe8f560fbce",
            "90929e870b614b57a18c396d51e0b8b5",
            "45f25f4a678d44f88dfbf63e23279f8c",
            "1624681713524c96949fc2ec93e9e2f6",
            "1e71fc33a3164bfc984c68e5d7e69cba",
            "929cd2d86f7947f0bee14d0a0fba7e34",
            "1f56cef3363d473794bec50d2eecca1e",
            "cf5a4494529a49178f81f88f8e3c6930",
            "48a552731a904647ad7645cf70faedf5",
            "76e2d20192b4428e86d2b3ff2f471cae",
            "41e7651dfd5848cd92331cd4c0ba101d",
            "70170c5a91a04dff87ea3227ac142ae3",
            "3bc16ca9e62742d99efdeee1a925e824",
            "962879c8021043aa957e89a4b4a2568a",
            "a82b652cf7e14868ae30afa266a78bb4",
            "c02845f24da042e281969e21e2f42445",
            "4ff34be299834a4a95916fb75deac28c",
            "9ed276c8e1614c049d364da72afa39e8",
            "8f863de767824eb1a6e201b9a4e29715",
            "9371d07ae14b44acbb03e79a5e5632c1",
            "e9d3b654d7de49aeb9be8dc78062ca79",
            "9f08815bfa4a41fc80da2f22057d73d0",
            "acfde400440348308040e221bd44f2b9",
            "4261c81795294d4a8715afebf572c64f",
            "655bb889daa8474797068c098b9aabd8",
            "bc5557d8bc164455ac3715dfd36c59ac",
            "bdf95e46fed9470aa1bccfee32e5c4ef",
            "f44ca0e5b5394a8490cc988320b10e03",
            "4d40d7f37ae44e39a5764e488b5a779a",
            "0db9cb8a7752451284e3c9eedb44ec2f"
          ]
        },
        "outputId": "3ec15187-659d-4e04-c0ec-7e1bfa540e6b"
      },
      "source": [
        "import numpy as np\n",
        "import torch\n",
        "import torch.nn as nn\n",
        "from sklearn.model_selection import train_test_split\n",
        "from sklearn.metrics import classification_report\n",
        "import transformers\n",
        "from transformers import AutoModel, BertTokenizer, BertForSequenceClassification, BertConfig\n",
        "\n",
        "device = torch.device(\"cuda\")  \n",
        "tokenizer = BertTokenizer.from_pretrained('bert-base-chinese', aux_logits = False)\n",
        "model = BertForSequenceClassification.from_pretrained('bert-base-chinese', output_hidden_states=True, num_labels = 3)"
      ],
      "execution_count": 12,
      "outputs": [
        {
          "output_type": "display_data",
          "data": {
            "application/vnd.jupyter.widget-view+json": {
              "model_id": "34c225a281de49a7aa271bc38d061ea4",
              "version_minor": 0,
              "version_major": 2
            },
            "text/plain": [
              "HBox(children=(FloatProgress(value=0.0, description='Downloading', max=109540.0, style=ProgressStyle(descripti…"
            ]
          },
          "metadata": {
            "tags": []
          }
        },
        {
          "output_type": "stream",
          "text": [
            "\n"
          ],
          "name": "stdout"
        },
        {
          "output_type": "display_data",
          "data": {
            "application/vnd.jupyter.widget-view+json": {
              "model_id": "546da42f07854cbd874122467e9a01e6",
              "version_minor": 0,
              "version_major": 2
            },
            "text/plain": [
              "HBox(children=(FloatProgress(value=0.0, description='Downloading', max=29.0, style=ProgressStyle(description_w…"
            ]
          },
          "metadata": {
            "tags": []
          }
        },
        {
          "output_type": "stream",
          "text": [
            "\n"
          ],
          "name": "stdout"
        },
        {
          "output_type": "display_data",
          "data": {
            "application/vnd.jupyter.widget-view+json": {
              "model_id": "1f56cef3363d473794bec50d2eecca1e",
              "version_minor": 0,
              "version_major": 2
            },
            "text/plain": [
              "HBox(children=(FloatProgress(value=0.0, description='Downloading', max=268943.0, style=ProgressStyle(descripti…"
            ]
          },
          "metadata": {
            "tags": []
          }
        },
        {
          "output_type": "stream",
          "text": [
            "\n"
          ],
          "name": "stdout"
        },
        {
          "output_type": "display_data",
          "data": {
            "application/vnd.jupyter.widget-view+json": {
              "model_id": "a82b652cf7e14868ae30afa266a78bb4",
              "version_minor": 0,
              "version_major": 2
            },
            "text/plain": [
              "HBox(children=(FloatProgress(value=0.0, description='Downloading', max=624.0, style=ProgressStyle(description_…"
            ]
          },
          "metadata": {
            "tags": []
          }
        },
        {
          "output_type": "stream",
          "text": [
            "\n"
          ],
          "name": "stdout"
        },
        {
          "output_type": "display_data",
          "data": {
            "application/vnd.jupyter.widget-view+json": {
              "model_id": "acfde400440348308040e221bd44f2b9",
              "version_minor": 0,
              "version_major": 2
            },
            "text/plain": [
              "HBox(children=(FloatProgress(value=0.0, description='Downloading', max=411577189.0, style=ProgressStyle(descri…"
            ]
          },
          "metadata": {
            "tags": []
          }
        },
        {
          "output_type": "stream",
          "text": [
            "\n"
          ],
          "name": "stdout"
        },
        {
          "output_type": "stream",
          "text": [
            "Some weights of the model checkpoint at bert-base-chinese were not used when initializing BertForSequenceClassification: ['cls.predictions.bias', 'cls.predictions.transform.dense.weight', 'cls.predictions.transform.dense.bias', 'cls.predictions.decoder.weight', 'cls.seq_relationship.weight', 'cls.seq_relationship.bias', 'cls.predictions.transform.LayerNorm.weight', 'cls.predictions.transform.LayerNorm.bias']\n",
            "- This IS expected if you are initializing BertForSequenceClassification from the checkpoint of a model trained on another task or with another architecture (e.g. initializing a BertForSequenceClassification model from a BertForPreTraining model).\n",
            "- This IS NOT expected if you are initializing BertForSequenceClassification from the checkpoint of a model that you expect to be exactly identical (initializing a BertForSequenceClassification model from a BertForSequenceClassification model).\n",
            "Some weights of BertForSequenceClassification were not initialized from the model checkpoint at bert-base-chinese and are newly initialized: ['classifier.weight', 'classifier.bias']\n",
            "You should probably TRAIN this model on a down-stream task to be able to use it for predictions and inference.\n"
          ],
          "name": "stderr"
        }
      ]
    },
    {
      "cell_type": "code",
      "metadata": {
        "id": "6ayuvx7E4EeR",
        "colab": {
          "base_uri": "https://localhost:8080/"
        },
        "outputId": "1713d2b1-0fff-4f7f-d7cc-7adbae9580a9"
      },
      "source": [
        "from sklearn.model_selection import train_test_split\n",
        "Max_len = 30\n",
        "# df.info(verbose=True)\n",
        "df['ent_text'] = df['ent_text'].apply(lambda x: x[:Max_len])\n",
        "X = df['ent_text']\n",
        "y = df['labels']\n",
        "\n",
        "# Stratification \n",
        "# testing set is also used for validation due to the limit size of dataset \n",
        "X_train, X_test, y_train, y_test = train_test_split(X, y, test_size=0.1, stratify=y)\n",
        "print('Training data size:', len(X_train))\n",
        "print('Testing data size:', len(X_test))\n",
        "X_size = len(X_train)\n",
        "y_size = len(X_test)"
      ],
      "execution_count": 13,
      "outputs": [
        {
          "output_type": "stream",
          "text": [
            "Training data size: 1040\n",
            "Testing data size: 116\n"
          ],
          "name": "stdout"
        }
      ]
    },
    {
      "cell_type": "code",
      "metadata": {
        "id": "a733BwLK6E6z"
      },
      "source": [
        "X_train = tokenizer.batch_encode_plus(\n",
        "    X_train.tolist(),\n",
        "    max_length = Max_len,\n",
        "    padding=True,\n",
        "    truncation=True\n",
        ")\n",
        "X_test = tokenizer.batch_encode_plus(\n",
        "    X_test.tolist(),\n",
        "    max_length = Max_len,\n",
        "    padding=True,\n",
        "    truncation=True\n",
        ")"
      ],
      "execution_count": 14,
      "outputs": []
    },
    {
      "cell_type": "code",
      "metadata": {
        "id": "NFyeNL8t5adE"
      },
      "source": [
        "train_seq = torch.tensor(X_train['input_ids'])\n",
        "train_mask = torch.tensor(X_train['attention_mask'])\n",
        "train_y = torch.tensor(y_train.tolist(), dtype=torch.int64)\n",
        "\n",
        "test_seq = torch.tensor(X_test['input_ids'])\n",
        "test_mask = torch.tensor(X_test['attention_mask'])\n",
        "test_y = torch.tensor(y_test.tolist())"
      ],
      "execution_count": 15,
      "outputs": []
    },
    {
      "cell_type": "code",
      "metadata": {
        "id": "nZG05Is855xR",
        "colab": {
          "base_uri": "https://localhost:8080/"
        },
        "outputId": "135c1326-2c90-402c-e269-b2daa1ab5ea3"
      },
      "source": [
        "from torch.utils.data import TensorDataset, DataLoader\n",
        "\n",
        "batch_size = 32\n",
        "train_data = TensorDataset(train_seq, train_mask, train_y)\n",
        "test_data = TensorDataset(test_seq, test_mask, test_y)\n",
        "train_loader = DataLoader(train_data, batch_size=batch_size)\n",
        "test_loader = DataLoader(test_data, batch_size=batch_size)\n",
        "print(type(train_loader))"
      ],
      "execution_count": 16,
      "outputs": [
        {
          "output_type": "stream",
          "text": [
            "<class 'torch.utils.data.dataloader.DataLoader'>\n"
          ],
          "name": "stdout"
        }
      ]
    },
    {
      "cell_type": "markdown",
      "metadata": {
        "id": "8RXz3fqN34b4"
      },
      "source": [
        "## Setting seed"
      ]
    },
    {
      "cell_type": "code",
      "metadata": {
        "id": "Kf8qsAEq4I8S"
      },
      "source": [
        "# fix random seed for reproducibility\n",
        "import os\n",
        "import random\n",
        "import tensorflow as tf\n",
        "myseed = 43\n",
        "os.environ['PYTHONHASHSEED'] = str(myseed)\n",
        "np.random.seed(myseed)\n",
        "random.seed(myseed) \n",
        "tf.random.set_seed(myseed)\n",
        "torch.manual_seed(myseed)\n",
        "# gpu \n",
        "if torch.cuda.is_available():\n",
        "  torch.cuda.manual_seed_all(myseed) "
      ],
      "execution_count": 17,
      "outputs": []
    },
    {
      "cell_type": "markdown",
      "metadata": {
        "id": "WD3OqDiP7tUC"
      },
      "source": [
        "## Training/Fine-tuning Bert\n",
        "#### Source code reference:\n",
        "https://www.analyticsvidhya.com/blog/2020/07/transfer-learning-for-nlp-fine-tuning-bert-for-text-classification/"
      ]
    },
    {
      "cell_type": "code",
      "metadata": {
        "id": "SIxijVpa5lF5"
      },
      "source": [
        "# Config\n",
        "from transformers import AdamW\n",
        "device = torch.device(\"cuda\") if torch.cuda.is_available() else torch.device(\"cpu\")\n",
        "model = model.to(device)\n",
        "# put model (and batch) into device(device ='cuda' if gpu is available)\n",
        "optimizer = AdamW(model.parameters(), lr = 1e-5, weight_decay = 0.05)\n",
        "epochs = 20\n",
        "loss_fn = nn.CrossEntropyLoss()\n",
        "def cal_loss(pred, y): \n",
        "  '''L2 regularization'''\n",
        "  # l2_lambda = 0.001\n",
        "  # l2_reg = 0\n",
        "  # for param in model.parameters():\n",
        "  #   l2_reg += 0.5*(param**2).sum()\n",
        "  # loss_fn = loss_fn(pred, y) + l2_lambda * l2_reg\n",
        "  # return loss_fn\n",
        "  return loss_fn(pred, y)"
      ],
      "execution_count": 18,
      "outputs": []
    },
    {
      "cell_type": "code",
      "metadata": {
        "id": "bp3DyEQd7lK-"
      },
      "source": [
        "def train(dataloader = train_loader):\n",
        "  model.train()\n",
        "  losses, acc = 0, 0\n",
        "  # iterate over batches\n",
        "  for step, batch in enumerate(dataloader):\n",
        "    # set to train mode\n",
        "    model.train()\n",
        "    batch = [r.to(device) for r in batch]\n",
        "    sent_id, mask, label = batch\n",
        "\n",
        "    # clear previously calculated gradients \n",
        "    model.zero_grad()        \n",
        "    pred = model(sent_id, mask).logits\n",
        "\n",
        "    _, pred2 = torch.max(pred, 1)\n",
        "    loss = cal_loss(pred, label)\n",
        "    loss.backward()\n",
        "    acc += (pred2.cpu() == label.cpu()).sum().item()\n",
        "    losses += loss.item()  \n",
        "    \n",
        "    # clip the the gradients to 1.0. It helps in preventing the exploding gradient problem\n",
        "    torch.nn.utils.clip_grad_norm_(model.parameters(), 1.0)\n",
        "    optimizer.step()\n",
        "  \n",
        "  avg_acc = acc / X_size \n",
        "  avg_loss = losses / len(dataloader)\n",
        "\n",
        "  return avg_loss, avg_acc"
      ],
      "execution_count": 19,
      "outputs": []
    },
    {
      "cell_type": "code",
      "metadata": {
        "id": "wYaFrgz_7Vf5"
      },
      "source": [
        "def validate(dataloader = test_loader):\n",
        "  model.eval()\n",
        "  val_losses, val_acc = 0, 0\n",
        "  for step, batch in enumerate(dataloader):\n",
        "\n",
        "    # push the batch to gpu\n",
        "    batch = [t.to(device) for t in batch]\n",
        "    sent_id, mask, label = batch\n",
        "\n",
        "    with torch.no_grad():\n",
        "      pred = model(sent_id, mask).logits\n",
        "      loss = cal_loss(pred,label)\n",
        "      _, pred2 = torch.max(pred, 1)\n",
        "      val_acc += (pred2.cpu() == label.cpu()).sum().item()\n",
        "      \n",
        "      val_losses += loss.item()\n",
        "  avg_acc = val_acc / y_size \n",
        "  avg_loss = val_losses / len(dataloader)\n",
        "  \n",
        "  return avg_loss, avg_acc"
      ],
      "execution_count": 20,
      "outputs": []
    },
    {
      "cell_type": "code",
      "metadata": {
        "id": "GPv4SF_x19-Y"
      },
      "source": [
        "from os import path\n",
        "# Saving checkpoint model\n",
        "ckpt_path = '/content/drive/MyDrive/指向情緒案/50.02BERT_baseline_model/model.ckpt'\n",
        "!mkdir -p /content/drive/MyDrive/指向情緒案/50.02BERT_baseline_model"
      ],
      "execution_count": 21,
      "outputs": []
    },
    {
      "cell_type": "code",
      "metadata": {
        "id": "PYtCDvR0CscU",
        "colab": {
          "base_uri": "https://localhost:8080/"
        },
        "outputId": "ecbc9d58-aca4-4076-e16f-3ec8637d1cb5"
      },
      "source": [
        "import time\n",
        "best_acc = 0.\n",
        "loss_dict = {'train': [], 'val': []}\n",
        "acc_dict = {'train': [], 'val': []}\n",
        "start = time.time()\n",
        "for epoch in range(epochs):\n",
        "    print(f'[{epoch+1}/{epochs}]')\n",
        "   \n",
        "    train_loss, train_acc = train()\n",
        "    val_loss, val_acc = validate()\n",
        "    \n",
        "    # append training and validation loss\n",
        "    loss_dict['train'].append(train_loss)\n",
        "    loss_dict['val'].append(val_loss)\n",
        "    acc_dict['train'].append(train_acc)\n",
        "    acc_dict['val'].append(val_acc)\n",
        "    print(f'Training acc:{train_acc:.3f}, Training Loss: {train_loss:.3f}')\n",
        "    print(f'Validation acc:{val_acc:.3f}, Validation Loss: {val_loss:.3f}')\n",
        "    if val_acc > best_acc:\n",
        "        best_acc = val_acc\n",
        "        print(f'Saving model to {ckpt_path}.')\n",
        "        torch.save(model.state_dict(), ckpt_path)\n",
        "end = time.time()\n",
        "print(f'Running {(end - start):.2f} seconds.')"
      ],
      "execution_count": 22,
      "outputs": [
        {
          "output_type": "stream",
          "text": [
            "[1/20]\n",
            "Training acc:0.593, Training Loss: 0.866\n",
            "Validation acc:0.776, Validation Loss: 0.681\n",
            "Saving model to /content/drive/MyDrive/指向情緒案/50.02BERT_baseline_model/model.ckpt.\n",
            "[2/20]\n",
            "Training acc:0.838, Training Loss: 0.537\n",
            "Validation acc:0.845, Validation Loss: 0.514\n",
            "Saving model to /content/drive/MyDrive/指向情緒案/50.02BERT_baseline_model/model.ckpt.\n",
            "[3/20]\n",
            "Training acc:0.894, Training Loss: 0.376\n",
            "Validation acc:0.853, Validation Loss: 0.466\n",
            "Saving model to /content/drive/MyDrive/指向情緒案/50.02BERT_baseline_model/model.ckpt.\n",
            "[4/20]\n",
            "Training acc:0.920, Training Loss: 0.293\n",
            "Validation acc:0.853, Validation Loss: 0.479\n",
            "[5/20]\n",
            "Training acc:0.924, Training Loss: 0.262\n",
            "Validation acc:0.802, Validation Loss: 0.587\n",
            "[6/20]\n",
            "Training acc:0.929, Training Loss: 0.237\n",
            "Validation acc:0.845, Validation Loss: 0.527\n",
            "[7/20]\n",
            "Training acc:0.935, Training Loss: 0.202\n",
            "Validation acc:0.853, Validation Loss: 0.542\n",
            "[8/20]\n",
            "Training acc:0.943, Training Loss: 0.164\n",
            "Validation acc:0.819, Validation Loss: 0.605\n",
            "[9/20]\n",
            "Training acc:0.948, Training Loss: 0.140\n",
            "Validation acc:0.819, Validation Loss: 0.653\n",
            "[10/20]\n",
            "Training acc:0.963, Training Loss: 0.110\n",
            "Validation acc:0.802, Validation Loss: 0.738\n",
            "[11/20]\n",
            "Training acc:0.965, Training Loss: 0.094\n",
            "Validation acc:0.802, Validation Loss: 0.747\n",
            "[12/20]\n",
            "Training acc:0.973, Training Loss: 0.079\n",
            "Validation acc:0.793, Validation Loss: 0.822\n",
            "[13/20]\n",
            "Training acc:0.975, Training Loss: 0.074\n",
            "Validation acc:0.836, Validation Loss: 0.780\n",
            "[14/20]\n",
            "Training acc:0.982, Training Loss: 0.057\n",
            "Validation acc:0.810, Validation Loss: 0.833\n",
            "[15/20]\n",
            "Training acc:0.988, Training Loss: 0.044\n",
            "Validation acc:0.845, Validation Loss: 0.840\n",
            "[16/20]\n",
            "Training acc:0.987, Training Loss: 0.050\n",
            "Validation acc:0.836, Validation Loss: 0.854\n",
            "[17/20]\n",
            "Training acc:0.990, Training Loss: 0.037\n",
            "Validation acc:0.828, Validation Loss: 0.906\n",
            "[18/20]\n",
            "Training acc:0.988, Training Loss: 0.035\n",
            "Validation acc:0.845, Validation Loss: 0.847\n",
            "[19/20]\n",
            "Training acc:0.991, Training Loss: 0.030\n",
            "Validation acc:0.828, Validation Loss: 0.893\n",
            "[20/20]\n",
            "Training acc:0.990, Training Loss: 0.032\n",
            "Validation acc:0.853, Validation Loss: 0.863\n",
            "Running 136.30 seconds.\n"
          ],
          "name": "stdout"
        }
      ]
    },
    {
      "cell_type": "markdown",
      "metadata": {
        "id": "67heLx1g-AsW"
      },
      "source": [
        "Utils' source code: by Heng-Jui Chang @ NTUEE in 2021 ML Spring 1."
      ]
    },
    {
      "cell_type": "code",
      "metadata": {
        "id": "X4ACgm-WCjOQ"
      },
      "source": [
        "from matplotlib.pyplot import figure\n",
        "import matplotlib.pyplot as plt\n",
        "def plot_learning_curve(record, title ='', is_loss = True):\n",
        "    total_steps = len(record['train'])\n",
        "    x_1 = range(total_steps)\n",
        "    x_2 = x_1[::len(record['train']) // len(record['val'])]\n",
        "    figure(figsize=(6, 4))\n",
        "    plt.plot(x_1, record['train'], c='tab:cyan', label='train')\n",
        "    plt.plot(x_2, record['val'], c='tab:green', label='val')\n",
        "    \n",
        "    plt.xlabel('Training steps')\n",
        "    if is_loss:\n",
        "      plt.ylim(0.0, 5.)\n",
        "      plt.ylabel('Cross Entropy Loss')\n",
        "    else:\n",
        "      plt.ylim(0.0, 1.)\n",
        "      plt.ylabel('Accuracy')\n",
        "    plt.title('Learning curve of {}'.format(title))\n",
        "    plt.legend()\n",
        "    plt.show()"
      ],
      "execution_count": 23,
      "outputs": []
    },
    {
      "cell_type": "code",
      "metadata": {
        "colab": {
          "base_uri": "https://localhost:8080/",
          "height": 295
        },
        "id": "XBVIc5IE-txR",
        "outputId": "da6a2ea2-3382-4450-e72b-f89caa44181e"
      },
      "source": [
        "plot_learning_curve(acc_dict, title= 'Pretrained Bert', is_loss = True)"
      ],
      "execution_count": 24,
      "outputs": [
        {
          "output_type": "display_data",
          "data": {
            "image/png": "[encoded data removed]",
            "text/plain": [
              "<Figure size 432x288 with 1 Axes>"
            ]
          },
          "metadata": {
            "tags": [],
            "needs_background": "light"
          }
        }
      ]
    },
    {
      "cell_type": "code",
      "metadata": {
        "id": "Go1O8MkdBYQB",
        "colab": {
          "base_uri": "https://localhost:8080/",
          "height": 295
        },
        "outputId": "6f2c05f6-ede8-410b-cc48-223d71ec960f"
      },
      "source": [
        "plot_learning_curve(acc_dict,  title= 'Pretrained Bert', is_loss = False)"
      ],
      "execution_count": 25,
      "outputs": [
        {
          "output_type": "display_data",
          "data": {
            "image/png": "[encoded data removed]",
            "text/plain": [
              "<Figure size 432x288 with 1 Axes>"
            ]
          },
          "metadata": {
            "tags": [],
            "needs_background": "light"
          }
        }
      ]
    },
    {
      "cell_type": "markdown",
      "metadata": {
        "id": "sb3Q0_rc_qRp"
      },
      "source": [
        "## Loading model for testing "
      ]
    },
    {
      "cell_type": "code",
      "metadata": {
        "id": "alobCJIc_ocS",
        "colab": {
          "base_uri": "https://localhost:8080/"
        },
        "outputId": "c82498a6-0db0-4487-96f7-15b1d017142d"
      },
      "source": [
        "model.load_state_dict(torch.load(ckpt_path))\n",
        "with torch.no_grad():\n",
        "  preds = model(test_seq.to(device), test_mask.to(device)).logits\n",
        "  preds = preds.detach().cpu().numpy()\n",
        "preds = np.argmax(preds, axis = 1)\n",
        "print(classification_report(test_y, preds, zero_division=0))"
      ],
      "execution_count": 26,
      "outputs": [
        {
          "output_type": "stream",
          "text": [
            "              precision    recall  f1-score   support\n",
            "\n",
            "           0       0.00      0.00      0.00         7\n",
            "           1       0.87      0.90      0.88        58\n",
            "           2       0.84      0.92      0.88        51\n",
            "\n",
            "    accuracy                           0.85       116\n",
            "   macro avg       0.57      0.61      0.59       116\n",
            "weighted avg       0.80      0.85      0.83       116\n",
            "\n"
          ],
          "name": "stdout"
        }
      ]
    }
  ]
}
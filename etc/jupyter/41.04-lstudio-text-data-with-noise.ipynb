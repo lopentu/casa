{
 "cells": [
  {
   "cell_type": "code",
   "execution_count": 1,
   "metadata": {},
   "outputs": [],
   "source": [
    "%load_ext autoreload\n",
    "%autoreload 2"
   ]
  },
  {
   "cell_type": "code",
   "execution_count": 2,
   "metadata": {},
   "outputs": [],
   "source": [
    "import pickle\n",
    "import json\n",
    "import random\n",
    "import numpy as np\n",
    "import pandas as pd\n",
    "from tqdm import tqdm\n",
    "from icecream import ic\n",
    "from import_casa import casa, cano\n",
    "from casa.annot import AspectEnum"
   ]
  },
  {
   "cell_type": "code",
   "execution_count": 3,
   "metadata": {},
   "outputs": [],
   "source": [
    "TARGET_DIR = \"20210412\"\n",
    "result_dir = casa.get_data_path() / f\"annot_data/annotated_data_bkup/{TARGET_DIR}\"\n",
    "json_paths = [x for x in result_dir.iterdir() if x.suffix==\".json\"]"
   ]
  },
  {
   "cell_type": "code",
   "execution_count": 4,
   "metadata": {},
   "outputs": [],
   "source": [
    "with json_paths[1].open(\"r\", encoding=\"UTF-8\") as fin:\n",
    "    annots = json.load(fin)"
   ]
  },
  {
   "cell_type": "code",
   "execution_count": 5,
   "metadata": {},
   "outputs": [
    {
     "data": {
      "text/plain": [
       "['completions', 'data', 'id']"
      ]
     },
     "execution_count": 5,
     "metadata": {},
     "output_type": "execute_result"
    }
   ],
   "source": [
    "list(annots[0].keys())"
   ]
  },
  {
   "cell_type": "markdown",
   "metadata": {},
   "source": [
    "## Main conversion loop"
   ]
  },
  {
   "cell_type": "code",
   "execution_count": 54,
   "metadata": {},
   "outputs": [
    {
     "name": "stderr",
     "output_type": "stream",
     "text": [
      "  0%|                                                                                           | 0/10 [00:00<?, ?it/s]"
     ]
    },
    {
     "name": "stdout",
     "output_type": "stream",
     "text": [
      "different text spans:  方便又迅速！Good!\n"
     ]
    },
    {
     "name": "stderr",
     "output_type": "stream",
     "text": [
      " 20%|████████████████▌                                                                  | 2/10 [00:00<00:03,  2.32it/s]"
     ]
    },
    {
     "name": "stdout",
     "output_type": "stream",
     "text": [
      "約翰是哪裡?\n",
      "不確定是什麼\n",
      "多tag\n"
     ]
    },
    {
     "name": "stderr",
     "output_type": "stream",
     "text": [
      " 30%|████████████████████████▉                                                          | 3/10 [00:01<00:03,  2.32it/s]"
     ]
    },
    {
     "name": "stdout",
     "output_type": "stream",
     "text": [
      "可以算涵蓋嗎...?\n",
      "地區+時段\n",
      "metaphorical?\n",
      "不確定指哪裡\n",
      "安平區\n",
      "台北市區\n",
      "499之亂後\n",
      "NP\n",
      "日本國際漫遊\n",
      "成功嶺\n",
      "海景\n"
     ]
    },
    {
     "name": "stderr",
     "output_type": "stream",
     "text": [
      " 40%|█████████████████████████████████▏                                                 | 4/10 [00:01<00:02,  2.50it/s]"
     ]
    },
    {
     "name": "stdout",
     "output_type": "stream",
     "text": [
      "different text spans:  前18個月319/一個月，後六個月一個月399\n",
      "different text spans:  中華電信5G有在建設？？出門連到5G的機會還是不到1/10\n",
      "different text spans:  連玩coin master都會斷線的電信我真的不知道要說什麼\n",
      "different text spans:  每家都有表現差的狀況，就是看環境適合誰囉，我生活圈台哥就是順\n",
      "different text spans:  用起來是比其他家都還快\n",
      "different text spans:  不過遠傳這次拿雙冠真的有讓人刮目相看\n",
      "sarcasm\n"
     ]
    },
    {
     "name": "stderr",
     "output_type": "stream",
     "text": [
      "100%|██████████████████████████████████████████████████████████████████████████████████| 10/10 [00:02<00:00,  3.90it/s]"
     ]
    },
    {
     "name": "stdout",
     "output_type": "stream",
     "text": [
      "test\n",
      "test\n"
     ]
    },
    {
     "name": "stderr",
     "output_type": "stream",
     "text": [
      "\n"
     ]
    }
   ],
   "source": [
    "seq_pairs_list = []\n",
    "noise_pairs_list = []\n",
    "for json_path in tqdm(json_paths):\n",
    "    with json_path.open(\"r\", encoding=\"UTF-8\") as fin:\n",
    "        annots = json.load(fin)\n",
    "    for annot_i, annot_x in enumerate(annots): \n",
    "        try:\n",
    "            aspects = cano.process_thread_annotations(annot_x)\n",
    "            seq_pairs, noise_pairs = cano.make_sequence_from_aspects(aspects, annot_x[\"data\"][\"html\"], noise_ratio=0.5)\n",
    "            seq_pairs_list.extend(seq_pairs)\n",
    "            noise_pairs_list.extend(noise_pairs)\n",
    "        except Exception:\n",
    "            print(annot_i)\n",
    "            raise Exception()"
   ]
  },
  {
   "cell_type": "code",
   "execution_count": 55,
   "metadata": {},
   "outputs": [
    {
     "data": {
      "text/plain": [
       "(2242, 3999)"
      ]
     },
     "execution_count": 55,
     "metadata": {},
     "output_type": "execute_result"
    }
   ],
   "source": [
    "len(seq_pairs_list), len(noise_pairs_list)"
   ]
  },
  {
   "cell_type": "markdown",
   "metadata": {},
   "source": [
    "## Saving data"
   ]
  },
  {
   "cell_type": "code",
   "execution_count": 56,
   "metadata": {},
   "outputs": [],
   "source": [
    "with open(result_dir / f\"seq_pairs_{TARGET_DIR}.pkl\", \"wb\") as fout:\n",
    "    pickle.dump(seq_pairs_list, fout)\n",
    "with open(result_dir / f\"noise_pairs_{TARGET_DIR}.pkl\", \"wb\") as fout:\n",
    "    pickle.dump(noise_pairs_list, fout)"
   ]
  },
  {
   "cell_type": "code",
   "execution_count": 59,
   "metadata": {},
   "outputs": [
    {
     "name": "stdout",
     "output_type": "stream",
     "text": [
      "換(B-O) 電(B-O) 信(B-O) 一(B-O) 定(B-O) 要(B-O) 先(B-O) 試(B-O) 用(B-O) 過(B-O) ，(B-O) 中(B-E) 華(I-E) 訊(B-A) 號(I-A) 普(B-O) 遍(B-O) 都(B-O) 很(B-V) 可(I-V) 以(I-V) ，(B-O) 3(B-A) 9(I-A) 8(I-A) 配(B-O) 家(B-O) 電(B-O) 也(B-O) 不(B-V) 錯(I-V) ，(B-O) 不(B-O) 過(B-O) 看(B-O) 到(B-O) 氣(B-O) 炸(B-O) 鍋(B-O) 目(B-O) 前(B-O) 缺(B-O) 貨(B-O) 中(B-O) ，(B-O) 可(B-O) 能(B-O) 是(B-O) 太(B-O) 熱(B-O) 門(B-O) 了(B-O) …(B-O) …(B-O)\n"
     ]
    }
   ],
   "source": [
    "cano.print_seq_pair(seq_pairs_list[1])"
   ]
  },
  {
   "cell_type": "code",
   "execution_count": 58,
   "metadata": {},
   "outputs": [
    {
     "name": "stdout",
     "output_type": "stream",
     "text": [
      "哎(B-O) 呀(B-O) ，(B-O) 你(B-O) 知(B-O) 道(B-O) 的(B-O) 太(B-O) 多(B-O) 了(B-O) ～(B-O) ～(B-O) ～(B-O) 反(B-O) 正(B-O) 暫(B-O) 時(B-O) 無(B-O) 資(B-O) 金(B-O) 可(B-O) 建(B-O) 設(B-O) ，(B-O) 還(B-O) 不(B-O) 如(B-O) 吃(B-O) 吃(B-O) 台(B-O) 哥(B-O) 大(B-O) 的(B-O) 豆(B-O) 腐(B-O) 比(B-O) 較(B-O) 實(B-O) 際(B-O) ！(B-O) 不(B-O) 然(B-O) 一(B-O) 開(B-O) 台(B-O) ，(B-O) 2(B-O) 0(B-O) 0(B-O) 億(B-O) 頻(B-O) 譜(B-O) 費(B-O) 得(B-O) 開(B-O) 始(B-O) 認(B-O) 列(B-O) ，(B-O) 但(B-O) 馬(B-O) 上(B-O) 就(B-O) 有(B-O) 1(B-O) 0(B-O) 萬(B-O) 低(B-O) 資(B-O) 1(B-O) 8(B-O) 8(B-O) 用(B-O) 戶(B-O) 免(B-O) 費(B-O) 體(B-O) 驗(B-O) ，(B-O) 要(B-O) 加(B-O) 速(B-O) 賠(B-O) 到(B-O) 3(B-O) 0(B-O) 0(B-O) 億(B-O) 嗎(B-O) ？(B-O)\n"
     ]
    }
   ],
   "source": [
    "cano.print_seq_pair(noise_pairs_list[0])"
   ]
  },
  {
   "cell_type": "code",
   "execution_count": 34,
   "metadata": {},
   "outputs": [],
   "source": [
    "ftext = open(result_dir / f\"seq_pairs_{TARGET_DIR}.text.txt\", \"w\", encoding=\"UTF-8\")\n",
    "ftags = open(result_dir / f\"seq_pairs_{TARGET_DIR}.tags.txt\", \"w\", encoding=\"UTF-8\")\n",
    "for text, tags in seq_pairs_list:\n",
    "    ftext.write(text + \"\\n\")\n",
    "    ftags.write(\" \".join(tags) + \"\\n\")\n",
    "ftext.close()\n",
    "ftags.close()"
   ]
  },
  {
   "cell_type": "markdown",
   "metadata": {},
   "source": [
    "## Sandbox"
   ]
  },
  {
   "cell_type": "code",
   "execution_count": 7,
   "metadata": {},
   "outputs": [],
   "source": [
    "def find_thread_idx(annots, thread_idx):\n",
    "    iter_annot = filter(lambda x: x[\"data\"][\"thread_idx\"]==thread_idx, annots)\n",
    "    return list(iter_annot)[0]"
   ]
  },
  {
   "cell_type": "code",
   "execution_count": 8,
   "metadata": {},
   "outputs": [
    {
     "name": "stderr",
     "output_type": "stream",
     "text": [
      "100%|██████████████████████████████████████████████████████████████████████████████████| 10/10 [00:01<00:00,  8.43it/s]\n"
     ]
    }
   ],
   "source": [
    "annots = []\n",
    "for json_path in tqdm(json_paths):\n",
    "    with json_path.open(\"r\", encoding=\"UTF-8\") as fin:\n",
    "        obj = json.load(fin)\n",
    "    annots.extend(obj)        \n"
   ]
  },
  {
   "cell_type": "code",
   "execution_count": 9,
   "metadata": {},
   "outputs": [],
   "source": [
    "annot_x = find_thread_idx(annots, 220)"
   ]
  },
  {
   "cell_type": "code",
   "execution_count": 12,
   "metadata": {},
   "outputs": [],
   "source": [
    "from casa.annot.mark_sequence import *"
   ]
  },
  {
   "cell_type": "code",
   "execution_count": 14,
   "metadata": {},
   "outputs": [],
   "source": [
    "div = make_div_element(annot_x[\"data\"][\"html\"])"
   ]
  },
  {
   "cell_type": "code",
   "execution_count": null,
   "metadata": {},
   "outputs": [],
   "source": []
  },
  {
   "cell_type": "code",
   "execution_count": null,
   "metadata": {},
   "outputs": [],
   "source": []
  },
  {
   "cell_type": "code",
   "execution_count": 15,
   "metadata": {},
   "outputs": [
    {
     "data": {
      "text/plain": [
       "[<Element li at 0x1b50b9d7c00>,\n",
       " <Element li at 0x1b50b9d7d80>,\n",
       " <Element li at 0x1b50b9d7f00>,\n",
       " <Element li at 0x1b50b9d80c0>,\n",
       " <Element li at 0x1b50b9d8240>,\n",
       " <Element li at 0x1b50b9d8400>,\n",
       " <Element li at 0x1b50b9d8580>,\n",
       " <Element li at 0x1b50b9d8700>,\n",
       " <Element li at 0x1b50b9d8880>,\n",
       " <Element li at 0x1b50b9d89c0>,\n",
       " <Element li at 0x1b50b9d8b40>,\n",
       " <Element li at 0x1b50b9d8cc0>,\n",
       " <Element li at 0x1b50b9d8e40>,\n",
       " <Element li at 0x1b50b9d8fc0>,\n",
       " <Element li at 0x1b50b9d9180>,\n",
       " <Element li at 0x1b50b9d9300>,\n",
       " <Element li at 0x1b50b9d9480>,\n",
       " <Element li at 0x1b50b9d9600>,\n",
       " <Element li at 0x1b50b9d9780>,\n",
       " <Element li at 0x1b50b9d9900>,\n",
       " <Element li at 0x1b50b9d9a80>,\n",
       " <Element li at 0x1b50b9d9c00>,\n",
       " <Element li at 0x1b50b9d9d80>,\n",
       " <Element li at 0x1b50b9d9f00>,\n",
       " <Element li at 0x1b50b9db0c0>]"
      ]
     },
     "execution_count": 15,
     "metadata": {},
     "output_type": "execute_result"
    }
   ],
   "source": [
    "div.xpath(\"//li\")"
   ]
  },
  {
   "cell_type": "code",
   "execution_count": 50,
   "metadata": {},
   "outputs": [],
   "source": [
    "aspects, dbg = cano.process_thread_annotations(annot_x, True)\n",
    "seq_pairs, noise_pairs = cano.make_sequence_from_aspects(aspects, annot_x[\"data\"][\"html\"], noise_ratio=0.5)"
   ]
  },
  {
   "cell_type": "code",
   "execution_count": 51,
   "metadata": {},
   "outputs": [
    {
     "data": {
      "text/plain": [
       "(6, 9)"
      ]
     },
     "execution_count": 51,
     "metadata": {},
     "output_type": "execute_result"
    }
   ],
   "source": [
    "len(seq_pairs), len(noise_pairs)"
   ]
  },
  {
   "cell_type": "code",
   "execution_count": 52,
   "metadata": {},
   "outputs": [
    {
     "name": "stdout",
     "output_type": "stream",
     "text": [
      "先(B-O) 辦(B-O) 試(B-O) 用(B-O) ，(B-O) 中(B-E) 華(I-E) 4(B-A) 8(I-A) 8(I-A) 優(B-V) 惠(I-V) 不(I-V) 錯(I-V)\n"
     ]
    }
   ],
   "source": [
    "cano.print_seq_pair(seq_pairs[0])"
   ]
  },
  {
   "cell_type": "code",
   "execution_count": 40,
   "metadata": {},
   "outputs": [
    {
     "data": {
      "text/plain": [
       "[[('不管要辦哪一間，先試用就對了',\n",
       "   ['B-O',\n",
       "    'B-O',\n",
       "    'B-O',\n",
       "    'B-O',\n",
       "    'B-O',\n",
       "    'B-O',\n",
       "    'B-O',\n",
       "    'B-O',\n",
       "    'B-O',\n",
       "    'B-O',\n",
       "    'B-O',\n",
       "    'B-O',\n",
       "    'B-O',\n",
       "    'B-O'])],\n",
       " [('你知道什麼是攜碼吧？',\n",
       "   ['B-O', 'B-O', 'B-O', 'B-O', 'B-O', 'B-O', 'B-O', 'B-O', 'B-O', 'B-O'])],\n",
       " [('我家樓下沒名店啊', ['B-O', 'B-O', 'B-O', 'B-O', 'B-O', 'B-O', 'B-O', 'B-O'])],\n",
       " [('提醒你，有些方案沒送市話，一分鐘是6元，即使用不到，也要注意',\n",
       "   ['B-O',\n",
       "    'B-O',\n",
       "    'B-O',\n",
       "    'B-O',\n",
       "    'B-O',\n",
       "    'B-O',\n",
       "    'B-O',\n",
       "    'B-O',\n",
       "    'B-O',\n",
       "    'B-O',\n",
       "    'B-O',\n",
       "    'B-O',\n",
       "    'B-O',\n",
       "    'B-O',\n",
       "    'B-O',\n",
       "    'B-O',\n",
       "    'B-O',\n",
       "    'B-O',\n",
       "    'B-O',\n",
       "    'B-O',\n",
       "    'B-O',\n",
       "    'B-O',\n",
       "    'B-O',\n",
       "    'B-O',\n",
       "    'B-O',\n",
       "    'B-O',\n",
       "    'B-O',\n",
       "    'B-O',\n",
       "    'B-O',\n",
       "    'B-O'])],\n",
       " [('台星送艾鳳11轉賣後0月租，不要跟別人講，今天在這跟你結個緣',\n",
       "   ['B-O',\n",
       "    'B-O',\n",
       "    'B-O',\n",
       "    'B-O',\n",
       "    'B-O',\n",
       "    'B-O',\n",
       "    'B-O',\n",
       "    'B-O',\n",
       "    'B-O',\n",
       "    'B-O',\n",
       "    'B-O',\n",
       "    'B-O',\n",
       "    'B-O',\n",
       "    'B-O',\n",
       "    'B-O',\n",
       "    'B-O',\n",
       "    'B-O',\n",
       "    'B-O',\n",
       "    'B-O',\n",
       "    'B-O',\n",
       "    'B-O',\n",
       "    'B-O',\n",
       "    'B-O',\n",
       "    'B-O',\n",
       "    'B-O',\n",
       "    'B-O',\n",
       "    'B-O',\n",
       "    'B-O',\n",
       "    'B-O',\n",
       "    'B-O'])],\n",
       " [('遠傳319我是自己找的',\n",
       "   ['B-O',\n",
       "    'B-O',\n",
       "    'B-O',\n",
       "    'B-O',\n",
       "    'B-O',\n",
       "    'B-O',\n",
       "    'B-O',\n",
       "    'B-O',\n",
       "    'B-O',\n",
       "    'B-O',\n",
       "    'B-O'])],\n",
       " [('1388當時有拿手機的合約吧！時空背景就這樣，499都只有門號約的部分。',\n",
       "   ['B-O',\n",
       "    'B-O',\n",
       "    'B-O',\n",
       "    'B-O',\n",
       "    'B-O',\n",
       "    'B-O',\n",
       "    'B-O',\n",
       "    'B-O',\n",
       "    'B-O',\n",
       "    'B-O',\n",
       "    'B-O',\n",
       "    'B-O',\n",
       "    'B-O',\n",
       "    'B-O',\n",
       "    'B-O',\n",
       "    'B-O',\n",
       "    'B-O',\n",
       "    'B-O',\n",
       "    'B-O',\n",
       "    'B-O',\n",
       "    'B-O',\n",
       "    'B-O',\n",
       "    'B-O',\n",
       "    'B-O',\n",
       "    'B-O',\n",
       "    'B-O',\n",
       "    'B-O',\n",
       "    'B-O',\n",
       "    'B-O',\n",
       "    'B-O',\n",
       "    'B-O',\n",
       "    'B-O',\n",
       "    'B-O',\n",
       "    'B-O',\n",
       "    'B-O',\n",
       "    'B-O'])],\n",
       " [],\n",
       " [('中華488問問看，要NP也要確認收訊品質',\n",
       "   ['B-O',\n",
       "    'B-O',\n",
       "    'B-O',\n",
       "    'B-O',\n",
       "    'B-O',\n",
       "    'B-O',\n",
       "    'B-O',\n",
       "    'B-O',\n",
       "    'B-O',\n",
       "    'B-O',\n",
       "    'B-O',\n",
       "    'B-O',\n",
       "    'B-O',\n",
       "    'B-O',\n",
       "    'B-O',\n",
       "    'B-O',\n",
       "    'B-O',\n",
       "    'B-O',\n",
       "    'B-O',\n",
       "    'B-O'])],\n",
       " [('你把iphone賣了就有錢繳預繳了前面30個月都不用繳錢',\n",
       "   ['B-O',\n",
       "    'B-O',\n",
       "    'B-O',\n",
       "    'B-O',\n",
       "    'B-O',\n",
       "    'B-O',\n",
       "    'B-O',\n",
       "    'B-O',\n",
       "    'B-O',\n",
       "    'B-O',\n",
       "    'B-O',\n",
       "    'B-O',\n",
       "    'B-O',\n",
       "    'B-O',\n",
       "    'B-O',\n",
       "    'B-O',\n",
       "    'B-O',\n",
       "    'B-O',\n",
       "    'B-O',\n",
       "    'B-O',\n",
       "    'B-O',\n",
       "    'B-O',\n",
       "    'B-O',\n",
       "    'B-O',\n",
       "    'B-O',\n",
       "    'B-O',\n",
       "    'B-O',\n",
       "    'B-O'])],\n",
       " [('不知道女友在不在意？不先確認需求就來問？',\n",
       "   ['B-O',\n",
       "    'B-O',\n",
       "    'B-O',\n",
       "    'B-O',\n",
       "    'B-O',\n",
       "    'B-O',\n",
       "    'B-O',\n",
       "    'B-O',\n",
       "    'B-O',\n",
       "    'B-O',\n",
       "    'B-O',\n",
       "    'B-O',\n",
       "    'B-O',\n",
       "    'B-O',\n",
       "    'B-O',\n",
       "    'B-O',\n",
       "    'B-O',\n",
       "    'B-O',\n",
       "    'B-O',\n",
       "    'B-O'])],\n",
       " [('自己女友自己做功課唯一建議就是分手',\n",
       "   ['B-O',\n",
       "    'B-O',\n",
       "    'B-O',\n",
       "    'B-O',\n",
       "    'B-O',\n",
       "    'B-O',\n",
       "    'B-O',\n",
       "    'B-O',\n",
       "    'B-O',\n",
       "    'B-O',\n",
       "    'B-O',\n",
       "    'B-O',\n",
       "    'B-O',\n",
       "    'B-O',\n",
       "    'B-O',\n",
       "    'B-O',\n",
       "    'B-O'])],\n",
       " [('56怨念讓人噴飯哈哈',\n",
       "   ['B-O', 'B-O', 'B-O', 'B-O', 'B-O', 'B-O', 'B-O', 'B-O', 'B-O', 'B-O'])],\n",
       " [('樓上，所以要先試用阿，搞不好會找到更好的可NP',\n",
       "   ['B-O',\n",
       "    'B-O',\n",
       "    'B-O',\n",
       "    'B-O',\n",
       "    'B-O',\n",
       "    'B-O',\n",
       "    'B-O',\n",
       "    'B-O',\n",
       "    'B-O',\n",
       "    'B-O',\n",
       "    'B-O',\n",
       "    'B-O',\n",
       "    'B-O',\n",
       "    'B-O',\n",
       "    'B-O',\n",
       "    'B-O',\n",
       "    'B-O',\n",
       "    'B-O',\n",
       "    'B-O',\n",
       "    'B-O',\n",
       "    'B-O',\n",
       "    'B-O',\n",
       "    'B-O'])],\n",
       " [('中華488是學生，不是學生只有588 直營問到的',\n",
       "   ['B-O',\n",
       "    'B-O',\n",
       "    'B-O',\n",
       "    'B-O',\n",
       "    'B-O',\n",
       "    'B-O',\n",
       "    'B-O',\n",
       "    'B-O',\n",
       "    'B-O',\n",
       "    'B-O',\n",
       "    'B-O',\n",
       "    'B-O',\n",
       "    'B-O',\n",
       "    'B-O',\n",
       "    'B-O',\n",
       "    'B-O',\n",
       "    'B-O',\n",
       "    'B-O',\n",
       "    'B-O',\n",
       "    'B-O',\n",
       "    'B-O',\n",
       "    'B-O',\n",
       "    'B-O',\n",
       "    'B-O'])],\n",
       " [('借版問一下各位大大說先辦體驗卡試用網速，小弟想問試用體驗卡真的跟後續門號卡收訊是一樣的嗎？之前常聽說試用卡順的但到實際門號卡網速直直落真的會這樣嗎？',\n",
       "   ['B-O',\n",
       "    'B-O',\n",
       "    'B-O',\n",
       "    'B-O',\n",
       "    'B-O',\n",
       "    'B-O',\n",
       "    'B-O',\n",
       "    'B-O',\n",
       "    'B-O',\n",
       "    'B-O',\n",
       "    'B-O',\n",
       "    'B-O',\n",
       "    'B-O',\n",
       "    'B-O',\n",
       "    'B-O',\n",
       "    'B-O',\n",
       "    'B-O',\n",
       "    'B-O',\n",
       "    'B-O',\n",
       "    'B-O',\n",
       "    'B-O',\n",
       "    'B-O',\n",
       "    'B-O',\n",
       "    'B-O',\n",
       "    'B-O',\n",
       "    'B-O',\n",
       "    'B-O',\n",
       "    'B-O',\n",
       "    'B-O',\n",
       "    'B-O',\n",
       "    'B-O',\n",
       "    'B-O',\n",
       "    'B-O',\n",
       "    'B-O',\n",
       "    'B-O',\n",
       "    'B-O',\n",
       "    'B-O',\n",
       "    'B-O',\n",
       "    'B-O',\n",
       "    'B-O',\n",
       "    'B-O',\n",
       "    'B-O',\n",
       "    'B-O',\n",
       "    'B-O',\n",
       "    'B-O',\n",
       "    'B-O',\n",
       "    'B-O',\n",
       "    'B-O',\n",
       "    'B-O',\n",
       "    'B-O',\n",
       "    'B-O',\n",
       "    'B-O',\n",
       "    'B-O',\n",
       "    'B-O',\n",
       "    'B-O',\n",
       "    'B-O',\n",
       "    'B-O',\n",
       "    'B-O',\n",
       "    'B-O',\n",
       "    'B-O',\n",
       "    'B-O',\n",
       "    'B-O',\n",
       "    'B-O',\n",
       "    'B-O',\n",
       "    'B-O',\n",
       "    'B-O',\n",
       "    'B-O',\n",
       "    'B-O',\n",
       "    'B-O',\n",
       "    'B-O',\n",
       "    'B-O',\n",
       "    'B-O',\n",
       "    'B-O',\n",
       "    'B-O'])],\n",
       " [('三大電信的話就用LM吃到飽就好啦',\n",
       "   ['B-O',\n",
       "    'B-O',\n",
       "    'B-O',\n",
       "    'B-O',\n",
       "    'B-O',\n",
       "    'B-O',\n",
       "    'B-O',\n",
       "    'B-O',\n",
       "    'B-O',\n",
       "    'B-O',\n",
       "    'B-O',\n",
       "    'B-O',\n",
       "    'B-O',\n",
       "    'B-O',\n",
       "    'B-O',\n",
       "    'B-O'])],\n",
       " [('上禮拜剛從中華雙np拿到488 頭一年還減免100變388',\n",
       "   ['B-O',\n",
       "    'B-O',\n",
       "    'B-O',\n",
       "    'B-O',\n",
       "    'B-O',\n",
       "    'B-O',\n",
       "    'B-O',\n",
       "    'B-O',\n",
       "    'B-O',\n",
       "    'B-O',\n",
       "    'B-O',\n",
       "    'B-O',\n",
       "    'B-O',\n",
       "    'B-O',\n",
       "    'B-O',\n",
       "    'B-O',\n",
       "    'B-O',\n",
       "    'B-O',\n",
       "    'B-O',\n",
       "    'B-O',\n",
       "    'B-O',\n",
       "    'B-O',\n",
       "    'B-O',\n",
       "    'B-O',\n",
       "    'B-O',\n",
       "    'B-O',\n",
       "    'B-O',\n",
       "    'B-O',\n",
       "    'B-O'])],\n",
       " [('有吃到飽需求就488啊版上很多篇心得了',\n",
       "   ['B-O',\n",
       "    'B-O',\n",
       "    'B-O',\n",
       "    'B-O',\n",
       "    'B-O',\n",
       "    'B-O',\n",
       "    'B-O',\n",
       "    'B-O',\n",
       "    'B-O',\n",
       "    'B-O',\n",
       "    'B-O',\n",
       "    'B-O',\n",
       "    'B-O',\n",
       "    'B-O',\n",
       "    'B-O',\n",
       "    'B-O',\n",
       "    'B-O',\n",
       "    'B-O',\n",
       "    'B-O'])]]"
      ]
     },
     "execution_count": 40,
     "metadata": {},
     "output_type": "execute_result"
    }
   ],
   "source": [
    "noise_pairs"
   ]
  },
  {
   "cell_type": "code",
   "execution_count": 17,
   "metadata": {},
   "outputs": [
    {
     "data": {
      "text/plain": [
       "{'ol[1]/li[13]/text()': [<TextSpan [Z6okmKmpxZ]: Entity, 中華>,\n",
       "  <TextSpan [DDXHqKpP4C]: Attribute, 488>,\n",
       "  <TextSpan [u9uFQUkcng]: Evaluation, 優惠不錯 >],\n",
       " 'ol[1]/li[16]/text()': [<TextSpan [3N510DFllY]: Entity, 遠傳>,\n",
       "  <TextSpan [qKOI3WDVGa]: Attribute, 399/319>,\n",
       "  <TextSpan [Q1BJ1nYv2c]: Evaluation, 比較便宜>],\n",
       " 'ol[1]/li[17]/text()': [<TextSpan [X-zotPemPn]: Entity, 台哥>,\n",
       "  <TextSpan [xuUXa83jFo]: Attribute, 收訊>,\n",
       "  <TextSpan [xSo_Pep-3L]: Evaluation, 被靠北到死 >],\n",
       " 'ol[1]/li[22]/text()': [<TextSpan [ipU_I4Up-Q]: Entity, 台哥>,\n",
       "  <TextSpan [2UkhZzUG81]: Attribute, NP>,\n",
       "  <TextSpan [dS1luUa09L]: Evaluation, 最好>],\n",
       " 'ol[1]/li[25]/text()': [<TextSpan [0bHE5Ow7Uz]: Entity, 遠傳>,\n",
       "  <TextSpan [C8OHMfbLL_]: Attribute, 資費>,\n",
       "  <TextSpan [FVcq_RMHH4]: Evaluation, 比較划算欸，比另外兩家都更便宜 些>,\n",
       "  <TextSpan [fFJflhBp-l]: Entity, 遠傳>,\n",
       "  <TextSpan [b_GNGShOtQ]: Attribute, 588退傭>,\n",
       "  <TextSpan [iEqwtM8KjW]: Evaluation, 還蠻推>],\n",
       " 'ol[1]/li[2]/text()': [<TextSpan [KwGuZf7Div]: Context, 你到底在不在意通話分鐘？在意的話別把把遠傳3 19拉進來討論 >]}"
      ]
     },
     "execution_count": 17,
     "metadata": {},
     "output_type": "execute_result"
    }
   ],
   "source": [
    "collect_sentences(chain(*(x.spans for x in aspects))) "
   ]
  },
  {
   "cell_type": "code",
   "execution_count": null,
   "metadata": {},
   "outputs": [],
   "source": []
  }
 ],
 "metadata": {
  "kernelspec": {
   "display_name": "Python 3",
   "language": "python",
   "name": "python3"
  },
  "language_info": {
   "codemirror_mode": {
    "name": "ipython",
    "version": 3
   },
   "file_extension": ".py",
   "mimetype": "text/x-python",
   "name": "python",
   "nbconvert_exporter": "python",
   "pygments_lexer": "ipython3",
   "version": "3.8.2"
  }
 },
 "nbformat": 4,
 "nbformat_minor": 5
}

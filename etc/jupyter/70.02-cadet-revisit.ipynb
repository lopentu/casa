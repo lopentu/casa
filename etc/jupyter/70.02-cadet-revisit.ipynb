{
 "cells": [
  {
   "cell_type": "code",
   "execution_count": 1,
   "metadata": {},
   "outputs": [],
   "source": [
    "%load_ext autoreload\n",
    "%autoreload 2"
   ]
  },
  {
   "cell_type": "code",
   "execution_count": 38,
   "metadata": {},
   "outputs": [],
   "source": [
    "import pickle\n",
    "import json\n",
    "import random\n",
    "import numpy as np\n",
    "import pandas as pd\n",
    "from tqdm.auto import tqdm\n",
    "from icecream import ic\n",
    "from import_casa import casa\n",
    "from matplotlib import pyplot as plt\n",
    "from casa import Cadence, Cadet, Crystal, MTBert\n",
    "from sklearn.metrics import classification_report, accuracy_score"
   ]
  },
  {
   "cell_type": "code",
   "execution_count": 3,
   "metadata": {},
   "outputs": [
    {
     "name": "stderr",
     "output_type": "stream",
     "text": [
      "[INFO] 2021-08-26 14:00:29,802 gensim.utils: loading KeyedVectors object from E:\\LangOn\\casa\\data\\cadet\\op20.3\\ft-2020.kv\n",
      "[INFO] 2021-08-26 14:00:30,760 gensim.utils: setting ignored attribute vectors_norm to None\n",
      "[INFO] 2021-08-26 14:00:30,761 gensim.utils: setting ignored attribute vectors_vocab_norm to None\n",
      "[INFO] 2021-08-26 14:00:30,762 gensim.utils: setting ignored attribute vectors_ngrams_norm to None\n",
      "[INFO] 2021-08-26 14:00:30,762 gensim.utils: setting ignored attribute buckets_word to None\n",
      "[INFO] 2021-08-26 14:00:30,880 gensim.utils: FastTextKeyedVectors lifecycle event {'fname': 'E:\\\\LangOn\\\\casa\\\\data\\\\cadet\\\\op20.3\\\\ft-2020.kv', 'datetime': '2021-08-26T14:00:30.880400', 'gensim': '4.0.0', 'python': '3.8.2 (tags/v3.8.2:7b3ab59, Feb 25 2020, 23:03:10) [MSC v.1916 64 bit (AMD64)]', 'platform': 'Windows-10-10.0.18362-SP0', 'event': 'loaded'}\n"
     ]
    }
   ],
   "source": [
    "cadet = Cadet.load(casa.get_data_path()/\"cadet/op20.3\")"
   ]
  },
  {
   "cell_type": "code",
   "execution_count": 27,
   "metadata": {},
   "outputs": [
    {
     "name": "stdout",
     "output_type": "stream",
     "text": [
      "tokens:  ['中華電信', '客服', '好', '兇']\n"
     ]
    }
   ],
   "source": [
    "mat = cadet.build_seedsims_matrix(\"中華電信客服好兇\", verbose=True)"
   ]
  },
  {
   "cell_type": "code",
   "execution_count": 28,
   "metadata": {},
   "outputs": [
    {
     "data": {
      "text/plain": [
       "(4, 79)"
      ]
     },
     "execution_count": 28,
     "metadata": {},
     "output_type": "execute_result"
    }
   ],
   "source": [
    "mat.shape"
   ]
  },
  {
   "cell_type": "code",
   "execution_count": 30,
   "metadata": {},
   "outputs": [
    {
     "name": "stdout",
     "output_type": "stream",
     "text": [
      "中華電信 中華電信\n",
      "客服 客服\n"
     ]
    }
   ],
   "source": [
    "seeds = cadet.lexicon.seeds\n",
    "tokens = ['中華電信', '客服', '好', '兇']\n",
    "for r, c in zip(*np.where(mat>0.99)):\n",
    "    print(tokens[r],seeds[c])"
   ]
  },
  {
   "cell_type": "code",
   "execution_count": 35,
   "metadata": {},
   "outputs": [
    {
     "data": {
      "text/plain": [
       "{'entity': ['中華電信', '無框行動', '台灣大哥大', '遠傳電信', '亞太電信', '台灣之星'],\n",
       " 'entity_probs': array([0.93761204, 0.01317898, 0.01302011, 0.01284649, 0.01182457,\n",
       "        0.01151781]),\n",
       " 'service': [('其他', '客服'),\n",
       "  ('資費方案', '方案活動'),\n",
       "  ('加值服務', '電信APP'),\n",
       "  ('其他', '手機'),\n",
       "  ('通訊品質', '網速')],\n",
       " 'service_probs': array([0.8071025 , 0.01054002, 0.0100785 , 0.00910609, 0.00842552]),\n",
       " 'seeds': ['客服', '電銷', 'CARPLAY', '手機', 'PING'],\n",
       " 'seed_probs': array([0.59495164, 0.00776952, 0.00742932, 0.00671251, 0.00621083]),\n",
       " 'tokens': ['中華電信', '客服', '好', '兇', ',然後', 'as', 'd', 'as', '就不', '見', '了'],\n",
       " 'tokens_attrib': [(0, '中華電信'), (1, '客服')]}"
      ]
     },
     "execution_count": 35,
     "metadata": {},
     "output_type": "execute_result"
    }
   ],
   "source": [
    "cadet.detect(\"中華電信客服好兇， 然後asdas就不見了\".replace(\" \", \"\"))"
   ]
  },
  {
   "cell_type": "code",
   "execution_count": 40,
   "metadata": {},
   "outputs": [],
   "source": [
    "mt_bert = MTBert.load(\"../../data/mtbert\")"
   ]
  },
  {
   "cell_type": "code",
   "execution_count": 115,
   "metadata": {},
   "outputs": [],
   "source": [
    "out = mt_bert.analyze(\"我家附近遠傳一直a收不到\")"
   ]
  },
  {
   "cell_type": "code",
   "execution_count": 116,
   "metadata": {},
   "outputs": [
    {
     "data": {
      "text/plain": [
       "{'text': '我家附近遠傳一直a收不到',\n",
       " 'seq_polarity': 'Negative',\n",
       " 'seq_probs': array([1.2737906e-02, 2.0526776e-04, 9.8705679e-01], dtype=float32),\n",
       " 'spans': ['一', 'a收'],\n",
       " 'span_idxs': [[6], [8, 9]],\n",
       " 'span_pols': ['N', 'N'],\n",
       " 'token_probs': tensor([[9.9977e-01, 6.9272e-05, 1.6274e-04],\n",
       "         [9.9987e-01, 4.0760e-05, 8.9761e-05],\n",
       "         [9.9990e-01, 2.8520e-05, 7.1611e-05],\n",
       "         [9.9991e-01, 2.2752e-05, 6.8607e-05],\n",
       "         [9.9979e-01, 5.3485e-05, 1.6086e-04],\n",
       "         [9.9973e-01, 8.1261e-05, 1.8533e-04],\n",
       "         [1.7626e-01, 4.1619e-03, 8.1958e-01],\n",
       "         [7.5316e-01, 3.1783e-03, 2.4366e-01],\n",
       "         [2.8611e-01, 4.3832e-03, 7.0951e-01],\n",
       "         [4.9199e-01, 1.0773e-03, 5.0693e-01],\n",
       "         [5.0068e-01, 2.0079e-03, 4.9731e-01],\n",
       "         [8.0538e-01, 4.2207e-03, 1.9040e-01]])}"
      ]
     },
     "execution_count": 116,
     "metadata": {},
     "output_type": "execute_result"
    }
   ],
   "source": [
    "out"
   ]
  },
  {
   "cell_type": "code",
   "execution_count": 61,
   "metadata": {},
   "outputs": [
    {
     "data": {
      "text/plain": [
       "dtype('int32')"
      ]
     },
     "execution_count": 61,
     "metadata": {},
     "output_type": "execute_result"
    }
   ],
   "source": [
    "np.dtype(\"i4\")"
   ]
  },
  {
   "cell_type": "code",
   "execution_count": 62,
   "metadata": {},
   "outputs": [
    {
     "data": {
      "text/plain": [
       "dtype('float32')"
      ]
     },
     "execution_count": 62,
     "metadata": {},
     "output_type": "execute_result"
    }
   ],
   "source": [
    "out[\"token_probs\"].dtype"
   ]
  },
  {
   "cell_type": "code",
   "execution_count": 64,
   "metadata": {},
   "outputs": [],
   "source": [
    "pp = out[\"token_probs\"]"
   ]
  },
  {
   "cell_type": "code",
   "execution_count": 68,
   "metadata": {},
   "outputs": [
    {
     "data": {
      "text/plain": [
       "array([0.99668145, 0.99654734, 0.9985853 , 0.9985131 , 0.6257304 ,\n",
       "       0.9796086 , 0.9637965 , 0.9727248 , 0.9776021 , 0.9705373 ,\n",
       "       0.9069539 , 0.6271595 ], dtype=float32)"
      ]
     },
     "execution_count": 68,
     "metadata": {},
     "output_type": "execute_result"
    }
   ],
   "source": [
    "pp.sum(1)"
   ]
  },
  {
   "cell_type": "code",
   "execution_count": null,
   "metadata": {},
   "outputs": [],
   "source": []
  },
  {
   "cell_type": "code",
   "execution_count": 51,
   "metadata": {},
   "outputs": [
    {
     "data": {
      "text/plain": [
       "12"
      ]
     },
     "execution_count": 51,
     "metadata": {},
     "output_type": "execute_result"
    }
   ],
   "source": [
    "len(out[\"string\"])"
   ]
  },
  {
   "cell_type": "code",
   "execution_count": null,
   "metadata": {},
   "outputs": [],
   "source": []
  }
 ],
 "metadata": {
  "kernelspec": {
   "display_name": "Python 3",
   "language": "python",
   "name": "python3"
  },
  "language_info": {
   "codemirror_mode": {
    "name": "ipython",
    "version": 3
   },
   "file_extension": ".py",
   "mimetype": "text/x-python",
   "name": "python",
   "nbconvert_exporter": "python",
   "pygments_lexer": "ipython3",
   "version": "3.8.2"
  }
 },
 "nbformat": 4,
 "nbformat_minor": 4
}

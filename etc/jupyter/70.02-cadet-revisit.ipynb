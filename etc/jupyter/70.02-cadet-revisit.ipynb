{
 "cells": [
  {
   "cell_type": "code",
   "execution_count": 1,
   "metadata": {},
   "outputs": [],
   "source": [
    "%load_ext autoreload\n",
    "%autoreload 2"
   ]
  },
  {
   "cell_type": "code",
   "execution_count": 2,
   "metadata": {},
   "outputs": [],
   "source": [
    "import pickle\n",
    "import json\n",
    "import random\n",
    "import numpy as np\n",
    "import pandas as pd\n",
    "from tqdm.auto import tqdm\n",
    "from icecream import ic\n",
    "from import_casa import casa\n",
    "from matplotlib import pyplot as plt\n",
    "from casa import Cadence, Cadet, Crystal, MTBert\n",
    "from sklearn.metrics import classification_report, accuracy_score"
   ]
  },
  {
   "cell_type": "code",
   "execution_count": 3,
   "metadata": {},
   "outputs": [
    {
     "name": "stderr",
     "output_type": "stream",
     "text": [
      "[INFO] 2021-08-30 19:38:57,993 gensim.utils: loading KeyedVectors object from E:\\LangOn\\casa\\data\\cadet\\op20.3\\ft-2020.kv\n",
      "[INFO] 2021-08-30 19:38:58,970 gensim.utils: setting ignored attribute vectors_norm to None\n",
      "[INFO] 2021-08-30 19:38:58,971 gensim.utils: setting ignored attribute vectors_vocab_norm to None\n",
      "[INFO] 2021-08-30 19:38:58,972 gensim.utils: setting ignored attribute vectors_ngrams_norm to None\n",
      "[INFO] 2021-08-30 19:38:58,972 gensim.utils: setting ignored attribute buckets_word to None\n",
      "[INFO] 2021-08-30 19:38:59,126 gensim.utils: FastTextKeyedVectors lifecycle event {'fname': 'E:\\\\LangOn\\\\casa\\\\data\\\\cadet\\\\op20.3\\\\ft-2020.kv', 'datetime': '2021-08-30T19:38:59.126448', 'gensim': '4.0.0', 'python': '3.8.2 (tags/v3.8.2:7b3ab59, Feb 25 2020, 23:03:10) [MSC v.1916 64 bit (AMD64)]', 'platform': 'Windows-10-10.0.18362-SP0', 'event': 'loaded'}\n"
     ]
    }
   ],
   "source": [
    "cadet = Cadet.load(casa.get_data_path()/\"cadet/op20.3\")"
   ]
  },
  {
   "cell_type": "code",
   "execution_count": 4,
   "metadata": {},
   "outputs": [
    {
     "ename": "NameError",
     "evalue": "name 'mat' is not defined",
     "output_type": "error",
     "traceback": [
      "\u001b[1;31m---------------------------------------------------------------------------\u001b[0m",
      "\u001b[1;31mNameError\u001b[0m                                 Traceback (most recent call last)",
      "\u001b[1;32m<ipython-input-4-bd0c6489dc08>\u001b[0m in \u001b[0;36m<module>\u001b[1;34m\u001b[0m\n\u001b[0;32m      1\u001b[0m \u001b[0mseeds\u001b[0m \u001b[1;33m=\u001b[0m \u001b[0mcadet\u001b[0m\u001b[1;33m.\u001b[0m\u001b[0mlexicon\u001b[0m\u001b[1;33m.\u001b[0m\u001b[0mseeds\u001b[0m\u001b[1;33m\u001b[0m\u001b[1;33m\u001b[0m\u001b[0m\n\u001b[0;32m      2\u001b[0m \u001b[0mtokens\u001b[0m \u001b[1;33m=\u001b[0m \u001b[1;33m[\u001b[0m\u001b[1;34m'中華電信'\u001b[0m\u001b[1;33m,\u001b[0m \u001b[1;34m'客服'\u001b[0m\u001b[1;33m,\u001b[0m \u001b[1;34m'好'\u001b[0m\u001b[1;33m,\u001b[0m \u001b[1;34m'兇'\u001b[0m\u001b[1;33m]\u001b[0m\u001b[1;33m\u001b[0m\u001b[1;33m\u001b[0m\u001b[0m\n\u001b[1;32m----> 3\u001b[1;33m \u001b[1;32mfor\u001b[0m \u001b[0mr\u001b[0m\u001b[1;33m,\u001b[0m \u001b[0mc\u001b[0m \u001b[1;32min\u001b[0m \u001b[0mzip\u001b[0m\u001b[1;33m(\u001b[0m\u001b[1;33m*\u001b[0m\u001b[0mnp\u001b[0m\u001b[1;33m.\u001b[0m\u001b[0mwhere\u001b[0m\u001b[1;33m(\u001b[0m\u001b[0mmat\u001b[0m\u001b[1;33m>\u001b[0m\u001b[1;36m0.99\u001b[0m\u001b[1;33m)\u001b[0m\u001b[1;33m)\u001b[0m\u001b[1;33m:\u001b[0m\u001b[1;33m\u001b[0m\u001b[1;33m\u001b[0m\u001b[0m\n\u001b[0m\u001b[0;32m      4\u001b[0m     \u001b[0mprint\u001b[0m\u001b[1;33m(\u001b[0m\u001b[0mtokens\u001b[0m\u001b[1;33m[\u001b[0m\u001b[0mr\u001b[0m\u001b[1;33m]\u001b[0m\u001b[1;33m,\u001b[0m\u001b[0mseeds\u001b[0m\u001b[1;33m[\u001b[0m\u001b[0mc\u001b[0m\u001b[1;33m]\u001b[0m\u001b[1;33m)\u001b[0m\u001b[1;33m\u001b[0m\u001b[1;33m\u001b[0m\u001b[0m\n",
      "\u001b[1;31mNameError\u001b[0m: name 'mat' is not defined"
     ]
    }
   ],
   "source": [
    "seeds = cadet.lexicon.seeds\n",
    "tokens = ['中華電信', '客服', '好', '兇']\n",
    "for r, c in zip(*np.where(mat>0.99)):\n",
    "    print(tokens[r],seeds[c])"
   ]
  },
  {
   "cell_type": "code",
   "execution_count": 35,
   "metadata": {},
   "outputs": [
    {
     "data": {
      "text/plain": [
       "{'entity': ['中華電信', '無框行動', '台灣大哥大', '遠傳電信', '亞太電信', '台灣之星'],\n",
       " 'entity_probs': array([0.93761204, 0.01317898, 0.01302011, 0.01284649, 0.01182457,\n",
       "        0.01151781]),\n",
       " 'service': [('其他', '客服'),\n",
       "  ('資費方案', '方案活動'),\n",
       "  ('加值服務', '電信APP'),\n",
       "  ('其他', '手機'),\n",
       "  ('通訊品質', '網速')],\n",
       " 'service_probs': array([0.8071025 , 0.01054002, 0.0100785 , 0.00910609, 0.00842552]),\n",
       " 'seeds': ['客服', '電銷', 'CARPLAY', '手機', 'PING'],\n",
       " 'seed_probs': array([0.59495164, 0.00776952, 0.00742932, 0.00671251, 0.00621083]),\n",
       " 'tokens': ['中華電信', '客服', '好', '兇', ',然後', 'as', 'd', 'as', '就不', '見', '了'],\n",
       " 'tokens_attrib': [(0, '中華電信'), (1, '客服')]}"
      ]
     },
     "execution_count": 35,
     "metadata": {},
     "output_type": "execute_result"
    }
   ],
   "source": [
    "cadet.detect(\"中華電信客服好兇， 然後asdas就不見了\".replace(\" \", \"\"))"
   ]
  },
  {
   "cell_type": "code",
   "execution_count": 8,
   "metadata": {},
   "outputs": [
    {
     "name": "stderr",
     "output_type": "stream",
     "text": [
      "[INFO] 2021-08-30 21:21:09,166 casa.Cadence: Loading Cadet\n",
      "[INFO] 2021-08-30 21:21:09,852 gensim.utils: loading KeyedVectors object from ..\\..\\data\\cadence\\..\\cadet\\op20.3\\ft-2020.kv\n",
      "[INFO] 2021-08-30 21:21:10,728 gensim.utils: setting ignored attribute vectors_norm to None\n",
      "[INFO] 2021-08-30 21:21:10,729 gensim.utils: setting ignored attribute vectors_vocab_norm to None\n",
      "[INFO] 2021-08-30 21:21:10,730 gensim.utils: setting ignored attribute vectors_ngrams_norm to None\n",
      "[INFO] 2021-08-30 21:21:10,730 gensim.utils: setting ignored attribute buckets_word to None\n",
      "[INFO] 2021-08-30 21:21:10,852 gensim.utils: FastTextKeyedVectors lifecycle event {'fname': '..\\\\..\\\\data\\\\cadence\\\\..\\\\cadet\\\\op20.3\\\\ft-2020.kv', 'datetime': '2021-08-30T21:21:10.852045', 'gensim': '4.0.0', 'python': '3.8.2 (tags/v3.8.2:7b3ab59, Feb 25 2020, 23:03:10) [MSC v.1916 64 bit (AMD64)]', 'platform': 'Windows-10-10.0.18362-SP0', 'event': 'loaded'}\n",
      "[INFO] 2021-08-30 21:21:10,880 casa.Cadence: Loading Crystal\n",
      "[INFO] 2021-08-30 21:21:10,907 casa.Cadence: Loading MTBert\n"
     ]
    }
   ],
   "source": [
    "cadence = Cadence.load(\"../../data/cadence/config.json\")\n"
   ]
  },
  {
   "cell_type": "code",
   "execution_count": 40,
   "metadata": {},
   "outputs": [],
   "source": [
    "from casa.cadence.resolvers import CadenceBertOnlyResolver, CadenceResolveStrategy"
   ]
  },
  {
   "cell_type": "code",
   "execution_count": 43,
   "metadata": {},
   "outputs": [
    {
     "data": {
      "text/plain": [
       "<CadenceOutput: [('遠傳電信', '[其他]客服', 'Positive')]>"
      ]
     },
     "execution_count": 43,
     "metadata": {},
     "output_type": "execute_result"
    }
   ],
   "source": [
    "cadence.analyze(\"我家附近遠傳很友善\", strategy=\"simple\")"
   ]
  },
  {
   "cell_type": "code",
   "execution_count": 32,
   "metadata": {},
   "outputs": [],
   "source": []
  },
  {
   "cell_type": "code",
   "execution_count": 37,
   "metadata": {},
   "outputs": [
    {
     "data": {
      "text/plain": [
       "<CadenceOutput: [('遠傳電信', '[其他]客服', 'Positive')]>"
      ]
     },
     "execution_count": 37,
     "metadata": {},
     "output_type": "execute_result"
    }
   ],
   "source": [
    "out"
   ]
  },
  {
   "cell_type": "code",
   "execution_count": 38,
   "metadata": {},
   "outputs": [
    {
     "data": {
      "text/plain": [
       "<CadenceOutput: [('遠傳電信', '無特定服務', 'Neutral')]>"
      ]
     },
     "execution_count": 38,
     "metadata": {},
     "output_type": "execute_result"
    }
   ],
   "source": [
    "CadenceBertOnlyResolver().resolve(out)"
   ]
  },
  {
   "cell_type": "code",
   "execution_count": 14,
   "metadata": {},
   "outputs": [
    {
     "name": "stdout",
     "output_type": "stream",
     "text": [
      "我家附近遠傳\u001b[31m一\u001b[0m\u001b[31m直\u001b[0m\u001b[31ma\u001b[0m\u001b[31m收\u001b[0m\u001b[31m不\u001b[0m\u001b[31m到\u001b[0m\n"
     ]
    }
   ],
   "source": [
    "casa.cadence.visualize_tokens(out)"
   ]
  },
  {
   "cell_type": "code",
   "execution_count": 61,
   "metadata": {},
   "outputs": [
    {
     "data": {
      "text/plain": [
       "dtype('int32')"
      ]
     },
     "execution_count": 61,
     "metadata": {},
     "output_type": "execute_result"
    }
   ],
   "source": [
    "np.dtype(\"i4\")"
   ]
  },
  {
   "cell_type": "code",
   "execution_count": 62,
   "metadata": {},
   "outputs": [
    {
     "data": {
      "text/plain": [
       "dtype('float32')"
      ]
     },
     "execution_count": 62,
     "metadata": {},
     "output_type": "execute_result"
    }
   ],
   "source": [
    "out[\"token_probs\"].dtype"
   ]
  },
  {
   "cell_type": "code",
   "execution_count": 64,
   "metadata": {},
   "outputs": [],
   "source": [
    "pp = out[\"token_probs\"]"
   ]
  },
  {
   "cell_type": "code",
   "execution_count": 68,
   "metadata": {},
   "outputs": [
    {
     "data": {
      "text/plain": [
       "array([0.99668145, 0.99654734, 0.9985853 , 0.9985131 , 0.6257304 ,\n",
       "       0.9796086 , 0.9637965 , 0.9727248 , 0.9776021 , 0.9705373 ,\n",
       "       0.9069539 , 0.6271595 ], dtype=float32)"
      ]
     },
     "execution_count": 68,
     "metadata": {},
     "output_type": "execute_result"
    }
   ],
   "source": [
    "pp.sum(1)"
   ]
  },
  {
   "cell_type": "code",
   "execution_count": null,
   "metadata": {},
   "outputs": [],
   "source": []
  },
  {
   "cell_type": "code",
   "execution_count": 51,
   "metadata": {},
   "outputs": [
    {
     "data": {
      "text/plain": [
       "12"
      ]
     },
     "execution_count": 51,
     "metadata": {},
     "output_type": "execute_result"
    }
   ],
   "source": [
    "len(out[\"string\"])"
   ]
  },
  {
   "cell_type": "code",
   "execution_count": null,
   "metadata": {},
   "outputs": [],
   "source": []
  }
 ],
 "metadata": {
  "kernelspec": {
   "display_name": "Python 3",
   "language": "python",
   "name": "python3"
  },
  "language_info": {
   "codemirror_mode": {
    "name": "ipython",
    "version": 3
   },
   "file_extension": ".py",
   "mimetype": "text/x-python",
   "name": "python",
   "nbconvert_exporter": "python",
   "pygments_lexer": "ipython3",
   "version": "3.8.2"
  }
 },
 "nbformat": 4,
 "nbformat_minor": 4
}

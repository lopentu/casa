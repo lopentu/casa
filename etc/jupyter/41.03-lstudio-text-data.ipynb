{
 "cells": [
  {
   "cell_type": "code",
   "execution_count": null,
   "metadata": {},
   "outputs": [],
   "source": [
    "%load_ext autoreload\n",
    "%autoreload 2"
   ]
  },
  {
   "cell_type": "code",
   "execution_count": 2,
   "metadata": {},
   "outputs": [],
   "source": [
    "import pickle\n",
    "import json\n",
    "import random\n",
    "import numpy as np\n",
    "import pandas as pd\n",
    "from tqdm import tqdm\n",
    "from icecream import ic\n",
    "from import_casa import casa, cano\n",
    "from casa.annot import AspectEnum"
   ]
  },
  {
   "cell_type": "code",
   "execution_count": 3,
   "metadata": {},
   "outputs": [],
   "source": [
    "TARGET_DIR = \"20210412\"\n",
    "result_dir = casa.get_data_path() / f\"annot_data/annotated_data_bkup/{TARGET_DIR}\"\n",
    "json_paths = [x for x in result_dir.iterdir() if x.suffix==\".json\"]"
   ]
  },
  {
   "cell_type": "code",
   "execution_count": 4,
   "metadata": {},
   "outputs": [],
   "source": [
    "with json_paths[1].open(\"r\", encoding=\"UTF-8\") as fin:\n",
    "    annots = json.load(fin)"
   ]
  },
  {
   "cell_type": "code",
   "execution_count": 5,
   "metadata": {},
   "outputs": [
    {
     "data": {
      "text/plain": [
       "['completions', 'data', 'id']"
      ]
     },
     "execution_count": 5,
     "metadata": {},
     "output_type": "execute_result"
    }
   ],
   "source": [
    "list(annots[0].keys())"
   ]
  },
  {
   "cell_type": "markdown",
   "metadata": {},
   "source": [
    "## Main conversion loop"
   ]
  },
  {
   "cell_type": "code",
   "execution_count": 30,
   "metadata": {},
   "outputs": [
    {
     "name": "stderr",
     "output_type": "stream",
     "text": [
      " 10%|████████▎                                                                          | 1/10 [00:00<00:01,  7.71it/s]"
     ]
    },
    {
     "name": "stdout",
     "output_type": "stream",
     "text": [
      "different text spans:  方便又迅速！Good!\n"
     ]
    },
    {
     "name": "stderr",
     "output_type": "stream",
     "text": [
      " 20%|████████████████▌                                                                  | 2/10 [00:00<00:02,  3.28it/s]"
     ]
    },
    {
     "name": "stdout",
     "output_type": "stream",
     "text": [
      "約翰是哪裡?\n",
      "不確定是什麼\n",
      "多tag\n",
      "可以算涵蓋嗎...?\n",
      "地區+時段\n",
      "metaphorical?\n"
     ]
    },
    {
     "name": "stderr",
     "output_type": "stream",
     "text": [
      " 30%|████████████████████████▉                                                          | 3/10 [00:01<00:02,  2.99it/s]"
     ]
    },
    {
     "name": "stdout",
     "output_type": "stream",
     "text": [
      "不確定指哪裡\n",
      "安平區\n",
      "台北市區\n",
      "499之亂後\n",
      "NP\n"
     ]
    },
    {
     "name": "stderr",
     "output_type": "stream",
     "text": [
      " 40%|█████████████████████████████████▏                                                 | 4/10 [00:01<00:01,  3.06it/s]"
     ]
    },
    {
     "name": "stdout",
     "output_type": "stream",
     "text": [
      "日本國際漫遊\n",
      "成功嶺\n",
      "海景\n",
      "different text spans:  前18個月319/一個月，後六個月一個月399\n",
      "different text spans:  中華電信5G有在建設？？出門連到5G的機會還是不到1/10\n",
      "different text spans:  連玩coin master都會斷線的電信我真的不知道要說什麼\n",
      "different text spans:  每家都有表現差的狀況，就是看環境適合誰囉，我生活圈台哥就是順\n",
      "different text spans:  用起來是比其他家都還快\n",
      "different text spans:  不過遠傳這次拿雙冠真的有讓人刮目相看\n",
      "sarcasm\n"
     ]
    },
    {
     "name": "stderr",
     "output_type": "stream",
     "text": [
      "100%|██████████████████████████████████████████████████████████████████████████████████| 10/10 [00:02<00:00,  4.17it/s]"
     ]
    },
    {
     "name": "stdout",
     "output_type": "stream",
     "text": [
      "test\n",
      "test\n"
     ]
    },
    {
     "name": "stderr",
     "output_type": "stream",
     "text": [
      "\n"
     ]
    }
   ],
   "source": [
    "seq_pairs_list = []\n",
    "for json_path in tqdm(json_paths):\n",
    "    with json_path.open(\"r\", encoding=\"UTF-8\") as fin:\n",
    "        annots = json.load(fin)\n",
    "    for annot_i, annot_x in enumerate(annots): \n",
    "        try:\n",
    "            aspects = cano.process_thread_annotations(annot_x)\n",
    "            seq_pairs = cano.make_sequence_from_aspects(aspects, annot_x[\"data\"][\"html\"])\n",
    "            seq_pairs_list.extend(seq_pairs)\n",
    "        except Exception:\n",
    "            print(annot_i)\n",
    "            raise Exception()"
   ]
  },
  {
   "cell_type": "code",
   "execution_count": 31,
   "metadata": {},
   "outputs": [
    {
     "data": {
      "text/plain": [
       "2242"
      ]
     },
     "execution_count": 31,
     "metadata": {},
     "output_type": "execute_result"
    }
   ],
   "source": [
    "len(seq_pairs_list)"
   ]
  },
  {
   "cell_type": "markdown",
   "metadata": {},
   "source": [
    "## Saving data"
   ]
  },
  {
   "cell_type": "code",
   "execution_count": 32,
   "metadata": {},
   "outputs": [],
   "source": [
    "with open(result_dir / f\"seq_pairs_{TARGET_DIR}.pkl\", \"wb\") as fout:\n",
    "    pickle.dump(seq_pairs_list, fout)"
   ]
  },
  {
   "cell_type": "code",
   "execution_count": 33,
   "metadata": {},
   "outputs": [
    {
     "name": "stdout",
     "output_type": "stream",
     "text": [
      "台(B-C) 星(I-C) 的(I-C) 態(I-C) 度(I-C) 就(I-C) 是(I-C) 在(I-C) 等(I-C) 宿(I-C) 主(I-C) 台(I-C) 哥(I-C) ，(I-C) 逸(I-C) 以(I-C) 待(I-C) 勞(I-C) ，(I-C) 準(I-C) 備(I-C) 寄(I-C) 生(I-C) 。(I-C)\n"
     ]
    }
   ],
   "source": [
    "cano.print_seq_pair(seq_pairs_list[0])"
   ]
  },
  {
   "cell_type": "code",
   "execution_count": 34,
   "metadata": {},
   "outputs": [],
   "source": [
    "ftext = open(result_dir / f\"seq_pairs_{TARGET_DIR}.text.txt\", \"w\", encoding=\"UTF-8\")\n",
    "ftags = open(result_dir / f\"seq_pairs_{TARGET_DIR}.tags.txt\", \"w\", encoding=\"UTF-8\")\n",
    "for text, tags in seq_pairs_list:\n",
    "    ftext.write(text + \"\\n\")\n",
    "    ftags.write(\" \".join(tags) + \"\\n\")\n",
    "ftext.close()\n",
    "ftags.close()"
   ]
  },
  {
   "cell_type": "markdown",
   "metadata": {},
   "source": [
    "## Sandbox"
   ]
  },
  {
   "cell_type": "code",
   "execution_count": 7,
   "metadata": {},
   "outputs": [],
   "source": [
    "def find_thread_idx(annots, thread_idx):\n",
    "    iter_annot = filter(lambda x: x[\"data\"][\"thread_idx\"]==thread_idx, annots)\n",
    "    return list(iter_annot)[0]"
   ]
  },
  {
   "cell_type": "code",
   "execution_count": 8,
   "metadata": {},
   "outputs": [
    {
     "name": "stderr",
     "output_type": "stream",
     "text": [
      "100%|██████████████████████████████████████████████████████████████████████████████████| 10/10 [00:00<00:00, 42.29it/s]\n"
     ]
    }
   ],
   "source": [
    "annots = []\n",
    "for json_path in tqdm(json_paths):\n",
    "    with json_path.open(\"r\", encoding=\"UTF-8\") as fin:\n",
    "        obj = json.load(fin)\n",
    "    annots.extend(obj)        \n"
   ]
  },
  {
   "cell_type": "code",
   "execution_count": 9,
   "metadata": {},
   "outputs": [],
   "source": [
    "annot_x = find_thread_idx(annots, 220)"
   ]
  },
  {
   "cell_type": "code",
   "execution_count": 10,
   "metadata": {},
   "outputs": [
    {
     "name": "stderr",
     "output_type": "stream",
     "text": [
      "c:\\python38\\lib\\site-packages\\html5lib\\_ihatexml.py:258: DataLossWarning: Coercing non-XML name: '\n",
      "  warnings.warn(\"Coercing non-XML name: %s\" % name, DataLossWarning)\n"
     ]
    }
   ],
   "source": [
    "aspects, dbg = cano.process_thread_annotations(annot_x, True)\n",
    "seq_pairs = cano.make_sequence_from_aspects(aspects, annot_x[\"data\"][\"html\"])"
   ]
  },
  {
   "cell_type": "code",
   "execution_count": 11,
   "metadata": {},
   "outputs": [
    {
     "name": "stdout",
     "output_type": "stream",
     "text": [
      "先(B-O) 辦(B-O) 試(B-O) 用(B-O) ，(B-O) 中(B-E) 華(I-E) 4(B-A) 8(I-A) 8(I-A) 優(B-V) 惠(I-V) 不(I-V) 錯(I-V)\n"
     ]
    }
   ],
   "source": [
    "cano.print_seq_pair(seq_pairs[0])"
   ]
  },
  {
   "cell_type": "code",
   "execution_count": null,
   "metadata": {},
   "outputs": [],
   "source": []
  }
 ],
 "metadata": {
  "kernelspec": {
   "display_name": "Python 3",
   "language": "python",
   "name": "python3"
  },
  "language_info": {
   "codemirror_mode": {
    "name": "ipython",
    "version": 3
   },
   "file_extension": ".py",
   "mimetype": "text/x-python",
   "name": "python",
   "nbconvert_exporter": "python",
   "pygments_lexer": "ipython3",
   "version": "3.8.2"
  }
 },
 "nbformat": 4,
 "nbformat_minor": 5
}

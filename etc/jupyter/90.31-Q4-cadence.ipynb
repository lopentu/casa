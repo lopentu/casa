{
 "cells": [
  {
   "cell_type": "markdown",
   "metadata": {
    "id": "pLrjRmQ00sjv"
   },
   "source": [
    "## Loading Cadence"
   ]
  },
  {
   "cell_type": "code",
   "execution_count": 2,
   "metadata": {
    "id": "ENzron3f2QLM"
   },
   "outputs": [],
   "source": [
    "import sys\n",
    "if \"../src\" not in sys.path:\n",
    "    sys.path.append(\"../src\")"
   ]
  },
  {
   "cell_type": "code",
   "execution_count": 3,
   "metadata": {
    "colab": {
     "base_uri": "https://localhost:8080/"
    },
    "id": "nFhAPBp52Mp2",
    "outputId": "90a51ccf-083b-4c2c-96ad-d36387a163d9"
   },
   "outputs": [],
   "source": [
    "import casa\n",
    "from casa import Cadence, Crystal, MTBert, Cadet"
   ]
  },
  {
   "cell_type": "code",
   "execution_count": 4,
   "metadata": {
    "id": "9PQdpT-E2cNl"
   },
   "outputs": [],
   "source": [
    "cadence = Cadence.load(casa.get_data_path()/\"cadence/config.json\")"
   ]
  },
  {
   "cell_type": "code",
   "execution_count": 5,
   "metadata": {
    "colab": {
     "base_uri": "https://localhost:8080/"
    },
    "id": "SnDmJl7m6KWe",
    "outputId": "c677ad4d-12ba-447b-a981-be0ec5d873a8",
    "tags": []
   },
   "outputs": [
    {
     "data": {
      "text/plain": [
       "<Cadet: FastText(9851, 200), Seeds(79)>"
      ]
     },
     "execution_count": 5,
     "metadata": {},
     "output_type": "execute_result"
    }
   ],
   "source": [
    "cadence.cadet"
   ]
  },
  {
   "cell_type": "code",
   "execution_count": 7,
   "metadata": {
    "colab": {
     "base_uri": "https://localhost:8080/"
    },
    "id": "5ZSr-sJz6REg",
    "outputId": "0c19fa14-d82b-4b53-c786-12f7124d07d6"
   },
   "outputs": [
    {
     "name": "stdout",
     "output_type": "stream",
     "text": [
      "crystal data:  21 470\n"
     ]
    }
   ],
   "source": [
    "print(\"crystal data: \", len(cadence.crystal.cxlist), len(cadence.crystal.eval_onto))"
   ]
  },
  {
   "cell_type": "code",
   "execution_count": 8,
   "metadata": {
    "colab": {
     "base_uri": "https://localhost:8080/"
    },
    "id": "XLtLz3J54dC1",
    "outputId": "83eeaef6-118e-4f77-8eba-9d6a11ade5d3"
   },
   "outputs": [
    {
     "data": {
      "text/plain": [
       "<MTBert(cpu): E:\\LangOn\\casa-cht\\data\\cadence\\..\\mtbert>"
      ]
     },
     "execution_count": 8,
     "metadata": {},
     "output_type": "execute_result"
    }
   ],
   "source": [
    "cadence.mt_bert"
   ]
  },
  {
   "cell_type": "markdown",
   "metadata": {
    "id": "oxJLCqKpaBoN"
   },
   "source": [
    "## A Cadence Sample"
   ]
  },
  {
   "cell_type": "code",
   "execution_count": 9,
   "metadata": {
    "id": "5LHW5prOsPhz"
   },
   "outputs": [],
   "source": [
    "from casa.cadence.resolvers import CadenceSimpleResolver, CadenceBertOnlyResolver\n",
    "from casa.cadence import visualize_tokens"
   ]
  },
  {
   "cell_type": "code",
   "execution_count": 10,
   "metadata": {
    "colab": {
     "base_uri": "https://localhost:8080/"
    },
    "id": "Hgj5GqShsOso",
    "outputId": "785683eb-84ae-48e3-cdb4-5083ccf6a9f1"
   },
   "outputs": [
    {
     "name": "stdout",
     "output_type": "stream",
     "text": [
      "\u001b[34m中\u001b[0m\u001b[34m華\u001b[0m其實\u001b[32m收\u001b[0m\u001b[32m訊\u001b[0m\u001b[36m很\u001b[0m\u001b[36m好\u001b[0m\n"
     ]
    },
    {
     "data": {
      "text/plain": [
       "{'text': '中華其實收訊很好',\n",
       " 'tag_idx': array([90, 90, -1, -1, 91, 91,  0,  0], dtype=int64),\n",
       " 'pn_prob': array([[0.90088224, 0.0991177 ],\n",
       "        [0.84744275, 0.15255727],\n",
       "        [0.81264174, 0.18735825],\n",
       "        [0.85360914, 0.1463909 ],\n",
       "        [0.935124  , 0.06487605],\n",
       "        [0.9688764 , 0.03112356],\n",
       "        [0.7666599 , 0.23334004],\n",
       "        [0.96850425, 0.03149577]], dtype=float32)}"
      ]
     },
     "execution_count": 10,
     "metadata": {},
     "output_type": "execute_result"
    }
   ],
   "source": [
    "visualize_tokens(cadence.analyze(\"中華其實收訊很好\", strategy=\"simple\"), 2)"
   ]
  },
  {
   "cell_type": "code",
   "execution_count": 11,
   "metadata": {
    "colab": {
     "base_uri": "https://localhost:8080/"
    },
    "id": "yJBm0i1gaHCk",
    "outputId": "d530fc42-b86b-4394-98db-cff6f66c467a"
   },
   "outputs": [
    {
     "data": {
      "text/plain": [
       "<CadenceOutput: [('遠傳電信', '[其他]客服', 'Negative')]>"
      ]
     },
     "execution_count": 11,
     "metadata": {},
     "output_type": "execute_result"
    }
   ],
   "source": [
    "cadence.analyze(\"我家附近的遠傳好囉嗦\", strategy=\"simple\")"
   ]
  },
  {
   "cell_type": "code",
   "execution_count": 12,
   "metadata": {
    "colab": {
     "base_uri": "https://localhost:8080/"
    },
    "id": "i3Vty_pvizYX",
    "outputId": "1fadaa49-39c0-488d-ebd0-592488ed8bb2"
   },
   "outputs": [
    {
     "data": {
      "text/plain": [
       "[['遠傳電信', '[其他]客服', 'Negative', 'crystal', 'crystal']]"
      ]
     },
     "execution_count": 12,
     "metadata": {},
     "output_type": "execute_result"
    }
   ],
   "source": [
    "out = cadence.analyze(\"我家附近的遠傳好囉嗦\", strategy=\"simple\")\n",
    "out.aspects"
   ]
  },
  {
   "cell_type": "code",
   "execution_count": 13,
   "metadata": {
    "colab": {
     "base_uri": "https://localhost:8080/"
    },
    "id": "jTiWgSaj6RHM",
    "outputId": "354cb1ed-113c-4f74-c589-20e20d89a62e"
   },
   "outputs": [
    {
     "data": {
      "text/plain": [
       "[['遠傳電信', None, 'Negative', 'cadet', 'mtbert']]"
      ]
     },
     "execution_count": 13,
     "metadata": {},
     "output_type": "execute_result"
    }
   ],
   "source": [
    "out = cadence.analyze(\"我家附近的遠傳好囉嗦\", strategy=\"bertonly\")\n",
    "out.aspects"
   ]
  },
  {
   "cell_type": "code",
   "execution_count": 14,
   "metadata": {
    "colab": {
     "base_uri": "https://localhost:8080/"
    },
    "id": "kVSF2xdFl9bN",
    "outputId": "df8536d6-bc9d-48ac-a6cb-4531676db540"
   },
   "outputs": [
    {
     "name": "stdout",
     "output_type": "stream",
     "text": [
      "我家附近的\u001b[34m遠\u001b[0m\u001b[34m傳\u001b[0m\u001b[31m好\u001b[0m\u001b[31m囉\u001b[0m\u001b[31m嗦\u001b[0m\n"
     ]
    }
   ],
   "source": [
    "visdata = visualize_tokens(cadence.analyze(\"我家附近的遠傳好囉嗦\", strategy=\"simple\"))"
   ]
  },
  {
   "cell_type": "code",
   "execution_count": 15,
   "metadata": {
    "colab": {
     "base_uri": "https://localhost:8080/"
    },
    "id": "NinczLotvibg",
    "outputId": "121c1f7a-4225-4a6b-c9da-097a13ac3aee"
   },
   "outputs": [
    {
     "name": "stdout",
     "output_type": "stream",
     "text": [
      "\u001b[34m遠\u001b[0m\u001b[34m傳\u001b[0m\u001b[31m最\u001b[0m\u001b[31m近\u001b[0m\u001b[31m是\u001b[0m\u001b[31m在\u001b[0m\u001b[31m哈\u001b[0m\u001b[31m囉\u001b[0m\n"
     ]
    }
   ],
   "source": [
    "visdata = visualize_tokens(cadence.analyze(\"遠傳最近是在哈囉\", strategy=\"simple\"))"
   ]
  },
  {
   "cell_type": "code",
   "execution_count": 16,
   "metadata": {
    "colab": {
     "base_uri": "https://localhost:8080/"
    },
    "id": "TjnVvY1HvdOM",
    "outputId": "4f87af9e-6004-404d-f52f-94517fe83183"
   },
   "outputs": [
    {
     "data": {
      "text/plain": [
       "<CadenceOutput: [('中華電信', '[資費]續約攜碼', 'Positive'), ('中華電信', '[通訊]網速', 'Positive')]>"
      ]
     },
     "execution_count": 16,
     "metadata": {},
     "output_type": "execute_result"
    }
   ],
   "source": [
    "# experimental multiple resolver\n",
    "cadence.analyze(\"中華超划算，而且最快\", strategy=\"multiple\")"
   ]
  },
  {
   "cell_type": "code",
   "execution_count": 17,
   "metadata": {
    "colab": {
     "base_uri": "https://localhost:8080/"
    },
    "id": "mUTfPsx7Glwf",
    "outputId": "92f3b0df-b7ce-40b2-9b9c-49e6f3a25e96"
   },
   "outputs": [
    {
     "data": {
      "text/plain": [
       "['亞太電信', '中華電信']"
      ]
     },
     "execution_count": 17,
     "metadata": {},
     "output_type": "execute_result"
    }
   ],
   "source": [
    "out = cadence.analyze(\"亞太網路超差，中華就很好\", strategy=\"simple\")\n",
    "out.entities"
   ]
  },
  {
   "cell_type": "code",
   "execution_count": 18,
   "metadata": {
    "colab": {
     "base_uri": "https://localhost:8080/"
    },
    "id": "8WwcQ2967Lzz",
    "outputId": "2b1226fd-285f-4924-e573-fe291518db5a"
   },
   "outputs": [
    {
     "data": {
      "text/plain": [
       "<CadenceOutput: [('亞太電信', '[通訊]涵蓋', 'Negative'), ('中華電信', '[通訊]涵蓋', 'Positive')]>"
      ]
     },
     "execution_count": 18,
     "metadata": {},
     "output_type": "execute_result"
    }
   ],
   "source": [
    "cadence.analyze(\"亞太網路超差，中華就很好\", strategy=\"multiple\")"
   ]
  },
  {
   "cell_type": "code",
   "execution_count": 19,
   "metadata": {
    "colab": {
     "base_uri": "https://localhost:8080/"
    },
    "id": "CdypiCU0v3FW",
    "outputId": "a5d5ffb7-35df-43db-ecbb-a1c61249a8bb"
   },
   "outputs": [
    {
     "name": "stdout",
     "output_type": "stream",
     "text": [
      "<CadenceOutput: [('亞太電信', '[通訊]涵蓋', 'Negative'), ('中華電信', '[通訊]涵蓋', 'Positive')]>\n",
      "\u001b[34m亞\u001b[0m\u001b[34m太\u001b[0m\u001b[32m網\u001b[0m\u001b[32m路\u001b[0m\u001b[31m超\u001b[0m\u001b[31m差\u001b[0m，\u001b[34m中\u001b[0m\u001b[34m華\u001b[0m\u001b[32m收\u001b[0m\u001b[32m訊\u001b[0m就\u001b[36m很\u001b[0m\u001b[36m好\u001b[0m\n"
     ]
    }
   ],
   "source": [
    "out = cadence.analyze(\"亞太網路超差，中華收訊就很好\", strategy=\"multiple\")\n",
    "print(out)\n",
    "visdata = visualize_tokens(out, 2)"
   ]
  },
  {
   "cell_type": "code",
   "execution_count": 20,
   "metadata": {
    "colab": {
     "base_uri": "https://localhost:8080/"
    },
    "id": "oU857BPA9MlZ",
    "outputId": "3b84ddbf-fd32-4389-8009-253bc4c90f4b"
   },
   "outputs": [
    {
     "data": {
      "text/plain": [
       "{'text': '亞太網路超差，中華收訊就很好',\n",
       " 'opn_logits': array([[-2.1152952 , -5.1527815 ,  6.963649  ],\n",
       "        [ 5.3408756 , -3.7958367 , -2.7251062 ],\n",
       "        [ 6.260398  , -4.006509  , -3.7350326 ],\n",
       "        [ 4.2582    , -4.640467  , -1.4815805 ],\n",
       "        [ 4.186642  , -4.1895447 , -1.3312267 ],\n",
       "        [-0.24147686, -6.247472  ,  4.9183874 ],\n",
       "        [-0.0094707 , -5.615987  ,  3.8122473 ],\n",
       "        [ 5.953059  , -5.7677774 , -2.0524197 ],\n",
       "        [ 6.537443  , -3.9425964 , -3.9490232 ],\n",
       "        [ 6.835691  , -4.5912123 , -3.7815132 ],\n",
       "        [ 4.1830726 , -4.937192  , -0.99616814],\n",
       "        [ 5.1136556 , -4.1199703 , -2.191852  ],\n",
       "        [ 2.006753  , -4.1519065 ,  0.8197124 ],\n",
       "        [ 2.8441455 , -5.0043325 ,  1.7750754 ],\n",
       "        [ 2.9105272 , -3.622441  ,  1.280484  ],\n",
       "        [-2.1153047 , -5.152773  ,  6.9636497 ]], dtype=float32),\n",
       " 'seq_polarity': 'Negative',\n",
       " 'seq_probs': array([0.00368624, 0.00232451, 0.9939892 ], dtype=float32),\n",
       " 'spans': ['超差'],\n",
       " 'span_idxs': [[4, 5]],\n",
       " 'span_pols': ['N'],\n",
       " 'token_probs': tensor([[9.9958e-01, 1.0760e-04, 3.1391e-04],\n",
       "         [9.9992e-01, 3.4762e-05, 4.5604e-05],\n",
       "         [9.9666e-01, 1.3611e-04, 3.2047e-03],\n",
       "         [9.9577e-01, 2.2931e-04, 3.9974e-03],\n",
       "         [5.7096e-03, 1.4068e-05, 9.9428e-01],\n",
       "         [2.1420e-02, 7.8692e-05, 9.7850e-01],\n",
       "         [9.9966e-01, 8.1200e-06, 3.3352e-04],\n",
       "         [9.9994e-01, 2.8090e-05, 2.7910e-05],\n",
       "         [9.9996e-01, 1.0898e-05, 2.4490e-05],\n",
       "         [9.9429e-01, 1.0880e-04, 5.6001e-03],\n",
       "         [9.9923e-01, 9.7623e-05, 6.7131e-04],\n",
       "         [7.6497e-01, 1.6180e-03, 2.3341e-01],\n",
       "         [7.4420e-01, 2.9050e-04, 2.5551e-01],\n",
       "         [8.3516e-01, 1.2149e-03, 1.6363e-01]])}"
      ]
     },
     "execution_count": 20,
     "metadata": {},
     "output_type": "execute_result"
    }
   ],
   "source": [
    "out.mt_bert"
   ]
  },
  {
   "cell_type": "code",
   "execution_count": null,
   "metadata": {
    "id": "3gTknN8G5z6g"
   },
   "outputs": [],
   "source": []
  }
 ],
 "metadata": {
  "accelerator": "GPU",
  "colab": {
   "collapsed_sections": [],
   "name": "70.05-colab-cadence-Q4-workbook.ipynb",
   "provenance": []
  },
  "kernelspec": {
   "display_name": "Python 3",
   "language": "python",
   "name": "python3"
  },
  "language_info": {
   "codemirror_mode": {
    "name": "ipython",
    "version": 3
   },
   "file_extension": ".py",
   "mimetype": "text/x-python",
   "name": "python",
   "nbconvert_exporter": "python",
   "pygments_lexer": "ipython3",
   "version": "3.8.2"
  },
  "widgets": {
   "application/vnd.jupyter.widget-state+json": {
    "06f117f4f0d54211beb8b5b88021baa7": {
     "model_module": "@jupyter-widgets/base",
     "model_module_version": "1.2.0",
     "model_name": "LayoutModel",
     "state": {
      "_model_module": "@jupyter-widgets/base",
      "_model_module_version": "1.2.0",
      "_model_name": "LayoutModel",
      "_view_count": null,
      "_view_module": "@jupyter-widgets/base",
      "_view_module_version": "1.2.0",
      "_view_name": "LayoutView",
      "align_content": null,
      "align_items": null,
      "align_self": null,
      "border": null,
      "bottom": null,
      "display": null,
      "flex": null,
      "flex_flow": null,
      "grid_area": null,
      "grid_auto_columns": null,
      "grid_auto_flow": null,
      "grid_auto_rows": null,
      "grid_column": null,
      "grid_gap": null,
      "grid_row": null,
      "grid_template_areas": null,
      "grid_template_columns": null,
      "grid_template_rows": null,
      "height": null,
      "justify_content": null,
      "justify_items": null,
      "left": null,
      "margin": null,
      "max_height": null,
      "max_width": null,
      "min_height": null,
      "min_width": null,
      "object_fit": null,
      "object_position": null,
      "order": null,
      "overflow": null,
      "overflow_x": null,
      "overflow_y": null,
      "padding": null,
      "right": null,
      "top": null,
      "visibility": null,
      "width": null
     }
    },
    "16473e80ac0e4ec6a60bebee29aebbf2": {
     "model_module": "@jupyter-widgets/controls",
     "model_module_version": "1.5.0",
     "model_name": "DescriptionStyleModel",
     "state": {
      "_model_module": "@jupyter-widgets/controls",
      "_model_module_version": "1.5.0",
      "_model_name": "DescriptionStyleModel",
      "_view_count": null,
      "_view_module": "@jupyter-widgets/base",
      "_view_module_version": "1.2.0",
      "_view_name": "StyleView",
      "description_width": ""
     }
    },
    "21212ff9c49f49d59d71c470beca9eec": {
     "model_module": "@jupyter-widgets/base",
     "model_module_version": "1.2.0",
     "model_name": "LayoutModel",
     "state": {
      "_model_module": "@jupyter-widgets/base",
      "_model_module_version": "1.2.0",
      "_model_name": "LayoutModel",
      "_view_count": null,
      "_view_module": "@jupyter-widgets/base",
      "_view_module_version": "1.2.0",
      "_view_name": "LayoutView",
      "align_content": null,
      "align_items": null,
      "align_self": null,
      "border": null,
      "bottom": null,
      "display": null,
      "flex": null,
      "flex_flow": null,
      "grid_area": null,
      "grid_auto_columns": null,
      "grid_auto_flow": null,
      "grid_auto_rows": null,
      "grid_column": null,
      "grid_gap": null,
      "grid_row": null,
      "grid_template_areas": null,
      "grid_template_columns": null,
      "grid_template_rows": null,
      "height": null,
      "justify_content": null,
      "justify_items": null,
      "left": null,
      "margin": null,
      "max_height": null,
      "max_width": null,
      "min_height": null,
      "min_width": null,
      "object_fit": null,
      "object_position": null,
      "order": null,
      "overflow": null,
      "overflow_x": null,
      "overflow_y": null,
      "padding": null,
      "right": null,
      "top": null,
      "visibility": null,
      "width": null
     }
    },
    "23545e0b5933424f988311adec50fe71": {
     "model_module": "@jupyter-widgets/base",
     "model_module_version": "1.2.0",
     "model_name": "LayoutModel",
     "state": {
      "_model_module": "@jupyter-widgets/base",
      "_model_module_version": "1.2.0",
      "_model_name": "LayoutModel",
      "_view_count": null,
      "_view_module": "@jupyter-widgets/base",
      "_view_module_version": "1.2.0",
      "_view_name": "LayoutView",
      "align_content": null,
      "align_items": null,
      "align_self": null,
      "border": null,
      "bottom": null,
      "display": null,
      "flex": null,
      "flex_flow": null,
      "grid_area": null,
      "grid_auto_columns": null,
      "grid_auto_flow": null,
      "grid_auto_rows": null,
      "grid_column": null,
      "grid_gap": null,
      "grid_row": null,
      "grid_template_areas": null,
      "grid_template_columns": null,
      "grid_template_rows": null,
      "height": null,
      "justify_content": null,
      "justify_items": null,
      "left": null,
      "margin": null,
      "max_height": null,
      "max_width": null,
      "min_height": null,
      "min_width": null,
      "object_fit": null,
      "object_position": null,
      "order": null,
      "overflow": null,
      "overflow_x": null,
      "overflow_y": null,
      "padding": null,
      "right": null,
      "top": null,
      "visibility": null,
      "width": null
     }
    },
    "256122707c7c4ff2abfb44f9359d9b41": {
     "model_module": "@jupyter-widgets/base",
     "model_module_version": "1.2.0",
     "model_name": "LayoutModel",
     "state": {
      "_model_module": "@jupyter-widgets/base",
      "_model_module_version": "1.2.0",
      "_model_name": "LayoutModel",
      "_view_count": null,
      "_view_module": "@jupyter-widgets/base",
      "_view_module_version": "1.2.0",
      "_view_name": "LayoutView",
      "align_content": null,
      "align_items": null,
      "align_self": null,
      "border": null,
      "bottom": null,
      "display": null,
      "flex": null,
      "flex_flow": null,
      "grid_area": null,
      "grid_auto_columns": null,
      "grid_auto_flow": null,
      "grid_auto_rows": null,
      "grid_column": null,
      "grid_gap": null,
      "grid_row": null,
      "grid_template_areas": null,
      "grid_template_columns": null,
      "grid_template_rows": null,
      "height": null,
      "justify_content": null,
      "justify_items": null,
      "left": null,
      "margin": null,
      "max_height": null,
      "max_width": null,
      "min_height": null,
      "min_width": null,
      "object_fit": null,
      "object_position": null,
      "order": null,
      "overflow": null,
      "overflow_x": null,
      "overflow_y": null,
      "padding": null,
      "right": null,
      "top": null,
      "visibility": null,
      "width": null
     }
    },
    "299459003afa473aaea37c97d6f5ca66": {
     "model_module": "@jupyter-widgets/controls",
     "model_module_version": "1.5.0",
     "model_name": "DescriptionStyleModel",
     "state": {
      "_model_module": "@jupyter-widgets/controls",
      "_model_module_version": "1.5.0",
      "_model_name": "DescriptionStyleModel",
      "_view_count": null,
      "_view_module": "@jupyter-widgets/base",
      "_view_module_version": "1.2.0",
      "_view_name": "StyleView",
      "description_width": ""
     }
    },
    "2e42c29f2275492289d3f3abedf4be34": {
     "model_module": "@jupyter-widgets/controls",
     "model_module_version": "1.5.0",
     "model_name": "HBoxModel",
     "state": {
      "_dom_classes": [],
      "_model_module": "@jupyter-widgets/controls",
      "_model_module_version": "1.5.0",
      "_model_name": "HBoxModel",
      "_view_count": null,
      "_view_module": "@jupyter-widgets/controls",
      "_view_module_version": "1.5.0",
      "_view_name": "HBoxView",
      "box_style": "",
      "children": [
       "IPY_MODEL_f52a78d2c289407d996de27228a311bf",
       "IPY_MODEL_8eb688502c98430fa39059136756b343",
       "IPY_MODEL_d1a859dc83ea4255bf302a60c6760caf"
      ],
      "layout": "IPY_MODEL_6c727689248d40f999688efadec53ff4"
     }
    },
    "4405d838415442e7b8e3adb42827a183": {
     "model_module": "@jupyter-widgets/base",
     "model_module_version": "1.2.0",
     "model_name": "LayoutModel",
     "state": {
      "_model_module": "@jupyter-widgets/base",
      "_model_module_version": "1.2.0",
      "_model_name": "LayoutModel",
      "_view_count": null,
      "_view_module": "@jupyter-widgets/base",
      "_view_module_version": "1.2.0",
      "_view_name": "LayoutView",
      "align_content": null,
      "align_items": null,
      "align_self": null,
      "border": null,
      "bottom": null,
      "display": null,
      "flex": null,
      "flex_flow": null,
      "grid_area": null,
      "grid_auto_columns": null,
      "grid_auto_flow": null,
      "grid_auto_rows": null,
      "grid_column": null,
      "grid_gap": null,
      "grid_row": null,
      "grid_template_areas": null,
      "grid_template_columns": null,
      "grid_template_rows": null,
      "height": null,
      "justify_content": null,
      "justify_items": null,
      "left": null,
      "margin": null,
      "max_height": null,
      "max_width": null,
      "min_height": null,
      "min_width": null,
      "object_fit": null,
      "object_position": null,
      "order": null,
      "overflow": null,
      "overflow_x": null,
      "overflow_y": null,
      "padding": null,
      "right": null,
      "top": null,
      "visibility": null,
      "width": null
     }
    },
    "449e58f7fadb46a1b434d74520cec6fb": {
     "model_module": "@jupyter-widgets/base",
     "model_module_version": "1.2.0",
     "model_name": "LayoutModel",
     "state": {
      "_model_module": "@jupyter-widgets/base",
      "_model_module_version": "1.2.0",
      "_model_name": "LayoutModel",
      "_view_count": null,
      "_view_module": "@jupyter-widgets/base",
      "_view_module_version": "1.2.0",
      "_view_name": "LayoutView",
      "align_content": null,
      "align_items": null,
      "align_self": null,
      "border": null,
      "bottom": null,
      "display": null,
      "flex": null,
      "flex_flow": null,
      "grid_area": null,
      "grid_auto_columns": null,
      "grid_auto_flow": null,
      "grid_auto_rows": null,
      "grid_column": null,
      "grid_gap": null,
      "grid_row": null,
      "grid_template_areas": null,
      "grid_template_columns": null,
      "grid_template_rows": null,
      "height": null,
      "justify_content": null,
      "justify_items": null,
      "left": null,
      "margin": null,
      "max_height": null,
      "max_width": null,
      "min_height": null,
      "min_width": null,
      "object_fit": null,
      "object_position": null,
      "order": null,
      "overflow": null,
      "overflow_x": null,
      "overflow_y": null,
      "padding": null,
      "right": null,
      "top": null,
      "visibility": null,
      "width": null
     }
    },
    "6c727689248d40f999688efadec53ff4": {
     "model_module": "@jupyter-widgets/base",
     "model_module_version": "1.2.0",
     "model_name": "LayoutModel",
     "state": {
      "_model_module": "@jupyter-widgets/base",
      "_model_module_version": "1.2.0",
      "_model_name": "LayoutModel",
      "_view_count": null,
      "_view_module": "@jupyter-widgets/base",
      "_view_module_version": "1.2.0",
      "_view_name": "LayoutView",
      "align_content": null,
      "align_items": null,
      "align_self": null,
      "border": null,
      "bottom": null,
      "display": null,
      "flex": null,
      "flex_flow": null,
      "grid_area": null,
      "grid_auto_columns": null,
      "grid_auto_flow": null,
      "grid_auto_rows": null,
      "grid_column": null,
      "grid_gap": null,
      "grid_row": null,
      "grid_template_areas": null,
      "grid_template_columns": null,
      "grid_template_rows": null,
      "height": null,
      "justify_content": null,
      "justify_items": null,
      "left": null,
      "margin": null,
      "max_height": null,
      "max_width": null,
      "min_height": null,
      "min_width": null,
      "object_fit": null,
      "object_position": null,
      "order": null,
      "overflow": null,
      "overflow_x": null,
      "overflow_y": null,
      "padding": null,
      "right": null,
      "top": null,
      "visibility": null,
      "width": null
     }
    },
    "858f252d5f6440fb84c22b9b2e19227d": {
     "model_module": "@jupyter-widgets/controls",
     "model_module_version": "1.5.0",
     "model_name": "ProgressStyleModel",
     "state": {
      "_model_module": "@jupyter-widgets/controls",
      "_model_module_version": "1.5.0",
      "_model_name": "ProgressStyleModel",
      "_view_count": null,
      "_view_module": "@jupyter-widgets/base",
      "_view_module_version": "1.2.0",
      "_view_name": "StyleView",
      "bar_color": null,
      "description_width": ""
     }
    },
    "8a8a5c0b79de40d38de9b8d5b6adecfc": {
     "model_module": "@jupyter-widgets/controls",
     "model_module_version": "1.5.0",
     "model_name": "DescriptionStyleModel",
     "state": {
      "_model_module": "@jupyter-widgets/controls",
      "_model_module_version": "1.5.0",
      "_model_name": "DescriptionStyleModel",
      "_view_count": null,
      "_view_module": "@jupyter-widgets/base",
      "_view_module_version": "1.2.0",
      "_view_name": "StyleView",
      "description_width": ""
     }
    },
    "8c658d81828f41fba59f8e78f0acf667": {
     "model_module": "@jupyter-widgets/base",
     "model_module_version": "1.2.0",
     "model_name": "LayoutModel",
     "state": {
      "_model_module": "@jupyter-widgets/base",
      "_model_module_version": "1.2.0",
      "_model_name": "LayoutModel",
      "_view_count": null,
      "_view_module": "@jupyter-widgets/base",
      "_view_module_version": "1.2.0",
      "_view_name": "LayoutView",
      "align_content": null,
      "align_items": null,
      "align_self": null,
      "border": null,
      "bottom": null,
      "display": null,
      "flex": null,
      "flex_flow": null,
      "grid_area": null,
      "grid_auto_columns": null,
      "grid_auto_flow": null,
      "grid_auto_rows": null,
      "grid_column": null,
      "grid_gap": null,
      "grid_row": null,
      "grid_template_areas": null,
      "grid_template_columns": null,
      "grid_template_rows": null,
      "height": null,
      "justify_content": null,
      "justify_items": null,
      "left": null,
      "margin": null,
      "max_height": null,
      "max_width": null,
      "min_height": null,
      "min_width": null,
      "object_fit": null,
      "object_position": null,
      "order": null,
      "overflow": null,
      "overflow_x": null,
      "overflow_y": null,
      "padding": null,
      "right": null,
      "top": null,
      "visibility": null,
      "width": null
     }
    },
    "8eb688502c98430fa39059136756b343": {
     "model_module": "@jupyter-widgets/controls",
     "model_module_version": "1.5.0",
     "model_name": "FloatProgressModel",
     "state": {
      "_dom_classes": [],
      "_model_module": "@jupyter-widgets/controls",
      "_model_module_version": "1.5.0",
      "_model_name": "FloatProgressModel",
      "_view_count": null,
      "_view_module": "@jupyter-widgets/controls",
      "_view_module_version": "1.5.0",
      "_view_name": "ProgressView",
      "bar_style": "success",
      "description": "",
      "description_tooltip": null,
      "layout": "IPY_MODEL_23545e0b5933424f988311adec50fe71",
      "max": 10000,
      "min": 0,
      "orientation": "horizontal",
      "style": "IPY_MODEL_858f252d5f6440fb84c22b9b2e19227d",
      "value": 10000
     }
    },
    "9a8e2cbea76b469d93548b3a9be0b757": {
     "model_module": "@jupyter-widgets/controls",
     "model_module_version": "1.5.0",
     "model_name": "HBoxModel",
     "state": {
      "_dom_classes": [],
      "_model_module": "@jupyter-widgets/controls",
      "_model_module_version": "1.5.0",
      "_model_name": "HBoxModel",
      "_view_count": null,
      "_view_module": "@jupyter-widgets/controls",
      "_view_module_version": "1.5.0",
      "_view_name": "HBoxView",
      "box_style": "",
      "children": [
       "IPY_MODEL_acf00b5d4fcd48ceafdd6e36d507fc7b",
       "IPY_MODEL_afc3edb9ccc5417e9436b2f5745eba9b",
       "IPY_MODEL_c064db44d3034360a51dbc4b45f0b067"
      ],
      "layout": "IPY_MODEL_8c658d81828f41fba59f8e78f0acf667"
     }
    },
    "acf00b5d4fcd48ceafdd6e36d507fc7b": {
     "model_module": "@jupyter-widgets/controls",
     "model_module_version": "1.5.0",
     "model_name": "HTMLModel",
     "state": {
      "_dom_classes": [],
      "_model_module": "@jupyter-widgets/controls",
      "_model_module_version": "1.5.0",
      "_model_name": "HTMLModel",
      "_view_count": null,
      "_view_module": "@jupyter-widgets/controls",
      "_view_module_version": "1.5.0",
      "_view_name": "HTMLView",
      "description": "",
      "description_tooltip": null,
      "layout": "IPY_MODEL_21212ff9c49f49d59d71c470beca9eec",
      "placeholder": "​",
      "style": "IPY_MODEL_b5a942ba51994677b85a8617d04e857e",
      "value": "100%"
     }
    },
    "afc3edb9ccc5417e9436b2f5745eba9b": {
     "model_module": "@jupyter-widgets/controls",
     "model_module_version": "1.5.0",
     "model_name": "FloatProgressModel",
     "state": {
      "_dom_classes": [],
      "_model_module": "@jupyter-widgets/controls",
      "_model_module_version": "1.5.0",
      "_model_name": "FloatProgressModel",
      "_view_count": null,
      "_view_module": "@jupyter-widgets/controls",
      "_view_module_version": "1.5.0",
      "_view_name": "ProgressView",
      "bar_style": "success",
      "description": "",
      "description_tooltip": null,
      "layout": "IPY_MODEL_4405d838415442e7b8e3adb42827a183",
      "max": 10000,
      "min": 0,
      "orientation": "horizontal",
      "style": "IPY_MODEL_f8d49e5a00a24dbcb479ee52dcd564cf",
      "value": 10000
     }
    },
    "b5a942ba51994677b85a8617d04e857e": {
     "model_module": "@jupyter-widgets/controls",
     "model_module_version": "1.5.0",
     "model_name": "DescriptionStyleModel",
     "state": {
      "_model_module": "@jupyter-widgets/controls",
      "_model_module_version": "1.5.0",
      "_model_name": "DescriptionStyleModel",
      "_view_count": null,
      "_view_module": "@jupyter-widgets/base",
      "_view_module_version": "1.2.0",
      "_view_name": "StyleView",
      "description_width": ""
     }
    },
    "c064db44d3034360a51dbc4b45f0b067": {
     "model_module": "@jupyter-widgets/controls",
     "model_module_version": "1.5.0",
     "model_name": "HTMLModel",
     "state": {
      "_dom_classes": [],
      "_model_module": "@jupyter-widgets/controls",
      "_model_module_version": "1.5.0",
      "_model_name": "HTMLModel",
      "_view_count": null,
      "_view_module": "@jupyter-widgets/controls",
      "_view_module_version": "1.5.0",
      "_view_name": "HTMLView",
      "description": "",
      "description_tooltip": null,
      "layout": "IPY_MODEL_449e58f7fadb46a1b434d74520cec6fb",
      "placeholder": "​",
      "style": "IPY_MODEL_8a8a5c0b79de40d38de9b8d5b6adecfc",
      "value": " 10000/10000 [06:06&lt;00:00, 26.47it/s]"
     }
    },
    "d1a859dc83ea4255bf302a60c6760caf": {
     "model_module": "@jupyter-widgets/controls",
     "model_module_version": "1.5.0",
     "model_name": "HTMLModel",
     "state": {
      "_dom_classes": [],
      "_model_module": "@jupyter-widgets/controls",
      "_model_module_version": "1.5.0",
      "_model_name": "HTMLModel",
      "_view_count": null,
      "_view_module": "@jupyter-widgets/controls",
      "_view_module_version": "1.5.0",
      "_view_name": "HTMLView",
      "description": "",
      "description_tooltip": null,
      "layout": "IPY_MODEL_256122707c7c4ff2abfb44f9359d9b41",
      "placeholder": "​",
      "style": "IPY_MODEL_16473e80ac0e4ec6a60bebee29aebbf2",
      "value": " 10000/10000 [00:00&lt;00:00, 15854.46it/s]"
     }
    },
    "f52a78d2c289407d996de27228a311bf": {
     "model_module": "@jupyter-widgets/controls",
     "model_module_version": "1.5.0",
     "model_name": "HTMLModel",
     "state": {
      "_dom_classes": [],
      "_model_module": "@jupyter-widgets/controls",
      "_model_module_version": "1.5.0",
      "_model_name": "HTMLModel",
      "_view_count": null,
      "_view_module": "@jupyter-widgets/controls",
      "_view_module_version": "1.5.0",
      "_view_name": "HTMLView",
      "description": "",
      "description_tooltip": null,
      "layout": "IPY_MODEL_06f117f4f0d54211beb8b5b88021baa7",
      "placeholder": "​",
      "style": "IPY_MODEL_299459003afa473aaea37c97d6f5ca66",
      "value": "100%"
     }
    },
    "f8d49e5a00a24dbcb479ee52dcd564cf": {
     "model_module": "@jupyter-widgets/controls",
     "model_module_version": "1.5.0",
     "model_name": "ProgressStyleModel",
     "state": {
      "_model_module": "@jupyter-widgets/controls",
      "_model_module_version": "1.5.0",
      "_model_name": "ProgressStyleModel",
      "_view_count": null,
      "_view_module": "@jupyter-widgets/base",
      "_view_module_version": "1.2.0",
      "_view_name": "StyleView",
      "bar_color": null,
      "description_width": ""
     }
    }
   }
  }
 },
 "nbformat": 4,
 "nbformat_minor": 4
}

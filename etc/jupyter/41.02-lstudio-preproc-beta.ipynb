{
 "cells": [
  {
   "cell_type": "code",
   "execution_count": 1,
   "metadata": {},
   "outputs": [],
   "source": [
    "%load_ext autoreload\n",
    "%autoreload 2"
   ]
  },
  {
   "cell_type": "code",
   "execution_count": 2,
   "metadata": {},
   "outputs": [],
   "source": [
    "import pickle\n",
    "import json\n",
    "import random\n",
    "import numpy as np\n",
    "import pandas as pd\n",
    "from tqdm import tqdm\n",
    "from import_casa import casa, cano"
   ]
  },
  {
   "cell_type": "code",
   "execution_count": 3,
   "metadata": {},
   "outputs": [],
   "source": [
    "TARGET_DIR = \"20210406\"\n",
    "result_dir = casa.get_data_path() / f\"annot_data/annotated_data_bkup/{TARGET_DIR}\"\n",
    "json_paths = [x for x in result_dir.iterdir() if x.suffix==\".json\"]"
   ]
  },
  {
   "cell_type": "code",
   "execution_count": 4,
   "metadata": {},
   "outputs": [],
   "source": [
    "with json_paths[1].open(\"r\", encoding=\"UTF-8\") as fin:\n",
    "    annots = json.load(fin)"
   ]
  },
  {
   "cell_type": "code",
   "execution_count": 5,
   "metadata": {},
   "outputs": [
    {
     "data": {
      "text/plain": [
       "['completions', 'data', 'id']"
      ]
     },
     "execution_count": 5,
     "metadata": {},
     "output_type": "execute_result"
    }
   ],
   "source": [
    "list(annots[0].keys())"
   ]
  },
  {
   "cell_type": "code",
   "execution_count": 6,
   "metadata": {},
   "outputs": [
    {
     "data": {
      "text/plain": [
       "382"
      ]
     },
     "execution_count": 6,
     "metadata": {},
     "output_type": "execute_result"
    }
   ],
   "source": [
    "len(annots)"
   ]
  },
  {
   "cell_type": "code",
   "execution_count": 7,
   "metadata": {},
   "outputs": [],
   "source": [
    "aspect_list = []"
   ]
  },
  {
   "cell_type": "code",
   "execution_count": 8,
   "metadata": {},
   "outputs": [
    {
     "name": "stderr",
     "output_type": "stream",
     "text": [
      "1it [00:00, ?it/s]"
     ]
    },
    {
     "name": "stdout",
     "output_type": "stream",
     "text": [
      "1\n"
     ]
    },
    {
     "name": "stderr",
     "output_type": "stream",
     "text": [
      "\n"
     ]
    }
   ],
   "source": [
    "for annot_i, annot_x in tqdm(enumerate(annots)):\n",
    "    ctxs = [x for x in annot_x[\"completions\"][0][\"result\"]  if x.get(\"from_name\", \"\").startswith(\"ctx-sentiment\")]\n",
    "    if ctxs:\n",
    "        print(annot_i)\n",
    "        aspects = cano.process_thread_annotations(annot_x)\n",
    "        break\n",
    "        # aspect_list.extend(aspects)"
   ]
  },
  {
   "cell_type": "code",
   "execution_count": 8,
   "metadata": {},
   "outputs": [],
   "source": [
    "def find_thread_idx(annots, thread_idx):\n",
    "    iter_annot = filter(lambda x: x[\"data\"][\"thread_idx\"]==thread_idx, annots)\n",
    "    return list(iter_annot)[0]"
   ]
  },
  {
   "cell_type": "code",
   "execution_count": 13,
   "metadata": {},
   "outputs": [
    {
     "name": "stderr",
     "output_type": "stream",
     "text": [
      "100%|██████████████████████████████████████████████████████████████████████████████████| 10/10 [00:01<00:00,  9.22it/s]\n"
     ]
    }
   ],
   "source": [
    "annots = []\n",
    "for json_path in tqdm(json_paths):\n",
    "    with json_path.open(\"r\", encoding=\"UTF-8\") as fin:\n",
    "        obj = json.load(fin)\n",
    "    annots.extend(obj)\n"
   ]
  },
  {
   "cell_type": "code",
   "execution_count": 30,
   "metadata": {},
   "outputs": [],
   "source": [
    "annot_x = find_thread_idx(annots, 220)"
   ]
  },
  {
   "cell_type": "code",
   "execution_count": 34,
   "metadata": {},
   "outputs": [],
   "source": [
    "aspects, dbg = cano.process_thread_annotations(annot_x, True)"
   ]
  },
  {
   "cell_type": "code",
   "execution_count": 35,
   "metadata": {},
   "outputs": [
    {
     "data": {
      "text/plain": [
       "[<AnnotAspect (std), 1-5, Thread 220 ://優惠不錯 />,\n",
       " <AnnotAspect (std), 1-5, Thread 220 ://比較便宜/4>,\n",
       " <AnnotAspect (std), 1-5, Thread 220 :臺灣大哥大/[通訊]網速/被靠北到死 /1>,\n",
       " <AnnotAspect (std), 1-5, Thread 220 :臺灣大哥大/[資費]續約攜碼/最好/5>,\n",
       " <AnnotAspect (std), 1-5, Thread 220 :遠傳電信/[資費]續約攜碼/比較划算欸，比另外兩家都更便宜 些/4>,\n",
       " <AnnotAspect (std), 1-5, Thread 220 :遠傳電信/[資費]續約攜碼/還蠻推/4>]"
      ]
     },
     "execution_count": 35,
     "metadata": {},
     "output_type": "execute_result"
    }
   ],
   "source": [
    "aspects"
   ]
  },
  {
   "cell_type": "code",
   "execution_count": 36,
   "metadata": {},
   "outputs": [
    {
     "data": {
      "text/plain": [
       "{'relations': {'Z6okmKmpxZ': ['DDXHqKpP4C', 'u9uFQUkcng'],\n",
       "  'DDXHqKpP4C': ['Z6okmKmpxZ'],\n",
       "  'u9uFQUkcng': ['Z6okmKmpxZ'],\n",
       "  '3N510DFllY': ['qKOI3WDVGa', 'Q1BJ1nYv2c'],\n",
       "  'qKOI3WDVGa': ['3N510DFllY'],\n",
       "  'Q1BJ1nYv2c': ['3N510DFllY'],\n",
       "  'X-zotPemPn': ['xuUXa83jFo', 'xSo_Pep-3L'],\n",
       "  'xuUXa83jFo': ['X-zotPemPn'],\n",
       "  'xSo_Pep-3L': ['X-zotPemPn'],\n",
       "  'ipU_I4Up-Q': ['2UkhZzUG81', 'dS1luUa09L'],\n",
       "  '2UkhZzUG81': ['ipU_I4Up-Q'],\n",
       "  'dS1luUa09L': ['ipU_I4Up-Q'],\n",
       "  '0bHE5Ow7Uz': ['C8OHMfbLL_', 'FVcq_RMHH4'],\n",
       "  'C8OHMfbLL_': ['0bHE5Ow7Uz'],\n",
       "  'FVcq_RMHH4': ['0bHE5Ow7Uz'],\n",
       "  'fFJflhBp-l': ['b_GNGShOtQ', 'iEqwtM8KjW'],\n",
       "  'b_GNGShOtQ': ['fFJflhBp-l'],\n",
       "  'iEqwtM8KjW': ['fFJflhBp-l']},\n",
       " 'annot_spans': {'Anq2I42TSQ': [<AnnotSpan [Anq2I42TSQ]: ent-norm, 遠傳電信>],\n",
       "  'X-zotPemPn': [<AnnotSpan [X-zotPemPn]: ent-norm, 臺灣大哥大>],\n",
       "  'ipU_I4Up-Q': [<AnnotSpan [ipU_I4Up-Q]: ent-norm, 臺灣大哥大>],\n",
       "  '0bHE5Ow7Uz': [<AnnotSpan [0bHE5Ow7Uz]: ent-norm, 遠傳電信>],\n",
       "  'xuUXa83jFo': [<AnnotSpan [xuUXa83jFo]: attr-norm, [通訊]網速>],\n",
       "  '2UkhZzUG81': [<AnnotSpan [2UkhZzUG81]: attr-norm, [資費]續約攜碼>],\n",
       "  'C8OHMfbLL_': [<AnnotSpan [C8OHMfbLL_]: attr-norm, [資費]續約攜碼>],\n",
       "  'Q1BJ1nYv2c': [<AnnotSpan [Q1BJ1nYv2c]: sentiment, 4>],\n",
       "  'xSo_Pep-3L': [<AnnotSpan [xSo_Pep-3L]: sentiment, 1>],\n",
       "  'dS1luUa09L': [<AnnotSpan [dS1luUa09L]: sentiment, 5>],\n",
       "  'fFJflhBp-l': [<AnnotSpan [fFJflhBp-l]: ent-norm, 遠傳電信>],\n",
       "  'b_GNGShOtQ': [<AnnotSpan [b_GNGShOtQ]: attr-norm, [資費]續約攜碼>],\n",
       "  'iEqwtM8KjW': [<AnnotSpan [iEqwtM8KjW]: sentiment, 4>],\n",
       "  'KwGuZf7Div': [<AnnotSpan [KwGuZf7Div]: ctx-sentiment, 1>,\n",
       "   <AnnotSpan [KwGuZf7Div]: ctx-note, 敘述結構散，先問對方是否在意通話分鐘這個attribute\n",
       "   假設對方在意的話 再對遠傳319這個方案表示負面評價>],\n",
       "  'FVcq_RMHH4': [<AnnotSpan [FVcq_RMHH4]: sentiment, 4>]},\n",
       " 'text_spans': {'Anq2I42TSQ': <TextSpan [Anq2I42TSQ]: Entity, 遠傳>,\n",
       "  'Z6okmKmpxZ': <TextSpan [Z6okmKmpxZ]: Entity, 中華>,\n",
       "  '3N510DFllY': <TextSpan [3N510DFllY]: Entity, 遠傳>,\n",
       "  'X-zotPemPn': <TextSpan [X-zotPemPn]: Entity, 台哥>,\n",
       "  'ipU_I4Up-Q': <TextSpan [ipU_I4Up-Q]: Entity, 台哥>,\n",
       "  '0bHE5Ow7Uz': <TextSpan [0bHE5Ow7Uz]: Entity, 遠傳>,\n",
       "  'FNyESlGtSH': <TextSpan [FNyESlGtSH]: Attribute, 3 19>,\n",
       "  'DDXHqKpP4C': <TextSpan [DDXHqKpP4C]: Attribute, 488>,\n",
       "  'qKOI3WDVGa': <TextSpan [qKOI3WDVGa]: Attribute, 399/319>,\n",
       "  'xuUXa83jFo': <TextSpan [xuUXa83jFo]: Attribute, 收訊>,\n",
       "  '2UkhZzUG81': <TextSpan [2UkhZzUG81]: Attribute, NP>,\n",
       "  'C8OHMfbLL_': <TextSpan [C8OHMfbLL_]: Attribute, 資費>,\n",
       "  'u9uFQUkcng': <TextSpan [u9uFQUkcng]: Evaluation, 優惠不錯 >,\n",
       "  '0dhcZECTCI': <TextSpan [0dhcZECTCI]: Attribute, 通話分鐘>,\n",
       "  'Q1BJ1nYv2c': <TextSpan [Q1BJ1nYv2c]: Evaluation, 比較便宜>,\n",
       "  'xSo_Pep-3L': <TextSpan [xSo_Pep-3L]: Evaluation, 被靠北到死 >,\n",
       "  'dS1luUa09L': <TextSpan [dS1luUa09L]: Evaluation, 最好>,\n",
       "  'fFJflhBp-l': <TextSpan [fFJflhBp-l]: Entity, 遠傳>,\n",
       "  'b_GNGShOtQ': <TextSpan [b_GNGShOtQ]: Attribute, 588退傭>,\n",
       "  'iEqwtM8KjW': <TextSpan [iEqwtM8KjW]: Evaluation, 還蠻推>,\n",
       "  'KwGuZf7Div': <TextSpan [KwGuZf7Div]: Context, 你到底在不在意通話分鐘？在意的話別把把遠傳3 19拉進來討論 >,\n",
       "  'FVcq_RMHH4': <TextSpan [FVcq_RMHH4]: Evaluation, 比較划算欸，比另外兩家都更便宜 些>},\n",
       " 'span_groups': [[<TextSpan [Z6okmKmpxZ]: Entity, 中華>,\n",
       "   <TextSpan [DDXHqKpP4C]: Attribute, 488>,\n",
       "   <TextSpan [u9uFQUkcng]: Evaluation, 優惠不錯 >],\n",
       "  [<TextSpan [3N510DFllY]: Entity, 遠傳>,\n",
       "   <TextSpan [qKOI3WDVGa]: Attribute, 399/319>,\n",
       "   <TextSpan [Q1BJ1nYv2c]: Evaluation, 比較便宜>],\n",
       "  [<TextSpan [X-zotPemPn]: Entity, 台哥>,\n",
       "   <TextSpan [xuUXa83jFo]: Attribute, 收訊>,\n",
       "   <TextSpan [xSo_Pep-3L]: Evaluation, 被靠北到死 >],\n",
       "  [<TextSpan [ipU_I4Up-Q]: Entity, 台哥>,\n",
       "   <TextSpan [2UkhZzUG81]: Attribute, NP>,\n",
       "   <TextSpan [dS1luUa09L]: Evaluation, 最好>],\n",
       "  [<TextSpan [0bHE5Ow7Uz]: Entity, 遠傳>,\n",
       "   <TextSpan [C8OHMfbLL_]: Attribute, 資費>,\n",
       "   <TextSpan [FVcq_RMHH4]: Evaluation, 比較划算欸，比另外兩家都更便宜 些>],\n",
       "  [<TextSpan [fFJflhBp-l]: Entity, 遠傳>,\n",
       "   <TextSpan [b_GNGShOtQ]: Attribute, 588退傭>,\n",
       "   <TextSpan [iEqwtM8KjW]: Evaluation, 還蠻推>]]}"
      ]
     },
     "execution_count": 36,
     "metadata": {},
     "output_type": "execute_result"
    }
   ],
   "source": [
    "dbg"
   ]
  },
  {
   "cell_type": "code",
   "execution_count": 25,
   "metadata": {},
   "outputs": [
    {
     "data": {
      "text/plain": [
       "[<AnnotAspect (std), 6-75, Thread 4863 :中華電信/[通訊]頻段/很期待/5>]"
      ]
     },
     "execution_count": 25,
     "metadata": {},
     "output_type": "execute_result"
    }
   ],
   "source": [
    "aspects"
   ]
  },
  {
   "cell_type": "code",
   "execution_count": 44,
   "metadata": {},
   "outputs": [
    {
     "name": "stderr",
     "output_type": "stream",
     "text": [
      "100%|██████████████████████████████████████████████████████████████████████████████████| 10/10 [00:00<00:00, 41.43it/s]"
     ]
    },
    {
     "name": "stdout",
     "output_type": "stream",
     "text": [
      "安平區\n",
      "台北市區\n",
      "499之亂後\n",
      "NP\n",
      "日本國際漫遊\n",
      "成功嶺\n",
      "海景\n"
     ]
    },
    {
     "name": "stderr",
     "output_type": "stream",
     "text": [
      "\n"
     ]
    }
   ],
   "source": [
    "aspect_list = []\n",
    "for json_path in tqdm(json_paths):\n",
    "    with json_path.open(\"r\", encoding=\"UTF-8\") as fin:\n",
    "        annots = json.load(fin)\n",
    "    for annot_i, annot_x in enumerate(annots):        \n",
    "        aspects = cano.process_thread_annotations(annot_x)        \n",
    "        aspect_list.extend(aspects)"
   ]
  },
  {
   "cell_type": "code",
   "execution_count": 45,
   "metadata": {},
   "outputs": [
    {
     "data": {
      "text/plain": [
       "1401"
      ]
     },
     "execution_count": 45,
     "metadata": {},
     "output_type": "execute_result"
    }
   ],
   "source": [
    "len(aspect_list)"
   ]
  },
  {
   "cell_type": "code",
   "execution_count": 46,
   "metadata": {},
   "outputs": [],
   "source": [
    "import pandas as pd\n",
    "data_items = []\n",
    "for aspect_x in aspect_list:\n",
    "    batch_idx = aspect_x.batch_idx\n",
    "    thread_idx = aspect_x.thread_idx\n",
    "    serial = aspect_x.serial\n",
    "    aspect_tuple = aspect_x.make_tuple()\n",
    "    memo = aspect_x.memo\n",
    "    ent_rawtext = aspect_x.raw_text(cano.AspectEnum.Entity)\n",
    "    attr_rawtext = aspect_x.raw_text(cano.AspectEnum.Attribute)\n",
    "    is_context = aspect_x.has_context_only\n",
    "    if all(not x.strip() for x in aspect_tuple[0:3]):\n",
    "        continue\n",
    "    data_items.append((batch_idx, serial, thread_idx, is_context,\n",
    "                      *aspect_tuple, ent_rawtext, attr_rawtext))\n",
    "    "
   ]
  },
  {
   "cell_type": "code",
   "execution_count": 50,
   "metadata": {},
   "outputs": [],
   "source": [
    "aspect_df = pd.DataFrame(data_items, \n",
    "             columns=[\"batch_idx\", \"serial\", \"thread_idx\", \"is_context\", \"ent_norm\", \"attr_norm\", \"evaltext\", \n",
    "                      \"rating\", \"ent_rawtext\", \"attr_rawtext\"])\n",
    "aspect_df.to_csv(result_dir/f\"aspect_tuples_{TARGET_DIR}.2.csv\", encoding=\"UTF-8\", index=False)"
   ]
  },
  {
   "cell_type": "code",
   "execution_count": 51,
   "metadata": {},
   "outputs": [
    {
     "data": {
      "text/html": [
       "<div>\n",
       "<style scoped>\n",
       "    .dataframe tbody tr th:only-of-type {\n",
       "        vertical-align: middle;\n",
       "    }\n",
       "\n",
       "    .dataframe tbody tr th {\n",
       "        vertical-align: top;\n",
       "    }\n",
       "\n",
       "    .dataframe thead th {\n",
       "        text-align: right;\n",
       "    }\n",
       "</style>\n",
       "<table border=\"1\" class=\"dataframe\">\n",
       "  <thead>\n",
       "    <tr style=\"text-align: right;\">\n",
       "      <th></th>\n",
       "      <th>batch_idx</th>\n",
       "      <th>serial</th>\n",
       "      <th>thread_idx</th>\n",
       "      <th>is_context</th>\n",
       "      <th>ent_norm</th>\n",
       "      <th>attr_norm</th>\n",
       "      <th>evaltext</th>\n",
       "      <th>rating</th>\n",
       "      <th>ent_rawtext</th>\n",
       "      <th>attr_rawtext</th>\n",
       "    </tr>\n",
       "  </thead>\n",
       "  <tbody>\n",
       "    <tr>\n",
       "      <th>0</th>\n",
       "      <td>0</td>\n",
       "      <td>43</td>\n",
       "      <td>3260</td>\n",
       "      <td>True</td>\n",
       "      <td>臺灣之星</td>\n",
       "      <td>[通訊]頻段</td>\n",
       "      <td>台星的態度就是在等宿主台哥，逸以待勞，準備寄生。</td>\n",
       "      <td>1</td>\n",
       "      <td>台星的態度就是在等宿主台哥，逸以待勞，準備寄生。</td>\n",
       "      <td>台星的態度就是在等宿主台哥，逸以待勞，準備寄生。</td>\n",
       "    </tr>\n",
       "    <tr>\n",
       "      <th>1</th>\n",
       "      <td>0</td>\n",
       "      <td>7</td>\n",
       "      <td>281</td>\n",
       "      <td>False</td>\n",
       "      <td>中華電信</td>\n",
       "      <td>[通訊]國內電信漫遊</td>\n",
       "      <td>很可以</td>\n",
       "      <td>4</td>\n",
       "      <td>中華</td>\n",
       "      <td>訊號</td>\n",
       "    </tr>\n",
       "    <tr>\n",
       "      <th>2</th>\n",
       "      <td>0</td>\n",
       "      <td>13</td>\n",
       "      <td>932</td>\n",
       "      <td>False</td>\n",
       "      <td>臺灣之星</td>\n",
       "      <td>[通訊]網速</td>\n",
       "      <td>不限速卡上傳可</td>\n",
       "      <td>3</td>\n",
       "      <td>台星</td>\n",
       "      <td>21M</td>\n",
       "    </tr>\n",
       "    <tr>\n",
       "      <th>3</th>\n",
       "      <td>0</td>\n",
       "      <td>1</td>\n",
       "      <td>114</td>\n",
       "      <td>True</td>\n",
       "      <td>中華電信</td>\n",
       "      <td></td>\n",
       "      <td>中華、遠傳，蓋一座拆一座</td>\n",
       "      <td>1</td>\n",
       "      <td>中華、遠傳，蓋一座拆一座</td>\n",
       "      <td>中華、遠傳，蓋一座拆一座</td>\n",
       "    </tr>\n",
       "    <tr>\n",
       "      <th>4</th>\n",
       "      <td>0</td>\n",
       "      <td>10</td>\n",
       "      <td>674</td>\n",
       "      <td>False</td>\n",
       "      <td>臺灣大哥大</td>\n",
       "      <td>[通訊]國內電信漫遊</td>\n",
       "      <td>越來越爛</td>\n",
       "      <td>1</td>\n",
       "      <td>台灣大哥大</td>\n",
       "      <td>收訊</td>\n",
       "    </tr>\n",
       "    <tr>\n",
       "      <th>...</th>\n",
       "      <td>...</td>\n",
       "      <td>...</td>\n",
       "      <td>...</td>\n",
       "      <td>...</td>\n",
       "      <td>...</td>\n",
       "      <td>...</td>\n",
       "      <td>...</td>\n",
       "      <td>...</td>\n",
       "      <td>...</td>\n",
       "      <td>...</td>\n",
       "    </tr>\n",
       "    <tr>\n",
       "      <th>1394</th>\n",
       "      <td>6</td>\n",
       "      <td>38</td>\n",
       "      <td>2553</td>\n",
       "      <td>True</td>\n",
       "      <td>遠傳電信</td>\n",
       "      <td>[通訊]網速</td>\n",
       "      <td>遠傳超屌 客戶少了中華3百萬以上 頻寬跟中華只差10M Hz 平均來說 遠傳比中華快多了</td>\n",
       "      <td>5</td>\n",
       "      <td>遠傳超屌 客戶少了中華3百萬以上 頻寬跟中華只差10M Hz 平均來說 遠傳比中華快多了</td>\n",
       "      <td>遠傳超屌 客戶少了中華3百萬以上 頻寬跟中華只差10M Hz 平均來說 遠傳比中華快多了</td>\n",
       "    </tr>\n",
       "    <tr>\n",
       "      <th>1395</th>\n",
       "      <td>6</td>\n",
       "      <td>440</td>\n",
       "      <td>23817</td>\n",
       "      <td>True</td>\n",
       "      <td>中華電信</td>\n",
       "      <td>[資費]月租費</td>\n",
       "      <td>中華+台哥大合體 &amp; 在5G非吃到飽部分比較有創意</td>\n",
       "      <td>4</td>\n",
       "      <td>中華+台哥大合體 &amp; 在5G非吃到飽部分比較有創意</td>\n",
       "      <td>中華+台哥大合體 &amp; 在5G非吃到飽部分比較有創意</td>\n",
       "    </tr>\n",
       "    <tr>\n",
       "      <th>1396</th>\n",
       "      <td>6</td>\n",
       "      <td>36</td>\n",
       "      <td>2460</td>\n",
       "      <td>False</td>\n",
       "      <td>中華電信</td>\n",
       "      <td>[通訊]網速</td>\n",
       "      <td>很奇怪</td>\n",
       "      <td>2</td>\n",
       "      <td>中華電信</td>\n",
       "      <td>網路</td>\n",
       "    </tr>\n",
       "    <tr>\n",
       "      <th>1397</th>\n",
       "      <td>6</td>\n",
       "      <td>99</td>\n",
       "      <td>6196</td>\n",
       "      <td>False</td>\n",
       "      <td>中華電信</td>\n",
       "      <td>[通訊]涵蓋</td>\n",
       "      <td>比較好</td>\n",
       "      <td>4</td>\n",
       "      <td>中華</td>\n",
       "      <td>收訊</td>\n",
       "    </tr>\n",
       "    <tr>\n",
       "      <th>1398</th>\n",
       "      <td>6</td>\n",
       "      <td>46</td>\n",
       "      <td>2833</td>\n",
       "      <td>False</td>\n",
       "      <td>中華電信</td>\n",
       "      <td>[通訊]網速</td>\n",
       "      <td>還不錯欸沒有LAG問題</td>\n",
       "      <td>5</td>\n",
       "      <td>中華電信</td>\n",
       "      <td>5G</td>\n",
       "    </tr>\n",
       "  </tbody>\n",
       "</table>\n",
       "<p>1399 rows × 10 columns</p>\n",
       "</div>"
      ],
      "text/plain": [
       "      batch_idx  serial  thread_idx  is_context ent_norm   attr_norm  \\\n",
       "0             0      43        3260        True     臺灣之星      [通訊]頻段   \n",
       "1             0       7         281       False     中華電信  [通訊]國內電信漫遊   \n",
       "2             0      13         932       False     臺灣之星      [通訊]網速   \n",
       "3             0       1         114        True     中華電信               \n",
       "4             0      10         674       False    臺灣大哥大  [通訊]國內電信漫遊   \n",
       "...         ...     ...         ...         ...      ...         ...   \n",
       "1394          6      38        2553        True     遠傳電信      [通訊]網速   \n",
       "1395          6     440       23817        True     中華電信     [資費]月租費   \n",
       "1396          6      36        2460       False     中華電信      [通訊]網速   \n",
       "1397          6      99        6196       False     中華電信      [通訊]涵蓋   \n",
       "1398          6      46        2833       False     中華電信      [通訊]網速   \n",
       "\n",
       "                                          evaltext rating  \\\n",
       "0                         台星的態度就是在等宿主台哥，逸以待勞，準備寄生。      1   \n",
       "1                                              很可以      4   \n",
       "2                                          不限速卡上傳可      3   \n",
       "3                                     中華、遠傳，蓋一座拆一座      1   \n",
       "4                                             越來越爛      1   \n",
       "...                                            ...    ...   \n",
       "1394  遠傳超屌 客戶少了中華3百萬以上 頻寬跟中華只差10M Hz 平均來說 遠傳比中華快多了      5   \n",
       "1395                     中華+台哥大合體 & 在5G非吃到飽部分比較有創意      4   \n",
       "1396                                           很奇怪      2   \n",
       "1397                                           比較好      4   \n",
       "1398                                   還不錯欸沒有LAG問題      5   \n",
       "\n",
       "                                       ent_rawtext  \\\n",
       "0                         台星的態度就是在等宿主台哥，逸以待勞，準備寄生。   \n",
       "1                                               中華   \n",
       "2                                               台星   \n",
       "3                                     中華、遠傳，蓋一座拆一座   \n",
       "4                                            台灣大哥大   \n",
       "...                                            ...   \n",
       "1394  遠傳超屌 客戶少了中華3百萬以上 頻寬跟中華只差10M Hz 平均來說 遠傳比中華快多了   \n",
       "1395                     中華+台哥大合體 & 在5G非吃到飽部分比較有創意   \n",
       "1396                                          中華電信   \n",
       "1397                                            中華   \n",
       "1398                                          中華電信   \n",
       "\n",
       "                                      attr_rawtext  \n",
       "0                         台星的態度就是在等宿主台哥，逸以待勞，準備寄生。  \n",
       "1                                               訊號  \n",
       "2                                              21M  \n",
       "3                                     中華、遠傳，蓋一座拆一座  \n",
       "4                                               收訊  \n",
       "...                                            ...  \n",
       "1394  遠傳超屌 客戶少了中華3百萬以上 頻寬跟中華只差10M Hz 平均來說 遠傳比中華快多了  \n",
       "1395                     中華+台哥大合體 & 在5G非吃到飽部分比較有創意  \n",
       "1396                                            網路  \n",
       "1397                                            收訊  \n",
       "1398                                            5G  \n",
       "\n",
       "[1399 rows x 10 columns]"
      ]
     },
     "execution_count": 51,
     "metadata": {},
     "output_type": "execute_result"
    }
   ],
   "source": [
    "aspect_df"
   ]
  },
  {
   "cell_type": "code",
   "execution_count": 54,
   "metadata": {},
   "outputs": [
    {
     "data": {
      "text/plain": [
       "0     38\n",
       "1    484\n",
       "2    258\n",
       "3    136\n",
       "4    277\n",
       "5    142\n",
       "6     64\n",
       "Name: batch_idx, dtype: int64"
      ]
     },
     "execution_count": 54,
     "metadata": {},
     "output_type": "execute_result"
    }
   ],
   "source": [
    "aspect_df.batch_idx.value_counts().sort_index()"
   ]
  },
  {
   "cell_type": "code",
   "execution_count": 16,
   "metadata": {},
   "outputs": [
    {
     "data": {
      "text/plain": [
       "[9]"
      ]
     },
     "execution_count": 16,
     "metadata": {},
     "output_type": "execute_result"
    }
   ],
   "source": [
    "[x for x in range(100) if annots[x][\"data\"][\"thread_idx\"] == 16514]"
   ]
  },
  {
   "cell_type": "code",
   "execution_count": 20,
   "metadata": {},
   "outputs": [],
   "source": [
    "aa, dbg = cano.process_thread_annotations(annots[9], True)  "
   ]
  },
  {
   "cell_type": "code",
   "execution_count": 24,
   "metadata": {},
   "outputs": [
    {
     "data": {
      "text/plain": [
       "521"
      ]
     },
     "execution_count": 24,
     "metadata": {},
     "output_type": "execute_result"
    }
   ],
   "source": [
    "len(aspect_list)"
   ]
  },
  {
   "cell_type": "code",
   "execution_count": 25,
   "metadata": {},
   "outputs": [
    {
     "data": {
      "text/plain": [
       "('', '', '', -1)"
      ]
     },
     "execution_count": 25,
     "metadata": {},
     "output_type": "execute_result"
    }
   ],
   "source": [
    "aa[-1].make_tuple()"
   ]
  },
  {
   "cell_type": "code",
   "execution_count": null,
   "metadata": {},
   "outputs": [],
   "source": []
  }
 ],
 "metadata": {
  "kernelspec": {
   "display_name": "Python 3",
   "language": "python",
   "name": "python3"
  },
  "language_info": {
   "codemirror_mode": {
    "name": "ipython",
    "version": 3
   },
   "file_extension": ".py",
   "mimetype": "text/x-python",
   "name": "python",
   "nbconvert_exporter": "python",
   "pygments_lexer": "ipython3",
   "version": "3.8.2"
  }
 },
 "nbformat": 4,
 "nbformat_minor": 5
}

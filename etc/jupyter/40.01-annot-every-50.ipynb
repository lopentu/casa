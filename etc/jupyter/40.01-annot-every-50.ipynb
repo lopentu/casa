{
 "cells": [
  {
   "cell_type": "code",
   "execution_count": 35,
   "metadata": {},
   "outputs": [],
   "source": [
    "import requests\n",
    "import pandas as pd"
   ]
  },
  {
   "cell_type": "code",
   "execution_count": 26,
   "metadata": {},
   "outputs": [
    {
     "name": "stdout",
     "output_type": "stream",
     "text": [
      "annot counts:  100\n",
      "annot counts:  200\n",
      "annot counts:  300\n",
      "annot counts:  338\n",
      "annot counts:  338\n"
     ]
    }
   ],
   "source": [
    "annot = []\n",
    "flag = 1\n",
    "while flag:\n",
    "    search_params = dict(\n",
    "        sort=\"updated\",\n",
    "        limit=100,\n",
    "        search_after=annot[-1][\"updated\"] if annot else \"\",\n",
    "        uri=\"https://lopentu.github.io/casa/threads-sample-every50.html\"\n",
    "    )\n",
    "\n",
    "    resp = requests.get(\"https://api.hypothes.is/api/search\", params=search_params)\n",
    "    if resp.status_code == 200:\n",
    "        annot_data = resp.json()\n",
    "        rows = annot_data.get(\"rows\", [])\n",
    "        flag = len(rows)\n",
    "        annot.extend(rows)\n",
    "        print(\"annot counts: \", len(annot))        \n",
    "    else:\n",
    "        print(resp)    "
   ]
  },
  {
   "cell_type": "code",
   "execution_count": 28,
   "metadata": {},
   "outputs": [
    {
     "data": {
      "text/plain": [
       "{'id': 'EzIFsnauEeuSUpfUSvfWww',\n",
       " 'created': '2021-02-24T14:39:18.309138+00:00',\n",
       " 'updated': '2021-02-24T14:39:18.309138+00:00',\n",
       " 'user': 'acct:amy0118@hypothes.is',\n",
       " 'uri': 'https://lopentu.github.io/casa/threads-sample-every50.html',\n",
       " 'text': 'comparative',\n",
       " 'tags': [],\n",
       " 'group': '__world__',\n",
       " 'permissions': {'read': ['group:__world__'],\n",
       "  'admin': ['acct:amy0118@hypothes.is'],\n",
       "  'update': ['acct:amy0118@hypothes.is'],\n",
       "  'delete': ['acct:amy0118@hypothes.is']},\n",
       " 'target': [{'source': 'https://lopentu.github.io/casa/threads-sample-every50.html',\n",
       "   'selector': [{'type': 'RangeSelector',\n",
       "     'endOffset': 21,\n",
       "     'startOffset': 1,\n",
       "     'endContainer': '/div[1]/div[371]/ol[1]/li[1]',\n",
       "     'startContainer': '/div[1]/div[371]/ol[1]/li[1]'},\n",
       "    {'end': 153721, 'type': 'TextPositionSelector', 'start': 153701},\n",
       "    {'type': 'TextQuoteSelector',\n",
       "     'exact': '基地台數多又怎樣我家這邊中華比亞太還爛！',\n",
       "     'prefix': 't Jun  6 12:31:01 2020\\n(無主文)\\n   ',\n",
       "     'suffix': '  \\n  \\n   台灣有10億人口吧，光中華電信1000萬用戶，'}]}],\n",
       " 'document': {},\n",
       " 'links': {'html': 'https://hypothes.is/a/EzIFsnauEeuSUpfUSvfWww',\n",
       "  'incontext': 'https://hyp.is/EzIFsnauEeuSUpfUSvfWww/lopentu.github.io/casa/threads-sample-every50.html',\n",
       "  'json': 'https://hypothes.is/api/annotations/EzIFsnauEeuSUpfUSvfWww'},\n",
       " 'flagged': False,\n",
       " 'hidden': False,\n",
       " 'user_info': {'display_name': None}}"
      ]
     },
     "execution_count": 28,
     "metadata": {},
     "output_type": "execute_result"
    }
   ],
   "source": [
    "annot[0]"
   ]
  },
  {
   "cell_type": "code",
   "execution_count": 78,
   "metadata": {},
   "outputs": [],
   "source": [
    "def get_quote(entry):\n",
    "    target = entry.get(\"target\", [])[0]    \n",
    "    selectors = target.get(\"selector\", [])\n",
    "    for x in selectors:\n",
    "        if x[\"type\"] == \"TextQuoteSelector\":\n",
    "            return x[\"exact\"]\n",
    "    return \"\"\n",
    "\n",
    "def get_div_id(entry):\n",
    "    target = entry.get(\"target\", [])[0]    \n",
    "    selectors = target.get(\"selector\", [])\n",
    "    for x in selectors:\n",
    "        if x[\"type\"] == \"RangeSelector\":\n",
    "            try:\n",
    "                return int(x[\"startContainer\"].split(\"/\")[2][4:-1])\n",
    "            except:\n",
    "                return -1\n",
    "    return -1\n",
    "\n",
    "def get_fields(entry):\n",
    "    user = entry.get(\"user\", \"\").split(\":\")[1].split(\"@\")[0]\n",
    "    exact = get_quote(entry)\n",
    "    div_id = get_div_id(entry)\n",
    "    text = entry.get(\"text\", \"\")\n",
    "    return (div_id, user, exact, text)\n",
    "annot_frame = pd.DataFrame(list(map(get_fields, annot)), columns=[\"id\", \"annoter\", \"quote\", \"annot_text\"])\n",
    "annot_frame = annot_frame.loc[annot_frame.id>=0, :]\\\n",
    "                .loc[annot_frame.annoter != \"seantyh\"]\\\n",
    "                .sort_values(\"id\")\\\n",
    "                .reset_index(drop=True)\n",
    "annot_frame[\"function\"] = annot_frame.annot_text.str.extract(\"(eval|comp)\")\n",
    "annot_frame[\"is_not_cht\"] = annot_frame.annot_text.str.find(\"非中華\") >= 0"
   ]
  },
  {
   "cell_type": "code",
   "execution_count": 79,
   "metadata": {},
   "outputs": [
    {
     "data": {
      "text/html": [
       "<div>\n",
       "<style scoped>\n",
       "    .dataframe tbody tr th:only-of-type {\n",
       "        vertical-align: middle;\n",
       "    }\n",
       "\n",
       "    .dataframe tbody tr th {\n",
       "        vertical-align: top;\n",
       "    }\n",
       "\n",
       "    .dataframe thead th {\n",
       "        text-align: right;\n",
       "    }\n",
       "</style>\n",
       "<table border=\"1\" class=\"dataframe\">\n",
       "  <thead>\n",
       "    <tr style=\"text-align: right;\">\n",
       "      <th></th>\n",
       "      <th>id</th>\n",
       "      <th>annoter</th>\n",
       "      <th>quote</th>\n",
       "      <th>annot_text</th>\n",
       "      <th>function</th>\n",
       "      <th>is_not_cht</th>\n",
       "    </tr>\n",
       "  </thead>\n",
       "  <tbody>\n",
       "    <tr>\n",
       "      <th>0</th>\n",
       "      <td>4</td>\n",
       "      <td>amy0118</td>\n",
       "      <td>中華訊號是還算可以</td>\n",
       "      <td>evaluative</td>\n",
       "      <td>eval</td>\n",
       "      <td>False</td>\n",
       "    </tr>\n",
       "    <tr>\n",
       "      <th>1</th>\n",
       "      <td>4</td>\n",
       "      <td>amy0118</td>\n",
       "      <td>用起來都一樣。之前有人測試過，流量達到 1TB降速</td>\n",
       "      <td>comparative?</td>\n",
       "      <td>comp</td>\n",
       "      <td>False</td>\n",
       "    </tr>\n",
       "    <tr>\n",
       "      <th>2</th>\n",
       "      <td>10</td>\n",
       "      <td>amy0118</td>\n",
       "      <td>電信業者</td>\n",
       "      <td>不知道是不是有「電信業者」這類的關鍵字就都會被抓下來？(像這篇其實完全無關，只講到遠傳</td>\n",
       "      <td>NaN</td>\n",
       "      <td>False</td>\n",
       "    </tr>\n",
       "    <tr>\n",
       "      <th>3</th>\n",
       "      <td>18</td>\n",
       "      <td>amy0118</td>\n",
       "      <td>中華起碼要5.5萬基地台以上才夠拚，3萬確實有點少。  \\n   中華電信用戶這麼多基地台還...</td>\n",
       "      <td>細看可算是evaluative，但整體是comparative (基地台數目、用戶/基地台比...</td>\n",
       "      <td>eval</td>\n",
       "      <td>False</td>\n",
       "    </tr>\n",
       "    <tr>\n",
       "      <th>4</th>\n",
       "      <td>25</td>\n",
       "      <td>amy0118</td>\n",
       "      <td>永遠記得韓國都5G了！我們中華電信怎麼不是8G，還在搞4G</td>\n",
       "      <td>evaluative</td>\n",
       "      <td>eval</td>\n",
       "      <td>False</td>\n",
       "    </tr>\n",
       "    <tr>\n",
       "      <th>...</th>\n",
       "      <td>...</td>\n",
       "      <td>...</td>\n",
       "      <td>...</td>\n",
       "      <td>...</td>\n",
       "      <td>...</td>\n",
       "      <td>...</td>\n",
       "    </tr>\n",
       "    <tr>\n",
       "      <th>325</th>\n",
       "      <td>1117</td>\n",
       "      <td>andreashih</td>\n",
       "      <td>這三家要比的話我覺得亞太OK 如果都在市區更沒問題\\n   我平常在台北市區走跳 覺得亞太訊號還行</td>\n",
       "      <td>evaluative (非中華)</td>\n",
       "      <td>eval</td>\n",
       "      <td>True</td>\n",
       "    </tr>\n",
       "    <tr>\n",
       "      <th>326</th>\n",
       "      <td>1117</td>\n",
       "      <td>andreashih</td>\n",
       "      <td>收訊不錯的話 亞太CP值應該更好</td>\n",
       "      <td>evaluative (非中華)</td>\n",
       "      <td>eval</td>\n",
       "      <td>True</td>\n",
       "    </tr>\n",
       "    <tr>\n",
       "      <th>327</th>\n",
       "      <td>1119</td>\n",
       "      <td>andreashih</td>\n",
       "      <td>當然選亞太啦~資費便宜，收訊也不錯而且亞太5G是和遠傳合作當然選CP值高的呀</td>\n",
       "      <td>evaluative (非中華)</td>\n",
       "      <td>eval</td>\n",
       "      <td>True</td>\n",
       "    </tr>\n",
       "    <tr>\n",
       "      <th>328</th>\n",
       "      <td>1119</td>\n",
       "      <td>andreashih</td>\n",
       "      <td>亞太的資費CP值一直都滿好的\\n   我的生活圈亞太收訊也不錯</td>\n",
       "      <td>evaluative (非中華)</td>\n",
       "      <td>eval</td>\n",
       "      <td>True</td>\n",
       "    </tr>\n",
       "    <tr>\n",
       "      <th>329</th>\n",
       "      <td>1119</td>\n",
       "      <td>andreashih</td>\n",
       "      <td>亞太我就覺得它的cp值很高</td>\n",
       "      <td>evaluative (非中華)</td>\n",
       "      <td>eval</td>\n",
       "      <td>True</td>\n",
       "    </tr>\n",
       "  </tbody>\n",
       "</table>\n",
       "<p>330 rows × 6 columns</p>\n",
       "</div>"
      ],
      "text/plain": [
       "       id     annoter                                              quote  \\\n",
       "0       4     amy0118                                          中華訊號是還算可以   \n",
       "1       4     amy0118                          用起來都一樣。之前有人測試過，流量達到 1TB降速   \n",
       "2      10     amy0118                                               電信業者   \n",
       "3      18     amy0118  中華起碼要5.5萬基地台以上才夠拚，3萬確實有點少。  \\n   中華電信用戶這麼多基地台還...   \n",
       "4      25     amy0118                      永遠記得韓國都5G了！我們中華電信怎麼不是8G，還在搞4G   \n",
       "..    ...         ...                                                ...   \n",
       "325  1117  andreashih  這三家要比的話我覺得亞太OK 如果都在市區更沒問題\\n   我平常在台北市區走跳 覺得亞太訊號還行   \n",
       "326  1117  andreashih                                   收訊不錯的話 亞太CP值應該更好   \n",
       "327  1119  andreashih             當然選亞太啦~資費便宜，收訊也不錯而且亞太5G是和遠傳合作當然選CP值高的呀   \n",
       "328  1119  andreashih                    亞太的資費CP值一直都滿好的\\n   我的生活圈亞太收訊也不錯   \n",
       "329  1119  andreashih                                      亞太我就覺得它的cp值很高   \n",
       "\n",
       "                                            annot_text function  is_not_cht  \n",
       "0                                           evaluative     eval       False  \n",
       "1                                         comparative?     comp       False  \n",
       "2          不知道是不是有「電信業者」這類的關鍵字就都會被抓下來？(像這篇其實完全無關，只講到遠傳      NaN       False  \n",
       "3    細看可算是evaluative，但整體是comparative (基地台數目、用戶/基地台比...     eval       False  \n",
       "4                                          evaluative      eval       False  \n",
       "..                                                 ...      ...         ...  \n",
       "325                                   evaluative (非中華)     eval        True  \n",
       "326                                   evaluative (非中華)     eval        True  \n",
       "327                                   evaluative (非中華)     eval        True  \n",
       "328                                   evaluative (非中華)     eval        True  \n",
       "329                                   evaluative (非中華)     eval        True  \n",
       "\n",
       "[330 rows x 6 columns]"
      ]
     },
     "execution_count": 79,
     "metadata": {},
     "output_type": "execute_result"
    }
   ],
   "source": [
    "annot_frame"
   ]
  },
  {
   "cell_type": "code",
   "execution_count": 80,
   "metadata": {},
   "outputs": [
    {
     "data": {
      "text/plain": [
       "eval    222\n",
       "comp     97\n",
       "NaN      11\n",
       "Name: function, dtype: int64"
      ]
     },
     "execution_count": 80,
     "metadata": {},
     "output_type": "execute_result"
    }
   ],
   "source": [
    "annot_frame.function.value_counts(dropna=False)"
   ]
  },
  {
   "cell_type": "code",
   "execution_count": 87,
   "metadata": {},
   "outputs": [
    {
     "data": {
      "text/html": [
       "<div>\n",
       "<style scoped>\n",
       "    .dataframe tbody tr th:only-of-type {\n",
       "        vertical-align: middle;\n",
       "    }\n",
       "\n",
       "    .dataframe tbody tr th {\n",
       "        vertical-align: top;\n",
       "    }\n",
       "\n",
       "    .dataframe thead th {\n",
       "        text-align: right;\n",
       "    }\n",
       "</style>\n",
       "<table border=\"1\" class=\"dataframe\">\n",
       "  <thead>\n",
       "    <tr style=\"text-align: right;\">\n",
       "      <th>function</th>\n",
       "      <th>comp</th>\n",
       "      <th>eval</th>\n",
       "    </tr>\n",
       "    <tr>\n",
       "      <th>annoter</th>\n",
       "      <th></th>\n",
       "      <th></th>\n",
       "    </tr>\n",
       "  </thead>\n",
       "  <tbody>\n",
       "    <tr>\n",
       "      <th>NanaYang</th>\n",
       "      <td>47</td>\n",
       "      <td>113</td>\n",
       "    </tr>\n",
       "    <tr>\n",
       "      <th>amy0118</th>\n",
       "      <td>34</td>\n",
       "      <td>64</td>\n",
       "    </tr>\n",
       "    <tr>\n",
       "      <th>andreashih</th>\n",
       "      <td>16</td>\n",
       "      <td>45</td>\n",
       "    </tr>\n",
       "  </tbody>\n",
       "</table>\n",
       "</div>"
      ],
      "text/plain": [
       "function    comp  eval\n",
       "annoter               \n",
       "NanaYang      47   113\n",
       "amy0118       34    64\n",
       "andreashih    16    45"
      ]
     },
     "execution_count": 87,
     "metadata": {},
     "output_type": "execute_result"
    }
   ],
   "source": [
    "annot_frame.pivot_table(index=[\"annoter\"], columns=[\"function\"], values=\"id\", aggfunc=len, dropna=False)"
   ]
  },
  {
   "cell_type": "code",
   "execution_count": 81,
   "metadata": {},
   "outputs": [],
   "source": [
    "annot_frame.to_csv(\"../../data/annot-every-50.csv\", encoding=\"UTF-8\", index=False)"
   ]
  },
  {
   "cell_type": "code",
   "execution_count": 76,
   "metadata": {},
   "outputs": [
    {
     "data": {
      "text/plain": [
       "(0.19803746654772525, 0.08652988403211419)"
      ]
     },
     "execution_count": 76,
     "metadata": {},
     "output_type": "execute_result"
    }
   ],
   "source": [
    "222/1121, 97/1121"
   ]
  },
  {
   "cell_type": "markdown",
   "metadata": {},
   "source": [
    "全部1121，其中222(20%)是eval，97(9%)是comparative"
   ]
  },
  {
   "cell_type": "code",
   "execution_count": null,
   "metadata": {},
   "outputs": [],
   "source": []
  }
 ],
 "metadata": {
  "kernelspec": {
   "display_name": "Python 3",
   "language": "python",
   "name": "python3"
  },
  "language_info": {
   "codemirror_mode": {
    "name": "ipython",
    "version": 3
   },
   "file_extension": ".py",
   "mimetype": "text/x-python",
   "name": "python",
   "nbconvert_exporter": "python",
   "pygments_lexer": "ipython3",
   "version": "3.8.2"
  }
 },
 "nbformat": 4,
 "nbformat_minor": 4
}

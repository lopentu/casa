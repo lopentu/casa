{
  "nbformat": 4,
  "nbformat_minor": 0,
  "metadata": {
    "colab": {
      "name": "100.01_coarse_pred.ipynb",
      "provenance": [],
      "collapsed_sections": [
        "0_QB1R59ZcCz",
        "mWjrOayvQrP6",
        "qp0mrftyQvpe",
        "e-8cfk_Yeke3",
        "2SFVJhmrWP7o",
        "xFaF1FqIqnDI",
        "MzQPk-g1Kjl0"
      ]
    },
    "kernelspec": {
      "name": "python3",
      "display_name": "Python 3"
    },
    "language_info": {
      "name": "python"
    },
    "accelerator": "GPU",
    "widgets": {
      "application/vnd.jupyter.widget-state+json": {
        "67a39499f5a9471ab2df7ffbaa83004b": {
          "model_module": "@jupyter-widgets/controls",
          "model_name": "HBoxModel",
          "state": {
            "_view_name": "HBoxView",
            "_dom_classes": [],
            "_model_name": "HBoxModel",
            "_view_module": "@jupyter-widgets/controls",
            "_model_module_version": "1.5.0",
            "_view_count": null,
            "_view_module_version": "1.5.0",
            "box_style": "",
            "layout": "IPY_MODEL_7b0e7689095c42e18840c7f8387c7675",
            "_model_module": "@jupyter-widgets/controls",
            "children": [
              "IPY_MODEL_8807a669f7f04614a0b04d2f658d40a8",
              "IPY_MODEL_c7d19e5115634500b9f1aabb913c70e4"
            ]
          }
        },
        "7b0e7689095c42e18840c7f8387c7675": {
          "model_module": "@jupyter-widgets/base",
          "model_name": "LayoutModel",
          "state": {
            "_view_name": "LayoutView",
            "grid_template_rows": null,
            "right": null,
            "justify_content": null,
            "_view_module": "@jupyter-widgets/base",
            "overflow": null,
            "_model_module_version": "1.2.0",
            "_view_count": null,
            "flex_flow": null,
            "width": null,
            "min_width": null,
            "border": null,
            "align_items": null,
            "bottom": null,
            "_model_module": "@jupyter-widgets/base",
            "top": null,
            "grid_column": null,
            "overflow_y": null,
            "overflow_x": null,
            "grid_auto_flow": null,
            "grid_area": null,
            "grid_template_columns": null,
            "flex": null,
            "_model_name": "LayoutModel",
            "justify_items": null,
            "grid_row": null,
            "max_height": null,
            "align_content": null,
            "visibility": null,
            "align_self": null,
            "height": null,
            "min_height": null,
            "padding": null,
            "grid_auto_rows": null,
            "grid_gap": null,
            "max_width": null,
            "order": null,
            "_view_module_version": "1.2.0",
            "grid_template_areas": null,
            "object_position": null,
            "object_fit": null,
            "grid_auto_columns": null,
            "margin": null,
            "display": null,
            "left": null
          }
        },
        "8807a669f7f04614a0b04d2f658d40a8": {
          "model_module": "@jupyter-widgets/controls",
          "model_name": "FloatProgressModel",
          "state": {
            "_view_name": "ProgressView",
            "style": "IPY_MODEL_dc2189ae6c004d29a0dccad48a3a09a2",
            "_dom_classes": [],
            "description": "Downloading: 100%",
            "_model_name": "FloatProgressModel",
            "bar_style": "success",
            "max": 109540,
            "_view_module": "@jupyter-widgets/controls",
            "_model_module_version": "1.5.0",
            "value": 109540,
            "_view_count": null,
            "_view_module_version": "1.5.0",
            "orientation": "horizontal",
            "min": 0,
            "description_tooltip": null,
            "_model_module": "@jupyter-widgets/controls",
            "layout": "IPY_MODEL_ea8ced92866f4715bf83c6d7c62927df"
          }
        },
        "c7d19e5115634500b9f1aabb913c70e4": {
          "model_module": "@jupyter-widgets/controls",
          "model_name": "HTMLModel",
          "state": {
            "_view_name": "HTMLView",
            "style": "IPY_MODEL_6788abf0e46246e795531f12b195698c",
            "_dom_classes": [],
            "description": "",
            "_model_name": "HTMLModel",
            "placeholder": "​",
            "_view_module": "@jupyter-widgets/controls",
            "_model_module_version": "1.5.0",
            "value": " 110k/110k [00:04&lt;00:00, 22.6kB/s]",
            "_view_count": null,
            "_view_module_version": "1.5.0",
            "description_tooltip": null,
            "_model_module": "@jupyter-widgets/controls",
            "layout": "IPY_MODEL_30d964be1fe8486c869ce0d6f68ca5f4"
          }
        },
        "dc2189ae6c004d29a0dccad48a3a09a2": {
          "model_module": "@jupyter-widgets/controls",
          "model_name": "ProgressStyleModel",
          "state": {
            "_view_name": "StyleView",
            "_model_name": "ProgressStyleModel",
            "description_width": "initial",
            "_view_module": "@jupyter-widgets/base",
            "_model_module_version": "1.5.0",
            "_view_count": null,
            "_view_module_version": "1.2.0",
            "bar_color": null,
            "_model_module": "@jupyter-widgets/controls"
          }
        },
        "ea8ced92866f4715bf83c6d7c62927df": {
          "model_module": "@jupyter-widgets/base",
          "model_name": "LayoutModel",
          "state": {
            "_view_name": "LayoutView",
            "grid_template_rows": null,
            "right": null,
            "justify_content": null,
            "_view_module": "@jupyter-widgets/base",
            "overflow": null,
            "_model_module_version": "1.2.0",
            "_view_count": null,
            "flex_flow": null,
            "width": null,
            "min_width": null,
            "border": null,
            "align_items": null,
            "bottom": null,
            "_model_module": "@jupyter-widgets/base",
            "top": null,
            "grid_column": null,
            "overflow_y": null,
            "overflow_x": null,
            "grid_auto_flow": null,
            "grid_area": null,
            "grid_template_columns": null,
            "flex": null,
            "_model_name": "LayoutModel",
            "justify_items": null,
            "grid_row": null,
            "max_height": null,
            "align_content": null,
            "visibility": null,
            "align_self": null,
            "height": null,
            "min_height": null,
            "padding": null,
            "grid_auto_rows": null,
            "grid_gap": null,
            "max_width": null,
            "order": null,
            "_view_module_version": "1.2.0",
            "grid_template_areas": null,
            "object_position": null,
            "object_fit": null,
            "grid_auto_columns": null,
            "margin": null,
            "display": null,
            "left": null
          }
        },
        "6788abf0e46246e795531f12b195698c": {
          "model_module": "@jupyter-widgets/controls",
          "model_name": "DescriptionStyleModel",
          "state": {
            "_view_name": "StyleView",
            "_model_name": "DescriptionStyleModel",
            "description_width": "",
            "_view_module": "@jupyter-widgets/base",
            "_model_module_version": "1.5.0",
            "_view_count": null,
            "_view_module_version": "1.2.0",
            "_model_module": "@jupyter-widgets/controls"
          }
        },
        "30d964be1fe8486c869ce0d6f68ca5f4": {
          "model_module": "@jupyter-widgets/base",
          "model_name": "LayoutModel",
          "state": {
            "_view_name": "LayoutView",
            "grid_template_rows": null,
            "right": null,
            "justify_content": null,
            "_view_module": "@jupyter-widgets/base",
            "overflow": null,
            "_model_module_version": "1.2.0",
            "_view_count": null,
            "flex_flow": null,
            "width": null,
            "min_width": null,
            "border": null,
            "align_items": null,
            "bottom": null,
            "_model_module": "@jupyter-widgets/base",
            "top": null,
            "grid_column": null,
            "overflow_y": null,
            "overflow_x": null,
            "grid_auto_flow": null,
            "grid_area": null,
            "grid_template_columns": null,
            "flex": null,
            "_model_name": "LayoutModel",
            "justify_items": null,
            "grid_row": null,
            "max_height": null,
            "align_content": null,
            "visibility": null,
            "align_self": null,
            "height": null,
            "min_height": null,
            "padding": null,
            "grid_auto_rows": null,
            "grid_gap": null,
            "max_width": null,
            "order": null,
            "_view_module_version": "1.2.0",
            "grid_template_areas": null,
            "object_position": null,
            "object_fit": null,
            "grid_auto_columns": null,
            "margin": null,
            "display": null,
            "left": null
          }
        },
        "6232db0e32c6445ba01e4396499e1262": {
          "model_module": "@jupyter-widgets/controls",
          "model_name": "HBoxModel",
          "state": {
            "_view_name": "HBoxView",
            "_dom_classes": [],
            "_model_name": "HBoxModel",
            "_view_module": "@jupyter-widgets/controls",
            "_model_module_version": "1.5.0",
            "_view_count": null,
            "_view_module_version": "1.5.0",
            "box_style": "",
            "layout": "IPY_MODEL_cc5a41962de94ffc81368a2e90050363",
            "_model_module": "@jupyter-widgets/controls",
            "children": [
              "IPY_MODEL_8322aaf8e67a440cbb14f9459bb19857",
              "IPY_MODEL_32a69f72491b47d8b085e46620d6e149"
            ]
          }
        },
        "cc5a41962de94ffc81368a2e90050363": {
          "model_module": "@jupyter-widgets/base",
          "model_name": "LayoutModel",
          "state": {
            "_view_name": "LayoutView",
            "grid_template_rows": null,
            "right": null,
            "justify_content": null,
            "_view_module": "@jupyter-widgets/base",
            "overflow": null,
            "_model_module_version": "1.2.0",
            "_view_count": null,
            "flex_flow": null,
            "width": null,
            "min_width": null,
            "border": null,
            "align_items": null,
            "bottom": null,
            "_model_module": "@jupyter-widgets/base",
            "top": null,
            "grid_column": null,
            "overflow_y": null,
            "overflow_x": null,
            "grid_auto_flow": null,
            "grid_area": null,
            "grid_template_columns": null,
            "flex": null,
            "_model_name": "LayoutModel",
            "justify_items": null,
            "grid_row": null,
            "max_height": null,
            "align_content": null,
            "visibility": null,
            "align_self": null,
            "height": null,
            "min_height": null,
            "padding": null,
            "grid_auto_rows": null,
            "grid_gap": null,
            "max_width": null,
            "order": null,
            "_view_module_version": "1.2.0",
            "grid_template_areas": null,
            "object_position": null,
            "object_fit": null,
            "grid_auto_columns": null,
            "margin": null,
            "display": null,
            "left": null
          }
        },
        "8322aaf8e67a440cbb14f9459bb19857": {
          "model_module": "@jupyter-widgets/controls",
          "model_name": "FloatProgressModel",
          "state": {
            "_view_name": "ProgressView",
            "style": "IPY_MODEL_890297e095354515bb10ca2b9fefd9be",
            "_dom_classes": [],
            "description": "Downloading: 100%",
            "_model_name": "FloatProgressModel",
            "bar_style": "success",
            "max": 268943,
            "_view_module": "@jupyter-widgets/controls",
            "_model_module_version": "1.5.0",
            "value": 268943,
            "_view_count": null,
            "_view_module_version": "1.5.0",
            "orientation": "horizontal",
            "min": 0,
            "description_tooltip": null,
            "_model_module": "@jupyter-widgets/controls",
            "layout": "IPY_MODEL_cf72cf286d054d6dac3675a8fdcbbcf5"
          }
        },
        "32a69f72491b47d8b085e46620d6e149": {
          "model_module": "@jupyter-widgets/controls",
          "model_name": "HTMLModel",
          "state": {
            "_view_name": "HTMLView",
            "style": "IPY_MODEL_157853baa7dc49dfa205906fb7f0fe9c",
            "_dom_classes": [],
            "description": "",
            "_model_name": "HTMLModel",
            "placeholder": "​",
            "_view_module": "@jupyter-widgets/controls",
            "_model_module_version": "1.5.0",
            "value": " 269k/269k [00:03&lt;00:00, 79.9kB/s]",
            "_view_count": null,
            "_view_module_version": "1.5.0",
            "description_tooltip": null,
            "_model_module": "@jupyter-widgets/controls",
            "layout": "IPY_MODEL_7fa6c3c35ba144e08691291f3e7351b2"
          }
        },
        "890297e095354515bb10ca2b9fefd9be": {
          "model_module": "@jupyter-widgets/controls",
          "model_name": "ProgressStyleModel",
          "state": {
            "_view_name": "StyleView",
            "_model_name": "ProgressStyleModel",
            "description_width": "initial",
            "_view_module": "@jupyter-widgets/base",
            "_model_module_version": "1.5.0",
            "_view_count": null,
            "_view_module_version": "1.2.0",
            "bar_color": null,
            "_model_module": "@jupyter-widgets/controls"
          }
        },
        "cf72cf286d054d6dac3675a8fdcbbcf5": {
          "model_module": "@jupyter-widgets/base",
          "model_name": "LayoutModel",
          "state": {
            "_view_name": "LayoutView",
            "grid_template_rows": null,
            "right": null,
            "justify_content": null,
            "_view_module": "@jupyter-widgets/base",
            "overflow": null,
            "_model_module_version": "1.2.0",
            "_view_count": null,
            "flex_flow": null,
            "width": null,
            "min_width": null,
            "border": null,
            "align_items": null,
            "bottom": null,
            "_model_module": "@jupyter-widgets/base",
            "top": null,
            "grid_column": null,
            "overflow_y": null,
            "overflow_x": null,
            "grid_auto_flow": null,
            "grid_area": null,
            "grid_template_columns": null,
            "flex": null,
            "_model_name": "LayoutModel",
            "justify_items": null,
            "grid_row": null,
            "max_height": null,
            "align_content": null,
            "visibility": null,
            "align_self": null,
            "height": null,
            "min_height": null,
            "padding": null,
            "grid_auto_rows": null,
            "grid_gap": null,
            "max_width": null,
            "order": null,
            "_view_module_version": "1.2.0",
            "grid_template_areas": null,
            "object_position": null,
            "object_fit": null,
            "grid_auto_columns": null,
            "margin": null,
            "display": null,
            "left": null
          }
        },
        "157853baa7dc49dfa205906fb7f0fe9c": {
          "model_module": "@jupyter-widgets/controls",
          "model_name": "DescriptionStyleModel",
          "state": {
            "_view_name": "StyleView",
            "_model_name": "DescriptionStyleModel",
            "description_width": "",
            "_view_module": "@jupyter-widgets/base",
            "_model_module_version": "1.5.0",
            "_view_count": null,
            "_view_module_version": "1.2.0",
            "_model_module": "@jupyter-widgets/controls"
          }
        },
        "7fa6c3c35ba144e08691291f3e7351b2": {
          "model_module": "@jupyter-widgets/base",
          "model_name": "LayoutModel",
          "state": {
            "_view_name": "LayoutView",
            "grid_template_rows": null,
            "right": null,
            "justify_content": null,
            "_view_module": "@jupyter-widgets/base",
            "overflow": null,
            "_model_module_version": "1.2.0",
            "_view_count": null,
            "flex_flow": null,
            "width": null,
            "min_width": null,
            "border": null,
            "align_items": null,
            "bottom": null,
            "_model_module": "@jupyter-widgets/base",
            "top": null,
            "grid_column": null,
            "overflow_y": null,
            "overflow_x": null,
            "grid_auto_flow": null,
            "grid_area": null,
            "grid_template_columns": null,
            "flex": null,
            "_model_name": "LayoutModel",
            "justify_items": null,
            "grid_row": null,
            "max_height": null,
            "align_content": null,
            "visibility": null,
            "align_self": null,
            "height": null,
            "min_height": null,
            "padding": null,
            "grid_auto_rows": null,
            "grid_gap": null,
            "max_width": null,
            "order": null,
            "_view_module_version": "1.2.0",
            "grid_template_areas": null,
            "object_position": null,
            "object_fit": null,
            "grid_auto_columns": null,
            "margin": null,
            "display": null,
            "left": null
          }
        },
        "da5c2fe628bc4fcd8177127448ce4c57": {
          "model_module": "@jupyter-widgets/controls",
          "model_name": "HBoxModel",
          "state": {
            "_view_name": "HBoxView",
            "_dom_classes": [],
            "_model_name": "HBoxModel",
            "_view_module": "@jupyter-widgets/controls",
            "_model_module_version": "1.5.0",
            "_view_count": null,
            "_view_module_version": "1.5.0",
            "box_style": "",
            "layout": "IPY_MODEL_95f10a8fc1f14899aeba4b2cca4405cb",
            "_model_module": "@jupyter-widgets/controls",
            "children": [
              "IPY_MODEL_ee960ee98a6f47af9f4477693bd51d60",
              "IPY_MODEL_fe12bb4ddf8040d4b315f450e9a944f0"
            ]
          }
        },
        "95f10a8fc1f14899aeba4b2cca4405cb": {
          "model_module": "@jupyter-widgets/base",
          "model_name": "LayoutModel",
          "state": {
            "_view_name": "LayoutView",
            "grid_template_rows": null,
            "right": null,
            "justify_content": null,
            "_view_module": "@jupyter-widgets/base",
            "overflow": null,
            "_model_module_version": "1.2.0",
            "_view_count": null,
            "flex_flow": null,
            "width": null,
            "min_width": null,
            "border": null,
            "align_items": null,
            "bottom": null,
            "_model_module": "@jupyter-widgets/base",
            "top": null,
            "grid_column": null,
            "overflow_y": null,
            "overflow_x": null,
            "grid_auto_flow": null,
            "grid_area": null,
            "grid_template_columns": null,
            "flex": null,
            "_model_name": "LayoutModel",
            "justify_items": null,
            "grid_row": null,
            "max_height": null,
            "align_content": null,
            "visibility": null,
            "align_self": null,
            "height": null,
            "min_height": null,
            "padding": null,
            "grid_auto_rows": null,
            "grid_gap": null,
            "max_width": null,
            "order": null,
            "_view_module_version": "1.2.0",
            "grid_template_areas": null,
            "object_position": null,
            "object_fit": null,
            "grid_auto_columns": null,
            "margin": null,
            "display": null,
            "left": null
          }
        },
        "ee960ee98a6f47af9f4477693bd51d60": {
          "model_module": "@jupyter-widgets/controls",
          "model_name": "FloatProgressModel",
          "state": {
            "_view_name": "ProgressView",
            "style": "IPY_MODEL_dec41bc75e154f1797dcd36cb967ba87",
            "_dom_classes": [],
            "description": "Downloading: 100%",
            "_model_name": "FloatProgressModel",
            "bar_style": "success",
            "max": 29,
            "_view_module": "@jupyter-widgets/controls",
            "_model_module_version": "1.5.0",
            "value": 29,
            "_view_count": null,
            "_view_module_version": "1.5.0",
            "orientation": "horizontal",
            "min": 0,
            "description_tooltip": null,
            "_model_module": "@jupyter-widgets/controls",
            "layout": "IPY_MODEL_87c36f46337d4f768ee99f720633acf0"
          }
        },
        "fe12bb4ddf8040d4b315f450e9a944f0": {
          "model_module": "@jupyter-widgets/controls",
          "model_name": "HTMLModel",
          "state": {
            "_view_name": "HTMLView",
            "style": "IPY_MODEL_030df87870e54d8d8fa3462314115b49",
            "_dom_classes": [],
            "description": "",
            "_model_name": "HTMLModel",
            "placeholder": "​",
            "_view_module": "@jupyter-widgets/controls",
            "_model_module_version": "1.5.0",
            "value": " 29.0/29.0 [00:01&lt;00:00, 15.8B/s]",
            "_view_count": null,
            "_view_module_version": "1.5.0",
            "description_tooltip": null,
            "_model_module": "@jupyter-widgets/controls",
            "layout": "IPY_MODEL_46ed81452b3b47c1b8696e6ab7ab3375"
          }
        },
        "dec41bc75e154f1797dcd36cb967ba87": {
          "model_module": "@jupyter-widgets/controls",
          "model_name": "ProgressStyleModel",
          "state": {
            "_view_name": "StyleView",
            "_model_name": "ProgressStyleModel",
            "description_width": "initial",
            "_view_module": "@jupyter-widgets/base",
            "_model_module_version": "1.5.0",
            "_view_count": null,
            "_view_module_version": "1.2.0",
            "bar_color": null,
            "_model_module": "@jupyter-widgets/controls"
          }
        },
        "87c36f46337d4f768ee99f720633acf0": {
          "model_module": "@jupyter-widgets/base",
          "model_name": "LayoutModel",
          "state": {
            "_view_name": "LayoutView",
            "grid_template_rows": null,
            "right": null,
            "justify_content": null,
            "_view_module": "@jupyter-widgets/base",
            "overflow": null,
            "_model_module_version": "1.2.0",
            "_view_count": null,
            "flex_flow": null,
            "width": null,
            "min_width": null,
            "border": null,
            "align_items": null,
            "bottom": null,
            "_model_module": "@jupyter-widgets/base",
            "top": null,
            "grid_column": null,
            "overflow_y": null,
            "overflow_x": null,
            "grid_auto_flow": null,
            "grid_area": null,
            "grid_template_columns": null,
            "flex": null,
            "_model_name": "LayoutModel",
            "justify_items": null,
            "grid_row": null,
            "max_height": null,
            "align_content": null,
            "visibility": null,
            "align_self": null,
            "height": null,
            "min_height": null,
            "padding": null,
            "grid_auto_rows": null,
            "grid_gap": null,
            "max_width": null,
            "order": null,
            "_view_module_version": "1.2.0",
            "grid_template_areas": null,
            "object_position": null,
            "object_fit": null,
            "grid_auto_columns": null,
            "margin": null,
            "display": null,
            "left": null
          }
        },
        "030df87870e54d8d8fa3462314115b49": {
          "model_module": "@jupyter-widgets/controls",
          "model_name": "DescriptionStyleModel",
          "state": {
            "_view_name": "StyleView",
            "_model_name": "DescriptionStyleModel",
            "description_width": "",
            "_view_module": "@jupyter-widgets/base",
            "_model_module_version": "1.5.0",
            "_view_count": null,
            "_view_module_version": "1.2.0",
            "_model_module": "@jupyter-widgets/controls"
          }
        },
        "46ed81452b3b47c1b8696e6ab7ab3375": {
          "model_module": "@jupyter-widgets/base",
          "model_name": "LayoutModel",
          "state": {
            "_view_name": "LayoutView",
            "grid_template_rows": null,
            "right": null,
            "justify_content": null,
            "_view_module": "@jupyter-widgets/base",
            "overflow": null,
            "_model_module_version": "1.2.0",
            "_view_count": null,
            "flex_flow": null,
            "width": null,
            "min_width": null,
            "border": null,
            "align_items": null,
            "bottom": null,
            "_model_module": "@jupyter-widgets/base",
            "top": null,
            "grid_column": null,
            "overflow_y": null,
            "overflow_x": null,
            "grid_auto_flow": null,
            "grid_area": null,
            "grid_template_columns": null,
            "flex": null,
            "_model_name": "LayoutModel",
            "justify_items": null,
            "grid_row": null,
            "max_height": null,
            "align_content": null,
            "visibility": null,
            "align_self": null,
            "height": null,
            "min_height": null,
            "padding": null,
            "grid_auto_rows": null,
            "grid_gap": null,
            "max_width": null,
            "order": null,
            "_view_module_version": "1.2.0",
            "grid_template_areas": null,
            "object_position": null,
            "object_fit": null,
            "grid_auto_columns": null,
            "margin": null,
            "display": null,
            "left": null
          }
        }
      }
    }
  },
  "cells": [
    {
      "cell_type": "markdown",
      "metadata": {
        "id": "r6gOnMcvYEvq"
      },
      "source": [
        "#**100.01 Absa: Baseline(Coarse) Prediction**\n",
        "\n",
        "1. Dataset: absa benchmark dataset (size: 2995)\n",
        "\n",
        "     https://drive.google.com/file/d/12sYtvP1dvGCXnNOSkJKgJKtJgfbSgyXh/view?usp=sharing\n",
        "2. Cadet: entity, attr detection \n",
        "3. Bert token classifier (0523) : evaltext span-marking, polarity prediciton\n",
        "4. Prediction output: .json file, formatted as benchamrk set + an extra prediction key\n",
        "5. Final predictions file is at \n",
        "```\n",
        "指向情緒案/data/models/Bert_aspect_extraction/0610/benchmark_predictions.json\n",
        "```\n",
        "6. Update: 2021.6.11 by Nana\n",
        "7. Issues: Bert token classifier is trained on some of the data in the benchmark set, so the evaltext span evaluation looks better "
      ]
    },
    {
      "cell_type": "markdown",
      "metadata": {
        "id": "0_QB1R59ZcCz"
      },
      "source": [
        "## Preparing env & Cloning "
      ]
    },
    {
      "cell_type": "code",
      "metadata": {
        "id": "N5aUE2f9ZvfG"
      },
      "source": [
        "# reload the modules by default \n",
        "%load_ext autoreload\n",
        "%autoreload 2"
      ],
      "execution_count": null,
      "outputs": []
    },
    {
      "cell_type": "code",
      "metadata": {
        "id": "j84ri4BzebIy"
      },
      "source": [
        "import os\n",
        "import torch\n",
        "import random\n",
        "import math\n",
        "import numpy as np\n",
        "from pathlib import Path\n",
        "from torch.utils.data import Dataset\n",
        "import torch.nn as nn\n",
        "from torch.nn.utils.rnn import pad_sequence\n",
        "from torch.utils.data import DataLoader\n",
        "import sys  \n",
        "import pickle\n",
        "from dataclasses import dataclass, field\n",
        "from typing import Optional\n",
        "from sklearn.metrics import precision_recall_fscore_support, classification_report, accuracy_score\n",
        "from sklearn.utils import class_weight"
      ],
      "execution_count": null,
      "outputs": []
    },
    {
      "cell_type": "code",
      "metadata": {
        "id": "e0rZ2GJyZ4NQ"
      },
      "source": [
        "import numpy as np\n",
        "import matplotlib.pyplot as plt\n",
        "import json\n",
        "import sys\n",
        "from matplotlib.font_manager import FontProperties\n",
        "from matplotlib import font_manager"
      ],
      "execution_count": null,
      "outputs": []
    },
    {
      "cell_type": "code",
      "metadata": {
        "colab": {
          "base_uri": "https://localhost:8080/"
        },
        "id": "p4uc1bWWYBOH",
        "outputId": "878ba576-0997-4568-f205-b626d787236a"
      },
      "source": [
        "from google.colab import drive\n",
        "drive.mount('/content/gdrive')\n",
        "wkspace = '/content/gdrive/MyDrive/指向情緒案/data/models'"
      ],
      "execution_count": null,
      "outputs": [
        {
          "output_type": "stream",
          "text": [
            "Mounted at /content/gdrive\n"
          ],
          "name": "stdout"
        }
      ]
    },
    {
      "cell_type": "markdown",
      "metadata": {
        "id": "mWjrOayvQrP6"
      },
      "source": [
        "## Loading Dataset"
      ]
    },
    {
      "cell_type": "code",
      "metadata": {
        "id": "oHNjAcN_Pv4n"
      },
      "source": [
        "dataset_file = '/content/gdrive/MyDrive/指向情緒案/data/annot_data/benchmark_set.json'\n",
        "with open(dataset_file, 'r', encoding = 'utf-8') as fin:\n",
        "    Datasets = json.load(fin)"
      ],
      "execution_count": null,
      "outputs": []
    },
    {
      "cell_type": "code",
      "metadata": {
        "colab": {
          "base_uri": "https://localhost:8080/"
        },
        "id": "PHdvElfYQeVh",
        "outputId": "aad72ced-4d3c-41dc-aa92-076e2b102108"
      },
      "source": [
        "Datasets[0]"
      ],
      "execution_count": null,
      "outputs": [
        {
          "output_type": "execute_result",
          "data": {
            "text/plain": [
              "{'aspects': [{'attribute': '[通訊]頻段',\n",
              "   'context_flag': True,\n",
              "   'entity': '臺灣之星',\n",
              "   'evaltext': '台星的態度就是在等宿主台哥，逸以待勞，準備寄生。',\n",
              "   'rating': 1}],\n",
              " 'thread': {'idx': 3260,\n",
              "  'main': '5G第一階段價格標結束，4家電信-中華電信、台灣大、遠傳電信、亞太電信拚第3季開台，而台灣之星指出，尚未決定。中華電信總經理郭水義今日指出，將按照原先規劃在第三季開台。不過，中華電信董事長謝繼茂之前受訪指出，預定7月開台。而台灣大、遠傳也都會在第三季開台。亞太電信也表示，2800MHz將會在第三季開台。台灣之星指出，今日正式取得5G入場門票，下一階段將進入「頻位競標」，待兩階段5G競標程序皆完成後，將依規定啟動5G網路佈建，擴大網路容量、提升整體網路品質。至於何時開台？台灣之星指出，尚未決定。',\n",
              "  'replies': ['台星的態度就是在等宿主台哥，逸以待勞，準備寄生。',\n",
              "   '台星八成只能拿到沒有設備那部分的頻段比較晚開台也是滿合理的',\n",
              "   '哎呀，你知道的太多了～～～反正暫時無資金可建設，還不如吃吃台哥大的豆腐比較實際！不然一開台，200億頻譜費得開始認列，但馬上就有10萬低資188用戶免費體驗，要加速賠到300億嗎？',\n",
              "   '。台星免費體驗也沒說是那種體驗不期不待，沒有傷害。',\n",
              "   '遠傳標80用那麼多錢，真的是拼面子。也令人感覺是在走一步算一步！日後開始5G價格戰，會很辛苦！',\n",
              "   '亞太搞11賺設定費，每月還能收11元，比遠傳這個預付卡大戶省很多，這次遠傳標5g一點都沒徐旭東的樣子。',\n",
              "   '可以是前2GB流量為5G不限速超量降回4G吃到飽每個月有2GB額度或是一個月給你2小時額度免費體驗5G,其他時間回復4G吃到飽它沒在合約說明如何的體驗,這些都叫體驗,因為你也有體驗到5G體驗完後變回4G畢竟跟台星簽的是4G合約,並不是簽5G合約',\n",
              "   '每天1GB或6小時體驗(看哪個條件先達到)體驗時間每天00:00-06:00',\n",
              "   '也不會沒資金吧~大大股東是首富「應該」不缺錢還有就是亞太跟台哥大談好了嗎要不然亞太的28GHz要拼命建基地台才有辦法開台吧?',\n",
              "   '台星用流量讓去年的188用戶去體驗5G的可能性較高,畢竟流量用完就沒了,若是5G速度夠快,給的流量一下子就用完,也不會造成基地台負擔....以上是個人推測~'],\n",
              "  'title': '5G何時開台？亞太遠傳台哥中華4家拚第3季開台，台星尚未決定'}}"
            ]
          },
          "metadata": {
            "tags": []
          },
          "execution_count": 6
        }
      ]
    },
    {
      "cell_type": "markdown",
      "metadata": {
        "id": "qp0mrftyQvpe"
      },
      "source": [
        "## Cadet Prediction \n",
        "predictions at:` data/models/100.01cadet_coarse_pred.pkl`"
      ]
    },
    {
      "cell_type": "code",
      "metadata": {
        "id": "INU9aAXNa6WN"
      },
      "source": [
        "sys.path.append('casa/etc/jupyter') # casa/etc/jupyter/import_casa.py"
      ],
      "execution_count": null,
      "outputs": []
    },
    {
      "cell_type": "code",
      "metadata": {
        "id": "Vy6rbnh4d4PC"
      },
      "source": [
        "from import_casa import casa\n",
        "font = FontProperties(fname=casa.get_data_path() / \"font/NotoSansCJK-Regular.ttc\")\n",
        "plt.rcParams[\"font.family\"] = \"Microsoft YaHei\" "
      ],
      "execution_count": null,
      "outputs": []
    },
    {
      "cell_type": "code",
      "metadata": {
        "id": "QM6seNsrWbsx",
        "colab": {
          "base_uri": "https://localhost:8080/"
        },
        "outputId": "f88313fe-a59e-48bc-f450-217c4c8dd3c9"
      },
      "source": [
        "import getpass, os\n",
        "username = getpass.getpass(\"Github username: \")\n",
        "password = getpass.getpass(\"Github password: \")\n",
        "os.environ[\"CRED\"] = f\"{username}:{password}\"\n",
        "!git clone https://${CRED}@github.com/lopentu/casa\n",
        "del username, password\n",
        "!pip install -r /content/casa/requirements.txt"
      ],
      "execution_count": null,
      "outputs": [
        {
          "output_type": "stream",
          "text": [
            "Github username: ··········\n",
            "Github password: ··········\n",
            "Cloning into 'casa'...\n",
            "remote: Enumerating objects: 805, done.\u001b[K\n",
            "remote: Counting objects: 100% (805/805), done.\u001b[K\n",
            "remote: Compressing objects: 100% (507/507), done.\u001b[K\n",
            "remote: Total 805 (delta 395), reused 643 (delta 243), pack-reused 0\u001b[K\n",
            "Receiving objects: 100% (805/805), 4.72 MiB | 16.57 MiB/s, done.\n",
            "Resolving deltas: 100% (395/395), done.\n",
            "Requirement already satisfied: pandas in /usr/local/lib/python3.7/dist-packages (from -r /content/casa/requirements.txt (line 1)) (1.1.5)\n",
            "Requirement already satisfied: matplotlib in /usr/local/lib/python3.7/dist-packages (from -r /content/casa/requirements.txt (line 2)) (3.2.2)\n",
            "Requirement already satisfied: scipy in /usr/local/lib/python3.7/dist-packages (from -r /content/casa/requirements.txt (line 3)) (1.4.1)\n",
            "Requirement already satisfied: numpy in /usr/local/lib/python3.7/dist-packages (from -r /content/casa/requirements.txt (line 4)) (1.19.5)\n",
            "Requirement already satisfied: gensim in /usr/local/lib/python3.7/dist-packages (from -r /content/casa/requirements.txt (line 5)) (3.6.0)\n",
            "Collecting sentencepiece\n",
            "\u001b[?25l  Downloading https://files.pythonhosted.org/packages/f5/99/e0808cb947ba10f575839c43e8fafc9cc44e4a7a2c8f79c60db48220a577/sentencepiece-0.1.95-cp37-cp37m-manylinux2014_x86_64.whl (1.2MB)\n",
            "\u001b[K     |████████████████████████████████| 1.2MB 4.0MB/s \n",
            "\u001b[?25hRequirement already satisfied: python-dateutil>=2.7.3 in /usr/local/lib/python3.7/dist-packages (from pandas->-r /content/casa/requirements.txt (line 1)) (2.8.1)\n",
            "Requirement already satisfied: pytz>=2017.2 in /usr/local/lib/python3.7/dist-packages (from pandas->-r /content/casa/requirements.txt (line 1)) (2018.9)\n",
            "Requirement already satisfied: kiwisolver>=1.0.1 in /usr/local/lib/python3.7/dist-packages (from matplotlib->-r /content/casa/requirements.txt (line 2)) (1.3.1)\n",
            "Requirement already satisfied: cycler>=0.10 in /usr/local/lib/python3.7/dist-packages (from matplotlib->-r /content/casa/requirements.txt (line 2)) (0.10.0)\n",
            "Requirement already satisfied: pyparsing!=2.0.4,!=2.1.2,!=2.1.6,>=2.0.1 in /usr/local/lib/python3.7/dist-packages (from matplotlib->-r /content/casa/requirements.txt (line 2)) (2.4.7)\n",
            "Requirement already satisfied: six>=1.5.0 in /usr/local/lib/python3.7/dist-packages (from gensim->-r /content/casa/requirements.txt (line 5)) (1.15.0)\n",
            "Requirement already satisfied: smart-open>=1.2.1 in /usr/local/lib/python3.7/dist-packages (from gensim->-r /content/casa/requirements.txt (line 5)) (5.0.0)\n",
            "Installing collected packages: sentencepiece\n",
            "Successfully installed sentencepiece-0.1.95\n"
          ],
          "name": "stdout"
        }
      ]
    },
    {
      "cell_type": "code",
      "metadata": {
        "id": "NHJoCubbiTR7"
      },
      "source": [
        "!pip install --upgrade gensim"
      ],
      "execution_count": null,
      "outputs": []
    },
    {
      "cell_type": "code",
      "metadata": {
        "id": "ZboFB-MiE_y5"
      },
      "source": [
        "import gensim\n",
        "from gensim.models import keyedvectors\n",
        "dir(keyedvectors)"
      ],
      "execution_count": null,
      "outputs": []
    },
    {
      "cell_type": "code",
      "metadata": {
        "colab": {
          "base_uri": "https://localhost:8080/"
        },
        "id": "u0UgLds7aD4i",
        "outputId": "3a180f8c-1736-46bc-830e-278dde5846ed"
      },
      "source": [
        "from casa import Cadet\n",
        "cadet = Cadet.load('/content/gdrive/MyDrive/指向情緒案/data/cadet/op20')\n",
        "cadet"
      ],
      "execution_count": null,
      "outputs": [
        {
          "output_type": "stream",
          "text": [
            "[INFO] 2021-06-10 04:01:02,831 gensim.utils: loading KeyedVectors object from /content/gdrive/MyDrive/指向情緒案/data/cadet/op20/ft-2020.kv\n",
            "[INFO] 2021-06-10 04:01:04,946 gensim.utils: setting ignored attribute vectors_norm to None\n",
            "[INFO] 2021-06-10 04:01:04,948 gensim.utils: setting ignored attribute vectors_vocab_norm to None\n",
            "[INFO] 2021-06-10 04:01:04,950 gensim.utils: setting ignored attribute vectors_ngrams_norm to None\n",
            "[INFO] 2021-06-10 04:01:04,953 gensim.utils: setting ignored attribute buckets_word to None\n",
            "[INFO] 2021-06-10 04:01:05,112 gensim.utils: FastTextKeyedVectors lifecycle event {'fname': '/content/gdrive/MyDrive/指向情緒案/data/cadet/op20/ft-2020.kv', 'datetime': '2021-06-10T04:01:05.112305', 'gensim': '4.0.1', 'python': '3.7.10 (default, May  3 2021, 02:48:31) \\n[GCC 7.5.0]', 'platform': 'Linux-5.4.109+-x86_64-with-Ubuntu-18.04-bionic', 'event': 'loaded'}\n"
          ],
          "name": "stderr"
        },
        {
          "output_type": "execute_result",
          "data": {
            "text/plain": [
              "<Cadet: FastText(9851, 200), Seeds(103)>"
            ]
          },
          "metadata": {
            "tags": []
          },
          "execution_count": 4
        }
      ]
    },
    {
      "cell_type": "code",
      "metadata": {
        "colab": {
          "base_uri": "https://localhost:8080/"
        },
        "id": "iuZe1DQ8AggB",
        "outputId": "dc407601-bc70-4c5c-988c-9adf73e276da"
      },
      "source": [
        "# data = cadet.detect(\"不過中華電信的吃到飽在山區收訊很差\", verbose = False)\n",
        "\n",
        "def get_entity(data):\n",
        "  \n",
        "    max_idx = data['entity_probs'].argmax()\n",
        "    max_prob = data['entity_probs'][max_idx]\n",
        "    max_ent = data['entity'][max_idx]\n",
        "    return max_ent, max_prob\n",
        "\n",
        "def get_service(data):\n",
        "    max_idx = data['service_probs'].argmax()\n",
        "    max_prob = data['service_probs'][max_idx]\n",
        "    max_s = data['service'][max_idx]\n",
        "    return max_s, max_prob\n"
      ],
      "execution_count": null,
      "outputs": [
        {
          "output_type": "execute_result",
          "data": {
            "text/plain": [
              "('資費方案', 0.4941969776370897)"
            ]
          },
          "metadata": {
            "tags": []
          },
          "execution_count": 17
        }
      ]
    },
    {
      "cell_type": "code",
      "metadata": {
        "id": "mbtcKmEnQ1Y7"
      },
      "source": [
        "predictions = []\n",
        "detection_errors = []\n",
        "for i, data in enumerate(Datasets):\n",
        "    th_idx =  data['thread']['idx']\n",
        "    prediction = {'idx': th_idx , 'main':(), 'replies':[]} \n",
        "    th = data['thread']\n",
        "    main = th['main']\n",
        "    if main != '':\n",
        "        main_data = cadet.detect(main)\n",
        "        prediction['main'] = [get_entity(main_data), get_service(main_data)]\n",
        "    replies = th['replies'] # a list of replies \n",
        "    for r in replies: \n",
        "        try:\n",
        "          r_data = cadet.detect(r)\n",
        "          prediction['replies'].append([get_entity(r_data), get_service(r_data)])\n",
        "        except:\n",
        "          # empty string, '在', 'NP直接去錄影帶店有439,覺得雙NP很懶要488但都不給', '有', ...\n",
        "          detection_errors.append(i)\n",
        "          prediction['replies'].append([]) # an empty list\n",
        "    predictions.append(prediction)\n",
        "    "
      ],
      "execution_count": null,
      "outputs": []
    },
    {
      "cell_type": "code",
      "metadata": {
        "colab": {
          "base_uri": "https://localhost:8080/"
        },
        "id": "YSqLvaCPVc1L",
        "outputId": "321b5164-b2af-4cd9-da53-407273f820a4"
      },
      "source": [
        "predictions[-1]"
      ],
      "execution_count": null,
      "outputs": [
        {
          "output_type": "execute_result",
          "data": {
            "text/plain": [
              "{'idx': 194,\n",
              " 'main': [('其他電信', 0.4548851958463746), ('通訊品質', 0.9665581444005926)],\n",
              " 'replies': [[('中華電信', 0.29193500060529604), ('其他', 0.9673461328737533)],\n",
              "  [('其他電信', 0.5053107186577204), ('通訊品質', 0.4379179327266065)],\n",
              "  [('台灣之星', 0.2666057966253697), ('通訊品質', 0.49395335928331824)],\n",
              "  [('台灣之星', 0.2690545210462366), ('通訊品質', 0.470132899801794)],\n",
              "  [('中華電信', 0.9995949218351506), ('資費方案', 0.967651210339059)],\n",
              "  [('中華電信', 0.9432687167054168), ('資費方案', 0.9675599993793932)],\n",
              "  [('其他電信', 0.19408513441546532), ('資費方案', 0.9643819728606264)]]}"
            ]
          },
          "metadata": {
            "tags": []
          },
          "execution_count": 39
        }
      ]
    },
    {
      "cell_type": "code",
      "metadata": {
        "colab": {
          "base_uri": "https://localhost:8080/"
        },
        "id": "htZsFeYQTMi7",
        "outputId": "57100c3f-9818-43a5-dbff-f052a0254022"
      },
      "source": [
        "print(len(detection_errors))\n",
        "print(detection_errors)\n",
        "with open(f'{wkspace}/100.01cadet_coarse_pred.pkl', \"wb\") as fout:\n",
        "    pickle.dump(predictions, fout)"
      ],
      "execution_count": null,
      "outputs": [
        {
          "output_type": "stream",
          "text": [
            "46\n",
            "[52, 176, 239, 278, 291, 322, 338, 463, 504, 504, 554, 554, 582, 614, 616, 639, 639, 694, 694, 705, 889, 906, 922, 943, 1011, 1021, 1052, 1072, 1075, 1122, 1123, 1210, 1210, 1243, 1265, 1265, 1265, 1302, 1320, 1323, 1323, 1351, 1395, 1413, 1417, 1437]\n"
          ],
          "name": "stdout"
        }
      ]
    },
    {
      "cell_type": "markdown",
      "metadata": {
        "id": "IkhFFPUsUcUs"
      },
      "source": [
        "## Bert Prediction (aspect extraction)"
      ]
    },
    {
      "cell_type": "markdown",
      "metadata": {
        "id": "e-8cfk_Yeke3"
      },
      "source": [
        "### Loading model"
      ]
    },
    {
      "cell_type": "code",
      "metadata": {
        "id": "p8Uvw9hMeCXJ"
      },
      "source": [
        "!pip install transformers"
      ],
      "execution_count": null,
      "outputs": []
    },
    {
      "cell_type": "code",
      "metadata": {
        "id": "Ep0iKMkYWf0f"
      },
      "source": [
        "!pip install datasets"
      ],
      "execution_count": null,
      "outputs": []
    },
    {
      "cell_type": "code",
      "metadata": {
        "colab": {
          "base_uri": "https://localhost:8080/",
          "height": 164,
          "referenced_widgets": [
            "67a39499f5a9471ab2df7ffbaa83004b",
            "7b0e7689095c42e18840c7f8387c7675",
            "8807a669f7f04614a0b04d2f658d40a8",
            "c7d19e5115634500b9f1aabb913c70e4",
            "dc2189ae6c004d29a0dccad48a3a09a2",
            "ea8ced92866f4715bf83c6d7c62927df",
            "6788abf0e46246e795531f12b195698c",
            "30d964be1fe8486c869ce0d6f68ca5f4",
            "6232db0e32c6445ba01e4396499e1262",
            "cc5a41962de94ffc81368a2e90050363",
            "8322aaf8e67a440cbb14f9459bb19857",
            "32a69f72491b47d8b085e46620d6e149",
            "890297e095354515bb10ca2b9fefd9be",
            "cf72cf286d054d6dac3675a8fdcbbcf5",
            "157853baa7dc49dfa205906fb7f0fe9c",
            "7fa6c3c35ba144e08691291f3e7351b2",
            "da5c2fe628bc4fcd8177127448ce4c57",
            "95f10a8fc1f14899aeba4b2cca4405cb",
            "ee960ee98a6f47af9f4477693bd51d60",
            "fe12bb4ddf8040d4b315f450e9a944f0",
            "dec41bc75e154f1797dcd36cb967ba87",
            "87c36f46337d4f768ee99f720633acf0",
            "030df87870e54d8d8fa3462314115b49",
            "46ed81452b3b47c1b8696e6ab7ab3375"
          ]
        },
        "id": "0E8q7GkqVhe7",
        "outputId": "8ad100da-8b78-4a31-d8cc-7f1e0784ffae"
      },
      "source": [
        "model_path = f'{wkspace}/Bert_aspect_extraction/0523'\n",
        "from transformers import BertTokenizerFast,AutoModel,BertForTokenClassification\n",
        "tokenizer = BertTokenizerFast.from_pretrained('bert-base-chinese')\n",
        "model = BertForTokenClassification.from_pretrained(model_path, num_labels = 5) # O, B-VP, B-VN, I-VP, I-VN"
      ],
      "execution_count": null,
      "outputs": [
        {
          "output_type": "display_data",
          "data": {
            "application/vnd.jupyter.widget-view+json": {
              "model_id": "67a39499f5a9471ab2df7ffbaa83004b",
              "version_minor": 0,
              "version_major": 2
            },
            "text/plain": [
              "HBox(children=(FloatProgress(value=0.0, description='Downloading', max=109540.0, style=ProgressStyle(descripti…"
            ]
          },
          "metadata": {
            "tags": []
          }
        },
        {
          "output_type": "stream",
          "text": [
            "\n"
          ],
          "name": "stdout"
        },
        {
          "output_type": "display_data",
          "data": {
            "application/vnd.jupyter.widget-view+json": {
              "model_id": "6232db0e32c6445ba01e4396499e1262",
              "version_minor": 0,
              "version_major": 2
            },
            "text/plain": [
              "HBox(children=(FloatProgress(value=0.0, description='Downloading', max=268943.0, style=ProgressStyle(descripti…"
            ]
          },
          "metadata": {
            "tags": []
          }
        },
        {
          "output_type": "stream",
          "text": [
            "\n"
          ],
          "name": "stdout"
        },
        {
          "output_type": "display_data",
          "data": {
            "application/vnd.jupyter.widget-view+json": {
              "model_id": "da5c2fe628bc4fcd8177127448ce4c57",
              "version_minor": 0,
              "version_major": 2
            },
            "text/plain": [
              "HBox(children=(FloatProgress(value=0.0, description='Downloading', max=29.0, style=ProgressStyle(description_w…"
            ]
          },
          "metadata": {
            "tags": []
          }
        },
        {
          "output_type": "stream",
          "text": [
            "\n"
          ],
          "name": "stdout"
        }
      ]
    },
    {
      "cell_type": "code",
      "metadata": {
        "id": "Nl0iVECIZlI9"
      },
      "source": [
        "device = torch.device('cuda')\n",
        "model.to(device)"
      ],
      "execution_count": null,
      "outputs": []
    },
    {
      "cell_type": "markdown",
      "metadata": {
        "id": "2SFVJhmrWP7o"
      },
      "source": [
        "### Preparing test dataloader"
      ]
    },
    {
      "cell_type": "code",
      "metadata": {
        "id": "MGaqWMwUbcGZ"
      },
      "source": [
        "# make a csv \n",
        "idx_list= []\n",
        "prop_list= []\n",
        "text_list= []\n",
        "for data in Datasets:\n",
        "    idx = data['thread']['idx']\n",
        "    #### adding main ####\n",
        "    idx_list.append(idx)\n",
        "    prop_list.append(True)\n",
        "    text_list.append(data['thread']['main'])\n",
        "    ### adding replies ###\n",
        "    replies_text = data['thread']['replies']\n",
        "    for r in replies_text:\n",
        "        idx_list.append(idx)\n",
        "        prop_list.append(False)\n",
        "        text_list.append(r)\n",
        "assert len(idx_list) == len(prop_list) == len(text_list)"
      ],
      "execution_count": null,
      "outputs": []
    },
    {
      "cell_type": "code",
      "metadata": {
        "colab": {
          "base_uri": "https://localhost:8080/"
        },
        "id": "iUg6XWNqcf71",
        "outputId": "dd66ecc2-16a0-48aa-9fa9-e7b852429d21"
      },
      "source": [
        "import pandas as pd\n",
        "data = {'idx':idx_list, 'is_main': prop_list, 'text': text_list}\n",
        "df = pd.DataFrame(data, columns = ['idx','is_main', 'text'])\n",
        "print(len(df)) # 13634\n",
        "df.to_csv(f'{wkspace}/100.01bert_data.pkl')"
      ],
      "execution_count": null,
      "outputs": [
        {
          "output_type": "stream",
          "text": [
            "13634\n"
          ],
          "name": "stdout"
        }
      ]
    },
    {
      "cell_type": "code",
      "metadata": {
        "id": "N9yeOJK6WFLj"
      },
      "source": [
        "import numpy as np\n",
        "from datasets import ClassLabel, load_dataset, load_metric\n",
        "texts = df['text'].tolist()\n",
        "texts = [list(x) for x in texts]\n",
        "# print(texts[0])\n",
        "tokenized_examples = tokenizer(\n",
        "    texts, \n",
        "    max_length=512,\n",
        "    padding= \"max_length\",\n",
        "    truncation=True,\n",
        "    is_split_into_words=True, \n",
        ")"
      ],
      "execution_count": null,
      "outputs": []
    },
    {
      "cell_type": "code",
      "metadata": {
        "id": "QhYpCWaGWtdr"
      },
      "source": [
        "from torch.utils.data import TensorDataset, DataLoader\n",
        "tok_sents = torch.tensor(tokenized_examples['input_ids'])\n",
        "tok_masks = torch.tensor(tokenized_examples['attention_mask'])\n",
        "test_set = TensorDataset(tok_sents, tok_masks)\n",
        "test_loader = DataLoader(test_set, batch_size=100, shuffle=False, pin_memory=True)"
      ],
      "execution_count": null,
      "outputs": []
    },
    {
      "cell_type": "markdown",
      "metadata": {
        "id": "xFaF1FqIqnDI"
      },
      "source": [
        "### Evaluation and Prediction Pickling"
      ]
    },
    {
      "cell_type": "code",
      "metadata": {
        "colab": {
          "base_uri": "https://localhost:8080/"
        },
        "id": "1_ykkgQcWvTE",
        "outputId": "478642b4-694f-42f8-87fb-d0afb24a1e47"
      },
      "source": [
        "print(\"Evaluating Test Set ...\")\n",
        "model.eval()\n",
        "test= {'preds':[], 'input_ids':[], 'logits':[]}\n",
        "for batch in test_loader:\n",
        "    with torch.no_grad():\n",
        "        input_ids = batch[0].to(device) # input_ids\n",
        "        attention_mask = batch[1].to(device)\n",
        "        \n",
        "        logits = model(input_ids, attention_mask=attention_mask).logits\n",
        "        active_loss = attention_mask.view(-1) == 1\n",
        "        logits = model(input_ids = input_ids, attention_mask=attention_mask).logits\n",
        "        active_logits = logits.view(-1, 5) # num of labels=5\n",
        "        \n",
        "        _, pred = torch.max(logits, 2)\n",
        "        test['preds'].extend(pred.cpu().numpy())\n",
        "        test['input_ids'].extend(input_ids.cpu().numpy())\n",
        "        test['logits'].extend(logits.cpu().numpy())"
      ],
      "execution_count": null,
      "outputs": [
        {
          "output_type": "stream",
          "text": [
            "Evaluating Test Set ...\n"
          ],
          "name": "stdout"
        }
      ]
    },
    {
      "cell_type": "markdown",
      "metadata": {
        "id": "APExZGh8fBtm"
      },
      "source": [
        "\n",
        "Bert Special tokens:\n",
        "```\n",
        "{'cls_token': '[CLS]', 101\n",
        " 'mask_token': '[MASK]', 103\n",
        " 'pad_token': '[PAD]', 0\n",
        " 'sep_token': '[SEP]', 102\n",
        " 'unk_token': '[UNK]' 100} \n",
        "```\n",
        "\n"
      ]
    },
    {
      "cell_type": "code",
      "metadata": {
        "id": "EL4llfMCfoJP"
      },
      "source": [
        "todaydir = '/content/gdrive/MyDrive/指向情緒案/data/models/Bert_aspect_extraction/0610'"
      ],
      "execution_count": null,
      "outputs": []
    },
    {
      "cell_type": "code",
      "metadata": {
        "id": "w9Ef6WG4ZvgV"
      },
      "source": [
        "# Inference   \n",
        "label_list = {0: 'B-VN', 1:'B-VP',  2:'I-VN', 3: 'I-VP', 4:'O'}\n",
        "special_tokens = [101, 102] # 不應該拔UNK，只拔101, 102\n",
        "predictions_all = test['preds']\n",
        "inputids_all = test['input_ids']\n",
        "### !!! 還是要手動切成一個字一個字，然後在tokenizer裡用is_split_into_words=False \n",
        "### !!! 把predictions的第一個token（CLS）跳掉，然後一直讀到倒數第二個（因為最後一個是SEP），然後把這個predictions和原始tokens zip起來\n",
        "true_predictions = [[label_list[p] for (p, inpid) in zip(predsent, inpidsent) if inpid not in special_tokens] \n",
        "                    for predsent, inpidsent in zip(predictions_all, inputids_all)]\n",
        "with open(os.path.join(todaydir, \"100.01bert_preds.pkl\"), 'wb') as f:\n",
        "    pickle.dump(true_predictions, f)"
      ],
      "execution_count": null,
      "outputs": []
    },
    {
      "cell_type": "markdown",
      "metadata": {
        "id": "MzQPk-g1Kjl0"
      },
      "source": [
        "## Final Predicitons \n",
        "combining Cadet and Bert "
      ]
    },
    {
      "cell_type": "code",
      "metadata": {
        "id": "D6Tg26_RGN_r"
      },
      "source": [
        "def translate(t):\n",
        "    if t[-1] == 'P':\n",
        "        return 'Positive'\n",
        "    return 'Negative'"
      ],
      "execution_count": null,
      "outputs": []
    },
    {
      "cell_type": "code",
      "metadata": {
        "id": "PzutLnABi17s"
      },
      "source": [
        "# find the labeled span \n",
        "import more_itertools as mit\n",
        "eval_spans = {}\n",
        "thread_idxes = df['idx'].tolist()\n",
        "assert len(texts) == len(true_predictions)\n",
        "for idx, text, pred in zip(thread_idxes, texts, true_predictions):\n",
        "      pred_spans_for_one_text = []\n",
        "      pred = pred[:len(text)]\n",
        "      pairs = [(i, val) for i, val in enumerate(pred) if val != 'O']\n",
        "      pols = []\n",
        "      if len(pairs) >1:\n",
        "          polarity = list(map(lambda x: x[1], pairs))\n",
        "          idxes = [x for (x, val) in pairs]\n",
        "          idxes_groups = [list(group) for group in mit.consecutive_groups(idxes)]\n",
        "          for group in idxes_groups:\n",
        "              label = ''.join([text[i] for i in group])\n",
        "              if len(label)>0: \n",
        "                  pred_spans_for_one_text.append(label)\n",
        "                  pols.append(translate(pred[group[0]]))  # assume each group to have the same polarity\n",
        "          print(text)\n",
        "          print(pred_spans_for_one_text)\n",
        "      # adding back to span dictionary \n",
        "      if idx not in eval_spans:\n",
        "          eval_spans[idx] = []\n",
        "          eval_spans[idx].append([pols, pred_spans_for_one_text]) \n",
        "      else: eval_spans[idx].append([pols, pred_spans_for_one_text]) "
      ],
      "execution_count": null,
      "outputs": []
    },
    {
      "cell_type": "code",
      "metadata": {
        "id": "0fEyKBoo77NR"
      },
      "source": [
        "with open(f'{wkspace}/100.01cadet_coarse_pred.pkl', \"rb\") as fin:\n",
        "    cadet_predictions = pickle.load(fin)"
      ],
      "execution_count": null,
      "outputs": []
    },
    {
      "cell_type": "markdown",
      "metadata": {
        "id": "faQ6vQ8B8it6"
      },
      "source": [
        "\n",
        "\n",
        "```\n",
        "# cadet predictions structure \n",
        "{'idx': 194,\n",
        " 'main': [('其他電信', 0.4548851958463746), ('通訊品質', 0.9665581444005926)],\n",
        " 'replies': [[('中華電信', 0.29193500060529604), ('其他', 0.9673461328737533)],\n",
        "  [('其他電信', 0.5053107186577204), ('通訊品質', 0.4379179327266065)],\n",
        "  [('台灣之星', 0.2666057966253697), ('通訊品質', 0.49395335928331824)],\n",
        "  [('台灣之星', 0.2690545210462366), ('通訊品質', 0.470132899801794)],\n",
        "  [('中華電信', 0.9995949218351506), ('資費方案', 0.967651210339059)],\n",
        "  [('中華電信', 0.9432687167054168), ('資費方案', 0.9675599993793932)],\n",
        "  [('其他電信', 0.19408513441546532), ('資費方案', 0.9643819728606264)]]}\n",
        "\n",
        "# benchmark structure \n",
        "\"aspects\": [\n",
        "      {\n",
        "        \"entity\": \"臺灣之星\",\n",
        "        \"attribute\": \"[通訊]頻段\",\n",
        "        \"evaltext\": \"台星的態度就是在等宿主台哥，逸以待勞，準備寄生。\",\n",
        "        \"rating\": 1,\n",
        "        \"context_flag\": true\n",
        "      }\n",
        "    ]\n",
        "```\n",
        "\n"
      ]
    },
    {
      "cell_type": "code",
      "metadata": {
        "id": "HG_sjEOf8T7Q"
      },
      "source": [
        "final_predictions = {}\n",
        "for pred in cadet_predictions:\n",
        "   # every pred is one thread \n",
        "    idx = pred['idx']\n",
        "    # corresponding span data\n",
        "    asptuples = []\n",
        "    # if main data's span is not empty\n",
        "    if len(eval_spans[idx][0][1]) >1:\n",
        "        pred_ent = pred['main'][0][0]\n",
        "        pred_serv = pred['main'][1][0]\n",
        "        ################################\n",
        "        pred_ent_prob = round(pred['main'][0][1], 4)\n",
        "        pred_serv_prob = round(pred['main'][1][1], 4)\n",
        "        asptuples.append({'entity':pred_ent, 'attribute': pred_serv, 'evaltext':eval_spans[idx][0][1] ,'polarity':eval_spans[idx][0][0]})\n",
        "    rep_spans = eval_spans[idx][1:]\n",
        "    for j, rep_spans in enumerate(rep_spans):\n",
        "        # if text spans ar edetected\n",
        "        if len(rep_spans[1]) > 1:\n",
        "            ent = pred['replies'][j][0][0]\n",
        "            serv = pred['replies'][j][1][0]\n",
        "            #################################\n",
        "            ent_prob = round(pred['replies'][j][0][1], 4)\n",
        "            serv_prob = round(pred['replies'][j][1][1], 4)\n",
        "            asptuples.append({'entity':ent, 'attribute':serv, 'evaltext':rep_spans[1] ,'polarity': rep_spans[0]})\n",
        "    # one thread index should only appear once\n",
        "    final_predictions[idx] = asptuples "
      ],
      "execution_count": null,
      "outputs": []
    },
    {
      "cell_type": "code",
      "metadata": {
        "id": "er8dMddoFl7u"
      },
      "source": [
        "with open(f'{todaydir}/100.01_final_predictions.pkl', \"wb\") as fout:\n",
        "    pickle.dump(final_predictions, fout)"
      ],
      "execution_count": null,
      "outputs": []
    },
    {
      "cell_type": "markdown",
      "metadata": {
        "id": "65E-oaOXqzwQ"
      },
      "source": [
        "## The final predictions file is at \n",
        "```\n",
        "指向情緒案/data/models/Bert_aspect_extraction/0610/benchmark_predictions.json\n",
        "```\n",
        "\n"
      ]
    },
    {
      "cell_type": "code",
      "metadata": {
        "id": "SP2_c2hRB12U"
      },
      "source": [
        "# final_predictions[2232]\n",
        "for i in range(len(Datasets)):\n",
        "    idx = Datasets[i]['thread']['idx']\n",
        "    Datasets[i]['prediction'] = final_predictions[idx]\n",
        "# workspace = '/content/gdrive/MyDrive/指向情緒案/data'\n",
        "with open(f'{todaydir}/benchmark_predictions.json', 'w', encoding = 'utf-8') as fout:\n",
        "    json.dump(Datasets, fout, ensure_ascii=False, indent=2)"
      ],
      "execution_count": null,
      "outputs": []
    }
  ]
}
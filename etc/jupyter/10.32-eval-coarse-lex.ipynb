{
 "cells": [
  {
   "cell_type": "code",
   "execution_count": 1,
   "metadata": {},
   "outputs": [],
   "source": [
    "%load_ext autoreload\n",
    "%autoreload 2"
   ]
  },
  {
   "cell_type": "code",
   "execution_count": 2,
   "metadata": {},
   "outputs": [],
   "source": [
    "from import_casa import casa"
   ]
  },
  {
   "cell_type": "code",
   "execution_count": 3,
   "metadata": {},
   "outputs": [],
   "source": [
    "import pandas as pd\n",
    "import pickle\n",
    "from gensim.models import FastText"
   ]
  },
  {
   "cell_type": "code",
   "execution_count": 4,
   "metadata": {},
   "outputs": [],
   "source": [
    "spm_centroids = pd.read_csv(casa.get_data_path() / \"eda/spm/spm_centroids.csv\", index_col=None)\n",
    "with open(casa.get_data_path()/\"eda/spaCy_pipeline/raw-data-cht-2020-ppline.pkl\", \"rb\") as fin:\n",
    "    data = pickle.load(fin)"
   ]
  },
  {
   "cell_type": "code",
   "execution_count": 5,
   "metadata": {},
   "outputs": [
    {
     "data": {
      "text/html": [
       "<div>\n",
       "<style scoped>\n",
       "    .dataframe tbody tr th:only-of-type {\n",
       "        vertical-align: middle;\n",
       "    }\n",
       "\n",
       "    .dataframe tbody tr th {\n",
       "        vertical-align: top;\n",
       "    }\n",
       "\n",
       "    .dataframe thead th {\n",
       "        text-align: right;\n",
       "    }\n",
       "</style>\n",
       "<table border=\"1\" class=\"dataframe\">\n",
       "  <thead>\n",
       "    <tr style=\"text-align: right;\">\n",
       "      <th></th>\n",
       "      <th>Unnamed: 0</th>\n",
       "      <th>cluster_idx</th>\n",
       "      <th>cluster_size</th>\n",
       "      <th>centroid</th>\n",
       "      <th>words</th>\n",
       "    </tr>\n",
       "  </thead>\n",
       "  <tbody>\n",
       "    <tr>\n",
       "      <th>0</th>\n",
       "      <td>0</td>\n",
       "      <td>274</td>\n",
       "      <td>19</td>\n",
       "      <td>bile</td>\n",
       "      <td>ay my line Line LINE Mobile riDay mobile Hami ...</td>\n",
       "    </tr>\n",
       "    <tr>\n",
       "      <th>1</th>\n",
       "      <td>1</td>\n",
       "      <td>118</td>\n",
       "      <td>21</td>\n",
       "      <td>中華電信</td>\n",
       "      <td>遠傳 中華電信 亞太 台灣之星 台灣大哥大 亞太電信 台灣大 中華電 遠傳的 遠傳電信 跟遠...</td>\n",
       "    </tr>\n",
       "    <tr>\n",
       "      <th>2</th>\n",
       "      <td>2</td>\n",
       "      <td>182</td>\n",
       "      <td>19</td>\n",
       "      <td>12pro</td>\n",
       "      <td>Pro 11 25 iphone pro 128 128G iphone12 12Pro a...</td>\n",
       "    </tr>\n",
       "    <tr>\n",
       "      <th>3</th>\n",
       "      <td>3</td>\n",
       "      <td>270</td>\n",
       "      <td>17</td>\n",
       "      <td>Pixel</td>\n",
       "      <td>支援 Pixel Google 顯示 心得 三星 google 小米 版本 pixel 4a...</td>\n",
       "    </tr>\n",
       "    <tr>\n",
       "      <th>4</th>\n",
       "      <td>4</td>\n",
       "      <td>192</td>\n",
       "      <td>31</td>\n",
       "      <td>12、iPhone</td>\n",
       "      <td>12 iPhone 預購 iPhone12 預約 新機 推出 開放 各 、遠傳 各家 的iP...</td>\n",
       "    </tr>\n",
       "    <tr>\n",
       "      <th>...</th>\n",
       "      <td>...</td>\n",
       "      <td>...</td>\n",
       "      <td>...</td>\n",
       "      <td>...</td>\n",
       "      <td>...</td>\n",
       "    </tr>\n",
       "    <tr>\n",
       "      <th>153</th>\n",
       "      <td>153</td>\n",
       "      <td>228</td>\n",
       "      <td>15</td>\n",
       "      <td>久</td>\n",
       "      <td>快 滿 久 多了 好用 後悔 鮮 夯 迅 豔 嚐 譜 挾 巔 冗</td>\n",
       "    </tr>\n",
       "    <tr>\n",
       "      <th>154</th>\n",
       "      <td>154</td>\n",
       "      <td>98</td>\n",
       "      <td>15</td>\n",
       "      <td>爭</td>\n",
       "      <td>代 取 利 屬 便 超商 爭 全家 索 宅配 暖 礙 潤 擷 侷</td>\n",
       "    </tr>\n",
       "    <tr>\n",
       "      <th>155</th>\n",
       "      <td>155</td>\n",
       "      <td>27</td>\n",
       "      <td>46</td>\n",
       "      <td>車站</td>\n",
       "      <td>區 台北 山 北 南 隔 離 島 車站 嘉 台南 高雄 台北市 湖 壁 蘭 桃園 橋 宜蘭 ...</td>\n",
       "    </tr>\n",
       "    <tr>\n",
       "      <th>156</th>\n",
       "      <td>156</td>\n",
       "      <td>303</td>\n",
       "      <td>36</td>\n",
       "      <td>樵</td>\n",
       "      <td>XD DD XDD 瞎 ㄌ 吹 辣 削 ㄛ ㄅ 賊 樁 😃 爹 奸 抹 拎 甩 賤 尛 錒 ...</td>\n",
       "    </tr>\n",
       "    <tr>\n",
       "      <th>157</th>\n",
       "      <td>157</td>\n",
       "      <td>46</td>\n",
       "      <td>550</td>\n",
       "      <td>驛</td>\n",
       "      <td>恩 🙂 ' 粗 😘 邱 嘆 俐 稿 😊 婷 諸 █ 蝶 逸 刑 翰 莉 芯 芙 涵 饗 宴 ...</td>\n",
       "    </tr>\n",
       "  </tbody>\n",
       "</table>\n",
       "<p>158 rows × 5 columns</p>\n",
       "</div>"
      ],
      "text/plain": [
       "     Unnamed: 0  cluster_idx  cluster_size   centroid  \\\n",
       "0             0          274            19       bile   \n",
       "1             1          118            21       中華電信   \n",
       "2             2          182            19      12pro   \n",
       "3             3          270            17      Pixel   \n",
       "4             4          192            31  12、iPhone   \n",
       "..          ...          ...           ...        ...   \n",
       "153         153          228            15          久   \n",
       "154         154           98            15          爭   \n",
       "155         155           27            46         車站   \n",
       "156         156          303            36          樵   \n",
       "157         157           46           550          驛   \n",
       "\n",
       "                                                 words  \n",
       "0    ay my line Line LINE Mobile riDay mobile Hami ...  \n",
       "1    遠傳 中華電信 亞太 台灣之星 台灣大哥大 亞太電信 台灣大 中華電 遠傳的 遠傳電信 跟遠...  \n",
       "2    Pro 11 25 iphone pro 128 128G iphone12 12Pro a...  \n",
       "3    支援 Pixel Google 顯示 心得 三星 google 小米 版本 pixel 4a...  \n",
       "4    12 iPhone 預購 iPhone12 預約 新機 推出 開放 各 、遠傳 各家 的iP...  \n",
       "..                                                 ...  \n",
       "153                   快 滿 久 多了 好用 後悔 鮮 夯 迅 豔 嚐 譜 挾 巔 冗  \n",
       "154                   代 取 利 屬 便 超商 爭 全家 索 宅配 暖 礙 潤 擷 侷  \n",
       "155  區 台北 山 北 南 隔 離 島 車站 嘉 台南 高雄 台北市 湖 壁 蘭 桃園 橋 宜蘭 ...  \n",
       "156  XD DD XDD 瞎 ㄌ 吹 辣 削 ㄛ ㄅ 賊 樁 😃 爹 奸 抹 拎 甩 賤 尛 錒 ...  \n",
       "157  恩 🙂 ' 粗 😘 邱 嘆 俐 稿 😊 婷 諸 █ 蝶 逸 刑 翰 莉 芯 芙 涵 饗 宴 ...  \n",
       "\n",
       "[158 rows x 5 columns]"
      ]
     },
     "execution_count": 5,
     "metadata": {},
     "output_type": "execute_result"
    }
   ],
   "source": [
    "spm_centroids"
   ]
  },
  {
   "cell_type": "code",
   "execution_count": 6,
   "metadata": {},
   "outputs": [],
   "source": [
    "centroid_lists = \"中華電信,12pro,Pixel,1399元,24個月,199,LTE,3000,方案,5G,划算,電信業者,用中華,21M,攜碼\".split(\",\")"
   ]
  },
  {
   "cell_type": "code",
   "execution_count": 7,
   "metadata": {},
   "outputs": [
    {
     "name": "stderr",
     "output_type": "stream",
     "text": [
      "[INFO] 2021-01-04 15:03:05,191 gensim.utils: loading FastText object from E:\\LangOn\\casa\\data\\eda\\spm\\sp_vectors.model\n",
      "[INFO] 2021-01-04 15:03:05,262 gensim.utils: loading wv recursively from E:\\LangOn\\casa\\data\\eda\\spm\\sp_vectors.model.wv.* with mmap=None\n",
      "[INFO] 2021-01-04 15:03:05,263 gensim.utils: loading vectors_ngrams from E:\\LangOn\\casa\\data\\eda\\spm\\sp_vectors.model.wv.vectors_ngrams.npy with mmap=None\n",
      "[INFO] 2021-01-04 15:03:05,686 gensim.utils: setting ignored attribute vectors_ngrams_norm to None\n",
      "[INFO] 2021-01-04 15:03:05,687 gensim.utils: setting ignored attribute vectors_norm to None\n",
      "[INFO] 2021-01-04 15:03:05,688 gensim.utils: setting ignored attribute vectors_vocab_norm to None\n",
      "[INFO] 2021-01-04 15:03:05,688 gensim.utils: setting ignored attribute buckets_word to None\n",
      "[INFO] 2021-01-04 15:03:05,689 gensim.utils: loading vocabulary recursively from E:\\LangOn\\casa\\data\\eda\\spm\\sp_vectors.model.vocabulary.* with mmap=None\n",
      "[INFO] 2021-01-04 15:03:05,689 gensim.utils: loading trainables recursively from E:\\LangOn\\casa\\data\\eda\\spm\\sp_vectors.model.trainables.* with mmap=None\n",
      "[INFO] 2021-01-04 15:03:05,690 gensim.utils: loading vectors_ngrams_lockf from E:\\LangOn\\casa\\data\\eda\\spm\\sp_vectors.model.trainables.vectors_ngrams_lockf.npy with mmap=None\n",
      "[INFO] 2021-01-04 15:03:06,113 gensim.utils: loaded E:\\LangOn\\casa\\data\\eda\\spm\\sp_vectors.model\n"
     ]
    },
    {
     "data": {
      "text/plain": [
       "(5885, 100)"
      ]
     },
     "execution_count": 7,
     "metadata": {},
     "output_type": "execute_result"
    }
   ],
   "source": [
    "path = casa.get_data_path() / \"eda/spm/sp_vectors.model\"\n",
    "model = FastText.load(str(path))\n",
    "model.wv.vectors.shape"
   ]
  },
  {
   "cell_type": "code",
   "execution_count": 8,
   "metadata": {},
   "outputs": [],
   "source": [
    "dep_data = data[0].main.title_tree\n",
    "words = [x[0] for x in dep_data]    \n",
    "seeds = spm_centroids.loc[spm_centroids.centroid==\"方案\"].iloc[0].words.split()\n",
    "pots = casa.compute_potentials(words, seeds, model.wv)\n",
    "targets, targ_indices = casa.extract_with_potentials(words, pots)   "
   ]
  },
  {
   "cell_type": "markdown",
   "metadata": {},
   "source": [
    "## Sandboxing Tree eval"
   ]
  },
  {
   "cell_type": "code",
   "execution_count": 9,
   "metadata": {},
   "outputs": [],
   "source": [
    "tree = casa.make_tree(dep_data)"
   ]
  },
  {
   "cell_type": "code",
   "execution_count": 24,
   "metadata": {},
   "outputs": [
    {
     "data": {
      "text/plain": [
       "'最近 各 家 電信 一直 打電話 傳 簡訊 詢問 要不要 續約    有夠 煩 的 但 畢竟 合約 有 30 個 月  而 5G 未來 會 普及 也 是 不變 事實 ( ? 想 問板 上 大大 覺得 要 續約 嗎 ？ 還是 等 合約 到期    直接續 488 學生 方案 呢 ？'"
      ]
     },
     "execution_count": 24,
     "metadata": {},
     "output_type": "execute_result"
    }
   ],
   "source": [
    "' '.join([x[0] for x in dep_data])"
   ]
  },
  {
   "cell_type": "code",
   "execution_count": 25,
   "metadata": {},
   "outputs": [
    {
     "data": {
      "text/plain": [
       "(['續約', '合約', '續約', '合約', '488學生方案'], [[10], [17], [39], [44], [48, 49, 50]])"
      ]
     },
     "execution_count": 25,
     "metadata": {},
     "output_type": "execute_result"
    }
   ],
   "source": [
    "targets, targ_indices"
   ]
  },
  {
   "cell_type": "code",
   "execution_count": 47,
   "metadata": {},
   "outputs": [
    {
     "data": {
      "text/plain": [
       "[10, 17, 39, 44, 48, 49, 50]"
      ]
     },
     "execution_count": 47,
     "metadata": {},
     "output_type": "execute_result"
    }
   ],
   "source": [
    "list(chain.from_iterable(targ_indices))"
   ]
  },
  {
   "cell_type": "code",
   "execution_count": 48,
   "metadata": {},
   "outputs": [
    {
     "name": "stdout",
     "output_type": "stream",
     "text": [
      "合約 <有-dep>: 有 30 個 月  而 5G 未來 會 普及 也 是 不變 事實 ( ?\n",
      "續約 <覺得-ccomp>: 問板 上 大大 覺得\n",
      "合約 <到期-nsubj>: 到期   \n",
      "488學生方案 <到期-dobj>: 到期   \n",
      "488學生方案 <方案-dep/compound:nn>: 直接續 方案\n"
     ]
    }
   ],
   "source": [
    "from itertools import chain\n",
    "mask_ids = list(chain.from_iterable(targ_indices))\n",
    "for site_ids in targ_indices:\n",
    "    casa.find_eval_text(tree, site_ids, mask_ids)\n",
    "    "
   ]
  },
  {
   "cell_type": "code",
   "execution_count": 92,
   "metadata": {},
   "outputs": [],
   "source": [
    "from collections import Counter\n",
    "from tqdm.auto import tqdm\n",
    "\n",
    "\n",
    "def find_targets(dep_data, seeds, wv):\n",
    "    try:\n",
    "        words = [x[0] for x in dep_data]    \n",
    "        pots = casa.compute_potentials(words, seeds, wv)\n",
    "        targets, targ_indices = casa.extract_with_potentials(words, pots)        \n",
    "    except Exception as ex:\n",
    "        print(ex)\n",
    "        targets = []\n",
    "        targ_indices = []\n",
    "    return targets, targ_indices\n",
    "\n",
    "def process_tree(dep_data, tokens, seeds, wv):    \n",
    "    targets, targ_indices = find_targets(dep_data, seeds, model.wv)\n",
    "    mask_ids = list(chain.from_iterable(targ_indices))            \n",
    "    eval_texts = []\n",
    "    dep_tree = casa.make_tree(dep_data, tokens)\n",
    "    for site_ids in targ_indices:\n",
    "        eval_entries = casa.find_eval_text(dep_tree, site_ids, mask_ids)\n",
    "        eval_texts.extend([x[\"evaltext\"] for x in eval_entries])\n",
    "    return targets, eval_texts\n",
    "\n",
    "def extract_targets(data, seeds, centroid):\n",
    "    target_list = []\n",
    "    eval_texts = []\n",
    "    for data_item in tqdm(data, desc=centroid):    \n",
    "        # titles\n",
    "        if data_item.main and data_item.main.title_tree:\n",
    "            targets, evals = process_tree(\n",
    "                data_item.main.title_tree, \n",
    "                data_item.main.proc_info[\"ckip\"][\"text\"],\n",
    "                seeds, model.wv)\n",
    "            target_list.extend(targets)\n",
    "            eval_texts.extend(evals)\n",
    "\n",
    "        # replies\n",
    "        for reply_x in data_item.replies:\n",
    "            if not reply_x.text_tree: continue\n",
    "            targets, evals = process_tree(\n",
    "                reply_x.text_tree, \n",
    "                reply_x.proc_info[\"ckip\"][\"text\"], \n",
    "                seeds, model.wv)\n",
    "            target_list.extend(targets)\n",
    "            eval_texts.extend(evals)\n",
    "            \n",
    "    return Counter(target_list), eval_texts"
   ]
  },
  {
   "cell_type": "code",
   "execution_count": 93,
   "metadata": {},
   "outputs": [],
   "source": [
    "seeds = spm_centroids.loc[spm_centroids.centroid==centroid_lists[0]].iloc[0].words.split()"
   ]
  },
  {
   "cell_type": "code",
   "execution_count": 114,
   "metadata": {},
   "outputs": [
    {
     "data": {
      "application/vnd.jupyter.widget-view+json": {
       "model_id": "fab24e68c0c84bcd93eee1f13f1d3bcd",
       "version_major": 2,
       "version_minor": 0
      },
      "text/plain": [
       "HBox(children=(FloatProgress(value=0.0, description='中華電信', max=7772.0, style=ProgressStyle(description_width=…"
      ]
     },
     "metadata": {},
     "output_type": "display_data"
    },
    {
     "name": "stdout",
     "output_type": "stream",
     "text": [
      "\n"
     ]
    }
   ],
   "source": [
    "targets, eval_texts = extract_targets(data, seeds, centroid_lists[0])"
   ]
  },
  {
   "cell_type": "code",
   "execution_count": 115,
   "metadata": {},
   "outputs": [
    {
     "data": {
      "text/plain": [
       "[('5G', 7049),\n",
       " ('遠傳', 5726),\n",
       " ('中華', 4431),\n",
       " ('電信', 3468),\n",
       " ('亞太', 3285),\n",
       " ('台星', 3205),\n",
       " ('中華電信', 3181),\n",
       " ('4G', 2493),\n",
       " ('台哥大', 2176),\n",
       " ('大哥大', 1471)]"
      ]
     },
     "execution_count": 115,
     "metadata": {},
     "output_type": "execute_result"
    }
   ],
   "source": [
    "targets.most_common(10)"
   ]
  },
  {
   "cell_type": "code",
   "execution_count": 116,
   "metadata": {},
   "outputs": [],
   "source": [
    "eval_counter = Counter(chain.from_iterable(eval_texts))"
   ]
  },
  {
   "cell_type": "code",
   "execution_count": 128,
   "metadata": {},
   "outputs": [],
   "source": [
    "grams_counter = Counter()\n",
    "for eval_text in eval_texts:\n",
    "    for idx in range(len(eval_text)):\n",
    "        if idx+2 > len(eval_text):\n",
    "            break        \n",
    "        tok = eval_text[idx:idx+2]\n",
    "        if any(\"VH\" in x[1] for x in tok):\n",
    "            tok = \"\".join(f\"{x[0]}({x[1]})\" for x in tok)        \n",
    "            grams_counter[tok] += 1"
   ]
  },
  {
   "cell_type": "code",
   "execution_count": 129,
   "metadata": {},
   "outputs": [
    {
     "data": {
      "text/plain": [
       "[('到(DE)飽(VH)', 359),\n",
       " ('吃到(VC)飽(VH)', 357),\n",
       " ('最(Dfa)高(VH)', 157),\n",
       " ('飽(VH)，(COMMACATEGORY)', 137),\n",
       " ('不(D)限速(VH)', 123),\n",
       " ('飽(VH)的(DE)', 118),\n",
       " ('三(Neu)大(VH)', 103),\n",
       " ('限(VJ)速(VH)', 97),\n",
       " ('不(D)好(VH)', 72),\n",
       " ('就(D)好(VH)', 71),\n",
       " ('上市(VH)販售(VD)', 67),\n",
       " ('有用到(VH)才(Da)', 66),\n",
       " ('好(VH)，(COMMACATEGORY)', 65),\n",
       " ('比較(Dfa)好(VH)', 62),\n",
       " ('用戶(Na)升級(VH)', 62),\n",
       " ('速(VH)吃(VC)', 60),\n",
       " ('，(COMMACATEGORY)直接(VH)', 58),\n",
       " ('台灣(Nc)大(VH)', 57),\n",
       " ('及(Caa)上市(VH)', 55),\n",
       " ('最(Dfa)低(VH)', 53),\n",
       " ('多(VH)，(COMMACATEGORY)', 51),\n",
       " ('好(VH)  (WHITESPACE)', 49),\n",
       " ('飽(VH)  (WHITESPACE)', 45),\n",
       " ('更(Dfa)大(VH)', 44),\n",
       " ('合作(VH)，(COMMACATEGORY)', 44),\n",
       " ('最(Dfa)快(VH)', 42),\n",
       " ('夠(VH)用(VC)', 42),\n",
       " ('新(VH)的(DE)', 41),\n",
       " ('免費(VH)，(COMMACATEGORY)', 40),\n",
       " ('舊(VH)i(FW)', 40),\n",
       " ('直接(VH)在(P)', 40),\n",
       " ('速(VH)吃到(VC)', 39),\n",
       " ('很(Dfa)差(VH)', 39),\n",
       " ('很(Dfa)爛(VH)', 38),\n",
       " ('限量(VH)網路(Na)', 38),\n",
       " ('5(Neu)大(VH)', 38),\n",
       " ('老(VH)客戶(Na)', 37),\n",
       " ('很(Dfa)大(VH)', 36),\n",
       " ('好(VH)的(DE)', 36),\n",
       " ('升級(VH)速度(Na)', 36),\n",
       " ('7月(Nd)更多(VH)', 36),\n",
       " ('更多(VH)了(Di)', 36),\n",
       " ('台灣(Nc)大下(VH)', 36),\n",
       " ('大下(VH)半(Neqa)', 36),\n",
       " ('舊(VH)機(Na)', 35),\n",
       " ('免費(VH)的(DE)', 34),\n",
       " ('大(VH)，(COMMACATEGORY)', 34),\n",
       " ('差(VH)，(COMMACATEGORY)', 34),\n",
       " ('限速(VH)上網(VA)', 34),\n",
       " ('是(SHI)這樣(VH)', 34),\n",
       " ('合約(Na)到期(VH)', 32),\n",
       " ('大(VH)把(Nf)', 32),\n",
       " ('快(VH)，(COMMACATEGORY)', 31),\n",
       " ('爛(VH)，(COMMACATEGORY)', 31),\n",
       " ('限速(VH)每(Nes)', 31),\n",
       " ('大(VH)業者(Na)', 31),\n",
       " ('價格(Na)親民(VH)', 31),\n",
       " ('內(Ncd)免費(VH)', 30),\n",
       " ('精采(VH)購機(VA)', 30),\n",
       " ('祭出(VC)新(VH)', 30),\n",
       " ('差(VH)  (WHITESPACE)', 29),\n",
       " ('高(VH)，(COMMACATEGORY)', 29),\n",
       " ('不錯(VH)，(COMMACATEGORY)', 28),\n",
       " ('多(Dfa)快(VH)', 28),\n",
       " ('便宜(VH)，(COMMACATEGORY)', 28),\n",
       " ('大(VH)創新(VC)', 28),\n",
       " ('「(PARENTHESISCATEGORY)純(VH)', 28),\n",
       " ('純(VH)」(PARENTHESISCATEGORY)', 28),\n",
       " ('、(PAUSECATEGORY)上市(VH)', 28),\n",
       " ('滲透率(Na)加快(VHC)', 28),\n",
       " ('慢(VH)到(P)', 27),\n",
       " ('很(Dfa)慢(VH)', 27),\n",
       " ('大(VH)的(DE)', 27),\n",
       " ('全民(Na)舊(VH)', 27),\n",
       " ('最(Dfa)大(VH)', 26),\n",
       " ('很(Dfa)好(VH)', 26),\n",
       " ('比較(Dfa)快(VH)', 26),\n",
       " ('到期(VH)，(COMMACATEGORY)', 26),\n",
       " ('便宜(VH)的(DE)', 26),\n",
       " ('最(Dfa)好(VH)', 25),\n",
       " ('高(VH)再(D)', 25),\n",
       " ('申辦(VC)成功(VH)', 24),\n",
       " ('都(D)一樣(VH)', 24),\n",
       " ('「(PARENTHESISCATEGORY)舊(VH)', 24),\n",
       " ('高(VH)可(D)', 24),\n",
       " ('很(Dfa)樂觀(VH)', 24),\n",
       " ('樂觀(VH)，(COMMACATEGORY)', 24),\n",
       " ('大(VH)積極(VH)', 24),\n",
       " ('直營(VH)門市(Nc)', 23),\n",
       " ('太多(VH)了(T)', 23),\n",
       " ('之(DE)亂(VH)', 23),\n",
       " ('語音(Na)免費(VH)', 23),\n",
       " ('親民(VH)與(Caa)', 23),\n",
       " ('很(Dfa)貴(VH)', 22),\n",
       " ('很(Dfa)快(VH)', 22),\n",
       " ('正式(VH)開賣(VD)', 22),\n",
       " ('12 Pro(FW)限量(VH)', 22),\n",
       " ('限量(VH)預約(VC)', 22),\n",
       " ('和(Caa)合作(VH)', 22),\n",
       " ('便宜(VH)  (WHITESPACE)', 21)]"
      ]
     },
     "execution_count": 129,
     "metadata": {},
     "output_type": "execute_result"
    }
   ],
   "source": [
    "grams_counter.most_common(100)"
   ]
  },
  {
   "cell_type": "code",
   "execution_count": null,
   "metadata": {},
   "outputs": [],
   "source": []
  }
 ],
 "metadata": {
  "kernelspec": {
   "display_name": "Python 3",
   "language": "python",
   "name": "python3"
  },
  "language_info": {
   "codemirror_mode": {
    "name": "ipython",
    "version": 3
   },
   "file_extension": ".py",
   "mimetype": "text/x-python",
   "name": "python",
   "nbconvert_exporter": "python",
   "pygments_lexer": "ipython3",
   "version": "3.8.2"
  }
 },
 "nbformat": 4,
 "nbformat_minor": 4
}

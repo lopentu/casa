{
 "cells": [
  {
   "cell_type": "code",
   "execution_count": 1,
   "metadata": {},
   "outputs": [],
   "source": [
    "%load_ext autoreload\n",
    "%autoreload 2"
   ]
  },
  {
   "cell_type": "code",
   "execution_count": 2,
   "metadata": {},
   "outputs": [],
   "source": [
    "import pickle\n",
    "import numpy as np\n",
    "from import_casa import casa\n",
    "from casa import caprice\n",
    "from icecream import ic"
   ]
  },
  {
   "cell_type": "code",
   "execution_count": 3,
   "metadata": {},
   "outputs": [],
   "source": [
    "import matplotlib.pyplot as plt\n",
    "plt.rcParams[\"font.family\"] = \"Microsoft JhengHei\"\n",
    "# plt.rcParams[\"font.family\"] = \"Heiti TC\""
   ]
  },
  {
   "cell_type": "code",
   "execution_count": 4,
   "metadata": {},
   "outputs": [],
   "source": [
    "with open(\"../../../data/caprice/seq_shapley_data_cons.pkl\", \"rb\") as fin:\n",
    "    data = pickle.load(fin)"
   ]
  },
  {
   "cell_type": "code",
   "execution_count": 5,
   "metadata": {},
   "outputs": [],
   "source": [
    "with open(\"../../../data/caprice/pos_list.txt\", \"r\") as fin:\n",
    "    pos_list = fin.readlines()\n",
    "pos_list = [x.strip() for x in pos_list]"
   ]
  },
  {
   "cell_type": "code",
   "execution_count": 6,
   "metadata": {},
   "outputs": [
    {
     "data": {
      "text/plain": [
       "39"
      ]
     },
     "execution_count": 6,
     "metadata": {},
     "output_type": "execute_result"
    }
   ],
   "source": [
    "import csv\n",
    "with open(\"../../../data/caprice/sentiment-constructicon.csv\", \"r\", encoding=\"UTF-8\") as fin:\n",
    "    fin.readline()\n",
    "    csvwriter = csv.reader(fin)\n",
    "    constructions = [(x[0], float(x[1])) for x in csvwriter if x[1]]\n",
    "len(constructions)"
   ]
  },
  {
   "cell_type": "code",
   "execution_count": 7,
   "metadata": {},
   "outputs": [
    {
     "name": "stdout",
     "output_type": "stream",
     "text": [
      "Correctly classified:  101\n",
      "All instances:  103\n",
      "Accuracy:  0.9805825242718447\n"
     ]
    }
   ],
   "source": [
    "n_correct = sum(x[1] == x[3] for x in data)\n",
    "print(\"Correctly classified: \", n_correct)\n",
    "print(\"All instances: \", len(data))\n",
    "print(\"Accuracy: \", n_correct/len(data))"
   ]
  },
  {
   "cell_type": "code",
   "execution_count": 8,
   "metadata": {},
   "outputs": [
    {
     "data": {
      "text/plain": [
       "(69, (69, 80))"
      ]
     },
     "execution_count": 8,
     "metadata": {},
     "output_type": "execute_result"
    }
   ],
   "source": [
    "len(data[10][2][\"raw_tokens\"]), data[10][2][\"pos_probs\"].shape"
   ]
  },
  {
   "cell_type": "code",
   "execution_count": 106,
   "metadata": {},
   "outputs": [],
   "source": [
    "import re\n",
    "def find_construction(intxt, constructions):\n",
    "    for cons, score in constructions:\n",
    "        mat = re.search(cons, intxt)\n",
    "        if mat:\n",
    "            return cons, score\n",
    "    return \"\", 0"
   ]
  },
  {
   "cell_type": "code",
   "execution_count": 107,
   "metadata": {},
   "outputs": [],
   "source": [
    "\n",
    "def align_tokens(probe, tokens):\n",
    "    start = -1\n",
    "    end = -1\n",
    "    cursor = 0\n",
    "    # ic(len(probe))\n",
    "    for tok_i, tok in enumerate(tokens):                \n",
    "        tok = tok.strip()\n",
    "        m = len(tok)\n",
    "        # seg = probe[cursor:cursor+m]        \n",
    "        if tok == probe[cursor:cursor+m]:\n",
    "            if start == -1:\n",
    "                start = tok_i                             \n",
    "            else:\n",
    "                end = tok_i            \n",
    "            cursor += m\n",
    "        else:\n",
    "            if start != -1:\n",
    "                cursor = 0\n",
    "                start = -1\n",
    "                end = -1        \n",
    "        # ic(tok, seg, cursor, start, end)\n",
    "        if cursor >= len(probe):\n",
    "            return (start, end+1)        \n",
    "    return (0, 0)"
   ]
  },
  {
   "cell_type": "code",
   "execution_count": 119,
   "metadata": {},
   "outputs": [],
   "source": [
    "cons_scores = []\n",
    "for data_x in data:\n",
    "    if data_x[1] != data_x[3]:\n",
    "        continue\n",
    "    \n",
    "    if data_x[1] == 1:\n",
    "        polarity = -1\n",
    "    elif data_x[1] == 2:\n",
    "        polarity = 1\n",
    "    else:\n",
    "        continue\n",
    "        \n",
    "    txt = data_x[0]\n",
    "    shap_data = data_x[2]\n",
    "    cons, con_score = find_construction(txt, constructions)\n",
    "    mat = re.search(cons, txt)\n",
    "    raw_tokens = shap_data[\"raw_tokens\"]\n",
    "    tok_span = align_tokens(mat.group(), raw_tokens)\n",
    "    try:\n",
    "        assert \"\".join(raw_tokens[slice(*tok_span)]).strip() == mat.group()\n",
    "    except:\n",
    "        ic(mat.group())\n",
    "        break\n",
    "    tok2nd = shap_data[\"token_id_to_node_id_mapping\"]\n",
    "    group_values = shap_data[\"group_values\"]\n",
    "    shap_score = sum([group_values[int(x)] for x in set(tok2nd[slice(*tok_span)])])\n",
    "    shap_score *= polarity\n",
    "    cons_scores.append((cons, shap_score, data_x[1], con_score, data_x[0]))    "
   ]
  },
  {
   "cell_type": "code",
   "execution_count": 124,
   "metadata": {},
   "outputs": [
    {
     "data": {
      "text/plain": [
       "<matplotlib.collections.PathCollection at 0x24e69152ac0>"
      ]
     },
     "execution_count": 124,
     "metadata": {},
     "output_type": "execute_result"
    },
    {
     "data": {
      "image/png": "[encoded data removed]",
      "text/plain": [
       "<Figure size 432x288 with 1 Axes>"
      ]
     },
     "metadata": {
      "needs_background": "light"
     },
     "output_type": "display_data"
    }
   ],
   "source": [
    "con_shaps = [x[1] for x in cons_scores]\n",
    "con_score = [x[3] for x in cons_scores]\n",
    "plt.scatter(con_shaps, con_score)"
   ]
  },
  {
   "cell_type": "code",
   "execution_count": 127,
   "metadata": {},
   "outputs": [],
   "source": [
    "import pandas as pd\n",
    "con_dfr = pd.DataFrame.from_records(cons_scores, columns=[\"cons\", \"shap_score\", \"seq_label\", \"con_score\", \"text\"]).iloc[:, 1:4]\n",
    "con_dfr.to_csv(\"../../../data/caprice/construction_shap.csv\", index=False)"
   ]
  },
  {
   "cell_type": "code",
   "execution_count": 128,
   "metadata": {},
   "outputs": [
    {
     "data": {
      "text/html": [
       "<div>\n",
       "<style scoped>\n",
       "    .dataframe tbody tr th:only-of-type {\n",
       "        vertical-align: middle;\n",
       "    }\n",
       "\n",
       "    .dataframe tbody tr th {\n",
       "        vertical-align: top;\n",
       "    }\n",
       "\n",
       "    .dataframe thead th {\n",
       "        text-align: right;\n",
       "    }\n",
       "</style>\n",
       "<table border=\"1\" class=\"dataframe\">\n",
       "  <thead>\n",
       "    <tr style=\"text-align: right;\">\n",
       "      <th></th>\n",
       "      <th>shap_score</th>\n",
       "      <th>seq_label</th>\n",
       "      <th>con_score</th>\n",
       "    </tr>\n",
       "  </thead>\n",
       "  <tbody>\n",
       "    <tr>\n",
       "      <th>0</th>\n",
       "      <td>-0.331501</td>\n",
       "      <td>2</td>\n",
       "      <td>2.4</td>\n",
       "    </tr>\n",
       "    <tr>\n",
       "      <th>1</th>\n",
       "      <td>-5.376208</td>\n",
       "      <td>1</td>\n",
       "      <td>3.0</td>\n",
       "    </tr>\n",
       "    <tr>\n",
       "      <th>2</th>\n",
       "      <td>-5.125409</td>\n",
       "      <td>1</td>\n",
       "      <td>1.0</td>\n",
       "    </tr>\n",
       "    <tr>\n",
       "      <th>3</th>\n",
       "      <td>1.815327</td>\n",
       "      <td>2</td>\n",
       "      <td>3.8</td>\n",
       "    </tr>\n",
       "    <tr>\n",
       "      <th>4</th>\n",
       "      <td>2.236522</td>\n",
       "      <td>2</td>\n",
       "      <td>3.8</td>\n",
       "    </tr>\n",
       "    <tr>\n",
       "      <th>...</th>\n",
       "      <td>...</td>\n",
       "      <td>...</td>\n",
       "      <td>...</td>\n",
       "    </tr>\n",
       "    <tr>\n",
       "      <th>80</th>\n",
       "      <td>-1.636020</td>\n",
       "      <td>1</td>\n",
       "      <td>3.2</td>\n",
       "    </tr>\n",
       "    <tr>\n",
       "      <th>81</th>\n",
       "      <td>-5.329955</td>\n",
       "      <td>1</td>\n",
       "      <td>3.0</td>\n",
       "    </tr>\n",
       "    <tr>\n",
       "      <th>82</th>\n",
       "      <td>-7.419636</td>\n",
       "      <td>1</td>\n",
       "      <td>3.0</td>\n",
       "    </tr>\n",
       "    <tr>\n",
       "      <th>83</th>\n",
       "      <td>-4.088854</td>\n",
       "      <td>1</td>\n",
       "      <td>1.0</td>\n",
       "    </tr>\n",
       "    <tr>\n",
       "      <th>84</th>\n",
       "      <td>1.246150</td>\n",
       "      <td>2</td>\n",
       "      <td>1.8</td>\n",
       "    </tr>\n",
       "  </tbody>\n",
       "</table>\n",
       "<p>85 rows × 3 columns</p>\n",
       "</div>"
      ],
      "text/plain": [
       "    shap_score  seq_label  con_score\n",
       "0    -0.331501          2        2.4\n",
       "1    -5.376208          1        3.0\n",
       "2    -5.125409          1        1.0\n",
       "3     1.815327          2        3.8\n",
       "4     2.236522          2        3.8\n",
       "..         ...        ...        ...\n",
       "80   -1.636020          1        3.2\n",
       "81   -5.329955          1        3.0\n",
       "82   -7.419636          1        3.0\n",
       "83   -4.088854          1        1.0\n",
       "84    1.246150          2        1.8\n",
       "\n",
       "[85 rows x 3 columns]"
      ]
     },
     "execution_count": 128,
     "metadata": {},
     "output_type": "execute_result"
    }
   ],
   "source": [
    "con_dfr"
   ]
  },
  {
   "cell_type": "code",
   "execution_count": null,
   "metadata": {},
   "outputs": [],
   "source": []
  }
 ],
 "metadata": {
  "kernelspec": {
   "display_name": "Python 3",
   "language": "python",
   "name": "python3"
  },
  "language_info": {
   "codemirror_mode": {
    "name": "ipython",
    "version": 3
   },
   "file_extension": ".py",
   "mimetype": "text/x-python",
   "name": "python",
   "nbconvert_exporter": "python",
   "pygments_lexer": "ipython3",
   "version": "3.8.2"
  }
 },
 "nbformat": 4,
 "nbformat_minor": 4
}

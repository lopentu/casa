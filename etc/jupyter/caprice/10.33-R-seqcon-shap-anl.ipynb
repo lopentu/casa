{
 "cells": [
  {
   "cell_type": "code",
   "execution_count": 1,
   "metadata": {},
   "outputs": [
    {
     "name": "stderr",
     "output_type": "stream",
     "text": [
      "Loading required package: readr\n",
      "\n"
     ]
    }
   ],
   "source": [
    "require(readr)"
   ]
  },
  {
   "cell_type": "code",
   "execution_count": 2,
   "metadata": {},
   "outputs": [
    {
     "name": "stderr",
     "output_type": "stream",
     "text": [
      "Parsed with column specification:\n",
      "cols(\n",
      "  shap_score = \u001b[32mcol_double()\u001b[39m,\n",
      "  seq_label = \u001b[32mcol_double()\u001b[39m,\n",
      "  con_score = \u001b[32mcol_double()\u001b[39m\n",
      ")\n",
      "\n"
     ]
    }
   ],
   "source": [
    "dfr = read_csv(\"../../../data/caprice/construction_shap.csv\")"
   ]
  },
  {
   "cell_type": "code",
   "execution_count": 3,
   "metadata": {},
   "outputs": [],
   "source": [
    "dfr$seq_label = dfr$seq_label-1\n",
    "dfr$con_label = as.numeric(dfr$con_score > 3)"
   ]
  },
  {
   "cell_type": "code",
   "execution_count": 4,
   "metadata": {},
   "outputs": [
    {
     "data": {
      "text/html": [
       "<table>\n",
       "<caption>A tibble: 6 × 4</caption>\n",
       "<thead>\n",
       "\t<tr><th scope=col>shap_score</th><th scope=col>seq_label</th><th scope=col>con_score</th><th scope=col>con_label</th></tr>\n",
       "\t<tr><th scope=col>&lt;dbl&gt;</th><th scope=col>&lt;dbl&gt;</th><th scope=col>&lt;dbl&gt;</th><th scope=col>&lt;dbl&gt;</th></tr>\n",
       "</thead>\n",
       "<tbody>\n",
       "\t<tr><td>-0.331501</td><td>1</td><td>2.4</td><td>0</td></tr>\n",
       "\t<tr><td>-5.376208</td><td>0</td><td>3.0</td><td>0</td></tr>\n",
       "\t<tr><td>-5.125409</td><td>0</td><td>1.0</td><td>0</td></tr>\n",
       "\t<tr><td> 1.815327</td><td>1</td><td>3.8</td><td>1</td></tr>\n",
       "\t<tr><td> 2.236522</td><td>1</td><td>3.8</td><td>1</td></tr>\n",
       "\t<tr><td>-6.693552</td><td>0</td><td>1.8</td><td>0</td></tr>\n",
       "</tbody>\n",
       "</table>\n"
      ],
      "text/latex": [
       "A tibble: 6 × 4\n",
       "\\begin{tabular}{llll}\n",
       " shap\\_score & seq\\_label & con\\_score & con\\_label\\\\\n",
       " <dbl> & <dbl> & <dbl> & <dbl>\\\\\n",
       "\\hline\n",
       "\t -0.331501 & 1 & 2.4 & 0\\\\\n",
       "\t -5.376208 & 0 & 3.0 & 0\\\\\n",
       "\t -5.125409 & 0 & 1.0 & 0\\\\\n",
       "\t  1.815327 & 1 & 3.8 & 1\\\\\n",
       "\t  2.236522 & 1 & 3.8 & 1\\\\\n",
       "\t -6.693552 & 0 & 1.8 & 0\\\\\n",
       "\\end{tabular}\n"
      ],
      "text/markdown": [
       "\n",
       "A tibble: 6 × 4\n",
       "\n",
       "| shap_score &lt;dbl&gt; | seq_label &lt;dbl&gt; | con_score &lt;dbl&gt; | con_label &lt;dbl&gt; |\n",
       "|---|---|---|---|\n",
       "| -0.331501 | 1 | 2.4 | 0 |\n",
       "| -5.376208 | 0 | 3.0 | 0 |\n",
       "| -5.125409 | 0 | 1.0 | 0 |\n",
       "|  1.815327 | 1 | 3.8 | 1 |\n",
       "|  2.236522 | 1 | 3.8 | 1 |\n",
       "| -6.693552 | 0 | 1.8 | 0 |\n",
       "\n"
      ],
      "text/plain": [
       "  shap_score seq_label con_score con_label\n",
       "1 -0.331501  1         2.4       0        \n",
       "2 -5.376208  0         3.0       0        \n",
       "3 -5.125409  0         1.0       0        \n",
       "4  1.815327  1         3.8       1        \n",
       "5  2.236522  1         3.8       1        \n",
       "6 -6.693552  0         1.8       0        "
      ]
     },
     "metadata": {},
     "output_type": "display_data"
    }
   ],
   "source": [
    "head(dfr)"
   ]
  },
  {
   "cell_type": "code",
   "execution_count": 5,
   "metadata": {},
   "outputs": [
    {
     "data": {
      "text/plain": [
       "\n",
       "\tPearson's product-moment correlation\n",
       "\n",
       "data:  dfr$shap_score and dfr$seq_label\n",
       "t = 10.012, df = 83, p-value = 6.235e-16\n",
       "alternative hypothesis: true correlation is not equal to 0\n",
       "95 percent confidence interval:\n",
       " 0.6250102 0.8230079\n",
       "sample estimates:\n",
       "      cor \n",
       "0.7396142 \n"
      ]
     },
     "metadata": {},
     "output_type": "display_data"
    }
   ],
   "source": [
    "cor.test(dfr$shap_score, dfr$seq_label)"
   ]
  },
  {
   "cell_type": "code",
   "execution_count": 6,
   "metadata": {},
   "outputs": [
    {
     "data": {
      "text/plain": [
       "\n",
       "\tPearson's product-moment correlation\n",
       "\n",
       "data:  dfr$shap_score and dfr$con_label\n",
       "t = 3.4302, df = 83, p-value = 0.0009421\n",
       "alternative hypothesis: true correlation is not equal to 0\n",
       "95 percent confidence interval:\n",
       " 0.1505450 0.5259875\n",
       "sample estimates:\n",
       "      cor \n",
       "0.3523635 \n"
      ]
     },
     "metadata": {},
     "output_type": "display_data"
    }
   ],
   "source": [
    "cor.test(dfr$shap_score, dfr$con_label)"
   ]
  },
  {
   "cell_type": "code",
   "execution_count": 7,
   "metadata": {},
   "outputs": [],
   "source": [
    "m0 = glm(con_label~shap_score, data=dfr, family=\"binomial\")"
   ]
  },
  {
   "cell_type": "code",
   "execution_count": 8,
   "metadata": {},
   "outputs": [
    {
     "data": {
      "text/plain": [
       "\n",
       "Call:\n",
       "glm(formula = con_label ~ shap_score, family = \"binomial\", data = dfr)\n",
       "\n",
       "Deviance Residuals: \n",
       "    Min       1Q   Median       3Q      Max  \n",
       "-1.4414  -0.6112  -0.3081  -0.2406   2.0528  \n",
       "\n",
       "Coefficients:\n",
       "            Estimate Std. Error z value Pr(>|z|)    \n",
       "(Intercept)  -1.4828     0.3359  -4.415 1.01e-05 ***\n",
       "shap_score    0.3022     0.1043   2.897  0.00376 ** \n",
       "---\n",
       "Signif. codes:  0 '***' 0.001 '**' 0.01 '*' 0.05 '.' 0.1 ' ' 1\n",
       "\n",
       "(Dispersion parameter for binomial family taken to be 1)\n",
       "\n",
       "    Null deviance: 69.206  on 84  degrees of freedom\n",
       "Residual deviance: 58.356  on 83  degrees of freedom\n",
       "AIC: 62.356\n",
       "\n",
       "Number of Fisher Scoring iterations: 5\n"
      ]
     },
     "metadata": {},
     "output_type": "display_data"
    }
   ],
   "source": [
    "summary(m0)"
   ]
  },
  {
   "cell_type": "code",
   "execution_count": 9,
   "metadata": {},
   "outputs": [
    {
     "name": "stderr",
     "output_type": "stream",
     "text": [
      "Loading required package: ggplot2\n",
      "\n"
     ]
    }
   ],
   "source": [
    "require(ggplot2)"
   ]
  },
  {
   "cell_type": "code",
   "execution_count": 10,
   "metadata": {},
   "outputs": [
    {
     "data": {
      "text/html": [
       "<strong>png:</strong> 2"
      ],
      "text/latex": [
       "\\textbf{png:} 2"
      ],
      "text/markdown": [
       "**png:** 2"
      ],
      "text/plain": [
       "png \n",
       "  2 "
      ]
     },
     "metadata": {},
     "output_type": "display_data"
    }
   ],
   "source": [
    "png(\"construct_scores.png\", 1200, 1200, res=200)\n",
    "ggplot(dfr, aes(x=factor(con_label), y=shap_score)) + \n",
    "geom_boxplot() + \n",
    "# geom_dotplot(binaxis='y', stackdir='center', dotsize=0.6) + \n",
    "geom_jitter(shape=16, position=position_jitter(0.2), size=3) + \n",
    "ggtitle(\"Construction scores by polarity\") + \n",
    "xlab(\"Polarity\") + ylab(\"Construction scores\") + \n",
    "scale_x_discrete(labels=c(\"Negative\", \"Positive\")) + \n",
    "theme(text=element_text(size=16), plot.title=element_text(size=20, hjust=0.5)) + \n",
    "theme(axis.text.x=element_text(size=16))\n",
    "dev.off()"
   ]
  },
  {
   "cell_type": "markdown",
   "metadata": {},
   "source": [
    "## Annotation"
   ]
  },
  {
   "cell_type": "code",
   "execution_count": 11,
   "metadata": {},
   "outputs": [
    {
     "name": "stderr",
     "output_type": "stream",
     "text": [
      "Parsed with column specification:\n",
      "cols(\n",
      "  Pattern = \u001b[31mcol_character()\u001b[39m,\n",
      "  `model score` = \u001b[32mcol_double()\u001b[39m,\n",
      "  `weighted score` = \u001b[32mcol_double()\u001b[39m,\n",
      "  rating_a = \u001b[32mcol_double()\u001b[39m,\n",
      "  hascon_a = \u001b[32mcol_double()\u001b[39m,\n",
      "  con_a = \u001b[31mcol_character()\u001b[39m,\n",
      "  rating_b = \u001b[32mcol_double()\u001b[39m,\n",
      "  hascon_b = \u001b[32mcol_double()\u001b[39m,\n",
      "  con_b = \u001b[31mcol_character()\u001b[39m\n",
      ")\n",
      "\n"
     ]
    }
   ],
   "source": [
    "adfr = read_csv(\"../../../data/caprice/cons_annotated.csv\")"
   ]
  },
  {
   "cell_type": "code",
   "execution_count": 16,
   "metadata": {},
   "outputs": [],
   "source": [
    "consistent_items = adfr[(adfr$rating_a == adfr$rating_b) & (adfr$rating_b != -1), ]"
   ]
  },
  {
   "cell_type": "code",
   "execution_count": 18,
   "metadata": {},
   "outputs": [],
   "source": [
    "consistent_items$rating_label = consistent_items$rating_a"
   ]
  },
  {
   "cell_type": "code",
   "execution_count": 20,
   "metadata": {},
   "outputs": [],
   "source": [
    "m1 = glm(rating_label~`model score`, data=consistent_items, family=\"binomial\")"
   ]
  },
  {
   "cell_type": "code",
   "execution_count": 21,
   "metadata": {},
   "outputs": [
    {
     "data": {
      "text/plain": [
       "\n",
       "Call:\n",
       "glm(formula = rating_label ~ `model score`, family = \"binomial\", \n",
       "    data = consistent_items)\n",
       "\n",
       "Deviance Residuals: \n",
       "     Min        1Q    Median        3Q       Max  \n",
       "-1.96329  -0.03461  -0.01228  -0.00440   1.69060  \n",
       "\n",
       "Coefficients:\n",
       "              Estimate Std. Error z value Pr(>|z|)   \n",
       "(Intercept)    -0.2572     0.6830  -0.377  0.70652   \n",
       "`model score`   1.4955     0.5767   2.593  0.00951 **\n",
       "---\n",
       "Signif. codes:  0 '***' 0.001 '**' 0.01 '*' 0.05 '.' 0.1 ' ' 1\n",
       "\n",
       "(Dispersion parameter for binomial family taken to be 1)\n",
       "\n",
       "    Null deviance: 110.089  on 109  degrees of freedom\n",
       "Residual deviance:  16.107  on 108  degrees of freedom\n",
       "AIC: 20.107\n",
       "\n",
       "Number of Fisher Scoring iterations: 9\n"
      ]
     },
     "metadata": {},
     "output_type": "display_data"
    }
   ],
   "source": [
    "summary(m1)"
   ]
  },
  {
   "cell_type": "code",
   "execution_count": null,
   "metadata": {},
   "outputs": [],
   "source": []
  }
 ],
 "metadata": {
  "kernelspec": {
   "display_name": "R",
   "language": "R",
   "name": "ir"
  },
  "language_info": {
   "codemirror_mode": "r",
   "file_extension": ".r",
   "mimetype": "text/x-r-source",
   "name": "R",
   "pygments_lexer": "r",
   "version": "4.0.5"
  }
 },
 "nbformat": 4,
 "nbformat_minor": 4
}

{
 "cells": [
  {
   "cell_type": "code",
   "execution_count": 1,
   "metadata": {},
   "outputs": [],
   "source": [
    "import pandas as pd"
   ]
  },
  {
   "cell_type": "code",
   "execution_count": 5,
   "metadata": {},
   "outputs": [],
   "source": [
    "sheet_id = \"1fS0JePwvPNzeL6alOVgN1Dw_458GqQ_QMkx3qaRqLGU\"\n",
    "url = \"https://docs.google.com/spreadsheets/d/{sheet_id}/gviz/tq?tqx=out:csv&sheet={sheet_name}\""
   ]
  },
  {
   "cell_type": "code",
   "execution_count": 29,
   "metadata": {},
   "outputs": [],
   "source": [
    "base = pd.read_csv(url.format(sheet_id=sheet_id, sheet_name=\"base\")).iloc[:, :3]\n",
    "annot_a = pd.read_csv(url.format(sheet_id=sheet_id, sheet_name=\"annot_andrea\"))\n",
    "annot_b = pd.read_csv(url.format(sheet_id=sheet_id, sheet_name=\"annot_amy\"))"
   ]
  },
  {
   "cell_type": "code",
   "execution_count": 34,
   "metadata": {},
   "outputs": [],
   "source": [
    "def clean_dfr(dfr, suffix=\"\"):\n",
    "    dfr = dfr.iloc[:, :4]\n",
    "    dfr.columns=[\"Pattern\", \"rating_\"+suffix, \"hascon_\"+suffix, \"con_\"+suffix]\n",
    "    dfr.iloc[:,1] = dfr.iloc[:,1].fillna(-1)\n",
    "    dfr.iloc[:,3] = dfr.iloc[:,3].fillna(\"\")\n",
    "    return dfr "
   ]
  },
  {
   "cell_type": "code",
   "execution_count": 43,
   "metadata": {},
   "outputs": [],
   "source": [
    "annot_a = clean_dfr(annot_a, \"a\")\n",
    "annot_b.iloc[:, 1] = pd.to_numeric(annot_b.iloc[:, 1].str.replace(\"x\", \"nan\"), errors='coerce')\n",
    "annot_b = clean_dfr(annot_b, \"b\")"
   ]
  },
  {
   "cell_type": "code",
   "execution_count": 45,
   "metadata": {},
   "outputs": [],
   "source": [
    "m_dfr = base.merge(annot_a, on=\"Pattern\").merge(annot_b, on=\"Pattern\")"
   ]
  },
  {
   "cell_type": "code",
   "execution_count": 46,
   "metadata": {},
   "outputs": [
    {
     "data": {
      "text/html": [
       "<div>\n",
       "<style scoped>\n",
       "    .dataframe tbody tr th:only-of-type {\n",
       "        vertical-align: middle;\n",
       "    }\n",
       "\n",
       "    .dataframe tbody tr th {\n",
       "        vertical-align: top;\n",
       "    }\n",
       "\n",
       "    .dataframe thead th {\n",
       "        text-align: right;\n",
       "    }\n",
       "</style>\n",
       "<table border=\"1\" class=\"dataframe\">\n",
       "  <thead>\n",
       "    <tr style=\"text-align: right;\">\n",
       "      <th></th>\n",
       "      <th>Pattern</th>\n",
       "      <th>model score</th>\n",
       "      <th>weighted score</th>\n",
       "      <th>rating_a</th>\n",
       "      <th>hascon_a</th>\n",
       "      <th>con_a</th>\n",
       "      <th>rating_b</th>\n",
       "      <th>hascon_b</th>\n",
       "      <th>con_b</th>\n",
       "    </tr>\n",
       "  </thead>\n",
       "  <tbody>\n",
       "    <tr>\n",
       "      <th>0</th>\n",
       "      <td>推一個中華電信</td>\n",
       "      <td>7.8706</td>\n",
       "      <td>0.2189</td>\n",
       "      <td>1.0</td>\n",
       "      <td>1</td>\n",
       "      <td>推一個X</td>\n",
       "      <td>1.0</td>\n",
       "      <td>1</td>\n",
       "      <td>推一個N</td>\n",
       "    </tr>\n",
       "    <tr>\n",
       "      <th>1</th>\n",
       "      <td>跟中華</td>\n",
       "      <td>0.8342</td>\n",
       "      <td>0.1825</td>\n",
       "      <td>-1.0</td>\n",
       "      <td>0</td>\n",
       "      <td></td>\n",
       "      <td>-1.0</td>\n",
       "      <td>0</td>\n",
       "      <td></td>\n",
       "    </tr>\n",
       "    <tr>\n",
       "      <th>2</th>\n",
       "      <td>推薦中華</td>\n",
       "      <td>7.2743</td>\n",
       "      <td>0.1209</td>\n",
       "      <td>1.0</td>\n",
       "      <td>0</td>\n",
       "      <td></td>\n",
       "      <td>1.0</td>\n",
       "      <td>0</td>\n",
       "      <td></td>\n",
       "    </tr>\n",
       "    <tr>\n",
       "      <th>3</th>\n",
       "      <td>便宜很多冷門片</td>\n",
       "      <td>1.1679</td>\n",
       "      <td>0.1046</td>\n",
       "      <td>1.0</td>\n",
       "      <td>0</td>\n",
       "      <td></td>\n",
       "      <td>1.0</td>\n",
       "      <td>0</td>\n",
       "      <td></td>\n",
       "    </tr>\n",
       "    <tr>\n",
       "      <th>4</th>\n",
       "      <td>599價格</td>\n",
       "      <td>0.6231</td>\n",
       "      <td>0.0905</td>\n",
       "      <td>-1.0</td>\n",
       "      <td>0</td>\n",
       "      <td></td>\n",
       "      <td>-1.0</td>\n",
       "      <td>0</td>\n",
       "      <td></td>\n",
       "    </tr>\n",
       "    <tr>\n",
       "      <th>...</th>\n",
       "      <td>...</td>\n",
       "      <td>...</td>\n",
       "      <td>...</td>\n",
       "      <td>...</td>\n",
       "      <td>...</td>\n",
       "      <td>...</td>\n",
       "      <td>...</td>\n",
       "      <td>...</td>\n",
       "      <td>...</td>\n",
       "    </tr>\n",
       "    <tr>\n",
       "      <th>243</th>\n",
       "      <td>台哥大很爛</td>\n",
       "      <td>-6.8698</td>\n",
       "      <td>-0.1157</td>\n",
       "      <td>0.0</td>\n",
       "      <td>0</td>\n",
       "      <td></td>\n",
       "      <td>0.0</td>\n",
       "      <td>0</td>\n",
       "      <td></td>\n",
       "    </tr>\n",
       "    <tr>\n",
       "      <th>244</th>\n",
       "      <td>然後五樓蟲真的</td>\n",
       "      <td>-0.6196</td>\n",
       "      <td>-0.1208</td>\n",
       "      <td>-1.0</td>\n",
       "      <td>0</td>\n",
       "      <td></td>\n",
       "      <td>-1.0</td>\n",
       "      <td>0</td>\n",
       "      <td></td>\n",
       "    </tr>\n",
       "    <tr>\n",
       "      <th>245</th>\n",
       "      <td>學校裡面</td>\n",
       "      <td>-2.0681</td>\n",
       "      <td>-0.1208</td>\n",
       "      <td>-1.0</td>\n",
       "      <td>0</td>\n",
       "      <td></td>\n",
       "      <td>-1.0</td>\n",
       "      <td>0</td>\n",
       "      <td></td>\n",
       "    </tr>\n",
       "    <tr>\n",
       "      <th>246</th>\n",
       "      <td>中華電信的</td>\n",
       "      <td>-1.3989</td>\n",
       "      <td>-0.1210</td>\n",
       "      <td>-1.0</td>\n",
       "      <td>0</td>\n",
       "      <td></td>\n",
       "      <td>-1.0</td>\n",
       "      <td>0</td>\n",
       "      <td></td>\n",
       "    </tr>\n",
       "    <tr>\n",
       "      <th>247</th>\n",
       "      <td>台灣之</td>\n",
       "      <td>-0.5623</td>\n",
       "      <td>-0.1550</td>\n",
       "      <td>-1.0</td>\n",
       "      <td>0</td>\n",
       "      <td></td>\n",
       "      <td>-1.0</td>\n",
       "      <td>0</td>\n",
       "      <td></td>\n",
       "    </tr>\n",
       "  </tbody>\n",
       "</table>\n",
       "<p>248 rows × 9 columns</p>\n",
       "</div>"
      ],
      "text/plain": [
       "     Pattern  model score  weighted score  rating_a  hascon_a con_a  rating_b  \\\n",
       "0    推一個中華電信       7.8706          0.2189       1.0         1  推一個X       1.0   \n",
       "1        跟中華       0.8342          0.1825      -1.0         0            -1.0   \n",
       "2       推薦中華       7.2743          0.1209       1.0         0             1.0   \n",
       "3    便宜很多冷門片       1.1679          0.1046       1.0         0             1.0   \n",
       "4      599價格       0.6231          0.0905      -1.0         0            -1.0   \n",
       "..       ...          ...             ...       ...       ...   ...       ...   \n",
       "243    台哥大很爛      -6.8698         -0.1157       0.0         0             0.0   \n",
       "244  然後五樓蟲真的      -0.6196         -0.1208      -1.0         0            -1.0   \n",
       "245     學校裡面      -2.0681         -0.1208      -1.0         0            -1.0   \n",
       "246    中華電信的      -1.3989         -0.1210      -1.0         0            -1.0   \n",
       "247      台灣之      -0.5623         -0.1550      -1.0         0            -1.0   \n",
       "\n",
       "     hascon_b con_b  \n",
       "0           1  推一個N  \n",
       "1           0        \n",
       "2           0        \n",
       "3           0        \n",
       "4           0        \n",
       "..        ...   ...  \n",
       "243         0        \n",
       "244         0        \n",
       "245         0        \n",
       "246         0        \n",
       "247         0        \n",
       "\n",
       "[248 rows x 9 columns]"
      ]
     },
     "execution_count": 46,
     "metadata": {},
     "output_type": "execute_result"
    }
   ],
   "source": [
    "m_dfr"
   ]
  },
  {
   "cell_type": "code",
   "execution_count": 48,
   "metadata": {},
   "outputs": [
    {
     "data": {
      "text/html": [
       "<div>\n",
       "<style scoped>\n",
       "    .dataframe tbody tr th:only-of-type {\n",
       "        vertical-align: middle;\n",
       "    }\n",
       "\n",
       "    .dataframe tbody tr th {\n",
       "        vertical-align: top;\n",
       "    }\n",
       "\n",
       "    .dataframe thead th {\n",
       "        text-align: right;\n",
       "    }\n",
       "</style>\n",
       "<table border=\"1\" class=\"dataframe\">\n",
       "  <thead>\n",
       "    <tr style=\"text-align: right;\">\n",
       "      <th>rating_b</th>\n",
       "      <th>-1.0</th>\n",
       "      <th>0.0</th>\n",
       "      <th>1.0</th>\n",
       "    </tr>\n",
       "    <tr>\n",
       "      <th>rating_a</th>\n",
       "      <th></th>\n",
       "      <th></th>\n",
       "      <th></th>\n",
       "    </tr>\n",
       "  </thead>\n",
       "  <tbody>\n",
       "    <tr>\n",
       "      <th>-1.0</th>\n",
       "      <td>109</td>\n",
       "      <td>17</td>\n",
       "      <td>8</td>\n",
       "    </tr>\n",
       "    <tr>\n",
       "      <th>0.0</th>\n",
       "      <td>4</td>\n",
       "      <td>88</td>\n",
       "      <td>0</td>\n",
       "    </tr>\n",
       "    <tr>\n",
       "      <th>1.0</th>\n",
       "      <td>0</td>\n",
       "      <td>0</td>\n",
       "      <td>22</td>\n",
       "    </tr>\n",
       "  </tbody>\n",
       "</table>\n",
       "</div>"
      ],
      "text/plain": [
       "rating_b  -1.0   0.0   1.0\n",
       "rating_a                  \n",
       "-1.0       109    17     8\n",
       " 0.0         4    88     0\n",
       " 1.0         0     0    22"
      ]
     },
     "execution_count": 48,
     "metadata": {},
     "output_type": "execute_result"
    }
   ],
   "source": [
    "pd.crosstab(m_dfr.rating_a, m_dfr.rating_b)"
   ]
  },
  {
   "cell_type": "code",
   "execution_count": 49,
   "metadata": {},
   "outputs": [
    {
     "data": {
      "text/plain": [
       "0.8004550246934132"
      ]
     },
     "execution_count": 49,
     "metadata": {},
     "output_type": "execute_result"
    }
   ],
   "source": [
    "from sklearn.metrics import cohen_kappa_score\n",
    "cohen_kappa_score(m_dfr.rating_a, m_dfr.rating_b)"
   ]
  },
  {
   "cell_type": "code",
   "execution_count": 56,
   "metadata": {},
   "outputs": [
    {
     "data": {
      "text/plain": [
       "139"
      ]
     },
     "execution_count": 56,
     "metadata": {},
     "output_type": "execute_result"
    }
   ],
   "source": [
    "((m_dfr.rating_a != -1) | (m_dfr.rating_b != -1)).sum()"
   ]
  },
  {
   "cell_type": "code",
   "execution_count": 57,
   "metadata": {},
   "outputs": [
    {
     "data": {
      "text/plain": [
       "(248, 9)"
      ]
     },
     "execution_count": 57,
     "metadata": {},
     "output_type": "execute_result"
    }
   ],
   "source": [
    "m_dfr.shape"
   ]
  },
  {
   "cell_type": "code",
   "execution_count": 58,
   "metadata": {},
   "outputs": [
    {
     "data": {
      "text/plain": [
       "0.4435483870967742"
      ]
     },
     "execution_count": 58,
     "metadata": {},
     "output_type": "execute_result"
    }
   ],
   "source": [
    "110/248"
   ]
  },
  {
   "cell_type": "code",
   "execution_count": 65,
   "metadata": {},
   "outputs": [
    {
     "data": {
      "text/plain": [
       "55"
      ]
     },
     "execution_count": 65,
     "metadata": {},
     "output_type": "execute_result"
    }
   ],
   "source": [
    "(m_dfr.hascon_a | m_dfr.hascon_b).sum()"
   ]
  },
  {
   "cell_type": "code",
   "execution_count": 60,
   "metadata": {},
   "outputs": [],
   "source": [
    "m_dfr.to_csv(\"../../../data/caprice/cons_annotated.csv\", index=None)"
   ]
  },
  {
   "cell_type": "code",
   "execution_count": null,
   "metadata": {},
   "outputs": [],
   "source": []
  }
 ],
 "metadata": {
  "kernelspec": {
   "display_name": "Python 3",
   "language": "python",
   "name": "python3"
  },
  "language_info": {
   "codemirror_mode": {
    "name": "ipython",
    "version": 3
   },
   "file_extension": ".py",
   "mimetype": "text/x-python",
   "name": "python",
   "nbconvert_exporter": "python",
   "pygments_lexer": "ipython3",
   "version": "3.8.2"
  }
 },
 "nbformat": 4,
 "nbformat_minor": 4
}

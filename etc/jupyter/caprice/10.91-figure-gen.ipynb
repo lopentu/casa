{
 "cells": [
  {
   "cell_type": "code",
   "execution_count": 1,
   "metadata": {},
   "outputs": [],
   "source": [
    "%load_ext autoreload\n",
    "%autoreload 2"
   ]
  },
  {
   "cell_type": "code",
   "execution_count": 14,
   "metadata": {},
   "outputs": [],
   "source": [
    "import pickle\n",
    "import numpy as np\n",
    "from import_casa import casa\n",
    "from casa import caprice"
   ]
  },
  {
   "cell_type": "code",
   "execution_count": 3,
   "metadata": {},
   "outputs": [],
   "source": [
    "with open(\"../../../data/caprice/caprice_seq_data_20210430.pkl\", \"rb\") as fin:\n",
    "    data = pickle.load(fin)"
   ]
  },
  {
   "cell_type": "code",
   "execution_count": 4,
   "metadata": {},
   "outputs": [],
   "source": [
    "from transformers import AutoTokenizer, AutoModelForSequenceClassification\n",
    "model_path = \"../../../data/caprice/seq-model-ep9\"\n",
    "tokenizer = AutoTokenizer.from_pretrained(model_path)\n",
    "model = AutoModelForSequenceClassification.from_pretrained(model_path)"
   ]
  },
  {
   "cell_type": "code",
   "execution_count": 5,
   "metadata": {},
   "outputs": [],
   "source": [
    "import matplotlib.pyplot as plt\n",
    "plt.rcParams[\"font.family\"] = \"Microsoft JhengHei\""
   ]
  },
  {
   "cell_type": "code",
   "execution_count": 6,
   "metadata": {},
   "outputs": [],
   "source": [
    "import shap"
   ]
  },
  {
   "cell_type": "code",
   "execution_count": 7,
   "metadata": {},
   "outputs": [],
   "source": [
    "from transformers import pipeline\n",
    "caprice_pipeline = pipeline('sentiment-analysis', model=model, tokenizer=tokenizer)"
   ]
  },
  {
   "cell_type": "code",
   "execution_count": 8,
   "metadata": {},
   "outputs": [],
   "source": [
    "explainer = shap.Explainer(caprice_pipeline, algorithm=\"partition\")"
   ]
  },
  {
   "cell_type": "code",
   "execution_count": 9,
   "metadata": {},
   "outputs": [],
   "source": [
    "_masker = explainer.masker"
   ]
  },
  {
   "cell_type": "code",
   "execution_count": 10,
   "metadata": {},
   "outputs": [],
   "source": [
    "import torch\n",
    "from DistilTag import DistilTag\n",
    "tagger = DistilTag()"
   ]
  },
  {
   "cell_type": "code",
   "execution_count": 11,
   "metadata": {},
   "outputs": [
    {
     "data": {
      "text/plain": [
       "[[('我', 'Nh'),\n",
       "  ('才', 'Da'),\n",
       "  ('不要', 'D'),\n",
       "  ('去', 'D'),\n",
       "  ('辦', 'VC'),\n",
       "  ('吃', 'VC'),\n",
       "  ('到', 'P'),\n",
       "  ('飽', 'VH')]]"
      ]
     },
     "execution_count": 11,
     "metadata": {},
     "output_type": "execute_result"
    }
   ],
   "source": [
    "tagger.tag(\"我才不要去辦吃到飽\")"
   ]
  },
  {
   "cell_type": "code",
   "execution_count": null,
   "metadata": {},
   "outputs": [],
   "source": []
  },
  {
   "cell_type": "code",
   "execution_count": 15,
   "metadata": {},
   "outputs": [],
   "source": [
    "from types import MethodType\n",
    "from functools import partial\n",
    "from scipy.cluster.hierarchy import to_tree, dendrogram\n",
    "txt = \"他貴到一個爆炸\"\n",
    "\n",
    "clustering_wrapper = partial(caprice.custom_clustering, pat=\"\", tagger_inst=tagger)\n",
    "explainer.masker.clustering = MethodType(clustering_wrapper, explainer.masker)\n",
    "shap_values = explainer([txt], fixed_context=0)"
   ]
  },
  {
   "cell_type": "code",
   "execution_count": 17,
   "metadata": {},
   "outputs": [],
   "source": [
    "Z = shap_values.clustering[0]"
   ]
  },
  {
   "cell_type": "code",
   "execution_count": 34,
   "metadata": {},
   "outputs": [
    {
     "data": {
      "image/png": "[encoded data removed]",
      "text/plain": [
       "<Figure size 360x216 with 1 Axes>"
      ]
     },
     "metadata": {
      "needs_background": "light"
     },
     "output_type": "display_data"
    }
   ],
   "source": [
    "dendrogram(Z, labels=_masker._segments_s, link_color_func=lambda k: \"#333333\");\n",
    "plt.gca().tick_params(axis='x', which='major', labelsize=15)\n",
    "plt.ylabel(\"Distance\", fontsize=12)\n",
    "plt.title(\"Clustering with boundary probability\", fontsize=16)\n",
    "plt.gcf().set_size_inches((5,3))\n",
    "plt.savefig(\"word_clustering.png\", dpi=150)"
   ]
  },
  {
   "cell_type": "code",
   "execution_count": 110,
   "metadata": {},
   "outputs": [],
   "source": [
    "from types import MethodType\n",
    "from functools import partial\n",
    "clustering_wrapper = partial(custom_clustering, pat=\"(到一個)\")\n",
    "explainer.masker.clustering = MethodType(clustering_wrapper, explainer.masker)"
   ]
  },
  {
   "cell_type": "code",
   "execution_count": 111,
   "metadata": {},
   "outputs": [],
   "source": [
    "shap_values = explainer([\"他貴到一個爆炸\"])"
   ]
  },
  {
   "cell_type": "code",
   "execution_count": 114,
   "metadata": {},
   "outputs": [
    {
     "data": {
      "text/plain": [
       "array([[[ 4.        ,  5.        ,  0.12327712,  2.        ],\n",
       "        [ 3.        ,  9.        ,  0.1359199 ,  3.        ],\n",
       "        [ 6.        ,  7.        ,  0.17089015,  2.        ],\n",
       "        [ 2.        , 10.        ,  0.3227866 ,  4.        ],\n",
       "        [11.        , 12.        ,  0.63041621,  6.        ],\n",
       "        [ 0.        ,  1.        ,  0.64684439,  2.        ],\n",
       "        [13.        , 14.        ,  0.75969934,  8.        ],\n",
       "        [ 8.        , 15.        ,  1.        ,  9.        ]]])"
      ]
     },
     "execution_count": 114,
     "metadata": {},
     "output_type": "execute_result"
    }
   ],
   "source": [
    "shap_values.clustering"
   ]
  },
  {
   "cell_type": "code",
   "execution_count": 115,
   "metadata": {},
   "outputs": [
    {
     "data": {
      "image/png": "[encoded data removed]",
      "text/plain": [
       "<Figure size 432x288 with 1 Axes>"
      ]
     },
     "metadata": {
      "needs_background": "light"
     },
     "output_type": "display_data"
    }
   ],
   "source": [
    "dendrogram(shap_values.clustering[0], labels=_masker._segments_s);"
   ]
  },
  {
   "cell_type": "code",
   "execution_count": 112,
   "metadata": {},
   "outputs": [
    {
     "data": {
      "text/html": [
       "<svg width=\"100%\" height=\"80px\"><line x1=\"0\" y1=\"33\" x2=\"100%\" y2=\"33\" style=\"stroke:rgb(150,150,150);stroke-width:1\" /><line x1=\"11.938930%\" y1=\"33\" x2=\"11.938930%\" y2=\"37\" style=\"stroke:rgb(150,150,150);stroke-width:1\" /><text x=\"11.938930%\" y=\"27\" font-size=\"12px\" fill=\"rgb(120,120,120)\" dominant-baseline=\"bottom\" text-anchor=\"middle\">0.000000</text><text x=\"11.938930%\" y=\"10\" font-size=\"12px\" fill=\"rgb(120,120,120)\" dominant-baseline=\"bottom\" text-anchor=\"middle\">base value</text><line x1=\"26.224645%\" y1=\"33\" x2=\"26.224645%\" y2=\"37\" style=\"stroke:rgb(150,150,150);stroke-width:1\" /><text x=\"26.224645%\" y=\"27\" font-size=\"12px\" fill=\"rgb(120,120,120)\" dominant-baseline=\"bottom\" text-anchor=\"middle\">0.188270</text><line x1=\"40.510359%\" y1=\"33\" x2=\"40.510359%\" y2=\"37\" style=\"stroke:rgb(150,150,150);stroke-width:1\" /><text x=\"40.510359%\" y=\"27\" font-size=\"12px\" fill=\"rgb(120,120,120)\" dominant-baseline=\"bottom\" text-anchor=\"middle\">0.376541</text><line x1=\"54.796073%\" y1=\"33\" x2=\"54.796073%\" y2=\"37\" style=\"stroke:rgb(150,150,150);stroke-width:1\" /><text x=\"54.796073%\" y=\"27\" font-size=\"12px\" fill=\"rgb(120,120,120)\" dominant-baseline=\"bottom\" text-anchor=\"middle\">0.564811</text><line x1=\"69.081787%\" y1=\"33\" x2=\"69.081787%\" y2=\"37\" style=\"stroke:rgb(150,150,150);stroke-width:1\" /><text x=\"69.081787%\" y=\"27\" font-size=\"12px\" fill=\"rgb(120,120,120)\" dominant-baseline=\"bottom\" text-anchor=\"middle\">0.753081</text><line x1=\"83.367502%\" y1=\"33\" x2=\"83.367502%\" y2=\"37\" style=\"stroke:rgb(150,150,150);stroke-width:1\" /><text x=\"83.367502%\" y=\"27\" font-size=\"12px\" fill=\"rgb(120,120,120)\" dominant-baseline=\"bottom\" text-anchor=\"middle\">0.941351</text><line x1=\"88.061070%\" y1=\"33\" x2=\"88.061070%\" y2=\"37\" style=\"stroke:rgb(150,150,150);stroke-width:1\" /><text x=\"88.061070%\" y=\"27\" font-size=\"13px\" style=\"stroke:#ffffff;stroke-width:8px;\" font-weight=\"bold\" fill=\"rgb(255,255,255)\" dominant-baseline=\"bottom\" text-anchor=\"middle\">1.003207</text><text x=\"88.061070%\" y=\"27\" font-size=\"13px\" font-weight=\"bold\" fill=\"rgb(0,0,0)\" dominant-baseline=\"bottom\" text-anchor=\"middle\">1.003207</text><text x=\"88.061070%\" y=\"10\" font-size=\"12px\" fill=\"rgb(120,120,120)\" dominant-baseline=\"bottom\" text-anchor=\"middle\">f(x)</text><rect x=\"4.7277325778897525%\" width=\"83.33333717291467%\" y=\"40\" height=\"18\" style=\"fill:rgb(255.0, 0.0, 81.08083606031792); stroke-width:0; stroke:rgb(0,0,0)\" /><line x1=\"9.922870865944288%\" x2=\"88.06106975080444%\" y1=\"60\" y2=\"60\" id=\"_fb_gnfoiaqsvizqmutbhyzz_ind_3\" style=\"stroke:rgb(255.0, 0.0, 81.08083606031792);stroke-width:2; opacity: 0\"/><text x=\"48.99197030837436%\" y=\"71\" font-size=\"12px\" id=\"_fs_gnfoiaqsvizqmutbhyzz_ind_3\" fill=\"rgb(255.0, 0.0, 81.08083606031792)\" style=\"opacity: 0\" dominant-baseline=\"middle\" text-anchor=\"middle\">1.03</text><svg x=\"9.922870865944288%\" y=\"40\" height=\"20\" width=\"78.13819888486015%\">  <svg x=\"0\" y=\"0\" width=\"100%\" height=\"100%\">    <text x=\"50%\" y=\"9\" font-size=\"12px\" fill=\"rgb(255,255,255)\" dominant-baseline=\"middle\" text-anchor=\"middle\">貴到一個</text>  </svg></svg><line x1=\"7.325301721917017%\" x2=\"9.922870865944288%\" y1=\"60\" y2=\"60\" id=\"_fb_gnfoiaqsvizqmutbhyzz_ind_1\" style=\"stroke:rgb(255.0, 0.0, 81.08083606031792);stroke-width:2; opacity: 0\"/><text x=\"8.624086293930652%\" y=\"71\" font-size=\"12px\" id=\"_fs_gnfoiaqsvizqmutbhyzz_ind_1\" fill=\"rgb(255.0, 0.0, 81.08083606031792)\" style=\"opacity: 0\" dominant-baseline=\"middle\" text-anchor=\"middle\">0.034</text><svg x=\"7.325301721917017%\" y=\"40\" height=\"20\" width=\"2.597569144027271%\">  <svg x=\"0\" y=\"0\" width=\"100%\" height=\"100%\">    <text x=\"50%\" y=\"9\" font-size=\"12px\" fill=\"rgb(255,255,255)\" dominant-baseline=\"middle\" text-anchor=\"middle\">爆</text>  </svg></svg><line x1=\"4.7277325778897445%\" x2=\"7.325301721917017%\" y1=\"60\" y2=\"60\" id=\"_fb_gnfoiaqsvizqmutbhyzz_ind_2\" style=\"stroke:rgb(255.0, 0.0, 81.08083606031792);stroke-width:2; opacity: 0\"/><text x=\"6.0265171499033805%\" y=\"71\" font-size=\"12px\" id=\"_fs_gnfoiaqsvizqmutbhyzz_ind_2\" fill=\"rgb(255.0, 0.0, 81.08083606031792)\" style=\"opacity: 0\" dominant-baseline=\"middle\" text-anchor=\"middle\">0.034</text><svg x=\"4.7277325778897445%\" y=\"40\" height=\"20\" width=\"2.597569144027273%\">  <svg x=\"0\" y=\"0\" width=\"100%\" height=\"100%\">    <text x=\"50%\" y=\"9\" font-size=\"12px\" fill=\"rgb(255,255,255)\" dominant-baseline=\"middle\" text-anchor=\"middle\">炸</text>  </svg></svg><g transform=\"translate(0,0)\">  <svg x=\"9.922870865944288%\" y=\"40\" height=\"18\" overflow=\"visible\" width=\"30\">    <path d=\"M 0 -9 l 6 18 L 0 25\" fill=\"none\" style=\"stroke:rgb(255.0, 0.0, 81.08083606031792);stroke-width:2\" />  </svg></g><g transform=\"translate(2,0)\">  <svg x=\"9.922870865944288%\" y=\"40\" height=\"18\" overflow=\"visible\" width=\"30\">    <path d=\"M 0 -9 l 6 18 L 0 25\" fill=\"none\" style=\"stroke:rgb(255.0, 0.0, 81.08083606031792);stroke-width:2\" />  </svg></g><g transform=\"translate(4,0)\">  <svg x=\"9.922870865944288%\" y=\"40\" height=\"18\" overflow=\"visible\" width=\"30\">    <path d=\"M 0 -9 l 6 18 L 0 25\" fill=\"none\" style=\"stroke:rgb(255.0, 0.0, 81.08083606031792);stroke-width:2\" />  </svg></g><g transform=\"translate(6,0)\">  <svg x=\"9.922870865944288%\" y=\"40\" height=\"18\" overflow=\"visible\" width=\"30\">    <path d=\"M 0 -9 l 6 18 L 0 25\" fill=\"none\" style=\"stroke:rgb(255.0, 0.0, 81.08083606031792);stroke-width:2\" />  </svg></g><g transform=\"translate(-8,0)\">  <svg x=\"9.922870865944288%\" y=\"40\" height=\"18\" overflow=\"visible\" width=\"30\">    <path d=\"M 0 -9 l 6 18 L 0 25\" fill=\"none\" style=\"stroke:rgb(255.0, 0.0, 81.08083606031792);stroke-width:2\" />  </svg></g><g transform=\"translate(-6,0)\">  <svg x=\"9.922870865944288%\" y=\"40\" height=\"18\" overflow=\"visible\" width=\"30\">    <path d=\"M 0 -9 l 6 18 L 0 25\" fill=\"none\" style=\"stroke:rgb(255.0, 0.0, 81.08083606031792);stroke-width:2\" />  </svg></g><g transform=\"translate(-4,0)\">  <svg x=\"9.922870865944288%\" y=\"40\" height=\"18\" overflow=\"visible\" width=\"30\">    <path d=\"M 0 -9 l 6 18 L 0 25\" fill=\"none\" style=\"stroke:rgb(255.0, 0.0, 81.08083606031792);stroke-width:2\" />  </svg></g><g transform=\"translate(-2,0)\">  <svg x=\"9.922870865944288%\" y=\"40\" height=\"18\" overflow=\"visible\" width=\"30\">    <path d=\"M 0 -9 l 6 18 L 0 25\" fill=\"none\" style=\"stroke:rgb(255.0, 0.0, 81.08083606031792);stroke-width:2\" />  </svg></g><g transform=\"translate(0,0)\">  <svg x=\"7.325301721917017%\" y=\"40\" height=\"18\" overflow=\"visible\" width=\"30\">    <path d=\"M 0 -9 l 6 18 L 0 25\" fill=\"none\" style=\"stroke:rgb(255.0, 0.0, 81.08083606031792);stroke-width:2\" />  </svg></g><g transform=\"translate(2,0)\">  <svg x=\"7.325301721917017%\" y=\"40\" height=\"18\" overflow=\"visible\" width=\"30\">    <path d=\"M 0 -9 l 6 18 L 0 25\" fill=\"none\" style=\"stroke:rgb(255.0, 0.0, 81.08083606031792);stroke-width:2\" />  </svg></g><g transform=\"translate(4,0)\">  <svg x=\"7.325301721917017%\" y=\"40\" height=\"18\" overflow=\"visible\" width=\"30\">    <path d=\"M 0 -9 l 6 18 L 0 25\" fill=\"none\" style=\"stroke:rgb(255.0, 0.0, 81.08083606031792);stroke-width:2\" />  </svg></g><g transform=\"translate(6,0)\">  <svg x=\"7.325301721917017%\" y=\"40\" height=\"18\" overflow=\"visible\" width=\"30\">    <path d=\"M 0 -9 l 6 18 L 0 25\" fill=\"none\" style=\"stroke:rgb(255.0, 0.0, 81.08083606031792);stroke-width:2\" />  </svg></g><g transform=\"translate(-8,0)\">  <svg x=\"7.325301721917017%\" y=\"40\" height=\"18\" overflow=\"visible\" width=\"30\">    <path d=\"M 0 -9 l 6 18 L 0 25\" fill=\"none\" style=\"stroke:rgb(255.0, 0.0, 81.08083606031792);stroke-width:2\" />  </svg></g><g transform=\"translate(-6,0)\">  <svg x=\"7.325301721917017%\" y=\"40\" height=\"18\" overflow=\"visible\" width=\"30\">    <path d=\"M 0 -9 l 6 18 L 0 25\" fill=\"none\" style=\"stroke:rgb(255.0, 0.0, 81.08083606031792);stroke-width:2\" />  </svg></g><g transform=\"translate(-4,0)\">  <svg x=\"7.325301721917017%\" y=\"40\" height=\"18\" overflow=\"visible\" width=\"30\">    <path d=\"M 0 -9 l 6 18 L 0 25\" fill=\"none\" style=\"stroke:rgb(255.0, 0.0, 81.08083606031792);stroke-width:2\" />  </svg></g><g transform=\"translate(-2,0)\">  <svg x=\"7.325301721917017%\" y=\"40\" height=\"18\" overflow=\"visible\" width=\"30\">    <path d=\"M 0 -9 l 6 18 L 0 25\" fill=\"none\" style=\"stroke:rgb(255.0, 0.0, 81.08083606031792);stroke-width:2\" />  </svg></g><rect transform=\"translate(-8,0)\" x=\"88.06106975080444%\" y=\"40\" width=\"8\" height=\"18\" style=\"fill:rgb(255.0, 0.0, 81.08083606031792)\"/><g transform=\"translate(-11.5,0)\">  <svg x=\"4.7277325778897525%\" y=\"40\" height=\"18\" overflow=\"visible\" width=\"30\">    <path d=\"M 10 -9 l 6 18 L 10 25 L 0 25 L 0 -9\" fill=\"#ffffff\" style=\"stroke:rgb(255,255,255);stroke-width:2\" />  </svg></g><g transform=\"translate(-1.5,0)\">  <svg x=\"88.06106975080444%\" y=\"40\" height=\"18\" overflow=\"visible\" width=\"30\">    <path d=\"M 0 -9 l 6 18 L 0 25\" fill=\"none\" style=\"stroke:rgb(255, 195, 213);stroke-width:2\" />  </svg></g><rect x=\"9.922870865944288%\" y=\"40\" height=\"20\" width=\"78.13819888486015%\"      onmouseover=\"document.getElementById('_tp_gnfoiaqsvizqmutbhyzz_ind_3').style.textDecoration = 'underline';document.getElementById('_fs_gnfoiaqsvizqmutbhyzz_ind_3').style.opacity = 1;document.getElementById('_fb_gnfoiaqsvizqmutbhyzz_ind_3').style.opacity = 1;\"      onmouseout=\"document.getElementById('_tp_gnfoiaqsvizqmutbhyzz_ind_3').style.textDecoration = 'none';document.getElementById('_fs_gnfoiaqsvizqmutbhyzz_ind_3').style.opacity = 0;document.getElementById('_fb_gnfoiaqsvizqmutbhyzz_ind_3').style.opacity = 0;\" style=\"fill:rgb(0,0,0,0)\" /><g transform=\"translate(-1.5,0)\">  <svg x=\"9.922870865944288%\" y=\"40\" height=\"18\" overflow=\"visible\" width=\"30\">    <path d=\"M 0 -9 l 6 18 L 0 25\" fill=\"none\" style=\"stroke:rgb(255, 195, 213);stroke-width:2\" />  </svg></g><rect x=\"7.325301721917017%\" y=\"40\" height=\"20\" width=\"2.597569144027271%\"      onmouseover=\"document.getElementById('_tp_gnfoiaqsvizqmutbhyzz_ind_1').style.textDecoration = 'underline';document.getElementById('_fs_gnfoiaqsvizqmutbhyzz_ind_1').style.opacity = 1;document.getElementById('_fb_gnfoiaqsvizqmutbhyzz_ind_1').style.opacity = 1;\"      onmouseout=\"document.getElementById('_tp_gnfoiaqsvizqmutbhyzz_ind_1').style.textDecoration = 'none';document.getElementById('_fs_gnfoiaqsvizqmutbhyzz_ind_1').style.opacity = 0;document.getElementById('_fb_gnfoiaqsvizqmutbhyzz_ind_1').style.opacity = 0;\" style=\"fill:rgb(0,0,0,0)\" /><rect x=\"4.7277325778897445%\" y=\"40\" height=\"20\" width=\"2.597569144027273%\"      onmouseover=\"document.getElementById('_tp_gnfoiaqsvizqmutbhyzz_ind_2').style.textDecoration = 'underline';document.getElementById('_fs_gnfoiaqsvizqmutbhyzz_ind_2').style.opacity = 1;document.getElementById('_fb_gnfoiaqsvizqmutbhyzz_ind_2').style.opacity = 1;\"      onmouseout=\"document.getElementById('_tp_gnfoiaqsvizqmutbhyzz_ind_2').style.textDecoration = 'none';document.getElementById('_fs_gnfoiaqsvizqmutbhyzz_ind_2').style.opacity = 0;document.getElementById('_fb_gnfoiaqsvizqmutbhyzz_ind_2').style.opacity = 0;\" style=\"fill:rgb(0,0,0,0)\" /><rect x=\"88.06106975080444%\" width=\"7.211197671305848%\" y=\"40\" height=\"18\" style=\"fill:rgb(0.0, 138.56128015770727, 250.76166088685727); stroke-width:0; stroke:rgb(0,0,0)\" /><line x1=\"88.06106975080444%\" x2=\"91.66665706771336%\" y1=\"60\" y2=\"60\" id=\"_fb_gnfoiaqsvizqmutbhyzz_ind_4\" style=\"stroke:rgb(0.0, 138.56128015770727, 250.76166088685727);stroke-width:2; opacity: 0\"/><text x=\"89.8638634092589%\" y=\"71\" font-size=\"12px\" fill=\"rgb(0.0, 138.56128015770727, 250.76166088685727)\" id=\"_fs_gnfoiaqsvizqmutbhyzz_ind_4\" style=\"opacity: 0\" dominant-baseline=\"middle\" text-anchor=\"middle\">-0.048</text><svg x=\"88.06106975080444%\" y=\"40\" height=\"20\" width=\"3.605587316908924%\">  <svg x=\"0\" y=\"0\" width=\"100%\" height=\"100%\">    <text x=\"50%\" y=\"9\" font-size=\"12px\" fill=\"rgb(255,255,255)\" dominant-baseline=\"middle\" text-anchor=\"middle\"></text>  </svg></svg><line x1=\"91.66665706771336%\" x2=\"95.27224438462228%\" y1=\"60\" y2=\"60\" id=\"_fb_gnfoiaqsvizqmutbhyzz_ind_5\" style=\"stroke:rgb(0.0, 138.56128015770727, 250.76166088685727);stroke-width:2; opacity: 0\"/><text x=\"93.46945072616782%\" y=\"71\" font-size=\"12px\" fill=\"rgb(0.0, 138.56128015770727, 250.76166088685727)\" id=\"_fs_gnfoiaqsvizqmutbhyzz_ind_5\" style=\"opacity: 0\" dominant-baseline=\"middle\" text-anchor=\"middle\">-0.048</text><svg x=\"91.66665706771336%\" y=\"40\" height=\"20\" width=\"3.605587316908924%\">  <svg x=\"0\" y=\"0\" width=\"100%\" height=\"100%\">    <text x=\"50%\" y=\"9\" font-size=\"12px\" fill=\"rgb(255,255,255)\" dominant-baseline=\"middle\" text-anchor=\"middle\">他</text>  </svg></svg><line x1=\"95.27224438462228%\" x2=\"95.27226742211026%\" y1=\"60\" y2=\"60\" id=\"_fb_gnfoiaqsvizqmutbhyzz_ind_0\" style=\"stroke:rgb(0.0, 138.56128015770727, 250.76166088685727);stroke-width:2; opacity: 0\"/><text x=\"95.27225590336627%\" y=\"71\" font-size=\"12px\" fill=\"rgb(0.0, 138.56128015770727, 250.76166088685727)\" id=\"_fs_gnfoiaqsvizqmutbhyzz_ind_0\" style=\"opacity: 0\" dominant-baseline=\"middle\" text-anchor=\"middle\">-0.0</text><svg x=\"95.27224438462228%\" y=\"40\" height=\"20\" width=\"2.303748797771732e-05%\">  <svg x=\"0\" y=\"0\" width=\"100%\" height=\"100%\">    <text x=\"50%\" y=\"9\" font-size=\"12px\" fill=\"rgb(255,255,255)\" dominant-baseline=\"middle\" text-anchor=\"middle\"></text>  </svg></svg><g transform=\"translate(-8,0)\">  <svg x=\"91.66665706771336%\" y=\"40\" height=\"18\" overflow=\"visible\" width=\"30\">    <path d=\"M 8 -9 l -6 18 L 8 25\" fill=\"none\" style=\"stroke:rgb(0.0, 138.56128015770727, 250.76166088685727);stroke-width:2\" />  </svg></g><g transform=\"translate(-10,0)\">  <svg x=\"91.66665706771336%\" y=\"40\" height=\"18\" overflow=\"visible\" width=\"30\">    <path d=\"M 8 -9 l -6 18 L 8 25\" fill=\"none\" style=\"stroke:rgb(0.0, 138.56128015770727, 250.76166088685727);stroke-width:2\" />  </svg></g><g transform=\"translate(-12,0)\">  <svg x=\"91.66665706771336%\" y=\"40\" height=\"18\" overflow=\"visible\" width=\"30\">    <path d=\"M 8 -9 l -6 18 L 8 25\" fill=\"none\" style=\"stroke:rgb(0.0, 138.56128015770727, 250.76166088685727);stroke-width:2\" />  </svg></g><g transform=\"translate(-14,0)\">  <svg x=\"91.66665706771336%\" y=\"40\" height=\"18\" overflow=\"visible\" width=\"30\">    <path d=\"M 8 -9 l -6 18 L 8 25\" fill=\"none\" style=\"stroke:rgb(0.0, 138.56128015770727, 250.76166088685727);stroke-width:2\" />  </svg></g><g transform=\"translate(2,0)\">  <svg x=\"91.66665706771336%\" y=\"40\" height=\"18\" overflow=\"visible\" width=\"30\">    <path d=\"M 8 -9 l -6 18 L 8 25\" fill=\"none\" style=\"stroke:rgb(0.0, 138.56128015770727, 250.76166088685727);stroke-width:2\" />  </svg></g><g transform=\"translate(0,0)\">  <svg x=\"91.66665706771336%\" y=\"40\" height=\"18\" overflow=\"visible\" width=\"30\">    <path d=\"M 8 -9 l -6 18 L 8 25\" fill=\"none\" style=\"stroke:rgb(0.0, 138.56128015770727, 250.76166088685727);stroke-width:2\" />  </svg></g><g transform=\"translate(-2,0)\">  <svg x=\"91.66665706771336%\" y=\"40\" height=\"18\" overflow=\"visible\" width=\"30\">    <path d=\"M 8 -9 l -6 18 L 8 25\" fill=\"none\" style=\"stroke:rgb(0.0, 138.56128015770727, 250.76166088685727);stroke-width:2\" />  </svg></g><g transform=\"translate(-4,0)\">  <svg x=\"91.66665706771336%\" y=\"40\" height=\"18\" overflow=\"visible\" width=\"30\">    <path d=\"M 8 -9 l -6 18 L 8 25\" fill=\"none\" style=\"stroke:rgb(0.0, 138.56128015770727, 250.76166088685727);stroke-width:2\" />  </svg></g><g transform=\"translate(-8,0)\">  <svg x=\"95.27224438462228%\" y=\"40\" height=\"18\" overflow=\"visible\" width=\"30\">    <path d=\"M 8 -9 l -6 18 L 8 25\" fill=\"none\" style=\"stroke:rgb(0.0, 138.56128015770727, 250.76166088685727);stroke-width:2\" />  </svg></g><g transform=\"translate(-10,0)\">  <svg x=\"95.27224438462228%\" y=\"40\" height=\"18\" overflow=\"visible\" width=\"30\">    <path d=\"M 8 -9 l -6 18 L 8 25\" fill=\"none\" style=\"stroke:rgb(0.0, 138.56128015770727, 250.76166088685727);stroke-width:2\" />  </svg></g><g transform=\"translate(-12,0)\">  <svg x=\"95.27224438462228%\" y=\"40\" height=\"18\" overflow=\"visible\" width=\"30\">    <path d=\"M 8 -9 l -6 18 L 8 25\" fill=\"none\" style=\"stroke:rgb(0.0, 138.56128015770727, 250.76166088685727);stroke-width:2\" />  </svg></g><g transform=\"translate(-14,0)\">  <svg x=\"95.27224438462228%\" y=\"40\" height=\"18\" overflow=\"visible\" width=\"30\">    <path d=\"M 8 -9 l -6 18 L 8 25\" fill=\"none\" style=\"stroke:rgb(0.0, 138.56128015770727, 250.76166088685727);stroke-width:2\" />  </svg></g><g transform=\"translate(2,0)\">  <svg x=\"95.27224438462228%\" y=\"40\" height=\"18\" overflow=\"visible\" width=\"30\">    <path d=\"M 8 -9 l -6 18 L 8 25\" fill=\"none\" style=\"stroke:rgb(0.0, 138.56128015770727, 250.76166088685727);stroke-width:2\" />  </svg></g><g transform=\"translate(0,0)\">  <svg x=\"95.27224438462228%\" y=\"40\" height=\"18\" overflow=\"visible\" width=\"30\">    <path d=\"M 8 -9 l -6 18 L 8 25\" fill=\"none\" style=\"stroke:rgb(0.0, 138.56128015770727, 250.76166088685727);stroke-width:2\" />  </svg></g><g transform=\"translate(-2,0)\">  <svg x=\"95.27224438462228%\" y=\"40\" height=\"18\" overflow=\"visible\" width=\"30\">    <path d=\"M 8 -9 l -6 18 L 8 25\" fill=\"none\" style=\"stroke:rgb(0.0, 138.56128015770727, 250.76166088685727);stroke-width:2\" />  </svg></g><g transform=\"translate(-4,0)\">  <svg x=\"95.27224438462228%\" y=\"40\" height=\"18\" overflow=\"visible\" width=\"30\">    <path d=\"M 8 -9 l -6 18 L 8 25\" fill=\"none\" style=\"stroke:rgb(0.0, 138.56128015770727, 250.76166088685727);stroke-width:2\" />  </svg></g><rect transform=\"translate(0,0)\" x=\"88.06106975080444%\" y=\"40\" width=\"8\" height=\"18\" style=\"fill:rgb(0.0, 138.56128015770727, 250.76166088685727)\"/><g transform=\"translate(-6.0,0)\">  <svg x=\"95.27226742211026%\" y=\"40\" height=\"18\" overflow=\"visible\" width=\"30\">    <path d=\"M 8 -9 l -6 18 L 8 25 L 20 25 L 20 -9\" fill=\"#ffffff\" style=\"stroke:rgb(255,255,255);stroke-width:2\" />  </svg></g><g transform=\"translate(-6.0,0)\">  <svg x=\"91.66665706771336%\" y=\"40\" height=\"18\" overflow=\"visible\" width=\"30\">    <path d=\"M 8 -9 l -6 18 L 8 25\" fill=\"none\" style=\"stroke:rgb(208, 230, 250);stroke-width:2\" />  </svg></g><rect x=\"88.06106975080444%\" y=\"40\" height=\"20\" width=\"3.605587316908924%\"      onmouseover=\"document.getElementById('_tp_gnfoiaqsvizqmutbhyzz_ind_4').style.textDecoration = 'underline';document.getElementById('_fs_gnfoiaqsvizqmutbhyzz_ind_4').style.opacity = 1;document.getElementById('_fb_gnfoiaqsvizqmutbhyzz_ind_4').style.opacity = 1;\"      onmouseout=\"document.getElementById('_tp_gnfoiaqsvizqmutbhyzz_ind_4').style.textDecoration = 'none';document.getElementById('_fs_gnfoiaqsvizqmutbhyzz_ind_4').style.opacity = 0;document.getElementById('_fb_gnfoiaqsvizqmutbhyzz_ind_4').style.opacity = 0;\" style=\"fill:rgb(0,0,0,0)\" /><g transform=\"translate(-6.0,0)\">  <svg x=\"95.27224438462228%\" y=\"40\" height=\"18\" overflow=\"visible\" width=\"30\">    <path d=\"M 8 -9 l -6 18 L 8 25\" fill=\"none\" style=\"stroke:rgb(208, 230, 250);stroke-width:2\" />  </svg></g><rect x=\"91.66665706771336%\" y=\"40\" height=\"20\" width=\"3.605587316908924%\"      onmouseover=\"document.getElementById('_tp_gnfoiaqsvizqmutbhyzz_ind_5').style.textDecoration = 'underline';document.getElementById('_fs_gnfoiaqsvizqmutbhyzz_ind_5').style.opacity = 1;document.getElementById('_fb_gnfoiaqsvizqmutbhyzz_ind_5').style.opacity = 1;\"      onmouseout=\"document.getElementById('_tp_gnfoiaqsvizqmutbhyzz_ind_5').style.textDecoration = 'none';document.getElementById('_fs_gnfoiaqsvizqmutbhyzz_ind_5').style.opacity = 0;document.getElementById('_fb_gnfoiaqsvizqmutbhyzz_ind_5').style.opacity = 0;\" style=\"fill:rgb(0,0,0,0)\" /><rect x=\"95.27224438462228%\" y=\"40\" height=\"20\" width=\"2.303748797771732e-05%\"      onmouseover=\"document.getElementById('_tp_gnfoiaqsvizqmutbhyzz_ind_0').style.textDecoration = 'underline';document.getElementById('_fs_gnfoiaqsvizqmutbhyzz_ind_0').style.opacity = 1;document.getElementById('_fb_gnfoiaqsvizqmutbhyzz_ind_0').style.opacity = 1;\"      onmouseout=\"document.getElementById('_tp_gnfoiaqsvizqmutbhyzz_ind_0').style.textDecoration = 'none';document.getElementById('_fs_gnfoiaqsvizqmutbhyzz_ind_0').style.opacity = 0;document.getElementById('_fb_gnfoiaqsvizqmutbhyzz_ind_0').style.opacity = 0;\" style=\"fill:rgb(0,0,0,0)\" /></svg><div style='display: inline; text-align: center;'><div style='display: none; color: #999; padding-top: 0px; font-size: 12px;'>-0.0</div><div id='_tp_gnfoiaqsvizqmutbhyzz_ind_0'style='display: inline; background: rgba(54.70588235294111, 122.49411764705886, 213.40784313725496, 0.0); border-radius: 3px; padding: 0px'onclick=\"if (this.previousSibling.style.display == 'none') {this.previousSibling.style.display = 'block';this.parentNode.style.display = 'inline-block';} else {this.previousSibling.style.display = 'none';this.parentNode.style.display = 'inline';}\"onmouseover=\"document.getElementById('_fb_gnfoiaqsvizqmutbhyzz_ind_0').style.opacity = 1; document.getElementById('_fs_gnfoiaqsvizqmutbhyzz_ind_0').style.opacity = 1;\"onmouseout=\"document.getElementById('_fb_gnfoiaqsvizqmutbhyzz_ind_0').style.opacity = 0; document.getElementById('_fs_gnfoiaqsvizqmutbhyzz_ind_0').style.opacity = 0;\"></div></div><div style='display: inline; text-align: center;'><div style='display: none; color: #999; padding-top: 0px; font-size: 12px;'>0.034</div><div id='_tp_gnfoiaqsvizqmutbhyzz_ind_1'style='display: inline; background: rgba(255.0, 13.0, 87.0, 0.13289760348583876); border-radius: 3px; padding: 0px'onclick=\"if (this.previousSibling.style.display == 'none') {this.previousSibling.style.display = 'block';this.parentNode.style.display = 'inline-block';} else {this.previousSibling.style.display = 'none';this.parentNode.style.display = 'inline';}\"onmouseover=\"document.getElementById('_fb_gnfoiaqsvizqmutbhyzz_ind_1').style.opacity = 1; document.getElementById('_fs_gnfoiaqsvizqmutbhyzz_ind_1').style.opacity = 1;\"onmouseout=\"document.getElementById('_fb_gnfoiaqsvizqmutbhyzz_ind_1').style.opacity = 0; document.getElementById('_fs_gnfoiaqsvizqmutbhyzz_ind_1').style.opacity = 0;\">爆</div></div><div style='display: inline; text-align: center;'><div style='display: none; color: #999; padding-top: 0px; font-size: 12px;'>0.034</div><div id='_tp_gnfoiaqsvizqmutbhyzz_ind_2'style='display: inline; background: rgba(255.0, 13.0, 87.0, 0.13289760348583876); border-radius: 3px; padding: 0px'onclick=\"if (this.previousSibling.style.display == 'none') {this.previousSibling.style.display = 'block';this.parentNode.style.display = 'inline-block';} else {this.previousSibling.style.display = 'none';this.parentNode.style.display = 'inline';}\"onmouseover=\"document.getElementById('_fb_gnfoiaqsvizqmutbhyzz_ind_2').style.opacity = 1; document.getElementById('_fs_gnfoiaqsvizqmutbhyzz_ind_2').style.opacity = 1;\"onmouseout=\"document.getElementById('_fb_gnfoiaqsvizqmutbhyzz_ind_2').style.opacity = 0; document.getElementById('_fs_gnfoiaqsvizqmutbhyzz_ind_2').style.opacity = 0;\">炸</div></div><div style='display: inline; text-align: center;'><div style='display: none; color: #999; padding-top: 0px; font-size: 12px;'>1.03 / 4</div><div id='_tp_gnfoiaqsvizqmutbhyzz_ind_3'style='display: inline; background: rgba(255.0, 13.0, 87.0, 1.0); border-radius: 3px; padding: 0px'onclick=\"if (this.previousSibling.style.display == 'none') {this.previousSibling.style.display = 'block';this.parentNode.style.display = 'inline-block';} else {this.previousSibling.style.display = 'none';this.parentNode.style.display = 'inline';}\"onmouseover=\"document.getElementById('_fb_gnfoiaqsvizqmutbhyzz_ind_3').style.opacity = 1; document.getElementById('_fs_gnfoiaqsvizqmutbhyzz_ind_3').style.opacity = 1;\"onmouseout=\"document.getElementById('_fb_gnfoiaqsvizqmutbhyzz_ind_3').style.opacity = 0; document.getElementById('_fs_gnfoiaqsvizqmutbhyzz_ind_3').style.opacity = 0;\">貴到一個</div></div><div style='display: inline; text-align: center;'><div style='display: none; color: #999; padding-top: 0px; font-size: 12px;'>-0.048</div><div id='_tp_gnfoiaqsvizqmutbhyzz_ind_4'style='display: inline; background: rgba(30.0, 136.0, 229.0, 0.18019409784115656); border-radius: 3px; padding: 0px'onclick=\"if (this.previousSibling.style.display == 'none') {this.previousSibling.style.display = 'block';this.parentNode.style.display = 'inline-block';} else {this.previousSibling.style.display = 'none';this.parentNode.style.display = 'inline';}\"onmouseover=\"document.getElementById('_fb_gnfoiaqsvizqmutbhyzz_ind_4').style.opacity = 1; document.getElementById('_fs_gnfoiaqsvizqmutbhyzz_ind_4').style.opacity = 1;\"onmouseout=\"document.getElementById('_fb_gnfoiaqsvizqmutbhyzz_ind_4').style.opacity = 0; document.getElementById('_fs_gnfoiaqsvizqmutbhyzz_ind_4').style.opacity = 0;\"></div></div><div style='display: inline; text-align: center;'><div style='display: none; color: #999; padding-top: 0px; font-size: 12px;'>-0.048</div><div id='_tp_gnfoiaqsvizqmutbhyzz_ind_5'style='display: inline; background: rgba(30.0, 136.0, 229.0, 0.18019409784115656); border-radius: 3px; padding: 0px'onclick=\"if (this.previousSibling.style.display == 'none') {this.previousSibling.style.display = 'block';this.parentNode.style.display = 'inline-block';} else {this.previousSibling.style.display = 'none';this.parentNode.style.display = 'inline';}\"onmouseover=\"document.getElementById('_fb_gnfoiaqsvizqmutbhyzz_ind_5').style.opacity = 1; document.getElementById('_fs_gnfoiaqsvizqmutbhyzz_ind_5').style.opacity = 1;\"onmouseout=\"document.getElementById('_fb_gnfoiaqsvizqmutbhyzz_ind_5').style.opacity = 0; document.getElementById('_fs_gnfoiaqsvizqmutbhyzz_ind_5').style.opacity = 0;\">他</div></div>"
      ],
      "text/plain": [
       "<IPython.core.display.HTML object>"
      ]
     },
     "metadata": {},
     "output_type": "display_data"
    }
   ],
   "source": [
    "shap.plots.text(shap_values[0, :, 1])"
   ]
  },
  {
   "cell_type": "code",
   "execution_count": 35,
   "metadata": {},
   "outputs": [
    {
     "name": "stdout",
     "output_type": "stream",
     "text": [
      "他_0.58  Nh_0.50/ VH_0.04/SPC_0.03/V_2_0.02/ Nb_0.02\n",
      "貴_0.64  VH_0.50/ VC_0.04/ VJ_0.04/Dfa_0.02/ VA_0.02\n",
      "到_0.41  VH_0.15/VCL_0.12/ VJ_0.10/ VC_0.06/Caa_0.05\n",
      "一_0.45 Neu_0.53/ VH_0.05/ Nb_0.02/ Nd_0.02/Cbb_0.02\n",
      "個_0.43  Nf_0.37/ VH_0.05/ Nc_0.04/ Na_0.03/ Nd_0.03\n",
      "爆_0.57  VH_0.32/ Nv_0.27/ Na_0.14/ VC_0.05/ VA_0.02\n",
      "炸_0.31  VH_0.30/ Nv_0.28/ Na_0.12/ VC_0.08/ VA_0.02\n",
      "\n"
     ]
    }
   ],
   "source": [
    "tagger.print_soft_tag(*tagger.soft_tag(txt))"
   ]
  },
  {
   "cell_type": "markdown",
   "metadata": {},
   "source": [
    "## Fluid DistilSeg"
   ]
  },
  {
   "cell_type": "code",
   "execution_count": 1,
   "metadata": {},
   "outputs": [],
   "source": [
    "%load_ext autoreload\n",
    "%autoreload 2"
   ]
  },
  {
   "cell_type": "code",
   "execution_count": 9,
   "metadata": {},
   "outputs": [],
   "source": [
    "import DistilTag\n",
    "import numpy as np"
   ]
  },
  {
   "cell_type": "code",
   "execution_count": 2,
   "metadata": {},
   "outputs": [],
   "source": [
    "tagger = DistilTag.DistilTag()"
   ]
  },
  {
   "cell_type": "code",
   "execution_count": 3,
   "metadata": {},
   "outputs": [
    {
     "data": {
      "text/plain": [
       "[[('消失', 'VA'), ('在', 'P'), ('人海', 'Na'), ('盡頭', 'Ncd')]]"
      ]
     },
     "execution_count": 3,
     "metadata": {},
     "output_type": "execute_result"
    }
   ],
   "source": [
    "txt = \"消失在人海盡頭\"\n",
    "out = tagger.tag(txt, return_logits=True)\n",
    "logits = out[1]\n",
    "tokens = out[2]\n",
    "out[0]"
   ]
  },
  {
   "cell_type": "code",
   "execution_count": 4,
   "metadata": {},
   "outputs": [],
   "source": [
    "out = tagger.soft_tag(txt)"
   ]
  },
  {
   "cell_type": "code",
   "execution_count": 5,
   "metadata": {},
   "outputs": [
    {
     "name": "stdout",
     "output_type": "stream",
     "text": [
      "消_0.60  VA_0.57/ VH_0.04/ Na_0.02/ Nv_0.02/ Nd_0.02\n",
      "失_0.35  VA_0.54/VAC_0.03/ Na_0.03/ VH_0.03/ Nv_0.02\n",
      "在_0.52 VCL_0.20/  P_0.07/ VG_0.05/Caa_0.04/ VJ_0.03\n",
      "人_0.60  Na_0.30/ Nc_0.25/ Nb_0.05/ VH_0.04/ Nh_0.03\n",
      "海_0.38  Na_0.71/ Nc_0.12/ VH_0.03/ Nb_0.02/ VA_0.01\n",
      "盡_0.49 Ncd_0.61/ Nc_0.06/ Ng_0.03/Nep_0.02/ VH_0.01\n",
      "頭_0.40 Ncd_0.63/ Nc_0.04/ Ng_0.02/ Na_0.01/Neq_0.01\n",
      "\n"
     ]
    }
   ],
   "source": [
    "tagger.print_soft_tag(*out, Tw=2, Tp=2)"
   ]
  },
  {
   "cell_type": "code",
   "execution_count": 10,
   "metadata": {},
   "outputs": [
    {
     "name": "stdout",
     "output_type": "stream",
     "text": [
      "0.50 [[('消失', 'VA'), ('在', 'VCL'), ('人海盡頭', 'Ncd')]]\n"
     ]
    }
   ],
   "source": [
    "print(\"0.50\", tagger.decode_soft_tag(*out, Tw=1, Tp=1, wcut=0.5))"
   ]
  },
  {
   "cell_type": "code",
   "execution_count": 11,
   "metadata": {},
   "outputs": [
    {
     "name": "stdout",
     "output_type": "stream",
     "text": [
      "0.00 [[('消', 'VA'), ('失', 'VA'), ('在', 'VCL'), ('人', 'Na'), ('海', 'Na'), ('盡', 'Ncd'), ('頭', 'Ncd')]]\n",
      "0.10 [[('消', 'VA'), ('失', 'VA'), ('在', 'VCL'), ('人', 'Na'), ('海', 'Na'), ('盡', 'Ncd'), ('頭', 'Ncd')]]\n",
      "0.20 [[('消', 'VA'), ('失', 'VA'), ('在', 'VCL'), ('人', 'Na'), ('海', 'Na'), ('盡', 'Ncd'), ('頭', 'Ncd')]]\n",
      "0.30 [[('消', 'VA'), ('失', 'VA'), ('在', 'VCL'), ('人', 'Na'), ('海', 'Na'), ('盡', 'Ncd'), ('頭', 'Ncd')]]\n",
      "0.40 [[('消失', 'VA'), ('在', 'VCL'), ('人海', 'Na'), ('盡', 'Ncd'), ('頭', 'Ncd')]]\n",
      "0.50 [[('消失', 'VA'), ('在', 'VCL'), ('人海盡頭', 'Ncd')]]\n",
      "0.60 [[('消失在', 'VA'), ('人海盡頭', 'Ncd')]]\n",
      "0.70 [[('消失在人海盡頭', 'Ncd')]]\n",
      "0.80 [[('消失在人海盡頭', 'Ncd')]]\n",
      "0.90 [[('消失在人海盡頭', 'Ncd')]]\n"
     ]
    }
   ],
   "source": [
    "for wcut in np.arange(0, 1, 0.1):\n",
    "    print(f\"{wcut:.2f}\", tagger.decode_soft_tag(*out, Tw=2, Tp=1, wcut=wcut))"
   ]
  },
  {
   "cell_type": "code",
   "execution_count": 12,
   "metadata": {},
   "outputs": [
    {
     "name": "stdout",
     "output_type": "stream",
     "text": [
      "0.00 [[('消', 'VA'), ('失', 'VA'), ('在', 'VCL'), ('人', 'Na'), ('海', 'Na'), ('盡', 'Ncd'), ('頭', 'Ncd')]]\n",
      "0.10 [[('消', 'VA'), ('失', 'VA'), ('在', 'VCL'), ('人', 'Na'), ('海', 'Na'), ('盡', 'Ncd'), ('頭', 'Ncd')]]\n",
      "0.20 [[('消', 'VA'), ('失', 'VA'), ('在', 'VCL'), ('人', 'Na'), ('海', 'Na'), ('盡', 'Ncd'), ('頭', 'Ncd')]]\n",
      "0.30 [[('消失', 'VA'), ('在', 'VCL'), ('人海', 'Na'), ('盡', 'Ncd'), ('頭', 'Ncd')]]\n",
      "0.40 [[('消失', 'VA'), ('在', 'VCL'), ('人海', 'Na'), ('盡頭', 'Ncd')]]\n",
      "0.50 [[('消失', 'VA'), ('在', 'VCL'), ('人海盡頭', 'Na')]]\n",
      "0.60 [[('消失在', 'VA'), ('人海盡頭', 'Na')]]\n",
      "0.70 [[('消失在人海盡頭', 'Na')]]\n",
      "0.80 [[('消失在人海盡頭', 'Na')]]\n",
      "0.90 [[('消失在人海盡頭', 'Na')]]\n"
     ]
    }
   ],
   "source": [
    "for wcut in np.arange(0, 1, 0.1):\n",
    "    print(f\"{wcut:.2f}\", tagger.decode_soft_tag(*out, Tw=1, Tp=5, wcut=wcut))"
   ]
  },
  {
   "cell_type": "code",
   "execution_count": null,
   "metadata": {},
   "outputs": [],
   "source": []
  }
 ],
 "metadata": {
  "kernelspec": {
   "display_name": "Python 3",
   "language": "python",
   "name": "python3"
  },
  "language_info": {
   "codemirror_mode": {
    "name": "ipython",
    "version": 3
   },
   "file_extension": ".py",
   "mimetype": "text/x-python",
   "name": "python",
   "nbconvert_exporter": "python",
   "pygments_lexer": "ipython3",
   "version": "3.8.2"
  }
 },
 "nbformat": 4,
 "nbformat_minor": 4
}

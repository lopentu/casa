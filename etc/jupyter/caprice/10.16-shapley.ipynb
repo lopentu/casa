{
 "cells": [
  {
   "cell_type": "code",
   "execution_count": 1,
   "metadata": {},
   "outputs": [],
   "source": [
    "%load_ext autoreload\n",
    "%autoreload 2"
   ]
  },
  {
   "cell_type": "code",
   "execution_count": 2,
   "metadata": {},
   "outputs": [],
   "source": [
    "import pickle\n",
    "import numpy as np"
   ]
  },
  {
   "cell_type": "code",
   "execution_count": 3,
   "metadata": {},
   "outputs": [],
   "source": [
    "with open(\"../../../data/caprice/caprice_seq_data_20210430.pkl\", \"rb\") as fin:\n",
    "    data = pickle.load(fin)"
   ]
  },
  {
   "cell_type": "code",
   "execution_count": 4,
   "metadata": {},
   "outputs": [],
   "source": [
    "from transformers import AutoTokenizer, AutoModelForSequenceClassification\n",
    "model_path = \"../../../data/caprice/seq-model-ep9\"\n",
    "tokenizer = AutoTokenizer.from_pretrained(model_path)\n",
    "model = AutoModelForSequenceClassification.from_pretrained(model_path)"
   ]
  },
  {
   "cell_type": "code",
   "execution_count": 5,
   "metadata": {},
   "outputs": [],
   "source": [
    "import matplotlib.pyplot as plt\n",
    "plt.rcParams[\"font.family\"] = \"Microsoft JhengHei\""
   ]
  },
  {
   "cell_type": "code",
   "execution_count": 6,
   "metadata": {},
   "outputs": [],
   "source": [
    "import shap"
   ]
  },
  {
   "cell_type": "code",
   "execution_count": 7,
   "metadata": {},
   "outputs": [],
   "source": [
    "from transformers import pipeline\n",
    "caprice_pipeline = pipeline('sentiment-analysis', model=model, tokenizer=tokenizer)"
   ]
  },
  {
   "cell_type": "code",
   "execution_count": 8,
   "metadata": {},
   "outputs": [],
   "source": [
    "explainer = shap.Explainer(caprice_pipeline, algorithm=\"partition\")"
   ]
  },
  {
   "cell_type": "code",
   "execution_count": 9,
   "metadata": {},
   "outputs": [],
   "source": [
    "_masker = explainer.masker"
   ]
  },
  {
   "cell_type": "code",
   "execution_count": 10,
   "metadata": {},
   "outputs": [],
   "source": [
    "import torch\n",
    "from DistilTag import DistilTag\n",
    "tagger = DistilTag()"
   ]
  },
  {
   "cell_type": "code",
   "execution_count": 11,
   "metadata": {},
   "outputs": [
    {
     "data": {
      "text/plain": [
       "[[('我', 'Nh'),\n",
       "  ('才', 'Da'),\n",
       "  ('不要', 'D'),\n",
       "  ('去', 'D'),\n",
       "  ('辦', 'VC'),\n",
       "  ('吃', 'VC'),\n",
       "  ('到', 'P'),\n",
       "  ('飽', 'VH')]]"
      ]
     },
     "execution_count": 11,
     "metadata": {},
     "output_type": "execute_result"
    }
   ],
   "source": [
    "tagger.tag(\"我才不要去辦吃到飽\")"
   ]
  },
  {
   "cell_type": "code",
   "execution_count": 12,
   "metadata": {},
   "outputs": [],
   "source": []
  },
  {
   "cell_type": "code",
   "execution_count": 13,
   "metadata": {},
   "outputs": [],
   "source": []
  },
  {
   "cell_type": "code",
   "execution_count": 15,
   "metadata": {},
   "outputs": [
    {
     "data": {
      "text/plain": [
       "array(['', '中', '華', '499', '很', '高', '貴', ''], dtype='<U3')"
      ]
     },
     "execution_count": 15,
     "metadata": {},
     "output_type": "execute_result"
    }
   ],
   "source": [
    "txt = \"中華499很高貴\"\n",
    "shap_values = explainer([txt])\n",
    "_masker = explainer.masker\n",
    "_masker._segments_s"
   ]
  },
  {
   "cell_type": "code",
   "execution_count": 83,
   "metadata": {},
   "outputs": [
    {
     "data": {
      "text/plain": [
       "array([0, 1, 3])"
      ]
     },
     "execution_count": 83,
     "metadata": {},
     "output_type": "execute_result"
    }
   ],
   "source": [
    "np.concatenate([np.arange(0,2), np.arange(3,4)])"
   ]
  },
  {
   "cell_type": "code",
   "execution_count": 105,
   "metadata": {},
   "outputs": [],
   "source": [
    "import re\n",
    "from itertools import chain\n",
    "import unicodedata as ud\n",
    "from scipy.cluster.hierarchy import linkage, dendrogram\n",
    "import torch\n",
    "from icecream import ic\n",
    "\n",
    "def custom_clustering(inst, s, pat):\n",
    "    inst._update_s_cache(s)\n",
    "    out = tagger.soft_tag(s)\n",
    "    wlogits = torch.cat(out[0])\n",
    "    tokens = inst._segments_s    \n",
    "    out_tokens = list(chain(*out[2]))\n",
    "    wprobs = torch.softmax(wlogits, axis=1).numpy()[:,0]    \n",
    "    p_wb_tokens = np.ones(len(tokens))\n",
    "    \n",
    "    cur = [0, 0]\n",
    "    buf = \"\"    \n",
    "    align_tokens = []\n",
    "    align_s2t = [(0,0)] * len(tokens)\n",
    "    align_t2s = np.ones(len(out_tokens)+1, dtype=np.int32) * (len(tokens)-1)\n",
    "    for token_i, token_s in enumerate(inst._segments_s):\n",
    "        if token_s == '':\n",
    "            # ic(\"skip empty token\")\n",
    "            continue\n",
    "        while cur[1] < len(out_tokens):\n",
    "            token_t = ud.normalize(\"NFKC\", out_tokens[cur[1]])\n",
    "            buf += token_t            \n",
    "            # ic(token_s, buf)\n",
    "            if buf == token_s:\n",
    "                p_wb_tokens[token_i] = wprobs[cur[0]:cur[1]+1].max()\n",
    "                align_tokens.append(buf)\n",
    "                align_s2t[token_i] = (cur[0], cur[1]+1)\n",
    "                align_t2s[cur[0]:cur[1]+1] = token_i\n",
    "                buf = ''            \n",
    "                cur = [cur[1]+1, cur[1]+1]\n",
    "                break\n",
    "            else:\n",
    "                cur = [cur[0], cur[1]+1]\n",
    "    \n",
    "    if buf:\n",
    "        align_tokens.append(buf)\n",
    "        align_s2t[token_i] = (cur[0], cur[1]+1)\n",
    "        align_t2s[cur[0]:cur[1]+1] = token_i\n",
    "    \n",
    "    mat = re.search(pat, s)    \n",
    "    pat_spans = []\n",
    "    if mat:\n",
    "        pat_spans = [mat.span(x) for x in range(1, len(mat.groups())+1)]\n",
    "    \n",
    "    def in_pat(s_idx):        \n",
    "        t_span = align_s2t[s_idx]            \n",
    "        if t_span[0] == t_span[1]:\n",
    "            # reject empty span\n",
    "            return False\n",
    "        \n",
    "        for pat_x in pat_spans:\n",
    "            if t_span[0] >= pat_x[0] and t_span[1] <= pat_x[1]:\n",
    "                return (align_t2s[pat_x[0]], align_t2s[pat_x[1]])\n",
    "        return ()\n",
    "    \n",
    "    def token_dist(x, y): \n",
    "        x = int(x); y = int(y)\n",
    "        x = min(x, y); y = max(x, y)\n",
    "        # word boundary distance is the word probability of the following character,\n",
    "        # therefore a plus one offset.        \n",
    "        span_x = in_pat(x)\n",
    "        span_y = in_pat(y)\n",
    "        if span_x and span_y and span_x != span_y:\n",
    "            ic(x, span_x, y, span_y)\n",
    "            x_start = min(x+1, span_x[1])\n",
    "            x_end = span_x[1]\n",
    "            x_rng = np.arange(x_start, x_end)\n",
    "            y_start = min(span_y[0]+1, span_y[1])\n",
    "            y_end = min(y+1, span_y[1])\n",
    "            y_rng = np.arange(y_start, y_end)\n",
    "            rng = np.concatenate([x_rng, y_rng])\n",
    "            ic(rng)\n",
    "            dist = p_wb_tokens[rng].sum()            \n",
    "            # dist = p_wb_tokens[x+1:y+1].sum()\n",
    "        elif span_x and span_x == span_y:\n",
    "            span_length = span_x[1] - span_x[0]\n",
    "            dist = p_wb_tokens[x+1:y+1].sum() / span_length\n",
    "        else:\n",
    "            dist = p_wb_tokens[x+1:y+1].sum()\n",
    "        return dist\n",
    "        \n",
    "    # ic(align_s2t)\n",
    "    # ic(align_t2s)\n",
    "    # ic(p_wb_tokens)\n",
    "    # ic(pat_spans)\n",
    "    inX = np.arange(len(tokens)).reshape(-1, 1)\n",
    "    Z = linkage(inX, metric=token_dist)\n",
    "    return Z"
   ]
  },
  {
   "cell_type": "code",
   "execution_count": 106,
   "metadata": {},
   "outputs": [
    {
     "data": {
      "text/plain": [
       "array(['', '中', '華', '499', '很', '高', '貴', ''], dtype='<U3')"
      ]
     },
     "execution_count": 106,
     "metadata": {},
     "output_type": "execute_result"
    }
   ],
   "source": [
    "_masker._segments_s"
   ]
  },
  {
   "cell_type": "code",
   "execution_count": 107,
   "metadata": {},
   "outputs": [
    {
     "name": "stderr",
     "output_type": "stream",
     "text": [
      "ic| x: 1, span_x: (1, 3), y: 5, span_y: (5, 7)\n",
      "ic| rng: array([2])\n",
      "ic| x: 1, span_x: (1, 3), y: 6, span_y: (5, 7)\n",
      "ic| rng: array([2, 6])\n",
      "ic| x: 2, span_x: (1, 3), y: 5, span_y: (5, 7)\n",
      "ic| rng: array([], dtype=int32)\n",
      "ic| x: 2, span_x: (1, 3), y: 6, span_y: (5, 7)\n",
      "ic| rng: array([6])\n"
     ]
    },
    {
     "data": {
      "text/plain": [
       "array([[ 2.        ,  5.        ,  0.        ,  2.        ],\n",
       "       [ 6.        ,  8.        ,  0.10648768,  3.        ],\n",
       "       [ 1.        ,  9.        ,  0.14180239,  4.        ],\n",
       "       [ 3.        , 10.        ,  0.6433751 ,  5.        ],\n",
       "       [ 0.        , 11.        ,  0.64398599,  6.        ],\n",
       "       [ 4.        , 12.        ,  0.64669418,  7.        ],\n",
       "       [ 7.        , 13.        ,  1.        ,  8.        ]])"
      ]
     },
     "execution_count": 107,
     "metadata": {},
     "output_type": "execute_result"
    }
   ],
   "source": [
    "Z = custom_clustering(_masker, txt, \"(中華).+(高貴)\")\n",
    "Z"
   ]
  },
  {
   "cell_type": "code",
   "execution_count": 108,
   "metadata": {},
   "outputs": [
    {
     "data": {
      "image/png": "[encoded data removed]",
      "text/plain": [
       "<Figure size 432x288 with 1 Axes>"
      ]
     },
     "metadata": {
      "needs_background": "light"
     },
     "output_type": "display_data"
    }
   ],
   "source": [
    "dendrogram(Z, labels=_masker._segments_s);"
   ]
  },
  {
   "cell_type": "code",
   "execution_count": 110,
   "metadata": {},
   "outputs": [],
   "source": [
    "from types import MethodType\n",
    "from functools import partial\n",
    "clustering_wrapper = partial(custom_clustering, pat=\"(到一個)\")\n",
    "explainer.masker.clustering = MethodType(clustering_wrapper, explainer.masker)"
   ]
  },
  {
   "cell_type": "code",
   "execution_count": 111,
   "metadata": {},
   "outputs": [],
   "source": [
    "shap_values = explainer([\"他貴到一個爆炸\"])"
   ]
  },
  {
   "cell_type": "code",
   "execution_count": 114,
   "metadata": {},
   "outputs": [
    {
     "data": {
      "text/plain": [
       "array([[[ 4.        ,  5.        ,  0.12327712,  2.        ],\n",
       "        [ 3.        ,  9.        ,  0.1359199 ,  3.        ],\n",
       "        [ 6.        ,  7.        ,  0.17089015,  2.        ],\n",
       "        [ 2.        , 10.        ,  0.3227866 ,  4.        ],\n",
       "        [11.        , 12.        ,  0.63041621,  6.        ],\n",
       "        [ 0.        ,  1.        ,  0.64684439,  2.        ],\n",
       "        [13.        , 14.        ,  0.75969934,  8.        ],\n",
       "        [ 8.        , 15.        ,  1.        ,  9.        ]]])"
      ]
     },
     "execution_count": 114,
     "metadata": {},
     "output_type": "execute_result"
    }
   ],
   "source": [
    "shap_values.clustering"
   ]
  },
  {
   "cell_type": "code",
   "execution_count": 115,
   "metadata": {},
   "outputs": [
    {
     "data": {
      "image/png": "[encoded data removed]",
      "text/plain": [
       "<Figure size 432x288 with 1 Axes>"
      ]
     },
     "metadata": {
      "needs_background": "light"
     },
     "output_type": "display_data"
    }
   ],
   "source": [
    "dendrogram(shap_values.clustering[0], labels=_masker._segments_s);"
   ]
  },
  {
   "cell_type": "code",
   "execution_count": 112,
   "metadata": {},
   "outputs": [
    {
     "data": {
      "text/html": [
       "<svg width=\"100%\" height=\"80px\"><line x1=\"0\" y1=\"33\" x2=\"100%\" y2=\"33\" style=\"stroke:rgb(150,150,150);stroke-width:1\" /><line x1=\"11.938930%\" y1=\"33\" x2=\"11.938930%\" y2=\"37\" style=\"stroke:rgb(150,150,150);stroke-width:1\" /><text x=\"11.938930%\" y=\"27\" font-size=\"12px\" fill=\"rgb(120,120,120)\" dominant-baseline=\"bottom\" text-anchor=\"middle\">0.000000</text><text x=\"11.938930%\" y=\"10\" font-size=\"12px\" fill=\"rgb(120,120,120)\" dominant-baseline=\"bottom\" text-anchor=\"middle\">base value</text><line x1=\"26.224645%\" y1=\"33\" x2=\"26.224645%\" y2=\"37\" style=\"stroke:rgb(150,150,150);stroke-width:1\" /><text x=\"26.224645%\" y=\"27\" font-size=\"12px\" fill=\"rgb(120,120,120)\" dominant-baseline=\"bottom\" text-anchor=\"middle\">0.188270</text><line x1=\"40.510359%\" y1=\"33\" x2=\"40.510359%\" y2=\"37\" style=\"stroke:rgb(150,150,150);stroke-width:1\" /><text x=\"40.510359%\" y=\"27\" font-size=\"12px\" fill=\"rgb(120,120,120)\" dominant-baseline=\"bottom\" text-anchor=\"middle\">0.376541</text><line x1=\"54.796073%\" y1=\"33\" x2=\"54.796073%\" y2=\"37\" style=\"stroke:rgb(150,150,150);stroke-width:1\" /><text x=\"54.796073%\" y=\"27\" font-size=\"12px\" fill=\"rgb(120,120,120)\" dominant-baseline=\"bottom\" text-anchor=\"middle\">0.564811</text><line x1=\"69.081787%\" y1=\"33\" x2=\"69.081787%\" y2=\"37\" style=\"stroke:rgb(150,150,150);stroke-width:1\" /><text x=\"69.081787%\" y=\"27\" font-size=\"12px\" fill=\"rgb(120,120,120)\" dominant-baseline=\"bottom\" text-anchor=\"middle\">0.753081</text><line x1=\"83.367502%\" y1=\"33\" x2=\"83.367502%\" y2=\"37\" style=\"stroke:rgb(150,150,150);stroke-width:1\" /><text x=\"83.367502%\" y=\"27\" font-size=\"12px\" fill=\"rgb(120,120,120)\" dominant-baseline=\"bottom\" text-anchor=\"middle\">0.941351</text><line x1=\"88.061070%\" y1=\"33\" x2=\"88.061070%\" y2=\"37\" style=\"stroke:rgb(150,150,150);stroke-width:1\" /><text x=\"88.061070%\" y=\"27\" font-size=\"13px\" style=\"stroke:#ffffff;stroke-width:8px;\" font-weight=\"bold\" fill=\"rgb(255,255,255)\" dominant-baseline=\"bottom\" text-anchor=\"middle\">1.003207</text><text x=\"88.061070%\" y=\"27\" font-size=\"13px\" font-weight=\"bold\" fill=\"rgb(0,0,0)\" dominant-baseline=\"bottom\" text-anchor=\"middle\">1.003207</text><text x=\"88.061070%\" y=\"10\" font-size=\"12px\" fill=\"rgb(120,120,120)\" dominant-baseline=\"bottom\" text-anchor=\"middle\">f(x)</text><rect x=\"4.7277325778897525%\" width=\"83.33333717291467%\" y=\"40\" height=\"18\" style=\"fill:rgb(255.0, 0.0, 81.08083606031792); stroke-width:0; stroke:rgb(0,0,0)\" /><line x1=\"9.922870865944288%\" x2=\"88.06106975080444%\" y1=\"60\" y2=\"60\" id=\"_fb_gnfoiaqsvizqmutbhyzz_ind_3\" style=\"stroke:rgb(255.0, 0.0, 81.08083606031792);stroke-width:2; opacity: 0\"/><text x=\"48.99197030837436%\" y=\"71\" font-size=\"12px\" id=\"_fs_gnfoiaqsvizqmutbhyzz_ind_3\" fill=\"rgb(255.0, 0.0, 81.08083606031792)\" style=\"opacity: 0\" dominant-baseline=\"middle\" text-anchor=\"middle\">1.03</text><svg x=\"9.922870865944288%\" y=\"40\" height=\"20\" width=\"78.13819888486015%\">  <svg x=\"0\" y=\"0\" width=\"100%\" height=\"100%\">    <text x=\"50%\" y=\"9\" font-size=\"12px\" fill=\"rgb(255,255,255)\" dominant-baseline=\"middle\" text-anchor=\"middle\">貴到一個</text>  </svg></svg><line x1=\"7.325301721917017%\" x2=\"9.922870865944288%\" y1=\"60\" y2=\"60\" id=\"_fb_gnfoiaqsvizqmutbhyzz_ind_1\" style=\"stroke:rgb(255.0, 0.0, 81.08083606031792);stroke-width:2; opacity: 0\"/><text x=\"8.624086293930652%\" y=\"71\" font-size=\"12px\" id=\"_fs_gnfoiaqsvizqmutbhyzz_ind_1\" fill=\"rgb(255.0, 0.0, 81.08083606031792)\" style=\"opacity: 0\" dominant-baseline=\"middle\" text-anchor=\"middle\">0.034</text><svg x=\"7.325301721917017%\" y=\"40\" height=\"20\" width=\"2.597569144027271%\">  <svg x=\"0\" y=\"0\" width=\"100%\" height=\"100%\">    <text x=\"50%\" y=\"9\" font-size=\"12px\" fill=\"rgb(255,255,255)\" dominant-baseline=\"middle\" text-anchor=\"middle\">爆</text>  </svg></svg><line x1=\"4.7277325778897445%\" x2=\"7.325301721917017%\" y1=\"60\" y2=\"60\" id=\"_fb_gnfoiaqsvizqmutbhyzz_ind_2\" style=\"stroke:rgb(255.0, 0.0, 81.08083606031792);stroke-width:2; opacity: 0\"/><text x=\"6.0265171499033805%\" y=\"71\" font-size=\"12px\" id=\"_fs_gnfoiaqsvizqmutbhyzz_ind_2\" fill=\"rgb(255.0, 0.0, 81.08083606031792)\" style=\"opacity: 0\" dominant-baseline=\"middle\" text-anchor=\"middle\">0.034</text><svg x=\"4.7277325778897445%\" y=\"40\" height=\"20\" width=\"2.597569144027273%\">  <svg x=\"0\" y=\"0\" width=\"100%\" height=\"100%\">    <text x=\"50%\" y=\"9\" font-size=\"12px\" fill=\"rgb(255,255,255)\" dominant-baseline=\"middle\" text-anchor=\"middle\">炸</text>  </svg></svg><g transform=\"translate(0,0)\">  <svg x=\"9.922870865944288%\" y=\"40\" height=\"18\" overflow=\"visible\" width=\"30\">    <path d=\"M 0 -9 l 6 18 L 0 25\" fill=\"none\" style=\"stroke:rgb(255.0, 0.0, 81.08083606031792);stroke-width:2\" />  </svg></g><g transform=\"translate(2,0)\">  <svg x=\"9.922870865944288%\" y=\"40\" height=\"18\" overflow=\"visible\" width=\"30\">    <path d=\"M 0 -9 l 6 18 L 0 25\" fill=\"none\" style=\"stroke:rgb(255.0, 0.0, 81.08083606031792);stroke-width:2\" />  </svg></g><g transform=\"translate(4,0)\">  <svg x=\"9.922870865944288%\" y=\"40\" height=\"18\" overflow=\"visible\" width=\"30\">    <path d=\"M 0 -9 l 6 18 L 0 25\" fill=\"none\" style=\"stroke:rgb(255.0, 0.0, 81.08083606031792);stroke-width:2\" />  </svg></g><g transform=\"translate(6,0)\">  <svg x=\"9.922870865944288%\" y=\"40\" height=\"18\" overflow=\"visible\" width=\"30\">    <path d=\"M 0 -9 l 6 18 L 0 25\" fill=\"none\" style=\"stroke:rgb(255.0, 0.0, 81.08083606031792);stroke-width:2\" />  </svg></g><g transform=\"translate(-8,0)\">  <svg x=\"9.922870865944288%\" y=\"40\" height=\"18\" overflow=\"visible\" width=\"30\">    <path d=\"M 0 -9 l 6 18 L 0 25\" fill=\"none\" style=\"stroke:rgb(255.0, 0.0, 81.08083606031792);stroke-width:2\" />  </svg></g><g transform=\"translate(-6,0)\">  <svg x=\"9.922870865944288%\" y=\"40\" height=\"18\" overflow=\"visible\" width=\"30\">    <path d=\"M 0 -9 l 6 18 L 0 25\" fill=\"none\" style=\"stroke:rgb(255.0, 0.0, 81.08083606031792);stroke-width:2\" />  </svg></g><g transform=\"translate(-4,0)\">  <svg x=\"9.922870865944288%\" y=\"40\" height=\"18\" overflow=\"visible\" width=\"30\">    <path d=\"M 0 -9 l 6 18 L 0 25\" fill=\"none\" style=\"stroke:rgb(255.0, 0.0, 81.08083606031792);stroke-width:2\" />  </svg></g><g transform=\"translate(-2,0)\">  <svg x=\"9.922870865944288%\" y=\"40\" height=\"18\" overflow=\"visible\" width=\"30\">    <path d=\"M 0 -9 l 6 18 L 0 25\" fill=\"none\" style=\"stroke:rgb(255.0, 0.0, 81.08083606031792);stroke-width:2\" />  </svg></g><g transform=\"translate(0,0)\">  <svg x=\"7.325301721917017%\" y=\"40\" height=\"18\" overflow=\"visible\" width=\"30\">    <path d=\"M 0 -9 l 6 18 L 0 25\" fill=\"none\" style=\"stroke:rgb(255.0, 0.0, 81.08083606031792);stroke-width:2\" />  </svg></g><g transform=\"translate(2,0)\">  <svg x=\"7.325301721917017%\" y=\"40\" height=\"18\" overflow=\"visible\" width=\"30\">    <path d=\"M 0 -9 l 6 18 L 0 25\" fill=\"none\" style=\"stroke:rgb(255.0, 0.0, 81.08083606031792);stroke-width:2\" />  </svg></g><g transform=\"translate(4,0)\">  <svg x=\"7.325301721917017%\" y=\"40\" height=\"18\" overflow=\"visible\" width=\"30\">    <path d=\"M 0 -9 l 6 18 L 0 25\" fill=\"none\" style=\"stroke:rgb(255.0, 0.0, 81.08083606031792);stroke-width:2\" />  </svg></g><g transform=\"translate(6,0)\">  <svg x=\"7.325301721917017%\" y=\"40\" height=\"18\" overflow=\"visible\" width=\"30\">    <path d=\"M 0 -9 l 6 18 L 0 25\" fill=\"none\" style=\"stroke:rgb(255.0, 0.0, 81.08083606031792);stroke-width:2\" />  </svg></g><g transform=\"translate(-8,0)\">  <svg x=\"7.325301721917017%\" y=\"40\" height=\"18\" overflow=\"visible\" width=\"30\">    <path d=\"M 0 -9 l 6 18 L 0 25\" fill=\"none\" style=\"stroke:rgb(255.0, 0.0, 81.08083606031792);stroke-width:2\" />  </svg></g><g transform=\"translate(-6,0)\">  <svg x=\"7.325301721917017%\" y=\"40\" height=\"18\" overflow=\"visible\" width=\"30\">    <path d=\"M 0 -9 l 6 18 L 0 25\" fill=\"none\" style=\"stroke:rgb(255.0, 0.0, 81.08083606031792);stroke-width:2\" />  </svg></g><g transform=\"translate(-4,0)\">  <svg x=\"7.325301721917017%\" y=\"40\" height=\"18\" overflow=\"visible\" width=\"30\">    <path d=\"M 0 -9 l 6 18 L 0 25\" fill=\"none\" style=\"stroke:rgb(255.0, 0.0, 81.08083606031792);stroke-width:2\" />  </svg></g><g transform=\"translate(-2,0)\">  <svg x=\"7.325301721917017%\" y=\"40\" height=\"18\" overflow=\"visible\" width=\"30\">    <path d=\"M 0 -9 l 6 18 L 0 25\" fill=\"none\" style=\"stroke:rgb(255.0, 0.0, 81.08083606031792);stroke-width:2\" />  </svg></g><rect transform=\"translate(-8,0)\" x=\"88.06106975080444%\" y=\"40\" width=\"8\" height=\"18\" style=\"fill:rgb(255.0, 0.0, 81.08083606031792)\"/><g transform=\"translate(-11.5,0)\">  <svg x=\"4.7277325778897525%\" y=\"40\" height=\"18\" overflow=\"visible\" width=\"30\">    <path d=\"M 10 -9 l 6 18 L 10 25 L 0 25 L 0 -9\" fill=\"#ffffff\" style=\"stroke:rgb(255,255,255);stroke-width:2\" />  </svg></g><g transform=\"translate(-1.5,0)\">  <svg x=\"88.06106975080444%\" y=\"40\" height=\"18\" overflow=\"visible\" width=\"30\">    <path d=\"M 0 -9 l 6 18 L 0 25\" fill=\"none\" style=\"stroke:rgb(255, 195, 213);stroke-width:2\" />  </svg></g><rect x=\"9.922870865944288%\" y=\"40\" height=\"20\" width=\"78.13819888486015%\"      onmouseover=\"document.getElementById('_tp_gnfoiaqsvizqmutbhyzz_ind_3').style.textDecoration = 'underline';document.getElementById('_fs_gnfoiaqsvizqmutbhyzz_ind_3').style.opacity = 1;document.getElementById('_fb_gnfoiaqsvizqmutbhyzz_ind_3').style.opacity = 1;\"      onmouseout=\"document.getElementById('_tp_gnfoiaqsvizqmutbhyzz_ind_3').style.textDecoration = 'none';document.getElementById('_fs_gnfoiaqsvizqmutbhyzz_ind_3').style.opacity = 0;document.getElementById('_fb_gnfoiaqsvizqmutbhyzz_ind_3').style.opacity = 0;\" style=\"fill:rgb(0,0,0,0)\" /><g transform=\"translate(-1.5,0)\">  <svg x=\"9.922870865944288%\" y=\"40\" height=\"18\" overflow=\"visible\" width=\"30\">    <path d=\"M 0 -9 l 6 18 L 0 25\" fill=\"none\" style=\"stroke:rgb(255, 195, 213);stroke-width:2\" />  </svg></g><rect x=\"7.325301721917017%\" y=\"40\" height=\"20\" width=\"2.597569144027271%\"      onmouseover=\"document.getElementById('_tp_gnfoiaqsvizqmutbhyzz_ind_1').style.textDecoration = 'underline';document.getElementById('_fs_gnfoiaqsvizqmutbhyzz_ind_1').style.opacity = 1;document.getElementById('_fb_gnfoiaqsvizqmutbhyzz_ind_1').style.opacity = 1;\"      onmouseout=\"document.getElementById('_tp_gnfoiaqsvizqmutbhyzz_ind_1').style.textDecoration = 'none';document.getElementById('_fs_gnfoiaqsvizqmutbhyzz_ind_1').style.opacity = 0;document.getElementById('_fb_gnfoiaqsvizqmutbhyzz_ind_1').style.opacity = 0;\" style=\"fill:rgb(0,0,0,0)\" /><rect x=\"4.7277325778897445%\" y=\"40\" height=\"20\" width=\"2.597569144027273%\"      onmouseover=\"document.getElementById('_tp_gnfoiaqsvizqmutbhyzz_ind_2').style.textDecoration = 'underline';document.getElementById('_fs_gnfoiaqsvizqmutbhyzz_ind_2').style.opacity = 1;document.getElementById('_fb_gnfoiaqsvizqmutbhyzz_ind_2').style.opacity = 1;\"      onmouseout=\"document.getElementById('_tp_gnfoiaqsvizqmutbhyzz_ind_2').style.textDecoration = 'none';document.getElementById('_fs_gnfoiaqsvizqmutbhyzz_ind_2').style.opacity = 0;document.getElementById('_fb_gnfoiaqsvizqmutbhyzz_ind_2').style.opacity = 0;\" style=\"fill:rgb(0,0,0,0)\" /><rect x=\"88.06106975080444%\" width=\"7.211197671305848%\" y=\"40\" height=\"18\" style=\"fill:rgb(0.0, 138.56128015770727, 250.76166088685727); stroke-width:0; stroke:rgb(0,0,0)\" /><line x1=\"88.06106975080444%\" x2=\"91.66665706771336%\" y1=\"60\" y2=\"60\" id=\"_fb_gnfoiaqsvizqmutbhyzz_ind_4\" style=\"stroke:rgb(0.0, 138.56128015770727, 250.76166088685727);stroke-width:2; opacity: 0\"/><text x=\"89.8638634092589%\" y=\"71\" font-size=\"12px\" fill=\"rgb(0.0, 138.56128015770727, 250.76166088685727)\" id=\"_fs_gnfoiaqsvizqmutbhyzz_ind_4\" style=\"opacity: 0\" dominant-baseline=\"middle\" text-anchor=\"middle\">-0.048</text><svg x=\"88.06106975080444%\" y=\"40\" height=\"20\" width=\"3.605587316908924%\">  <svg x=\"0\" y=\"0\" width=\"100%\" height=\"100%\">    <text x=\"50%\" y=\"9\" font-size=\"12px\" fill=\"rgb(255,255,255)\" dominant-baseline=\"middle\" text-anchor=\"middle\"></text>  </svg></svg><line x1=\"91.66665706771336%\" x2=\"95.27224438462228%\" y1=\"60\" y2=\"60\" id=\"_fb_gnfoiaqsvizqmutbhyzz_ind_5\" style=\"stroke:rgb(0.0, 138.56128015770727, 250.76166088685727);stroke-width:2; opacity: 0\"/><text x=\"93.46945072616782%\" y=\"71\" font-size=\"12px\" fill=\"rgb(0.0, 138.56128015770727, 250.76166088685727)\" id=\"_fs_gnfoiaqsvizqmutbhyzz_ind_5\" style=\"opacity: 0\" dominant-baseline=\"middle\" text-anchor=\"middle\">-0.048</text><svg x=\"91.66665706771336%\" y=\"40\" height=\"20\" width=\"3.605587316908924%\">  <svg x=\"0\" y=\"0\" width=\"100%\" height=\"100%\">    <text x=\"50%\" y=\"9\" font-size=\"12px\" fill=\"rgb(255,255,255)\" dominant-baseline=\"middle\" text-anchor=\"middle\">他</text>  </svg></svg><line x1=\"95.27224438462228%\" x2=\"95.27226742211026%\" y1=\"60\" y2=\"60\" id=\"_fb_gnfoiaqsvizqmutbhyzz_ind_0\" style=\"stroke:rgb(0.0, 138.56128015770727, 250.76166088685727);stroke-width:2; opacity: 0\"/><text x=\"95.27225590336627%\" y=\"71\" font-size=\"12px\" fill=\"rgb(0.0, 138.56128015770727, 250.76166088685727)\" id=\"_fs_gnfoiaqsvizqmutbhyzz_ind_0\" style=\"opacity: 0\" dominant-baseline=\"middle\" text-anchor=\"middle\">-0.0</text><svg x=\"95.27224438462228%\" y=\"40\" height=\"20\" width=\"2.303748797771732e-05%\">  <svg x=\"0\" y=\"0\" width=\"100%\" height=\"100%\">    <text x=\"50%\" y=\"9\" font-size=\"12px\" fill=\"rgb(255,255,255)\" dominant-baseline=\"middle\" text-anchor=\"middle\"></text>  </svg></svg><g transform=\"translate(-8,0)\">  <svg x=\"91.66665706771336%\" y=\"40\" height=\"18\" overflow=\"visible\" width=\"30\">    <path d=\"M 8 -9 l -6 18 L 8 25\" fill=\"none\" style=\"stroke:rgb(0.0, 138.56128015770727, 250.76166088685727);stroke-width:2\" />  </svg></g><g transform=\"translate(-10,0)\">  <svg x=\"91.66665706771336%\" y=\"40\" height=\"18\" overflow=\"visible\" width=\"30\">    <path d=\"M 8 -9 l -6 18 L 8 25\" fill=\"none\" style=\"stroke:rgb(0.0, 138.56128015770727, 250.76166088685727);stroke-width:2\" />  </svg></g><g transform=\"translate(-12,0)\">  <svg x=\"91.66665706771336%\" y=\"40\" height=\"18\" overflow=\"visible\" width=\"30\">    <path d=\"M 8 -9 l -6 18 L 8 25\" fill=\"none\" style=\"stroke:rgb(0.0, 138.56128015770727, 250.76166088685727);stroke-width:2\" />  </svg></g><g transform=\"translate(-14,0)\">  <svg x=\"91.66665706771336%\" y=\"40\" height=\"18\" overflow=\"visible\" width=\"30\">    <path d=\"M 8 -9 l -6 18 L 8 25\" fill=\"none\" style=\"stroke:rgb(0.0, 138.56128015770727, 250.76166088685727);stroke-width:2\" />  </svg></g><g transform=\"translate(2,0)\">  <svg x=\"91.66665706771336%\" y=\"40\" height=\"18\" overflow=\"visible\" width=\"30\">    <path d=\"M 8 -9 l -6 18 L 8 25\" fill=\"none\" style=\"stroke:rgb(0.0, 138.56128015770727, 250.76166088685727);stroke-width:2\" />  </svg></g><g transform=\"translate(0,0)\">  <svg x=\"91.66665706771336%\" y=\"40\" height=\"18\" overflow=\"visible\" width=\"30\">    <path d=\"M 8 -9 l -6 18 L 8 25\" fill=\"none\" style=\"stroke:rgb(0.0, 138.56128015770727, 250.76166088685727);stroke-width:2\" />  </svg></g><g transform=\"translate(-2,0)\">  <svg x=\"91.66665706771336%\" y=\"40\" height=\"18\" overflow=\"visible\" width=\"30\">    <path d=\"M 8 -9 l -6 18 L 8 25\" fill=\"none\" style=\"stroke:rgb(0.0, 138.56128015770727, 250.76166088685727);stroke-width:2\" />  </svg></g><g transform=\"translate(-4,0)\">  <svg x=\"91.66665706771336%\" y=\"40\" height=\"18\" overflow=\"visible\" width=\"30\">    <path d=\"M 8 -9 l -6 18 L 8 25\" fill=\"none\" style=\"stroke:rgb(0.0, 138.56128015770727, 250.76166088685727);stroke-width:2\" />  </svg></g><g transform=\"translate(-8,0)\">  <svg x=\"95.27224438462228%\" y=\"40\" height=\"18\" overflow=\"visible\" width=\"30\">    <path d=\"M 8 -9 l -6 18 L 8 25\" fill=\"none\" style=\"stroke:rgb(0.0, 138.56128015770727, 250.76166088685727);stroke-width:2\" />  </svg></g><g transform=\"translate(-10,0)\">  <svg x=\"95.27224438462228%\" y=\"40\" height=\"18\" overflow=\"visible\" width=\"30\">    <path d=\"M 8 -9 l -6 18 L 8 25\" fill=\"none\" style=\"stroke:rgb(0.0, 138.56128015770727, 250.76166088685727);stroke-width:2\" />  </svg></g><g transform=\"translate(-12,0)\">  <svg x=\"95.27224438462228%\" y=\"40\" height=\"18\" overflow=\"visible\" width=\"30\">    <path d=\"M 8 -9 l -6 18 L 8 25\" fill=\"none\" style=\"stroke:rgb(0.0, 138.56128015770727, 250.76166088685727);stroke-width:2\" />  </svg></g><g transform=\"translate(-14,0)\">  <svg x=\"95.27224438462228%\" y=\"40\" height=\"18\" overflow=\"visible\" width=\"30\">    <path d=\"M 8 -9 l -6 18 L 8 25\" fill=\"none\" style=\"stroke:rgb(0.0, 138.56128015770727, 250.76166088685727);stroke-width:2\" />  </svg></g><g transform=\"translate(2,0)\">  <svg x=\"95.27224438462228%\" y=\"40\" height=\"18\" overflow=\"visible\" width=\"30\">    <path d=\"M 8 -9 l -6 18 L 8 25\" fill=\"none\" style=\"stroke:rgb(0.0, 138.56128015770727, 250.76166088685727);stroke-width:2\" />  </svg></g><g transform=\"translate(0,0)\">  <svg x=\"95.27224438462228%\" y=\"40\" height=\"18\" overflow=\"visible\" width=\"30\">    <path d=\"M 8 -9 l -6 18 L 8 25\" fill=\"none\" style=\"stroke:rgb(0.0, 138.56128015770727, 250.76166088685727);stroke-width:2\" />  </svg></g><g transform=\"translate(-2,0)\">  <svg x=\"95.27224438462228%\" y=\"40\" height=\"18\" overflow=\"visible\" width=\"30\">    <path d=\"M 8 -9 l -6 18 L 8 25\" fill=\"none\" style=\"stroke:rgb(0.0, 138.56128015770727, 250.76166088685727);stroke-width:2\" />  </svg></g><g transform=\"translate(-4,0)\">  <svg x=\"95.27224438462228%\" y=\"40\" height=\"18\" overflow=\"visible\" width=\"30\">    <path d=\"M 8 -9 l -6 18 L 8 25\" fill=\"none\" style=\"stroke:rgb(0.0, 138.56128015770727, 250.76166088685727);stroke-width:2\" />  </svg></g><rect transform=\"translate(0,0)\" x=\"88.06106975080444%\" y=\"40\" width=\"8\" height=\"18\" style=\"fill:rgb(0.0, 138.56128015770727, 250.76166088685727)\"/><g transform=\"translate(-6.0,0)\">  <svg x=\"95.27226742211026%\" y=\"40\" height=\"18\" overflow=\"visible\" width=\"30\">    <path d=\"M 8 -9 l -6 18 L 8 25 L 20 25 L 20 -9\" fill=\"#ffffff\" style=\"stroke:rgb(255,255,255);stroke-width:2\" />  </svg></g><g transform=\"translate(-6.0,0)\">  <svg x=\"91.66665706771336%\" y=\"40\" height=\"18\" overflow=\"visible\" width=\"30\">    <path d=\"M 8 -9 l -6 18 L 8 25\" fill=\"none\" style=\"stroke:rgb(208, 230, 250);stroke-width:2\" />  </svg></g><rect x=\"88.06106975080444%\" y=\"40\" height=\"20\" width=\"3.605587316908924%\"      onmouseover=\"document.getElementById('_tp_gnfoiaqsvizqmutbhyzz_ind_4').style.textDecoration = 'underline';document.getElementById('_fs_gnfoiaqsvizqmutbhyzz_ind_4').style.opacity = 1;document.getElementById('_fb_gnfoiaqsvizqmutbhyzz_ind_4').style.opacity = 1;\"      onmouseout=\"document.getElementById('_tp_gnfoiaqsvizqmutbhyzz_ind_4').style.textDecoration = 'none';document.getElementById('_fs_gnfoiaqsvizqmutbhyzz_ind_4').style.opacity = 0;document.getElementById('_fb_gnfoiaqsvizqmutbhyzz_ind_4').style.opacity = 0;\" style=\"fill:rgb(0,0,0,0)\" /><g transform=\"translate(-6.0,0)\">  <svg x=\"95.27224438462228%\" y=\"40\" height=\"18\" overflow=\"visible\" width=\"30\">    <path d=\"M 8 -9 l -6 18 L 8 25\" fill=\"none\" style=\"stroke:rgb(208, 230, 250);stroke-width:2\" />  </svg></g><rect x=\"91.66665706771336%\" y=\"40\" height=\"20\" width=\"3.605587316908924%\"      onmouseover=\"document.getElementById('_tp_gnfoiaqsvizqmutbhyzz_ind_5').style.textDecoration = 'underline';document.getElementById('_fs_gnfoiaqsvizqmutbhyzz_ind_5').style.opacity = 1;document.getElementById('_fb_gnfoiaqsvizqmutbhyzz_ind_5').style.opacity = 1;\"      onmouseout=\"document.getElementById('_tp_gnfoiaqsvizqmutbhyzz_ind_5').style.textDecoration = 'none';document.getElementById('_fs_gnfoiaqsvizqmutbhyzz_ind_5').style.opacity = 0;document.getElementById('_fb_gnfoiaqsvizqmutbhyzz_ind_5').style.opacity = 0;\" style=\"fill:rgb(0,0,0,0)\" /><rect x=\"95.27224438462228%\" y=\"40\" height=\"20\" width=\"2.303748797771732e-05%\"      onmouseover=\"document.getElementById('_tp_gnfoiaqsvizqmutbhyzz_ind_0').style.textDecoration = 'underline';document.getElementById('_fs_gnfoiaqsvizqmutbhyzz_ind_0').style.opacity = 1;document.getElementById('_fb_gnfoiaqsvizqmutbhyzz_ind_0').style.opacity = 1;\"      onmouseout=\"document.getElementById('_tp_gnfoiaqsvizqmutbhyzz_ind_0').style.textDecoration = 'none';document.getElementById('_fs_gnfoiaqsvizqmutbhyzz_ind_0').style.opacity = 0;document.getElementById('_fb_gnfoiaqsvizqmutbhyzz_ind_0').style.opacity = 0;\" style=\"fill:rgb(0,0,0,0)\" /></svg><div style='display: inline; text-align: center;'><div style='display: none; color: #999; padding-top: 0px; font-size: 12px;'>-0.0</div><div id='_tp_gnfoiaqsvizqmutbhyzz_ind_0'style='display: inline; background: rgba(54.70588235294111, 122.49411764705886, 213.40784313725496, 0.0); border-radius: 3px; padding: 0px'onclick=\"if (this.previousSibling.style.display == 'none') {this.previousSibling.style.display = 'block';this.parentNode.style.display = 'inline-block';} else {this.previousSibling.style.display = 'none';this.parentNode.style.display = 'inline';}\"onmouseover=\"document.getElementById('_fb_gnfoiaqsvizqmutbhyzz_ind_0').style.opacity = 1; document.getElementById('_fs_gnfoiaqsvizqmutbhyzz_ind_0').style.opacity = 1;\"onmouseout=\"document.getElementById('_fb_gnfoiaqsvizqmutbhyzz_ind_0').style.opacity = 0; document.getElementById('_fs_gnfoiaqsvizqmutbhyzz_ind_0').style.opacity = 0;\"></div></div><div style='display: inline; text-align: center;'><div style='display: none; color: #999; padding-top: 0px; font-size: 12px;'>0.034</div><div id='_tp_gnfoiaqsvizqmutbhyzz_ind_1'style='display: inline; background: rgba(255.0, 13.0, 87.0, 0.13289760348583876); border-radius: 3px; padding: 0px'onclick=\"if (this.previousSibling.style.display == 'none') {this.previousSibling.style.display = 'block';this.parentNode.style.display = 'inline-block';} else {this.previousSibling.style.display = 'none';this.parentNode.style.display = 'inline';}\"onmouseover=\"document.getElementById('_fb_gnfoiaqsvizqmutbhyzz_ind_1').style.opacity = 1; document.getElementById('_fs_gnfoiaqsvizqmutbhyzz_ind_1').style.opacity = 1;\"onmouseout=\"document.getElementById('_fb_gnfoiaqsvizqmutbhyzz_ind_1').style.opacity = 0; document.getElementById('_fs_gnfoiaqsvizqmutbhyzz_ind_1').style.opacity = 0;\">爆</div></div><div style='display: inline; text-align: center;'><div style='display: none; color: #999; padding-top: 0px; font-size: 12px;'>0.034</div><div id='_tp_gnfoiaqsvizqmutbhyzz_ind_2'style='display: inline; background: rgba(255.0, 13.0, 87.0, 0.13289760348583876); border-radius: 3px; padding: 0px'onclick=\"if (this.previousSibling.style.display == 'none') {this.previousSibling.style.display = 'block';this.parentNode.style.display = 'inline-block';} else {this.previousSibling.style.display = 'none';this.parentNode.style.display = 'inline';}\"onmouseover=\"document.getElementById('_fb_gnfoiaqsvizqmutbhyzz_ind_2').style.opacity = 1; document.getElementById('_fs_gnfoiaqsvizqmutbhyzz_ind_2').style.opacity = 1;\"onmouseout=\"document.getElementById('_fb_gnfoiaqsvizqmutbhyzz_ind_2').style.opacity = 0; document.getElementById('_fs_gnfoiaqsvizqmutbhyzz_ind_2').style.opacity = 0;\">炸</div></div><div style='display: inline; text-align: center;'><div style='display: none; color: #999; padding-top: 0px; font-size: 12px;'>1.03 / 4</div><div id='_tp_gnfoiaqsvizqmutbhyzz_ind_3'style='display: inline; background: rgba(255.0, 13.0, 87.0, 1.0); border-radius: 3px; padding: 0px'onclick=\"if (this.previousSibling.style.display == 'none') {this.previousSibling.style.display = 'block';this.parentNode.style.display = 'inline-block';} else {this.previousSibling.style.display = 'none';this.parentNode.style.display = 'inline';}\"onmouseover=\"document.getElementById('_fb_gnfoiaqsvizqmutbhyzz_ind_3').style.opacity = 1; document.getElementById('_fs_gnfoiaqsvizqmutbhyzz_ind_3').style.opacity = 1;\"onmouseout=\"document.getElementById('_fb_gnfoiaqsvizqmutbhyzz_ind_3').style.opacity = 0; document.getElementById('_fs_gnfoiaqsvizqmutbhyzz_ind_3').style.opacity = 0;\">貴到一個</div></div><div style='display: inline; text-align: center;'><div style='display: none; color: #999; padding-top: 0px; font-size: 12px;'>-0.048</div><div id='_tp_gnfoiaqsvizqmutbhyzz_ind_4'style='display: inline; background: rgba(30.0, 136.0, 229.0, 0.18019409784115656); border-radius: 3px; padding: 0px'onclick=\"if (this.previousSibling.style.display == 'none') {this.previousSibling.style.display = 'block';this.parentNode.style.display = 'inline-block';} else {this.previousSibling.style.display = 'none';this.parentNode.style.display = 'inline';}\"onmouseover=\"document.getElementById('_fb_gnfoiaqsvizqmutbhyzz_ind_4').style.opacity = 1; document.getElementById('_fs_gnfoiaqsvizqmutbhyzz_ind_4').style.opacity = 1;\"onmouseout=\"document.getElementById('_fb_gnfoiaqsvizqmutbhyzz_ind_4').style.opacity = 0; document.getElementById('_fs_gnfoiaqsvizqmutbhyzz_ind_4').style.opacity = 0;\"></div></div><div style='display: inline; text-align: center;'><div style='display: none; color: #999; padding-top: 0px; font-size: 12px;'>-0.048</div><div id='_tp_gnfoiaqsvizqmutbhyzz_ind_5'style='display: inline; background: rgba(30.0, 136.0, 229.0, 0.18019409784115656); border-radius: 3px; padding: 0px'onclick=\"if (this.previousSibling.style.display == 'none') {this.previousSibling.style.display = 'block';this.parentNode.style.display = 'inline-block';} else {this.previousSibling.style.display = 'none';this.parentNode.style.display = 'inline';}\"onmouseover=\"document.getElementById('_fb_gnfoiaqsvizqmutbhyzz_ind_5').style.opacity = 1; document.getElementById('_fs_gnfoiaqsvizqmutbhyzz_ind_5').style.opacity = 1;\"onmouseout=\"document.getElementById('_fb_gnfoiaqsvizqmutbhyzz_ind_5').style.opacity = 0; document.getElementById('_fs_gnfoiaqsvizqmutbhyzz_ind_5').style.opacity = 0;\">他</div></div>"
      ],
      "text/plain": [
       "<IPython.core.display.HTML object>"
      ]
     },
     "metadata": {},
     "output_type": "display_data"
    }
   ],
   "source": [
    "shap.plots.text(shap_values[0, :, 1])"
   ]
  },
  {
   "cell_type": "markdown",
   "metadata": {},
   "source": [
    "## Fluid DistilSeg"
   ]
  },
  {
   "cell_type": "code",
   "execution_count": 1,
   "metadata": {},
   "outputs": [],
   "source": [
    "%load_ext autoreload\n",
    "%autoreload 2"
   ]
  },
  {
   "cell_type": "code",
   "execution_count": 57,
   "metadata": {},
   "outputs": [],
   "source": [
    "import DistilTag"
   ]
  },
  {
   "cell_type": "code",
   "execution_count": 58,
   "metadata": {},
   "outputs": [],
   "source": [
    "tagger = DistilTag.DistilTag()"
   ]
  },
  {
   "cell_type": "code",
   "execution_count": 147,
   "metadata": {},
   "outputs": [
    {
     "data": {
      "text/plain": [
       "[[('消失', 'VA'), ('在', 'P'), ('人海', 'Na'), ('盡頭', 'Ncd')]]"
      ]
     },
     "execution_count": 147,
     "metadata": {},
     "output_type": "execute_result"
    }
   ],
   "source": [
    "txt = \"消失在人海盡頭\"\n",
    "out = tagger.tag(txt, return_logits=True)\n",
    "logits = out[1]\n",
    "tokens = out[2]\n",
    "out[0]"
   ]
  },
  {
   "cell_type": "code",
   "execution_count": 148,
   "metadata": {},
   "outputs": [],
   "source": [
    "out = tagger.soft_tag(txt)"
   ]
  },
  {
   "cell_type": "code",
   "execution_count": 166,
   "metadata": {},
   "outputs": [
    {
     "name": "stdout",
     "output_type": "stream",
     "text": [
      "消_0.69  VA_0.98/ VH_0.00/ Na_0.00/ Nv_0.00/ Nd_0.00\n",
      "失_0.23  VA_0.98/VAC_0.00/ Na_0.00/ VH_0.00/ Nv_0.00\n",
      "在_0.54 VCL_0.71/  P_0.08/ VG_0.04/Caa_0.02/ VJ_0.01\n",
      "人_0.70  Na_0.57/ Nc_0.38/ Nb_0.01/ VH_0.01/ Nh_0.01\n",
      "海_0.27  Na_0.97/ Nc_0.03/ VH_0.00/ Nb_0.00/ VA_0.00\n",
      "盡_0.49 Ncd_0.98/ Nc_0.01/ Ng_0.00/Nep_0.00/ VH_0.00\n",
      "頭_0.31 Ncd_0.99/ Nc_0.00/ Ng_0.00/ Na_0.00/Neq_0.00\n",
      "\n"
     ]
    }
   ],
   "source": [
    "tagger.print_soft_tag(*out, Tw=2, Tp=2)"
   ]
  },
  {
   "cell_type": "code",
   "execution_count": 165,
   "metadata": {},
   "outputs": [
    {
     "name": "stdout",
     "output_type": "stream",
     "text": [
      "0.50 [[('消失', 'VA'), ('在', 'VCL'), ('人海盡頭', 'Ncd')]]\n"
     ]
    }
   ],
   "source": [
    "print(\"0.50\", tagger.decode_soft_tag(*out, Tw=1, Tp=1, wcut=0.5))"
   ]
  },
  {
   "cell_type": "code",
   "execution_count": 163,
   "metadata": {},
   "outputs": [
    {
     "name": "stdout",
     "output_type": "stream",
     "text": [
      "0.00 [[('消', 'VA'), ('失', 'VA'), ('在', 'VCL'), ('人', 'Na'), ('海', 'Na'), ('盡', 'Ncd'), ('頭', 'Ncd')]]\n",
      "0.10 [[('消', 'VA'), ('失', 'VA'), ('在', 'VCL'), ('人', 'Na'), ('海', 'Na'), ('盡', 'Ncd'), ('頭', 'Ncd')]]\n",
      "0.20 [[('消', 'VA'), ('失', 'VA'), ('在', 'VCL'), ('人', 'Na'), ('海', 'Na'), ('盡', 'Ncd'), ('頭', 'Ncd')]]\n",
      "0.30 [[('消', 'VA'), ('失', 'VA'), ('在', 'VCL'), ('人', 'Na'), ('海', 'Na'), ('盡', 'Ncd'), ('頭', 'Ncd')]]\n",
      "0.40 [[('消失', 'VA'), ('在', 'VCL'), ('人海', 'Na'), ('盡', 'Ncd'), ('頭', 'Ncd')]]\n",
      "0.50 [[('消失', 'VA'), ('在', 'VCL'), ('人海盡頭', 'Ncd')]]\n",
      "0.60 [[('消失在', 'VA'), ('人海盡頭', 'Ncd')]]\n",
      "0.70 [[('消失在人海盡頭', 'Ncd')]]\n",
      "0.80 [[('消失在人海盡頭', 'Ncd')]]\n",
      "0.90 [[('消失在人海盡頭', 'Ncd')]]\n"
     ]
    }
   ],
   "source": [
    "for wcut in np.arange(0, 1, 0.1):\n",
    "    print(f\"{wcut:.2f}\", tagger.decode_soft_tag(*out, Tw=2, Tp=1, wcut=wcut))"
   ]
  },
  {
   "cell_type": "code",
   "execution_count": 167,
   "metadata": {},
   "outputs": [
    {
     "name": "stdout",
     "output_type": "stream",
     "text": [
      "0.00 [[('消', 'VA'), ('失', 'VA'), ('在', 'VCL'), ('人', 'Na'), ('海', 'Na'), ('盡', 'Ncd'), ('頭', 'Ncd')]]\n",
      "0.10 [[('消', 'VA'), ('失', 'VA'), ('在', 'VCL'), ('人', 'Na'), ('海', 'Na'), ('盡', 'Ncd'), ('頭', 'Ncd')]]\n",
      "0.20 [[('消', 'VA'), ('失', 'VA'), ('在', 'VCL'), ('人', 'Na'), ('海', 'Na'), ('盡', 'Ncd'), ('頭', 'Ncd')]]\n",
      "0.30 [[('消失', 'VA'), ('在', 'VCL'), ('人海', 'Na'), ('盡', 'Ncd'), ('頭', 'Ncd')]]\n",
      "0.40 [[('消失', 'VA'), ('在', 'VCL'), ('人海', 'Na'), ('盡頭', 'Ncd')]]\n",
      "0.50 [[('消失', 'VA'), ('在', 'VCL'), ('人海盡頭', 'Na')]]\n",
      "0.60 [[('消失在', 'VA'), ('人海盡頭', 'Na')]]\n",
      "0.70 [[('消失在人海盡頭', 'Na')]]\n",
      "0.80 [[('消失在人海盡頭', 'Na')]]\n",
      "0.90 [[('消失在人海盡頭', 'Na')]]\n"
     ]
    }
   ],
   "source": [
    "for wcut in np.arange(0, 1, 0.1):\n",
    "    print(f\"{wcut:.2f}\", tagger.decode_soft_tag(*out, Tw=1, Tp=5, wcut=wcut))"
   ]
  }
 ],
 "metadata": {
  "kernelspec": {
   "display_name": "Python 3",
   "language": "python",
   "name": "python3"
  },
  "language_info": {
   "codemirror_mode": {
    "name": "ipython",
    "version": 3
   },
   "file_extension": ".py",
   "mimetype": "text/x-python",
   "name": "python",
   "nbconvert_exporter": "python",
   "pygments_lexer": "ipython3",
   "version": "3.8.2"
  }
 },
 "nbformat": 4,
 "nbformat_minor": 4
}

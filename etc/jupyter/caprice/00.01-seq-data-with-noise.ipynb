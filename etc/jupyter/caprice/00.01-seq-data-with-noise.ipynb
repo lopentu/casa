{
 "cells": [
  {
   "cell_type": "code",
   "execution_count": 1,
   "metadata": {},
   "outputs": [],
   "source": [
    "%load_ext autoreload\n",
    "%autoreload 2"
   ]
  },
  {
   "cell_type": "code",
   "execution_count": 2,
   "metadata": {},
   "outputs": [],
   "source": [
    "import pickle\n",
    "import json\n",
    "import random\n",
    "import numpy as np\n",
    "import pandas as pd\n",
    "from tqdm import tqdm\n",
    "from icecream import ic\n",
    "from import_casa import casa, cano\n",
    "from casa.annot import AspectEnum"
   ]
  },
  {
   "cell_type": "code",
   "execution_count": 36,
   "metadata": {},
   "outputs": [],
   "source": [
    "TARGET_DIR = \"20210430\"\n",
    "result_dir = casa.get_data_path() / f\"caprice/\"\n",
    "result_dir.mkdir(exist_ok=True, parents=True)\n",
    "json_paths = [x for x in result_dir.iterdir() if x.suffix==\".json\"]"
   ]
  },
  {
   "cell_type": "code",
   "execution_count": 4,
   "metadata": {},
   "outputs": [],
   "source": [
    "with json_paths[1].open(\"r\", encoding=\"UTF-8\") as fin:\n",
    "    annots = json.load(fin)"
   ]
  },
  {
   "cell_type": "code",
   "execution_count": 5,
   "metadata": {},
   "outputs": [
    {
     "data": {
      "text/plain": [
       "['completions', 'data', 'id']"
      ]
     },
     "execution_count": 5,
     "metadata": {},
     "output_type": "execute_result"
    }
   ],
   "source": [
    "list(annots[0].keys())"
   ]
  },
  {
   "cell_type": "markdown",
   "metadata": {},
   "source": [
    "## Main conversion loop"
   ]
  },
  {
   "cell_type": "code",
   "execution_count": 21,
   "metadata": {},
   "outputs": [
    {
     "name": "stderr",
     "output_type": "stream",
     "text": [
      "  0%|                                                                                                       | 0/10 [00:00<?, ?it/s]"
     ]
    },
    {
     "name": "stdout",
     "output_type": "stream",
     "text": [
      "different text spans:  方便又迅速！Good!\n"
     ]
    },
    {
     "name": "stderr",
     "output_type": "stream",
     "text": [
      " 40%|██████████████████████████████████████                                                         | 4/10 [00:01<00:02,  2.42it/s]"
     ]
    },
    {
     "name": "stdout",
     "output_type": "stream",
     "text": [
      "different text spans:  前18個月319/一個月，後六個月一個月399\n",
      "different text spans:  中華電信5G有在建設？？出門連到5G的機會還是不到1/10\n",
      "different text spans:  連玩coin master都會斷線的電信我真的不知道要說什麼\n",
      "different text spans:  每家都有表現差的狀況，就是看環境適合誰囉，我生活圈台哥就是順\n",
      "different text spans:  用起來是比其他家都還快\n",
      "different text spans:  不過遠傳這次拿雙冠真的有讓人刮目相看\n"
     ]
    },
    {
     "name": "stderr",
     "output_type": "stream",
     "text": [
      "100%|██████████████████████████████████████████████████████████████████████████████████████████████| 10/10 [00:03<00:00,  3.03it/s]\n"
     ]
    }
   ],
   "source": [
    "seq_pairs = []\n",
    "seq_labels = []\n",
    "for json_path in tqdm(json_paths):\n",
    "    with json_path.open(\"r\", encoding=\"UTF-8\") as fin:\n",
    "        annots = json.load(fin)\n",
    "    for annot_i, annot_x in enumerate(annots): \n",
    "        try:\n",
    "            aspects = cano.process_thread_annotations(annot_x)\n",
    "            pairs, labels = cano.make_sequence_for_caprice(aspects, annot_x[\"data\"][\"html\"], noise_ratio=0.1)\n",
    "            seq_pairs.extend(pairs)\n",
    "            seq_labels.extend(labels)            \n",
    "        except Exception:\n",
    "            print(annot_i)\n",
    "            raise Exception()"
   ]
  },
  {
   "cell_type": "code",
   "execution_count": 22,
   "metadata": {},
   "outputs": [
    {
     "data": {
      "text/plain": [
       "(2795, 2795)"
      ]
     },
     "execution_count": 22,
     "metadata": {},
     "output_type": "execute_result"
    }
   ],
   "source": [
    "len(seq_pairs), len(seq_labels)"
   ]
  },
  {
   "cell_type": "code",
   "execution_count": 23,
   "metadata": {},
   "outputs": [
    {
     "data": {
      "text/plain": [
       "(array([0, 1, 2]), array([1148,  841,  806], dtype=int64))"
      ]
     },
     "execution_count": 23,
     "metadata": {},
     "output_type": "execute_result"
    }
   ],
   "source": [
    "np.unique(seq_labels, return_counts=True)"
   ]
  },
  {
   "cell_type": "code",
   "execution_count": 37,
   "metadata": {},
   "outputs": [],
   "source": [
    "idx = 1100\n",
    "seq_pairs[idx][0], seq_labels[idx]\n",
    "seq_data = [(pair[0], label) \n",
    "            for pair, label \n",
    "            in zip(seq_pairs, seq_labels)]"
   ]
  },
  {
   "cell_type": "code",
   "execution_count": 38,
   "metadata": {},
   "outputs": [
    {
     "data": {
      "text/plain": [
       "('原號漫遊還是較方便，到日本我幾乎是辦中華電信，訊號很穩定', 2)"
      ]
     },
     "execution_count": 38,
     "metadata": {},
     "output_type": "execute_result"
    }
   ],
   "source": [
    "seq_data[1252]"
   ]
  },
  {
   "cell_type": "markdown",
   "metadata": {},
   "source": [
    "## Saving data"
   ]
  },
  {
   "cell_type": "code",
   "execution_count": 39,
   "metadata": {},
   "outputs": [],
   "source": [
    "with open(result_dir / f\"caprice_seq_data_{TARGET_DIR}.pkl\", \"wb\") as fout:\n",
    "    pickle.dump((seq_data), fout)"
   ]
  },
  {
   "cell_type": "code",
   "execution_count": 41,
   "metadata": {},
   "outputs": [
    {
     "name": "stdout",
     "output_type": "stream",
     "text": [
      "E:\\LangOn\\casa\\data\\caprice\\caprice_seq_data_20210430.pkl\n"
     ]
    }
   ],
   "source": [
    "print(result_dir / f\"caprice_seq_data_{TARGET_DIR}.pkl\")"
   ]
  },
  {
   "cell_type": "code",
   "execution_count": null,
   "metadata": {},
   "outputs": [],
   "source": []
  }
 ],
 "metadata": {
  "kernelspec": {
   "display_name": "Python 3",
   "language": "python",
   "name": "python3"
  },
  "language_info": {
   "codemirror_mode": {
    "name": "ipython",
    "version": 3
   },
   "file_extension": ".py",
   "mimetype": "text/x-python",
   "name": "python",
   "nbconvert_exporter": "python",
   "pygments_lexer": "ipython3",
   "version": "3.8.2"
  }
 },
 "nbformat": 4,
 "nbformat_minor": 5
}

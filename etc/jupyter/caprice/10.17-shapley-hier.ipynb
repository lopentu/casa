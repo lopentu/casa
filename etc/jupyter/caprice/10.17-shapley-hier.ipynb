{
 "cells": [
  {
   "cell_type": "code",
   "execution_count": 1,
   "metadata": {},
   "outputs": [],
   "source": [
    "%load_ext autoreload\n",
    "%autoreload 2"
   ]
  },
  {
   "cell_type": "code",
   "execution_count": 2,
   "metadata": {},
   "outputs": [],
   "source": [
    "import pickle\n",
    "import numpy as np\n",
    "from import_casa import casa\n",
    "from casa import caprice\n",
    "from icecream import ic"
   ]
  },
  {
   "cell_type": "code",
   "execution_count": 3,
   "metadata": {},
   "outputs": [],
   "source": [
    "with open(\"../../../data/caprice/caprice_seq_data_20210430.pkl\", \"rb\") as fin:\n",
    "    data = pickle.load(fin)"
   ]
  },
  {
   "cell_type": "code",
   "execution_count": 4,
   "metadata": {},
   "outputs": [],
   "source": [
    "from transformers import AutoTokenizer, AutoModelForSequenceClassification\n",
    "model_path = \"../../../data/caprice/seq-model-ep9\"\n",
    "tokenizer = AutoTokenizer.from_pretrained(model_path)\n",
    "model = AutoModelForSequenceClassification.from_pretrained(model_path)"
   ]
  },
  {
   "cell_type": "code",
   "execution_count": 5,
   "metadata": {},
   "outputs": [],
   "source": [
    "from matplotlib import font_manager"
   ]
  },
  {
   "cell_type": "code",
   "execution_count": 6,
   "metadata": {},
   "outputs": [],
   "source": [
    "import matplotlib.pyplot as plt\n",
    "plt.rcParams[\"font.family\"] = \"Microsoft JhengHei\"\n",
    "# plt.rcParams[\"font.family\"] = \"Heiti TC\""
   ]
  },
  {
   "cell_type": "code",
   "execution_count": 7,
   "metadata": {},
   "outputs": [],
   "source": [
    "import shap"
   ]
  },
  {
   "cell_type": "code",
   "execution_count": 32,
   "metadata": {},
   "outputs": [],
   "source": [
    "from transformers import pipeline\n",
    "caprice_pipeline = pipeline('sentiment-analysis', model=model, tokenizer=tokenizer, return_all_scores=True)"
   ]
  },
  {
   "cell_type": "code",
   "execution_count": 33,
   "metadata": {},
   "outputs": [],
   "source": [
    "explainer = shap.Explainer(caprice_pipeline, algorithm=\"partition\")"
   ]
  },
  {
   "cell_type": "code",
   "execution_count": 34,
   "metadata": {},
   "outputs": [],
   "source": [
    "_masker = explainer.masker"
   ]
  },
  {
   "cell_type": "code",
   "execution_count": 35,
   "metadata": {},
   "outputs": [],
   "source": [
    "import torch\n",
    "from DistilTag import DistilTag\n",
    "tagger = DistilTag()"
   ]
  },
  {
   "cell_type": "code",
   "execution_count": 36,
   "metadata": {},
   "outputs": [
    {
     "data": {
      "text/plain": [
       "[[('我', 'Nh'),\n",
       "  ('才', 'Da'),\n",
       "  ('不要', 'D'),\n",
       "  ('去', 'D'),\n",
       "  ('辦', 'VC'),\n",
       "  ('吃', 'VC'),\n",
       "  ('到', 'P'),\n",
       "  ('飽', 'VH')]]"
      ]
     },
     "execution_count": 36,
     "metadata": {},
     "output_type": "execute_result"
    }
   ],
   "source": [
    "tagger.tag(\"我才不要去辦吃到飽\")"
   ]
  },
  {
   "cell_type": "markdown",
   "metadata": {},
   "source": [
    "## Try hierarchical shapley"
   ]
  },
  {
   "cell_type": "code",
   "execution_count": 37,
   "metadata": {},
   "outputs": [],
   "source": [
    "from types import MethodType\n",
    "from functools import partial\n",
    "from scipy.cluster.hierarchy import to_tree, dendrogram\n",
    "txt = \"他貴到一個爆炸\"\n",
    "\n",
    "clustering_wrapper = partial(caprice.custom_clustering, pat=\"\", tagger_inst=tagger)\n",
    "explainer.masker.clustering = MethodType(clustering_wrapper, explainer.masker)\n",
    "shap_values = explainer([txt], fixed_context=0)"
   ]
  },
  {
   "cell_type": "code",
   "execution_count": 38,
   "metadata": {},
   "outputs": [],
   "source": [
    "probs = [x[\"score\"] for x in caprice_pipeline(txt)[0]]\n",
    "max_label = np.argmax(probs)\n",
    "# max_label = 1"
   ]
  },
  {
   "cell_type": "code",
   "execution_count": 39,
   "metadata": {},
   "outputs": [],
   "source": [
    "Z = shap_values.clustering[0]"
   ]
  },
  {
   "cell_type": "code",
   "execution_count": 40,
   "metadata": {},
   "outputs": [],
   "source": [
    "root, clust_nodes = to_tree(Z, rd=True)"
   ]
  },
  {
   "cell_type": "code",
   "execution_count": 41,
   "metadata": {},
   "outputs": [
    {
     "data": {
      "text/plain": [
       "array([[ 7.        ,  6.        ,  0.17089015,  2.        ],\n",
       "       [ 3.        ,  2.        ,  0.3227866 ,  2.        ],\n",
       "       [ 5.        ,  4.        ,  0.36983135,  2.        ],\n",
       "       [11.        , 10.        ,  0.4077597 ,  4.        ],\n",
       "       [ 9.        , 12.        ,  0.63041621,  6.        ],\n",
       "       [ 1.        ,  0.        ,  0.64684439,  2.        ],\n",
       "       [13.        , 14.        ,  0.75969934,  8.        ],\n",
       "       [ 8.        , 15.        ,  1.        ,  9.        ]])"
      ]
     },
     "execution_count": 41,
     "metadata": {},
     "output_type": "execute_result"
    }
   ],
   "source": [
    "Z"
   ]
  },
  {
   "cell_type": "code",
   "execution_count": 42,
   "metadata": {},
   "outputs": [
    {
     "data": {
      "image/png": "[encoded data removed]",
      "text/plain": [
       "<Figure size 432x288 with 1 Axes>"
      ]
     },
     "metadata": {
      "needs_background": "light"
     },
     "output_type": "display_data"
    }
   ],
   "source": [
    "ex_tokens = _masker._segments_s\n",
    "dendrogram(shap_values.clustering[0], labels=ex_tokens);"
   ]
  },
  {
   "cell_type": "code",
   "execution_count": 43,
   "metadata": {},
   "outputs": [
    {
     "name": "stderr",
     "output_type": "stream",
     "text": [
      "ic| Z.shape: (8, 4), len(ex_tokens): 9\n",
      "ic| len(clust_nodes): 17\n",
      "    shap_values.hierarchical_values[0].shape: (17, 3)\n"
     ]
    },
    {
     "data": {
      "text/plain": [
       "(17, (17, 3))"
      ]
     },
     "execution_count": 43,
     "metadata": {},
     "output_type": "execute_result"
    }
   ],
   "source": [
    "# check dimensions\n",
    "ic(Z.shape, len(ex_tokens))\n",
    "ic(len(clust_nodes), shap_values.hierarchical_values[0].shape)"
   ]
  },
  {
   "cell_type": "code",
   "execution_count": 44,
   "metadata": {},
   "outputs": [],
   "source": [
    "proc_vals = caprice.process_shap_values(shap_values[0, :, max_label])"
   ]
  },
  {
   "cell_type": "code",
   "execution_count": 45,
   "metadata": {},
   "outputs": [
    {
     "data": {
      "text/plain": [
       "{'tokens': array(['', '炸', '爆', '個一到貴', '他', ''], dtype='<U4'),\n",
       " 'values': array([-3.03609176e-07,  2.39403802e-01, -1.37267721e-01,  5.21287731e+00,\n",
       "         1.15447771e-01, -1.01839585e-01]),\n",
       " 'group_sizes': array([1, 1, 1, 4, 1, 1]),\n",
       " 'upper_values': array([-1.01839801e-01, -1.01839801e-01,  1.03923267e+00,  1.03923267e+00,\n",
       "         4.06055705e-01,  4.06055705e-01, -1.80733609e-01, -1.80733609e-01,\n",
       "        -3.03609176e-07, -7.38471424e-02,  1.82049244e+00,  1.82049244e+00,\n",
       "        -7.38471424e-02, -2.03679152e-01, -2.03679152e-01, -3.03609176e-07,\n",
       "         0.00000000e+00]),\n",
       " 'lower_values': array([2.16839859e-07, 2.17287573e-01, 7.73098956e-01, 4.23637440e-01,\n",
       "        5.37609921e-01, 5.87954245e-01, 4.34658881e-02, 4.20137411e-01,\n",
       "        0.00000000e+00, 1.75983223e-01, 1.45470929e+00, 1.17183134e-01,\n",
       "        5.28672445e+00, 5.51869254e+00, 2.17287339e-01, 5.32862188e+00,\n",
       "        5.32862127e+00]),\n",
       " 'group_values': array([-1.01839585e-01,  1.15447771e-01,  1.81233162e+00,  1.46287011e+00,\n",
       "         9.43665626e-01,  9.94009950e-01, -1.37267721e-01,  2.39403802e-01,\n",
       "        -3.03609176e-07,  1.02136081e-01,  3.27520173e+00,  1.93767558e+00,\n",
       "         5.21287731e+00,  5.31501339e+00,  1.36081868e-02,  5.32862158e+00,\n",
       "         5.32862127e+00]),\n",
       " 'max_values': array([2.16839859e-07, 2.17287573e-01, 7.73098956e-01, 4.23637440e-01,\n",
       "        5.37609921e-01, 5.87954245e-01, 4.34658881e-02, 4.20137411e-01,\n",
       "        0.00000000e+00, 4.20137411e-01, 7.73098956e-01, 5.87954245e-01,\n",
       "        9.28708007e-01, 9.28708007e-01, 2.17287573e-01, 9.28708007e-01,\n",
       "        9.28708007e-01]),\n",
       " 'token_id_to_node_id_mapping': array([ 0.,  1., 12., 12., 12., 12.,  6.,  7.,  8.]),\n",
       " 'collapsed_node_ids': array([ 8,  7,  6, 12,  1,  0])}"
      ]
     },
     "execution_count": 45,
     "metadata": {},
     "output_type": "execute_result"
    }
   ],
   "source": [
    "proc_vals"
   ]
  },
  {
   "cell_type": "code",
   "execution_count": 46,
   "metadata": {},
   "outputs": [
    {
     "name": "stdout",
     "output_type": "stream",
     "text": [
      "-1.02e-01 \n",
      " 1.15e-01 他\n",
      " 1.81e+00 貴\n",
      " 1.46e+00 到\n",
      " 9.44e-01 一\n",
      " 9.94e-01 個\n",
      "-1.37e-01 爆\n",
      " 2.39e-01 炸\n",
      "-3.04e-07 \n",
      " 1.02e-01 爆炸\n",
      " 3.28e+00 貴到\n",
      " 1.94e+00 一個\n",
      " 5.21e+00 貴到一個\n",
      " 5.32e+00 貴到一個爆炸\n",
      " 1.36e-02 他\n",
      " 5.33e+00 他貴到一個爆炸\n",
      " 5.33e+00 他貴到一個爆炸\n"
     ]
    }
   ],
   "source": [
    "group_values = proc_vals[\"group_values\"]\n",
    "for node_i, node_x in enumerate(clust_nodes):\n",
    "    leaf_ids = node_x.pre_order(lambda x: x.id)\n",
    "    print(\"% .2e\" % group_values[node_i], \"\".join(ex_tokens[x] for x in sorted(leaf_ids)))"
   ]
  },
  {
   "cell_type": "code",
   "execution_count": 47,
   "metadata": {},
   "outputs": [
    {
     "data": {
      "text/html": [
       "<svg width=\"100%\" height=\"80px\"><line x1=\"0\" y1=\"33\" x2=\"100%\" y2=\"33\" style=\"stroke:rgb(150,150,150);stroke-width:1\" /><line x1=\"11.145753%\" y1=\"33\" x2=\"11.145753%\" y2=\"37\" style=\"stroke:rgb(150,150,150);stroke-width:1\" /><text x=\"11.145753%\" y=\"27\" font-size=\"12px\" fill=\"rgb(120,120,120)\" dominant-baseline=\"bottom\" text-anchor=\"middle\">-4.325414</text><text x=\"11.145753%\" y=\"10\" font-size=\"12px\" fill=\"rgb(120,120,120)\" dominant-baseline=\"bottom\" text-anchor=\"middle\">base value</text><line x1=\"25.431467%\" y1=\"33\" x2=\"25.431467%\" y2=\"37\" style=\"stroke:rgb(150,150,150);stroke-width:1\" /><text x=\"25.431467%\" y=\"27\" font-size=\"12px\" fill=\"rgb(120,120,120)\" dominant-baseline=\"bottom\" text-anchor=\"middle\">-3.345815</text><line x1=\"39.717182%\" y1=\"33\" x2=\"39.717182%\" y2=\"37\" style=\"stroke:rgb(150,150,150);stroke-width:1\" /><text x=\"39.717182%\" y=\"27\" font-size=\"12px\" fill=\"rgb(120,120,120)\" dominant-baseline=\"bottom\" text-anchor=\"middle\">-2.366216</text><line x1=\"54.002896%\" y1=\"33\" x2=\"54.002896%\" y2=\"37\" style=\"stroke:rgb(150,150,150);stroke-width:1\" /><text x=\"54.002896%\" y=\"27\" font-size=\"12px\" fill=\"rgb(120,120,120)\" dominant-baseline=\"bottom\" text-anchor=\"middle\">-1.386617</text><line x1=\"68.288610%\" y1=\"33\" x2=\"68.288610%\" y2=\"37\" style=\"stroke:rgb(150,150,150);stroke-width:1\" /><text x=\"68.288610%\" y=\"27\" font-size=\"12px\" fill=\"rgb(120,120,120)\" dominant-baseline=\"bottom\" text-anchor=\"middle\">-0.407018</text><line x1=\"82.574325%\" y1=\"33\" x2=\"82.574325%\" y2=\"37\" style=\"stroke:rgb(150,150,150);stroke-width:1\" /><text x=\"82.574325%\" y=\"27\" font-size=\"12px\" fill=\"rgb(120,120,120)\" dominant-baseline=\"bottom\" text-anchor=\"middle\">0.572581</text><line x1=\"88.854247%\" y1=\"33\" x2=\"88.854247%\" y2=\"37\" style=\"stroke:rgb(150,150,150);stroke-width:1\" /><text x=\"88.854247%\" y=\"27\" font-size=\"13px\" style=\"stroke:#ffffff;stroke-width:8px;\" font-weight=\"bold\" fill=\"rgb(255,255,255)\" dominant-baseline=\"bottom\" text-anchor=\"middle\">1.003207</text><text x=\"88.854247%\" y=\"27\" font-size=\"13px\" font-weight=\"bold\" fill=\"rgb(0,0,0)\" dominant-baseline=\"bottom\" text-anchor=\"middle\">1.003207</text><text x=\"88.854247%\" y=\"10\" font-size=\"12px\" fill=\"rgb(120,120,120)\" dominant-baseline=\"bottom\" text-anchor=\"middle\">f(x)</text><rect x=\"7.658792591692485%\" width=\"81.1954542686065%\" y=\"40\" height=\"18\" style=\"fill:rgb(255.0, 0.0, 81.08083606031792); stroke-width:0; stroke:rgb(0,0,0)\" /><line x1=\"12.833673644069458%\" x2=\"88.85424686029899%\" y1=\"60\" y2=\"60\" id=\"_fb_pmxidfvbhasjklcapqrv_ind_3\" style=\"stroke:rgb(255.0, 0.0, 81.08083606031792);stroke-width:2; opacity: 0\"/><text x=\"50.843960252184225%\" y=\"71\" font-size=\"12px\" id=\"_fs_pmxidfvbhasjklcapqrv_ind_3\" fill=\"rgb(255.0, 0.0, 81.08083606031792)\" style=\"opacity: 0\" dominant-baseline=\"middle\" text-anchor=\"middle\">5.213</text><svg x=\"12.833673644069458%\" y=\"40\" height=\"20\" width=\"76.02057321622952%\">  <svg x=\"0\" y=\"0\" width=\"100%\" height=\"100%\">    <text x=\"50%\" y=\"9\" font-size=\"12px\" fill=\"rgb(255,255,255)\" dominant-baseline=\"middle\" text-anchor=\"middle\">個一到貴</text>  </svg></svg><line x1=\"9.342393650772413%\" x2=\"12.833673644069458%\" y1=\"60\" y2=\"60\" id=\"_fb_pmxidfvbhasjklcapqrv_ind_1\" style=\"stroke:rgb(255.0, 0.0, 81.08083606031792);stroke-width:2; opacity: 0\"/><text x=\"11.088033647420936%\" y=\"71\" font-size=\"12px\" id=\"_fs_pmxidfvbhasjklcapqrv_ind_1\" fill=\"rgb(255.0, 0.0, 81.08083606031792)\" style=\"opacity: 0\" dominant-baseline=\"middle\" text-anchor=\"middle\">0.239</text><svg x=\"9.342393650772413%\" y=\"40\" height=\"20\" width=\"3.491279993297045%\">  <svg x=\"0\" y=\"0\" width=\"100%\" height=\"100%\">    <text x=\"50%\" y=\"9\" font-size=\"12px\" fill=\"rgb(255,255,255)\" dominant-baseline=\"middle\" text-anchor=\"middle\">炸</text>  </svg></svg><line x1=\"7.658792591692485%\" x2=\"9.342393650772413%\" y1=\"60\" y2=\"60\" id=\"_fb_pmxidfvbhasjklcapqrv_ind_4\" style=\"stroke:rgb(255.0, 0.0, 81.08083606031792);stroke-width:2; opacity: 0\"/><text x=\"8.500593121232448%\" y=\"71\" font-size=\"12px\" id=\"_fs_pmxidfvbhasjklcapqrv_ind_4\" fill=\"rgb(255.0, 0.0, 81.08083606031792)\" style=\"opacity: 0\" dominant-baseline=\"middle\" text-anchor=\"middle\">0.115</text><svg x=\"7.658792591692485%\" y=\"40\" height=\"20\" width=\"1.683601059079928%\">  <svg x=\"0\" y=\"0\" width=\"100%\" height=\"100%\">    <text x=\"50%\" y=\"9\" font-size=\"12px\" fill=\"rgb(255,255,255)\" dominant-baseline=\"middle\" text-anchor=\"middle\">他</text>  </svg></svg><g transform=\"translate(0,0)\">  <svg x=\"12.833673644069458%\" y=\"40\" height=\"18\" overflow=\"visible\" width=\"30\">    <path d=\"M 0 -9 l 6 18 L 0 25\" fill=\"none\" style=\"stroke:rgb(255.0, 0.0, 81.08083606031792);stroke-width:2\" />  </svg></g><g transform=\"translate(2,0)\">  <svg x=\"12.833673644069458%\" y=\"40\" height=\"18\" overflow=\"visible\" width=\"30\">    <path d=\"M 0 -9 l 6 18 L 0 25\" fill=\"none\" style=\"stroke:rgb(255.0, 0.0, 81.08083606031792);stroke-width:2\" />  </svg></g><g transform=\"translate(4,0)\">  <svg x=\"12.833673644069458%\" y=\"40\" height=\"18\" overflow=\"visible\" width=\"30\">    <path d=\"M 0 -9 l 6 18 L 0 25\" fill=\"none\" style=\"stroke:rgb(255.0, 0.0, 81.08083606031792);stroke-width:2\" />  </svg></g><g transform=\"translate(6,0)\">  <svg x=\"12.833673644069458%\" y=\"40\" height=\"18\" overflow=\"visible\" width=\"30\">    <path d=\"M 0 -9 l 6 18 L 0 25\" fill=\"none\" style=\"stroke:rgb(255.0, 0.0, 81.08083606031792);stroke-width:2\" />  </svg></g><g transform=\"translate(-8,0)\">  <svg x=\"12.833673644069458%\" y=\"40\" height=\"18\" overflow=\"visible\" width=\"30\">    <path d=\"M 0 -9 l 6 18 L 0 25\" fill=\"none\" style=\"stroke:rgb(255.0, 0.0, 81.08083606031792);stroke-width:2\" />  </svg></g><g transform=\"translate(-6,0)\">  <svg x=\"12.833673644069458%\" y=\"40\" height=\"18\" overflow=\"visible\" width=\"30\">    <path d=\"M 0 -9 l 6 18 L 0 25\" fill=\"none\" style=\"stroke:rgb(255.0, 0.0, 81.08083606031792);stroke-width:2\" />  </svg></g><g transform=\"translate(-4,0)\">  <svg x=\"12.833673644069458%\" y=\"40\" height=\"18\" overflow=\"visible\" width=\"30\">    <path d=\"M 0 -9 l 6 18 L 0 25\" fill=\"none\" style=\"stroke:rgb(255.0, 0.0, 81.08083606031792);stroke-width:2\" />  </svg></g><g transform=\"translate(-2,0)\">  <svg x=\"12.833673644069458%\" y=\"40\" height=\"18\" overflow=\"visible\" width=\"30\">    <path d=\"M 0 -9 l 6 18 L 0 25\" fill=\"none\" style=\"stroke:rgb(255.0, 0.0, 81.08083606031792);stroke-width:2\" />  </svg></g><g transform=\"translate(0,0)\">  <svg x=\"9.342393650772413%\" y=\"40\" height=\"18\" overflow=\"visible\" width=\"30\">    <path d=\"M 0 -9 l 6 18 L 0 25\" fill=\"none\" style=\"stroke:rgb(255.0, 0.0, 81.08083606031792);stroke-width:2\" />  </svg></g><g transform=\"translate(2,0)\">  <svg x=\"9.342393650772413%\" y=\"40\" height=\"18\" overflow=\"visible\" width=\"30\">    <path d=\"M 0 -9 l 6 18 L 0 25\" fill=\"none\" style=\"stroke:rgb(255.0, 0.0, 81.08083606031792);stroke-width:2\" />  </svg></g><g transform=\"translate(4,0)\">  <svg x=\"9.342393650772413%\" y=\"40\" height=\"18\" overflow=\"visible\" width=\"30\">    <path d=\"M 0 -9 l 6 18 L 0 25\" fill=\"none\" style=\"stroke:rgb(255.0, 0.0, 81.08083606031792);stroke-width:2\" />  </svg></g><g transform=\"translate(6,0)\">  <svg x=\"9.342393650772413%\" y=\"40\" height=\"18\" overflow=\"visible\" width=\"30\">    <path d=\"M 0 -9 l 6 18 L 0 25\" fill=\"none\" style=\"stroke:rgb(255.0, 0.0, 81.08083606031792);stroke-width:2\" />  </svg></g><g transform=\"translate(-8,0)\">  <svg x=\"9.342393650772413%\" y=\"40\" height=\"18\" overflow=\"visible\" width=\"30\">    <path d=\"M 0 -9 l 6 18 L 0 25\" fill=\"none\" style=\"stroke:rgb(255.0, 0.0, 81.08083606031792);stroke-width:2\" />  </svg></g><g transform=\"translate(-6,0)\">  <svg x=\"9.342393650772413%\" y=\"40\" height=\"18\" overflow=\"visible\" width=\"30\">    <path d=\"M 0 -9 l 6 18 L 0 25\" fill=\"none\" style=\"stroke:rgb(255.0, 0.0, 81.08083606031792);stroke-width:2\" />  </svg></g><g transform=\"translate(-4,0)\">  <svg x=\"9.342393650772413%\" y=\"40\" height=\"18\" overflow=\"visible\" width=\"30\">    <path d=\"M 0 -9 l 6 18 L 0 25\" fill=\"none\" style=\"stroke:rgb(255.0, 0.0, 81.08083606031792);stroke-width:2\" />  </svg></g><g transform=\"translate(-2,0)\">  <svg x=\"9.342393650772413%\" y=\"40\" height=\"18\" overflow=\"visible\" width=\"30\">    <path d=\"M 0 -9 l 6 18 L 0 25\" fill=\"none\" style=\"stroke:rgb(255.0, 0.0, 81.08083606031792);stroke-width:2\" />  </svg></g><rect transform=\"translate(-8,0)\" x=\"88.85424686029899%\" y=\"40\" width=\"8\" height=\"18\" style=\"fill:rgb(255.0, 0.0, 81.08083606031792)\"/><g transform=\"translate(-11.5,0)\">  <svg x=\"7.658792591692485%\" y=\"40\" height=\"18\" overflow=\"visible\" width=\"30\">    <path d=\"M 10 -9 l 6 18 L 10 25 L 0 25 L 0 -9\" fill=\"#ffffff\" style=\"stroke:rgb(255,255,255);stroke-width:2\" />  </svg></g><g transform=\"translate(-1.5,0)\">  <svg x=\"88.85424686029899%\" y=\"40\" height=\"18\" overflow=\"visible\" width=\"30\">    <path d=\"M 0 -9 l 6 18 L 0 25\" fill=\"none\" style=\"stroke:rgb(255, 195, 213);stroke-width:2\" />  </svg></g><rect x=\"12.833673644069458%\" y=\"40\" height=\"20\" width=\"76.02057321622952%\"      onmouseover=\"document.getElementById('_tp_pmxidfvbhasjklcapqrv_ind_3').style.textDecoration = 'underline';document.getElementById('_fs_pmxidfvbhasjklcapqrv_ind_3').style.opacity = 1;document.getElementById('_fb_pmxidfvbhasjklcapqrv_ind_3').style.opacity = 1;\"      onmouseout=\"document.getElementById('_tp_pmxidfvbhasjklcapqrv_ind_3').style.textDecoration = 'none';document.getElementById('_fs_pmxidfvbhasjklcapqrv_ind_3').style.opacity = 0;document.getElementById('_fb_pmxidfvbhasjklcapqrv_ind_3').style.opacity = 0;\" style=\"fill:rgb(0,0,0,0)\" /><g transform=\"translate(-1.5,0)\">  <svg x=\"12.833673644069458%\" y=\"40\" height=\"18\" overflow=\"visible\" width=\"30\">    <path d=\"M 0 -9 l 6 18 L 0 25\" fill=\"none\" style=\"stroke:rgb(255, 195, 213);stroke-width:2\" />  </svg></g><rect x=\"9.342393650772413%\" y=\"40\" height=\"20\" width=\"3.491279993297045%\"      onmouseover=\"document.getElementById('_tp_pmxidfvbhasjklcapqrv_ind_1').style.textDecoration = 'underline';document.getElementById('_fs_pmxidfvbhasjklcapqrv_ind_1').style.opacity = 1;document.getElementById('_fb_pmxidfvbhasjklcapqrv_ind_1').style.opacity = 1;\"      onmouseout=\"document.getElementById('_tp_pmxidfvbhasjklcapqrv_ind_1').style.textDecoration = 'none';document.getElementById('_fs_pmxidfvbhasjklcapqrv_ind_1').style.opacity = 0;document.getElementById('_fb_pmxidfvbhasjklcapqrv_ind_1').style.opacity = 0;\" style=\"fill:rgb(0,0,0,0)\" /><rect x=\"7.658792591692485%\" y=\"40\" height=\"20\" width=\"1.683601059079928%\"      onmouseover=\"document.getElementById('_tp_pmxidfvbhasjklcapqrv_ind_4').style.textDecoration = 'underline';document.getElementById('_fs_pmxidfvbhasjklcapqrv_ind_4').style.opacity = 1;document.getElementById('_fb_pmxidfvbhasjklcapqrv_ind_4').style.opacity = 1;\"      onmouseout=\"document.getElementById('_tp_pmxidfvbhasjklcapqrv_ind_4').style.textDecoration = 'none';document.getElementById('_fs_pmxidfvbhasjklcapqrv_ind_4').style.opacity = 0;document.getElementById('_fb_pmxidfvbhasjklcapqrv_ind_4').style.opacity = 0;\" style=\"fill:rgb(0,0,0,0)\" /><rect x=\"88.85424686029899%\" width=\"3.4869605480084958%\" y=\"40\" height=\"18\" style=\"fill:rgb(0.0, 138.56128015770727, 250.76166088685727); stroke-width:0; stroke:rgb(0,0,0)\" /><line x1=\"88.85424686029899%\" x2=\"90.85605319924628%\" y1=\"60\" y2=\"60\" id=\"_fb_pmxidfvbhasjklcapqrv_ind_2\" style=\"stroke:rgb(0.0, 138.56128015770727, 250.76166088685727);stroke-width:2; opacity: 0\"/><text x=\"89.85515002977263%\" y=\"71\" font-size=\"12px\" fill=\"rgb(0.0, 138.56128015770727, 250.76166088685727)\" id=\"_fs_pmxidfvbhasjklcapqrv_ind_2\" style=\"opacity: 0\" dominant-baseline=\"middle\" text-anchor=\"middle\">-0.137</text><svg x=\"88.85424686029899%\" y=\"40\" height=\"20\" width=\"2.00180633894729%\">  <svg x=\"0\" y=\"0\" width=\"100%\" height=\"100%\">    <text x=\"50%\" y=\"9\" font-size=\"12px\" fill=\"rgb(255,255,255)\" dominant-baseline=\"middle\" text-anchor=\"middle\">爆</text>  </svg></svg><line x1=\"90.85605319924628%\" x2=\"92.34120298070596%\" y1=\"60\" y2=\"60\" id=\"_fb_pmxidfvbhasjklcapqrv_ind_5\" style=\"stroke:rgb(0.0, 138.56128015770727, 250.76166088685727);stroke-width:2; opacity: 0\"/><text x=\"91.59862808997612%\" y=\"71\" font-size=\"12px\" fill=\"rgb(0.0, 138.56128015770727, 250.76166088685727)\" id=\"_fs_pmxidfvbhasjklcapqrv_ind_5\" style=\"opacity: 0\" dominant-baseline=\"middle\" text-anchor=\"middle\">-0.102</text><svg x=\"90.85605319924628%\" y=\"40\" height=\"20\" width=\"1.4851497814596826%\">  <svg x=\"0\" y=\"0\" width=\"100%\" height=\"100%\">    <text x=\"50%\" y=\"9\" font-size=\"12px\" fill=\"rgb(255,255,255)\" dominant-baseline=\"middle\" text-anchor=\"middle\"></text>  </svg></svg><line x1=\"92.34120298070596%\" x2=\"92.3412074083075%\" y1=\"60\" y2=\"60\" id=\"_fb_pmxidfvbhasjklcapqrv_ind_0\" style=\"stroke:rgb(0.0, 138.56128015770727, 250.76166088685727);stroke-width:2; opacity: 0\"/><text x=\"92.34120519450673%\" y=\"71\" font-size=\"12px\" fill=\"rgb(0.0, 138.56128015770727, 250.76166088685727)\" id=\"_fs_pmxidfvbhasjklcapqrv_ind_0\" style=\"opacity: 0\" dominant-baseline=\"middle\" text-anchor=\"middle\">-0.0</text><svg x=\"92.34120298070596%\" y=\"40\" height=\"20\" width=\"4.427601538736781e-06%\">  <svg x=\"0\" y=\"0\" width=\"100%\" height=\"100%\">    <text x=\"50%\" y=\"9\" font-size=\"12px\" fill=\"rgb(255,255,255)\" dominant-baseline=\"middle\" text-anchor=\"middle\"></text>  </svg></svg><g transform=\"translate(-8,0)\">  <svg x=\"90.85605319924628%\" y=\"40\" height=\"18\" overflow=\"visible\" width=\"30\">    <path d=\"M 8 -9 l -6 18 L 8 25\" fill=\"none\" style=\"stroke:rgb(0.0, 138.56128015770727, 250.76166088685727);stroke-width:2\" />  </svg></g><g transform=\"translate(-10,0)\">  <svg x=\"90.85605319924628%\" y=\"40\" height=\"18\" overflow=\"visible\" width=\"30\">    <path d=\"M 8 -9 l -6 18 L 8 25\" fill=\"none\" style=\"stroke:rgb(0.0, 138.56128015770727, 250.76166088685727);stroke-width:2\" />  </svg></g><g transform=\"translate(-12,0)\">  <svg x=\"90.85605319924628%\" y=\"40\" height=\"18\" overflow=\"visible\" width=\"30\">    <path d=\"M 8 -9 l -6 18 L 8 25\" fill=\"none\" style=\"stroke:rgb(0.0, 138.56128015770727, 250.76166088685727);stroke-width:2\" />  </svg></g><g transform=\"translate(-14,0)\">  <svg x=\"90.85605319924628%\" y=\"40\" height=\"18\" overflow=\"visible\" width=\"30\">    <path d=\"M 8 -9 l -6 18 L 8 25\" fill=\"none\" style=\"stroke:rgb(0.0, 138.56128015770727, 250.76166088685727);stroke-width:2\" />  </svg></g><g transform=\"translate(2,0)\">  <svg x=\"90.85605319924628%\" y=\"40\" height=\"18\" overflow=\"visible\" width=\"30\">    <path d=\"M 8 -9 l -6 18 L 8 25\" fill=\"none\" style=\"stroke:rgb(0.0, 138.56128015770727, 250.76166088685727);stroke-width:2\" />  </svg></g><g transform=\"translate(0,0)\">  <svg x=\"90.85605319924628%\" y=\"40\" height=\"18\" overflow=\"visible\" width=\"30\">    <path d=\"M 8 -9 l -6 18 L 8 25\" fill=\"none\" style=\"stroke:rgb(0.0, 138.56128015770727, 250.76166088685727);stroke-width:2\" />  </svg></g><g transform=\"translate(-2,0)\">  <svg x=\"90.85605319924628%\" y=\"40\" height=\"18\" overflow=\"visible\" width=\"30\">    <path d=\"M 8 -9 l -6 18 L 8 25\" fill=\"none\" style=\"stroke:rgb(0.0, 138.56128015770727, 250.76166088685727);stroke-width:2\" />  </svg></g><g transform=\"translate(-4,0)\">  <svg x=\"90.85605319924628%\" y=\"40\" height=\"18\" overflow=\"visible\" width=\"30\">    <path d=\"M 8 -9 l -6 18 L 8 25\" fill=\"none\" style=\"stroke:rgb(0.0, 138.56128015770727, 250.76166088685727);stroke-width:2\" />  </svg></g><g transform=\"translate(-8,0)\">  <svg x=\"92.34120298070596%\" y=\"40\" height=\"18\" overflow=\"visible\" width=\"30\">    <path d=\"M 8 -9 l -6 18 L 8 25\" fill=\"none\" style=\"stroke:rgb(0.0, 138.56128015770727, 250.76166088685727);stroke-width:2\" />  </svg></g><g transform=\"translate(-10,0)\">  <svg x=\"92.34120298070596%\" y=\"40\" height=\"18\" overflow=\"visible\" width=\"30\">    <path d=\"M 8 -9 l -6 18 L 8 25\" fill=\"none\" style=\"stroke:rgb(0.0, 138.56128015770727, 250.76166088685727);stroke-width:2\" />  </svg></g><g transform=\"translate(-12,0)\">  <svg x=\"92.34120298070596%\" y=\"40\" height=\"18\" overflow=\"visible\" width=\"30\">    <path d=\"M 8 -9 l -6 18 L 8 25\" fill=\"none\" style=\"stroke:rgb(0.0, 138.56128015770727, 250.76166088685727);stroke-width:2\" />  </svg></g><g transform=\"translate(-14,0)\">  <svg x=\"92.34120298070596%\" y=\"40\" height=\"18\" overflow=\"visible\" width=\"30\">    <path d=\"M 8 -9 l -6 18 L 8 25\" fill=\"none\" style=\"stroke:rgb(0.0, 138.56128015770727, 250.76166088685727);stroke-width:2\" />  </svg></g><g transform=\"translate(2,0)\">  <svg x=\"92.34120298070596%\" y=\"40\" height=\"18\" overflow=\"visible\" width=\"30\">    <path d=\"M 8 -9 l -6 18 L 8 25\" fill=\"none\" style=\"stroke:rgb(0.0, 138.56128015770727, 250.76166088685727);stroke-width:2\" />  </svg></g><g transform=\"translate(0,0)\">  <svg x=\"92.34120298070596%\" y=\"40\" height=\"18\" overflow=\"visible\" width=\"30\">    <path d=\"M 8 -9 l -6 18 L 8 25\" fill=\"none\" style=\"stroke:rgb(0.0, 138.56128015770727, 250.76166088685727);stroke-width:2\" />  </svg></g><g transform=\"translate(-2,0)\">  <svg x=\"92.34120298070596%\" y=\"40\" height=\"18\" overflow=\"visible\" width=\"30\">    <path d=\"M 8 -9 l -6 18 L 8 25\" fill=\"none\" style=\"stroke:rgb(0.0, 138.56128015770727, 250.76166088685727);stroke-width:2\" />  </svg></g><g transform=\"translate(-4,0)\">  <svg x=\"92.34120298070596%\" y=\"40\" height=\"18\" overflow=\"visible\" width=\"30\">    <path d=\"M 8 -9 l -6 18 L 8 25\" fill=\"none\" style=\"stroke:rgb(0.0, 138.56128015770727, 250.76166088685727);stroke-width:2\" />  </svg></g><rect transform=\"translate(0,0)\" x=\"88.85424686029899%\" y=\"40\" width=\"8\" height=\"18\" style=\"fill:rgb(0.0, 138.56128015770727, 250.76166088685727)\"/><g transform=\"translate(-6.0,0)\">  <svg x=\"92.3412074083075%\" y=\"40\" height=\"18\" overflow=\"visible\" width=\"30\">    <path d=\"M 8 -9 l -6 18 L 8 25 L 20 25 L 20 -9\" fill=\"#ffffff\" style=\"stroke:rgb(255,255,255);stroke-width:2\" />  </svg></g><g transform=\"translate(-6.0,0)\">  <svg x=\"90.85605319924628%\" y=\"40\" height=\"18\" overflow=\"visible\" width=\"30\">    <path d=\"M 8 -9 l -6 18 L 8 25\" fill=\"none\" style=\"stroke:rgb(208, 230, 250);stroke-width:2\" />  </svg></g><rect x=\"88.85424686029899%\" y=\"40\" height=\"20\" width=\"2.00180633894729%\"      onmouseover=\"document.getElementById('_tp_pmxidfvbhasjklcapqrv_ind_2').style.textDecoration = 'underline';document.getElementById('_fs_pmxidfvbhasjklcapqrv_ind_2').style.opacity = 1;document.getElementById('_fb_pmxidfvbhasjklcapqrv_ind_2').style.opacity = 1;\"      onmouseout=\"document.getElementById('_tp_pmxidfvbhasjklcapqrv_ind_2').style.textDecoration = 'none';document.getElementById('_fs_pmxidfvbhasjklcapqrv_ind_2').style.opacity = 0;document.getElementById('_fb_pmxidfvbhasjklcapqrv_ind_2').style.opacity = 0;\" style=\"fill:rgb(0,0,0,0)\" /><g transform=\"translate(-6.0,0)\">  <svg x=\"92.34120298070596%\" y=\"40\" height=\"18\" overflow=\"visible\" width=\"30\">    <path d=\"M 8 -9 l -6 18 L 8 25\" fill=\"none\" style=\"stroke:rgb(208, 230, 250);stroke-width:2\" />  </svg></g><rect x=\"90.85605319924628%\" y=\"40\" height=\"20\" width=\"1.4851497814596826%\"      onmouseover=\"document.getElementById('_tp_pmxidfvbhasjklcapqrv_ind_5').style.textDecoration = 'underline';document.getElementById('_fs_pmxidfvbhasjklcapqrv_ind_5').style.opacity = 1;document.getElementById('_fb_pmxidfvbhasjklcapqrv_ind_5').style.opacity = 1;\"      onmouseout=\"document.getElementById('_tp_pmxidfvbhasjklcapqrv_ind_5').style.textDecoration = 'none';document.getElementById('_fs_pmxidfvbhasjklcapqrv_ind_5').style.opacity = 0;document.getElementById('_fb_pmxidfvbhasjklcapqrv_ind_5').style.opacity = 0;\" style=\"fill:rgb(0,0,0,0)\" /><rect x=\"92.34120298070596%\" y=\"40\" height=\"20\" width=\"4.427601538736781e-06%\"      onmouseover=\"document.getElementById('_tp_pmxidfvbhasjklcapqrv_ind_0').style.textDecoration = 'underline';document.getElementById('_fs_pmxidfvbhasjklcapqrv_ind_0').style.opacity = 1;document.getElementById('_fb_pmxidfvbhasjklcapqrv_ind_0').style.opacity = 1;\"      onmouseout=\"document.getElementById('_tp_pmxidfvbhasjklcapqrv_ind_0').style.textDecoration = 'none';document.getElementById('_fs_pmxidfvbhasjklcapqrv_ind_0').style.opacity = 0;document.getElementById('_fb_pmxidfvbhasjklcapqrv_ind_0').style.opacity = 0;\" style=\"fill:rgb(0,0,0,0)\" /></svg><div style='display: inline; text-align: center;'><div style='display: none; color: #999; padding-top: 0px; font-size: 12px;'>-0.0</div><div id='_tp_pmxidfvbhasjklcapqrv_ind_0'style='display: inline; background: rgba(54.70588235294111, 122.49411764705886, 213.40784313725496, 0.0); border-radius: 3px; padding: 0px'onclick=\"if (this.previousSibling.style.display == 'none') {this.previousSibling.style.display = 'block';this.parentNode.style.display = 'inline-block';} else {this.previousSibling.style.display = 'none';this.parentNode.style.display = 'inline';}\"onmouseover=\"document.getElementById('_fb_pmxidfvbhasjklcapqrv_ind_0').style.opacity = 1; document.getElementById('_fs_pmxidfvbhasjklcapqrv_ind_0').style.opacity = 1;\"onmouseout=\"document.getElementById('_fb_pmxidfvbhasjklcapqrv_ind_0').style.opacity = 0; document.getElementById('_fs_pmxidfvbhasjklcapqrv_ind_0').style.opacity = 0;\"></div></div><div style='display: inline; text-align: center;'><div style='display: none; color: #999; padding-top: 0px; font-size: 12px;'>0.239</div><div id='_tp_pmxidfvbhasjklcapqrv_ind_1'style='display: inline; background: rgba(255.0, 13.0, 87.0, 0.13289760348583876); border-radius: 3px; padding: 0px'onclick=\"if (this.previousSibling.style.display == 'none') {this.previousSibling.style.display = 'block';this.parentNode.style.display = 'inline-block';} else {this.previousSibling.style.display = 'none';this.parentNode.style.display = 'inline';}\"onmouseover=\"document.getElementById('_fb_pmxidfvbhasjklcapqrv_ind_1').style.opacity = 1; document.getElementById('_fs_pmxidfvbhasjklcapqrv_ind_1').style.opacity = 1;\"onmouseout=\"document.getElementById('_fb_pmxidfvbhasjklcapqrv_ind_1').style.opacity = 0; document.getElementById('_fs_pmxidfvbhasjklcapqrv_ind_1').style.opacity = 0;\">炸</div></div><div style='display: inline; text-align: center;'><div style='display: none; color: #999; padding-top: 0px; font-size: 12px;'>-0.137</div><div id='_tp_pmxidfvbhasjklcapqrv_ind_2'style='display: inline; background: rgba(30.0, 136.0, 229.0, 0.06983561101208147); border-radius: 3px; padding: 0px'onclick=\"if (this.previousSibling.style.display == 'none') {this.previousSibling.style.display = 'block';this.parentNode.style.display = 'inline-block';} else {this.previousSibling.style.display = 'none';this.parentNode.style.display = 'inline';}\"onmouseover=\"document.getElementById('_fb_pmxidfvbhasjklcapqrv_ind_2').style.opacity = 1; document.getElementById('_fs_pmxidfvbhasjklcapqrv_ind_2').style.opacity = 1;\"onmouseout=\"document.getElementById('_fb_pmxidfvbhasjklcapqrv_ind_2').style.opacity = 0; document.getElementById('_fs_pmxidfvbhasjklcapqrv_ind_2').style.opacity = 0;\">爆</div></div><div style='display: inline; text-align: center;'><div style='display: none; color: #999; padding-top: 0px; font-size: 12px;'>5.213 / 4</div><div id='_tp_pmxidfvbhasjklcapqrv_ind_3'style='display: inline; background: rgba(255.0, 13.0, 87.0, 1.0); border-radius: 3px; padding: 0px'onclick=\"if (this.previousSibling.style.display == 'none') {this.previousSibling.style.display = 'block';this.parentNode.style.display = 'inline-block';} else {this.previousSibling.style.display = 'none';this.parentNode.style.display = 'inline';}\"onmouseover=\"document.getElementById('_fb_pmxidfvbhasjklcapqrv_ind_3').style.opacity = 1; document.getElementById('_fs_pmxidfvbhasjklcapqrv_ind_3').style.opacity = 1;\"onmouseout=\"document.getElementById('_fb_pmxidfvbhasjklcapqrv_ind_3').style.opacity = 0; document.getElementById('_fs_pmxidfvbhasjklcapqrv_ind_3').style.opacity = 0;\">個一到貴</div></div><div style='display: inline; text-align: center;'><div style='display: none; color: #999; padding-top: 0px; font-size: 12px;'>0.115</div><div id='_tp_pmxidfvbhasjklcapqrv_ind_4'style='display: inline; background: rgba(255.0, 13.0, 87.0, 0.06195286195286207); border-radius: 3px; padding: 0px'onclick=\"if (this.previousSibling.style.display == 'none') {this.previousSibling.style.display = 'block';this.parentNode.style.display = 'inline-block';} else {this.previousSibling.style.display = 'none';this.parentNode.style.display = 'inline';}\"onmouseover=\"document.getElementById('_fb_pmxidfvbhasjklcapqrv_ind_4').style.opacity = 1; document.getElementById('_fs_pmxidfvbhasjklcapqrv_ind_4').style.opacity = 1;\"onmouseout=\"document.getElementById('_fb_pmxidfvbhasjklcapqrv_ind_4').style.opacity = 0; document.getElementById('_fs_pmxidfvbhasjklcapqrv_ind_4').style.opacity = 0;\">他</div></div><div style='display: inline; text-align: center;'><div style='display: none; color: #999; padding-top: 0px; font-size: 12px;'>-0.102</div><div id='_tp_pmxidfvbhasjklcapqrv_ind_5'style='display: inline; background: rgba(30.0, 136.0, 229.0, 0.05407011289364222); border-radius: 3px; padding: 0px'onclick=\"if (this.previousSibling.style.display == 'none') {this.previousSibling.style.display = 'block';this.parentNode.style.display = 'inline-block';} else {this.previousSibling.style.display = 'none';this.parentNode.style.display = 'inline';}\"onmouseover=\"document.getElementById('_fb_pmxidfvbhasjklcapqrv_ind_5').style.opacity = 1; document.getElementById('_fs_pmxidfvbhasjklcapqrv_ind_5').style.opacity = 1;\"onmouseout=\"document.getElementById('_fb_pmxidfvbhasjklcapqrv_ind_5').style.opacity = 0; document.getElementById('_fs_pmxidfvbhasjklcapqrv_ind_5').style.opacity = 0;\"></div></div>"
      ],
      "text/plain": [
       "<IPython.core.display.HTML object>"
      ]
     },
     "metadata": {},
     "output_type": "display_data"
    }
   ],
   "source": [
    "shap.plots.text(shap_values[0, :, max_label])"
   ]
  },
  {
   "cell_type": "code",
   "execution_count": null,
   "metadata": {},
   "outputs": [],
   "source": []
  }
 ],
 "metadata": {
  "kernelspec": {
   "display_name": "Python 3",
   "language": "python",
   "name": "python3"
  },
  "language_info": {
   "codemirror_mode": {
    "name": "ipython",
    "version": 3
   },
   "file_extension": ".py",
   "mimetype": "text/x-python",
   "name": "python",
   "nbconvert_exporter": "python",
   "pygments_lexer": "ipython3",
   "version": "3.8.2"
  }
 },
 "nbformat": 4,
 "nbformat_minor": 4
}

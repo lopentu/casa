{
 "cells": [
  {
   "cell_type": "code",
   "execution_count": 1,
   "metadata": {},
   "outputs": [],
   "source": [
    "%load_ext autoreload\n",
    "%autoreload 2"
   ]
  },
  {
   "cell_type": "code",
   "execution_count": 2,
   "metadata": {},
   "outputs": [
    {
     "name": "stderr",
     "output_type": "stream",
     "text": [
      "/Users/seantyh/anaconda3/lib/python3.7/site-packages/gensim/similarities/__init__.py:15: UserWarning: The gensim.similarities.levenshtein submodule is disabled, because the optional Levenshtein package <https://pypi.org/project/python-Levenshtein/> is unavailable. Install Levenhstein (e.g. `pip install python-Levenshtein`) to suppress this warning.\n",
      "  warnings.warn(msg)\n"
     ]
    }
   ],
   "source": [
    "import pickle\n",
    "import numpy as np\n",
    "from import_casa import casa\n",
    "from casa import caprice\n",
    "from icecream import ic"
   ]
  },
  {
   "cell_type": "code",
   "execution_count": 3,
   "metadata": {},
   "outputs": [],
   "source": [
    "with open(\"../../../data/caprice/caprice_seq_data_20210430.pkl\", \"rb\") as fin:\n",
    "    data = pickle.load(fin)"
   ]
  },
  {
   "cell_type": "code",
   "execution_count": 4,
   "metadata": {},
   "outputs": [],
   "source": [
    "from transformers import AutoTokenizer, AutoModelForSequenceClassification\n",
    "model_path = \"../../../data/caprice/seq-model-ep9\"\n",
    "tokenizer = AutoTokenizer.from_pretrained(model_path)\n",
    "model = AutoModelForSequenceClassification.from_pretrained(model_path)"
   ]
  },
  {
   "cell_type": "code",
   "execution_count": 5,
   "metadata": {},
   "outputs": [],
   "source": [
    "from matplotlib import font_manager"
   ]
  },
  {
   "cell_type": "code",
   "execution_count": 6,
   "metadata": {},
   "outputs": [],
   "source": [
    "import matplotlib.pyplot as plt\n",
    "# plt.rcParams[\"font.family\"] = \"Microsoft JhengHei\"\n",
    "plt.rcParams[\"font.family\"] = \"Heiti TC\""
   ]
  },
  {
   "cell_type": "code",
   "execution_count": 7,
   "metadata": {},
   "outputs": [],
   "source": [
    "import shap"
   ]
  },
  {
   "cell_type": "code",
   "execution_count": 8,
   "metadata": {},
   "outputs": [],
   "source": [
    "from transformers import pipeline\n",
    "caprice_pipeline = pipeline('sentiment-analysis', model=model, tokenizer=tokenizer, return_all_scores=False)"
   ]
  },
  {
   "cell_type": "code",
   "execution_count": 9,
   "metadata": {},
   "outputs": [],
   "source": [
    "explainer = shap.Explainer(caprice_pipeline, algorithm=\"partition\")"
   ]
  },
  {
   "cell_type": "code",
   "execution_count": 10,
   "metadata": {},
   "outputs": [],
   "source": [
    "_masker = explainer.masker"
   ]
  },
  {
   "cell_type": "code",
   "execution_count": 11,
   "metadata": {},
   "outputs": [],
   "source": [
    "import torch\n",
    "from DistilTag import DistilTag\n",
    "tagger = DistilTag()"
   ]
  },
  {
   "cell_type": "code",
   "execution_count": 12,
   "metadata": {},
   "outputs": [
    {
     "data": {
      "text/plain": [
       "[[('我', 'Nh'),\n",
       "  ('才', 'Da'),\n",
       "  ('不要', 'D'),\n",
       "  ('去', 'D'),\n",
       "  ('辦', 'VC'),\n",
       "  ('吃', 'VC'),\n",
       "  ('到', 'P'),\n",
       "  ('飽', 'VH')]]"
      ]
     },
     "execution_count": 12,
     "metadata": {},
     "output_type": "execute_result"
    }
   ],
   "source": [
    "tagger.tag(\"我才不要去辦吃到飽\")"
   ]
  },
  {
   "cell_type": "markdown",
   "metadata": {},
   "source": [
    "## Try hierarchical shapley"
   ]
  },
  {
   "cell_type": "code",
   "execution_count": 13,
   "metadata": {},
   "outputs": [],
   "source": [
    "from types import MethodType\n",
    "from functools import partial\n",
    "from scipy.cluster.hierarchy import to_tree, dendrogram\n",
    "txt = \"他貴到一個爆炸\"\n",
    "\n",
    "clustering_wrapper = partial(caprice.custom_clustering, pat=\"(到一個)\", tagger_inst=tagger)\n",
    "explainer.masker.clustering = MethodType(clustering_wrapper, explainer.masker)\n",
    "shap_values = explainer([txt], fixed_context=0)"
   ]
  },
  {
   "cell_type": "code",
   "execution_count": 15,
   "metadata": {},
   "outputs": [],
   "source": [
    "# probs = [x[\"score\"] for x in caprice_pipeline(txt)[0]]\n",
    "# max_label = np.argmax(probs)\n",
    "max_label = 1"
   ]
  },
  {
   "cell_type": "code",
   "execution_count": 16,
   "metadata": {},
   "outputs": [],
   "source": [
    "Z = shap_values.clustering[0]"
   ]
  },
  {
   "cell_type": "code",
   "execution_count": 17,
   "metadata": {},
   "outputs": [],
   "source": [
    "root, clust_nodes = to_tree(Z, rd=True)"
   ]
  },
  {
   "cell_type": "code",
   "execution_count": 18,
   "metadata": {},
   "outputs": [
    {
     "data": {
      "text/plain": [
       "array([[ 5.        ,  4.        ,  0.1232772 ,  2.        ],\n",
       "       [ 9.        ,  3.        ,  0.1359199 ,  3.        ],\n",
       "       [ 7.        ,  6.        ,  0.17089023,  2.        ],\n",
       "       [10.        ,  2.        ,  0.32278648,  4.        ],\n",
       "       [11.        , 12.        ,  0.63041645,  6.        ],\n",
       "       [ 1.        ,  0.        ,  0.64684439,  2.        ],\n",
       "       [13.        , 14.        ,  0.75969929,  8.        ],\n",
       "       [ 8.        , 15.        ,  1.        ,  9.        ]])"
      ]
     },
     "execution_count": 18,
     "metadata": {},
     "output_type": "execute_result"
    }
   ],
   "source": [
    "Z"
   ]
  },
  {
   "cell_type": "code",
   "execution_count": 19,
   "metadata": {},
   "outputs": [
    {
     "data": {
      "image/png": "[encoded data removed]",
      "text/plain": [
       "<Figure size 432x288 with 1 Axes>"
      ]
     },
     "metadata": {
      "needs_background": "light"
     },
     "output_type": "display_data"
    }
   ],
   "source": [
    "ex_tokens = _masker._segments_s\n",
    "dendrogram(shap_values.clustering[0], labels=ex_tokens);"
   ]
  },
  {
   "cell_type": "code",
   "execution_count": 20,
   "metadata": {},
   "outputs": [
    {
     "name": "stderr",
     "output_type": "stream",
     "text": [
      "ic| Z.shape: (8, 4), len(ex_tokens): 9\n",
      "ic| len(clust_nodes): 17\n",
      "    shap_values.hierarchical_values[0].shape: (17, 3)\n"
     ]
    },
    {
     "data": {
      "text/plain": [
       "(17, (17, 3))"
      ]
     },
     "execution_count": 20,
     "metadata": {},
     "output_type": "execute_result"
    }
   ],
   "source": [
    "# check dimensions\n",
    "ic(Z.shape, len(ex_tokens))\n",
    "ic(len(clust_nodes), shap_values.hierarchical_values[0].shape)"
   ]
  },
  {
   "cell_type": "code",
   "execution_count": 21,
   "metadata": {},
   "outputs": [],
   "source": [
    "proc_vals = caprice.process_shap_values(shap_values[0, :, max_label])"
   ]
  },
  {
   "cell_type": "code",
   "execution_count": 22,
   "metadata": {},
   "outputs": [
    {
     "data": {
      "text/plain": [
       "{'tokens': array(['', '炸', '爆', '個一到貴', '他', ''], dtype='<U4'),\n",
       " 'values': array([ 1.51804577e-07,  3.42333236e-02,  3.42333236e-02,  1.02977670e+00,\n",
       "        -4.75178627e-02, -4.75178627e-02]),\n",
       " 'group_sizes': array([1, 1, 1, 4, 1, 1]),\n",
       " 'upper_values': array([-4.75178627e-02, -4.75178627e-02,  5.14888350e-01,  2.57444175e-01,\n",
       "         1.28722087e-01,  1.28722087e-01,  3.42333236e-02,  3.42333236e-02,\n",
       "         1.51804577e-07,  2.57444175e-01,  5.14888350e-01,  6.84666473e-02,\n",
       "         6.84666473e-02, -9.50357253e-02, -9.50357253e-02,  1.51804577e-07,\n",
       "         0.00000000e+00]),\n",
       " 'lower_values': array([0.        , 0.        , 0.        , 0.        , 0.        ,\n",
       "        0.        , 0.        , 0.        , 0.        , 0.        ,\n",
       "        0.        , 0.        , 0.96131005, 1.19327907, 0.        ,\n",
       "        1.00320747, 1.00320777]),\n",
       " 'group_values': array([-4.75178627e-02, -4.75178627e-02,  5.14888350e-01,  2.57444175e-01,\n",
       "         1.28722087e-01,  1.28722087e-01,  3.42333236e-02,  3.42333236e-02,\n",
       "         1.51804577e-07,  2.57444175e-01,  5.14888350e-01,  6.84666473e-02,\n",
       "         1.02977670e+00,  1.09824335e+00, -9.50357253e-02,  1.00320762e+00,\n",
       "         1.00320777e+00]),\n",
       " 'max_values': array([0.        , 0.        , 0.        , 0.        , 0.        ,\n",
       "        0.        , 0.        , 0.        , 0.        , 0.        ,\n",
       "        0.        , 0.        , 0.24032751, 0.24032751, 0.        ,\n",
       "        0.24032751, 0.24032751]),\n",
       " 'token_id_to_node_id_mapping': array([ 0.,  1., 12., 12., 12., 12.,  6.,  7.,  8.]),\n",
       " 'collapsed_node_ids': array([ 8,  7,  6, 12,  1,  0])}"
      ]
     },
     "execution_count": 22,
     "metadata": {},
     "output_type": "execute_result"
    }
   ],
   "source": [
    "proc_vals"
   ]
  },
  {
   "cell_type": "code",
   "execution_count": 23,
   "metadata": {},
   "outputs": [
    {
     "name": "stdout",
     "output_type": "stream",
     "text": [
      "-4.75e-02 \n",
      "-4.75e-02 他\n",
      " 5.15e-01 貴\n",
      " 2.57e-01 到\n",
      " 1.29e-01 一\n",
      " 1.29e-01 個\n",
      " 3.42e-02 爆\n",
      " 3.42e-02 炸\n",
      " 1.52e-07 \n",
      " 2.57e-01 一個\n",
      " 5.15e-01 到一個\n",
      " 6.85e-02 爆炸\n",
      " 1.03e+00 貴到一個\n",
      " 1.10e+00 貴到一個爆炸\n",
      "-9.50e-02 他\n",
      " 1.00e+00 他貴到一個爆炸\n",
      " 1.00e+00 他貴到一個爆炸\n"
     ]
    }
   ],
   "source": [
    "group_values = proc_vals[\"group_values\"]\n",
    "for node_i, node_x in enumerate(clust_nodes):\n",
    "    leaf_ids = node_x.pre_order(lambda x: x.id)\n",
    "    print(\"% .2e\" % group_values[node_i], \"\".join(ex_tokens[x] for x in sorted(leaf_ids)))"
   ]
  },
  {
   "cell_type": "code",
   "execution_count": 24,
   "metadata": {},
   "outputs": [
    {
     "data": {
      "text/html": [
       "<svg width=\"100%\" height=\"80px\"><line x1=\"0\" y1=\"33\" x2=\"100%\" y2=\"33\" style=\"stroke:rgb(150,150,150);stroke-width:1\" /><line x1=\"11.938927%\" y1=\"33\" x2=\"11.938927%\" y2=\"37\" style=\"stroke:rgb(150,150,150);stroke-width:1\" /><text x=\"11.938927%\" y=\"27\" font-size=\"12px\" fill=\"rgb(120,120,120)\" dominant-baseline=\"bottom\" text-anchor=\"middle\">0.000000</text><text x=\"11.938927%\" y=\"10\" font-size=\"12px\" fill=\"rgb(120,120,120)\" dominant-baseline=\"bottom\" text-anchor=\"middle\">base value</text><line x1=\"26.224641%\" y1=\"33\" x2=\"26.224641%\" y2=\"37\" style=\"stroke:rgb(150,150,150);stroke-width:1\" /><text x=\"26.224641%\" y=\"27\" font-size=\"12px\" fill=\"rgb(120,120,120)\" dominant-baseline=\"bottom\" text-anchor=\"middle\">0.188270</text><line x1=\"40.510355%\" y1=\"33\" x2=\"40.510355%\" y2=\"37\" style=\"stroke:rgb(150,150,150);stroke-width:1\" /><text x=\"40.510355%\" y=\"27\" font-size=\"12px\" fill=\"rgb(120,120,120)\" dominant-baseline=\"bottom\" text-anchor=\"middle\">0.376541</text><line x1=\"54.796070%\" y1=\"33\" x2=\"54.796070%\" y2=\"37\" style=\"stroke:rgb(150,150,150);stroke-width:1\" /><text x=\"54.796070%\" y=\"27\" font-size=\"12px\" fill=\"rgb(120,120,120)\" dominant-baseline=\"bottom\" text-anchor=\"middle\">0.564811</text><line x1=\"69.081784%\" y1=\"33\" x2=\"69.081784%\" y2=\"37\" style=\"stroke:rgb(150,150,150);stroke-width:1\" /><text x=\"69.081784%\" y=\"27\" font-size=\"12px\" fill=\"rgb(120,120,120)\" dominant-baseline=\"bottom\" text-anchor=\"middle\">0.753081</text><line x1=\"83.367498%\" y1=\"33\" x2=\"83.367498%\" y2=\"37\" style=\"stroke:rgb(150,150,150);stroke-width:1\" /><text x=\"83.367498%\" y=\"27\" font-size=\"12px\" fill=\"rgb(120,120,120)\" dominant-baseline=\"bottom\" text-anchor=\"middle\">0.941352</text><line x1=\"88.061073%\" y1=\"33\" x2=\"88.061073%\" y2=\"37\" style=\"stroke:rgb(150,150,150);stroke-width:1\" /><text x=\"88.061073%\" y=\"27\" font-size=\"13px\" style=\"stroke:#ffffff;stroke-width:8px;\" font-weight=\"bold\" fill=\"rgb(255,255,255)\" dominant-baseline=\"bottom\" text-anchor=\"middle\">1.003208</text><text x=\"88.061073%\" y=\"27\" font-size=\"13px\" font-weight=\"bold\" fill=\"rgb(0,0,0)\" dominant-baseline=\"bottom\" text-anchor=\"middle\">1.003208</text><text x=\"88.061073%\" y=\"10\" font-size=\"12px\" fill=\"rgb(120,120,120)\" dominant-baseline=\"bottom\" text-anchor=\"middle\">f(x)</text><rect x=\"4.727735333450294%\" width=\"83.33333781284361%\" y=\"40\" height=\"18\" style=\"fill:rgb(255.0, 0.0, 81.08083606031792); stroke-width:0; stroke:rgb(0,0,0)\" /><line x1=\"9.922910087218108%\" x2=\"88.06107314629391%\" y1=\"60\" y2=\"60\" id=\"_fb_baoocheehzjbfqqhbxki_ind_3\" style=\"stroke:rgb(255.0, 0.0, 81.08083606031792);stroke-width:2; opacity: 0\"/><text x=\"48.99199161675601%\" y=\"71\" font-size=\"12px\" id=\"_fs_baoocheehzjbfqqhbxki_ind_3\" fill=\"rgb(255.0, 0.0, 81.08083606031792)\" style=\"opacity: 0\" dominant-baseline=\"middle\" text-anchor=\"middle\">1.03</text><svg x=\"9.922910087218108%\" y=\"40\" height=\"20\" width=\"78.1381630590758%\">  <svg x=\"0\" y=\"0\" width=\"100%\" height=\"100%\">    <text x=\"50%\" y=\"9\" font-size=\"12px\" fill=\"rgb(255,255,255)\" dominant-baseline=\"middle\" text-anchor=\"middle\">個一到貴</text>  </svg></svg><line x1=\"7.325328469704554%\" x2=\"9.922910087218108%\" y1=\"60\" y2=\"60\" id=\"_fb_baoocheehzjbfqqhbxki_ind_1\" style=\"stroke:rgb(255.0, 0.0, 81.08083606031792);stroke-width:2; opacity: 0\"/><text x=\"8.62411927846133%\" y=\"71\" font-size=\"12px\" id=\"_fs_baoocheehzjbfqqhbxki_ind_1\" fill=\"rgb(255.0, 0.0, 81.08083606031792)\" style=\"opacity: 0\" dominant-baseline=\"middle\" text-anchor=\"middle\">0.034</text><svg x=\"7.325328469704554%\" y=\"40\" height=\"20\" width=\"2.597581617513554%\">  <svg x=\"0\" y=\"0\" width=\"100%\" height=\"100%\">    <text x=\"50%\" y=\"9\" font-size=\"12px\" fill=\"rgb(255,255,255)\" dominant-baseline=\"middle\" text-anchor=\"middle\">炸</text>  </svg></svg><line x1=\"4.727746852191%\" x2=\"7.325328469704554%\" y1=\"60\" y2=\"60\" id=\"_fb_baoocheehzjbfqqhbxki_ind_2\" style=\"stroke:rgb(255.0, 0.0, 81.08083606031792);stroke-width:2; opacity: 0\"/><text x=\"6.026537660947778%\" y=\"71\" font-size=\"12px\" id=\"_fs_baoocheehzjbfqqhbxki_ind_2\" fill=\"rgb(255.0, 0.0, 81.08083606031792)\" style=\"opacity: 0\" dominant-baseline=\"middle\" text-anchor=\"middle\">0.034</text><svg x=\"4.727746852191%\" y=\"40\" height=\"20\" width=\"2.597581617513554%\">  <svg x=\"0\" y=\"0\" width=\"100%\" height=\"100%\">    <text x=\"50%\" y=\"9\" font-size=\"12px\" fill=\"rgb(255,255,255)\" dominant-baseline=\"middle\" text-anchor=\"middle\">爆</text>  </svg></svg><line x1=\"4.727735333450289%\" x2=\"4.727746852191%\" y1=\"60\" y2=\"60\" id=\"_fb_baoocheehzjbfqqhbxki_ind_0\" style=\"stroke:rgb(255.0, 0.0, 81.08083606031792);stroke-width:2; opacity: 0\"/><text x=\"4.7277410928206445%\" y=\"71\" font-size=\"12px\" id=\"_fs_baoocheehzjbfqqhbxki_ind_0\" fill=\"rgb(255.0, 0.0, 81.08083606031792)\" style=\"opacity: 0\" dominant-baseline=\"middle\" text-anchor=\"middle\">0.0</text><svg x=\"4.727735333450289%\" y=\"40\" height=\"20\" width=\"1.1518740711480291e-05%\">  <svg x=\"0\" y=\"0\" width=\"100%\" height=\"100%\">    <text x=\"50%\" y=\"9\" font-size=\"12px\" fill=\"rgb(255,255,255)\" dominant-baseline=\"middle\" text-anchor=\"middle\"></text>  </svg></svg><g transform=\"translate(0,0)\">  <svg x=\"9.922910087218108%\" y=\"40\" height=\"18\" overflow=\"visible\" width=\"30\">    <path d=\"M 0 -9 l 6 18 L 0 25\" fill=\"none\" style=\"stroke:rgb(255.0, 0.0, 81.08083606031792);stroke-width:2\" />  </svg></g><g transform=\"translate(2,0)\">  <svg x=\"9.922910087218108%\" y=\"40\" height=\"18\" overflow=\"visible\" width=\"30\">    <path d=\"M 0 -9 l 6 18 L 0 25\" fill=\"none\" style=\"stroke:rgb(255.0, 0.0, 81.08083606031792);stroke-width:2\" />  </svg></g><g transform=\"translate(4,0)\">  <svg x=\"9.922910087218108%\" y=\"40\" height=\"18\" overflow=\"visible\" width=\"30\">    <path d=\"M 0 -9 l 6 18 L 0 25\" fill=\"none\" style=\"stroke:rgb(255.0, 0.0, 81.08083606031792);stroke-width:2\" />  </svg></g><g transform=\"translate(6,0)\">  <svg x=\"9.922910087218108%\" y=\"40\" height=\"18\" overflow=\"visible\" width=\"30\">    <path d=\"M 0 -9 l 6 18 L 0 25\" fill=\"none\" style=\"stroke:rgb(255.0, 0.0, 81.08083606031792);stroke-width:2\" />  </svg></g><g transform=\"translate(-8,0)\">  <svg x=\"9.922910087218108%\" y=\"40\" height=\"18\" overflow=\"visible\" width=\"30\">    <path d=\"M 0 -9 l 6 18 L 0 25\" fill=\"none\" style=\"stroke:rgb(255.0, 0.0, 81.08083606031792);stroke-width:2\" />  </svg></g><g transform=\"translate(-6,0)\">  <svg x=\"9.922910087218108%\" y=\"40\" height=\"18\" overflow=\"visible\" width=\"30\">    <path d=\"M 0 -9 l 6 18 L 0 25\" fill=\"none\" style=\"stroke:rgb(255.0, 0.0, 81.08083606031792);stroke-width:2\" />  </svg></g><g transform=\"translate(-4,0)\">  <svg x=\"9.922910087218108%\" y=\"40\" height=\"18\" overflow=\"visible\" width=\"30\">    <path d=\"M 0 -9 l 6 18 L 0 25\" fill=\"none\" style=\"stroke:rgb(255.0, 0.0, 81.08083606031792);stroke-width:2\" />  </svg></g><g transform=\"translate(-2,0)\">  <svg x=\"9.922910087218108%\" y=\"40\" height=\"18\" overflow=\"visible\" width=\"30\">    <path d=\"M 0 -9 l 6 18 L 0 25\" fill=\"none\" style=\"stroke:rgb(255.0, 0.0, 81.08083606031792);stroke-width:2\" />  </svg></g><g transform=\"translate(0,0)\">  <svg x=\"7.325328469704554%\" y=\"40\" height=\"18\" overflow=\"visible\" width=\"30\">    <path d=\"M 0 -9 l 6 18 L 0 25\" fill=\"none\" style=\"stroke:rgb(255.0, 0.0, 81.08083606031792);stroke-width:2\" />  </svg></g><g transform=\"translate(2,0)\">  <svg x=\"7.325328469704554%\" y=\"40\" height=\"18\" overflow=\"visible\" width=\"30\">    <path d=\"M 0 -9 l 6 18 L 0 25\" fill=\"none\" style=\"stroke:rgb(255.0, 0.0, 81.08083606031792);stroke-width:2\" />  </svg></g><g transform=\"translate(4,0)\">  <svg x=\"7.325328469704554%\" y=\"40\" height=\"18\" overflow=\"visible\" width=\"30\">    <path d=\"M 0 -9 l 6 18 L 0 25\" fill=\"none\" style=\"stroke:rgb(255.0, 0.0, 81.08083606031792);stroke-width:2\" />  </svg></g><g transform=\"translate(6,0)\">  <svg x=\"7.325328469704554%\" y=\"40\" height=\"18\" overflow=\"visible\" width=\"30\">    <path d=\"M 0 -9 l 6 18 L 0 25\" fill=\"none\" style=\"stroke:rgb(255.0, 0.0, 81.08083606031792);stroke-width:2\" />  </svg></g><g transform=\"translate(-8,0)\">  <svg x=\"7.325328469704554%\" y=\"40\" height=\"18\" overflow=\"visible\" width=\"30\">    <path d=\"M 0 -9 l 6 18 L 0 25\" fill=\"none\" style=\"stroke:rgb(255.0, 0.0, 81.08083606031792);stroke-width:2\" />  </svg></g><g transform=\"translate(-6,0)\">  <svg x=\"7.325328469704554%\" y=\"40\" height=\"18\" overflow=\"visible\" width=\"30\">    <path d=\"M 0 -9 l 6 18 L 0 25\" fill=\"none\" style=\"stroke:rgb(255.0, 0.0, 81.08083606031792);stroke-width:2\" />  </svg></g><g transform=\"translate(-4,0)\">  <svg x=\"7.325328469704554%\" y=\"40\" height=\"18\" overflow=\"visible\" width=\"30\">    <path d=\"M 0 -9 l 6 18 L 0 25\" fill=\"none\" style=\"stroke:rgb(255.0, 0.0, 81.08083606031792);stroke-width:2\" />  </svg></g><g transform=\"translate(-2,0)\">  <svg x=\"7.325328469704554%\" y=\"40\" height=\"18\" overflow=\"visible\" width=\"30\">    <path d=\"M 0 -9 l 6 18 L 0 25\" fill=\"none\" style=\"stroke:rgb(255.0, 0.0, 81.08083606031792);stroke-width:2\" />  </svg></g><g transform=\"translate(0,0)\">  <svg x=\"4.727746852191%\" y=\"40\" height=\"18\" overflow=\"visible\" width=\"30\">    <path d=\"M 0 -9 l 6 18 L 0 25\" fill=\"none\" style=\"stroke:rgb(255.0, 0.0, 81.08083606031792);stroke-width:2\" />  </svg></g><g transform=\"translate(2,0)\">  <svg x=\"4.727746852191%\" y=\"40\" height=\"18\" overflow=\"visible\" width=\"30\">    <path d=\"M 0 -9 l 6 18 L 0 25\" fill=\"none\" style=\"stroke:rgb(255.0, 0.0, 81.08083606031792);stroke-width:2\" />  </svg></g><g transform=\"translate(4,0)\">  <svg x=\"4.727746852191%\" y=\"40\" height=\"18\" overflow=\"visible\" width=\"30\">    <path d=\"M 0 -9 l 6 18 L 0 25\" fill=\"none\" style=\"stroke:rgb(255.0, 0.0, 81.08083606031792);stroke-width:2\" />  </svg></g><g transform=\"translate(6,0)\">  <svg x=\"4.727746852191%\" y=\"40\" height=\"18\" overflow=\"visible\" width=\"30\">    <path d=\"M 0 -9 l 6 18 L 0 25\" fill=\"none\" style=\"stroke:rgb(255.0, 0.0, 81.08083606031792);stroke-width:2\" />  </svg></g><g transform=\"translate(-8,0)\">  <svg x=\"4.727746852191%\" y=\"40\" height=\"18\" overflow=\"visible\" width=\"30\">    <path d=\"M 0 -9 l 6 18 L 0 25\" fill=\"none\" style=\"stroke:rgb(255.0, 0.0, 81.08083606031792);stroke-width:2\" />  </svg></g><g transform=\"translate(-6,0)\">  <svg x=\"4.727746852191%\" y=\"40\" height=\"18\" overflow=\"visible\" width=\"30\">    <path d=\"M 0 -9 l 6 18 L 0 25\" fill=\"none\" style=\"stroke:rgb(255.0, 0.0, 81.08083606031792);stroke-width:2\" />  </svg></g><g transform=\"translate(-4,0)\">  <svg x=\"4.727746852191%\" y=\"40\" height=\"18\" overflow=\"visible\" width=\"30\">    <path d=\"M 0 -9 l 6 18 L 0 25\" fill=\"none\" style=\"stroke:rgb(255.0, 0.0, 81.08083606031792);stroke-width:2\" />  </svg></g><g transform=\"translate(-2,0)\">  <svg x=\"4.727746852191%\" y=\"40\" height=\"18\" overflow=\"visible\" width=\"30\">    <path d=\"M 0 -9 l 6 18 L 0 25\" fill=\"none\" style=\"stroke:rgb(255.0, 0.0, 81.08083606031792);stroke-width:2\" />  </svg></g><rect transform=\"translate(-8,0)\" x=\"88.06107314629391%\" y=\"40\" width=\"8\" height=\"18\" style=\"fill:rgb(255.0, 0.0, 81.08083606031792)\"/><g transform=\"translate(-11.5,0)\">  <svg x=\"4.727735333450294%\" y=\"40\" height=\"18\" overflow=\"visible\" width=\"30\">    <path d=\"M 10 -9 l 6 18 L 10 25 L 0 25 L 0 -9\" fill=\"#ffffff\" style=\"stroke:rgb(255,255,255);stroke-width:2\" />  </svg></g><g transform=\"translate(-1.5,0)\">  <svg x=\"88.06107314629391%\" y=\"40\" height=\"18\" overflow=\"visible\" width=\"30\">    <path d=\"M 0 -9 l 6 18 L 0 25\" fill=\"none\" style=\"stroke:rgb(255, 195, 213);stroke-width:2\" />  </svg></g><rect x=\"9.922910087218108%\" y=\"40\" height=\"20\" width=\"78.1381630590758%\"      onmouseover=\"document.getElementById('_tp_baoocheehzjbfqqhbxki_ind_3').style.textDecoration = 'underline';document.getElementById('_fs_baoocheehzjbfqqhbxki_ind_3').style.opacity = 1;document.getElementById('_fb_baoocheehzjbfqqhbxki_ind_3').style.opacity = 1;\"      onmouseout=\"document.getElementById('_tp_baoocheehzjbfqqhbxki_ind_3').style.textDecoration = 'none';document.getElementById('_fs_baoocheehzjbfqqhbxki_ind_3').style.opacity = 0;document.getElementById('_fb_baoocheehzjbfqqhbxki_ind_3').style.opacity = 0;\" style=\"fill:rgb(0,0,0,0)\" /><g transform=\"translate(-1.5,0)\">  <svg x=\"9.922910087218108%\" y=\"40\" height=\"18\" overflow=\"visible\" width=\"30\">    <path d=\"M 0 -9 l 6 18 L 0 25\" fill=\"none\" style=\"stroke:rgb(255, 195, 213);stroke-width:2\" />  </svg></g><rect x=\"7.325328469704554%\" y=\"40\" height=\"20\" width=\"2.597581617513554%\"      onmouseover=\"document.getElementById('_tp_baoocheehzjbfqqhbxki_ind_1').style.textDecoration = 'underline';document.getElementById('_fs_baoocheehzjbfqqhbxki_ind_1').style.opacity = 1;document.getElementById('_fb_baoocheehzjbfqqhbxki_ind_1').style.opacity = 1;\"      onmouseout=\"document.getElementById('_tp_baoocheehzjbfqqhbxki_ind_1').style.textDecoration = 'none';document.getElementById('_fs_baoocheehzjbfqqhbxki_ind_1').style.opacity = 0;document.getElementById('_fb_baoocheehzjbfqqhbxki_ind_1').style.opacity = 0;\" style=\"fill:rgb(0,0,0,0)\" /><g transform=\"translate(-1.5,0)\">  <svg x=\"7.325328469704554%\" y=\"40\" height=\"18\" overflow=\"visible\" width=\"30\">    <path d=\"M 0 -9 l 6 18 L 0 25\" fill=\"none\" style=\"stroke:rgb(255, 195, 213);stroke-width:2\" />  </svg></g><rect x=\"4.727746852191%\" y=\"40\" height=\"20\" width=\"2.597581617513554%\"      onmouseover=\"document.getElementById('_tp_baoocheehzjbfqqhbxki_ind_2').style.textDecoration = 'underline';document.getElementById('_fs_baoocheehzjbfqqhbxki_ind_2').style.opacity = 1;document.getElementById('_fb_baoocheehzjbfqqhbxki_ind_2').style.opacity = 1;\"      onmouseout=\"document.getElementById('_tp_baoocheehzjbfqqhbxki_ind_2').style.textDecoration = 'none';document.getElementById('_fs_baoocheehzjbfqqhbxki_ind_2').style.opacity = 0;document.getElementById('_fb_baoocheehzjbfqqhbxki_ind_2').style.opacity = 0;\" style=\"fill:rgb(0,0,0,0)\" /><rect x=\"4.727735333450289%\" y=\"40\" height=\"20\" width=\"1.1518740711480291e-05%\"      onmouseover=\"document.getElementById('_tp_baoocheehzjbfqqhbxki_ind_0').style.textDecoration = 'underline';document.getElementById('_fs_baoocheehzjbfqqhbxki_ind_0').style.opacity = 1;document.getElementById('_fb_baoocheehzjbfqqhbxki_ind_0').style.opacity = 1;\"      onmouseout=\"document.getElementById('_tp_baoocheehzjbfqqhbxki_ind_0').style.textDecoration = 'none';document.getElementById('_fs_baoocheehzjbfqqhbxki_ind_0').style.opacity = 0;document.getElementById('_fb_baoocheehzjbfqqhbxki_ind_0').style.opacity = 0;\" style=\"fill:rgb(0,0,0,0)\" /><rect x=\"88.06107314629391%\" width=\"7.211191520255769%\" y=\"40\" height=\"18\" style=\"fill:rgb(0.0, 138.56128015770724, 250.76166088685727); stroke-width:0; stroke:rgb(0,0,0)\" /><line x1=\"88.06107314629391%\" x2=\"91.66666890642179%\" y1=\"60\" y2=\"60\" id=\"_fb_baoocheehzjbfqqhbxki_ind_4\" style=\"stroke:rgb(0.0, 138.56128015770724, 250.76166088685727);stroke-width:2; opacity: 0\"/><text x=\"89.86387102635786%\" y=\"71\" font-size=\"12px\" fill=\"rgb(0.0, 138.56128015770724, 250.76166088685727)\" id=\"_fs_baoocheehzjbfqqhbxki_ind_4\" style=\"opacity: 0\" dominant-baseline=\"middle\" text-anchor=\"middle\">-0.048</text><svg x=\"88.06107314629391%\" y=\"40\" height=\"20\" width=\"3.6055957601278834%\">  <svg x=\"0\" y=\"0\" width=\"100%\" height=\"100%\">    <text x=\"50%\" y=\"9\" font-size=\"12px\" fill=\"rgb(255,255,255)\" dominant-baseline=\"middle\" text-anchor=\"middle\">他</text>  </svg></svg><line x1=\"91.66666890642179%\" x2=\"95.27226466654967%\" y1=\"60\" y2=\"60\" id=\"_fb_baoocheehzjbfqqhbxki_ind_5\" style=\"stroke:rgb(0.0, 138.56128015770724, 250.76166088685727);stroke-width:2; opacity: 0\"/><text x=\"93.46946678648573%\" y=\"71\" font-size=\"12px\" fill=\"rgb(0.0, 138.56128015770724, 250.76166088685727)\" id=\"_fs_baoocheehzjbfqqhbxki_ind_5\" style=\"opacity: 0\" dominant-baseline=\"middle\" text-anchor=\"middle\">-0.048</text><svg x=\"91.66666890642179%\" y=\"40\" height=\"20\" width=\"3.6055957601278834%\">  <svg x=\"0\" y=\"0\" width=\"100%\" height=\"100%\">    <text x=\"50%\" y=\"9\" font-size=\"12px\" fill=\"rgb(255,255,255)\" dominant-baseline=\"middle\" text-anchor=\"middle\"></text>  </svg></svg><g transform=\"translate(-8,0)\">  <svg x=\"91.66666890642179%\" y=\"40\" height=\"18\" overflow=\"visible\" width=\"30\">    <path d=\"M 8 -9 l -6 18 L 8 25\" fill=\"none\" style=\"stroke:rgb(0.0, 138.56128015770724, 250.76166088685727);stroke-width:2\" />  </svg></g><g transform=\"translate(-10,0)\">  <svg x=\"91.66666890642179%\" y=\"40\" height=\"18\" overflow=\"visible\" width=\"30\">    <path d=\"M 8 -9 l -6 18 L 8 25\" fill=\"none\" style=\"stroke:rgb(0.0, 138.56128015770724, 250.76166088685727);stroke-width:2\" />  </svg></g><g transform=\"translate(-12,0)\">  <svg x=\"91.66666890642179%\" y=\"40\" height=\"18\" overflow=\"visible\" width=\"30\">    <path d=\"M 8 -9 l -6 18 L 8 25\" fill=\"none\" style=\"stroke:rgb(0.0, 138.56128015770724, 250.76166088685727);stroke-width:2\" />  </svg></g><g transform=\"translate(-14,0)\">  <svg x=\"91.66666890642179%\" y=\"40\" height=\"18\" overflow=\"visible\" width=\"30\">    <path d=\"M 8 -9 l -6 18 L 8 25\" fill=\"none\" style=\"stroke:rgb(0.0, 138.56128015770724, 250.76166088685727);stroke-width:2\" />  </svg></g><g transform=\"translate(2,0)\">  <svg x=\"91.66666890642179%\" y=\"40\" height=\"18\" overflow=\"visible\" width=\"30\">    <path d=\"M 8 -9 l -6 18 L 8 25\" fill=\"none\" style=\"stroke:rgb(0.0, 138.56128015770724, 250.76166088685727);stroke-width:2\" />  </svg></g><g transform=\"translate(0,0)\">  <svg x=\"91.66666890642179%\" y=\"40\" height=\"18\" overflow=\"visible\" width=\"30\">    <path d=\"M 8 -9 l -6 18 L 8 25\" fill=\"none\" style=\"stroke:rgb(0.0, 138.56128015770724, 250.76166088685727);stroke-width:2\" />  </svg></g><g transform=\"translate(-2,0)\">  <svg x=\"91.66666890642179%\" y=\"40\" height=\"18\" overflow=\"visible\" width=\"30\">    <path d=\"M 8 -9 l -6 18 L 8 25\" fill=\"none\" style=\"stroke:rgb(0.0, 138.56128015770724, 250.76166088685727);stroke-width:2\" />  </svg></g><g transform=\"translate(-4,0)\">  <svg x=\"91.66666890642179%\" y=\"40\" height=\"18\" overflow=\"visible\" width=\"30\">    <path d=\"M 8 -9 l -6 18 L 8 25\" fill=\"none\" style=\"stroke:rgb(0.0, 138.56128015770724, 250.76166088685727);stroke-width:2\" />  </svg></g><rect transform=\"translate(0,0)\" x=\"88.06107314629391%\" y=\"40\" width=\"8\" height=\"18\" style=\"fill:rgb(0.0, 138.56128015770724, 250.76166088685727)\"/><g transform=\"translate(-6.0,0)\">  <svg x=\"95.27226466654967%\" y=\"40\" height=\"18\" overflow=\"visible\" width=\"30\">    <path d=\"M 8 -9 l -6 18 L 8 25 L 20 25 L 20 -9\" fill=\"#ffffff\" style=\"stroke:rgb(255,255,255);stroke-width:2\" />  </svg></g><g transform=\"translate(-6.0,0)\">  <svg x=\"91.66666890642179%\" y=\"40\" height=\"18\" overflow=\"visible\" width=\"30\">    <path d=\"M 8 -9 l -6 18 L 8 25\" fill=\"none\" style=\"stroke:rgb(208, 230, 250);stroke-width:2\" />  </svg></g><rect x=\"88.06107314629391%\" y=\"40\" height=\"20\" width=\"3.6055957601278834%\"      onmouseover=\"document.getElementById('_tp_baoocheehzjbfqqhbxki_ind_4').style.textDecoration = 'underline';document.getElementById('_fs_baoocheehzjbfqqhbxki_ind_4').style.opacity = 1;document.getElementById('_fb_baoocheehzjbfqqhbxki_ind_4').style.opacity = 1;\"      onmouseout=\"document.getElementById('_tp_baoocheehzjbfqqhbxki_ind_4').style.textDecoration = 'none';document.getElementById('_fs_baoocheehzjbfqqhbxki_ind_4').style.opacity = 0;document.getElementById('_fb_baoocheehzjbfqqhbxki_ind_4').style.opacity = 0;\" style=\"fill:rgb(0,0,0,0)\" /><rect x=\"91.66666890642179%\" y=\"40\" height=\"20\" width=\"3.6055957601278834%\"      onmouseover=\"document.getElementById('_tp_baoocheehzjbfqqhbxki_ind_5').style.textDecoration = 'underline';document.getElementById('_fs_baoocheehzjbfqqhbxki_ind_5').style.opacity = 1;document.getElementById('_fb_baoocheehzjbfqqhbxki_ind_5').style.opacity = 1;\"      onmouseout=\"document.getElementById('_tp_baoocheehzjbfqqhbxki_ind_5').style.textDecoration = 'none';document.getElementById('_fs_baoocheehzjbfqqhbxki_ind_5').style.opacity = 0;document.getElementById('_fb_baoocheehzjbfqqhbxki_ind_5').style.opacity = 0;\" style=\"fill:rgb(0,0,0,0)\" /></svg><div style='display: inline; text-align: center;'><div style='display: none; color: #999; padding-top: 0px; font-size: 12px;'>0.0</div><div id='_tp_baoocheehzjbfqqhbxki_ind_0'style='display: inline; background: rgba(230.2941176470614, 26.505882352939775, 102.59215686274348, 0.0); border-radius: 3px; padding: 0px'onclick=\"if (this.previousSibling.style.display == 'none') {this.previousSibling.style.display = 'block';this.parentNode.style.display = 'inline-block';} else {this.previousSibling.style.display = 'none';this.parentNode.style.display = 'inline';}\"onmouseover=\"document.getElementById('_fb_baoocheehzjbfqqhbxki_ind_0').style.opacity = 1; document.getElementById('_fs_baoocheehzjbfqqhbxki_ind_0').style.opacity = 1;\"onmouseout=\"document.getElementById('_fb_baoocheehzjbfqqhbxki_ind_0').style.opacity = 0; document.getElementById('_fs_baoocheehzjbfqqhbxki_ind_0').style.opacity = 0;\"></div></div><div style='display: inline; text-align: center;'><div style='display: none; color: #999; padding-top: 0px; font-size: 12px;'>0.034</div><div id='_tp_baoocheehzjbfqqhbxki_ind_1'style='display: inline; background: rgba(255.0, 13.0, 87.0, 0.13289760348583876); border-radius: 3px; padding: 0px'onclick=\"if (this.previousSibling.style.display == 'none') {this.previousSibling.style.display = 'block';this.parentNode.style.display = 'inline-block';} else {this.previousSibling.style.display = 'none';this.parentNode.style.display = 'inline';}\"onmouseover=\"document.getElementById('_fb_baoocheehzjbfqqhbxki_ind_1').style.opacity = 1; document.getElementById('_fs_baoocheehzjbfqqhbxki_ind_1').style.opacity = 1;\"onmouseout=\"document.getElementById('_fb_baoocheehzjbfqqhbxki_ind_1').style.opacity = 0; document.getElementById('_fs_baoocheehzjbfqqhbxki_ind_1').style.opacity = 0;\">炸</div></div><div style='display: inline; text-align: center;'><div style='display: none; color: #999; padding-top: 0px; font-size: 12px;'>0.034</div><div id='_tp_baoocheehzjbfqqhbxki_ind_2'style='display: inline; background: rgba(255.0, 13.0, 87.0, 0.13289760348583876); border-radius: 3px; padding: 0px'onclick=\"if (this.previousSibling.style.display == 'none') {this.previousSibling.style.display = 'block';this.parentNode.style.display = 'inline-block';} else {this.previousSibling.style.display = 'none';this.parentNode.style.display = 'inline';}\"onmouseover=\"document.getElementById('_fb_baoocheehzjbfqqhbxki_ind_2').style.opacity = 1; document.getElementById('_fs_baoocheehzjbfqqhbxki_ind_2').style.opacity = 1;\"onmouseout=\"document.getElementById('_fb_baoocheehzjbfqqhbxki_ind_2').style.opacity = 0; document.getElementById('_fs_baoocheehzjbfqqhbxki_ind_2').style.opacity = 0;\">爆</div></div><div style='display: inline; text-align: center;'><div style='display: none; color: #999; padding-top: 0px; font-size: 12px;'>1.03 / 4</div><div id='_tp_baoocheehzjbfqqhbxki_ind_3'style='display: inline; background: rgba(255.0, 13.0, 87.0, 1.0); border-radius: 3px; padding: 0px'onclick=\"if (this.previousSibling.style.display == 'none') {this.previousSibling.style.display = 'block';this.parentNode.style.display = 'inline-block';} else {this.previousSibling.style.display = 'none';this.parentNode.style.display = 'inline';}\"onmouseover=\"document.getElementById('_fb_baoocheehzjbfqqhbxki_ind_3').style.opacity = 1; document.getElementById('_fs_baoocheehzjbfqqhbxki_ind_3').style.opacity = 1;\"onmouseout=\"document.getElementById('_fb_baoocheehzjbfqqhbxki_ind_3').style.opacity = 0; document.getElementById('_fs_baoocheehzjbfqqhbxki_ind_3').style.opacity = 0;\">個一到貴</div></div><div style='display: inline; text-align: center;'><div style='display: none; color: #999; padding-top: 0px; font-size: 12px;'>-0.048</div><div id='_tp_baoocheehzjbfqqhbxki_ind_4'style='display: inline; background: rgba(30.0, 136.0, 229.0, 0.18019409784115656); border-radius: 3px; padding: 0px'onclick=\"if (this.previousSibling.style.display == 'none') {this.previousSibling.style.display = 'block';this.parentNode.style.display = 'inline-block';} else {this.previousSibling.style.display = 'none';this.parentNode.style.display = 'inline';}\"onmouseover=\"document.getElementById('_fb_baoocheehzjbfqqhbxki_ind_4').style.opacity = 1; document.getElementById('_fs_baoocheehzjbfqqhbxki_ind_4').style.opacity = 1;\"onmouseout=\"document.getElementById('_fb_baoocheehzjbfqqhbxki_ind_4').style.opacity = 0; document.getElementById('_fs_baoocheehzjbfqqhbxki_ind_4').style.opacity = 0;\">他</div></div><div style='display: inline; text-align: center;'><div style='display: none; color: #999; padding-top: 0px; font-size: 12px;'>-0.048</div><div id='_tp_baoocheehzjbfqqhbxki_ind_5'style='display: inline; background: rgba(30.0, 136.0, 229.0, 0.18019409784115656); border-radius: 3px; padding: 0px'onclick=\"if (this.previousSibling.style.display == 'none') {this.previousSibling.style.display = 'block';this.parentNode.style.display = 'inline-block';} else {this.previousSibling.style.display = 'none';this.parentNode.style.display = 'inline';}\"onmouseover=\"document.getElementById('_fb_baoocheehzjbfqqhbxki_ind_5').style.opacity = 1; document.getElementById('_fs_baoocheehzjbfqqhbxki_ind_5').style.opacity = 1;\"onmouseout=\"document.getElementById('_fb_baoocheehzjbfqqhbxki_ind_5').style.opacity = 0; document.getElementById('_fs_baoocheehzjbfqqhbxki_ind_5').style.opacity = 0;\"></div></div>"
      ],
      "text/plain": [
       "<IPython.core.display.HTML object>"
      ]
     },
     "metadata": {},
     "output_type": "display_data"
    }
   ],
   "source": [
    "shap.plots.text(shap_values[0, :, max_label])"
   ]
  },
  {
   "cell_type": "code",
   "execution_count": null,
   "metadata": {},
   "outputs": [],
   "source": []
  }
 ],
 "metadata": {
  "kernelspec": {
   "display_name": "Python 3",
   "language": "python",
   "name": "python3"
  },
  "language_info": {
   "codemirror_mode": {
    "name": "ipython",
    "version": 3
   },
   "file_extension": ".py",
   "mimetype": "text/x-python",
   "name": "python",
   "nbconvert_exporter": "python",
   "pygments_lexer": "ipython3",
   "version": "3.7.4"
  }
 },
 "nbformat": 4,
 "nbformat_minor": 4
}

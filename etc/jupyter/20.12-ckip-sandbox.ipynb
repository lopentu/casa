{
 "cells": [
  {
   "cell_type": "code",
   "execution_count": 3,
   "metadata": {},
   "outputs": [],
   "source": [
    "%load_ext autoreload\n",
    "%autoreload 2"
   ]
  },
  {
   "cell_type": "code",
   "execution_count": 4,
   "metadata": {},
   "outputs": [],
   "source": [
    "from import_casa import casa"
   ]
  },
  {
   "cell_type": "code",
   "execution_count": 9,
   "metadata": {},
   "outputs": [],
   "source": [
    "import pickle\n",
    "with (casa.get_data_path()/\"eda/ckip/raw-data-cht-202010.ckip.pkl\").open(\"rb\") as fin:\n",
    "    seg_threads = pickle.load(fin)"
   ]
  },
  {
   "cell_type": "code",
   "execution_count": 32,
   "metadata": {},
   "outputs": [
    {
     "data": {
      "text/plain": [
       "<OpinionThread[T]: [新聞] 台灣大急籲再釋5G頻譜　中華電、遠傳聯手打臉：已經夠用了！/lumiaphone/41 replie(s) (|ckip)>"
      ]
     },
     "execution_count": 32,
     "metadata": {},
     "output_type": "execute_result"
    }
   ],
   "source": [
    "seg_thread_x = seg_threads[52]\n",
    "seg_thread_x"
   ]
  },
  {
   "cell_type": "code",
   "execution_count": 33,
   "metadata": {},
   "outputs": [
    {
     "data": {
      "text/plain": [
       "'[新聞] 台灣大急籲再釋5G頻譜\\u3000中華電、遠傳聯手打臉：已經夠用了！'"
      ]
     },
     "execution_count": 33,
     "metadata": {},
     "output_type": "execute_result"
    }
   ],
   "source": [
    "seg_thread_x.main.title"
   ]
  },
  {
   "cell_type": "code",
   "execution_count": 34,
   "metadata": {},
   "outputs": [
    {
     "name": "stdout",
     "output_type": "stream",
     "text": [
      "[/新聞/] /台灣/大/急籲/再/釋/5G/頻譜/　/中華電/、/遠傳/聯手/打臉/：/已經/夠/用/了/！\n"
     ]
    }
   ],
   "source": [
    "print(\"/\".join(seg_thread_x.main.title_tokens))"
   ]
  },
  {
   "cell_type": "code",
   "execution_count": 37,
   "metadata": {},
   "outputs": [
    {
     "name": "stdout",
     "output_type": "stream",
     "text": [
      "<OpinionProc [Ptt] kai08130623: 台哥大急了 (tok)>\n",
      "台哥大/急/了\n",
      "<OpinionProc [Ptt] MilkTeaMan: 魚尾怕了 (tok)>\n",
      "魚尾/怕/了\n",
      "<OpinionProc [Ptt] geesegeese: 中華、遠傳當初付多少，台哥大付多少？ (tok)>\n",
      "中華/、/遠傳/當初/付/多少/，/台哥大/付/多少/？\n",
      "<OpinionProc [Ptt] greatyang: 說個笑話 台灣大哥大 (tok)>\n",
      "說/個/笑話/ /台灣/大哥大\n",
      "<OpinionProc [Ptt] SungHyun: 中華電信5G走在最前面 手刀申辦不吃虧！ (tok)>\n",
      "中華/電信/5G/走/在/最前面/ /手刀/申辦/不/吃虧/！\n",
      "<OpinionProc [Ptt] winston01: 某個高階經理人真的是厲害 將公司帶到至高... (tok)>\n",
      "某/個/高階/經理人/真的/是/厲害/ /將/公司/帶到/至高/境界\n",
      "<OpinionProc [Ptt] a123444556: 當初自己不再拿多一點 現在才在喊不夠用 (tok)>\n",
      "當初/自己/不再/拿/多一點/ /現在/才/在/喊/不/夠/用\n",
      "<OpinionProc [Ptt] pilitiger: 中華、遠傳當初付多少，台哥大付多少？ (tok)>\n",
      "中華/、/遠傳/當初/付/多少/，/台哥大/付/多少/？\n",
      "<OpinionProc [Ptt] yiangluen: 現在才發現不夠是嗎 這個林之晨根本外行 ... (tok)>\n",
      "現在/才/發現/不/夠/是/嗎/ /這/個/林之晨/根本/外行/ /只/會/在/那/畫/ /大/餅\n",
      "<OpinionProc [Ptt] lalasnow: 請一個外行的 哈哈哈 (tok)>\n",
      "請/一/個/外行/的/ /哈/哈哈\n",
      "<OpinionProc [Ptt] elainakuo: 台哥大獲利王 就是算出來的 (tok)>\n",
      "台哥大/獲利/王/ /就/是/算出來/的\n",
      "<OpinionProc [Ptt] andythe30: 之前還在那邊說60mhz夠用  符合當時... (tok)>\n",
      "之前/還/在/那邊/說/60/mhz/夠/用/  /符合/當時/預期/  /現在/才/在/ /改口/  /笑死\n",
      "<OpinionProc [Ptt] popopal: 基本沒救了 (tok)>\n",
      "基本/沒/救/了\n",
      "<OpinionProc [Ptt] airkk: 年初還自己說未來十年綽綽有餘  #1UJ... (tok)>\n",
      "年初/還/自己/說/未來/十/年/綽綽有餘/  #1UJw5OM1 /（/笑死\n",
      "<OpinionProc [Ptt] AbeNana: 天黑啦 明日早晨 (tok)>\n",
      "天黑/啦/ /明日/早晨\n",
      "<OpinionProc [Ptt] chen891276: 快笑死了 這讓辦台歌的情何以堪 (tok)>\n",
      "快/笑死/了/ /這/讓/辦/台歌/的/情/何以堪\n",
      "<OpinionProc [Ptt] polaris: 阿不是夠用 (tok)>\n",
      "阿不/是/夠/用\n",
      "<OpinionProc [Ptt] larailing: 就跟之前某人說台灣的網路不用太快一樣 (tok)>\n",
      "就/跟/之前/某人/說/台灣/的/網路/不用/太/快/一樣\n",
      "<OpinionProc [Ptt] HOLAHOJIAN: 那當初幹嘛標這麼少。天才 (tok)>\n",
      "那/當初/幹嘛/標/這麼少/。/天才\n",
      "<OpinionProc [Ptt] dx7880880212: 上個月中聽林之晨的演講，他說5G布局策略... (tok)>\n",
      "上/個/月/中/聽/林之晨/的/演講/，/他/說/5G/布局/策略/成果/很/棒/XD /不過/他人/感覺/真的/很/聰明/也/很/親民/啦\n",
      "<OpinionProc [Ptt] armytomas: 去與台灣之星談合做，借頻寬共同開發，遠傳... (tok)>\n",
      "去/與/台灣/之/星/談/合做/，/借/頻寬/共同/開發/，/遠傳/亞太/可/ /以/合做/，/台哥大/為什麼/做/不/到/，/就/滿/腦子/算計/，/才/自/ /毀/前程/。\n",
      "<OpinionProc [Ptt] lucky123820: 笑死 (tok)>\n",
      "笑死\n",
      "<OpinionProc [Ptt] whhw: 不愧是臺哥 (tok)>\n",
      "不愧/是/臺哥\n",
      "<OpinionProc [Ptt] lxf: 不是獲利王？不是很會算？ (tok)>\n",
      "不/是/獲利王/？/不/是/很/會/算/？\n",
      "<OpinionProc [Ptt] popopal: 先達到5年內50%人口吧  一萬座基地台... (tok)>\n",
      "先/達到/5/年/內/50%/人口/吧/  /一萬/座/基地台/再六/都/看看/ 3.5G/要求/都/還/沒/完成/ /其他/緩緩/吧\n",
      "<OpinionProc [Ptt] jimmyso: 頻譜本來就第二波在搶就好了 現在5G 根... (tok)>\n",
      "頻譜/本來/就/第二/波/在/搶/就/好/了/ /現在/5G /根本/沒/人/辦\n",
      "<OpinionProc [Ptt] popopal: 那2023-24吧 配合3G關閉 反正不... (tok)>\n",
      "那/2023/-/24/吧/ /配合/3G/關閉/ /反正/不/急/ /快/蓋/吧/XD\n",
      "<OpinionProc [Ptt] SteveDX: 負面新聞大師 (tok)>\n",
      "負面/新聞/大師\n",
      "<OpinionProc [Ptt] hamasakino: 過去幾年別人花大錢建設又標頻譜，而你爽當... (tok)>\n",
      "過去/幾/年/別人/花/大錢/建設/又/標/頻譜/，/而/你/爽當/獲利/王\n",
      "<OpinionProc [Ptt] b18902040: 獲利王不想花錢標，現在急了 (tok)>\n",
      "獲利王/不/想/花錢/標/，/現在/急/了\n",
      "<OpinionProc [Ptt] cilili: 頻段多元點，5G應用跟服務全面些，也是好... (tok)>\n",
      "頻段/多元點/，/5G/應用/跟/服務/全面/些/，/也/是/好事/吧\n",
      "<OpinionProc [Ptt] allenz78: 哪有可能為了你一家提前，當前面花大錢標的... (tok)>\n",
      "哪/有/可能/為了/你/一/家/提前/，/當/前面/花/大錢/標的/都/王八蛋/ /？\n",
      "<OpinionProc [Ptt] seanidiot: 台哥大一開始標下去就好了啊，不花錢下標又... (tok)>\n",
      "台哥大/一/開始/標下去/就/好/了/啊/，/不/花錢/下標/又/要/凹/，/真/ /的/很/難/看\n",
      "<OpinionProc [Ptt] gostt: 釋照也沒用 台哥還是沒錢啊 (tok)>\n",
      "釋照/也/沒用/ /台哥/還是/沒/錢/啊\n",
      "<OpinionProc [Ptt] af92: 想要 但不想花錢咩 (tok)>\n",
      "想要/ /但/不/想/花錢/咩\n",
      "<OpinionProc [Ptt] bla1001: G大 台哥有的是錢 願不願意拿出來而已 (tok)>\n",
      "G大/ /台哥/有的/是/錢/ /願不願意/拿出來/而已\n",
      "<OpinionProc [Ptt] eric105: 5G只期待電信龍頭，起碼頻譜標的漂亮 建... (tok)>\n",
      "5G/只/期待/電信/龍頭/，/起碼/頻譜/標的/漂亮/ /建設/積極\n",
      "<OpinionProc [Ptt] chocopie: 那你會有錯誤的期待，網速取決於使用當下有... (tok)>\n",
      "那/你/會/有/錯誤/的/期待/，/網速/取決/於/使用/當下/有/多少/人/跟/ /你/共享/(/X/)/在/搶/(/O/)/基地台/的/資源/。\n",
      "<OpinionProc [Ptt] popopal: 台哥應該學中華快蓋去搶266億的機第台補... (tok)>\n",
      "台哥/應該/學/中華/快/蓋/去/搶/266億/的/機第台/補助/ /不管/蛋白/蛋黃/都/補助/49%/ /快學/中華/2/年/拼/一萬/座/就/對/ /不過/我/猜/台哥/搶/機器/搶/太/慢/ /現在/想/哭哭/了/XD/?\n",
      "<OpinionProc [Ptt] chocopie: 要知道，光是選校不選系而在化工系大一被當... (tok)>\n",
      "要/知道/，/光/是/選/校/不/選/系/而/在/化工系/大一/被/當掉/15/個/學/ /分/，/就/已經/可以/看出/他/將/會/是/傾向/擁抱/創業/廣度/而/非/技/ 術/深度/的/人/。/ /當/電信業/沒/了/技術/深度/，/就/像/某/強國/用/嘴砲/發展/半導體/ 業/一樣/，/又/能/撐/多久/呢/？\n",
      "<OpinionProc [Ptt] kleinejing: 獲利王嘴，其他二雄惦惦做 (tok)>\n",
      "獲利/王嘴/，/其他/二/雄/惦惦/做\n"
     ]
    }
   ],
   "source": [
    "for reply_x in seg_thread_x.replies:\n",
    "    print(reply_x)\n",
    "    print(\"/\".join(reply_x.text_tokens))"
   ]
  },
  {
   "cell_type": "code",
   "execution_count": null,
   "metadata": {},
   "outputs": [],
   "source": []
  }
 ],
 "metadata": {
  "kernelspec": {
   "display_name": "Python 3",
   "language": "python",
   "name": "python3"
  },
  "language_info": {
   "codemirror_mode": {
    "name": "ipython",
    "version": 3
   },
   "file_extension": ".py",
   "mimetype": "text/x-python",
   "name": "python",
   "nbconvert_exporter": "python",
   "pygments_lexer": "ipython3",
   "version": "3.8.2"
  }
 },
 "nbformat": 4,
 "nbformat_minor": 4
}

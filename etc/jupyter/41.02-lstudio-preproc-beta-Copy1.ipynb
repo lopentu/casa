{
 "cells": [
  {
   "cell_type": "code",
   "execution_count": 1,
   "metadata": {},
   "outputs": [],
   "source": [
    "%load_ext autoreload\n",
    "%autoreload 2"
   ]
  },
  {
   "cell_type": "code",
   "execution_count": 2,
   "metadata": {},
   "outputs": [],
   "source": [
    "import pickle\n",
    "import json\n",
    "import random\n",
    "import numpy as np\n",
    "import pandas as pd\n",
    "from tqdm import tqdm\n",
    "from import_casa import casa, cano"
   ]
  },
  {
   "cell_type": "code",
   "execution_count": 3,
   "metadata": {},
   "outputs": [],
   "source": [
    "TARGET_DIR = \"20210412\"\n",
    "result_dir = casa.get_data_path() / f\"annot_data/annotated_data_bkup/{TARGET_DIR}\"\n",
    "json_paths = [x for x in result_dir.iterdir() if x.suffix==\".json\"]"
   ]
  },
  {
   "cell_type": "code",
   "execution_count": 4,
   "metadata": {},
   "outputs": [],
   "source": [
    "with json_paths[1].open(\"r\", encoding=\"UTF-8\") as fin:\n",
    "    annots = json.load(fin)"
   ]
  },
  {
   "cell_type": "code",
   "execution_count": 5,
   "metadata": {},
   "outputs": [
    {
     "data": {
      "text/plain": [
       "['completions', 'data', 'id']"
      ]
     },
     "execution_count": 5,
     "metadata": {},
     "output_type": "execute_result"
    }
   ],
   "source": [
    "list(annots[0].keys())"
   ]
  },
  {
   "cell_type": "code",
   "execution_count": 6,
   "metadata": {},
   "outputs": [
    {
     "data": {
      "text/plain": [
       "527"
      ]
     },
     "execution_count": 6,
     "metadata": {},
     "output_type": "execute_result"
    }
   ],
   "source": [
    "len(annots)"
   ]
  },
  {
   "cell_type": "code",
   "execution_count": 7,
   "metadata": {},
   "outputs": [],
   "source": [
    "aspect_list = []"
   ]
  },
  {
   "cell_type": "code",
   "execution_count": 8,
   "metadata": {},
   "outputs": [
    {
     "name": "stderr",
     "output_type": "stream",
     "text": [
      " 50%|█████████████████████████████████████████▌                                         | 5/10 [00:00<00:00, 16.66it/s]"
     ]
    },
    {
     "name": "stdout",
     "output_type": "stream",
     "text": [
      "約翰是哪裡?\n",
      "不確定是什麼\n",
      "多tag\n",
      "可以算涵蓋嗎...?\n",
      "地區+時段\n",
      "metaphorical?\n",
      "不確定指哪裡\n",
      "安平區\n",
      "台北市區\n",
      "499之亂後\n",
      "NP\n",
      "日本國際漫遊\n",
      "成功嶺\n",
      "海景\n",
      "sarcasm\n"
     ]
    },
    {
     "name": "stderr",
     "output_type": "stream",
     "text": [
      "100%|██████████████████████████████████████████████████████████████████████████████████| 10/10 [00:00<00:00, 26.04it/s]"
     ]
    },
    {
     "name": "stdout",
     "output_type": "stream",
     "text": [
      "test\n",
      "test\n"
     ]
    },
    {
     "name": "stderr",
     "output_type": "stream",
     "text": [
      "\n"
     ]
    }
   ],
   "source": [
    "aspect_list = []\n",
    "for json_path in tqdm(json_paths):\n",
    "    with json_path.open(\"r\", encoding=\"UTF-8\") as fin:\n",
    "        annots = json.load(fin)\n",
    "    for annot_i, annot_x in enumerate(annots):        \n",
    "        aspects = cano.process_thread_annotations(annot_x)        \n",
    "        aspect_list.extend(aspects)"
   ]
  },
  {
   "cell_type": "code",
   "execution_count": 9,
   "metadata": {},
   "outputs": [
    {
     "data": {
      "text/plain": [
       "1823"
      ]
     },
     "execution_count": 9,
     "metadata": {},
     "output_type": "execute_result"
    }
   ],
   "source": [
    "len(aspect_list)"
   ]
  },
  {
   "cell_type": "code",
   "execution_count": 10,
   "metadata": {},
   "outputs": [],
   "source": [
    "import pandas as pd\n",
    "data_items = []\n",
    "for aspect_x in aspect_list:\n",
    "    batch_idx = aspect_x.batch_idx\n",
    "    thread_idx = aspect_x.thread_idx\n",
    "    serial = aspect_x.serial\n",
    "    aspect_tuple = aspect_x.make_tuple()\n",
    "    memo = aspect_x.memo\n",
    "    ent_rawtext = aspect_x.raw_text(cano.AspectEnum.Entity)\n",
    "    attr_rawtext = aspect_x.raw_text(cano.AspectEnum.Attribute)\n",
    "    is_context = aspect_x.has_context_only\n",
    "    if all(not x.strip() for x in aspect_tuple[0:3]):\n",
    "        continue\n",
    "    data_items.append((batch_idx, serial, thread_idx, is_context,\n",
    "                      *aspect_tuple, ent_rawtext, attr_rawtext))\n",
    "    "
   ]
  },
  {
   "cell_type": "code",
   "execution_count": 13,
   "metadata": {},
   "outputs": [],
   "source": [
    "aspect_df = pd.DataFrame(data_items, \n",
    "             columns=[\"batch_idx\", \"serial\", \"thread_idx\", \"is_context\", \"ent_norm\", \"attr_norm\", \"evaltext\", \n",
    "                      \"rating\", \"ent_rawtext\", \"attr_rawtext\"])\n",
    "aspect_df.to_csv(result_dir/f\"aspect_tuples_{TARGET_DIR}.1.csv\", encoding=\"UTF-8\", index=False)"
   ]
  },
  {
   "cell_type": "code",
   "execution_count": 14,
   "metadata": {},
   "outputs": [
    {
     "data": {
      "text/html": [
       "<div>\n",
       "<style scoped>\n",
       "    .dataframe tbody tr th:only-of-type {\n",
       "        vertical-align: middle;\n",
       "    }\n",
       "\n",
       "    .dataframe tbody tr th {\n",
       "        vertical-align: top;\n",
       "    }\n",
       "\n",
       "    .dataframe thead th {\n",
       "        text-align: right;\n",
       "    }\n",
       "</style>\n",
       "<table border=\"1\" class=\"dataframe\">\n",
       "  <thead>\n",
       "    <tr style=\"text-align: right;\">\n",
       "      <th></th>\n",
       "      <th>batch_idx</th>\n",
       "      <th>serial</th>\n",
       "      <th>thread_idx</th>\n",
       "      <th>is_context</th>\n",
       "      <th>ent_norm</th>\n",
       "      <th>attr_norm</th>\n",
       "      <th>evaltext</th>\n",
       "      <th>rating</th>\n",
       "      <th>ent_rawtext</th>\n",
       "      <th>attr_rawtext</th>\n",
       "    </tr>\n",
       "  </thead>\n",
       "  <tbody>\n",
       "    <tr>\n",
       "      <th>0</th>\n",
       "      <td>0</td>\n",
       "      <td>43</td>\n",
       "      <td>3260</td>\n",
       "      <td>True</td>\n",
       "      <td>臺灣之星</td>\n",
       "      <td>[通訊]頻段</td>\n",
       "      <td>台星的態度就是在等宿主台哥，逸以待勞，準備寄生。</td>\n",
       "      <td>1</td>\n",
       "      <td>台星的態度就是在等宿主台哥，逸以待勞，準備寄生。</td>\n",
       "      <td>台星的態度就是在等宿主台哥，逸以待勞，準備寄生。</td>\n",
       "    </tr>\n",
       "    <tr>\n",
       "      <th>1</th>\n",
       "      <td>0</td>\n",
       "      <td>7</td>\n",
       "      <td>281</td>\n",
       "      <td>False</td>\n",
       "      <td>中華電信</td>\n",
       "      <td>[通訊]國內電信漫遊</td>\n",
       "      <td>很可以</td>\n",
       "      <td>4</td>\n",
       "      <td>中華</td>\n",
       "      <td>訊號</td>\n",
       "    </tr>\n",
       "    <tr>\n",
       "      <th>2</th>\n",
       "      <td>0</td>\n",
       "      <td>13</td>\n",
       "      <td>932</td>\n",
       "      <td>False</td>\n",
       "      <td>臺灣之星</td>\n",
       "      <td>[通訊]網速</td>\n",
       "      <td>不限速卡上傳可</td>\n",
       "      <td>3</td>\n",
       "      <td>台星</td>\n",
       "      <td>21M</td>\n",
       "    </tr>\n",
       "    <tr>\n",
       "      <th>3</th>\n",
       "      <td>0</td>\n",
       "      <td>1</td>\n",
       "      <td>114</td>\n",
       "      <td>True</td>\n",
       "      <td>中華電信</td>\n",
       "      <td></td>\n",
       "      <td>中華、遠傳，蓋一座拆一座</td>\n",
       "      <td>1</td>\n",
       "      <td>中華、遠傳，蓋一座拆一座</td>\n",
       "      <td>中華、遠傳，蓋一座拆一座</td>\n",
       "    </tr>\n",
       "    <tr>\n",
       "      <th>4</th>\n",
       "      <td>0</td>\n",
       "      <td>10</td>\n",
       "      <td>674</td>\n",
       "      <td>False</td>\n",
       "      <td>臺灣大哥大</td>\n",
       "      <td>[通訊]國內電信漫遊</td>\n",
       "      <td>越來越爛</td>\n",
       "      <td>1</td>\n",
       "      <td>台灣大哥大</td>\n",
       "      <td>收訊</td>\n",
       "    </tr>\n",
       "    <tr>\n",
       "      <th>...</th>\n",
       "      <td>...</td>\n",
       "      <td>...</td>\n",
       "      <td>...</td>\n",
       "      <td>...</td>\n",
       "      <td>...</td>\n",
       "      <td>...</td>\n",
       "      <td>...</td>\n",
       "      <td>...</td>\n",
       "      <td>...</td>\n",
       "      <td>...</td>\n",
       "    </tr>\n",
       "    <tr>\n",
       "      <th>1813</th>\n",
       "      <td>6</td>\n",
       "      <td>152</td>\n",
       "      <td>9307</td>\n",
       "      <td>False</td>\n",
       "      <td>中華電信</td>\n",
       "      <td>[通訊]涵蓋</td>\n",
       "      <td>好</td>\n",
       "      <td>4</td>\n",
       "      <td>中華</td>\n",
       "      <td>偏遠地區</td>\n",
       "    </tr>\n",
       "    <tr>\n",
       "      <th>1814</th>\n",
       "      <td>6</td>\n",
       "      <td>46</td>\n",
       "      <td>2833</td>\n",
       "      <td>False</td>\n",
       "      <td>中華電信</td>\n",
       "      <td>[通訊]網速</td>\n",
       "      <td>還不錯欸沒有LAG問題</td>\n",
       "      <td>5</td>\n",
       "      <td>中華電信</td>\n",
       "      <td>5G</td>\n",
       "    </tr>\n",
       "    <tr>\n",
       "      <th>1815</th>\n",
       "      <td>6</td>\n",
       "      <td>142</td>\n",
       "      <td>8683</td>\n",
       "      <td>False</td>\n",
       "      <td>遠傳電信</td>\n",
       "      <td>[加值]行動支付</td>\n",
       "      <td>也算可以</td>\n",
       "      <td>4</td>\n",
       "      <td>遠傳</td>\n",
       "      <td>NFC-SIM卡</td>\n",
       "    </tr>\n",
       "    <tr>\n",
       "      <th>1816</th>\n",
       "      <td>8</td>\n",
       "      <td>0</td>\n",
       "      <td>9</td>\n",
       "      <td>True</td>\n",
       "      <td></td>\n",
       "      <td></td>\n",
       "      <td>Hami pa</td>\n",
       "      <td></td>\n",
       "      <td>Hami pa</td>\n",
       "      <td>Hami pa</td>\n",
       "    </tr>\n",
       "    <tr>\n",
       "      <th>1817</th>\n",
       "      <td>8</td>\n",
       "      <td>0</td>\n",
       "      <td>9</td>\n",
       "      <td>True</td>\n",
       "      <td></td>\n",
       "      <td></td>\n",
       "      <td>Hami pa</td>\n",
       "      <td></td>\n",
       "      <td>Hami pa</td>\n",
       "      <td>Hami pa</td>\n",
       "    </tr>\n",
       "  </tbody>\n",
       "</table>\n",
       "<p>1818 rows × 10 columns</p>\n",
       "</div>"
      ],
      "text/plain": [
       "      batch_idx  serial  thread_idx  is_context ent_norm   attr_norm  \\\n",
       "0             0      43        3260        True     臺灣之星      [通訊]頻段   \n",
       "1             0       7         281       False     中華電信  [通訊]國內電信漫遊   \n",
       "2             0      13         932       False     臺灣之星      [通訊]網速   \n",
       "3             0       1         114        True     中華電信               \n",
       "4             0      10         674       False    臺灣大哥大  [通訊]國內電信漫遊   \n",
       "...         ...     ...         ...         ...      ...         ...   \n",
       "1813          6     152        9307       False     中華電信      [通訊]涵蓋   \n",
       "1814          6      46        2833       False     中華電信      [通訊]網速   \n",
       "1815          6     142        8683       False     遠傳電信    [加值]行動支付   \n",
       "1816          8       0           9        True                        \n",
       "1817          8       0           9        True                        \n",
       "\n",
       "                      evaltext rating               ent_rawtext  \\\n",
       "0     台星的態度就是在等宿主台哥，逸以待勞，準備寄生。      1  台星的態度就是在等宿主台哥，逸以待勞，準備寄生。   \n",
       "1                          很可以      4                        中華   \n",
       "2                      不限速卡上傳可      3                        台星   \n",
       "3                 中華、遠傳，蓋一座拆一座      1              中華、遠傳，蓋一座拆一座   \n",
       "4                         越來越爛      1                     台灣大哥大   \n",
       "...                        ...    ...                       ...   \n",
       "1813                         好      4                        中華   \n",
       "1814               還不錯欸沒有LAG問題      5                      中華電信   \n",
       "1815                      也算可以      4                        遠傳   \n",
       "1816                   Hami pa                          Hami pa   \n",
       "1817                   Hami pa                          Hami pa   \n",
       "\n",
       "                  attr_rawtext  \n",
       "0     台星的態度就是在等宿主台哥，逸以待勞，準備寄生。  \n",
       "1                           訊號  \n",
       "2                          21M  \n",
       "3                 中華、遠傳，蓋一座拆一座  \n",
       "4                           收訊  \n",
       "...                        ...  \n",
       "1813                      偏遠地區  \n",
       "1814                        5G  \n",
       "1815                  NFC-SIM卡  \n",
       "1816                   Hami pa  \n",
       "1817                   Hami pa  \n",
       "\n",
       "[1818 rows x 10 columns]"
      ]
     },
     "execution_count": 14,
     "metadata": {},
     "output_type": "execute_result"
    }
   ],
   "source": [
    "aspect_df"
   ]
  },
  {
   "cell_type": "markdown",
   "metadata": {},
   "source": [
    "## Sandbox"
   ]
  },
  {
   "cell_type": "code",
   "execution_count": 8,
   "metadata": {},
   "outputs": [],
   "source": [
    "def find_thread_idx(annots, thread_idx):\n",
    "    iter_annot = filter(lambda x: x[\"data\"][\"thread_idx\"]==thread_idx, annots)\n",
    "    return list(iter_annot)[0]"
   ]
  },
  {
   "cell_type": "code",
   "execution_count": 13,
   "metadata": {},
   "outputs": [
    {
     "name": "stderr",
     "output_type": "stream",
     "text": [
      "100%|██████████████████████████████████████████████████████████████████████████████████| 10/10 [00:01<00:00,  9.22it/s]\n"
     ]
    }
   ],
   "source": [
    "annots = []\n",
    "for json_path in tqdm(json_paths):\n",
    "    with json_path.open(\"r\", encoding=\"UTF-8\") as fin:\n",
    "        obj = json.load(fin)\n",
    "    annots.extend(obj)\n"
   ]
  },
  {
   "cell_type": "code",
   "execution_count": 30,
   "metadata": {},
   "outputs": [],
   "source": [
    "annot_x = find_thread_idx(annots, 220)"
   ]
  },
  {
   "cell_type": "code",
   "execution_count": 34,
   "metadata": {},
   "outputs": [],
   "source": [
    "aspects, dbg = cano.process_thread_annotations(annot_x, True)"
   ]
  }
 ],
 "metadata": {
  "kernelspec": {
   "display_name": "Python 3",
   "language": "python",
   "name": "python3"
  },
  "language_info": {
   "codemirror_mode": {
    "name": "ipython",
    "version": 3
   },
   "file_extension": ".py",
   "mimetype": "text/x-python",
   "name": "python",
   "nbconvert_exporter": "python",
   "pygments_lexer": "ipython3",
   "version": "3.8.2"
  }
 },
 "nbformat": 4,
 "nbformat_minor": 5
}

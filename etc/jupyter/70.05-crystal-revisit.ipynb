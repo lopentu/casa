{
 "cells": [
  {
   "cell_type": "code",
   "execution_count": 1,
   "metadata": {},
   "outputs": [],
   "source": [
    "%load_ext autoreload\n",
    "%autoreload 2"
   ]
  },
  {
   "cell_type": "code",
   "execution_count": 2,
   "metadata": {},
   "outputs": [],
   "source": [
    "import pickle\n",
    "import json\n",
    "import random\n",
    "import numpy as np\n",
    "import pandas as pd\n",
    "from tqdm.auto import tqdm\n",
    "from icecream import ic\n",
    "from import_casa import casa\n",
    "from matplotlib import pyplot as plt\n",
    "from casa import Cadence, Cadet, Crystal, MTBert\n",
    "from sklearn.metrics import classification_report, accuracy_score"
   ]
  },
  {
   "cell_type": "code",
   "execution_count": 140,
   "metadata": {},
   "outputs": [
    {
     "name": "stderr",
     "output_type": "stream",
     "text": [
      "[INFO] 2021-09-14 16:32:17,312 casa.Cadence: Loading Cadet\n",
      "[INFO] 2021-09-14 16:32:17,323 gensim.utils: loading KeyedVectors object from ..\\..\\data\\cadence\\..\\cadet\\op20.3\\ft-2020.kv\n",
      "[INFO] 2021-09-14 16:32:17,627 gensim.utils: setting ignored attribute vectors_norm to None\n",
      "[INFO] 2021-09-14 16:32:17,628 gensim.utils: setting ignored attribute vectors_vocab_norm to None\n",
      "[INFO] 2021-09-14 16:32:17,629 gensim.utils: setting ignored attribute vectors_ngrams_norm to None\n",
      "[INFO] 2021-09-14 16:32:17,630 gensim.utils: setting ignored attribute buckets_word to None\n",
      "[INFO] 2021-09-14 16:32:17,746 gensim.utils: FastTextKeyedVectors lifecycle event {'fname': '..\\\\..\\\\data\\\\cadence\\\\..\\\\cadet\\\\op20.3\\\\ft-2020.kv', 'datetime': '2021-09-14T16:32:17.746378', 'gensim': '4.0.0', 'python': '3.8.2 (tags/v3.8.2:7b3ab59, Feb 25 2020, 23:03:10) [MSC v.1916 64 bit (AMD64)]', 'platform': 'Windows-10-10.0.18362-SP0', 'event': 'loaded'}\n",
      "[INFO] 2021-09-14 16:32:17,765 casa.Cadence: Loading Crystal\n",
      "[INFO] 2021-09-14 16:32:17,776 casa.Cadence: Loading MTBert\n"
     ]
    }
   ],
   "source": [
    "cadence = Cadence.load(\"../../data/cadence/config.json\")"
   ]
  },
  {
   "cell_type": "code",
   "execution_count": 141,
   "metadata": {},
   "outputs": [],
   "source": [
    "from casa.cadence.resolvers import CadenceBertOnlyResolver, CadenceSimpleResolver, CadenceMultiResolver\n",
    "from casa.cadence import visualize_tokens"
   ]
  },
  {
   "cell_type": "code",
   "execution_count": 175,
   "metadata": {},
   "outputs": [],
   "source": [
    "text = \"中華網路很快，可是遠傳好慢\" * 100\n",
    "out = cadence.analyze(text, max_eval_count=10)"
   ]
  },
  {
   "cell_type": "code",
   "execution_count": 176,
   "metadata": {},
   "outputs": [
    {
     "data": {
      "text/plain": [
       "{'result': (None, None),\n",
       " 'word_attr_map': {},\n",
       " 'CxG': [],\n",
       " 'onto': [('好慢', [('[通訊]網速', 1, 1.0)], 100),\n",
       "  ('很快',\n",
       "   [('[通訊]涵蓋', 4, 0.3333333333333333),\n",
       "    ('[其他]固網', 4, 0.3333333333333333),\n",
       "    ('[資費]方案活動', 4, 0.3333333333333333)],\n",
       "   100)]}"
      ]
     },
     "execution_count": 176,
     "metadata": {},
     "output_type": "execute_result"
    }
   ],
   "source": [
    "out.crystal"
   ]
  },
  {
   "cell_type": "code",
   "execution_count": 177,
   "metadata": {},
   "outputs": [
    {
     "data": {
      "text/plain": [
       "[['中華電信', ('通訊品質', '網速'), 'Positive', 'cadet', 'mtbert']]"
      ]
     },
     "execution_count": 177,
     "metadata": {},
     "output_type": "execute_result"
    }
   ],
   "source": [
    "out.aspects"
   ]
  },
  {
   "cell_type": "code",
   "execution_count": 174,
   "metadata": {},
   "outputs": [
    {
     "name": "stdout",
     "output_type": "stream",
     "text": [
      "\u001b[34m中\u001b[0m\u001b[34m華\u001b[0m\u001b[32m網\u001b[0m\u001b[32m路\u001b[0m\u001b[36m很\u001b[0m\u001b[36m快\u001b[0m，可是\u001b[34m遠\u001b[0m\u001b[34m傳\u001b[0m\u001b[31m好\u001b[0m\u001b[31m慢\u001b[0m\n"
     ]
    },
    {
     "data": {
      "text/plain": [
       "{'text': '中華網路很快，可是遠傳好慢',\n",
       " 'tag_idx': array([90, 90, 91, 91,  0,  0, -1, -1, -1, 90, 90,  1,  1], dtype=int64),\n",
       " 'pn_prob': array([[6.8737614e-01, 3.1262386e-01],\n",
       "        [4.4585055e-01, 5.5414945e-01],\n",
       "        [1.9418697e-01, 8.0581301e-01],\n",
       "        [4.8538321e-01, 5.1461685e-01],\n",
       "        [7.6754302e-01, 2.3245698e-01],\n",
       "        [7.3828799e-01, 2.6171198e-01],\n",
       "        [1.2960000e-01, 8.7040001e-01],\n",
       "        [1.7035430e-02, 9.8296463e-01],\n",
       "        [3.6931951e-02, 9.6306807e-01],\n",
       "        [3.4757457e-03, 9.9652427e-01],\n",
       "        [2.7238464e-01, 7.2761536e-01],\n",
       "        [3.0574382e-05, 9.9996948e-01],\n",
       "        [6.2108651e-04, 9.9937886e-01]], dtype=float32)}"
      ]
     },
     "execution_count": 174,
     "metadata": {},
     "output_type": "execute_result"
    }
   ],
   "source": [
    "visualize_tokens(out, 4)"
   ]
  },
  {
   "cell_type": "code",
   "execution_count": 55,
   "metadata": {},
   "outputs": [
    {
     "data": {
      "text/plain": [
       "tensor([[ 5.1580,  1.0330, -6.9264],\n",
       "        [ 3.2593,  0.9125, -3.9714],\n",
       "        [ 3.7576,  0.4159, -5.3795],\n",
       "        [ 5.2757, -0.0763, -5.6411],\n",
       "        [ 5.4412, -0.9882, -5.4395],\n",
       "        [ 4.5294,  0.6515, -6.1201],\n",
       "        [ 5.5044, -0.3775, -5.8084],\n",
       "        [ 3.7167,  1.1697, -4.7988],\n",
       "        [ 3.5506,  0.4966, -5.3852],\n",
       "        [ 5.3977, -0.1631, -5.8153],\n",
       "        [ 5.3409, -1.1165, -5.2849],\n",
       "        [ 4.9858, -0.0591, -5.7709],\n",
       "        [ 5.9041, -1.0139, -4.6769],\n",
       "        [ 5.5638, -0.8003, -4.9809],\n",
       "        [ 5.0411, -0.2497, -5.6204],\n",
       "        [ 4.8846,  0.5582, -5.9714],\n",
       "        [ 5.1580,  1.0330, -6.9264]])"
      ]
     },
     "execution_count": 55,
     "metadata": {},
     "output_type": "execute_result"
    }
   ],
   "source": [
    "logits"
   ]
  },
  {
   "cell_type": "code",
   "execution_count": null,
   "metadata": {},
   "outputs": [],
   "source": []
  }
 ],
 "metadata": {
  "kernelspec": {
   "display_name": "Python 3",
   "language": "python",
   "name": "python3"
  },
  "language_info": {
   "codemirror_mode": {
    "name": "ipython",
    "version": 3
   },
   "file_extension": ".py",
   "mimetype": "text/x-python",
   "name": "python",
   "nbconvert_exporter": "python",
   "pygments_lexer": "ipython3",
   "version": "3.8.2"
  }
 },
 "nbformat": 4,
 "nbformat_minor": 4
}

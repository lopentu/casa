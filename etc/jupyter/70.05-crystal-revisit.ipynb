{
 "cells": [
  {
   "cell_type": "code",
   "execution_count": 1,
   "metadata": {},
   "outputs": [],
   "source": [
    "%load_ext autoreload\n",
    "%autoreload 2"
   ]
  },
  {
   "cell_type": "code",
   "execution_count": 2,
   "metadata": {},
   "outputs": [],
   "source": [
    "import pickle\n",
    "import json\n",
    "import random\n",
    "import numpy as np\n",
    "import pandas as pd\n",
    "from tqdm.auto import tqdm\n",
    "from icecream import ic\n",
    "from import_casa import casa\n",
    "from matplotlib import pyplot as plt\n",
    "from casa import Cadence, Cadet, Crystal, MTBert\n",
    "from sklearn.metrics import classification_report, accuracy_score"
   ]
  },
  {
   "cell_type": "code",
   "execution_count": 188,
   "metadata": {},
   "outputs": [
    {
     "name": "stderr",
     "output_type": "stream",
     "text": [
      "[INFO] 2021-09-14 22:25:25,934 casa.Cadence: Loading Cadet\n",
      "[INFO] 2021-09-14 22:25:25,981 gensim.utils: loading KeyedVectors object from ..\\..\\data\\cadence\\..\\cadet\\op20.3\\ft-2020.kv\n",
      "[INFO] 2021-09-14 22:25:26,963 gensim.utils: setting ignored attribute vectors_norm to None\n",
      "[INFO] 2021-09-14 22:25:26,964 gensim.utils: setting ignored attribute vectors_vocab_norm to None\n",
      "[INFO] 2021-09-14 22:25:26,964 gensim.utils: setting ignored attribute vectors_ngrams_norm to None\n",
      "[INFO] 2021-09-14 22:25:26,965 gensim.utils: setting ignored attribute buckets_word to None\n",
      "[INFO] 2021-09-14 22:25:27,097 gensim.utils: FastTextKeyedVectors lifecycle event {'fname': '..\\\\..\\\\data\\\\cadence\\\\..\\\\cadet\\\\op20.3\\\\ft-2020.kv', 'datetime': '2021-09-14T22:25:27.097705', 'gensim': '4.0.0', 'python': '3.8.2 (tags/v3.8.2:7b3ab59, Feb 25 2020, 23:03:10) [MSC v.1916 64 bit (AMD64)]', 'platform': 'Windows-10-10.0.18362-SP0', 'event': 'loaded'}\n",
      "[INFO] 2021-09-14 22:25:27,118 casa.Cadence: Loading Crystal\n",
      "[INFO] 2021-09-14 22:25:27,173 casa.Cadence: Loading MTBert\n"
     ]
    }
   ],
   "source": [
    "cadence = Cadence.load(\"../../data/cadence/config.json\")"
   ]
  },
  {
   "cell_type": "code",
   "execution_count": 141,
   "metadata": {},
   "outputs": [],
   "source": [
    "from casa.cadence.resolvers import CadenceBertOnlyResolver, CadenceSimpleResolver, CadenceMultiResolver\n",
    "from casa.cadence import visualize_tokens"
   ]
  },
  {
   "cell_type": "code",
   "execution_count": 189,
   "metadata": {},
   "outputs": [],
   "source": [
    "text = \"亞太現在還有彈性資費喔~下載:訪客無法瀏覽下載點，請先註冊或登入會員可以根據每個月的使用量去調整，覺得還蠻彈性的\"\n",
    "out = cadence.analyze(text)"
   ]
  },
  {
   "cell_type": "code",
   "execution_count": 190,
   "metadata": {},
   "outputs": [
    {
     "data": {
      "text/plain": [
       "{'result': (None, None), 'word_attr_map': {}, 'CxG': [], 'onto': []}"
      ]
     },
     "execution_count": 190,
     "metadata": {},
     "output_type": "execute_result"
    }
   ],
   "source": [
    "out.crystal"
   ]
  },
  {
   "cell_type": "code",
   "execution_count": 191,
   "metadata": {},
   "outputs": [
    {
     "data": {
      "text/plain": [
       "[['亞太電信', ('通訊品質', '網速'), 'Neutral', 'cadet', 'mtbert']]"
      ]
     },
     "execution_count": 191,
     "metadata": {},
     "output_type": "execute_result"
    }
   ],
   "source": [
    "out.aspects"
   ]
  },
  {
   "cell_type": "code",
   "execution_count": 192,
   "metadata": {},
   "outputs": [
    {
     "name": "stdout",
     "output_type": "stream",
     "text": [
      "\u001b[34m亞\u001b[0m\u001b[34m太\u001b[0m現在還有彈性\u001b[32m資\u001b[0m\u001b[32m費\u001b[0m喔~\u001b[32m下\u001b[0m\u001b[32m載\u001b[0m:訪客無法瀏覽\u001b[32m下\u001b[0m\u001b[32m載\u001b[0m點，請先註冊或\u001b[32m登\u001b[0m\u001b[32m入\u001b[0m會員可以根據\u001b[32m每\u001b[0m\u001b[32m個\u001b[0m\u001b[32m月\u001b[0m的使用量去調整，覺得\u001b[36m還\u001b[0m蠻彈性\u001b[36m的\u001b[0m\n"
     ]
    },
    {
     "data": {
      "text/plain": [
       "{'text': '亞太現在還有彈性資費喔~下載:訪客無法瀏覽下載點，請先註冊或登入會員可以根據每個月的使用量去調整，覺得還蠻彈性的',\n",
       " 'tag_idx': array([90, 90, -1, -1, -1, -1, -1, -1, 91, 91, -1, -1, 91, 91, -1, -1, -1,\n",
       "        -1, -1, -1, -1, 91, 91, -1, -1, -1, -1, -1, -1, -1, 91, 91, -1, -1,\n",
       "        -1, -1, -1, -1, 91, 91, 91, -1, -1, -1, -1, -1, -1, -1, -1, -1, -1,\n",
       "         0, -1, -1, -1,  0], dtype=int64),\n",
       " 'pn_prob': array([[9.43240762e-01, 5.67591749e-02],\n",
       "        [8.42464328e-01, 1.57535672e-01],\n",
       "        [7.21934915e-01, 2.78065056e-01],\n",
       "        [7.65923202e-01, 2.34076858e-01],\n",
       "        [7.27084875e-01, 2.72915095e-01],\n",
       "        [7.10010469e-01, 2.89989561e-01],\n",
       "        [6.57457650e-01, 3.42542320e-01],\n",
       "        [6.65671766e-01, 3.34328204e-01],\n",
       "        [8.12990963e-01, 1.87009051e-01],\n",
       "        [8.56430113e-01, 1.43569887e-01],\n",
       "        [8.98281038e-01, 1.01718947e-01],\n",
       "        [8.48820746e-01, 1.51179239e-01],\n",
       "        [9.10693169e-01, 8.93068314e-02],\n",
       "        [9.23340619e-01, 7.66593665e-02],\n",
       "        [8.87467444e-01, 1.12532586e-01],\n",
       "        [7.97420144e-01, 2.02579781e-01],\n",
       "        [7.94913948e-01, 2.05086038e-01],\n",
       "        [6.76754296e-01, 3.23245734e-01],\n",
       "        [6.48247004e-01, 3.51753026e-01],\n",
       "        [4.81826454e-01, 5.18173575e-01],\n",
       "        [4.81584042e-01, 5.18415928e-01],\n",
       "        [8.51739943e-01, 1.48260087e-01],\n",
       "        [8.52542698e-01, 1.47457317e-01],\n",
       "        [8.54305089e-01, 1.45694897e-01],\n",
       "        [7.87799060e-01, 2.12200925e-01],\n",
       "        [8.76797020e-01, 1.23202965e-01],\n",
       "        [8.29390705e-01, 1.70609325e-01],\n",
       "        [9.08271551e-01, 9.17285010e-02],\n",
       "        [8.91617835e-01, 1.08382232e-01],\n",
       "        [8.54382277e-01, 1.45617709e-01],\n",
       "        [8.06939542e-01, 1.93060443e-01],\n",
       "        [7.82036066e-01, 2.17963889e-01],\n",
       "        [9.35344756e-01, 6.46552518e-02],\n",
       "        [8.32007647e-01, 1.67992294e-01],\n",
       "        [8.86948705e-01, 1.13051265e-01],\n",
       "        [9.40868735e-01, 5.91313057e-02],\n",
       "        [8.12517524e-01, 1.87482506e-01],\n",
       "        [7.31076837e-01, 2.68923134e-01],\n",
       "        [7.89569795e-01, 2.10430190e-01],\n",
       "        [8.07266414e-01, 1.92733586e-01],\n",
       "        [8.39832962e-01, 1.60167038e-01],\n",
       "        [8.27943206e-01, 1.72056824e-01],\n",
       "        [9.33714211e-01, 6.62858039e-02],\n",
       "        [9.20573473e-01, 7.94264749e-02],\n",
       "        [7.87018061e-01, 2.12981939e-01],\n",
       "        [7.99308896e-01, 2.00691044e-01],\n",
       "        [7.14678764e-01, 2.85321265e-01],\n",
       "        [8.61066878e-01, 1.38933077e-01],\n",
       "        [9.86249506e-01, 1.37504879e-02],\n",
       "        [9.99813855e-01, 1.86189805e-04],\n",
       "        [9.99195218e-01, 8.04834242e-04],\n",
       "        [9.99998093e-01, 1.94313861e-06],\n",
       "        [9.99954164e-01, 4.57945061e-05],\n",
       "        [9.99519944e-01, 4.80099727e-04],\n",
       "        [9.99770641e-01, 2.29412370e-04],\n",
       "        [9.99950051e-01, 4.98962545e-05]], dtype=float32)}"
      ]
     },
     "execution_count": 192,
     "metadata": {},
     "output_type": "execute_result"
    }
   ],
   "source": [
    "visualize_tokens(out)"
   ]
  },
  {
   "cell_type": "code",
   "execution_count": 55,
   "metadata": {},
   "outputs": [
    {
     "data": {
      "text/plain": [
       "tensor([[ 5.1580,  1.0330, -6.9264],\n",
       "        [ 3.2593,  0.9125, -3.9714],\n",
       "        [ 3.7576,  0.4159, -5.3795],\n",
       "        [ 5.2757, -0.0763, -5.6411],\n",
       "        [ 5.4412, -0.9882, -5.4395],\n",
       "        [ 4.5294,  0.6515, -6.1201],\n",
       "        [ 5.5044, -0.3775, -5.8084],\n",
       "        [ 3.7167,  1.1697, -4.7988],\n",
       "        [ 3.5506,  0.4966, -5.3852],\n",
       "        [ 5.3977, -0.1631, -5.8153],\n",
       "        [ 5.3409, -1.1165, -5.2849],\n",
       "        [ 4.9858, -0.0591, -5.7709],\n",
       "        [ 5.9041, -1.0139, -4.6769],\n",
       "        [ 5.5638, -0.8003, -4.9809],\n",
       "        [ 5.0411, -0.2497, -5.6204],\n",
       "        [ 4.8846,  0.5582, -5.9714],\n",
       "        [ 5.1580,  1.0330, -6.9264]])"
      ]
     },
     "execution_count": 55,
     "metadata": {},
     "output_type": "execute_result"
    }
   ],
   "source": [
    "logits"
   ]
  },
  {
   "cell_type": "code",
   "execution_count": null,
   "metadata": {},
   "outputs": [],
   "source": []
  }
 ],
 "metadata": {
  "kernelspec": {
   "display_name": "Python 3",
   "language": "python",
   "name": "python3"
  },
  "language_info": {
   "codemirror_mode": {
    "name": "ipython",
    "version": 3
   },
   "file_extension": ".py",
   "mimetype": "text/x-python",
   "name": "python",
   "nbconvert_exporter": "python",
   "pygments_lexer": "ipython3",
   "version": "3.8.2"
  }
 },
 "nbformat": 4,
 "nbformat_minor": 4
}

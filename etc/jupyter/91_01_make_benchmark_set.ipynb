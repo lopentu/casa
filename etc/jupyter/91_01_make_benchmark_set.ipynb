{
  "nbformat": 4,
  "nbformat_minor": 0,
  "metadata": {
    "colab": {
      "name": "91.01_make_benchmark_set.ipynb",
      "provenance": [],
      "collapsed_sections": [],
      "toc_visible": true
    },
    "kernelspec": {
      "name": "python3",
      "display_name": "Python 3"
    },
    "language_info": {
      "name": "python"
    }
  },
  "cells": [
    {
      "cell_type": "markdown",
      "metadata": {
        "id": "jqvkg-d8QIom"
      },
      "source": [
        "**Absa90.11: Making Benchmark Dataset**\n",
        "\n",
        "Refs:\n",
        "https://colab.research.google.com/drive/1WJUl-ciCbqaNLzhItTFbD5caOpGRoTVF#scrollTo=UcOXlh8Eoj7F"
      ]
    },
    {
      "cell_type": "code",
      "metadata": {
        "id": "VjRFrbgzOPV8",
        "colab": {
          "base_uri": "https://localhost:8080/"
        },
        "outputId": "91ed7d88-748b-4755-afe6-fb166b519e87"
      },
      "source": [
        "from google.colab import drive\n",
        "drive.mount('/content/gdrive')"
      ],
      "execution_count": null,
      "outputs": [
        {
          "output_type": "stream",
          "text": [
            "Mounted at /content/gdrive\n"
          ],
          "name": "stdout"
        }
      ]
    },
    {
      "cell_type": "code",
      "metadata": {
        "id": "xMohNVKoP1ex",
        "colab": {
          "base_uri": "https://localhost:8080/"
        },
        "outputId": "3ddc3447-8e14-4cc7-a90d-afa4938055f4"
      },
      "source": [
        "import getpass, os\n",
        "username = getpass.getpass(\"Github username: \")\n",
        "password = getpass.getpass(\"Github password: \")\n",
        "os.environ[\"CRED\"] = f\"{username}:{password}\"\n",
        "!git clone https://${CRED}@github.com/lopentu/casa\n",
        "del username, password\n",
        "!pip install -r /content/casa/requirements.txt"
      ],
      "execution_count": null,
      "outputs": [
        {
          "output_type": "stream",
          "text": [
            "Github username: ··········\n",
            "Github password: ··········\n",
            "Cloning into 'casa'...\n",
            "remote: Enumerating objects: 772, done.\u001b[K\n",
            "remote: Counting objects: 100% (772/772), done.\u001b[K\n",
            "remote: Compressing objects: 100% (488/488), done.\u001b[K\n",
            "remote: Total 772 (delta 379), reused 614 (delta 231), pack-reused 0\u001b[K\n",
            "Receiving objects: 100% (772/772), 4.65 MiB | 16.04 MiB/s, done.\n",
            "Resolving deltas: 100% (379/379), done.\n",
            "Requirement already satisfied: pandas in /usr/local/lib/python3.7/dist-packages (from -r /content/casa/requirements.txt (line 1)) (1.1.5)\n",
            "Requirement already satisfied: matplotlib in /usr/local/lib/python3.7/dist-packages (from -r /content/casa/requirements.txt (line 2)) (3.2.2)\n",
            "Requirement already satisfied: scipy in /usr/local/lib/python3.7/dist-packages (from -r /content/casa/requirements.txt (line 3)) (1.4.1)\n",
            "Requirement already satisfied: numpy in /usr/local/lib/python3.7/dist-packages (from -r /content/casa/requirements.txt (line 4)) (1.19.5)\n",
            "Requirement already satisfied: gensim in /usr/local/lib/python3.7/dist-packages (from -r /content/casa/requirements.txt (line 5)) (3.6.0)\n",
            "Collecting sentencepiece\n",
            "\u001b[?25l  Downloading https://files.pythonhosted.org/packages/f5/99/e0808cb947ba10f575839c43e8fafc9cc44e4a7a2c8f79c60db48220a577/sentencepiece-0.1.95-cp37-cp37m-manylinux2014_x86_64.whl (1.2MB)\n",
            "\u001b[K     |████████████████████████████████| 1.2MB 30.5MB/s \n",
            "\u001b[?25hRequirement already satisfied: python-dateutil>=2.7.3 in /usr/local/lib/python3.7/dist-packages (from pandas->-r /content/casa/requirements.txt (line 1)) (2.8.1)\n",
            "Requirement already satisfied: pytz>=2017.2 in /usr/local/lib/python3.7/dist-packages (from pandas->-r /content/casa/requirements.txt (line 1)) (2018.9)\n",
            "Requirement already satisfied: kiwisolver>=1.0.1 in /usr/local/lib/python3.7/dist-packages (from matplotlib->-r /content/casa/requirements.txt (line 2)) (1.3.1)\n",
            "Requirement already satisfied: pyparsing!=2.0.4,!=2.1.2,!=2.1.6,>=2.0.1 in /usr/local/lib/python3.7/dist-packages (from matplotlib->-r /content/casa/requirements.txt (line 2)) (2.4.7)\n",
            "Requirement already satisfied: cycler>=0.10 in /usr/local/lib/python3.7/dist-packages (from matplotlib->-r /content/casa/requirements.txt (line 2)) (0.10.0)\n",
            "Requirement already satisfied: six>=1.5.0 in /usr/local/lib/python3.7/dist-packages (from gensim->-r /content/casa/requirements.txt (line 5)) (1.15.0)\n",
            "Requirement already satisfied: smart-open>=1.2.1 in /usr/local/lib/python3.7/dist-packages (from gensim->-r /content/casa/requirements.txt (line 5)) (5.0.0)\n",
            "Installing collected packages: sentencepiece\n",
            "Successfully installed sentencepiece-0.1.95\n"
          ],
          "name": "stdout"
        }
      ]
    },
    {
      "cell_type": "code",
      "metadata": {
        "id": "N7VetTJYQFKU"
      },
      "source": [
        "%load_ext autoreload\n",
        "%autoreload 2\n",
        "import pickle \n",
        "import sys\n",
        "import pandas as pd"
      ],
      "execution_count": null,
      "outputs": []
    },
    {
      "cell_type": "code",
      "metadata": {
        "id": "wfWycQRTRSs4"
      },
      "source": [
        "sys.path = [\"/content/casa/src\"] + sys.path"
      ],
      "execution_count": null,
      "outputs": []
    },
    {
      "cell_type": "code",
      "metadata": {
        "id": "xXbpBGXZQRo0"
      },
      "source": [
        "workspace = '/content/gdrive/MyDrive/指向情緒案/data'\n",
        "aspect_tuples_path = f'{workspace}/annot_data/annotated_data_bkup/20210605/aspect_tuples_20210605.csv'\n",
        "threads_path = f'{workspace}/threads/cht-2020-merged.pkl'"
      ],
      "execution_count": null,
      "outputs": []
    },
    {
      "cell_type": "code",
      "metadata": {
        "id": "0aBjke2yQrec"
      },
      "source": [
        "import casa\n",
        "with open (threads_path, 'rb') as File:\n",
        "    threads = pickle.load(File)"
      ],
      "execution_count": null,
      "outputs": []
    },
    {
      "cell_type": "code",
      "metadata": {
        "colab": {
          "base_uri": "https://localhost:8080/"
        },
        "id": "gBsuO0MnRyie",
        "outputId": "85615885-f9e1-4806-b064-4f2fe1d0d413"
      },
      "source": [
        "print(type(threads))\n",
        "print(type(threads[0]))\n",
        "# print(*threads[:10], sep = '\\n')\n",
        "print(threads[0].main)\n",
        "print(threads[0].replies)\n",
        "print(threads[0].get_opinion)\n",
        "print(threads[0].title)\n",
        "print(len(threads))"
      ],
      "execution_count": null,
      "outputs": [
        {
          "output_type": "stream",
          "text": [
            "<class 'list'>\n",
            "<class 'casa.opinion_thread.OpinionThread'>\n",
            "<Opinion [BabyHome 寶貝家庭親子網] ChenMimi: 華碩超大方 元月起買華碩兩款手機送耳機！...>\n",
            "[]\n",
            "<bound method OpinionThread.get_opinion of <OpinionThread[T]: 華碩超大方 元月起買華碩兩款手機送耳機/ChenMimi/0 replie(s)>>\n",
            "華碩超大方 元月起買華碩兩款手機送耳機\n",
            "56064\n"
          ],
          "name": "stdout"
        }
      ]
    },
    {
      "cell_type": "code",
      "metadata": {
        "colab": {
          "base_uri": "https://localhost:8080/",
          "height": 623
        },
        "id": "YRkwK7fFUl13",
        "outputId": "d8002e46-e216-49e0-f230-9f5c2dcf9e92"
      },
      "source": [
        "aspdf = pd.read_csv(aspect_tuples_path)\n",
        "aspdf"
      ],
      "execution_count": null,
      "outputs": [
        {
          "output_type": "execute_result",
          "data": {
            "text/html": [
              "<div>\n",
              "<style scoped>\n",
              "    .dataframe tbody tr th:only-of-type {\n",
              "        vertical-align: middle;\n",
              "    }\n",
              "\n",
              "    .dataframe tbody tr th {\n",
              "        vertical-align: top;\n",
              "    }\n",
              "\n",
              "    .dataframe thead th {\n",
              "        text-align: right;\n",
              "    }\n",
              "</style>\n",
              "<table border=\"1\" class=\"dataframe\">\n",
              "  <thead>\n",
              "    <tr style=\"text-align: right;\">\n",
              "      <th></th>\n",
              "      <th>batch_idx</th>\n",
              "      <th>serial</th>\n",
              "      <th>thread_idx</th>\n",
              "      <th>is_context</th>\n",
              "      <th>ent_norm</th>\n",
              "      <th>attr_norm</th>\n",
              "      <th>evaltext</th>\n",
              "      <th>rating</th>\n",
              "      <th>ent_rawtext</th>\n",
              "      <th>attr_rawtext</th>\n",
              "    </tr>\n",
              "  </thead>\n",
              "  <tbody>\n",
              "    <tr>\n",
              "      <th>0</th>\n",
              "      <td>0</td>\n",
              "      <td>43</td>\n",
              "      <td>3260</td>\n",
              "      <td>True</td>\n",
              "      <td>臺灣之星</td>\n",
              "      <td>[通訊]頻段</td>\n",
              "      <td>台星的態度就是在等宿主台哥，逸以待勞，準備寄生。</td>\n",
              "      <td>1.0</td>\n",
              "      <td>台星的態度就是在等宿主台哥，逸以待勞，準備寄生。</td>\n",
              "      <td>台星的態度就是在等宿主台哥，逸以待勞，準備寄生。</td>\n",
              "    </tr>\n",
              "    <tr>\n",
              "      <th>1</th>\n",
              "      <td>0</td>\n",
              "      <td>7</td>\n",
              "      <td>281</td>\n",
              "      <td>False</td>\n",
              "      <td>中華電信</td>\n",
              "      <td>[通訊]國內電信漫遊</td>\n",
              "      <td>很可以</td>\n",
              "      <td>4.0</td>\n",
              "      <td>中華</td>\n",
              "      <td>訊號</td>\n",
              "    </tr>\n",
              "    <tr>\n",
              "      <th>2</th>\n",
              "      <td>0</td>\n",
              "      <td>13</td>\n",
              "      <td>932</td>\n",
              "      <td>False</td>\n",
              "      <td>臺灣之星</td>\n",
              "      <td>[通訊]網速</td>\n",
              "      <td>不限速卡上傳可</td>\n",
              "      <td>3.0</td>\n",
              "      <td>台星</td>\n",
              "      <td>21M</td>\n",
              "    </tr>\n",
              "    <tr>\n",
              "      <th>3</th>\n",
              "      <td>0</td>\n",
              "      <td>1</td>\n",
              "      <td>114</td>\n",
              "      <td>True</td>\n",
              "      <td>中華電信</td>\n",
              "      <td>NaN</td>\n",
              "      <td>中華、遠傳，蓋一座拆一座</td>\n",
              "      <td>1.0</td>\n",
              "      <td>中華、遠傳，蓋一座拆一座</td>\n",
              "      <td>中華、遠傳，蓋一座拆一座</td>\n",
              "    </tr>\n",
              "    <tr>\n",
              "      <th>4</th>\n",
              "      <td>0</td>\n",
              "      <td>10</td>\n",
              "      <td>674</td>\n",
              "      <td>False</td>\n",
              "      <td>臺灣大哥大</td>\n",
              "      <td>[通訊]國內電信漫遊</td>\n",
              "      <td>越來越爛</td>\n",
              "      <td>1.0</td>\n",
              "      <td>台灣大哥大</td>\n",
              "      <td>收訊</td>\n",
              "    </tr>\n",
              "    <tr>\n",
              "      <th>...</th>\n",
              "      <td>...</td>\n",
              "      <td>...</td>\n",
              "      <td>...</td>\n",
              "      <td>...</td>\n",
              "      <td>...</td>\n",
              "      <td>...</td>\n",
              "      <td>...</td>\n",
              "      <td>...</td>\n",
              "      <td>...</td>\n",
              "      <td>...</td>\n",
              "    </tr>\n",
              "    <tr>\n",
              "      <th>3106</th>\n",
              "      <td>8</td>\n",
              "      <td>5</td>\n",
              "      <td>109</td>\n",
              "      <td>False</td>\n",
              "      <td>臺灣大哥大</td>\n",
              "      <td>[資費]低資費方案</td>\n",
              "      <td>禮券算下來不會輸488</td>\n",
              "      <td>4.0</td>\n",
              "      <td>台哥</td>\n",
              "      <td>499方案</td>\n",
              "    </tr>\n",
              "    <tr>\n",
              "      <th>3107</th>\n",
              "      <td>8</td>\n",
              "      <td>5</td>\n",
              "      <td>109</td>\n",
              "      <td>False</td>\n",
              "      <td>遠傳電信</td>\n",
              "      <td>[資費]月租費</td>\n",
              "      <td>NaN</td>\n",
              "      <td>-1.0</td>\n",
              "      <td>遠傳</td>\n",
              "      <td>588</td>\n",
              "    </tr>\n",
              "    <tr>\n",
              "      <th>3108</th>\n",
              "      <td>8</td>\n",
              "      <td>3</td>\n",
              "      <td>45</td>\n",
              "      <td>False</td>\n",
              "      <td>中華電信</td>\n",
              "      <td>[資費]續約攜碼</td>\n",
              "      <td>沒有珍惜已經使用的老客戶權益</td>\n",
              "      <td>1.0</td>\n",
              "      <td>中華電信</td>\n",
              "      <td>續約</td>\n",
              "    </tr>\n",
              "    <tr>\n",
              "      <th>3109</th>\n",
              "      <td>8</td>\n",
              "      <td>8</td>\n",
              "      <td>194</td>\n",
              "      <td>False</td>\n",
              "      <td>中華電信</td>\n",
              "      <td>[資費]方案活動</td>\n",
              "      <td>夠</td>\n",
              "      <td>3.0</td>\n",
              "      <td>中華</td>\n",
              "      <td>469限速吃到飽</td>\n",
              "    </tr>\n",
              "    <tr>\n",
              "      <th>3110</th>\n",
              "      <td>8</td>\n",
              "      <td>8</td>\n",
              "      <td>194</td>\n",
              "      <td>False</td>\n",
              "      <td>中華電信</td>\n",
              "      <td>NaN</td>\n",
              "      <td>媽的</td>\n",
              "      <td>1.0</td>\n",
              "      <td>中華</td>\n",
              "      <td>NaN</td>\n",
              "    </tr>\n",
              "  </tbody>\n",
              "</table>\n",
              "<p>3111 rows × 10 columns</p>\n",
              "</div>"
            ],
            "text/plain": [
              "      batch_idx  serial  ...               ent_rawtext              attr_rawtext\n",
              "0             0      43  ...  台星的態度就是在等宿主台哥，逸以待勞，準備寄生。  台星的態度就是在等宿主台哥，逸以待勞，準備寄生。\n",
              "1             0       7  ...                        中華                        訊號\n",
              "2             0      13  ...                        台星                       21M\n",
              "3             0       1  ...              中華、遠傳，蓋一座拆一座              中華、遠傳，蓋一座拆一座\n",
              "4             0      10  ...                     台灣大哥大                        收訊\n",
              "...         ...     ...  ...                       ...                       ...\n",
              "3106          8       5  ...                        台哥                     499方案\n",
              "3107          8       5  ...                        遠傳                       588\n",
              "3108          8       3  ...                      中華電信                        續約\n",
              "3109          8       8  ...                        中華                  469限速吃到飽\n",
              "3110          8       8  ...                        中華                       NaN\n",
              "\n",
              "[3111 rows x 10 columns]"
            ]
          },
          "metadata": {
            "tags": []
          },
          "execution_count": 7
        }
      ]
    },
    {
      "cell_type": "code",
      "metadata": {
        "id": "tmzAaA2sWcBm"
      },
      "source": [
        "thread_indices = list(map(int, aspdf['thread_idx'].tolist()))\n",
        "# get the threads \n",
        "ordered_threads = []\n",
        "for idx in thread_indices:\n",
        "    ordered_threads.append((idx, threads[idx])) \n",
        "assert len(ordered_threads)==len(thread_indices)\n",
        "# structure the threads\n",
        "structed_threads = []\n",
        "Recorded = []\n",
        "for (idx, th) in ordered_threads:\n",
        "    thread_dict = {}\n",
        "    idx = int(idx)\n",
        "    if idx not in Recorded:\n",
        "        Recorded.append(idx) \n",
        "        thread_dict['idx'] = idx\n",
        "        thread_dict['title'] = th.title if len(th.title) > 0 else \"\"\n",
        "        try:\n",
        "            thread_dict['main'] = th.main.text \n",
        "        except:\n",
        "            thread_dict['main'] = \"\"\n",
        "        \n",
        "        thread_dict['replies'] = []\n",
        "        if len(th.replies)> 0:\n",
        "          for rep in th.replies:\n",
        "            thread_dict['replies'].append(rep.text)\n",
        "        structed_threads.append(thread_dict)"
      ],
      "execution_count": null,
      "outputs": []
    },
    {
      "cell_type": "code",
      "metadata": {
        "colab": {
          "base_uri": "https://localhost:8080/"
        },
        "id": "v1xgdM4Tkg6V",
        "outputId": "8fafacc0-3b5e-45b1-dad2-154f60989842"
      },
      "source": [
        "import random\n",
        "# print(aspdf.nunique())\n",
        "print('How many threads have aspect tuples?', len(structed_threads))\n",
        "r = random.randint(0, len(structed_threads))\n",
        "print(structed_threads[r]['idx'])\n",
        "print(structed_threads[r]['title'])\n",
        "print(structed_threads[r]['main'])\n",
        "print(structed_threads[r]['replies'])"
      ],
      "execution_count": null,
      "outputs": [
        {
          "output_type": "stream",
          "text": [
            "How many threads have aspect tuples? 1463\n",
            "10595\n",
            "[新品介紹]Samsung S20台星預購未來可以免費升級5G\n",
            "\n",
            "['要買5G手機體驗5G，找中華會比較有信心 學生588或大4G1399都可以體驗，買旗艦配中華可用頻段也較多']\n"
          ],
          "name": "stdout"
        }
      ]
    },
    {
      "cell_type": "markdown",
      "metadata": {
        "id": "enWcryd3UK20"
      },
      "source": [
        "\n",
        "Structure: \n",
        "```\n",
        "[{\n",
        "  thread: {\n",
        "    idx: <int>,  \n",
        "    title: \"<title str>\", \n",
        "    main: \"<main text>\", \n",
        "    reply: [\"<reply text>\", ...]},\n",
        "  aspects: [\n",
        "    {\n",
        "       entity: \"<ent_norm>\", \n",
        "       attribute: \"<attr_norm>\",\n",
        "       evaltext: \"<evaltext>\",\n",
        "       rating: <int>,\n",
        "       context_flag: <bool>\n",
        "    }\n",
        "  ]\n",
        "},...]\n",
        "```\n",
        "\n"
      ]
    },
    {
      "cell_type": "code",
      "metadata": {
        "colab": {
          "base_uri": "https://localhost:8080/"
        },
        "id": "PrWmGCzxoGNo",
        "outputId": "7f48e1d4-0b1d-4560-af80-a1cbf605cb70"
      },
      "source": [
        "df = aspdf.fillna(-1) # -1 代表原格子為NaN\n",
        "entites = df['ent_norm'].tolist()\n",
        "attributes = df['attr_norm'].tolist()\n",
        "evaltexts = df['evaltext'].tolist()\n",
        "ratings = list(map(int, df['rating'].tolist())) \n",
        "context_flags = list(map(bool, df['is_context'].tolist()))\n",
        "assert len(entites) == len(attributes) == len(evaltexts) == len(ratings) == len(context_flags)\n",
        "print('How many aspect tuples in total?', len(entites))\n",
        "structed_aspects = {}\n",
        "count = 0\n",
        "for (idx, ent, attr, evt, rating, ctx_flag) in zip(thread_indices, entites, attributes, evaltexts, ratings, context_flags):\n",
        "    if idx not in structed_aspects:\n",
        "        structed_aspects[idx] = []\n",
        "    if evt != -1 or rating != -1:\n",
        "      aspect_tuple_dict = {}\n",
        "      aspect_tuple_dict['entity'] = ent\n",
        "      aspect_tuple_dict['attribute'] = attr\n",
        "      aspect_tuple_dict['evaltext'] = evt\n",
        "      aspect_tuple_dict['rating'] = rating\n",
        "      aspect_tuple_dict['context_flag'] = ctx_flag \n",
        "      structed_aspects[idx].append(aspect_tuple_dict)\n",
        "      count+=1\n",
        "print('After cleaning, how many aspect tuples in total?', count)"
      ],
      "execution_count": null,
      "outputs": [
        {
          "output_type": "stream",
          "text": [
            "How many aspect tuples in total? 3111\n",
            "After cleaning, how many aspect tuples in total? 2995\n"
          ],
          "name": "stdout"
        }
      ]
    },
    {
      "cell_type": "code",
      "metadata": {
        "colab": {
          "base_uri": "https://localhost:8080/"
        },
        "id": "V0p5uy87tqo3",
        "outputId": "4909b716-6303-4218-f51d-c90a9689f316"
      },
      "source": [
        "print(structed_aspects[15603])"
      ],
      "execution_count": null,
      "outputs": [
        {
          "output_type": "stream",
          "text": [
            "[{'entity': '臺灣大哥大', 'attribute': '[通訊]網速', 'evaltext': '超爛', 'rating': 1, 'context_flag': False}, {'entity': '臺灣大哥大', 'attribute': '[通訊]網速', 'evaltext': '爛', 'rating': 1, 'context_flag': False}, {'entity': '臺灣大哥大', 'attribute': '[通訊]涵蓋', 'evaltext': '真的差', 'rating': -1, 'context_flag': False}]\n"
          ],
          "name": "stdout"
        }
      ]
    },
    {
      "cell_type": "code",
      "metadata": {
        "id": "iaAFhtTDshf6"
      },
      "source": [
        "length_dict = {key: len(value) for key, value in structed_aspects.items()}\n",
        "for key, value in length_dict.items():\n",
        "    print(key, value)"
      ],
      "execution_count": null,
      "outputs": []
    },
    {
      "cell_type": "code",
      "metadata": {
        "colab": {
          "base_uri": "https://localhost:8080/"
        },
        "id": "fFqlKPC4tpAR",
        "outputId": "0cd28fc2-20ca-4dc8-da30-2a18ed22db71"
      },
      "source": [
        "Datasets = []\n",
        "for str_th in structed_threads:\n",
        "    merge_dict = {}\n",
        "    thread_idx = str_th['idx']\n",
        "    # get the corresponding list of aspects \n",
        "    corres_aspects = structed_aspects[thread_idx]\n",
        "    merge_dict['thread'] = str_th\n",
        "    merge_dict['aspects'] = corres_aspects\n",
        "    Datasets.append(merge_dict)\n",
        "print(len(Datasets)) "
      ],
      "execution_count": null,
      "outputs": [
        {
          "output_type": "stream",
          "text": [
            "1463\n"
          ],
          "name": "stdout"
        }
      ]
    },
    {
      "cell_type": "markdown",
      "metadata": {
        "id": "RhZTE3PR0Opz"
      },
      "source": [
        " ### **Check dataset content**"
      ]
    },
    {
      "cell_type": "code",
      "metadata": {
        "id": "cseh4Hpk0dLi"
      },
      "source": [
        "# from google.colab import drive\n",
        "# drive.mount('/content/gdrive')"
      ],
      "execution_count": null,
      "outputs": []
    },
    {
      "cell_type": "code",
      "metadata": {
        "id": "Ko4PVL_MvLFF"
      },
      "source": [
        "# Writes the list of dictionaries into json \n",
        "import json\n",
        "import pickle\n",
        "# workspace = '/content/gdrive/MyDrive/指向情緒案/data'\n",
        "with open(f'{workspace}/annot_data/benchmark_set.json', 'w', encoding = 'utf-8') as fout:\n",
        "    json.dump(Datasets, fout, ensure_ascii=False, indent=2)  \n",
        "with open(f'{workspace}/annot_data/benchmark_set.pkl', \"wb\") as fout:\n",
        "    pickle.dump(Datasets, fout) \n",
        "### Testing ### \n",
        "# with open(f'{workspace}/annot_data/benchmark_set.pkl', \"rb\") as fin:\n",
        "#     Datasets = pickle.load(fin)"
      ],
      "execution_count": null,
      "outputs": []
    },
    {
      "cell_type": "code",
      "metadata": {
        "id": "4CiiDifEwvsZ"
      },
      "source": [
        "def PrintData(Data):\n",
        "    print('thread:')\n",
        "    print('\\t-idx:', Data['thread']['idx'])\n",
        "    print('\\t-title:', Data['thread']['title'])\n",
        "    print('\\t-main:', Data['thread']['main'])\n",
        "    print('\\t-replies:\\t')\n",
        "    for rep in Data['thread']['replies']:\n",
        "      print('\\t\\t--', rep)\n",
        "\n",
        "    print('aspects:')\n",
        "    for i, asp in enumerate(Data['aspects']):\n",
        "       print(f'\\t-aspect {i}:', asp)"
      ],
      "execution_count": null,
      "outputs": []
    },
    {
      "cell_type": "code",
      "metadata": {
        "colab": {
          "base_uri": "https://localhost:8080/"
        },
        "id": "qw7Lqk0pxi7x",
        "outputId": "189d2cd1-e1ac-4d76-a8cf-c6bdfc4d6f0b"
      },
      "source": [
        "import random\n",
        "r = random.randint(0, len(Datasets))\n",
        "PrintData(Datasets[r])"
      ],
      "execution_count": null,
      "outputs": [
        {
          "output_type": "stream",
          "text": [
            "thread:\n",
            "\t-idx: 26202\n",
            "\t-title: [問卦] 低速固網是不是乾脆用4G等5G？\n",
            "\t-main: \n",
            "\t-replies:\t\n",
            "\t\t-- 對惹，我4月繳1399費率，4G吃到飽用戶。用遠傳1樣，現在用台哥大也1樣，手機換惹3、4隻有了。5G世代8想再花大錢被騙惹\n",
            "aspects:\n",
            "\t-aspect 0: {'entity': '臺灣大哥大', 'attribute': '[資費]月租費', 'evaltext': '8想再花大錢被騙惹', 'rating': 2, 'context_flag': False}\n"
          ],
          "name": "stdout"
        }
      ]
    }
  ]
}
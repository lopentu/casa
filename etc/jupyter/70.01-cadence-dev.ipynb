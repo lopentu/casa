{
 "cells": [
  {
   "cell_type": "code",
   "execution_count": 1,
   "metadata": {},
   "outputs": [],
   "source": [
    "%load_ext autoreload\n",
    "%autoreload 2"
   ]
  },
  {
   "cell_type": "code",
   "execution_count": 2,
   "metadata": {},
   "outputs": [],
   "source": [
    "import pickle\n",
    "import json\n",
    "import random\n",
    "import numpy as np\n",
    "import pandas as pd\n",
    "from tqdm.auto import tqdm\n",
    "from icecream import ic\n",
    "from import_casa import casa\n",
    "from matplotlib import pyplot as plt\n",
    "from casa import Cadence, Cadet, Crystal\n",
    "from sklearn.metrics import classification_report, accuracy_score"
   ]
  },
  {
   "cell_type": "markdown",
   "metadata": {},
   "source": [
    "## Loading Cadence"
   ]
  },
  {
   "cell_type": "code",
   "execution_count": 3,
   "metadata": {},
   "outputs": [
    {
     "name": "stderr",
     "output_type": "stream",
     "text": [
      "[INFO] 2021-08-29 23:05:08,406 casa.Cadence: Loading Cadet\n",
      "[INFO] 2021-08-29 23:05:08,419 gensim.utils: loading KeyedVectors object from E:\\LangOn\\casa\\data\\cadence\\..\\cadet\\op20.3\\ft-2020.kv\n",
      "[INFO] 2021-08-29 23:05:08,704 gensim.utils: setting ignored attribute vectors_norm to None\n",
      "[INFO] 2021-08-29 23:05:08,705 gensim.utils: setting ignored attribute vectors_vocab_norm to None\n",
      "[INFO] 2021-08-29 23:05:08,706 gensim.utils: setting ignored attribute vectors_ngrams_norm to None\n",
      "[INFO] 2021-08-29 23:05:08,707 gensim.utils: setting ignored attribute buckets_word to None\n",
      "[INFO] 2021-08-29 23:05:08,820 gensim.utils: FastTextKeyedVectors lifecycle event {'fname': 'E:\\\\LangOn\\\\casa\\\\data\\\\cadence\\\\..\\\\cadet\\\\op20.3\\\\ft-2020.kv', 'datetime': '2021-08-29T23:05:08.819743', 'gensim': '4.0.0', 'python': '3.8.2 (tags/v3.8.2:7b3ab59, Feb 25 2020, 23:03:10) [MSC v.1916 64 bit (AMD64)]', 'platform': 'Windows-10-10.0.18362-SP0', 'event': 'loaded'}\n",
      "[INFO] 2021-08-29 23:05:08,845 casa.Cadence: Loading Crystal\n",
      "[INFO] 2021-08-29 23:05:08,853 casa.Cadence: Loading MTBert\n"
     ]
    }
   ],
   "source": [
    "cadence = Cadence.load(casa.get_data_path()/\"cadence/config.json\")"
   ]
  },
  {
   "cell_type": "code",
   "execution_count": 4,
   "metadata": {},
   "outputs": [],
   "source": [
    "out = cadence.analyze(\"這樣嗎\")"
   ]
  },
  {
   "cell_type": "code",
   "execution_count": 6,
   "metadata": {},
   "outputs": [
    {
     "data": {
      "text/plain": [
       "<CadenceOutput: [('無特定業者', '無特定服務', 'Neutral')]>"
      ]
     },
     "execution_count": 6,
     "metadata": {},
     "output_type": "execute_result"
    }
   ],
   "source": [
    "out"
   ]
  },
  {
   "cell_type": "markdown",
   "metadata": {},
   "source": [
    "## Loading indivdual component"
   ]
  },
  {
   "cell_type": "code",
   "execution_count": 5,
   "metadata": {},
   "outputs": [
    {
     "name": "stderr",
     "output_type": "stream",
     "text": [
      "[INFO] 2021-08-24 19:09:40,331 gensim.utils: loading KeyedVectors object from E:\\LangOn\\casa\\data\\cadet\\op20.3\\ft-2020.kv\n",
      "[INFO] 2021-08-24 19:09:41,789 gensim.utils: setting ignored attribute vectors_norm to None\n",
      "[INFO] 2021-08-24 19:09:41,790 gensim.utils: setting ignored attribute vectors_vocab_norm to None\n",
      "[INFO] 2021-08-24 19:09:41,791 gensim.utils: setting ignored attribute vectors_ngrams_norm to None\n",
      "[INFO] 2021-08-24 19:09:41,792 gensim.utils: setting ignored attribute buckets_word to None\n",
      "[INFO] 2021-08-24 19:09:41,909 gensim.utils: FastTextKeyedVectors lifecycle event {'fname': 'E:\\\\LangOn\\\\casa\\\\data\\\\cadet\\\\op20.3\\\\ft-2020.kv', 'datetime': '2021-08-24T19:09:41.909312', 'gensim': '4.0.0', 'python': '3.8.2 (tags/v3.8.2:7b3ab59, Feb 25 2020, 23:03:10) [MSC v.1916 64 bit (AMD64)]', 'platform': 'Windows-10-10.0.18362-SP0', 'event': 'loaded'}\n"
     ]
    }
   ],
   "source": [
    "cadet = Cadet.load(casa.get_data_path()/\"cadet/op20.3\")"
   ]
  },
  {
   "cell_type": "code",
   "execution_count": 6,
   "metadata": {},
   "outputs": [
    {
     "data": {
      "text/plain": [
       "{'entity': ['中華電信', '台灣大哥大', '遠傳電信', '台灣之星', '亞太電信', '無框行動'],\n",
       " 'entity_probs': array([0.16666667, 0.16666667, 0.16666667, 0.16666667, 0.16666667,\n",
       "        0.16666667]),\n",
       " 'service': [('通訊品質', '網速'),\n",
       "  ('通訊品質', '涵蓋'),\n",
       "  ('加值服務', 'vowifi'),\n",
       "  ('加值服務', '國際漫遊'),\n",
       "  ('加值服務', '行動支付')],\n",
       " 'service_probs': array([0.45408844, 0.45408844, 0.00446646, 0.00446646, 0.00444961]),\n",
       " 'seeds': ['覆蓋率', '滿格', '訊號', '網速', '卡頓'],\n",
       " 'seed_probs': array([0.381275  , 0.381275  , 0.00614107, 0.00459895, 0.00446356])}"
      ]
     },
     "execution_count": 6,
     "metadata": {},
     "output_type": "execute_result"
    }
   ],
   "source": [
    "cadet.detect(\"這裡收訊很差\")"
   ]
  },
  {
   "cell_type": "code",
   "execution_count": 39,
   "metadata": {},
   "outputs": [],
   "source": [
    "## On making crystals\n",
    "crystal = Crystal.load(casa.get_data_path() / \"crystal\")"
   ]
  },
  {
   "cell_type": "code",
   "execution_count": 40,
   "metadata": {},
   "outputs": [
    {
     "data": {
      "text/plain": [
       "<re.Match object; span=(2, 10), match='只有遠傳沒有距離'>"
      ]
     },
     "execution_count": 40,
     "metadata": {},
     "output_type": "execute_result"
    }
   ],
   "source": [
    "import re\n",
    "re.search(crystal.cxlist[0][0], \"12只有遠傳沒有距離\")"
   ]
  },
  {
   "cell_type": "code",
   "execution_count": 45,
   "metadata": {},
   "outputs": [
    {
     "data": {
      "text/plain": [
       "{'CxG': [('\\\\b\\\\w+到\\\\w*爆', 1)],\n",
       " 'onto': [('不穩定', '[通訊]網速', 2, 1.0), ('慢到爆', '[通訊]網速', 1, 1.0)]}"
      ]
     },
     "execution_count": 45,
     "metadata": {},
     "output_type": "execute_result"
    }
   ],
   "source": [
    "crystal.detect(\"遠傳不穩定，慢到爆\")"
   ]
  },
  {
   "cell_type": "code",
   "execution_count": 48,
   "metadata": {},
   "outputs": [
    {
     "data": {
      "text/plain": [
       "{'result': ('[通訊]網速', 1.5),\n",
       " 'eval_onto': {'[通訊]網速': (3.0, 2.0)},\n",
       " 'CxG': [('\\\\b\\\\w+到\\\\w*爆', 1)],\n",
       " 'onto': [('不穩定', '[通訊]網速', 2, 1.0), ('慢到爆', '[通訊]網速', 1, 1.0)]}"
      ]
     },
     "execution_count": 48,
     "metadata": {},
     "output_type": "execute_result"
    }
   ],
   "source": [
    "crystal.analyze(\"遠傳不穩定，慢到爆\")"
   ]
  },
  {
   "cell_type": "code",
   "execution_count": 60,
   "metadata": {},
   "outputs": [
    {
     "data": {
      "text/plain": [
       "{'result': (None, 1), 'eval_onto': {}, 'CxG': [('\\\\b\\\\w+是在哈囉', 1)], 'onto': []}"
      ]
     },
     "execution_count": 60,
     "metadata": {},
     "output_type": "execute_result"
    }
   ],
   "source": [
    "crystal.analyze(\"你那麼堅持是在哈囉\")"
   ]
  },
  {
   "cell_type": "code",
   "execution_count": 58,
   "metadata": {},
   "outputs": [
    {
     "data": {
      "text/plain": [
       "{'CxG': [], 'onto': []}"
      ]
     },
     "execution_count": 58,
     "metadata": {},
     "output_type": "execute_result"
    }
   ],
   "source": []
  },
  {
   "cell_type": "code",
   "execution_count": null,
   "metadata": {},
   "outputs": [],
   "source": []
  }
 ],
 "metadata": {
  "kernelspec": {
   "display_name": "Python 3",
   "language": "python",
   "name": "python3"
  },
  "language_info": {
   "codemirror_mode": {
    "name": "ipython",
    "version": 3
   },
   "file_extension": ".py",
   "mimetype": "text/x-python",
   "name": "python",
   "nbconvert_exporter": "python",
   "pygments_lexer": "ipython3",
   "version": "3.8.2"
  }
 },
 "nbformat": 4,
 "nbformat_minor": 4
}

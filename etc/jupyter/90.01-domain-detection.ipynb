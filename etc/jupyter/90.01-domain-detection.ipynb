{
 "cells": [
  {
   "cell_type": "code",
   "execution_count": 1,
   "metadata": {},
   "outputs": [],
   "source": [
    "%load_ext autoreload\n",
    "%autoreload 2"
   ]
  },
  {
   "cell_type": "code",
   "execution_count": 2,
   "metadata": {},
   "outputs": [],
   "source": [
    "from ipywidgets import widgets, Layout\n",
    "from IPython.display import display,clear_output"
   ]
  },
  {
   "cell_type": "code",
   "execution_count": 3,
   "metadata": {},
   "outputs": [],
   "source": [
    "import numpy as np\n",
    "import matplotlib.pyplot as plt\n",
    "from matplotlib.font_manager import FontProperties\n",
    "from matplotlib import font_manager\n",
    "from import_casa import casa\n",
    "font = FontProperties(fname=casa.get_data_path() / \"font/NotoSansCJK-Regular.ttc\")\n",
    "plt.rcParams[\"font.family\"] = \"Microsoft YaHei\" "
   ]
  },
  {
   "cell_type": "code",
   "execution_count": 4,
   "metadata": {},
   "outputs": [],
   "source": [
    "from casa import Cadet"
   ]
  },
  {
   "cell_type": "code",
   "execution_count": 5,
   "metadata": {},
   "outputs": [
    {
     "name": "stderr",
     "output_type": "stream",
     "text": [
      "[INFO] 2021-01-28 12:57:16,931 gensim.utils: loading Word2VecKeyedVectors object from /Users/seantyh/langon/casa/data/cadet/op20/ft-2020.kv\n",
      "[INFO] 2021-01-28 12:57:17,207 gensim.utils: setting ignored attribute vectors_norm to None\n",
      "[INFO] 2021-01-28 12:57:17,208 gensim.utils: setting ignored attribute vectors_vocab_norm to None\n",
      "[INFO] 2021-01-28 12:57:17,208 gensim.utils: setting ignored attribute vectors_ngrams_norm to None\n",
      "[INFO] 2021-01-28 12:57:17,209 gensim.utils: setting ignored attribute buckets_word to None\n",
      "[INFO] 2021-01-28 12:57:17,209 gensim.utils: loaded /Users/seantyh/langon/casa/data/cadet/op20/ft-2020.kv\n",
      "[INFO] 2021-01-28 12:57:17,209 gensim.models.keyedvectors: precomputing L2-norms of word weight vectors\n",
      "[INFO] 2021-01-28 12:57:17,216 gensim.models.keyedvectors: precomputing L2-norms of ngram weight vectors\n"
     ]
    },
    {
     "data": {
      "text/plain": [
       "<Cadet: FastText(9851, 200), Seeds(103)>"
      ]
     },
     "execution_count": 5,
     "metadata": {},
     "output_type": "execute_result"
    }
   ],
   "source": [
    "cadet = Cadet.load(casa.get_data_path()/\"cadet/op20\")\n",
    "cadet"
   ]
  },
  {
   "cell_type": "code",
   "execution_count": 6,
   "metadata": {},
   "outputs": [
    {
     "data": {
      "text/plain": [
       "{'entity': ['中華電信', '台灣大哥大', '遠傳電信', '台灣之星', '亞太電信', '其他電信'],\n",
       " 'entity_probs': array([0.94104001, 0.01306771, 0.01242239, 0.01155992, 0.0118678 ,\n",
       "        0.01004217]),\n",
       " 'service': ['資費方案', '通訊品質', '加值服務', '其他'],\n",
       " 'service_probs': array([0.96569904, 0.01162185, 0.01281314, 0.00986597]),\n",
       " 'seeds': ['吃到飽', '大4G', '方案', '轉4G', '升級4G'],\n",
       " 'seed_probs': array([0.5145627 , 0.00778411, 0.00764274, 0.00757279, 0.00757279])}"
      ]
     },
     "execution_count": 6,
     "metadata": {},
     "output_type": "execute_result"
    }
   ],
   "source": [
    "data = cadet.detect(\"中華電信吃到飽很快\")\n",
    "data"
   ]
  },
  {
   "cell_type": "code",
   "execution_count": 7,
   "metadata": {},
   "outputs": [],
   "source": [
    "def plot_detect_data(data, axes):       \n",
    "    plt.ioff()\n",
    "    plt.subplots_adjust(wspace=0.5)\n",
    "    axes[0].barh(np.arange(len(data[\"entity\"])), data[\"entity_probs\"])\n",
    "    axes[0].set_yticks(np.arange(len(data[\"entity\"])))\n",
    "    axes[0].set_yticklabels(data[\"entity\"], fontproperties=font)\n",
    "    axes[0].set_xlabel(\"probs\")\n",
    "    axes[0].set_xlim([0, 1.1])\n",
    "    axes[1].barh(np.arange(len(data[\"service\"])), \n",
    "                 data[\"service_probs\"])\n",
    "    axes[1].set_yticks(np.arange(len(data[\"service\"])))\n",
    "    axes[1].set_yticklabels(data[\"service\"], fontproperties=font)\n",
    "    axes[1].set_xlabel(\"probs\")\n",
    "    axes[1].set_xlim([0, 1.1])\n",
    "    plt.setp(axes[0].get_yticklabels(), Fontsize=14)\n",
    "    plt.setp(axes[1].get_yticklabels(), Fontsize=14) "
   ]
  },
  {
   "cell_type": "code",
   "execution_count": 8,
   "metadata": {},
   "outputs": [
    {
     "name": "stderr",
     "output_type": "stream",
     "text": [
      "/Users/seantyh/anaconda3/lib/python3.7/site-packages/ipykernel_launcher.py:15: MatplotlibDeprecationWarning: Case-insensitive properties were deprecated in 3.3 and support will be removed two minor releases later\n",
      "  from ipykernel import kernelapp as app\n",
      "/Users/seantyh/anaconda3/lib/python3.7/site-packages/ipykernel_launcher.py:16: MatplotlibDeprecationWarning: Case-insensitive properties were deprecated in 3.3 and support will be removed two minor releases later\n",
      "  app.launch_new_instance()\n",
      "[WARNING] 2021-01-28 12:57:17,417 matplotlib.font_manager: findfont: Font family ['Microsoft YaHei'] not found. Falling back to DejaVu Sans.\n"
     ]
    },
    {
     "data": {
      "image/png": "[encoded data removed]",
      "text/plain": [
       "<Figure size 720x216 with 2 Axes>"
      ]
     },
     "metadata": {
      "needs_background": "light"
     },
     "output_type": "display_data"
    }
   ],
   "source": [
    "data = cadet.detect(\"武漢肺炎篩檢好貴\")\n",
    "fig, axes = plt.subplots(1, 2, figsize=(10,3))\n",
    "_ = plot_detect_data(data, axes);\n"
   ]
  },
  {
   "cell_type": "code",
   "execution_count": 9,
   "metadata": {},
   "outputs": [
    {
     "data": {
      "application/vnd.jupyter.widget-view+json": {
       "model_id": "f025e6071eae46c5a0b7ac0d9d5d89aa",
       "version_major": 2,
       "version_minor": 0
      },
      "text/plain": [
       "VBox(children=(HBox(children=(Text(value='中華的吃到飽很快', description='測試文句', layout=Layout(width='500px')), Button…"
      ]
     },
     "metadata": {},
     "output_type": "display_data"
    },
    {
     "name": "stderr",
     "output_type": "stream",
     "text": [
      "/Users/seantyh/anaconda3/lib/python3.7/site-packages/ipykernel_launcher.py:15: MatplotlibDeprecationWarning: Case-insensitive properties were deprecated in 3.3 and support will be removed two minor releases later\n",
      "  from ipykernel import kernelapp as app\n",
      "/Users/seantyh/anaconda3/lib/python3.7/site-packages/ipykernel_launcher.py:16: MatplotlibDeprecationWarning: Case-insensitive properties were deprecated in 3.3 and support will be removed two minor releases later\n",
      "  app.launch_new_instance()\n"
     ]
    }
   ],
   "source": [
    "button = widgets.Button(description=\"偵測\")\n",
    "textbox = widgets.Text(description=\"測試文句\", value=\"中華的吃到飽很快\", layout=Layout(width=\"500px\"))\n",
    "input_widgets = widgets.HBox([textbox, button])\n",
    "keyword_label = widgets.Label(value=\"服務關鍵詞：\" + \" \".join(data[\"seeds\"]))\n",
    "outbox = widgets.Output(layout=widgets.Layout(height='400px', width='600px'))\n",
    "layout = widgets.VBox([\n",
    "    input_widgets, keyword_label, outbox\n",
    "    ])\n",
    "\n",
    "def click(ev):    \n",
    "    plt.ioff()\n",
    "    data = cadet.detect(textbox.value)\n",
    "    fig, axes = plt.subplots(1, 2, figsize=(10,4))\n",
    "    plot_detect_data(data, axes);\n",
    "    keyword_label.value = \"服務關鍵詞：\" + \" \".join(data[\"seeds\"])\n",
    "    with outbox:\n",
    "        clear_output(wait=True)\n",
    "        display(fig)\n",
    "\n",
    "display(layout)\n",
    "click(None);\n",
    "button.on_click(click)\n",
    "plt.close()"
   ]
  },
  {
   "cell_type": "markdown",
   "metadata": {},
   "source": [
    "## The Service Aspect Detection Module\n",
    "\n",
    "A SentencePiece model is first trained on all the texts in the corpus. The texts are tokenzied with the trained model, and the resulting tokens, which are composed of 9851 unique tokens, are the input of a downstream FastText model. The FastText model is trained with hidden dimension of 200, window size of 10, and bucket size of 30K. \n",
    "\n",
    "To detect the relevant service aspects, the module requires a seed lexicon. The seed lexicon is first generated with the FastText model along with a predefined seed list. The FastText model produces the most similar 20 candidates words (SentencePiece tokens) for each seed. Afterward, an editor manully revises the content to ensure only relevant candidates entered the lexicon.  \n",
    "\n",
    "All three components: SentencePiece model, FastText model and seed lexicon, work together in the service detection. The input text is first tokenized with SentencePiece, and each tokens are projected into embedding space with FastText. Each token embeddings are compared with the seeds' embeddings, which are also provided by the FastText, to compute similarity scores. These scores are then transformed and softmaxed into probability distribution of categories.\n",
    "\n",
    "$$\n",
    "\\begin{align}\n",
    "\\textrm{sentence} & = (t_1, t_2, \\ldots, t_n)\\\\\n",
    "\\textrm{seeds} & = (w_1, w_2, \\ldots, w_q)\\\\\n",
    "v_i & = \\textrm{embedding}(t_i), \\textrm{token embeddings, which have $d$ dimensions} \\\\\n",
    "\\phi_j &= \\textrm{embedding}(w_j), \\textrm{seed candidates embeddings. There are $q$ candidates under $p$ seeds} \\\\\n",
    "T &= [v_1; v_2; \\ldots; v_n], \\textrm{tokens matrix, (n x d)} \\\\\n",
    "C &= [\\phi_1; \\phi_2; \\ldots; \\phi_q], \\textrm{candidates matrix, (q x d)} \\\\\n",
    "M &= T \\cdot C^{\\top}, \\textrm{token-candidate similarity matrix, (n x q)} \\\\\n",
    "Z &= \\textrm{aggregate}(M), \\textrm{token-seed similarity matrix, aggregate candidates under the same seeds, (n x p)} \\\\\n",
    "V &= \\textrm{collapse}(Z), \\textrm{seed score vector, collapse candidates similarity along the token axis, (p,1)} \\\\\n",
    "p(\\textrm{entity}) &= \\textrm{softmax-transform}(V_{\\textrm{entity}}) \\\\\n",
    "p(\\textrm{service}) &= \\textrm{softmax-transform}(V_{\\textrm{service}}) \\\\\n",
    "p(\\textrm{seed}) &= \\textrm{softmax-transform}(V_{\\textrm{seed}}) \\\\\n",
    "\\end{align}\n",
    "$$"
   ]
  },
  {
   "cell_type": "markdown",
   "metadata": {},
   "source": [
    "## Seed embeddings"
   ]
  },
  {
   "cell_type": "code",
   "execution_count": 25,
   "metadata": {},
   "outputs": [],
   "source": [
    "w1 = \"不限速吃到飽、4G吃到飽、5G吃到飽、上網吃到飽、499吃到飽、不降速、限速\".split(\"、\")\n",
    "w2 = \"繳費、悠遊卡、銀行、信用卡、帳單、加值、現金、費用、聯名卡\".split(\"、\")\n",
    "w3 = \"網速、覆蓋率、高速、頻寬、3G、很慢、涵蓋、測速、滿格、品質、連線\".split(\"、\")\n",
    "wv = cadet.kv\n",
    "words = w1+w2+w3\n",
    "wclasses = [1]*len(w1) + [2]*len(w2) + [3]*len(w3)\n",
    "wvecs = np.vstack([wv.get_vector(w) for w in words])"
   ]
  },
  {
   "cell_type": "code",
   "execution_count": 26,
   "metadata": {},
   "outputs": [],
   "source": [
    "from sklearn.decomposition import PCA"
   ]
  },
  {
   "cell_type": "code",
   "execution_count": 27,
   "metadata": {},
   "outputs": [],
   "source": [
    "pca = PCA(2)\n",
    "wv2d = pca.fit_transform(wvecs)"
   ]
  },
  {
   "cell_type": "code",
   "execution_count": 28,
   "metadata": {},
   "outputs": [
    {
     "data": {
      "image/png": "[encoded data removed]",
      "text/plain": [
       "<Figure size 504x504 with 1 Axes>"
      ]
     },
     "metadata": {
      "needs_background": "light"
     },
     "output_type": "display_data"
    }
   ],
   "source": [
    "_, axes = plt.subplots(1, 1, figsize=(7,7))\n",
    "plt.scatter(wv2d[:,0], wv2d[:,1], c=wclasses, s=80, cmap=\"Set1\")\n",
    "flag = True\n",
    "for i in range(wvecs.shape[0]):\n",
    "    if i % 2 != 0: continue\n",
    "    if words[i].startswith(\"5G\"): continue\n",
    "    va_val = \"top\" if flag else \"bottom\"\n",
    "    axes.annotate(words[i], (wv2d[i][0], wv2d[i][1]), \n",
    "                  fontsize=16, va=va_val)\n",
    "    flag = !flag"
   ]
  },
  {
   "cell_type": "markdown",
   "metadata": {},
   "source": []
  }
 ],
 "metadata": {
  "kernelspec": {
   "display_name": "Python 3",
   "language": "python",
   "name": "python3"
  },
  "language_info": {
   "codemirror_mode": {
    "name": "ipython",
    "version": 3
   },
   "file_extension": ".py",
   "mimetype": "text/x-python",
   "name": "python",
   "nbconvert_exporter": "python",
   "pygments_lexer": "ipython3",
   "version": "3.7.4"
  }
 },
 "nbformat": 4,
 "nbformat_minor": 4
}

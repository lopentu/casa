{
 "cells": [
  {
   "cell_type": "code",
   "execution_count": 1,
   "metadata": {},
   "outputs": [],
   "source": [
    "%load_ext autoreload\n",
    "%autoreload 2"
   ]
  },
  {
   "cell_type": "code",
   "execution_count": 2,
   "metadata": {},
   "outputs": [],
   "source": [
    "from ipywidgets import widgets, Layout\n",
    "from IPython.display import display,clear_output"
   ]
  },
  {
   "cell_type": "code",
   "execution_count": 3,
   "metadata": {},
   "outputs": [],
   "source": [
    "import numpy as np\n",
    "import matplotlib.pyplot as plt\n",
    "from matplotlib.font_manager import FontProperties\n",
    "from matplotlib import font_manager\n",
    "from import_casa import casa\n",
    "font = FontProperties(fname=casa.get_data_path() / \"font/NotoSansCJK-Regular.ttc\")\n",
    "plt.rcParams[\"font.family\"] = \"Microsoft YaHei\" "
   ]
  },
  {
   "cell_type": "code",
   "execution_count": 4,
   "metadata": {},
   "outputs": [],
   "source": [
    "from casa import Cadet"
   ]
  },
  {
   "cell_type": "code",
   "execution_count": 34,
   "metadata": {},
   "outputs": [
    {
     "name": "stderr",
     "output_type": "stream",
     "text": [
      "[INFO] 2021-05-06 13:35:55,179 gensim.utils: loading KeyedVectors object from E:\\LangOn\\casa\\data\\cadet\\op20\\ft-2020.kv\n",
      "[INFO] 2021-05-06 13:35:55,473 gensim.utils: setting ignored attribute vectors_norm to None\n",
      "[INFO] 2021-05-06 13:35:55,475 gensim.utils: setting ignored attribute vectors_vocab_norm to None\n",
      "[INFO] 2021-05-06 13:35:55,475 gensim.utils: setting ignored attribute vectors_ngrams_norm to None\n",
      "[INFO] 2021-05-06 13:35:55,476 gensim.utils: setting ignored attribute buckets_word to None\n",
      "[INFO] 2021-05-06 13:35:55,597 gensim.utils: FastTextKeyedVectors lifecycle event {'fname': 'E:\\\\LangOn\\\\casa\\\\data\\\\cadet\\\\op20\\\\ft-2020.kv', 'datetime': '2021-05-06T13:35:55.597988', 'gensim': '4.0.0', 'python': '3.8.2 (tags/v3.8.2:7b3ab59, Feb 25 2020, 23:03:10) [MSC v.1916 64 bit (AMD64)]', 'platform': 'Windows-10-10.0.18362-SP0', 'event': 'loaded'}\n",
      "[WARNING] 2021-05-06 13:35:55,603 gensim.models.keyedvectors: destructive init_sims(replace=True) deprecated & no longer required for space-efficiency\n"
     ]
    },
    {
     "data": {
      "text/plain": [
       "<Cadet: FastText(9851, 200), Seeds(103)>"
      ]
     },
     "execution_count": 34,
     "metadata": {},
     "output_type": "execute_result"
    }
   ],
   "source": [
    "cadet = Cadet.load(casa.get_data_path()/\"cadet/op20\")\n",
    "cadet"
   ]
  },
  {
   "cell_type": "code",
   "execution_count": 35,
   "metadata": {},
   "outputs": [
    {
     "data": {
      "text/plain": [
       "['無框', '魔方', 'linemobile']"
      ]
     },
     "execution_count": 35,
     "metadata": {},
     "output_type": "execute_result"
    }
   ],
   "source": [
    "cadet.lexicon.get_candidate(\"其他電信\")"
   ]
  },
  {
   "cell_type": "code",
   "execution_count": 37,
   "metadata": {},
   "outputs": [
    {
     "data": {
      "text/plain": [
       "array([[0.25377423, 0.18686765, 0.12231023, 0.14564961, 0.08818168,\n",
       "        0.27193236],\n",
       "       [0.08460444, 0.08534682, 0.13290115, 0.07582384, 0.08020497,\n",
       "        0.14025803],\n",
       "       [0.6359725 , 0.6595124 , 0.99999994, 0.56385303, 0.55743235,\n",
       "        0.43274459],\n",
       "       [0.31812307, 0.3294349 , 0.20655231, 0.28475246, 0.20942645,\n",
       "        0.3874301 ],\n",
       "       [1.00000012, 0.65948117, 0.6359725 , 0.57567722, 0.58114576,\n",
       "        0.4298248 ]])"
      ]
     },
     "execution_count": 37,
     "metadata": {},
     "output_type": "execute_result"
    }
   ],
   "source": [
    "cadet.build_seedsims_matrix(\"我要從遠傳np到中華\")[:, :6]"
   ]
  },
  {
   "cell_type": "code",
   "execution_count": 40,
   "metadata": {},
   "outputs": [
    {
     "name": "stdout",
     "output_type": "stream",
     "text": [
      "tokens:  ['不過', '中華電信', '吃到飽', '山區', '收訊', '很差']\n",
      "ent_scores [1.         0.72315866 0.67251456 0.60055864 0.62684321 0.45980722]\n",
      "srv_scores [1.         1.         0.6776185  0.41623956]\n",
      "seed_scores(topn) [1. 1. 1. 1. 1.]\n"
     ]
    },
    {
     "data": {
      "text/plain": [
       "{'entity': ['中華電信', '台灣大哥大', '遠傳電信', '台灣之星', '亞太電信', '其他電信'],\n",
       " 'entity_probs': array([0.94104001, 0.01306771, 0.01242239, 0.01155992, 0.0118678 ,\n",
       "        0.01004217]),\n",
       " 'service': ['資費方案', '通訊品質', '加值服務', '其他'],\n",
       " 'service_probs': array([0.49419698, 0.49419698, 0.00655713, 0.00504892]),\n",
       " 'seeds': ['滿格', '訊號', '信號', '吃到飽', '網速'],\n",
       " 'seed_probs': array([0.12621782, 0.12621782, 0.12621782, 0.12621782, 0.12621782])}"
      ]
     },
     "execution_count": 40,
     "metadata": {},
     "output_type": "execute_result"
    }
   ],
   "source": [
    "data = cadet.detect(\"不過中華電信的吃到飽在山區收訊很差\", verbose=True)\n",
    "data"
   ]
  },
  {
   "cell_type": "code",
   "execution_count": 7,
   "metadata": {},
   "outputs": [],
   "source": [
    "def plot_detect_data(data, axes):       \n",
    "    plt.ioff()\n",
    "    plt.subplots_adjust(wspace=0.5)\n",
    "    axes[0].barh(np.arange(len(data[\"entity\"])), data[\"entity_probs\"])\n",
    "    axes[0].set_yticks(np.arange(len(data[\"entity\"])))\n",
    "    axes[0].set_yticklabels(data[\"entity\"], fontproperties=font)\n",
    "    axes[0].set_xlabel(\"probs\")\n",
    "    axes[0].set_xlim([0, 1.1])\n",
    "    axes[1].barh(np.arange(len(data[\"service\"])), \n",
    "                 data[\"service_probs\"])\n",
    "    axes[1].set_yticks(np.arange(len(data[\"service\"])))\n",
    "    axes[1].set_yticklabels(data[\"service\"], fontproperties=font)\n",
    "    axes[1].set_xlabel(\"probs\")\n",
    "    axes[1].set_xlim([0, 1.1])\n",
    "    plt.setp(axes[0].get_yticklabels(), Fontsize=14)\n",
    "    plt.setp(axes[1].get_yticklabels(), Fontsize=14) "
   ]
  },
  {
   "cell_type": "code",
   "execution_count": 13,
   "metadata": {},
   "outputs": [
    {
     "data": {
      "application/vnd.jupyter.widget-view+json": {
       "model_id": "a59f5a9c3c1d4246a4a2facceab749ff",
       "version_major": 2,
       "version_minor": 0
      },
      "text/plain": [
       "VBox(children=(HBox(children=(Text(value='中華的吃到飽很快', description='測試文句', layout=Layout(width='500px')), Button…"
      ]
     },
     "metadata": {},
     "output_type": "display_data"
    },
    {
     "name": "stderr",
     "output_type": "stream",
     "text": [
      "/Users/seantyh/anaconda3/lib/python3.7/site-packages/ipykernel_launcher.py:15: MatplotlibDeprecationWarning: Case-insensitive properties were deprecated in 3.3 and support will be removed two minor releases later\n",
      "  from ipykernel import kernelapp as app\n",
      "/Users/seantyh/anaconda3/lib/python3.7/site-packages/ipykernel_launcher.py:16: MatplotlibDeprecationWarning: Case-insensitive properties were deprecated in 3.3 and support will be removed two minor releases later\n",
      "  app.launch_new_instance()\n"
     ]
    }
   ],
   "source": [
    "button = widgets.Button(description=\"偵測\")\n",
    "textbox = widgets.Text(description=\"測試文句\", value=\"中華的吃到飽很快\", layout=Layout(width=\"500px\"))\n",
    "input_widgets = widgets.HBox([textbox, button])\n",
    "keyword_label = widgets.Label(value=\"服務關鍵詞：\" + \" \".join(data[\"seeds\"]))\n",
    "outbox = widgets.Output(layout=widgets.Layout(height='400px', width='600px'))\n",
    "layout = widgets.VBox([\n",
    "    input_widgets, keyword_label, outbox\n",
    "    ])\n",
    "\n",
    "def click(ev):    \n",
    "    plt.ioff()\n",
    "    data = cadet.detect(textbox.value)\n",
    "    fig, axes = plt.subplots(1, 2, figsize=(10,4))\n",
    "    plot_detect_data(data, axes);\n",
    "    keyword_label.value = \"服務關鍵詞：\" + \" \".join(data[\"seeds\"])\n",
    "    with outbox:\n",
    "        clear_output(wait=True)\n",
    "        display(fig)\n",
    "\n",
    "display(layout)\n",
    "click(None);\n",
    "button.on_click(click)\n",
    "plt.close()"
   ]
  },
  {
   "cell_type": "markdown",
   "metadata": {},
   "source": [
    "## The Service Aspect Detection Module\n",
    "\n",
    "A SentencePiece model is first trained on all the texts in the corpus. The texts are tokenzied with the trained model, and the resulting tokens, which are composed of 9851 unique tokens, are the input of a downstream FastText model. The FastText model is trained with hidden dimension of 200, window size of 10, and bucket size of 30K. \n",
    "\n",
    "To detect the relevant service aspects, the module requires a seed lexicon. The seed lexicon is first generated with the FastText model along with a predefined seed list. The FastText model produces the most similar 20 candidates words (SentencePiece tokens) for each seed. Afterward, an editor manully revises the content to ensure only relevant candidates entered the lexicon.  \n",
    "\n",
    "All three components: SentencePiece model, FastText model and seed lexicon, work together in the service detection. The input text is first tokenized with SentencePiece, and each tokens are projected into embedding space with FastText. Each token embeddings are compared with the seeds' embeddings, which are also provided by the FastText, to compute similarity scores. These scores are then transformed and softmaxed into probability distribution of categories.\n",
    "\n",
    "$$\n",
    "\\begin{align}\n",
    "\\textrm{sentence} & = (t_1, t_2, \\ldots, t_n)\\\\\n",
    "\\textrm{seeds} & = (w_1, w_2, \\ldots, w_q)\\\\\n",
    "v_i & = \\textrm{embedding}(t_i), \\textrm{token embeddings, which have $d$ dimensions} \\\\\n",
    "\\phi_j &= \\textrm{embedding}(w_j), \\textrm{seed candidates embeddings. There are $q$ candidates under $p$ seeds} \\\\\n",
    "T &= [v_1; v_2; \\ldots; v_n], \\textrm{tokens matrix, (n x d)} \\\\\n",
    "C &= [\\phi_1; \\phi_2; \\ldots; \\phi_q], \\textrm{candidates matrix, (q x d)} \\\\\n",
    "M &= T \\cdot C^{\\top}, \\textrm{token-candidate similarity matrix, (n x q)} \\\\\n",
    "Z &= \\textrm{aggregate}(M), \\textrm{token-seed similarity matrix, aggregate candidates under the same seeds, (n x p)} \\\\\n",
    "V &= \\textrm{collapse}(Z), \\textrm{seed score vector, collapse candidates similarity along the token axis, (p,1)} \\\\\n",
    "p(\\textrm{entity}) &= \\textrm{softmax-transform}(V_{\\textrm{entity}}) \\\\\n",
    "p(\\textrm{service}) &= \\textrm{softmax-transform}(V_{\\textrm{service}}) \\\\\n",
    "p(\\textrm{seed}) &= \\textrm{softmax-transform}(V_{\\textrm{seed}}) \\\\\n",
    "\\end{align}\n",
    "$$"
   ]
  },
  {
   "cell_type": "markdown",
   "metadata": {},
   "source": [
    "## Seed embeddings"
   ]
  },
  {
   "cell_type": "code",
   "execution_count": 25,
   "metadata": {},
   "outputs": [],
   "source": [
    "w1 = \"不限速吃到飽、4G吃到飽、5G吃到飽、上網吃到飽、499吃到飽、不降速、限速\".split(\"、\")\n",
    "w2 = \"繳費、悠遊卡、銀行、信用卡、帳單、加值、現金、費用、聯名卡\".split(\"、\")\n",
    "w3 = \"網速、覆蓋率、高速、頻寬、3G、很慢、涵蓋、測速、滿格、品質、連線\".split(\"、\")\n",
    "wv = cadet.kv\n",
    "words = w1+w2+w3\n",
    "wclasses = [1]*len(w1) + [2]*len(w2) + [3]*len(w3)\n",
    "wvecs = np.vstack([wv.get_vector(w) for w in words])"
   ]
  },
  {
   "cell_type": "code",
   "execution_count": 26,
   "metadata": {},
   "outputs": [],
   "source": [
    "from sklearn.decomposition import PCA"
   ]
  },
  {
   "cell_type": "code",
   "execution_count": 27,
   "metadata": {},
   "outputs": [],
   "source": [
    "pca = PCA(2)\n",
    "wv2d = pca.fit_transform(wvecs)"
   ]
  },
  {
   "cell_type": "code",
   "execution_count": 28,
   "metadata": {},
   "outputs": [
    {
     "data": {
      "image/png": "[encoded data removed]",
      "text/plain": [
       "<Figure size 504x504 with 1 Axes>"
      ]
     },
     "metadata": {
      "needs_background": "light"
     },
     "output_type": "display_data"
    }
   ],
   "source": [
    "_, axes = plt.subplots(1, 1, figsize=(7,7))\n",
    "plt.scatter(wv2d[:,0], wv2d[:,1], c=wclasses, s=80, cmap=\"Set1\")\n",
    "flag = True\n",
    "for i in range(wvecs.shape[0]):\n",
    "    if i % 2 != 0: continue\n",
    "    if words[i].startswith(\"5G\"): continue\n",
    "    va_val = \"top\" if flag else \"bottom\"\n",
    "    axes.annotate(words[i], (wv2d[i][0], wv2d[i][1]), \n",
    "                  fontsize=16, va=va_val)\n",
    "    flag = !flag"
   ]
  },
  {
   "cell_type": "markdown",
   "metadata": {},
   "source": []
  }
 ],
 "metadata": {
  "kernelspec": {
   "display_name": "Python 3",
   "language": "python",
   "name": "python3"
  },
  "language_info": {
   "codemirror_mode": {
    "name": "ipython",
    "version": 3
   },
   "file_extension": ".py",
   "mimetype": "text/x-python",
   "name": "python",
   "nbconvert_exporter": "python",
   "pygments_lexer": "ipython3",
   "version": "3.8.2"
  }
 },
 "nbformat": 4,
 "nbformat_minor": 4
}

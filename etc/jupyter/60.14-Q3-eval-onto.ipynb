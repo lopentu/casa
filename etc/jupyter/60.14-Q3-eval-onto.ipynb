{
 "cells": [
  {
   "cell_type": "code",
   "execution_count": 67,
   "metadata": {},
   "outputs": [
    {
     "name": "stderr",
     "output_type": "stream",
     "text": [
      "Loading required package: showtext\n",
      "\n",
      "Loading required package: sysfonts\n",
      "\n",
      "Loading required package: showtextdb\n",
      "\n"
     ]
    }
   ],
   "source": [
    "require(readr)\n",
    "require(dplyr)\n",
    "require(ggplot2)\n",
    "require(RColorBrewer)\n",
    "require(showtext)\n",
    "showtext_auto()"
   ]
  },
  {
   "cell_type": "code",
   "execution_count": 7,
   "metadata": {},
   "outputs": [
    {
     "name": "stderr",
     "output_type": "stream",
     "text": [
      "\n",
      "\u001b[36m--\u001b[39m \u001b[1m\u001b[1mColumn specification\u001b[1m\u001b[22m \u001b[36m----------------------------------------------------------------------------------------------------------\u001b[39m\n",
      "cols(\n",
      "  attribute = \u001b[31mcol_character()\u001b[39m,\n",
      "  candidate = \u001b[31mcol_character()\u001b[39m,\n",
      "  polarity = \u001b[32mcol_double()\u001b[39m,\n",
      "  relatedness = \u001b[32mcol_double()\u001b[39m\n",
      ")\n",
      "\n",
      "\n"
     ]
    }
   ],
   "source": [
    "data = read_csv(\"../../data/constructicon/eval_onto_annot_concate.csv\")"
   ]
  },
  {
   "cell_type": "code",
   "execution_count": 121,
   "metadata": {},
   "outputs": [
    {
     "data": {
      "text/html": [
       "<style>\n",
       ".list-inline {list-style: none; margin:0; padding: 0}\n",
       ".list-inline>li {display: inline-block}\n",
       ".list-inline>li:not(:last-child)::after {content: \"\\00b7\"; padding: 0 .5ex}\n",
       "</style>\n",
       "<ol class=list-inline><li>6</li><li>59</li><li>60</li><li>68</li><li>69</li><li>7</li><li>8</li><li>9</li><li>66</li><li>71</li><li>72</li><li>73</li><li>62</li><li>63</li><li>64</li><li>75</li><li>1</li><li>2</li><li>3</li><li>4</li><li>5</li><li>61</li><li>67</li><li>50</li><li>51</li><li>52</li><li>53</li><li>54</li><li>55</li><li>56</li><li>57</li><li>77</li><li>65</li><li>58</li><li>74</li><li>10</li><li>11</li><li>12</li><li>13</li><li>14</li><li>15</li><li>16</li><li>17</li><li>18</li><li>19</li><li>20</li><li>21</li><li>22</li><li>23</li><li>24</li><li>25</li><li>26</li><li>27</li><li>28</li><li>29</li><li>30</li><li>31</li><li>32</li><li>33</li><li>34</li><li>35</li><li>36</li><li>37</li><li>38</li><li>39</li><li>40</li><li>41</li><li>42</li><li>43</li><li>44</li><li>45</li><li>46</li><li>47</li><li>48</li><li>49</li><li>70</li><li>79</li><li>80</li><li>81</li><li>82</li><li>83</li><li>84</li><li>85</li><li>86</li><li>87</li><li>88</li><li>89</li><li>90</li><li>91</li><li>92</li><li>93</li><li>94</li><li>95</li><li>96</li><li>97</li><li>98</li><li>99</li><li>100</li><li>101</li><li>102</li><li>103</li><li>104</li><li>105</li><li>106</li><li>107</li><li>108</li><li>109</li><li>110</li><li>111</li><li>112</li><li>113</li><li>114</li><li>115</li><li>116</li><li>117</li><li>118</li><li>119</li><li>120</li><li>121</li><li>122</li><li>123</li><li>124</li><li>125</li><li>126</li><li>127</li><li>128</li><li>129</li><li>130</li><li>131</li><li>132</li><li>133</li><li>134</li><li>135</li><li>136</li><li>137</li><li>138</li><li>139</li><li>140</li><li>141</li><li>151</li><li>76</li><li>150</li><li>142</li><li>143</li><li>144</li><li>145</li><li>146</li><li>147</li><li>148</li><li>149</li><li>152</li><li>153</li><li>154</li><li>155</li><li>156</li><li>157</li><li>158</li><li>159</li><li>78</li></ol>\n"
      ],
      "text/latex": [
       "\\begin{enumerate*}\n",
       "\\item 6\n",
       "\\item 59\n",
       "\\item 60\n",
       "\\item 68\n",
       "\\item 69\n",
       "\\item 7\n",
       "\\item 8\n",
       "\\item 9\n",
       "\\item 66\n",
       "\\item 71\n",
       "\\item 72\n",
       "\\item 73\n",
       "\\item 62\n",
       "\\item 63\n",
       "\\item 64\n",
       "\\item 75\n",
       "\\item 1\n",
       "\\item 2\n",
       "\\item 3\n",
       "\\item 4\n",
       "\\item 5\n",
       "\\item 61\n",
       "\\item 67\n",
       "\\item 50\n",
       "\\item 51\n",
       "\\item 52\n",
       "\\item 53\n",
       "\\item 54\n",
       "\\item 55\n",
       "\\item 56\n",
       "\\item 57\n",
       "\\item 77\n",
       "\\item 65\n",
       "\\item 58\n",
       "\\item 74\n",
       "\\item 10\n",
       "\\item 11\n",
       "\\item 12\n",
       "\\item 13\n",
       "\\item 14\n",
       "\\item 15\n",
       "\\item 16\n",
       "\\item 17\n",
       "\\item 18\n",
       "\\item 19\n",
       "\\item 20\n",
       "\\item 21\n",
       "\\item 22\n",
       "\\item 23\n",
       "\\item 24\n",
       "\\item 25\n",
       "\\item 26\n",
       "\\item 27\n",
       "\\item 28\n",
       "\\item 29\n",
       "\\item 30\n",
       "\\item 31\n",
       "\\item 32\n",
       "\\item 33\n",
       "\\item 34\n",
       "\\item 35\n",
       "\\item 36\n",
       "\\item 37\n",
       "\\item 38\n",
       "\\item 39\n",
       "\\item 40\n",
       "\\item 41\n",
       "\\item 42\n",
       "\\item 43\n",
       "\\item 44\n",
       "\\item 45\n",
       "\\item 46\n",
       "\\item 47\n",
       "\\item 48\n",
       "\\item 49\n",
       "\\item 70\n",
       "\\item 79\n",
       "\\item 80\n",
       "\\item 81\n",
       "\\item 82\n",
       "\\item 83\n",
       "\\item 84\n",
       "\\item 85\n",
       "\\item 86\n",
       "\\item 87\n",
       "\\item 88\n",
       "\\item 89\n",
       "\\item 90\n",
       "\\item 91\n",
       "\\item 92\n",
       "\\item 93\n",
       "\\item 94\n",
       "\\item 95\n",
       "\\item 96\n",
       "\\item 97\n",
       "\\item 98\n",
       "\\item 99\n",
       "\\item 100\n",
       "\\item 101\n",
       "\\item 102\n",
       "\\item 103\n",
       "\\item 104\n",
       "\\item 105\n",
       "\\item 106\n",
       "\\item 107\n",
       "\\item 108\n",
       "\\item 109\n",
       "\\item 110\n",
       "\\item 111\n",
       "\\item 112\n",
       "\\item 113\n",
       "\\item 114\n",
       "\\item 115\n",
       "\\item 116\n",
       "\\item 117\n",
       "\\item 118\n",
       "\\item 119\n",
       "\\item 120\n",
       "\\item 121\n",
       "\\item 122\n",
       "\\item 123\n",
       "\\item 124\n",
       "\\item 125\n",
       "\\item 126\n",
       "\\item 127\n",
       "\\item 128\n",
       "\\item 129\n",
       "\\item 130\n",
       "\\item 131\n",
       "\\item 132\n",
       "\\item 133\n",
       "\\item 134\n",
       "\\item 135\n",
       "\\item 136\n",
       "\\item 137\n",
       "\\item 138\n",
       "\\item 139\n",
       "\\item 140\n",
       "\\item 141\n",
       "\\item 151\n",
       "\\item 76\n",
       "\\item 150\n",
       "\\item 142\n",
       "\\item 143\n",
       "\\item 144\n",
       "\\item 145\n",
       "\\item 146\n",
       "\\item 147\n",
       "\\item 148\n",
       "\\item 149\n",
       "\\item 152\n",
       "\\item 153\n",
       "\\item 154\n",
       "\\item 155\n",
       "\\item 156\n",
       "\\item 157\n",
       "\\item 158\n",
       "\\item 159\n",
       "\\item 78\n",
       "\\end{enumerate*}\n"
      ],
      "text/markdown": [
       "1. 6\n",
       "2. 59\n",
       "3. 60\n",
       "4. 68\n",
       "5. 69\n",
       "6. 7\n",
       "7. 8\n",
       "8. 9\n",
       "9. 66\n",
       "10. 71\n",
       "11. 72\n",
       "12. 73\n",
       "13. 62\n",
       "14. 63\n",
       "15. 64\n",
       "16. 75\n",
       "17. 1\n",
       "18. 2\n",
       "19. 3\n",
       "20. 4\n",
       "21. 5\n",
       "22. 61\n",
       "23. 67\n",
       "24. 50\n",
       "25. 51\n",
       "26. 52\n",
       "27. 53\n",
       "28. 54\n",
       "29. 55\n",
       "30. 56\n",
       "31. 57\n",
       "32. 77\n",
       "33. 65\n",
       "34. 58\n",
       "35. 74\n",
       "36. 10\n",
       "37. 11\n",
       "38. 12\n",
       "39. 13\n",
       "40. 14\n",
       "41. 15\n",
       "42. 16\n",
       "43. 17\n",
       "44. 18\n",
       "45. 19\n",
       "46. 20\n",
       "47. 21\n",
       "48. 22\n",
       "49. 23\n",
       "50. 24\n",
       "51. 25\n",
       "52. 26\n",
       "53. 27\n",
       "54. 28\n",
       "55. 29\n",
       "56. 30\n",
       "57. 31\n",
       "58. 32\n",
       "59. 33\n",
       "60. 34\n",
       "61. 35\n",
       "62. 36\n",
       "63. 37\n",
       "64. 38\n",
       "65. 39\n",
       "66. 40\n",
       "67. 41\n",
       "68. 42\n",
       "69. 43\n",
       "70. 44\n",
       "71. 45\n",
       "72. 46\n",
       "73. 47\n",
       "74. 48\n",
       "75. 49\n",
       "76. 70\n",
       "77. 79\n",
       "78. 80\n",
       "79. 81\n",
       "80. 82\n",
       "81. 83\n",
       "82. 84\n",
       "83. 85\n",
       "84. 86\n",
       "85. 87\n",
       "86. 88\n",
       "87. 89\n",
       "88. 90\n",
       "89. 91\n",
       "90. 92\n",
       "91. 93\n",
       "92. 94\n",
       "93. 95\n",
       "94. 96\n",
       "95. 97\n",
       "96. 98\n",
       "97. 99\n",
       "98. 100\n",
       "99. 101\n",
       "100. 102\n",
       "101. 103\n",
       "102. 104\n",
       "103. 105\n",
       "104. 106\n",
       "105. 107\n",
       "106. 108\n",
       "107. 109\n",
       "108. 110\n",
       "109. 111\n",
       "110. 112\n",
       "111. 113\n",
       "112. 114\n",
       "113. 115\n",
       "114. 116\n",
       "115. 117\n",
       "116. 118\n",
       "117. 119\n",
       "118. 120\n",
       "119. 121\n",
       "120. 122\n",
       "121. 123\n",
       "122. 124\n",
       "123. 125\n",
       "124. 126\n",
       "125. 127\n",
       "126. 128\n",
       "127. 129\n",
       "128. 130\n",
       "129. 131\n",
       "130. 132\n",
       "131. 133\n",
       "132. 134\n",
       "133. 135\n",
       "134. 136\n",
       "135. 137\n",
       "136. 138\n",
       "137. 139\n",
       "138. 140\n",
       "139. 141\n",
       "140. 151\n",
       "141. 76\n",
       "142. 150\n",
       "143. 142\n",
       "144. 143\n",
       "145. 144\n",
       "146. 145\n",
       "147. 146\n",
       "148. 147\n",
       "149. 148\n",
       "150. 149\n",
       "151. 152\n",
       "152. 153\n",
       "153. 154\n",
       "154. 155\n",
       "155. 156\n",
       "156. 157\n",
       "157. 158\n",
       "158. 159\n",
       "159. 78\n",
       "\n",
       "\n"
      ],
      "text/plain": [
       "  [1]   6  59  60  68  69   7   8   9  66  71  72  73  62  63  64  75   1   2\n",
       " [19]   3   4   5  61  67  50  51  52  53  54  55  56  57  77  65  58  74  10\n",
       " [37]  11  12  13  14  15  16  17  18  19  20  21  22  23  24  25  26  27  28\n",
       " [55]  29  30  31  32  33  34  35  36  37  38  39  40  41  42  43  44  45  46\n",
       " [73]  47  48  49  70  79  80  81  82  83  84  85  86  87  88  89  90  91  92\n",
       " [91]  93  94  95  96  97  98  99 100 101 102 103 104 105 106 107 108 109 110\n",
       "[109] 111 112 113 114 115 116 117 118 119 120 121 122 123 124 125 126 127 128\n",
       "[127] 129 130 131 132 133 134 135 136 137 138 139 140 141 151  76 150 142 143\n",
       "[145] 144 145 146 147 148 149 152 153 154 155 156 157 158 159  78"
      ]
     },
     "metadata": {},
     "output_type": "display_data"
    }
   ],
   "source": []
  },
  {
   "cell_type": "code",
   "execution_count": 130,
   "metadata": {},
   "outputs": [
    {
     "data": {
      "text/html": [
       "<strong>png:</strong> 2"
      ],
      "text/latex": [
       "\\textbf{png:} 2"
      ],
      "text/markdown": [
       "**png:** 2"
      ],
      "text/plain": [
       "png \n",
       "  2 "
      ]
     },
     "metadata": {},
     "output_type": "display_data"
    }
   ],
   "source": [
    "png(\"h:/eval_onto.png\", 800,4000,res=150)\n",
    "tab = xtabs(relatedness~candidate+attribute, \n",
    "      data %>% group_by(candidate, attribute) %>% \n",
    "      summarise(relatedness=floor(mean(relatedness)), .groups=\"drop\"))\n",
    "# hc = hclust(dist(tab))\n",
    "# tab = tab[rev(hc$order), ]\n",
    "tab = tab[order(apply(tab, 1, sum)), ]\n",
    "col_size = apply(tab, 2, function(x){sum(x!=0)})\n",
    "col_size_mat = t(apply(tab, 1, function(x){x[x!=0] = col_size[which(x!=0)]; x}))\n",
    "row_order = order(apply(col_size_mat, 1, sum))\n",
    "tab = tab[, order(-apply(tab, 2, function(x){length(which(x!=0))}))]\n",
    "tab = tab[row_order, ]\n",
    "# tab = tab[order(apply(tab, 1, function(x){min(which(x==0))})),]\n",
    "# tab[tab==0] = 3\n",
    "ggplot(as.data.frame(tab), aes(x=attribute, y=candidate, fill=Freq)) + \n",
    "    geom_tile() +\n",
    "    scale_fill_gradientn(colors=brewer.pal(8, 'Reds')) + \n",
    "    scale_x_discrete(position=\"top\")+\n",
    "    labs(x=\"\", y=\"\")+\n",
    "    theme(text=element_text(size=20), \n",
    "          legend.position=\"none\",\n",
    "          axis.text.x=element_text(angle=90, hjust=0))\n",
    "dev.off()"
   ]
  },
  {
   "cell_type": "code",
   "execution_count": 135,
   "metadata": {},
   "outputs": [
    {
     "data": {
      "text/html": [
       "<style>\n",
       ".dl-inline {width: auto; margin:0; padding: 0}\n",
       ".dl-inline>dt, .dl-inline>dd {float: none; width: auto; display: inline-block}\n",
       ".dl-inline>dt::after {content: \":\\0020\"; padding-right: .5ex}\n",
       ".dl-inline>dt:not(:first-of-type) {padding-left: .5ex}\n",
       "</style><dl class=dl-inline><dt>[通訊]涵蓋</dt><dd>3</dd><dt>[通訊]網速</dt><dd>0</dd><dt>[其他]客服</dt><dd>0</dd><dt>[通訊]頻段</dt><dd>0</dd><dt>[加值]國際漫遊</dt><dd>0</dd><dt>[資費]低資費方案</dt><dd>0</dd><dt>[資費]續約攜碼</dt><dd>0</dd><dt>[加值]vowifi</dt><dd>0</dd><dt>[加值]影音娛樂</dt><dd>0</dd><dt>[加值]電信APP</dt><dd>0</dd><dt>[通訊]限速</dt><dd>0</dd><dt>[其他]固網</dt><dd>0</dd><dt>[通訊]國內電信漫遊</dt><dd>0</dd><dt>[資費]方案活動</dt><dd>0</dd></dl>\n"
      ],
      "text/latex": [
       "\\begin{description*}\n",
       "\\item[\\{{[}\\}通訊\\{{]}\\}涵蓋] 3\n",
       "\\item[\\{{[}\\}通訊\\{{]}\\}網速] 0\n",
       "\\item[\\{{[}\\}其他\\{{]}\\}客服] 0\n",
       "\\item[\\{{[}\\}通訊\\{{]}\\}頻段] 0\n",
       "\\item[\\{{[}\\}加值\\{{]}\\}國際漫遊] 0\n",
       "\\item[\\{{[}\\}資費\\{{]}\\}低資費方案] 0\n",
       "\\item[\\{{[}\\}資費\\{{]}\\}續約攜碼] 0\n",
       "\\item[\\{{[}\\}加值\\{{]}\\}vowifi] 0\n",
       "\\item[\\{{[}\\}加值\\{{]}\\}影音娛樂] 0\n",
       "\\item[\\{{[}\\}加值\\{{]}\\}電信APP] 0\n",
       "\\item[\\{{[}\\}通訊\\{{]}\\}限速] 0\n",
       "\\item[\\{{[}\\}其他\\{{]}\\}固網] 0\n",
       "\\item[\\{{[}\\}通訊\\{{]}\\}國內電信漫遊] 0\n",
       "\\item[\\{{[}\\}資費\\{{]}\\}方案活動] 0\n",
       "\\end{description*}\n"
      ],
      "text/markdown": [
       "[通訊]涵蓋\n",
       ":   3[通訊]網速\n",
       ":   0[其他]客服\n",
       ":   0[通訊]頻段\n",
       ":   0[加值]國際漫遊\n",
       ":   0[資費]低資費方案\n",
       ":   0[資費]續約攜碼\n",
       ":   0[加值]vowifi\n",
       ":   0[加值]影音娛樂\n",
       ":   0[加值]電信APP\n",
       ":   0[通訊]限速\n",
       ":   0[其他]固網\n",
       ":   0[通訊]國內電信漫遊\n",
       ":   0[資費]方案活動\n",
       ":   0\n",
       "\n"
      ],
      "text/plain": [
       "        [通訊]涵蓋         [通訊]網速         [其他]客服         [通訊]頻段 \n",
       "                 3                  0                  0                  0 \n",
       "    [加值]國際漫遊   [資費]低資費方案     [資費]續約攜碼       [加值]vowifi \n",
       "                 0                  0                  0                  0 \n",
       "    [加值]影音娛樂      [加值]電信APP         [通訊]限速         [其他]固網 \n",
       "                 0                  0                  0                  0 \n",
       "[通訊]國內電信漫遊     [資費]方案活動 \n",
       "                 0                  0 "
      ]
     },
     "metadata": {},
     "output_type": "display_data"
    }
   ],
   "source": [
    "tab2"
   ]
  },
  {
   "cell_type": "code",
   "execution_count": 151,
   "metadata": {},
   "outputs": [
    {
     "data": {
      "image/png": "[encoded data removed]",
      "text/plain": [
       "plot without title"
      ]
     },
     "metadata": {
      "image/png": {
       "height": 450,
       "width": 600
      }
     },
     "output_type": "display_data"
    }
   ],
   "source": [
    "# png(\"h:/eval_onto_1.png\", 800,800,res=150)\n",
    "options(repr.plot.width=8, repr.plot.height=6, repr.plot.res=150)\n",
    "tgt_idx = which(rownames(tab) %in% c(\"剩一格\", \"轉圈圈\", \"和善\", \"優惠\"))\n",
    "tgt_idx = sapply(tgt_idx, function(x){seq(x, x-1)})\n",
    "tab2 = tab[tgt_idx, ]\n",
    "# tab = tab[order(apply(tab, 1, function(x){min(which(x==0))})),]\n",
    "# tab[tab==0] = 3\n",
    "ggplot(as.data.frame(tab2), aes(x=attribute, y=candidate, fill=Freq)) + \n",
    "    geom_tile() +\n",
    "    scale_fill_gradientn(colors=brewer.pal(8, 'Reds')) + \n",
    "    scale_x_discrete(position=\"top\")+\n",
    "    labs(x=\"\", y=\"\")+\n",
    "    theme(text=element_text(size=36), \n",
    "          legend.position=\"none\",\n",
    "          axis.text.x=element_text(angle=90, hjust=0))\n",
    "# dev.off()"
   ]
  },
  {
   "cell_type": "code",
   "execution_count": 154,
   "metadata": {},
   "outputs": [
    {
     "data": {
      "text/html": [
       "<style>\n",
       ".list-inline {list-style: none; margin:0; padding: 0}\n",
       ".list-inline>li {display: inline-block}\n",
       ".list-inline>li:not(:last-child)::after {content: \"\\00b7\"; padding: 0 .5ex}\n",
       "</style>\n",
       "<ol class=list-inline><li>159</li><li>14</li></ol>\n"
      ],
      "text/latex": [
       "\\begin{enumerate*}\n",
       "\\item 159\n",
       "\\item 14\n",
       "\\end{enumerate*}\n"
      ],
      "text/markdown": [
       "1. 159\n",
       "2. 14\n",
       "\n",
       "\n"
      ],
      "text/plain": [
       "[1] 159  14"
      ]
     },
     "metadata": {},
     "output_type": "display_data"
    }
   ],
   "source": [
    "c(nrow(tab), ncol(tab))"
   ]
  },
  {
   "cell_type": "code",
   "execution_count": 12,
   "metadata": {},
   "outputs": [
    {
     "data": {
      "image/png": "[encoded data removed]",
      "text/plain": [
       "plot without title"
      ]
     },
     "metadata": {
      "image/png": {
       "height": 420,
       "width": 420
      }
     },
     "output_type": "display_data"
    }
   ],
   "source": [
    "ggplot(data, aes(y=candidate, x=attribute, fill=polarity)) + geom_tile()"
   ]
  },
  {
   "cell_type": "code",
   "execution_count": null,
   "metadata": {},
   "outputs": [],
   "source": []
  }
 ],
 "metadata": {
  "kernelspec": {
   "display_name": "R",
   "language": "R",
   "name": "ir"
  },
  "language_info": {
   "codemirror_mode": "r",
   "file_extension": ".r",
   "mimetype": "text/x-r-source",
   "name": "R",
   "pygments_lexer": "r",
   "version": "4.1.0"
  }
 },
 "nbformat": 4,
 "nbformat_minor": 4
}

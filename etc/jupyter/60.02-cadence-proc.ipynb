{
 "cells": [
  {
   "cell_type": "code",
   "execution_count": 2,
   "metadata": {},
   "outputs": [],
   "source": [
    "%load_ext autoreload\n",
    "%autoreload 2"
   ]
  },
  {
   "cell_type": "code",
   "execution_count": 22,
   "metadata": {},
   "outputs": [],
   "source": [
    "from import_casa import casa\n",
    "from casa import Cadet"
   ]
  },
  {
   "cell_type": "code",
   "execution_count": 18,
   "metadata": {},
   "outputs": [],
   "source": [
    "import pickle\n",
    "import numpy as np\n",
    "import pandas as pd"
   ]
  },
  {
   "cell_type": "markdown",
   "metadata": {},
   "source": [
    "## Sample opinions (every 20)"
   ]
  },
  {
   "cell_type": "code",
   "execution_count": 68,
   "metadata": {},
   "outputs": [],
   "source": [
    "with (casa.get_data_path() / f\"threads/cht2021-JanMay-op-every20.pkl\").open(\"rb\") as fin:\n",
    "    op_sample = pickle.load(fin)"
   ]
  },
  {
   "cell_type": "code",
   "execution_count": 20,
   "metadata": {},
   "outputs": [
    {
     "data": {
      "text/plain": [
       "<Opinion [] 小小比: 5G再過1、2年才會普遍，，目前不要急著...>"
      ]
     },
     "execution_count": 20,
     "metadata": {},
     "output_type": "execute_result"
    }
   ],
   "source": [
    "op_sample[3]"
   ]
  },
  {
   "cell_type": "code",
   "execution_count": 70,
   "metadata": {},
   "outputs": [
    {
     "name": "stderr",
     "output_type": "stream",
     "text": [
      "[INFO] 2021-06-29 17:16:16,045 gensim.utils: loading KeyedVectors object from E:\\LangOn\\casa\\data\\cadet\\op20.2\\ft-2020.kv\n",
      "[INFO] 2021-06-29 17:16:16,328 gensim.utils: setting ignored attribute vectors_norm to None\n",
      "[INFO] 2021-06-29 17:16:16,328 gensim.utils: setting ignored attribute vectors_vocab_norm to None\n",
      "[INFO] 2021-06-29 17:16:16,329 gensim.utils: setting ignored attribute vectors_ngrams_norm to None\n",
      "[INFO] 2021-06-29 17:16:16,329 gensim.utils: setting ignored attribute buckets_word to None\n",
      "[INFO] 2021-06-29 17:16:16,445 gensim.utils: FastTextKeyedVectors lifecycle event {'fname': 'E:\\\\LangOn\\\\casa\\\\data\\\\cadet\\\\op20.2\\\\ft-2020.kv', 'datetime': '2021-06-29T17:16:16.445979', 'gensim': '4.0.0', 'python': '3.8.2 (tags/v3.8.2:7b3ab59, Feb 25 2020, 23:03:10) [MSC v.1916 64 bit (AMD64)]', 'platform': 'Windows-10-10.0.18362-SP0', 'event': 'loaded'}\n"
     ]
    },
    {
     "data": {
      "text/plain": [
       "<Cadet: FastText(9851, 200), Seeds(85)>"
      ]
     },
     "execution_count": 70,
     "metadata": {},
     "output_type": "execute_result"
    }
   ],
   "source": [
    "cadet = Cadet.load(casa.get_data_path()/\"cadet/op20.2\")\n",
    "cadet"
   ]
  },
  {
   "cell_type": "code",
   "execution_count": 86,
   "metadata": {},
   "outputs": [
    {
     "data": {
      "application/vnd.jupyter.widget-view+json": {
       "model_id": "fe14dfa03eb0432481284e60a215a60b",
       "version_major": 2,
       "version_minor": 0
      },
      "text/plain": [
       "HBox(children=(FloatProgress(value=0.0, max=5405.0), HTML(value='')))"
      ]
     },
     "metadata": {},
     "output_type": "display_data"
    },
    {
     "name": "stdout",
     "output_type": "stream",
     "text": [
      "\n"
     ]
    }
   ],
   "source": [
    "from tqdm.auto import tqdm\n",
    "srv_list = list(cadet.lexicon.get_services().keys())\n",
    "ent_list = list(cadet.lexicon.get_entities().keys())\n",
    "cadet_failed_ids = []\n",
    "for op_x in tqdm(op_sample):\n",
    "    try:\n",
    "        res = cadet.detect(op_x.text, summary=False)        \n",
    "    except:\n",
    "        cadet_failed_ids.append(op_x.id)\n",
    "        continue\n",
    "    ent_probs = res[\"entity_probs\"]\n",
    "    srv_probs = res[\"service_probs\"]\n",
    "    top_ent = np.argmax(ent_probs)\n",
    "    top_srv = np.argmax(srv_probs)\n",
    "    ent_maxp = np.max(ent_probs)\n",
    "    srv_maxp = np.max(srv_probs)\n",
    "    setattr(op_x, \"cadet_entity\", ent_list[top_ent] if ent_maxp > 0.3 else None)\n",
    "    setattr(op_x, \"cadet_service\", srv_list[top_srv] if srv_maxp > 0.1 else None)\n",
    "    setattr(op_x, \"ent_probs\", ent_probs)\n",
    "    setattr(op_x, \"srv_probs\", srv_probs)\n",
    "    setattr(op_x, \"tok_logits\", np.random.randn(min(len(op_x.text), 500), 3))\n",
    "    setattr(op_x, \"pred_polarity\", np.random.randint(3))"
   ]
  },
  {
   "cell_type": "code",
   "execution_count": 77,
   "metadata": {},
   "outputs": [
    {
     "data": {
      "text/plain": [
       "22"
      ]
     },
     "execution_count": 77,
     "metadata": {},
     "output_type": "execute_result"
    }
   ],
   "source": [
    "len(cadet_failed_ids)"
   ]
  },
  {
   "cell_type": "code",
   "execution_count": 78,
   "metadata": {},
   "outputs": [],
   "source": [
    "from collections import Counter\n",
    "ent_counter = Counter(map(lambda x: getattr(x, \"cadet_entity\", None), op_sample))"
   ]
  },
  {
   "cell_type": "code",
   "execution_count": 79,
   "metadata": {},
   "outputs": [
    {
     "data": {
      "text/plain": [
       "[(None, 3475),\n",
       " ('中華電信', 540),\n",
       " ('遠傳電信', 497),\n",
       " ('台灣大哥大', 379),\n",
       " ('亞太電信', 255),\n",
       " ('台灣之星', 243),\n",
       " ('無框行動', 16)]"
      ]
     },
     "execution_count": 79,
     "metadata": {},
     "output_type": "execute_result"
    }
   ],
   "source": [
    "ent_counter.most_common()"
   ]
  },
  {
   "cell_type": "code",
   "execution_count": 49,
   "metadata": {},
   "outputs": [],
   "source": [
    "from itertools import islice\n",
    "xx = list(islice(filter(lambda x: getattr(x, \"cadet_entity\", None) == \"台灣大哥大\", op_sample), 5))"
   ]
  },
  {
   "cell_type": "code",
   "execution_count": 64,
   "metadata": {},
   "outputs": [
    {
     "data": {
      "text/plain": [
       "'如題，最近一次更新之後，大概每三把就有一把一按開始對戰就卡在下面這個畫面，會不會太扯。你說紅wifi很卡就算了，這樣直接被算掛機欸，變成電腦打之後不小心贏了還不會加盃。最近打到有點心累，20000盃的帳號好不容易要可以全部滿級了，結果現在這種情況根本沒辦法爬盃，哭啊。(再抱怨一下，20000盃到現在還沒有一隻傳奇角哦啾咪）'"
      ]
     },
     "execution_count": 64,
     "metadata": {},
     "output_type": "execute_result"
    }
   ],
   "source": [
    "xx[0].text"
   ]
  },
  {
   "cell_type": "code",
   "execution_count": 71,
   "metadata": {},
   "outputs": [
    {
     "data": {
      "text/plain": [
       "{'entity': ['中華電信', '台灣大哥大', '遠傳電信', '台灣之星', '亞太電信', '無框行動'],\n",
       " 'entity_probs': array([0.16666667, 0.16666667, 0.16666667, 0.16666667, 0.16666667,\n",
       "        0.16666667]),\n",
       " 'service': [('加值服務', 'vowifi'),\n",
       "  ('通訊品質', '涵蓋'),\n",
       "  ('加值服務', '國際漫遊'),\n",
       "  ('加值服務', 'esim'),\n",
       "  ('加值服務', '行動支付')],\n",
       " 'service_probs': array([0.05904923, 0.05410636, 0.05338702, 0.04729032, 0.04625884]),\n",
       " 'seeds': ['VoLTE', '山區', '出國', '拆台', 'esim'],\n",
       " 'seed_probs': array([0.02191027, 0.02007621, 0.0198093 , 0.01851987, 0.01754712])}"
      ]
     },
     "execution_count": 71,
     "metadata": {},
     "output_type": "execute_result"
    }
   ],
   "source": [
    "cadet.detect(xx[0].text)"
   ]
  },
  {
   "cell_type": "code",
   "execution_count": 87,
   "metadata": {},
   "outputs": [],
   "source": [
    "with (casa.get_data_path() / f\"threads/cht2021-JanMay-op-every20-attr.pkl\").open(\"wb\") as fout:\n",
    "    pickle.dump(op_sample, fout)"
   ]
  },
  {
   "cell_type": "code",
   "execution_count": null,
   "metadata": {},
   "outputs": [],
   "source": []
  }
 ],
 "metadata": {
  "kernelspec": {
   "display_name": "Python 3",
   "language": "python",
   "name": "python3"
  },
  "language_info": {
   "codemirror_mode": {
    "name": "ipython",
    "version": 3
   },
   "file_extension": ".py",
   "mimetype": "text/x-python",
   "name": "python",
   "nbconvert_exporter": "python",
   "pygments_lexer": "ipython3",
   "version": "3.8.2"
  }
 },
 "nbformat": 4,
 "nbformat_minor": 4
}

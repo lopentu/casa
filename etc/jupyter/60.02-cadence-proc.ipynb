{
 "cells": [
  {
   "cell_type": "code",
   "execution_count": 1,
   "metadata": {},
   "outputs": [],
   "source": [
    "%load_ext autoreload\n",
    "%autoreload 2"
   ]
  },
  {
   "cell_type": "code",
   "execution_count": 2,
   "metadata": {},
   "outputs": [],
   "source": [
    "from import_casa import casa\n",
    "from casa import Cadet"
   ]
  },
  {
   "cell_type": "code",
   "execution_count": 3,
   "metadata": {},
   "outputs": [],
   "source": [
    "import pickle\n",
    "import numpy as np\n",
    "import pandas as pd\n",
    "import ast\n",
    "from collections import Counter"
   ]
  },
  {
   "cell_type": "markdown",
   "metadata": {},
   "source": [
    "## Sample statistics"
   ]
  },
  {
   "cell_type": "code",
   "execution_count": 7,
   "metadata": {},
   "outputs": [],
   "source": [
    "with (casa.get_data_path() / f\"threads/cht2021-JanMay.pkl\").open(\"rb\") as fin:\n",
    "    op21 = pickle.load(fin)"
   ]
  },
  {
   "cell_type": "code",
   "execution_count": 10,
   "metadata": {},
   "outputs": [
    {
     "data": {
      "text/plain": [
       "(23886, 105236)"
      ]
     },
     "execution_count": 10,
     "metadata": {},
     "output_type": "execute_result"
    }
   ],
   "source": [
    "len(op21), sum(len(list(x.opinions())) for x in op21)"
   ]
  },
  {
   "cell_type": "code",
   "execution_count": 12,
   "metadata": {},
   "outputs": [
    {
     "data": {
      "text/plain": [
       "7238676"
      ]
     },
     "execution_count": 12,
     "metadata": {},
     "output_type": "execute_result"
    }
   ],
   "source": [
    "sum(len(op.text) for thread in op21 for op in thread.opinions())"
   ]
  },
  {
   "cell_type": "markdown",
   "metadata": {},
   "source": [
    "## Sample opinions (every 20)"
   ]
  },
  {
   "cell_type": "code",
   "execution_count": 4,
   "metadata": {},
   "outputs": [],
   "source": [
    "with (casa.get_data_path() / f\"threads/cht2021-JanMay-op-every20.pkl\").open(\"rb\") as fin:\n",
    "    op_sample = pickle.load(fin)"
   ]
  },
  {
   "cell_type": "code",
   "execution_count": 5,
   "metadata": {},
   "outputs": [],
   "source": [
    "with (casa.get_data_path() / f\"models/bert_aspect_extraction/0629/every20_bert_logits.pkl\").open(\"rb\") as fin:\n",
    "    samp_logits = pickle.load(fin)"
   ]
  },
  {
   "cell_type": "code",
   "execution_count": 6,
   "metadata": {},
   "outputs": [],
   "source": [
    "spans = pd.read_csv(casa.get_data_path() / f\"models/bert_aspect_extraction/0629/every20_evalspans.csv\", index_col=None)"
   ]
  },
  {
   "cell_type": "code",
   "execution_count": 7,
   "metadata": {},
   "outputs": [
    {
     "data": {
      "text/plain": [
       "(5387, 5)"
      ]
     },
     "execution_count": 7,
     "metadata": {},
     "output_type": "execute_result"
    }
   ],
   "source": [
    "spans.shape"
   ]
  },
  {
   "cell_type": "code",
   "execution_count": 8,
   "metadata": {},
   "outputs": [
    {
     "data": {
      "text/plain": [
       "5387"
      ]
     },
     "execution_count": 8,
     "metadata": {},
     "output_type": "execute_result"
    }
   ],
   "source": [
    "len([x for x in op_sample if x.text])"
   ]
  },
  {
   "cell_type": "code",
   "execution_count": 9,
   "metadata": {},
   "outputs": [
    {
     "data": {
      "text/plain": [
       "5387"
      ]
     },
     "execution_count": 9,
     "metadata": {},
     "output_type": "execute_result"
    }
   ],
   "source": [
    "len(samp_logits)"
   ]
  },
  {
   "cell_type": "code",
   "execution_count": 10,
   "metadata": {},
   "outputs": [
    {
     "data": {
      "text/plain": [
       "(275, (512, 5))"
      ]
     },
     "execution_count": 10,
     "metadata": {},
     "output_type": "execute_result"
    }
   ],
   "source": [
    "len(op_sample[0].text), samp_logits[0].shape"
   ]
  },
  {
   "cell_type": "code",
   "execution_count": null,
   "metadata": {},
   "outputs": [],
   "source": []
  },
  {
   "cell_type": "code",
   "execution_count": 11,
   "metadata": {},
   "outputs": [
    {
     "name": "stderr",
     "output_type": "stream",
     "text": [
      "[INFO] 2021-07-07 16:01:52,332 gensim.utils: loading KeyedVectors object from E:\\LangOn\\casa\\data\\cadet\\op20.2\\ft-2020.kv\n",
      "[INFO] 2021-07-07 16:01:53,215 gensim.utils: setting ignored attribute vectors_norm to None\n",
      "[INFO] 2021-07-07 16:01:53,215 gensim.utils: setting ignored attribute vectors_vocab_norm to None\n",
      "[INFO] 2021-07-07 16:01:53,216 gensim.utils: setting ignored attribute vectors_ngrams_norm to None\n",
      "[INFO] 2021-07-07 16:01:53,217 gensim.utils: setting ignored attribute buckets_word to None\n",
      "[INFO] 2021-07-07 16:01:53,329 gensim.utils: FastTextKeyedVectors lifecycle event {'fname': 'E:\\\\LangOn\\\\casa\\\\data\\\\cadet\\\\op20.2\\\\ft-2020.kv', 'datetime': '2021-07-07T16:01:53.328008', 'gensim': '4.0.0', 'python': '3.8.2 (tags/v3.8.2:7b3ab59, Feb 25 2020, 23:03:10) [MSC v.1916 64 bit (AMD64)]', 'platform': 'Windows-10-10.0.18362-SP0', 'event': 'loaded'}\n"
     ]
    },
    {
     "data": {
      "text/plain": [
       "<Cadet: FastText(9851, 200), Seeds(79)>"
      ]
     },
     "execution_count": 11,
     "metadata": {},
     "output_type": "execute_result"
    }
   ],
   "source": [
    "cadet = Cadet.load(casa.get_data_path()/\"cadet/op20.2\")\n",
    "cadet"
   ]
  },
  {
   "cell_type": "code",
   "execution_count": 17,
   "metadata": {},
   "outputs": [
    {
     "data": {
      "application/vnd.jupyter.widget-view+json": {
       "model_id": "20a896b2fe584e2893cb82d60dcbb3db",
       "version_major": 2,
       "version_minor": 0
      },
      "text/plain": [
       "HBox(children=(FloatProgress(value=0.0, max=5405.0), HTML(value='')))"
      ]
     },
     "metadata": {},
     "output_type": "display_data"
    },
    {
     "name": "stdout",
     "output_type": "stream",
     "text": [
      "\n"
     ]
    }
   ],
   "source": [
    "from tqdm.auto import tqdm\n",
    "srv_list = list(cadet.lexicon.get_services().keys())\n",
    "ent_list = list(cadet.lexicon.get_entities().keys())\n",
    "cadet_failed_ids = []\n",
    "counter = 0\n",
    "for op_x in tqdm(op_sample):\n",
    "    if not op_x.text.strip(): \n",
    "        continue\n",
    "    \n",
    "    res = cadet.detect(op_x.text, summary=False)                    \n",
    "    ent_probs = res[\"entity_probs\"]\n",
    "    srv_probs = res[\"service_probs\"]\n",
    "    \n",
    "    top_ent = np.argmax(ent_probs)\n",
    "    top_srv = np.argmax(srv_probs)\n",
    "    ent_maxp = np.max(ent_probs)\n",
    "    srv_maxp = np.max(srv_probs)\n",
    "    M = len(op_x.text)\n",
    "    pred_span = ast.literal_eval(spans.iloc[counter,:].pred_eval_spans)\n",
    "    if len(pred_span):\n",
    "        n_pos = Counter([x[0] for x in pred_span]).get(\"Positive\", 0)\n",
    "        n_neg = len(pred_span) - n_pos    \n",
    "        if n_pos > n_neg: polarity = \"Positive\"\n",
    "        elif n_neg > n_pos: polarity = \"Negative\"\n",
    "        else: polarity = \"Neutral\"\n",
    "    else:\n",
    "        polarity = \"Neutral\"\n",
    "    \n",
    "    setattr(op_x, \"cadet_entity\", ent_list[top_ent] if ent_maxp > 0.3 else None)\n",
    "    setattr(op_x, \"cadet_service\", srv_list[top_srv] if srv_maxp > 0.1 else None)\n",
    "    setattr(op_x, \"ent_probs\", ent_probs)\n",
    "    setattr(op_x, \"srv_probs\", srv_probs)\n",
    "    setattr(op_x, \"tok_logits\", samp_logits[counter][1:M+1, :])\n",
    "    setattr(op_x, \"pred_span\", pred_span)\n",
    "    setattr(op_x, \"pred_polarity\", polarity)\n",
    "    \n",
    "    counter += 1"
   ]
  },
  {
   "cell_type": "code",
   "execution_count": 18,
   "metadata": {},
   "outputs": [
    {
     "data": {
      "text/plain": [
       "(5387, 5387)"
      ]
     },
     "execution_count": 18,
     "metadata": {},
     "output_type": "execute_result"
    }
   ],
   "source": [
    "counter, len(spans)"
   ]
  },
  {
   "cell_type": "code",
   "execution_count": 19,
   "metadata": {},
   "outputs": [],
   "source": [
    "with (casa.get_data_path() / f\"threads/cht2021-JanMay-op-every20-attr.pkl\").open(\"wb\") as fout:\n",
    "    pickle.dump(op_sample, fout)"
   ]
  },
  {
   "cell_type": "code",
   "execution_count": 20,
   "metadata": {},
   "outputs": [],
   "source": [
    "from collections import Counter\n",
    "ent_counter = Counter(map(lambda x: getattr(x, \"cadet_entity\", None), op_sample))"
   ]
  },
  {
   "cell_type": "code",
   "execution_count": 21,
   "metadata": {},
   "outputs": [
    {
     "data": {
      "text/plain": [
       "[(None, 3064),\n",
       " ('中華電信', 763),\n",
       " ('遠傳電信', 515),\n",
       " ('台灣大哥大', 401),\n",
       " ('台灣之星', 386),\n",
       " ('亞太電信', 261),\n",
       " ('無框行動', 15)]"
      ]
     },
     "execution_count": 21,
     "metadata": {},
     "output_type": "execute_result"
    }
   ],
   "source": [
    "ent_counter.most_common()"
   ]
  },
  {
   "cell_type": "code",
   "execution_count": 92,
   "metadata": {},
   "outputs": [],
   "source": [
    "from itertools import islice\n",
    "xx = list(islice(filter(lambda x: getattr(x, \"cadet_entity\", None) == \"台灣大哥大\", op_sample), 5))"
   ]
  },
  {
   "cell_type": "code",
   "execution_count": 93,
   "metadata": {},
   "outputs": [
    {
     "data": {
      "text/plain": [
       "'台哥大平均網速不快幹嘛辦之前用了多年中華,合約到期有去申辦台哥大及遠傳試用卡,遠傳平均網速比台哥大快多了,不下於中華！就NP到遠傳,也順利申辦到遠傳電銷319不限速吃到飽專案！剛剛測的'"
      ]
     },
     "execution_count": 93,
     "metadata": {},
     "output_type": "execute_result"
    }
   ],
   "source": [
    "xx[0].text"
   ]
  },
  {
   "cell_type": "code",
   "execution_count": 50,
   "metadata": {},
   "outputs": [
    {
     "name": "stdout",
     "output_type": "stream",
     "text": [
      "tokens:  ['就', '中華電信', '絕對', '其他', '別', '想', '了']\n",
      "ent_scores [1.         0.72315866 0.70973432 0.60055864 0.62684321 0.73528677]\n",
      "srv_scores [0.37546813 0.31578273 0.40386418 0.34264758 0.47839317 0.32973254\n",
      " 0.29867277 0.34706154 0.35138562 0.36617967 0.42078739 0.30622414\n",
      " 0.37394285 0.15872674 0.19507323 0.27586547 0.33051437 0.35387656\n",
      " 0.29947039 0.17197542 0.16918962 0.41623956 0.25886106 0.20634082\n",
      " 0.28248078 0.3069101  0.        ]\n",
      "seed_scores(topn) [0.47839317 0.47839317 0.42078739 0.41623956 0.40386418]\n"
     ]
    },
    {
     "data": {
      "text/plain": [
       "{'entity': ['中華電信', '無框行動', '台灣大哥大', '遠傳電信', '亞太電信', '台灣之星'],\n",
       " 'entity_probs': array([0.93761204, 0.01317898, 0.01302011, 0.01284649, 0.01182457,\n",
       "        0.01151781]),\n",
       " 'service': [('資費方案', '升級'),\n",
       "  ('加值服務', '行動支付'),\n",
       "  ('其他', '手機'),\n",
       "  ('資費方案', '方案活動'),\n",
       "  ('資費方案', '低資費方案')],\n",
       " 'service_probs': array([0.05181615, 0.04617739, 0.04575928, 0.0446406 , 0.04217602]),\n",
       " 'seeds': ['轉4G', '升4G', '支付APP', 'android', '購機'],\n",
       " 'seed_probs': array([0.01779091, 0.01779091, 0.01585486, 0.01571131, 0.01532721])}"
      ]
     },
     "execution_count": 50,
     "metadata": {},
     "output_type": "execute_result"
    }
   ],
   "source": [
    "cadet.detect(\"就是中華電信，絕對的，其他別想了\", verbose=True)"
   ]
  },
  {
   "cell_type": "code",
   "execution_count": null,
   "metadata": {},
   "outputs": [],
   "source": []
  }
 ],
 "metadata": {
  "kernelspec": {
   "display_name": "Python 3",
   "language": "python",
   "name": "python3"
  },
  "language_info": {
   "codemirror_mode": {
    "name": "ipython",
    "version": 3
   },
   "file_extension": ".py",
   "mimetype": "text/x-python",
   "name": "python",
   "nbconvert_exporter": "python",
   "pygments_lexer": "ipython3",
   "version": "3.8.2"
  }
 },
 "nbformat": 4,
 "nbformat_minor": 4
}

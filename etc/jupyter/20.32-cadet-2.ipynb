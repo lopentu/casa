{
 "cells": [
  {
   "cell_type": "code",
   "execution_count": 1,
   "metadata": {},
   "outputs": [],
   "source": [
    "%load_ext autoreload\n",
    "%autoreload 2"
   ]
  },
  {
   "cell_type": "code",
   "execution_count": 2,
   "metadata": {},
   "outputs": [],
   "source": [
    "from import_casa import casa"
   ]
  },
  {
   "cell_type": "markdown",
   "metadata": {},
   "source": [
    "## Topic Seeds"
   ]
  },
  {
   "cell_type": "code",
   "execution_count": 3,
   "metadata": {},
   "outputs": [],
   "source": [
    "from casa import Cadet\n",
    "import numpy as np"
   ]
  },
  {
   "cell_type": "code",
   "execution_count": 4,
   "metadata": {},
   "outputs": [],
   "source": [
    "from sentencepiece import SentencePieceProcessor"
   ]
  },
  {
   "cell_type": "code",
   "execution_count": 50,
   "metadata": {},
   "outputs": [],
   "source": [
    "from casa.cadet import SeedLexicon\n",
    "base_dir = casa.get_data_path() / \"cadet/op20.2\""
   ]
  },
  {
   "cell_type": "code",
   "execution_count": 64,
   "metadata": {},
   "outputs": [
    {
     "name": "stderr",
     "output_type": "stream",
     "text": [
      "[INFO] 2021-06-29 14:37:23,619 gensim.utils: loading KeyedVectors object from E:\\LangOn\\casa\\data\\cadet\\op20.2\\ft-2020.kv\n",
      "[INFO] 2021-06-29 14:37:23,905 gensim.utils: setting ignored attribute vectors_norm to None\n",
      "[INFO] 2021-06-29 14:37:23,906 gensim.utils: setting ignored attribute vectors_vocab_norm to None\n",
      "[INFO] 2021-06-29 14:37:23,907 gensim.utils: setting ignored attribute vectors_ngrams_norm to None\n",
      "[INFO] 2021-06-29 14:37:23,907 gensim.utils: setting ignored attribute buckets_word to None\n",
      "[INFO] 2021-06-29 14:37:24,018 gensim.utils: FastTextKeyedVectors lifecycle event {'fname': 'E:\\\\LangOn\\\\casa\\\\data\\\\cadet\\\\op20.2\\\\ft-2020.kv', 'datetime': '2021-06-29T14:37:24.018875', 'gensim': '4.0.0', 'python': '3.8.2 (tags/v3.8.2:7b3ab59, Feb 25 2020, 23:03:10) [MSC v.1916 64 bit (AMD64)]', 'platform': 'Windows-10-10.0.18362-SP0', 'event': 'loaded'}\n"
     ]
    }
   ],
   "source": [
    "cadet = Cadet.load(casa.get_data_path()/\"cadet/op20.2\")\n",
    "lexicon = SeedLexicon.load(base_dir / \"seeds.csv\")"
   ]
  },
  {
   "cell_type": "code",
   "execution_count": 73,
   "metadata": {},
   "outputs": [
    {
     "data": {
      "text/plain": [
       "{'entity': ['遠傳電信', '台灣大哥大', '中華電信', '亞太電信', '台灣之星', '無框行動'],\n",
       " 'entity_probs': array([0.94362792, 0.01229564, 0.01200958, 0.01110243, 0.01087932,\n",
       "        0.01008512]),\n",
       " 'service': [('通訊品質', '涵蓋'),\n",
       "  ('通訊品質', '網速'),\n",
       "  ('通訊品質', '國內電信漫遊'),\n",
       "  ('資費方案', '方案活動'),\n",
       "  ('資費方案', '升級')],\n",
       " 'service_probs': array([0.80447355, 0.01105934, 0.00986286, 0.00934769, 0.00873808]),\n",
       " 'seeds': ['收訊', '滿格', '郊區', '漫遊台哥', '山郊'],\n",
       " 'seed_probs': array([0.57754361, 0.00793967, 0.00722177, 0.00708069, 0.00674049])}"
      ]
     },
     "execution_count": 73,
     "metadata": {},
     "output_type": "execute_result"
    }
   ],
   "source": [
    "cadet.detect(\"只有遠傳沒有訊號\", summary=True)"
   ]
  },
  {
   "cell_type": "code",
   "execution_count": null,
   "metadata": {},
   "outputs": [],
   "source": []
  },
  {
   "cell_type": "code",
   "execution_count": 5,
   "metadata": {},
   "outputs": [
    {
     "name": "stdout",
     "output_type": "stream",
     "text": [
      "tokens:  ['我', '昨天', '遠傳', '分', '手', '了', '他', '送', 'iphone', '該', '還', '回去', '嗎']\n",
      "ent_scores [0.6359725  0.6595124  1.         0.56385303 0.55743235 0.43274459]\n",
      "srv_scores [0.58001447 0.47847968 0.48819646 1.        ]\n",
      "seed_scores(topn) [1.         0.58001447 0.56701541 0.54494095 0.53985411]\n"
     ]
    },
    {
     "data": {
      "text/plain": [
       "{'entity': ['中華電信', '台灣大哥大', '遠傳電信', '台灣之星', '亞太電信', '其他電信'],\n",
       " 'entity_probs': array([0.01200945, 0.01229551, 0.94361807, 0.01117383, 0.01110232,\n",
       "        0.00980082]),\n",
       " 'service': ['資費方案', '通訊品質', '加值服務', '其他'],\n",
       " 'service_probs': array([0.01163998, 0.01051614, 0.01061882, 0.96722507]),\n",
       " 'seeds': ['手機', '通話費', '轉4G', '電銷', '方案'],\n",
       " 'seed_probs': array([0.52720503, 0.0063446 , 0.00626266, 0.00612593, 0.00609485])}"
      ]
     },
     "execution_count": 5,
     "metadata": {},
     "output_type": "execute_result"
    }
   ],
   "source": [
    "text = \"我昨天跟遠傳分手了，他送的iphone該還回去嗎\"\n",
    "cadet.detect(text, verbose=True)"
   ]
  },
  {
   "cell_type": "markdown",
   "metadata": {},
   "source": [
    "## Thread-level"
   ]
  },
  {
   "cell_type": "code",
   "execution_count": 52,
   "metadata": {},
   "outputs": [],
   "source": [
    "import pickle\n",
    "with open(casa.get_data_path() / \"threads/cht-2020-merged.pkl\", \"rb\") as fin:\n",
    "    threads = pickle.load(fin)"
   ]
  },
  {
   "cell_type": "code",
   "execution_count": 53,
   "metadata": {},
   "outputs": [],
   "source": [
    "from casa.cadet import CadetProcessor\n",
    "from tqdm.auto import tqdm"
   ]
  },
  {
   "cell_type": "code",
   "execution_count": 54,
   "metadata": {},
   "outputs": [
    {
     "data": {
      "text/plain": [
       "'主文'"
      ]
     },
     "execution_count": 54,
     "metadata": {},
     "output_type": "execute_result"
    }
   ],
   "source": [
    "threads[0].main.post_type"
   ]
  },
  {
   "cell_type": "code",
   "execution_count": 55,
   "metadata": {},
   "outputs": [
    {
     "data": {
      "application/vnd.jupyter.widget-view+json": {
       "model_id": "0004d677f75e446984a8fc7d98e84c2d",
       "version_major": 2,
       "version_minor": 0
      },
      "text/plain": [
       "HBox(children=(FloatProgress(value=0.0, max=56064.0), HTML(value='')))"
      ]
     },
     "metadata": {},
     "output_type": "display_data"
    },
    {
     "name": "stdout",
     "output_type": "stream",
     "text": [
      "\n"
     ]
    }
   ],
   "source": [
    "cadet_proc = CadetProcessor(cadet)\n",
    "for thread_x in tqdm(threads):\n",
    "    thread_x.process(cadet_proc)"
   ]
  },
  {
   "cell_type": "code",
   "execution_count": 56,
   "metadata": {},
   "outputs": [],
   "source": [
    "with open(casa.get_data_path() / \"threads/cht-2020-merged-cadet-op20.pkl\", \"wb\") as fout:\n",
    "    pickle.dump(threads, fout)"
   ]
  }
 ],
 "metadata": {
  "kernelspec": {
   "display_name": "Python 3",
   "language": "python",
   "name": "python3"
  },
  "language_info": {
   "codemirror_mode": {
    "name": "ipython",
    "version": 3
   },
   "file_extension": ".py",
   "mimetype": "text/x-python",
   "name": "python",
   "nbconvert_exporter": "python",
   "pygments_lexer": "ipython3",
   "version": "3.8.2"
  }
 },
 "nbformat": 4,
 "nbformat_minor": 4
}

{
  "nbformat": 4,
  "nbformat_minor": 0,
  "metadata": {
    "colab": {
      "name": "construction_noise_test.ipynb",
      "provenance": [],
      "collapsed_sections": []
    },
    "kernelspec": {
      "name": "python3",
      "display_name": "Python 3"
    },
    "language_info": {
      "name": "python"
    },
    "widgets": {
      "application/vnd.jupyter.widget-state+json": {
        "adfbf99acd684174a269ef9c69b40777": {
          "model_module": "@jupyter-widgets/controls",
          "model_name": "HBoxModel",
          "state": {
            "_view_name": "HBoxView",
            "_dom_classes": [],
            "_model_name": "HBoxModel",
            "_view_module": "@jupyter-widgets/controls",
            "_model_module_version": "1.5.0",
            "_view_count": null,
            "_view_module_version": "1.5.0",
            "box_style": "",
            "layout": "IPY_MODEL_57a4e402047f4014baa6bd40450992e3",
            "_model_module": "@jupyter-widgets/controls",
            "children": [
              "IPY_MODEL_ff5562f8659b4eb197e3c6c0fa301fee",
              "IPY_MODEL_921898351ca049cabb63e2f6a8f109ab"
            ]
          }
        },
        "57a4e402047f4014baa6bd40450992e3": {
          "model_module": "@jupyter-widgets/base",
          "model_name": "LayoutModel",
          "state": {
            "_view_name": "LayoutView",
            "grid_template_rows": null,
            "right": null,
            "justify_content": null,
            "_view_module": "@jupyter-widgets/base",
            "overflow": null,
            "_model_module_version": "1.2.0",
            "_view_count": null,
            "flex_flow": null,
            "width": null,
            "min_width": null,
            "border": null,
            "align_items": null,
            "bottom": null,
            "_model_module": "@jupyter-widgets/base",
            "top": null,
            "grid_column": null,
            "overflow_y": null,
            "overflow_x": null,
            "grid_auto_flow": null,
            "grid_area": null,
            "grid_template_columns": null,
            "flex": null,
            "_model_name": "LayoutModel",
            "justify_items": null,
            "grid_row": null,
            "max_height": null,
            "align_content": null,
            "visibility": null,
            "align_self": null,
            "height": null,
            "min_height": null,
            "padding": null,
            "grid_auto_rows": null,
            "grid_gap": null,
            "max_width": null,
            "order": null,
            "_view_module_version": "1.2.0",
            "grid_template_areas": null,
            "object_position": null,
            "object_fit": null,
            "grid_auto_columns": null,
            "margin": null,
            "display": null,
            "left": null
          }
        },
        "ff5562f8659b4eb197e3c6c0fa301fee": {
          "model_module": "@jupyter-widgets/controls",
          "model_name": "FloatProgressModel",
          "state": {
            "_view_name": "ProgressView",
            "style": "IPY_MODEL_a88bd5cb56ba4f36817a51326fc0e006",
            "_dom_classes": [],
            "description": "100%",
            "_model_name": "FloatProgressModel",
            "bar_style": "success",
            "max": 435,
            "_view_module": "@jupyter-widgets/controls",
            "_model_module_version": "1.5.0",
            "value": 435,
            "_view_count": null,
            "_view_module_version": "1.5.0",
            "orientation": "horizontal",
            "min": 0,
            "description_tooltip": null,
            "_model_module": "@jupyter-widgets/controls",
            "layout": "IPY_MODEL_e783c73b0e6b442584e8ccf1afa28648"
          }
        },
        "921898351ca049cabb63e2f6a8f109ab": {
          "model_module": "@jupyter-widgets/controls",
          "model_name": "HTMLModel",
          "state": {
            "_view_name": "HTMLView",
            "style": "IPY_MODEL_1f3e4620eb4e451ab8b59da02a6839da",
            "_dom_classes": [],
            "description": "",
            "_model_name": "HTMLModel",
            "placeholder": "​",
            "_view_module": "@jupyter-widgets/controls",
            "_model_module_version": "1.5.0",
            "value": " 435/435 [03:30&lt;00:00,  2.06it/s]",
            "_view_count": null,
            "_view_module_version": "1.5.0",
            "description_tooltip": null,
            "_model_module": "@jupyter-widgets/controls",
            "layout": "IPY_MODEL_2d1193316a8b4137abaef4bfa7317909"
          }
        },
        "a88bd5cb56ba4f36817a51326fc0e006": {
          "model_module": "@jupyter-widgets/controls",
          "model_name": "ProgressStyleModel",
          "state": {
            "_view_name": "StyleView",
            "_model_name": "ProgressStyleModel",
            "description_width": "initial",
            "_view_module": "@jupyter-widgets/base",
            "_model_module_version": "1.5.0",
            "_view_count": null,
            "_view_module_version": "1.2.0",
            "bar_color": null,
            "_model_module": "@jupyter-widgets/controls"
          }
        },
        "e783c73b0e6b442584e8ccf1afa28648": {
          "model_module": "@jupyter-widgets/base",
          "model_name": "LayoutModel",
          "state": {
            "_view_name": "LayoutView",
            "grid_template_rows": null,
            "right": null,
            "justify_content": null,
            "_view_module": "@jupyter-widgets/base",
            "overflow": null,
            "_model_module_version": "1.2.0",
            "_view_count": null,
            "flex_flow": null,
            "width": null,
            "min_width": null,
            "border": null,
            "align_items": null,
            "bottom": null,
            "_model_module": "@jupyter-widgets/base",
            "top": null,
            "grid_column": null,
            "overflow_y": null,
            "overflow_x": null,
            "grid_auto_flow": null,
            "grid_area": null,
            "grid_template_columns": null,
            "flex": null,
            "_model_name": "LayoutModel",
            "justify_items": null,
            "grid_row": null,
            "max_height": null,
            "align_content": null,
            "visibility": null,
            "align_self": null,
            "height": null,
            "min_height": null,
            "padding": null,
            "grid_auto_rows": null,
            "grid_gap": null,
            "max_width": null,
            "order": null,
            "_view_module_version": "1.2.0",
            "grid_template_areas": null,
            "object_position": null,
            "object_fit": null,
            "grid_auto_columns": null,
            "margin": null,
            "display": null,
            "left": null
          }
        },
        "1f3e4620eb4e451ab8b59da02a6839da": {
          "model_module": "@jupyter-widgets/controls",
          "model_name": "DescriptionStyleModel",
          "state": {
            "_view_name": "StyleView",
            "_model_name": "DescriptionStyleModel",
            "description_width": "",
            "_view_module": "@jupyter-widgets/base",
            "_model_module_version": "1.5.0",
            "_view_count": null,
            "_view_module_version": "1.2.0",
            "_model_module": "@jupyter-widgets/controls"
          }
        },
        "2d1193316a8b4137abaef4bfa7317909": {
          "model_module": "@jupyter-widgets/base",
          "model_name": "LayoutModel",
          "state": {
            "_view_name": "LayoutView",
            "grid_template_rows": null,
            "right": null,
            "justify_content": null,
            "_view_module": "@jupyter-widgets/base",
            "overflow": null,
            "_model_module_version": "1.2.0",
            "_view_count": null,
            "flex_flow": null,
            "width": null,
            "min_width": null,
            "border": null,
            "align_items": null,
            "bottom": null,
            "_model_module": "@jupyter-widgets/base",
            "top": null,
            "grid_column": null,
            "overflow_y": null,
            "overflow_x": null,
            "grid_auto_flow": null,
            "grid_area": null,
            "grid_template_columns": null,
            "flex": null,
            "_model_name": "LayoutModel",
            "justify_items": null,
            "grid_row": null,
            "max_height": null,
            "align_content": null,
            "visibility": null,
            "align_self": null,
            "height": null,
            "min_height": null,
            "padding": null,
            "grid_auto_rows": null,
            "grid_gap": null,
            "max_width": null,
            "order": null,
            "_view_module_version": "1.2.0",
            "grid_template_areas": null,
            "object_position": null,
            "object_fit": null,
            "grid_auto_columns": null,
            "margin": null,
            "display": null,
            "left": null
          }
        },
        "1a906efbfe3f4582ac02b608be5fda00": {
          "model_module": "@jupyter-widgets/controls",
          "model_name": "HBoxModel",
          "state": {
            "_view_name": "HBoxView",
            "_dom_classes": [],
            "_model_name": "HBoxModel",
            "_view_module": "@jupyter-widgets/controls",
            "_model_module_version": "1.5.0",
            "_view_count": null,
            "_view_module_version": "1.5.0",
            "box_style": "",
            "layout": "IPY_MODEL_76ca349b3e04484f9416d0c8322dd9e9",
            "_model_module": "@jupyter-widgets/controls",
            "children": [
              "IPY_MODEL_230271efc9854d99916df566f6ed6a52",
              "IPY_MODEL_e979170d698c4c0b84ce974e8e2c651e"
            ]
          }
        },
        "76ca349b3e04484f9416d0c8322dd9e9": {
          "model_module": "@jupyter-widgets/base",
          "model_name": "LayoutModel",
          "state": {
            "_view_name": "LayoutView",
            "grid_template_rows": null,
            "right": null,
            "justify_content": null,
            "_view_module": "@jupyter-widgets/base",
            "overflow": null,
            "_model_module_version": "1.2.0",
            "_view_count": null,
            "flex_flow": null,
            "width": null,
            "min_width": null,
            "border": null,
            "align_items": null,
            "bottom": null,
            "_model_module": "@jupyter-widgets/base",
            "top": null,
            "grid_column": null,
            "overflow_y": null,
            "overflow_x": null,
            "grid_auto_flow": null,
            "grid_area": null,
            "grid_template_columns": null,
            "flex": null,
            "_model_name": "LayoutModel",
            "justify_items": null,
            "grid_row": null,
            "max_height": null,
            "align_content": null,
            "visibility": null,
            "align_self": null,
            "height": null,
            "min_height": null,
            "padding": null,
            "grid_auto_rows": null,
            "grid_gap": null,
            "max_width": null,
            "order": null,
            "_view_module_version": "1.2.0",
            "grid_template_areas": null,
            "object_position": null,
            "object_fit": null,
            "grid_auto_columns": null,
            "margin": null,
            "display": null,
            "left": null
          }
        },
        "230271efc9854d99916df566f6ed6a52": {
          "model_module": "@jupyter-widgets/controls",
          "model_name": "FloatProgressModel",
          "state": {
            "_view_name": "ProgressView",
            "style": "IPY_MODEL_48b7e6c35f6f4a3f89bd6be90bec1133",
            "_dom_classes": [],
            "description": "100%",
            "_model_name": "FloatProgressModel",
            "bar_style": "success",
            "max": 54,
            "_view_module": "@jupyter-widgets/controls",
            "_model_module_version": "1.5.0",
            "value": 54,
            "_view_count": null,
            "_view_module_version": "1.5.0",
            "orientation": "horizontal",
            "min": 0,
            "description_tooltip": null,
            "_model_module": "@jupyter-widgets/controls",
            "layout": "IPY_MODEL_03bd08c4b824433ba6e3c6c131131fd0"
          }
        },
        "e979170d698c4c0b84ce974e8e2c651e": {
          "model_module": "@jupyter-widgets/controls",
          "model_name": "HTMLModel",
          "state": {
            "_view_name": "HTMLView",
            "style": "IPY_MODEL_a23a73dc89b341928df2d1a926dd8924",
            "_dom_classes": [],
            "description": "",
            "_model_name": "HTMLModel",
            "placeholder": "​",
            "_view_module": "@jupyter-widgets/controls",
            "_model_module_version": "1.5.0",
            "value": " 54/54 [00:05&lt;00:00,  9.48it/s]",
            "_view_count": null,
            "_view_module_version": "1.5.0",
            "description_tooltip": null,
            "_model_module": "@jupyter-widgets/controls",
            "layout": "IPY_MODEL_41283f220b7e4f14a061ed3a3077997e"
          }
        },
        "48b7e6c35f6f4a3f89bd6be90bec1133": {
          "model_module": "@jupyter-widgets/controls",
          "model_name": "ProgressStyleModel",
          "state": {
            "_view_name": "StyleView",
            "_model_name": "ProgressStyleModel",
            "description_width": "initial",
            "_view_module": "@jupyter-widgets/base",
            "_model_module_version": "1.5.0",
            "_view_count": null,
            "_view_module_version": "1.2.0",
            "bar_color": null,
            "_model_module": "@jupyter-widgets/controls"
          }
        },
        "03bd08c4b824433ba6e3c6c131131fd0": {
          "model_module": "@jupyter-widgets/base",
          "model_name": "LayoutModel",
          "state": {
            "_view_name": "LayoutView",
            "grid_template_rows": null,
            "right": null,
            "justify_content": null,
            "_view_module": "@jupyter-widgets/base",
            "overflow": null,
            "_model_module_version": "1.2.0",
            "_view_count": null,
            "flex_flow": null,
            "width": null,
            "min_width": null,
            "border": null,
            "align_items": null,
            "bottom": null,
            "_model_module": "@jupyter-widgets/base",
            "top": null,
            "grid_column": null,
            "overflow_y": null,
            "overflow_x": null,
            "grid_auto_flow": null,
            "grid_area": null,
            "grid_template_columns": null,
            "flex": null,
            "_model_name": "LayoutModel",
            "justify_items": null,
            "grid_row": null,
            "max_height": null,
            "align_content": null,
            "visibility": null,
            "align_self": null,
            "height": null,
            "min_height": null,
            "padding": null,
            "grid_auto_rows": null,
            "grid_gap": null,
            "max_width": null,
            "order": null,
            "_view_module_version": "1.2.0",
            "grid_template_areas": null,
            "object_position": null,
            "object_fit": null,
            "grid_auto_columns": null,
            "margin": null,
            "display": null,
            "left": null
          }
        },
        "a23a73dc89b341928df2d1a926dd8924": {
          "model_module": "@jupyter-widgets/controls",
          "model_name": "DescriptionStyleModel",
          "state": {
            "_view_name": "StyleView",
            "_model_name": "DescriptionStyleModel",
            "description_width": "",
            "_view_module": "@jupyter-widgets/base",
            "_model_module_version": "1.5.0",
            "_view_count": null,
            "_view_module_version": "1.2.0",
            "_model_module": "@jupyter-widgets/controls"
          }
        },
        "41283f220b7e4f14a061ed3a3077997e": {
          "model_module": "@jupyter-widgets/base",
          "model_name": "LayoutModel",
          "state": {
            "_view_name": "LayoutView",
            "grid_template_rows": null,
            "right": null,
            "justify_content": null,
            "_view_module": "@jupyter-widgets/base",
            "overflow": null,
            "_model_module_version": "1.2.0",
            "_view_count": null,
            "flex_flow": null,
            "width": null,
            "min_width": null,
            "border": null,
            "align_items": null,
            "bottom": null,
            "_model_module": "@jupyter-widgets/base",
            "top": null,
            "grid_column": null,
            "overflow_y": null,
            "overflow_x": null,
            "grid_auto_flow": null,
            "grid_area": null,
            "grid_template_columns": null,
            "flex": null,
            "_model_name": "LayoutModel",
            "justify_items": null,
            "grid_row": null,
            "max_height": null,
            "align_content": null,
            "visibility": null,
            "align_self": null,
            "height": null,
            "min_height": null,
            "padding": null,
            "grid_auto_rows": null,
            "grid_gap": null,
            "max_width": null,
            "order": null,
            "_view_module_version": "1.2.0",
            "grid_template_areas": null,
            "object_position": null,
            "object_fit": null,
            "grid_auto_columns": null,
            "margin": null,
            "display": null,
            "left": null
          }
        }
      }
    }
  },
  "cells": [
    {
      "cell_type": "code",
      "metadata": {
        "id": "qlNvgnoc8jBc",
        "colab": {
          "base_uri": "https://localhost:8080/"
        },
        "outputId": "39532f96-f99b-4247-9778-1e2a04ea7906"
      },
      "source": [
        "from google.colab import drive\n",
        "drive.mount(\"/content/drive\")\n",
        "import csv\n",
        "import re\n",
        "import tqdm.notebook as tq\n",
        "import pickle\n",
        "import pandas as pd"
      ],
      "execution_count": 1,
      "outputs": [
        {
          "output_type": "stream",
          "text": [
            "Mounted at /content/drive\n"
          ],
          "name": "stdout"
        }
      ]
    },
    {
      "cell_type": "code",
      "metadata": {
        "id": "xpmoxGkn83hN"
      },
      "source": [
        "data_path = '/content/drive/Shareddrives/LOPE/產學合作/中華電信/2020-2021/指向情緒案/data/annot_data/annotated_data_bkup/20210412/aspect_tuples_20210412.1.csv'\n",
        "\n",
        "with open(data_path, 'r', encoding='utf-8') as f:\n",
        "  rows = csv.reader(f, delimiter = ',')\n",
        "  headers = next(rows)\n",
        "  all_data = [ row for row in rows ]\n",
        "  evaltext = [ data[6] for data in all_data if data[3] == 'True'] # filter evaltext whose is_context is True"
      ],
      "execution_count": 2,
      "outputs": []
    },
    {
      "cell_type": "code",
      "metadata": {
        "id": "M55eZ_kxaLjm"
      },
      "source": [
        "construction_path = '/content/drive/Shareddrives/LOPE/產學合作/中華電信/2020-2021/指向情緒案/sentiment-construction-list/data/constructions_0415.csv'\n",
        "\n",
        "with open(construction_path) as f:\n",
        "    constructions = [ row.strip() for row in f ]"
      ],
      "execution_count": 29,
      "outputs": []
    },
    {
      "cell_type": "code",
      "metadata": {
        "id": "0MkGEgITUoVB"
      },
      "source": [
        "noise_path = '/content/drive/Shareddrives/LOPE/產學合作/中華電信/2020-2021/指向情緒案/data/annot_data/annotated_data_bkup/20210412/noise_pairs_20210412.pkl'\n",
        "\n",
        "with open(noise_path, 'rb') as f:\n",
        "  noise = pickle.load(f)\n",
        "  noise_text = [ data[0] for data in noise ]"
      ],
      "execution_count": 3,
      "outputs": []
    },
    {
      "cell_type": "code",
      "metadata": {
        "id": "E1Iiw0xPVv83"
      },
      "source": [
        "seeds_path = '/content/drive/Shareddrives/LOPE/產學合作/中華電信/2020-2021/指向情緒案/sentiment-construction-list/data/seeds.csv'\n",
        "\n",
        "with open(seeds_path, 'r', encoding='utf-8') as f:\n",
        "  rows = csv.reader(f, delimiter = ',')\n",
        "  seeds = [ ' '.join(row) for row in rows ]\n",
        "\n",
        "seeds_pat = \"(%s)\" % \"|\".join(seeds)"
      ],
      "execution_count": 24,
      "outputs": []
    },
    {
      "cell_type": "code",
      "metadata": {
        "id": "anbnGT7wkK6a"
      },
      "source": [
        "# find matched seeds in evaltext\n",
        "matched_seeds = []\n",
        "\n",
        "for text in evaltext:\n",
        "  for seed in seeds:\n",
        "    if seed in text:\n",
        "      matched_seeds.append(seed)\n",
        "\n",
        "matched_seeds_pat = re.compile(\"(%s)\" % \"|\".join(matched_seeds))"
      ],
      "execution_count": 17,
      "outputs": []
    },
    {
      "cell_type": "code",
      "metadata": {
        "id": "8hHAOhVVkxJy"
      },
      "source": [
        "# replace seeds in evaltext with `__SLOT__` to create new constructions\n",
        "all_new_cnstr = []\n",
        "for text in evaltext:\n",
        "  new_cnstr = re.sub(matched_seeds_pat, '__SLOT__', text)\n",
        "  all_new_cnstr.append(new_cnstr)"
      ],
      "execution_count": 6,
      "outputs": []
    },
    {
      "cell_type": "code",
      "metadata": {
        "id": "A1vvOHErlT-o",
        "colab": {
          "base_uri": "https://localhost:8080/",
          "height": 66,
          "referenced_widgets": [
            "adfbf99acd684174a269ef9c69b40777",
            "57a4e402047f4014baa6bd40450992e3",
            "ff5562f8659b4eb197e3c6c0fa301fee",
            "921898351ca049cabb63e2f6a8f109ab",
            "a88bd5cb56ba4f36817a51326fc0e006",
            "e783c73b0e6b442584e8ccf1afa28648",
            "1f3e4620eb4e451ab8b59da02a6839da",
            "2d1193316a8b4137abaef4bfa7317909"
          ]
        },
        "outputId": "e93a8828-5a94-48f5-fccf-a38d00eb668f"
      },
      "source": [
        "# find if new constructions are found in noise_text\n",
        "matched = {}\n",
        "matched_count = {}\n",
        "for k in tq.tqdm(all_new_cnstr):\n",
        "  ori_key = k\n",
        "  k = re.escape(k)\n",
        "  k = k.replace('__SLOT__', seeds_pat) # replace `__SLOT__` with the seed if there is any\n",
        "  try:\n",
        "    pat = re.compile(k)\n",
        "  except:\n",
        "    print(k)\n",
        "    break\n",
        "  \n",
        "  # Get all cnstr from all comments\n",
        "  candidates = set()\n",
        "  for text in noise_text:\n",
        "    for c in pat.finditer(text): candidates.add(c[0])\n",
        "  \n",
        "  # Count all cnstr\n",
        "  matched_count[ori_key] = len(candidates)\n",
        "\n",
        "  if len(candidates) > 1:\n",
        "    if ori_key not in matched: matched[ori_key] = []\n",
        "    for c in candidates: matched[ori_key].append(c)"
      ],
      "execution_count": 25,
      "outputs": [
        {
          "output_type": "display_data",
          "data": {
            "application/vnd.jupyter.widget-view+json": {
              "model_id": "adfbf99acd684174a269ef9c69b40777",
              "version_minor": 0,
              "version_major": 2
            },
            "text/plain": [
              "HBox(children=(FloatProgress(value=0.0, max=435.0), HTML(value='')))"
            ]
          },
          "metadata": {
            "tags": []
          }
        },
        {
          "output_type": "stream",
          "text": [
            "\n"
          ],
          "name": "stdout"
        }
      ]
    },
    {
      "cell_type": "code",
      "metadata": {
        "colab": {
          "base_uri": "https://localhost:8080/",
          "height": 168
        },
        "id": "g2Ch61HRT0_S",
        "outputId": "4c0aaab7-41b7-4955-ea46-3be00de4bc64"
      },
      "source": [
        "# show all new cnstr found in noise_text\n",
        "df = pd.DataFrame([matched_count, matched]).T\n",
        "df.columns = ['count', 'examples']\n",
        "df = df[df['count']>1]\n",
        "df = df.sort_values(by='count', ascending=False)\n",
        "df"
      ],
      "execution_count": 27,
      "outputs": [
        {
          "output_type": "execute_result",
          "data": {
            "text/html": [
              "<div>\n",
              "<style scoped>\n",
              "    .dataframe tbody tr th:only-of-type {\n",
              "        vertical-align: middle;\n",
              "    }\n",
              "\n",
              "    .dataframe tbody tr th {\n",
              "        vertical-align: top;\n",
              "    }\n",
              "\n",
              "    .dataframe thead th {\n",
              "        text-align: right;\n",
              "    }\n",
              "</style>\n",
              "<table border=\"1\" class=\"dataframe\">\n",
              "  <thead>\n",
              "    <tr style=\"text-align: right;\">\n",
              "      <th></th>\n",
              "      <th>count</th>\n",
              "      <th>examples</th>\n",
              "    </tr>\n",
              "  </thead>\n",
              "  <tbody>\n",
              "    <tr>\n",
              "      <th>__SLOT__</th>\n",
              "      <td>474</td>\n",
              "      <td>[請私訊, 地下室, 網外, 拆台, 兩格, 山郊, 無框, speedtest, 連不上,...</td>\n",
              "    </tr>\n",
              "    <tr>\n",
              "      <th>都__SLOT__</th>\n",
              "      <td>18</td>\n",
              "      <td>[都訊號, 都超爛, 都續約, 都市區, 都1399, 都吃到飽, 都沒訊號, 都有訊號, ...</td>\n",
              "    </tr>\n",
              "    <tr>\n",
              "      <th>__SLOT__11</th>\n",
              "      <td>10</td>\n",
              "      <td>[預付卡11, 儲11, 遠傳11, LM11, iphone11, 合約11, 網外11,...</td>\n",
              "    </tr>\n",
              "    <tr>\n",
              "      <th>__SLOT__最快</th>\n",
              "      <td>3</td>\n",
              "      <td>[速度最快, 88最快, 吃到飽最快]</td>\n",
              "    </tr>\n",
              "  </tbody>\n",
              "</table>\n",
              "</div>"
            ],
            "text/plain": [
              "           count                                           examples\n",
              "__SLOT__     474  [請私訊, 地下室, 網外, 拆台, 兩格, 山郊, 無框, speedtest, 連不上,...\n",
              "都__SLOT__     18  [都訊號, 都超爛, 都續約, 都市區, 都1399, 都吃到飽, 都沒訊號, 都有訊號, ...\n",
              "__SLOT__11    10  [預付卡11, 儲11, 遠傳11, LM11, iphone11, 合約11, 網外11,...\n",
              "__SLOT__最快     3                                [速度最快, 88最快, 吃到飽最快]"
            ]
          },
          "metadata": {
            "tags": []
          },
          "execution_count": 27
        }
      ]
    },
    {
      "cell_type": "code",
      "metadata": {
        "colab": {
          "base_uri": "https://localhost:8080/",
          "height": 66,
          "referenced_widgets": [
            "1a906efbfe3f4582ac02b608be5fda00",
            "76ca349b3e04484f9416d0c8322dd9e9",
            "230271efc9854d99916df566f6ed6a52",
            "e979170d698c4c0b84ce974e8e2c651e",
            "48b7e6c35f6f4a3f89bd6be90bec1133",
            "03bd08c4b824433ba6e3c6c131131fd0",
            "a23a73dc89b341928df2d1a926dd8924",
            "41283f220b7e4f14a061ed3a3077997e"
          ]
        },
        "id": "K7l_czt-UPG6",
        "outputId": "fb9f6222-6cf6-44f8-9325-743f140d30ee"
      },
      "source": [
        "# find if original constructions are found in noise_text\n",
        "matched = {}\n",
        "matched_con = {}\n",
        "for k in tq.tqdm(constructions):\n",
        "  pat = re.compile(k)\n",
        "  if k not in matched: matched[k] = []\n",
        "  \n",
        "  # Get all cnstr from all comments\n",
        "  candidates = set()\n",
        "  for cmt in noise_text:\n",
        "    for c in pat.finditer(cmt): candidates.add(c[0])\n",
        "  \n",
        "  # Count all cnstr\n",
        "  matched_con[k] = len(candidates)\n",
        "\n",
        "  if len(candidates) > 1:\n",
        "    for c in candidates: matched[k].append(c)"
      ],
      "execution_count": 30,
      "outputs": [
        {
          "output_type": "display_data",
          "data": {
            "application/vnd.jupyter.widget-view+json": {
              "model_id": "1a906efbfe3f4582ac02b608be5fda00",
              "version_minor": 0,
              "version_major": 2
            },
            "text/plain": [
              "HBox(children=(FloatProgress(value=0.0, max=54.0), HTML(value='')))"
            ]
          },
          "metadata": {
            "tags": []
          }
        },
        {
          "output_type": "stream",
          "text": [
            "\n"
          ],
          "name": "stdout"
        }
      ]
    },
    {
      "cell_type": "code",
      "metadata": {
        "colab": {
          "base_uri": "https://localhost:8080/",
          "height": 499
        },
        "id": "ImgfVpd5a5XI",
        "outputId": "584fdaae-b304-445a-b8f7-41423414a934"
      },
      "source": [
        "# show all original cnstr found in noise_text\n",
        "df = pd.DataFrame([matched_con, matched]).T\n",
        "df.columns = ['count', 'examples']\n",
        "df = df[df['count'] >1]\n",
        "df = df.sort_values(by='count', ascending=False)\n",
        "df"
      ],
      "execution_count": 36,
      "outputs": [
        {
          "output_type": "execute_result",
          "data": {
            "text/html": [
              "<div>\n",
              "<style scoped>\n",
              "    .dataframe tbody tr th:only-of-type {\n",
              "        vertical-align: middle;\n",
              "    }\n",
              "\n",
              "    .dataframe tbody tr th {\n",
              "        vertical-align: top;\n",
              "    }\n",
              "\n",
              "    .dataframe thead th {\n",
              "        text-align: right;\n",
              "    }\n",
              "</style>\n",
              "<table border=\"1\" class=\"dataframe\">\n",
              "  <thead>\n",
              "    <tr style=\"text-align: right;\">\n",
              "      <th></th>\n",
              "      <th>count</th>\n",
              "      <th>examples</th>\n",
              "    </tr>\n",
              "  </thead>\n",
              "  <tbody>\n",
              "    <tr>\n",
              "      <th>都\\w+了\\b</th>\n",
              "      <td>62</td>\n",
              "      <td>[都跟客人說去超商問店員就好了, 都好了, 都要搶開台5g了, 都跑不到10M了, 都不願意...</td>\n",
              "    </tr>\n",
              "    <tr>\n",
              "      <th>不是\\w+.?是\\w+\\b</th>\n",
              "      <td>25</td>\n",
              "      <td>[不是最低但是已經算低了, 不是一樣是不限速吃到飽剛好我剩下的約期差不多也是12個月體驗完也...</td>\n",
              "    </tr>\n",
              "    <tr>\n",
              "      <th>越\\w越\\w+\\b</th>\n",
              "      <td>14</td>\n",
              "      <td>[越來越期待5G帶來的速度了, 越來越少營收變多但用戶的使用品質會越來越下降, 越多越爽, ...</td>\n",
              "    </tr>\n",
              "    <tr>\n",
              "      <th>也太\\w+了?吧?\\b</th>\n",
              "      <td>12</td>\n",
              "      <td>[也太便宜wwwww, 也太大, 也太慢了吧, 也太好用了吧, 也太不給力了, 也太晚了吧標...</td>\n",
              "    </tr>\n",
              "    <tr>\n",
              "      <th>直接\\w+了\\b</th>\n",
              "      <td>12</td>\n",
              "      <td>[直接去那間辦還行吧不過不是住附近的算上交通費就不划算了, 直接降到499了, 直接辦好了,...</td>\n",
              "    </tr>\n",
              "    <tr>\n",
              "      <th>坐等\\w+\\b</th>\n",
              "      <td>8</td>\n",
              "      <td>[坐等台之星5G開台, 坐等5g, 坐等299, 坐等熱點無限方案, 坐等老大先開台, 坐等...</td>\n",
              "    </tr>\n",
              "    <tr>\n",
              "      <th>\\b\\w+到一個\\w+\\b</th>\n",
              "      <td>7</td>\n",
              "      <td>[還有不到一個月到期, 手上這支剛買不到一個月, 亞太還要辦到一個月超過300的方案, 剛購...</td>\n",
              "    </tr>\n",
              "    <tr>\n",
              "      <th>(真的)?有夠\\w+的?\\b</th>\n",
              "      <td>4</td>\n",
              "      <td>[有夠兇, 有夠貴, 有夠爛, 有夠大昨天有小豬說台廠已經出局]</td>\n",
              "    </tr>\n",
              "    <tr>\n",
              "      <th>\\b\\w+死了</th>\n",
              "      <td>4</td>\n",
              "      <td>[一個月1399貴死了, 網路慢死了, 一句話就能把大家都打死了, 卡到炸爛死了]</td>\n",
              "    </tr>\n",
              "    <tr>\n",
              "      <th>\\b\\w+不少\\b</th>\n",
              "      <td>4</td>\n",
              "      <td>[k還多不少, 覺得中華這二年基地台建設不少, 的比例應該不少, 688通話送不少]</td>\n",
              "    </tr>\n",
              "    <tr>\n",
              "      <th>能多\\w+\\b</th>\n",
              "      <td>3</td>\n",
              "      <td>[能多看那些影片, 能多花點時間擬定資費或方案內容, 能多便宜個幾千元]</td>\n",
              "    </tr>\n",
              "    <tr>\n",
              "      <th>真的有?\\w+到\\b</th>\n",
              "      <td>2</td>\n",
              "      <td>[真的搶得到, 真的跟台哥大聯手衝1002019辦台星雙11的將爽到]</td>\n",
              "    </tr>\n",
              "    <tr>\n",
              "      <th>(很|也)夠\\w+了\\b</th>\n",
              "      <td>2</td>\n",
              "      <td>[很夠用就直接辦好了, 很夠用了]</td>\n",
              "    </tr>\n",
              "    <tr>\n",
              "      <th>我\\s?(ok|OK|Ok).?\\w先\\w+\\b</th>\n",
              "      <td>2</td>\n",
              "      <td>[我OK，您先用, 我OK，你先辦]</td>\n",
              "    </tr>\n",
              "    <tr>\n",
              "      <th>垃圾\\w+\\b</th>\n",
              "      <td>2</td>\n",
              "      <td>[垃圾可以回去你國啊xd, 垃圾標題]</td>\n",
              "    </tr>\n",
              "  </tbody>\n",
              "</table>\n",
              "</div>"
            ],
            "text/plain": [
              "                         count                                           examples\n",
              "都\\w+了\\b                     62  [都跟客人說去超商問店員就好了, 都好了, 都要搶開台5g了, 都跑不到10M了, 都不願意...\n",
              "不是\\w+.?是\\w+\\b               25  [不是最低但是已經算低了, 不是一樣是不限速吃到飽剛好我剩下的約期差不多也是12個月體驗完也...\n",
              "越\\w越\\w+\\b                   14  [越來越期待5G帶來的速度了, 越來越少營收變多但用戶的使用品質會越來越下降, 越多越爽, ...\n",
              "也太\\w+了?吧?\\b                 12  [也太便宜wwwww, 也太大, 也太慢了吧, 也太好用了吧, 也太不給力了, 也太晚了吧標...\n",
              "直接\\w+了\\b                    12  [直接去那間辦還行吧不過不是住附近的算上交通費就不划算了, 直接降到499了, 直接辦好了,...\n",
              "坐等\\w+\\b                      8  [坐等台之星5G開台, 坐等5g, 坐等299, 坐等熱點無限方案, 坐等老大先開台, 坐等...\n",
              "\\b\\w+到一個\\w+\\b                7  [還有不到一個月到期, 手上這支剛買不到一個月, 亞太還要辦到一個月超過300的方案, 剛購...\n",
              "(真的)?有夠\\w+的?\\b               4                   [有夠兇, 有夠貴, 有夠爛, 有夠大昨天有小豬說台廠已經出局]\n",
              "\\b\\w+死了                      4          [一個月1399貴死了, 網路慢死了, 一句話就能把大家都打死了, 卡到炸爛死了]\n",
              "\\b\\w+不少\\b                    4         [k還多不少, 覺得中華這二年基地台建設不少, 的比例應該不少, 688通話送不少]\n",
              "能多\\w+\\b                      3               [能多看那些影片, 能多花點時間擬定資費或方案內容, 能多便宜個幾千元]\n",
              "真的有?\\w+到\\b                   2                [真的搶得到, 真的跟台哥大聯手衝1002019辦台星雙11的將爽到]\n",
              "(很|也)夠\\w+了\\b                 2                                  [很夠用就直接辦好了, 很夠用了]\n",
              "我\\s?(ok|OK|Ok).?\\w先\\w+\\b     2                                 [我OK，您先用, 我OK，你先辦]\n",
              "垃圾\\w+\\b                      2                                [垃圾可以回去你國啊xd, 垃圾標題]"
            ]
          },
          "metadata": {
            "tags": []
          },
          "execution_count": 36
        }
      ]
    }
  ]
}